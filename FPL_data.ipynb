#!/usr/bin/env python
# coding: utf-8

import os
import pandas as pd
import requests
from datetime import datetime
import json

def get(url):
    response = requests.get(url)
    return json.loads(response.content)

response = get('https://fantasy.premierleague.com/api/bootstrap-static/')
response.keys()

players = response['elements']
teams = response['teams']
events = response['events']

players_df = pd.DataFrame(players)
teams_df = pd.DataFrame(teams)
events_df = pd.DataFrame(events)

# Some basic cleaning
events_df['deadline_time'] = pd.to_datetime(events_df['deadline_time'])
events_df['deadline_time'] = events_df['deadline_time'].dt.tz_localize(None)

# Save to files
players_df.to_csv (r'C:\Users\danie\OneDrive\Documents\Python Scripts\FPL API\players_df.csv', index = False, header=True)
teams_df.to_csv (r'C:\Users\danie\OneDrive\Documents\Python Scripts\FPL API\teams_df.csv', index = False, header=True)
events_df.to_csv (r'C:\Users\danie\OneDrive\Documents\Python Scripts\FPL API\events_df.csv', index = False, header=True)

#### Getting player summary data
def get_player_summary(player_id):
    url = 'https://fantasy.premierleague.com/api/element-summary/' + str(player_id) + '/' 
    response = get(url)
    fixtures = response['fixtures']
    history = response['history']
    history_past = response['history_past']
    return [fixtures, history, history_past]

#### Get my fantasy team lineup
now = datetime.now()
my_team_id = '204252'
current_gw = events_df[events_df['deadline_time'] < now]['id'].max()

my_team_url = 'https://fantasy.premierleague.com/api/entry/{}/event/{}/picks/'.format(my_team_id,str(current_gw))

my_team = get(my_team_url)['picks']
my_team_df = pd.DataFrame(my_team)

my_team_df.to_csv (r'C:\Users\danie\OneDrive\Documents\Python Scripts\FPL API\my_team_df.csv', index = False, header=True)


