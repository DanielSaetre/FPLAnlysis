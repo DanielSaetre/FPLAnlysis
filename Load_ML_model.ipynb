{
 "metadata": {
  "language_info": {
   "codemirror_mode": {
    "name": "ipython",
    "version": 3
   },
   "file_extension": ".py",
   "mimetype": "text/x-python",
   "name": "python",
   "nbconvert_exporter": "python",
   "pygments_lexer": "ipython3",
   "version": "3.8.5-final"
  },
  "orig_nbformat": 2,
  "kernelspec": {
   "name": "Python 3.8.5 32-bit",
   "display_name": "Python 3.8.5 32-bit",
   "metadata": {
    "interpreter": {
     "hash": "05b5a6475f42cc6236057d98c82fcb9314bab0d4a8cd5c78487612fc2a4f7993"
    }
   }
  }
 },
 "nbformat": 4,
 "nbformat_minor": 2,
 "cells": [
  {
   "cell_type": "code",
   "execution_count": 1,
   "metadata": {},
   "outputs": [],
   "source": [
    "# Load libraries\n",
    "from sklearn.ensemble import RandomForestClassifier\n",
    "from sklearn import datasets\n",
    "import joblib"
   ]
  },
  {
   "cell_type": "code",
   "execution_count": 2,
   "metadata": {},
   "outputs": [],
   "source": [
    "model = joblib.load(\"Trained_PlayerAnalysis.pkl\")"
   ]
  },
  {
   "cell_type": "code",
   "execution_count": 3,
   "metadata": {},
   "outputs": [],
   "source": [
    "\n",
    "# new_observation = [\n",
    "#     'player_id',\n",
    "#     'minutes', \n",
    "#     'PPG', \n",
    "#     'PP90', \n",
    "#     'team_id_1', \n",
    "#     'team_id_2', \n",
    "#     'team_id_3', \n",
    "#     'team_id_4', \n",
    "#     'team_id_5', \n",
    "#     'team_id_6', \n",
    "#     'team_id_7', \n",
    "#     'team_id_8', \n",
    "#     'team_id_9', \n",
    "#     'team_id_10', \n",
    "#     'team_id_11', \n",
    "#     'team_id_12', \n",
    "#     'team_id_13', \n",
    "#     'team_id_14', \n",
    "#     'team_id_15', \n",
    "#     'team_id_16', \n",
    "#     'team_id_17', \n",
    "#     'team_id_18', \n",
    "#     'team_id_19', \n",
    "#     'team_id_20', \n",
    "#     'opponent_team_id_1', \n",
    "#     'opponent_team_id_2', \n",
    "#     'opponent_team_id_3', \n",
    "#     'opponent_team_id_4', \n",
    "#     'opponent_team_id_5', \n",
    "#     'opponent_team_id_6', \n",
    "#     'opponent_team_id_7', \n",
    "#     'opponent_team_id_8', \n",
    "#     'opponent_team_id_9', \n",
    "#     'opponent_team_id_10', \n",
    "#     'opponent_team_id_11', \n",
    "#     'opponent_team_id_12', \n",
    "#     'opponent_team_id_13', \n",
    "#     'opponent_team_id_14', \n",
    "#     'opponent_team_id_15', \n",
    "#     'opponent_team_id_16', \n",
    "#     'opponent_team_id_17', \n",
    "#     'opponent_team_id_18', \n",
    "#     'opponent_team_id_19', \n",
    "#     'opponent_team_id_20', \n",
    "#     'team_strength_2', \n",
    "#     'team_strength_3', \n",
    "#     'team_strength_4', \n",
    "#     'team_strength_5', \n",
    "#     'player_type_id_1', \n",
    "#     'player_type_id_2', \n",
    "#     'player_type_id_3', \n",
    "#     'player_type_id_4', \n",
    "#     'was_home_False', \n",
    "#     'was_home_True']\n"
   ]
  },
  {
   "cell_type": "code",
   "execution_count": 4,
   "metadata": {},
   "outputs": [],
   "source": [
    "\n",
    "new_player = [\n",
    "    390, #'player_id',\n",
    "    90, #'minutes', \n",
    "    #8, #'PPG', \n",
    "    #8.3, #'PP90', \n",
    "    0, #'team_id_1', \n",
    "    0, #'team_id_2', \n",
    "    0, #'team_id_3', \n",
    "    0, #'team_id_4', \n",
    "    0, #'team_id_5', \n",
    "    0, #'team_id_6', \n",
    "    0, #'team_id_7', \n",
    "    0, #'team_id_8', \n",
    "    0, #'team_id_9', \n",
    "    0, #'team_id_10', \n",
    "    0, #'team_id_11', \n",
    "    0, #'team_id_12', \n",
    "    0, #'team_id_13', \n",
    "    0, #'team_id_14', \n",
    "    0, #'team_id_15', \n",
    "    0, #'team_id_16', \n",
    "    1, #'team_id_17', \n",
    "    0, #'team_id_18', \n",
    "    0, #'team_id_19', \n",
    "    0, #'team_id_20', \n",
    "    0, #'opponent_team_id_1', \n",
    "    0, #'opponent_team_id_2', \n",
    "    0, #'opponent_team_id_3', \n",
    "    0, #'opponent_team_id_4', \n",
    "    0, #'opponent_team_id_5', \n",
    "    0, #'opponent_team_id_6', \n",
    "    0, #'opponent_team_id_7', \n",
    "    0, #'opponent_team_id_8', \n",
    "    0, #'opponent_team_id_9', \n",
    "    0, #'opponent_team_id_10', \n",
    "    1, #'opponent_team_id_11', \n",
    "    0, #'opponent_team_id_12', \n",
    "    0, #'opponent_team_id_13', \n",
    "    0, #'opponent_team_id_14', \n",
    "    0, #'opponent_team_id_15', \n",
    "    0, #'opponent_team_id_16', \n",
    "    0, #'opponent_team_id_17', \n",
    "    0, #'opponent_team_id_18', \n",
    "    0, #'opponent_team_id_19', \n",
    "    0, #'opponent_team_id_20', \n",
    "    0, #'team_strength_2', \n",
    "    0, #'team_strength_3', \n",
    "    1, #'team_strength_4', \n",
    "    0, #'team_strength_5', \n",
    "    0, #'player_type_id_1', \n",
    "    0, #'player_type_id_2', \n",
    "    1, #'player_type_id_3', \n",
    "    0, #'player_type_id_4', \n",
    "    1, #'was_home_False', \n",
    "    0 #'was_home_True']]\n",
    "]"
   ]
  },
  {
   "cell_type": "code",
   "execution_count": 5,
   "metadata": {},
   "outputs": [],
   "source": [
    "player_evaluate = [new_player]"
   ]
  },
  {
   "cell_type": "code",
   "execution_count": 6,
   "metadata": {},
   "outputs": [],
   "source": [
    "predict_player_points = model.predict(player_evaluate)"
   ]
  },
  {
   "cell_type": "code",
   "execution_count": 7,
   "metadata": {},
   "outputs": [
    {
     "output_type": "stream",
     "name": "stdout",
     "text": [
      "Estimated points for this player is: 10 points\n"
     ]
    }
   ],
   "source": [
    "predicted_value = predict_player_points[0]\n",
    "\n",
    "print(\"Estimated points for this player is: {:,.0f}\".format(predicted_value), 'points')\n"
   ]
  },
  {
   "cell_type": "code",
   "execution_count": null,
   "metadata": {},
   "outputs": [],
   "source": []
  },
  {
   "cell_type": "code",
   "execution_count": null,
   "metadata": {},
   "outputs": [],
   "source": []
  }
 ]
}