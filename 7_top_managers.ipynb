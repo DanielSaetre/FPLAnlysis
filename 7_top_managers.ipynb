{
 "cells": [
  {
   "cell_type": "code",
   "execution_count": 1,
   "metadata": {},
   "outputs": [],
   "source": [
    "import requests , json, csv\n",
    "import pandas as pd\n",
    "import os"
   ]
  },
  {
   "cell_type": "code",
   "execution_count": 2,
   "metadata": {},
   "outputs": [],
   "source": [
    "# Season\n",
    "season = '2021-22'\n",
    "\n",
    "source_path = os.getcwd()\n",
    "\n",
    "cleaned_data_path =  os.path.join(source_path, \"data\" , season , \"Cleaned_data\")\n",
    "managers_data_path =  os.path.join(source_path, \"data\" , season , \"managers\")\n"
   ]
  },
  {
   "cell_type": "code",
   "execution_count": 3,
   "metadata": {},
   "outputs": [],
   "source": [
    "\n",
    "\n",
    "# Overall FPL league ID, 314 for 2019/20 season.\n",
    "#overallLeageID = 300792\n",
    "#overallLeageID = 314\n",
    "\n",
    "#Visma FPL\n",
    "LeageID = 1313476\n",
    "\n",
    "#Richie Rich - 1033085\n",
    "#Visma FPL - 1313476\n",
    "\n",
    "# number of GW in 2019/20 season. Done as array to avoid calling api for blank GW 30-38.\n",
    "gameWeeks = list(range(1,39))\n",
    "\n",
    "# adds the top 10 team ID's to this array\n",
    "teamIDarray = []\n",
    "\n",
    "# number of top manager information required.\n",
    "topManagerNumber = 20"
   ]
  },
  {
   "cell_type": "code",
   "execution_count": 4,
   "metadata": {},
   "outputs": [],
   "source": [
    "url = \"https://fantasy.premierleague.com/api/leagues-classic/\"+str(LeageID)+\"/standings/\"\n",
    "\n",
    "response = requests.get(url)\n",
    "data = response.text\n",
    "parsed = json.loads(data)\n",
    "managerParsed = parsed['standings']['results']\n",
    "\n",
    "# open 3 files for writing\n",
    "manager_data = open(os.path.join(managers_data_path, 'top_managers.csv'), 'w', newline='', encoding=\"utf-8\")\n",
    "gw_data = open(os.path.join(managers_data_path, 'top_managers_gwInfo.csv'), 'w', newline='', encoding=\"utf-8\")\n",
    "gw_picks = open(os.path.join(managers_data_path, 'top_managers_gwPicks.csv'), 'w', newline='', encoding=\"utf-8\")"
   ]
  },
  {
   "cell_type": "code",
   "execution_count": 5,
   "metadata": {},
   "outputs": [],
   "source": [
    "# create the 3 csv writer objects\n",
    "csvwriter1 = csv.writer(manager_data)\n",
    "csvwriter2 = csv.writer(gw_data)\n",
    "csvwriter3 = csv.writer(gw_picks)\n",
    "\n",
    "#get csv of top 10 manager information and write to top_managers.csv\n",
    "count = 0\n",
    "for manager in managerParsed:\n",
    "\tif count == 0:\n",
    "\t\theader = ['rank','entry','player_name','entry_name','total']\n",
    "\t\tcsvwriter1.writerow(header)\n",
    "\t\tcount += 1\n",
    "\t\n",
    "\tif count <= topManagerNumber:\n",
    "\t\tcsvwriter1.writerow([manager['rank'],manager['entry'],manager['player_name'],\n",
    "\t\t\t\t\t\tmanager['entry_name'],manager['total']])\n",
    "\n",
    "\t\tcount +=1\n",
    "\t\tteamIDarray.append(manager['entry'])\n",
    "\n",
    "# for each teamID in the top 10, call the api and update both top_managers_gwInfo.csv and top_managers_gwPicks.csv\n",
    "count1 = 0\n",
    "count2 = 0\n",
    "for teamID in teamIDarray:\n",
    "\tfor x in gameWeeks:\n",
    "\t\turl = \"https://fantasy.premierleague.com/api/entry/\"+str(teamID)+\"/event/\"+str(x)+\"/picks/\"\n",
    "\t\tresponse = requests.get(url)\n",
    "\t\tdata = response.text\n",
    "\t\tparsed = json.loads(data)\n",
    "\n",
    "\t\t# write data to top_managers_gwInfo.csv\n",
    "\t\tif count1 == 0:\n",
    "\t\t\theader = ['team_id','gw','points','bench','gw_rank','transfers','hits','total_points',\n",
    "\t\t\t\t'overall_ank','team_value','chip']\n",
    "\n",
    "\t\t\tcsvwriter2.writerow(header)\n",
    "\t\t\tcount1 += 1\n",
    "\t\ttry:\n",
    "\t\t\tcsvwriter2.writerow([teamID,x, parsed['entry_history']['points'], parsed['entry_history']['points_on_bench'],\n",
    "\t\t\t\t\t\t\tparsed['entry_history']['rank'], parsed['entry_history']['event_transfers'],\n",
    "\t\t\t\t\t\t\tparsed['entry_history']['event_transfers_cost'], parsed['entry_history']['total_points'],\n",
    "\t\t\t\t\t\t\tparsed['entry_history']['overall_rank'], int(parsed['entry_history']['value'])/10, parsed['active_chip']])\n",
    "\t\texcept:\n",
    "\t\t\tcontinue\n",
    "\n",
    "\t\t# write data to top_managers_gwPicks.csv\n",
    "\t\tfor i in range(len(parsed['picks'])):\n",
    "\t\t\tif count2 == 0:\n",
    "\t\t\t\theader = ['team_id','gw','id','position','multiplier']\n",
    "\t\t\t\tcsvwriter3.writerow(header)\n",
    "\t\t\t\tcount2 += 1\n",
    "\t\t\tcsvwriter3.writerow([teamID, x, parsed['picks'][i]['element'], parsed['picks'][i]['position'], parsed['picks'][i]['multiplier']])\n",
    "\n",
    "\n"
   ]
  },
  {
   "cell_type": "code",
   "execution_count": 6,
   "metadata": {},
   "outputs": [
    {
     "data": {
      "text/html": [
       "<div>\n",
       "<style scoped>\n",
       "    .dataframe tbody tr th:only-of-type {\n",
       "        vertical-align: middle;\n",
       "    }\n",
       "\n",
       "    .dataframe tbody tr th {\n",
       "        vertical-align: top;\n",
       "    }\n",
       "\n",
       "    .dataframe thead th {\n",
       "        text-align: right;\n",
       "    }\n",
       "</style>\n",
       "<table border=\"1\" class=\"dataframe\">\n",
       "  <thead>\n",
       "    <tr style=\"text-align: right;\">\n",
       "      <th></th>\n",
       "      <th>player_id</th>\n",
       "      <th>web_name</th>\n",
       "    </tr>\n",
       "  </thead>\n",
       "  <tbody>\n",
       "    <tr>\n",
       "      <th>0</th>\n",
       "      <td>1</td>\n",
       "      <td>Leno</td>\n",
       "    </tr>\n",
       "    <tr>\n",
       "      <th>1</th>\n",
       "      <td>2</td>\n",
       "      <td>Rúnarsson</td>\n",
       "    </tr>\n",
       "    <tr>\n",
       "      <th>2</th>\n",
       "      <td>3</td>\n",
       "      <td>Willian</td>\n",
       "    </tr>\n",
       "    <tr>\n",
       "      <th>3</th>\n",
       "      <td>4</td>\n",
       "      <td>Aubameyang</td>\n",
       "    </tr>\n",
       "    <tr>\n",
       "      <th>4</th>\n",
       "      <td>5</td>\n",
       "      <td>Cédric</td>\n",
       "    </tr>\n",
       "  </tbody>\n",
       "</table>\n",
       "</div>"
      ],
      "text/plain": [
       "   player_id    web_name\n",
       "0          1        Leno\n",
       "1          2   Rúnarsson\n",
       "2          3     Willian\n",
       "3          4  Aubameyang\n",
       "4          5      Cédric"
      ]
     },
     "execution_count": 6,
     "metadata": {},
     "output_type": "execute_result"
    }
   ],
   "source": [
    "df1 = pd.read_csv(os.path.join(cleaned_data_path, 'all_players.csv')) \n",
    "df2 = df1[['player_id' , 'web_name']]\n",
    "df2.head()"
   ]
  },
  {
   "cell_type": "code",
   "execution_count": 8,
   "metadata": {},
   "outputs": [],
   "source": [
    "manager_data.close()\n",
    "gw_data.close()\n",
    "gw_picks.close()\n",
    "\n",
    "# do some formatting on top_managers_gwPicks by adding the name of the player picked from player_idlist.csv\n",
    "df = pd.read_csv(os.path.join(managers_data_path, 'top_managers_gwPicks.csv'))\n",
    "df1 = pd.read_csv(os.path.join(cleaned_data_path, 'all_players.csv')) \n",
    "df1 = df1[['player_id' , 'web_name']]\n",
    "\n",
    "\n",
    "merged = df.merge(df1, left_on='id', right_on='player_id')\n",
    "merged.drop('id', axis=1, inplace=True)\n",
    "merged.sort_values(by=['team_id', 'gw', 'position'], inplace = True)\n",
    "merged.head(50)\n",
    "merged.to_csv(os.path.join(managers_data_path, 'top_managers_gwPicks_cleaned.csv'),index=False)"
   ]
  },
  {
   "cell_type": "code",
   "execution_count": null,
   "metadata": {},
   "outputs": [],
   "source": []
  }
 ],
 "metadata": {
  "interpreter": {
   "hash": "6e56ddf245586699e4e98d103f601e3ba8b7b7998b3ab899047dd176a67704e7"
  },
  "kernelspec": {
   "display_name": "Python 3.8.3 64-bit (conda)",
   "language": "python",
   "name": "python3"
  },
  "language_info": {
   "codemirror_mode": {
    "name": "ipython",
    "version": 3
   },
   "file_extension": ".py",
   "mimetype": "text/x-python",
   "name": "python",
   "nbconvert_exporter": "python",
   "pygments_lexer": "ipython3",
   "version": "3.8.12"
  },
  "orig_nbformat": 2
 },
 "nbformat": 4,
 "nbformat_minor": 2
}
