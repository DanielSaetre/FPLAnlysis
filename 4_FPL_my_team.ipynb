{
 "metadata": {
  "language_info": {
   "codemirror_mode": {
    "name": "ipython",
    "version": 3
   },
   "file_extension": ".py",
   "mimetype": "text/x-python",
   "name": "python",
   "nbconvert_exporter": "python",
   "pygments_lexer": "ipython3",
   "version": "3.8.3-final"
  },
  "orig_nbformat": 2,
  "kernelspec": {
   "name": "python_defaultSpec_1600880331745",
   "display_name": "Python 3.7.4 64-bit ('base': conda)"
  }
 },
 "nbformat": 4,
 "nbformat_minor": 2,
 "cells": [
  {
   "cell_type": "markdown",
   "metadata": {},
   "source": [
    "## Import Libraries"
   ]
  },
  {
   "cell_type": "code",
   "execution_count": 60,
   "metadata": {},
   "outputs": [],
   "source": [
    "#!/usr/bin/env python\n",
    "# coding: utf-8\n",
    "import os\n",
    "import numpy as np\n",
    "import pandas as pd\n",
    "import requests\n",
    "from datetime import datetime\n",
    "import json"
   ]
  },
  {
   "cell_type": "code",
   "execution_count": 61,
   "metadata": {},
   "outputs": [],
   "source": [
    "# Variables\n",
    "season = \"2020-21\""
   ]
  },
  {
   "cell_type": "markdown",
   "metadata": {},
   "source": [
    "## Import files"
   ]
  },
  {
   "cell_type": "code",
   "execution_count": 62,
   "metadata": {},
   "outputs": [],
   "source": [
    "all_events = pd.read_csv(r\"./data/2020-21/Cleaned_data/all_events.csv\", parse_dates= [\"deadline_time\"])\n",
    "#all_players = pd.read_csv(r\"./data/2020-21/Cleaned_data/all_players.csv\", parse_dates= [\"news_added\"]) \n",
    "all_players = pd.read_csv(r\"./data/2020-21/Merged_data/all_players_merged.csv\", parse_dates= [\"news_added\"]) \n",
    "\n"
   ]
  },
  {
   "cell_type": "markdown",
   "metadata": {},
   "source": [
    "## Functions"
   ]
  },
  {
   "cell_type": "code",
   "execution_count": 63,
   "metadata": {},
   "outputs": [],
   "source": [
    "#### Connect to FPL API\n",
    "def get(url):\n",
    "    response = requests.get(url)\n",
    "    return json.loads(response.content)"
   ]
  },
  {
   "cell_type": "markdown",
   "metadata": {},
   "source": [
    "## My Team"
   ]
  },
  {
   "cell_type": "code",
   "execution_count": 64,
   "metadata": {},
   "outputs": [],
   "source": [
    "#### Get my fantasy team lineup\n",
    "now = datetime.now()\n",
    "my_team_id = '1341730'\n",
    "current_gw = all_events[all_events['deadline_time'] < now]['gameweek_id'].max()\n",
    "\n",
    "my_team_url = 'https://fantasy.premierleague.com/api/entry/{}/event/{}/picks/'.format(my_team_id,str(current_gw))\n",
    "\n",
    "my_team = get(my_team_url)['picks']\n",
    "my_team = pd.DataFrame(my_team)\n"
   ]
  },
  {
   "cell_type": "code",
   "execution_count": 65,
   "metadata": {},
   "outputs": [
    {
     "output_type": "execute_result",
     "data": {
      "text/plain": "Index(['chance_of_playing_next_round', 'chance_of_playing_this_round',\n       'player_code', 'cost_change_event', 'cost_change_event_fall',\n       'cost_change_start', 'cost_change_start_fall', 'dreamteam_count',\n       'player_type_id', 'ep_next', 'ep_this', 'event_points', 'form',\n       'player_id', 'in_dreamteam', 'news', 'news_added', 'now_cost', 'photo',\n       'PPG', 'selected_by_percent', 'status', 'team_id', 'team_code',\n       'total_points', 'transfers_in_event', 'transfers_out_event',\n       'value_form', 'value_season', 'web_name', 'minutes', 'goals_scored',\n       'assists', 'clean_sheets', 'goals_conceded', 'own_goals',\n       'penalties_saved', 'penalties_missed', 'yellow_cards', 'red_cards',\n       'saves', 'bonus', 'bps', 'influence', 'creativity', 'threat',\n       'ict_index', 'influence_rank', 'influence_rank_type', 'creativity_rank',\n       'creativity_rank_type', 'threat_rank', 'threat_rank_type',\n       'ict_index_rank', 'ict_index_rank_type',\n       'corners_and_indirect_freekicks_order',\n       'corners_and_indirect_freekicks_text', 'direct_freekicks_order',\n       'direct_freekicks_text', 'penalties_order', 'penalties_text', 'PP90',\n       'PPMM', 'VAPM', 'strength', 'team_short_name', 'strength_overall_home',\n       'strength_overall_away', 'position_name_short'],\n      dtype='object')"
     },
     "metadata": {},
     "execution_count": 65
    }
   ],
   "source": [
    "all_players.columns"
   ]
  },
  {
   "cell_type": "code",
   "execution_count": 66,
   "metadata": {},
   "outputs": [
    {
     "output_type": "execute_result",
     "data": {
      "text/plain": "   chance_of_playing_next_round  chance_of_playing_this_round  player_code  \\\n0                           NaN                           NaN        37605   \n1                           NaN                           NaN        54694   \n2                           NaN                           NaN        84450   \n3                           NaN                           NaN       195735   \n4                           NaN                           NaN       198849   \n\n   cost_change_event  cost_change_event_fall  cost_change_start  \\\n0                  0                       0                 -1   \n1                  0                       0                  0   \n2                  0                       0                  0   \n3                 -1                       1                 -2   \n4                  0                       0                 -1   \n\n   cost_change_start_fall  dreamteam_count  player_type_id  ep_next  ...  \\\n0                       1                0               3     -0.5  ...   \n1                       0                0               3      5.5  ...   \n2                       0                0               3      2.0  ...   \n3                       2                0               3      0.5  ...   \n4                       1                0               3     -0.5  ...   \n\n   penalties_order  penalties_text      PP90      PPMM      VAPM strength  \\\n0              NaN             NaN       NaN  0.000000 -0.289855        4   \n1              1.0             NaN  6.000000  0.500000  0.333333        4   \n2              NaN             NaN  2.694611  0.454545  0.090909        4   \n3              2.0             NaN  4.390244  0.128205 -0.128205        4   \n4              NaN             NaN       NaN  0.000000 -0.408163        4   \n\n  team_short_name  strength_overall_home strength_overall_away  \\\n0             ARS                   1190                  1270   \n1             ARS                   1190                  1270   \n2             ARS                   1190                  1270   \n3             ARS                   1190                  1270   \n4             ARS                   1190                  1270   \n\n   position_name_short  \n0                  MID  \n1                  MID  \n2                  MID  \n3                  MID  \n4                  MID  \n\n[5 rows x 69 columns]",
      "text/html": "<div>\n<style scoped>\n    .dataframe tbody tr th:only-of-type {\n        vertical-align: middle;\n    }\n\n    .dataframe tbody tr th {\n        vertical-align: top;\n    }\n\n    .dataframe thead th {\n        text-align: right;\n    }\n</style>\n<table border=\"1\" class=\"dataframe\">\n  <thead>\n    <tr style=\"text-align: right;\">\n      <th></th>\n      <th>chance_of_playing_next_round</th>\n      <th>chance_of_playing_this_round</th>\n      <th>player_code</th>\n      <th>cost_change_event</th>\n      <th>cost_change_event_fall</th>\n      <th>cost_change_start</th>\n      <th>cost_change_start_fall</th>\n      <th>dreamteam_count</th>\n      <th>player_type_id</th>\n      <th>ep_next</th>\n      <th>...</th>\n      <th>penalties_order</th>\n      <th>penalties_text</th>\n      <th>PP90</th>\n      <th>PPMM</th>\n      <th>VAPM</th>\n      <th>strength</th>\n      <th>team_short_name</th>\n      <th>strength_overall_home</th>\n      <th>strength_overall_away</th>\n      <th>position_name_short</th>\n    </tr>\n  </thead>\n  <tbody>\n    <tr>\n      <th>0</th>\n      <td>NaN</td>\n      <td>NaN</td>\n      <td>37605</td>\n      <td>0</td>\n      <td>0</td>\n      <td>-1</td>\n      <td>1</td>\n      <td>0</td>\n      <td>3</td>\n      <td>-0.5</td>\n      <td>...</td>\n      <td>NaN</td>\n      <td>NaN</td>\n      <td>NaN</td>\n      <td>0.000000</td>\n      <td>-0.289855</td>\n      <td>4</td>\n      <td>ARS</td>\n      <td>1190</td>\n      <td>1270</td>\n      <td>MID</td>\n    </tr>\n    <tr>\n      <th>1</th>\n      <td>NaN</td>\n      <td>NaN</td>\n      <td>54694</td>\n      <td>0</td>\n      <td>0</td>\n      <td>0</td>\n      <td>0</td>\n      <td>0</td>\n      <td>3</td>\n      <td>5.5</td>\n      <td>...</td>\n      <td>1.0</td>\n      <td>NaN</td>\n      <td>6.000000</td>\n      <td>0.500000</td>\n      <td>0.333333</td>\n      <td>4</td>\n      <td>ARS</td>\n      <td>1190</td>\n      <td>1270</td>\n      <td>MID</td>\n    </tr>\n    <tr>\n      <th>2</th>\n      <td>NaN</td>\n      <td>NaN</td>\n      <td>84450</td>\n      <td>0</td>\n      <td>0</td>\n      <td>0</td>\n      <td>0</td>\n      <td>0</td>\n      <td>3</td>\n      <td>2.0</td>\n      <td>...</td>\n      <td>NaN</td>\n      <td>NaN</td>\n      <td>2.694611</td>\n      <td>0.454545</td>\n      <td>0.090909</td>\n      <td>4</td>\n      <td>ARS</td>\n      <td>1190</td>\n      <td>1270</td>\n      <td>MID</td>\n    </tr>\n    <tr>\n      <th>3</th>\n      <td>NaN</td>\n      <td>NaN</td>\n      <td>195735</td>\n      <td>-1</td>\n      <td>1</td>\n      <td>-2</td>\n      <td>2</td>\n      <td>0</td>\n      <td>3</td>\n      <td>0.5</td>\n      <td>...</td>\n      <td>2.0</td>\n      <td>NaN</td>\n      <td>4.390244</td>\n      <td>0.128205</td>\n      <td>-0.128205</td>\n      <td>4</td>\n      <td>ARS</td>\n      <td>1190</td>\n      <td>1270</td>\n      <td>MID</td>\n    </tr>\n    <tr>\n      <th>4</th>\n      <td>NaN</td>\n      <td>NaN</td>\n      <td>198849</td>\n      <td>0</td>\n      <td>0</td>\n      <td>-1</td>\n      <td>1</td>\n      <td>0</td>\n      <td>3</td>\n      <td>-0.5</td>\n      <td>...</td>\n      <td>NaN</td>\n      <td>NaN</td>\n      <td>NaN</td>\n      <td>0.000000</td>\n      <td>-0.408163</td>\n      <td>4</td>\n      <td>ARS</td>\n      <td>1190</td>\n      <td>1270</td>\n      <td>MID</td>\n    </tr>\n  </tbody>\n</table>\n<p>5 rows × 69 columns</p>\n</div>"
     },
     "metadata": {},
     "execution_count": 66
    }
   ],
   "source": [
    "#all_players = all_players[['chance_of_playing_next_round', 'chance_of_playing_this_round', 'position_id', 'ep_next','ep_this', 'player_id', 'player_news', 'news_added', 'player_price', 'selected_by_percent', 'player_status','team_id', 'web_name']]\n",
    "\n",
    "all_players.head()"
   ]
  },
  {
   "cell_type": "code",
   "execution_count": 67,
   "metadata": {},
   "outputs": [
    {
     "output_type": "execute_result",
     "data": {
      "text/plain": "    element  position  multiplier  is_captain  is_vice_captain\n0       363         1           1       False            False\n1       255         2           1       False            False\n2       457         3           1       False            False\n3       259         4           1       False            False\n4       239         5           1       False            False\n5       500         6           1       False            False\n6         4         7           2        True            False\n7       390         8           1       False             True\n8       117         9           1       False            False\n9       377        10           1       False            False\n10      506        11           1       False            False\n11       35        12           0       False            False\n12      322        13           0       False            False\n13       76        14           0       False            False\n14      461        15           0       False            False",
      "text/html": "<div>\n<style scoped>\n    .dataframe tbody tr th:only-of-type {\n        vertical-align: middle;\n    }\n\n    .dataframe tbody tr th {\n        vertical-align: top;\n    }\n\n    .dataframe thead th {\n        text-align: right;\n    }\n</style>\n<table border=\"1\" class=\"dataframe\">\n  <thead>\n    <tr style=\"text-align: right;\">\n      <th></th>\n      <th>element</th>\n      <th>position</th>\n      <th>multiplier</th>\n      <th>is_captain</th>\n      <th>is_vice_captain</th>\n    </tr>\n  </thead>\n  <tbody>\n    <tr>\n      <th>0</th>\n      <td>363</td>\n      <td>1</td>\n      <td>1</td>\n      <td>False</td>\n      <td>False</td>\n    </tr>\n    <tr>\n      <th>1</th>\n      <td>255</td>\n      <td>2</td>\n      <td>1</td>\n      <td>False</td>\n      <td>False</td>\n    </tr>\n    <tr>\n      <th>2</th>\n      <td>457</td>\n      <td>3</td>\n      <td>1</td>\n      <td>False</td>\n      <td>False</td>\n    </tr>\n    <tr>\n      <th>3</th>\n      <td>259</td>\n      <td>4</td>\n      <td>1</td>\n      <td>False</td>\n      <td>False</td>\n    </tr>\n    <tr>\n      <th>4</th>\n      <td>239</td>\n      <td>5</td>\n      <td>1</td>\n      <td>False</td>\n      <td>False</td>\n    </tr>\n    <tr>\n      <th>5</th>\n      <td>500</td>\n      <td>6</td>\n      <td>1</td>\n      <td>False</td>\n      <td>False</td>\n    </tr>\n    <tr>\n      <th>6</th>\n      <td>4</td>\n      <td>7</td>\n      <td>2</td>\n      <td>True</td>\n      <td>False</td>\n    </tr>\n    <tr>\n      <th>7</th>\n      <td>390</td>\n      <td>8</td>\n      <td>1</td>\n      <td>False</td>\n      <td>True</td>\n    </tr>\n    <tr>\n      <th>8</th>\n      <td>117</td>\n      <td>9</td>\n      <td>1</td>\n      <td>False</td>\n      <td>False</td>\n    </tr>\n    <tr>\n      <th>9</th>\n      <td>377</td>\n      <td>10</td>\n      <td>1</td>\n      <td>False</td>\n      <td>False</td>\n    </tr>\n    <tr>\n      <th>10</th>\n      <td>506</td>\n      <td>11</td>\n      <td>1</td>\n      <td>False</td>\n      <td>False</td>\n    </tr>\n    <tr>\n      <th>11</th>\n      <td>35</td>\n      <td>12</td>\n      <td>0</td>\n      <td>False</td>\n      <td>False</td>\n    </tr>\n    <tr>\n      <th>12</th>\n      <td>322</td>\n      <td>13</td>\n      <td>0</td>\n      <td>False</td>\n      <td>False</td>\n    </tr>\n    <tr>\n      <th>13</th>\n      <td>76</td>\n      <td>14</td>\n      <td>0</td>\n      <td>False</td>\n      <td>False</td>\n    </tr>\n    <tr>\n      <th>14</th>\n      <td>461</td>\n      <td>15</td>\n      <td>0</td>\n      <td>False</td>\n      <td>False</td>\n    </tr>\n  </tbody>\n</table>\n</div>"
     },
     "metadata": {},
     "execution_count": 67
    }
   ],
   "source": [
    "my_team"
   ]
  },
  {
   "cell_type": "code",
   "execution_count": 68,
   "metadata": {},
   "outputs": [],
   "source": [
    "my_team = my_team.merge(all_players, how = 'left', left_on=\"element\", right_on=\"player_id\")\n",
    "my_team.drop([\"element\",\"position\"], axis = 1, inplace = True)"
   ]
  },
  {
   "cell_type": "code",
   "execution_count": 69,
   "metadata": {},
   "outputs": [
    {
     "output_type": "execute_result",
     "data": {
      "text/plain": "11              Nyland\n0             McCarthy\n14               Saïss\n1            Robertson\n2              Doherty\n4               Justin\n3     Alexander-Arnold\n12             Ritchie\n13            Bissouma\n5              Havertz\n7                  Son\n6           Aubameyang\n9                Adams\n10              Wilson\n8               Werner\nName: web_name, dtype: object"
     },
     "metadata": {},
     "execution_count": 69
    }
   ],
   "source": [
    "my_team.sort_values(by=['player_type_id' , 'selected_by_percent'])['web_name']\n",
    "\n"
   ]
  },
  {
   "cell_type": "code",
   "execution_count": 70,
   "metadata": {},
   "outputs": [],
   "source": [
    "my_team.to_csv (r'./data/' + season + '/Team_data/my_team.csv', index = False, header=True)"
   ]
  },
  {
   "cell_type": "code",
   "execution_count": null,
   "metadata": {},
   "outputs": [],
   "source": []
  }
 ]
}