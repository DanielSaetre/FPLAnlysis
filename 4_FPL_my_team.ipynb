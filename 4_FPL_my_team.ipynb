{
 "metadata": {
  "language_info": {
   "codemirror_mode": {
    "name": "ipython",
    "version": 3
   },
   "file_extension": ".py",
   "mimetype": "text/x-python",
   "name": "python",
   "nbconvert_exporter": "python",
   "pygments_lexer": "ipython3",
   "version": "3.8.3-final"
  },
  "orig_nbformat": 2,
  "kernelspec": {
   "name": "Python 3.8.3 64-bit (conda)",
   "display_name": "Python 3.8.3 64-bit (conda)",
   "metadata": {
    "interpreter": {
     "hash": "fb698bdeab99cfbf9e31cab566d99a06e057f2dec3dcc8097ebabb329e860e16"
    }
   }
  }
 },
 "nbformat": 4,
 "nbformat_minor": 2,
 "cells": [
  {
   "cell_type": "markdown",
   "metadata": {},
   "source": [
    "## Import Libraries"
   ]
  },
  {
   "cell_type": "code",
   "execution_count": 1,
   "metadata": {},
   "outputs": [],
   "source": [
    "#!/usr/bin/env python\n",
    "# coding: utf-8\n",
    "import os\n",
    "import numpy as np\n",
    "import pandas as pd\n",
    "import requests\n",
    "from datetime import datetime\n",
    "import json"
   ]
  },
  {
   "cell_type": "code",
   "execution_count": 2,
   "metadata": {},
   "outputs": [],
   "source": [
    "# Variables\n",
    "season = \"2020-21\""
   ]
  },
  {
   "cell_type": "markdown",
   "metadata": {},
   "source": [
    "## Import files"
   ]
  },
  {
   "cell_type": "code",
   "execution_count": 3,
   "metadata": {},
   "outputs": [],
   "source": [
    "all_events = pd.read_csv(r'./data/' + season + '/Cleaned_data/all_events.csv', parse_dates= [\"deadline_time\"])\n",
    "all_players = pd.read_csv(r'./data/' + season + '/Merged_data/all_players_merged.csv', parse_dates= [\"news_added\"]) \n",
    "\n"
   ]
  },
  {
   "cell_type": "markdown",
   "metadata": {},
   "source": [
    "## Functions"
   ]
  },
  {
   "cell_type": "code",
   "execution_count": 4,
   "metadata": {},
   "outputs": [],
   "source": [
    "#### Connect to FPL API\n",
    "def get(url):\n",
    "    response = requests.get(url)\n",
    "    return json.loads(response.content)"
   ]
  },
  {
   "cell_type": "markdown",
   "metadata": {},
   "source": [
    "## My Team"
   ]
  },
  {
   "cell_type": "code",
   "execution_count": 5,
   "metadata": {},
   "outputs": [],
   "source": [
    "#### Get my fantasy team lineup\n",
    "now = datetime.now()\n",
    "my_team_id = '1341730'\n",
    "current_gw = all_events[all_events['deadline_time'] < now]['gameweek_id'].max()\n",
    "\n",
    "my_team_url = 'https://fantasy.premierleague.com/api/entry/{}/event/{}/picks/'.format(my_team_id,str(current_gw))\n",
    "\n",
    "my_team = get(my_team_url)['picks']\n",
    "my_team = pd.DataFrame(my_team)\n"
   ]
  },
  {
   "cell_type": "code",
   "execution_count": 6,
   "metadata": {},
   "outputs": [
    {
     "output_type": "execute_result",
     "data": {
      "text/plain": [
       "Index(['chance_of_playing_next_round', 'chance_of_playing_this_round',\n",
       "       'player_code', 'cost_change_event', 'cost_change_event_fall',\n",
       "       'cost_change_start', 'cost_change_start_fall', 'dreamteam_count',\n",
       "       'player_type_id', 'ep_next', 'ep_this', 'event_points', 'form',\n",
       "       'player_id', 'in_dreamteam', 'news', 'news_added', 'now_cost', 'photo',\n",
       "       'PPG', 'selected_by_percent', 'status', 'team_id', 'team_code',\n",
       "       'total_points', 'transfers_in_event', 'transfers_out_event',\n",
       "       'value_form', 'value_season', 'web_name', 'total_minutes',\n",
       "       'goals_scored', 'assists', 'clean_sheets', 'goals_conceded',\n",
       "       'own_goals', 'penalties_saved', 'penalties_missed', 'yellow_cards',\n",
       "       'red_cards', 'saves', 'bonus', 'bps', 'influence', 'creativity',\n",
       "       'threat', 'ict_index', 'influence_rank', 'influence_rank_type',\n",
       "       'creativity_rank', 'creativity_rank_type', 'threat_rank',\n",
       "       'threat_rank_type', 'ict_index_rank', 'ict_index_rank_type',\n",
       "       'corners_and_indirect_freekicks_order',\n",
       "       'corners_and_indirect_freekicks_text', 'direct_freekicks_order',\n",
       "       'direct_freekicks_text', 'penalties_order', 'penalties_text', 'PP90',\n",
       "       'PPMM', 'VAPM', 'team_strength', 'team_short_name',\n",
       "       'strength_overall_home', 'strength_overall_away',\n",
       "       'position_name_short'],\n",
       "      dtype='object')"
      ]
     },
     "metadata": {},
     "execution_count": 6
    }
   ],
   "source": [
    "all_players.columns"
   ]
  },
  {
   "cell_type": "code",
   "execution_count": 7,
   "metadata": {},
   "outputs": [
    {
     "output_type": "execute_result",
     "data": {
      "text/plain": [
       "   chance_of_playing_next_round  chance_of_playing_this_round  player_code  \\\n",
       "0                           0.0                           0.0        37605   \n",
       "1                         100.0                         100.0        54694   \n",
       "2                           NaN                           NaN        84450   \n",
       "3                           NaN                           NaN       195735   \n",
       "4                           0.0                           0.0       198849   \n",
       "\n",
       "   cost_change_event  cost_change_event_fall  cost_change_start  \\\n",
       "0                  0                       0                 -2   \n",
       "1                 -1                       1                 -3   \n",
       "2                  0                       0                 -1   \n",
       "3                  0                       0                 -3   \n",
       "4                 -1                       1                 -3   \n",
       "\n",
       "   cost_change_start_fall  dreamteam_count  player_type_id  ep_next  ...  \\\n",
       "0                       2                0               3      0.0  ...   \n",
       "1                       3                0               3      2.0  ...   \n",
       "2                       1                0               3      1.2  ...   \n",
       "3                       3                0               3      2.5  ...   \n",
       "4                       3                0               3      0.0  ...   \n",
       "\n",
       "   penalties_order  penalties_text      PP90      PPMM      VAPM  \\\n",
       "0              NaN             NaN       NaN  0.000000 -0.294118   \n",
       "1              1.0             NaN  3.333333  0.282051  0.111111   \n",
       "2              NaN             NaN  2.211302  0.314815 -0.055556   \n",
       "3              2.0             NaN  5.346535  0.259740  0.000000   \n",
       "4              NaN             NaN       NaN  0.000000 -0.425532   \n",
       "\n",
       "  team_strength team_short_name  strength_overall_home strength_overall_away  \\\n",
       "0             4             ARS                   1240                  1250   \n",
       "1             4             ARS                   1240                  1250   \n",
       "2             4             ARS                   1240                  1250   \n",
       "3             4             ARS                   1240                  1250   \n",
       "4             4             ARS                   1240                  1250   \n",
       "\n",
       "   position_name_short  \n",
       "0                  MID  \n",
       "1                  MID  \n",
       "2                  MID  \n",
       "3                  MID  \n",
       "4                  MID  \n",
       "\n",
       "[5 rows x 69 columns]"
      ],
      "text/html": "<div>\n<style scoped>\n    .dataframe tbody tr th:only-of-type {\n        vertical-align: middle;\n    }\n\n    .dataframe tbody tr th {\n        vertical-align: top;\n    }\n\n    .dataframe thead th {\n        text-align: right;\n    }\n</style>\n<table border=\"1\" class=\"dataframe\">\n  <thead>\n    <tr style=\"text-align: right;\">\n      <th></th>\n      <th>chance_of_playing_next_round</th>\n      <th>chance_of_playing_this_round</th>\n      <th>player_code</th>\n      <th>cost_change_event</th>\n      <th>cost_change_event_fall</th>\n      <th>cost_change_start</th>\n      <th>cost_change_start_fall</th>\n      <th>dreamteam_count</th>\n      <th>player_type_id</th>\n      <th>ep_next</th>\n      <th>...</th>\n      <th>penalties_order</th>\n      <th>penalties_text</th>\n      <th>PP90</th>\n      <th>PPMM</th>\n      <th>VAPM</th>\n      <th>team_strength</th>\n      <th>team_short_name</th>\n      <th>strength_overall_home</th>\n      <th>strength_overall_away</th>\n      <th>position_name_short</th>\n    </tr>\n  </thead>\n  <tbody>\n    <tr>\n      <th>0</th>\n      <td>0.0</td>\n      <td>0.0</td>\n      <td>37605</td>\n      <td>0</td>\n      <td>0</td>\n      <td>-2</td>\n      <td>2</td>\n      <td>0</td>\n      <td>3</td>\n      <td>0.0</td>\n      <td>...</td>\n      <td>NaN</td>\n      <td>NaN</td>\n      <td>NaN</td>\n      <td>0.000000</td>\n      <td>-0.294118</td>\n      <td>4</td>\n      <td>ARS</td>\n      <td>1240</td>\n      <td>1250</td>\n      <td>MID</td>\n    </tr>\n    <tr>\n      <th>1</th>\n      <td>100.0</td>\n      <td>100.0</td>\n      <td>54694</td>\n      <td>-1</td>\n      <td>1</td>\n      <td>-3</td>\n      <td>3</td>\n      <td>0</td>\n      <td>3</td>\n      <td>2.0</td>\n      <td>...</td>\n      <td>1.0</td>\n      <td>NaN</td>\n      <td>3.333333</td>\n      <td>0.282051</td>\n      <td>0.111111</td>\n      <td>4</td>\n      <td>ARS</td>\n      <td>1240</td>\n      <td>1250</td>\n      <td>MID</td>\n    </tr>\n    <tr>\n      <th>2</th>\n      <td>NaN</td>\n      <td>NaN</td>\n      <td>84450</td>\n      <td>0</td>\n      <td>0</td>\n      <td>-1</td>\n      <td>1</td>\n      <td>0</td>\n      <td>3</td>\n      <td>1.2</td>\n      <td>...</td>\n      <td>NaN</td>\n      <td>NaN</td>\n      <td>2.211302</td>\n      <td>0.314815</td>\n      <td>-0.055556</td>\n      <td>4</td>\n      <td>ARS</td>\n      <td>1240</td>\n      <td>1250</td>\n      <td>MID</td>\n    </tr>\n    <tr>\n      <th>3</th>\n      <td>NaN</td>\n      <td>NaN</td>\n      <td>195735</td>\n      <td>0</td>\n      <td>0</td>\n      <td>-3</td>\n      <td>3</td>\n      <td>0</td>\n      <td>3</td>\n      <td>2.5</td>\n      <td>...</td>\n      <td>2.0</td>\n      <td>NaN</td>\n      <td>5.346535</td>\n      <td>0.259740</td>\n      <td>0.000000</td>\n      <td>4</td>\n      <td>ARS</td>\n      <td>1240</td>\n      <td>1250</td>\n      <td>MID</td>\n    </tr>\n    <tr>\n      <th>4</th>\n      <td>0.0</td>\n      <td>0.0</td>\n      <td>198849</td>\n      <td>-1</td>\n      <td>1</td>\n      <td>-3</td>\n      <td>3</td>\n      <td>0</td>\n      <td>3</td>\n      <td>0.0</td>\n      <td>...</td>\n      <td>NaN</td>\n      <td>NaN</td>\n      <td>NaN</td>\n      <td>0.000000</td>\n      <td>-0.425532</td>\n      <td>4</td>\n      <td>ARS</td>\n      <td>1240</td>\n      <td>1250</td>\n      <td>MID</td>\n    </tr>\n  </tbody>\n</table>\n<p>5 rows × 69 columns</p>\n</div>"
     },
     "metadata": {},
     "execution_count": 7
    }
   ],
   "source": [
    "#all_players = all_players[['chance_of_playing_next_round', 'chance_of_playing_this_round', 'position_id', 'ep_next','ep_this', 'player_id', 'player_news', 'news_added', 'player_price', 'selected_by_percent', 'player_status','team_id', 'web_name']]\n",
    "\n",
    "all_players.head()"
   ]
  },
  {
   "cell_type": "code",
   "execution_count": 8,
   "metadata": {},
   "outputs": [
    {
     "output_type": "execute_result",
     "data": {
      "text/plain": [
       "    element  position  multiplier  is_captain  is_vice_captain\n",
       "0       363         1           1       False            False\n",
       "1       255         2           1       False             True\n",
       "2       259         3           1       False            False\n",
       "3       232         4           1       False            False\n",
       "4       461         5           1       False            False\n",
       "5       390         6           1       False            False\n",
       "6       508         7           1       False            False\n",
       "7       276         8           2        True            False\n",
       "8       377         9           1       False            False\n",
       "9       117        10           1       False            False\n",
       "10      460        11           1       False            False\n",
       "11       35        12           0       False            False\n",
       "12      470        13           0       False            False\n",
       "13       76        14           0       False            False\n",
       "14      322        15           0       False            False"
      ],
      "text/html": "<div>\n<style scoped>\n    .dataframe tbody tr th:only-of-type {\n        vertical-align: middle;\n    }\n\n    .dataframe tbody tr th {\n        vertical-align: top;\n    }\n\n    .dataframe thead th {\n        text-align: right;\n    }\n</style>\n<table border=\"1\" class=\"dataframe\">\n  <thead>\n    <tr style=\"text-align: right;\">\n      <th></th>\n      <th>element</th>\n      <th>position</th>\n      <th>multiplier</th>\n      <th>is_captain</th>\n      <th>is_vice_captain</th>\n    </tr>\n  </thead>\n  <tbody>\n    <tr>\n      <th>0</th>\n      <td>363</td>\n      <td>1</td>\n      <td>1</td>\n      <td>False</td>\n      <td>False</td>\n    </tr>\n    <tr>\n      <th>1</th>\n      <td>255</td>\n      <td>2</td>\n      <td>1</td>\n      <td>False</td>\n      <td>True</td>\n    </tr>\n    <tr>\n      <th>2</th>\n      <td>259</td>\n      <td>3</td>\n      <td>1</td>\n      <td>False</td>\n      <td>False</td>\n    </tr>\n    <tr>\n      <th>3</th>\n      <td>232</td>\n      <td>4</td>\n      <td>1</td>\n      <td>False</td>\n      <td>False</td>\n    </tr>\n    <tr>\n      <th>4</th>\n      <td>461</td>\n      <td>5</td>\n      <td>1</td>\n      <td>False</td>\n      <td>False</td>\n    </tr>\n    <tr>\n      <th>5</th>\n      <td>390</td>\n      <td>6</td>\n      <td>1</td>\n      <td>False</td>\n      <td>False</td>\n    </tr>\n    <tr>\n      <th>6</th>\n      <td>508</td>\n      <td>7</td>\n      <td>1</td>\n      <td>False</td>\n      <td>False</td>\n    </tr>\n    <tr>\n      <th>7</th>\n      <td>276</td>\n      <td>8</td>\n      <td>2</td>\n      <td>True</td>\n      <td>False</td>\n    </tr>\n    <tr>\n      <th>8</th>\n      <td>377</td>\n      <td>9</td>\n      <td>1</td>\n      <td>False</td>\n      <td>False</td>\n    </tr>\n    <tr>\n      <th>9</th>\n      <td>117</td>\n      <td>10</td>\n      <td>1</td>\n      <td>False</td>\n      <td>False</td>\n    </tr>\n    <tr>\n      <th>10</th>\n      <td>460</td>\n      <td>11</td>\n      <td>1</td>\n      <td>False</td>\n      <td>False</td>\n    </tr>\n    <tr>\n      <th>11</th>\n      <td>35</td>\n      <td>12</td>\n      <td>0</td>\n      <td>False</td>\n      <td>False</td>\n    </tr>\n    <tr>\n      <th>12</th>\n      <td>470</td>\n      <td>13</td>\n      <td>0</td>\n      <td>False</td>\n      <td>False</td>\n    </tr>\n    <tr>\n      <th>13</th>\n      <td>76</td>\n      <td>14</td>\n      <td>0</td>\n      <td>False</td>\n      <td>False</td>\n    </tr>\n    <tr>\n      <th>14</th>\n      <td>322</td>\n      <td>15</td>\n      <td>0</td>\n      <td>False</td>\n      <td>False</td>\n    </tr>\n  </tbody>\n</table>\n</div>"
     },
     "metadata": {},
     "execution_count": 8
    }
   ],
   "source": [
    "my_team"
   ]
  },
  {
   "cell_type": "code",
   "execution_count": 9,
   "metadata": {},
   "outputs": [],
   "source": [
    "my_team = my_team.merge(all_players, how = 'left', left_on=\"element\", right_on=\"player_id\")\n",
    "my_team.drop([\"element\",\"position\"], axis = 1, inplace = True)"
   ]
  },
  {
   "cell_type": "code",
   "execution_count": 10,
   "metadata": {},
   "outputs": [
    {
     "output_type": "execute_result",
     "data": {
      "text/plain": [
       "11              Nyland\n",
       "0             McCarthy\n",
       "12              Kilman\n",
       "3             Chilwell\n",
       "1            Robertson\n",
       "4                Saïss\n",
       "2     Alexander-Arnold\n",
       "14             Ritchie\n",
       "13            Bissouma\n",
       "7             Sterling\n",
       "6            Rodríguez\n",
       "5                  Son\n",
       "8                Adams\n",
       "10             Jiménez\n",
       "9               Werner\n",
       "Name: web_name, dtype: object"
      ]
     },
     "metadata": {},
     "execution_count": 10
    }
   ],
   "source": [
    "my_team.sort_values(by=['player_type_id' , 'selected_by_percent'])['web_name']\n",
    "\n"
   ]
  },
  {
   "cell_type": "code",
   "execution_count": 11,
   "metadata": {},
   "outputs": [],
   "source": [
    "my_team.to_csv (r'./data/' + season + '/Team_data/my_team.csv', index = False, header=True)"
   ]
  },
  {
   "cell_type": "code",
   "execution_count": null,
   "metadata": {},
   "outputs": [],
   "source": []
  }
 ]
}