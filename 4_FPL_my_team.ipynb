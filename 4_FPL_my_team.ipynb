{
 "metadata": {
  "language_info": {
   "codemirror_mode": {
    "name": "ipython",
    "version": 3
   },
   "file_extension": ".py",
   "mimetype": "text/x-python",
   "name": "python",
   "nbconvert_exporter": "python",
   "pygments_lexer": "ipython3",
   "version": "3.7.4-final"
  },
  "orig_nbformat": 2,
  "kernelspec": {
   "name": "python_defaultSpec_1598114867175",
   "display_name": "Python 3.7.4 64-bit ('base': conda)"
  }
 },
 "nbformat": 4,
 "nbformat_minor": 2,
 "cells": [
  {
   "cell_type": "markdown",
   "metadata": {},
   "source": [
    "## Import Libraries"
   ]
  },
  {
   "cell_type": "code",
   "execution_count": 10,
   "metadata": {},
   "outputs": [],
   "source": [
    "#!/usr/bin/env python\n",
    "# coding: utf-8\n",
    "import os\n",
    "import numpy as np\n",
    "import pandas as pd\n",
    "import requests\n",
    "from datetime import datetime\n",
    "import json"
   ]
  },
  {
   "cell_type": "markdown",
   "metadata": {},
   "source": [
    "## Import files"
   ]
  },
  {
   "cell_type": "code",
   "execution_count": 11,
   "metadata": {},
   "outputs": [],
   "source": [
    "all_events = pd.read_csv(r\"./data/2020-21/Cleaned_data/all_events.csv\", parse_dates= [\"deadline_time\"])\n",
    "all_players = pd.read_csv(r\"./data/2020-21/Cleaned_data/all_players.csv\", parse_dates= [\"news_added\"]) \n"
   ]
  },
  {
   "cell_type": "markdown",
   "metadata": {},
   "source": [
    "## Functions"
   ]
  },
  {
   "cell_type": "code",
   "execution_count": 12,
   "metadata": {},
   "outputs": [],
   "source": [
    "#### Connect to FPL API\n",
    "def get(url):\n",
    "    response = requests.get(url)\n",
    "    return json.loads(response.content)"
   ]
  },
  {
   "cell_type": "markdown",
   "metadata": {},
   "source": [
    "## My Team"
   ]
  },
  {
   "cell_type": "code",
   "execution_count": 13,
   "metadata": {},
   "outputs": [
    {
     "output_type": "error",
     "ename": "JSONDecodeError",
     "evalue": "Expecting value: line 1 column 1 (char 0)",
     "traceback": [
      "\u001b[1;31m---------------------------------------------------------------------------\u001b[0m",
      "\u001b[1;31mJSONDecodeError\u001b[0m                           Traceback (most recent call last)",
      "\u001b[1;32m<ipython-input-13-552bb5d7cfbb>\u001b[0m in \u001b[0;36m<module>\u001b[1;34m\u001b[0m\n\u001b[0;32m      6\u001b[0m \u001b[0mmy_team_url\u001b[0m \u001b[1;33m=\u001b[0m \u001b[1;34m'https://fantasy.premierleague.com/api/entry/{}/event/{}/picks/'\u001b[0m\u001b[1;33m.\u001b[0m\u001b[0mformat\u001b[0m\u001b[1;33m(\u001b[0m\u001b[0mmy_team_id\u001b[0m\u001b[1;33m,\u001b[0m\u001b[0mstr\u001b[0m\u001b[1;33m(\u001b[0m\u001b[0mcurrent_gw\u001b[0m\u001b[1;33m)\u001b[0m\u001b[1;33m)\u001b[0m\u001b[1;33m\u001b[0m\u001b[1;33m\u001b[0m\u001b[0m\n\u001b[0;32m      7\u001b[0m \u001b[1;33m\u001b[0m\u001b[0m\n\u001b[1;32m----> 8\u001b[1;33m \u001b[0mmy_team\u001b[0m \u001b[1;33m=\u001b[0m \u001b[0mget\u001b[0m\u001b[1;33m(\u001b[0m\u001b[0mmy_team_url\u001b[0m\u001b[1;33m)\u001b[0m\u001b[1;33m[\u001b[0m\u001b[1;34m'picks'\u001b[0m\u001b[1;33m]\u001b[0m\u001b[1;33m\u001b[0m\u001b[1;33m\u001b[0m\u001b[0m\n\u001b[0m\u001b[0;32m      9\u001b[0m \u001b[0mmy_team\u001b[0m \u001b[1;33m=\u001b[0m \u001b[0mpd\u001b[0m\u001b[1;33m.\u001b[0m\u001b[0mDataFrame\u001b[0m\u001b[1;33m(\u001b[0m\u001b[0mmy_team\u001b[0m\u001b[1;33m)\u001b[0m\u001b[1;33m\u001b[0m\u001b[1;33m\u001b[0m\u001b[0m\n",
      "\u001b[1;32m<ipython-input-12-6aef615cf6f4>\u001b[0m in \u001b[0;36mget\u001b[1;34m(url)\u001b[0m\n\u001b[0;32m      2\u001b[0m \u001b[1;32mdef\u001b[0m \u001b[0mget\u001b[0m\u001b[1;33m(\u001b[0m\u001b[0murl\u001b[0m\u001b[1;33m)\u001b[0m\u001b[1;33m:\u001b[0m\u001b[1;33m\u001b[0m\u001b[1;33m\u001b[0m\u001b[0m\n\u001b[0;32m      3\u001b[0m     \u001b[0mresponse\u001b[0m \u001b[1;33m=\u001b[0m \u001b[0mrequests\u001b[0m\u001b[1;33m.\u001b[0m\u001b[0mget\u001b[0m\u001b[1;33m(\u001b[0m\u001b[0murl\u001b[0m\u001b[1;33m)\u001b[0m\u001b[1;33m\u001b[0m\u001b[1;33m\u001b[0m\u001b[0m\n\u001b[1;32m----> 4\u001b[1;33m     \u001b[1;32mreturn\u001b[0m \u001b[0mjson\u001b[0m\u001b[1;33m.\u001b[0m\u001b[0mloads\u001b[0m\u001b[1;33m(\u001b[0m\u001b[0mresponse\u001b[0m\u001b[1;33m.\u001b[0m\u001b[0mcontent\u001b[0m\u001b[1;33m)\u001b[0m\u001b[1;33m\u001b[0m\u001b[1;33m\u001b[0m\u001b[0m\n\u001b[0m",
      "\u001b[1;32m~\\Anaconda3\\lib\\json\\__init__.py\u001b[0m in \u001b[0;36mloads\u001b[1;34m(s, encoding, cls, object_hook, parse_float, parse_int, parse_constant, object_pairs_hook, **kw)\u001b[0m\n\u001b[0;32m    346\u001b[0m             \u001b[0mparse_int\u001b[0m \u001b[1;32mis\u001b[0m \u001b[1;32mNone\u001b[0m \u001b[1;32mand\u001b[0m \u001b[0mparse_float\u001b[0m \u001b[1;32mis\u001b[0m \u001b[1;32mNone\u001b[0m \u001b[1;32mand\u001b[0m\u001b[1;33m\u001b[0m\u001b[1;33m\u001b[0m\u001b[0m\n\u001b[0;32m    347\u001b[0m             parse_constant is None and object_pairs_hook is None and not kw):\n\u001b[1;32m--> 348\u001b[1;33m         \u001b[1;32mreturn\u001b[0m \u001b[0m_default_decoder\u001b[0m\u001b[1;33m.\u001b[0m\u001b[0mdecode\u001b[0m\u001b[1;33m(\u001b[0m\u001b[0ms\u001b[0m\u001b[1;33m)\u001b[0m\u001b[1;33m\u001b[0m\u001b[1;33m\u001b[0m\u001b[0m\n\u001b[0m\u001b[0;32m    349\u001b[0m     \u001b[1;32mif\u001b[0m \u001b[0mcls\u001b[0m \u001b[1;32mis\u001b[0m \u001b[1;32mNone\u001b[0m\u001b[1;33m:\u001b[0m\u001b[1;33m\u001b[0m\u001b[1;33m\u001b[0m\u001b[0m\n\u001b[0;32m    350\u001b[0m         \u001b[0mcls\u001b[0m \u001b[1;33m=\u001b[0m \u001b[0mJSONDecoder\u001b[0m\u001b[1;33m\u001b[0m\u001b[1;33m\u001b[0m\u001b[0m\n",
      "\u001b[1;32m~\\Anaconda3\\lib\\json\\decoder.py\u001b[0m in \u001b[0;36mdecode\u001b[1;34m(self, s, _w)\u001b[0m\n\u001b[0;32m    335\u001b[0m \u001b[1;33m\u001b[0m\u001b[0m\n\u001b[0;32m    336\u001b[0m         \"\"\"\n\u001b[1;32m--> 337\u001b[1;33m         \u001b[0mobj\u001b[0m\u001b[1;33m,\u001b[0m \u001b[0mend\u001b[0m \u001b[1;33m=\u001b[0m \u001b[0mself\u001b[0m\u001b[1;33m.\u001b[0m\u001b[0mraw_decode\u001b[0m\u001b[1;33m(\u001b[0m\u001b[0ms\u001b[0m\u001b[1;33m,\u001b[0m \u001b[0midx\u001b[0m\u001b[1;33m=\u001b[0m\u001b[0m_w\u001b[0m\u001b[1;33m(\u001b[0m\u001b[0ms\u001b[0m\u001b[1;33m,\u001b[0m \u001b[1;36m0\u001b[0m\u001b[1;33m)\u001b[0m\u001b[1;33m.\u001b[0m\u001b[0mend\u001b[0m\u001b[1;33m(\u001b[0m\u001b[1;33m)\u001b[0m\u001b[1;33m)\u001b[0m\u001b[1;33m\u001b[0m\u001b[1;33m\u001b[0m\u001b[0m\n\u001b[0m\u001b[0;32m    338\u001b[0m         \u001b[0mend\u001b[0m \u001b[1;33m=\u001b[0m \u001b[0m_w\u001b[0m\u001b[1;33m(\u001b[0m\u001b[0ms\u001b[0m\u001b[1;33m,\u001b[0m \u001b[0mend\u001b[0m\u001b[1;33m)\u001b[0m\u001b[1;33m.\u001b[0m\u001b[0mend\u001b[0m\u001b[1;33m(\u001b[0m\u001b[1;33m)\u001b[0m\u001b[1;33m\u001b[0m\u001b[1;33m\u001b[0m\u001b[0m\n\u001b[0;32m    339\u001b[0m         \u001b[1;32mif\u001b[0m \u001b[0mend\u001b[0m \u001b[1;33m!=\u001b[0m \u001b[0mlen\u001b[0m\u001b[1;33m(\u001b[0m\u001b[0ms\u001b[0m\u001b[1;33m)\u001b[0m\u001b[1;33m:\u001b[0m\u001b[1;33m\u001b[0m\u001b[1;33m\u001b[0m\u001b[0m\n",
      "\u001b[1;32m~\\Anaconda3\\lib\\json\\decoder.py\u001b[0m in \u001b[0;36mraw_decode\u001b[1;34m(self, s, idx)\u001b[0m\n\u001b[0;32m    353\u001b[0m             \u001b[0mobj\u001b[0m\u001b[1;33m,\u001b[0m \u001b[0mend\u001b[0m \u001b[1;33m=\u001b[0m \u001b[0mself\u001b[0m\u001b[1;33m.\u001b[0m\u001b[0mscan_once\u001b[0m\u001b[1;33m(\u001b[0m\u001b[0ms\u001b[0m\u001b[1;33m,\u001b[0m \u001b[0midx\u001b[0m\u001b[1;33m)\u001b[0m\u001b[1;33m\u001b[0m\u001b[1;33m\u001b[0m\u001b[0m\n\u001b[0;32m    354\u001b[0m         \u001b[1;32mexcept\u001b[0m \u001b[0mStopIteration\u001b[0m \u001b[1;32mas\u001b[0m \u001b[0merr\u001b[0m\u001b[1;33m:\u001b[0m\u001b[1;33m\u001b[0m\u001b[1;33m\u001b[0m\u001b[0m\n\u001b[1;32m--> 355\u001b[1;33m             \u001b[1;32mraise\u001b[0m \u001b[0mJSONDecodeError\u001b[0m\u001b[1;33m(\u001b[0m\u001b[1;34m\"Expecting value\"\u001b[0m\u001b[1;33m,\u001b[0m \u001b[0ms\u001b[0m\u001b[1;33m,\u001b[0m \u001b[0merr\u001b[0m\u001b[1;33m.\u001b[0m\u001b[0mvalue\u001b[0m\u001b[1;33m)\u001b[0m \u001b[1;32mfrom\u001b[0m \u001b[1;32mNone\u001b[0m\u001b[1;33m\u001b[0m\u001b[1;33m\u001b[0m\u001b[0m\n\u001b[0m\u001b[0;32m    356\u001b[0m         \u001b[1;32mreturn\u001b[0m \u001b[0mobj\u001b[0m\u001b[1;33m,\u001b[0m \u001b[0mend\u001b[0m\u001b[1;33m\u001b[0m\u001b[1;33m\u001b[0m\u001b[0m\n",
      "\u001b[1;31mJSONDecodeError\u001b[0m: Expecting value: line 1 column 1 (char 0)"
     ]
    }
   ],
   "source": [
    "#### Get my fantasy team lineup\n",
    "now = datetime.now()\n",
    "my_team_id = '1341730'\n",
    "current_gw = all_events[all_events['deadline_time'] < now]['gameweek_id'].max()\n",
    "\n",
    "my_team_url = 'https://fantasy.premierleague.com/api/entry/{}/event/{}/picks/'.format(my_team_id,str(current_gw))\n",
    "\n",
    "my_team = get(my_team_url)['picks']\n",
    "my_team = pd.DataFrame(my_team)\n"
   ]
  },
  {
   "cell_type": "code",
   "execution_count": 5,
   "metadata": {},
   "outputs": [
    {
     "output_type": "execute_result",
     "data": {
      "text/plain": "Index(['chance_of_playing_next_round', 'chance_of_playing_this_round',\n       'player_code', 'cost_change_start', 'position_id', 'ep_next', 'ep_this',\n       'event_points', 'first_name', 'player_id', 'player_news', 'news_added',\n       'player_price', 'photo', 'second_name', 'selected_by_percent',\n       'player_status', 'team_id', 'team_code_id', 'total_points',\n       'transfers_in', 'transfers_in_event', 'transfers_out',\n       'transfers_out_event', 'value_form', 'value_season', 'web_name',\n       'minutes', 'goals_scored', 'assists', 'clean_sheets', 'goals_conceded',\n       'own_goals', 'penalties_saved', 'penalties_missed', 'yellow_cards',\n       'red_cards', 'saves', 'bonus', 'bps', 'influence', 'creativity',\n       'threat', 'ict_index', 'influence_rank', 'influence_rank_type',\n       'creativity_rank', 'creativity_rank_type', 'threat_rank',\n       'threat_rank_type', 'ict_index_rank', 'ict_index_rank_type'],\n      dtype='object')"
     },
     "metadata": {},
     "execution_count": 5
    }
   ],
   "source": [
    "all_players.columns"
   ]
  },
  {
   "cell_type": "code",
   "execution_count": 6,
   "metadata": {},
   "outputs": [],
   "source": [
    "all_players = all_players[['chance_of_playing_next_round', 'chance_of_playing_this_round', 'position_id', 'ep_next','ep_this', 'player_id', 'player_news', 'news_added', 'player_price', 'selected_by_percent', 'player_status','team_id', 'web_name']]"
   ]
  },
  {
   "cell_type": "code",
   "execution_count": 7,
   "metadata": {},
   "outputs": [],
   "source": [
    "my_team = my_team.merge(all_players, how = 'left', left_on=\"element\", right_on=\"player_id\")\n",
    "my_team.drop([\"element\",\"position\"], axis = 1, inplace = True)"
   ]
  },
  {
   "cell_type": "code",
   "execution_count": 8,
   "metadata": {},
   "outputs": [
    {
     "output_type": "execute_result",
     "data": {
      "text/plain": "    multiplier  is_captain  is_vice_captain  chance_of_playing_next_round  \\\n11           0       False            False                           NaN   \n0            1       False            False                         100.0   \n14           0       False            False                         100.0   \n3            1       False            False                           NaN   \n13           0       False            False                         100.0   \n2            1       False            False                         100.0   \n1            1       False            False                         100.0   \n12           0       False            False                         100.0   \n4            1       False             True                         100.0   \n7            1       False            False                         100.0   \n5            2        True            False                         100.0   \n6            1       False            False                           NaN   \n9            1       False            False                         100.0   \n8            1       False            False                         100.0   \n10           1       False            False                           NaN   \n\n    chance_of_playing_this_round  position_id  ep_next  ep_this  player_id  \\\n11                           NaN            1      0.5      0.5        641   \n0                          100.0            1      5.7      5.1         93   \n14                         100.0            2      0.5      0.5        583   \n3                            NaN            2      5.5      4.9        331   \n13                         100.0            2      5.8      5.1        295   \n2                          100.0            2      3.8      3.5        141   \n1                          100.0            2      4.7      4.3        182   \n12                         100.0            3      5.7      5.8        465   \n4                          100.0            3      7.0      6.6        219   \n7                          100.0            3      4.5      5.4        217   \n5                          100.0            3     12.5     12.1        214   \n6                            NaN            3      9.8     10.1        618   \n9                          100.0            4      3.5      4.4         91   \n8                          100.0            4      8.0      7.2        234   \n10                           NaN            4      6.2      6.4        313   \n\n   player_news                 news_added  player_price  selected_by_percent  \\\n11         NaN                        NaT           4.0                  0.0   \n0          NaN 2019-07-31 00:00:11.182051           5.2                 23.1   \n14         NaN 2020-06-15 16:00:16.549558           3.9                  1.3   \n3          NaN                        NaT           5.3                  5.0   \n13         NaN 2020-06-21 14:30:21.128190           4.7                  7.1   \n2          NaN 2020-02-23 19:00:12.788850           5.9                 13.4   \n1          NaN 2019-10-22 15:00:19.720774           7.7                 39.1   \n12         NaN 2019-08-31 16:30:09.941826           5.2                  1.8   \n4          NaN 2020-02-19 22:00:17.062940           7.5                  9.1   \n7          NaN 2020-01-27 16:30:23.592705           8.6                 10.1   \n5          NaN 2020-02-02 19:00:22.102540          12.0                 23.2   \n6          NaN                        NaT           9.0                 28.4   \n9          NaN 2020-06-07 00:30:14.067961           6.2                  2.4   \n8          NaN 2020-07-15 17:00:22.587195           4.8                 26.9   \n10         NaN                        NaT           7.6                 31.4   \n\n   player_status  team_id          web_name  \n11             a        5            Jensen  \n0              a        5              Pope  \n14             a       17          Tanganga  \n3              a       17      Alderweireld  \n13             a       15              Egan  \n2              a        8             Digne  \n1              a       10  Alexander-Arnold  \n12             a        2         Trézéguet  \n4              a       11       David Silva  \n7              a       11            Mahrez  \n5              a       11          Sterling  \n6              a       12         Fernandes  \n9              a        5              Wood  \n8              a       12         Greenwood  \n10             a       16              Ings  ",
      "text/html": "<div>\n<style scoped>\n    .dataframe tbody tr th:only-of-type {\n        vertical-align: middle;\n    }\n\n    .dataframe tbody tr th {\n        vertical-align: top;\n    }\n\n    .dataframe thead th {\n        text-align: right;\n    }\n</style>\n<table border=\"1\" class=\"dataframe\">\n  <thead>\n    <tr style=\"text-align: right;\">\n      <th></th>\n      <th>multiplier</th>\n      <th>is_captain</th>\n      <th>is_vice_captain</th>\n      <th>chance_of_playing_next_round</th>\n      <th>chance_of_playing_this_round</th>\n      <th>position_id</th>\n      <th>ep_next</th>\n      <th>ep_this</th>\n      <th>player_id</th>\n      <th>player_news</th>\n      <th>news_added</th>\n      <th>player_price</th>\n      <th>selected_by_percent</th>\n      <th>player_status</th>\n      <th>team_id</th>\n      <th>web_name</th>\n    </tr>\n  </thead>\n  <tbody>\n    <tr>\n      <td>11</td>\n      <td>0</td>\n      <td>False</td>\n      <td>False</td>\n      <td>NaN</td>\n      <td>NaN</td>\n      <td>1</td>\n      <td>0.5</td>\n      <td>0.5</td>\n      <td>641</td>\n      <td>NaN</td>\n      <td>NaT</td>\n      <td>4.0</td>\n      <td>0.0</td>\n      <td>a</td>\n      <td>5</td>\n      <td>Jensen</td>\n    </tr>\n    <tr>\n      <td>0</td>\n      <td>1</td>\n      <td>False</td>\n      <td>False</td>\n      <td>100.0</td>\n      <td>100.0</td>\n      <td>1</td>\n      <td>5.7</td>\n      <td>5.1</td>\n      <td>93</td>\n      <td>NaN</td>\n      <td>2019-07-31 00:00:11.182051</td>\n      <td>5.2</td>\n      <td>23.1</td>\n      <td>a</td>\n      <td>5</td>\n      <td>Pope</td>\n    </tr>\n    <tr>\n      <td>14</td>\n      <td>0</td>\n      <td>False</td>\n      <td>False</td>\n      <td>100.0</td>\n      <td>100.0</td>\n      <td>2</td>\n      <td>0.5</td>\n      <td>0.5</td>\n      <td>583</td>\n      <td>NaN</td>\n      <td>2020-06-15 16:00:16.549558</td>\n      <td>3.9</td>\n      <td>1.3</td>\n      <td>a</td>\n      <td>17</td>\n      <td>Tanganga</td>\n    </tr>\n    <tr>\n      <td>3</td>\n      <td>1</td>\n      <td>False</td>\n      <td>False</td>\n      <td>NaN</td>\n      <td>NaN</td>\n      <td>2</td>\n      <td>5.5</td>\n      <td>4.9</td>\n      <td>331</td>\n      <td>NaN</td>\n      <td>NaT</td>\n      <td>5.3</td>\n      <td>5.0</td>\n      <td>a</td>\n      <td>17</td>\n      <td>Alderweireld</td>\n    </tr>\n    <tr>\n      <td>13</td>\n      <td>0</td>\n      <td>False</td>\n      <td>False</td>\n      <td>100.0</td>\n      <td>100.0</td>\n      <td>2</td>\n      <td>5.8</td>\n      <td>5.1</td>\n      <td>295</td>\n      <td>NaN</td>\n      <td>2020-06-21 14:30:21.128190</td>\n      <td>4.7</td>\n      <td>7.1</td>\n      <td>a</td>\n      <td>15</td>\n      <td>Egan</td>\n    </tr>\n    <tr>\n      <td>2</td>\n      <td>1</td>\n      <td>False</td>\n      <td>False</td>\n      <td>100.0</td>\n      <td>100.0</td>\n      <td>2</td>\n      <td>3.8</td>\n      <td>3.5</td>\n      <td>141</td>\n      <td>NaN</td>\n      <td>2020-02-23 19:00:12.788850</td>\n      <td>5.9</td>\n      <td>13.4</td>\n      <td>a</td>\n      <td>8</td>\n      <td>Digne</td>\n    </tr>\n    <tr>\n      <td>1</td>\n      <td>1</td>\n      <td>False</td>\n      <td>False</td>\n      <td>100.0</td>\n      <td>100.0</td>\n      <td>2</td>\n      <td>4.7</td>\n      <td>4.3</td>\n      <td>182</td>\n      <td>NaN</td>\n      <td>2019-10-22 15:00:19.720774</td>\n      <td>7.7</td>\n      <td>39.1</td>\n      <td>a</td>\n      <td>10</td>\n      <td>Alexander-Arnold</td>\n    </tr>\n    <tr>\n      <td>12</td>\n      <td>0</td>\n      <td>False</td>\n      <td>False</td>\n      <td>100.0</td>\n      <td>100.0</td>\n      <td>3</td>\n      <td>5.7</td>\n      <td>5.8</td>\n      <td>465</td>\n      <td>NaN</td>\n      <td>2019-08-31 16:30:09.941826</td>\n      <td>5.2</td>\n      <td>1.8</td>\n      <td>a</td>\n      <td>2</td>\n      <td>Trézéguet</td>\n    </tr>\n    <tr>\n      <td>4</td>\n      <td>1</td>\n      <td>False</td>\n      <td>True</td>\n      <td>100.0</td>\n      <td>100.0</td>\n      <td>3</td>\n      <td>7.0</td>\n      <td>6.6</td>\n      <td>219</td>\n      <td>NaN</td>\n      <td>2020-02-19 22:00:17.062940</td>\n      <td>7.5</td>\n      <td>9.1</td>\n      <td>a</td>\n      <td>11</td>\n      <td>David Silva</td>\n    </tr>\n    <tr>\n      <td>7</td>\n      <td>1</td>\n      <td>False</td>\n      <td>False</td>\n      <td>100.0</td>\n      <td>100.0</td>\n      <td>3</td>\n      <td>4.5</td>\n      <td>5.4</td>\n      <td>217</td>\n      <td>NaN</td>\n      <td>2020-01-27 16:30:23.592705</td>\n      <td>8.6</td>\n      <td>10.1</td>\n      <td>a</td>\n      <td>11</td>\n      <td>Mahrez</td>\n    </tr>\n    <tr>\n      <td>5</td>\n      <td>2</td>\n      <td>True</td>\n      <td>False</td>\n      <td>100.0</td>\n      <td>100.0</td>\n      <td>3</td>\n      <td>12.5</td>\n      <td>12.1</td>\n      <td>214</td>\n      <td>NaN</td>\n      <td>2020-02-02 19:00:22.102540</td>\n      <td>12.0</td>\n      <td>23.2</td>\n      <td>a</td>\n      <td>11</td>\n      <td>Sterling</td>\n    </tr>\n    <tr>\n      <td>6</td>\n      <td>1</td>\n      <td>False</td>\n      <td>False</td>\n      <td>NaN</td>\n      <td>NaN</td>\n      <td>3</td>\n      <td>9.8</td>\n      <td>10.1</td>\n      <td>618</td>\n      <td>NaN</td>\n      <td>NaT</td>\n      <td>9.0</td>\n      <td>28.4</td>\n      <td>a</td>\n      <td>12</td>\n      <td>Fernandes</td>\n    </tr>\n    <tr>\n      <td>9</td>\n      <td>1</td>\n      <td>False</td>\n      <td>False</td>\n      <td>100.0</td>\n      <td>100.0</td>\n      <td>4</td>\n      <td>3.5</td>\n      <td>4.4</td>\n      <td>91</td>\n      <td>NaN</td>\n      <td>2020-06-07 00:30:14.067961</td>\n      <td>6.2</td>\n      <td>2.4</td>\n      <td>a</td>\n      <td>5</td>\n      <td>Wood</td>\n    </tr>\n    <tr>\n      <td>8</td>\n      <td>1</td>\n      <td>False</td>\n      <td>False</td>\n      <td>100.0</td>\n      <td>100.0</td>\n      <td>4</td>\n      <td>8.0</td>\n      <td>7.2</td>\n      <td>234</td>\n      <td>NaN</td>\n      <td>2020-07-15 17:00:22.587195</td>\n      <td>4.8</td>\n      <td>26.9</td>\n      <td>a</td>\n      <td>12</td>\n      <td>Greenwood</td>\n    </tr>\n    <tr>\n      <td>10</td>\n      <td>1</td>\n      <td>False</td>\n      <td>False</td>\n      <td>NaN</td>\n      <td>NaN</td>\n      <td>4</td>\n      <td>6.2</td>\n      <td>6.4</td>\n      <td>313</td>\n      <td>NaN</td>\n      <td>NaT</td>\n      <td>7.6</td>\n      <td>31.4</td>\n      <td>a</td>\n      <td>16</td>\n      <td>Ings</td>\n    </tr>\n  </tbody>\n</table>\n</div>"
     },
     "metadata": {},
     "execution_count": 8
    }
   ],
   "source": [
    "my_team.sort_values(by=['position_id', 'selected_by_percent'])\n"
   ]
  },
  {
   "cell_type": "code",
   "execution_count": 9,
   "metadata": {},
   "outputs": [],
   "source": [
    "my_team.to_csv (r'./data/my_team_df.csv', index = False, header=True)"
   ]
  },
  {
   "cell_type": "code",
   "execution_count": null,
   "metadata": {},
   "outputs": [],
   "source": []
  }
 ]
}