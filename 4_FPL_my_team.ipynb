{
 "metadata": {
  "language_info": {
   "codemirror_mode": {
    "name": "ipython",
    "version": 3
   },
   "file_extension": ".py",
   "mimetype": "text/x-python",
   "name": "python",
   "nbconvert_exporter": "python",
   "pygments_lexer": "ipython3",
   "version": "3.8.3-final"
  },
  "orig_nbformat": 2,
  "kernelspec": {
   "name": "Python 3.8.3 64-bit (conda)",
   "display_name": "Python 3.8.3 64-bit (conda)",
   "metadata": {
    "interpreter": {
     "hash": "fb698bdeab99cfbf9e31cab566d99a06e057f2dec3dcc8097ebabb329e860e16"
    }
   }
  }
 },
 "nbformat": 4,
 "nbformat_minor": 2,
 "cells": [
  {
   "cell_type": "markdown",
   "metadata": {},
   "source": [
    "## Import Libraries"
   ]
  },
  {
   "cell_type": "code",
   "execution_count": 1,
   "metadata": {},
   "outputs": [],
   "source": [
    "#!/usr/bin/env python\n",
    "# coding: utf-8\n",
    "import os\n",
    "import numpy as np\n",
    "import pandas as pd\n",
    "import requests\n",
    "from datetime import datetime\n",
    "import json"
   ]
  },
  {
   "cell_type": "code",
   "execution_count": 2,
   "metadata": {},
   "outputs": [],
   "source": [
    "# Variables\n",
    "season = \"2020-21\""
   ]
  },
  {
   "cell_type": "markdown",
   "metadata": {},
   "source": [
    "## Import files"
   ]
  },
  {
   "cell_type": "code",
   "execution_count": 3,
   "metadata": {},
   "outputs": [],
   "source": [
    "all_events = pd.read_csv(r'./data/' + season + '/Cleaned_data/all_events.csv', parse_dates= [\"deadline_time\"])\n",
    "all_players = pd.read_csv(r'./data/' + season + '/Merged_data/all_players_merged.csv', parse_dates= [\"news_added\"]) \n",
    "\n"
   ]
  },
  {
   "cell_type": "markdown",
   "metadata": {},
   "source": [
    "## Functions"
   ]
  },
  {
   "cell_type": "code",
   "execution_count": 4,
   "metadata": {},
   "outputs": [],
   "source": [
    "#### Connect to FPL API\n",
    "def get(url):\n",
    "    response = requests.get(url)\n",
    "    return json.loads(response.content)"
   ]
  },
  {
   "cell_type": "markdown",
   "metadata": {},
   "source": [
    "## My Team"
   ]
  },
  {
   "cell_type": "code",
   "execution_count": 5,
   "metadata": {},
   "outputs": [],
   "source": [
    "#### Get my fantasy team lineup\n",
    "now = datetime.now()\n",
    "my_team_id = '1341730'\n",
    "current_gw = all_events[all_events['deadline_time'] < now]['gameweek_id'].max()\n",
    "\n",
    "my_team_url = 'https://fantasy.premierleague.com/api/entry/{}/event/{}/picks/'.format(my_team_id,str(current_gw))\n",
    "\n",
    "my_team = get(my_team_url)['picks']\n",
    "my_team = pd.DataFrame(my_team)\n"
   ]
  },
  {
   "cell_type": "code",
   "execution_count": 6,
   "metadata": {},
   "outputs": [
    {
     "output_type": "execute_result",
     "data": {
      "text/plain": "Index([&#39;chance_of_playing_next_round&#39;, &#39;chance_of_playing_this_round&#39;,\n       &#39;player_code&#39;, &#39;cost_change_event&#39;, &#39;cost_change_event_fall&#39;,\n       &#39;cost_change_start&#39;, &#39;cost_change_start_fall&#39;, &#39;dreamteam_count&#39;,\n       &#39;player_type_id&#39;, &#39;ep_next&#39;, &#39;ep_this&#39;, &#39;event_points&#39;, &#39;form&#39;,\n       &#39;player_id&#39;, &#39;in_dreamteam&#39;, &#39;news&#39;, &#39;news_added&#39;, &#39;now_cost&#39;, &#39;photo&#39;,\n       &#39;PPG&#39;, &#39;selected_by_percent&#39;, &#39;status&#39;, &#39;team_id&#39;, &#39;team_code&#39;,\n       &#39;total_points&#39;, &#39;transfers_in_event&#39;, &#39;transfers_out_event&#39;,\n       &#39;value_form&#39;, &#39;value_season&#39;, &#39;web_name&#39;, &#39;minutes&#39;, &#39;goals_scored&#39;,\n       &#39;assists&#39;, &#39;clean_sheets&#39;, &#39;goals_conceded&#39;, &#39;own_goals&#39;,\n       &#39;penalties_saved&#39;, &#39;penalties_missed&#39;, &#39;yellow_cards&#39;, &#39;red_cards&#39;,\n       &#39;saves&#39;, &#39;bonus&#39;, &#39;bps&#39;, &#39;influence&#39;, &#39;creativity&#39;, &#39;threat&#39;,\n       &#39;ict_index&#39;, &#39;influence_rank&#39;, &#39;influence_rank_type&#39;, &#39;creativity_rank&#39;,\n       &#39;creativity_rank_type&#39;, &#39;threat_rank&#39;, &#39;threat_rank_type&#39;,\n       &#39;ict_index_rank&#39;, &#39;ict_index_rank_type&#39;,\n       &#39;corners_and_indirect_freekicks_order&#39;,\n       &#39;corners_and_indirect_freekicks_text&#39;, &#39;direct_freekicks_order&#39;,\n       &#39;direct_freekicks_text&#39;, &#39;penalties_order&#39;, &#39;penalties_text&#39;, &#39;PP90&#39;,\n       &#39;PPMM&#39;, &#39;VAPM&#39;, &#39;team_strength&#39;, &#39;team_short_name&#39;,\n       &#39;strength_overall_home&#39;, &#39;strength_overall_away&#39;,\n       &#39;position_name_short&#39;],\n      dtype=&#39;object&#39;)"
     },
     "metadata": {},
     "execution_count": 6
    }
   ],
   "source": [
    "all_players.columns"
   ]
  },
  {
   "cell_type": "code",
   "execution_count": 7,
   "metadata": {},
   "outputs": [
    {
     "output_type": "execute_result",
     "data": {
      "text/plain": "   chance_of_playing_next_round  chance_of_playing_this_round  player_code  \\\n0                           NaN                           NaN        37605   \n1                          75.0                           NaN        54694   \n2                           NaN                           NaN        84450   \n3                           NaN                           NaN       195735   \n4                           0.0                           NaN       198849   \n\n   cost_change_event  cost_change_event_fall  cost_change_start  \\\n0                  0                       0                 -2   \n1                  0                       0                 -1   \n2                 -1                       1                 -1   \n3                 -1                       1                 -3   \n4                  0                       0                 -2   \n\n   cost_change_start_fall  dreamteam_count  player_type_id  ep_next  ...  \\\n0                       2                0               3     -0.5  ...   \n1                       1                0               3      1.9  ...   \n2                       1                0               3      0.8  ...   \n3                       3                0               3      2.2  ...   \n4                       2                0               3      0.0  ...   \n\n   penalties_order  penalties_text      PP90      PPMM      VAPM  \\\n0              NaN             NaN       NaN  0.000000 -0.294118   \n1              1.0             NaN  4.000000  0.336134  0.168067   \n2              NaN             NaN  2.680851  0.333333 -0.037037   \n3              2.0             NaN  8.526316  0.285714  0.025974   \n4              NaN             NaN       NaN  0.000000 -0.416667   \n\n  team_strength team_short_name  strength_overall_home strength_overall_away  \\\n0             4             ARS                   1240                  1250   \n1             4             ARS                   1240                  1250   \n2             4             ARS                   1240                  1250   \n3             4             ARS                   1240                  1250   \n4             4             ARS                   1240                  1250   \n\n   position_name_short  \n0                  MID  \n1                  MID  \n2                  MID  \n3                  MID  \n4                  MID  \n\n[5 rows x 69 columns]",
      "text/html": "<div>\n<style scoped>\n    .dataframe tbody tr th:only-of-type {\n        vertical-align: middle;\n    }\n\n    .dataframe tbody tr th {\n        vertical-align: top;\n    }\n\n    .dataframe thead th {\n        text-align: right;\n    }\n</style>\n<table border=\"1\" class=\"dataframe\">\n  <thead>\n    <tr style=\"text-align: right;\">\n      <th></th>\n      <th>chance_of_playing_next_round</th>\n      <th>chance_of_playing_this_round</th>\n      <th>player_code</th>\n      <th>cost_change_event</th>\n      <th>cost_change_event_fall</th>\n      <th>cost_change_start</th>\n      <th>cost_change_start_fall</th>\n      <th>dreamteam_count</th>\n      <th>player_type_id</th>\n      <th>ep_next</th>\n      <th>...</th>\n      <th>penalties_order</th>\n      <th>penalties_text</th>\n      <th>PP90</th>\n      <th>PPMM</th>\n      <th>VAPM</th>\n      <th>team_strength</th>\n      <th>team_short_name</th>\n      <th>strength_overall_home</th>\n      <th>strength_overall_away</th>\n      <th>position_name_short</th>\n    </tr>\n  </thead>\n  <tbody>\n    <tr>\n      <th>0</th>\n      <td>NaN</td>\n      <td>NaN</td>\n      <td>37605</td>\n      <td>0</td>\n      <td>0</td>\n      <td>-2</td>\n      <td>2</td>\n      <td>0</td>\n      <td>3</td>\n      <td>-0.5</td>\n      <td>...</td>\n      <td>NaN</td>\n      <td>NaN</td>\n      <td>NaN</td>\n      <td>0.000000</td>\n      <td>-0.294118</td>\n      <td>4</td>\n      <td>ARS</td>\n      <td>1240</td>\n      <td>1250</td>\n      <td>MID</td>\n    </tr>\n    <tr>\n      <th>1</th>\n      <td>75.0</td>\n      <td>NaN</td>\n      <td>54694</td>\n      <td>0</td>\n      <td>0</td>\n      <td>-1</td>\n      <td>1</td>\n      <td>0</td>\n      <td>3</td>\n      <td>1.9</td>\n      <td>...</td>\n      <td>1.0</td>\n      <td>NaN</td>\n      <td>4.000000</td>\n      <td>0.336134</td>\n      <td>0.168067</td>\n      <td>4</td>\n      <td>ARS</td>\n      <td>1240</td>\n      <td>1250</td>\n      <td>MID</td>\n    </tr>\n    <tr>\n      <th>2</th>\n      <td>NaN</td>\n      <td>NaN</td>\n      <td>84450</td>\n      <td>-1</td>\n      <td>1</td>\n      <td>-1</td>\n      <td>1</td>\n      <td>0</td>\n      <td>3</td>\n      <td>0.8</td>\n      <td>...</td>\n      <td>NaN</td>\n      <td>NaN</td>\n      <td>2.680851</td>\n      <td>0.333333</td>\n      <td>-0.037037</td>\n      <td>4</td>\n      <td>ARS</td>\n      <td>1240</td>\n      <td>1250</td>\n      <td>MID</td>\n    </tr>\n    <tr>\n      <th>3</th>\n      <td>NaN</td>\n      <td>NaN</td>\n      <td>195735</td>\n      <td>-1</td>\n      <td>1</td>\n      <td>-3</td>\n      <td>3</td>\n      <td>0</td>\n      <td>3</td>\n      <td>2.2</td>\n      <td>...</td>\n      <td>2.0</td>\n      <td>NaN</td>\n      <td>8.526316</td>\n      <td>0.285714</td>\n      <td>0.025974</td>\n      <td>4</td>\n      <td>ARS</td>\n      <td>1240</td>\n      <td>1250</td>\n      <td>MID</td>\n    </tr>\n    <tr>\n      <th>4</th>\n      <td>0.0</td>\n      <td>NaN</td>\n      <td>198849</td>\n      <td>0</td>\n      <td>0</td>\n      <td>-2</td>\n      <td>2</td>\n      <td>0</td>\n      <td>3</td>\n      <td>0.0</td>\n      <td>...</td>\n      <td>NaN</td>\n      <td>NaN</td>\n      <td>NaN</td>\n      <td>0.000000</td>\n      <td>-0.416667</td>\n      <td>4</td>\n      <td>ARS</td>\n      <td>1240</td>\n      <td>1250</td>\n      <td>MID</td>\n    </tr>\n  </tbody>\n</table>\n<p>5 rows × 69 columns</p>\n</div>"
     },
     "metadata": {},
     "execution_count": 7
    }
   ],
   "source": [
    "#all_players = all_players[['chance_of_playing_next_round', 'chance_of_playing_this_round', 'position_id', 'ep_next','ep_this', 'player_id', 'player_news', 'news_added', 'player_price', 'selected_by_percent', 'player_status','team_id', 'web_name']]\n",
    "\n",
    "all_players.head()"
   ]
  },
  {
   "cell_type": "code",
   "execution_count": 8,
   "metadata": {},
   "outputs": [
    {
     "output_type": "execute_result",
     "data": {
      "text/plain": "    element  position  multiplier  is_captain  is_vice_captain\n0       363         1           1       False            False\n1       255         2           1       False            False\n2       239         3           1       False            False\n3       259         4           1       False            False\n4       461         5           1       False            False\n5       390         6           1       False            False\n6       508         7           1       False            False\n7       276         8           2        True            False\n8       117         9           1       False             True\n9       377        10           1       False            False\n10      460        11           1       False            False\n11       35        12           0       False            False\n12      457        13           0       False            False\n13       76        14           0       False            False\n14      322        15           0       False            False",
      "text/html": "<div>\n<style scoped>\n    .dataframe tbody tr th:only-of-type {\n        vertical-align: middle;\n    }\n\n    .dataframe tbody tr th {\n        vertical-align: top;\n    }\n\n    .dataframe thead th {\n        text-align: right;\n    }\n</style>\n<table border=\"1\" class=\"dataframe\">\n  <thead>\n    <tr style=\"text-align: right;\">\n      <th></th>\n      <th>element</th>\n      <th>position</th>\n      <th>multiplier</th>\n      <th>is_captain</th>\n      <th>is_vice_captain</th>\n    </tr>\n  </thead>\n  <tbody>\n    <tr>\n      <th>0</th>\n      <td>363</td>\n      <td>1</td>\n      <td>1</td>\n      <td>False</td>\n      <td>False</td>\n    </tr>\n    <tr>\n      <th>1</th>\n      <td>255</td>\n      <td>2</td>\n      <td>1</td>\n      <td>False</td>\n      <td>False</td>\n    </tr>\n    <tr>\n      <th>2</th>\n      <td>239</td>\n      <td>3</td>\n      <td>1</td>\n      <td>False</td>\n      <td>False</td>\n    </tr>\n    <tr>\n      <th>3</th>\n      <td>259</td>\n      <td>4</td>\n      <td>1</td>\n      <td>False</td>\n      <td>False</td>\n    </tr>\n    <tr>\n      <th>4</th>\n      <td>461</td>\n      <td>5</td>\n      <td>1</td>\n      <td>False</td>\n      <td>False</td>\n    </tr>\n    <tr>\n      <th>5</th>\n      <td>390</td>\n      <td>6</td>\n      <td>1</td>\n      <td>False</td>\n      <td>False</td>\n    </tr>\n    <tr>\n      <th>6</th>\n      <td>508</td>\n      <td>7</td>\n      <td>1</td>\n      <td>False</td>\n      <td>False</td>\n    </tr>\n    <tr>\n      <th>7</th>\n      <td>276</td>\n      <td>8</td>\n      <td>2</td>\n      <td>True</td>\n      <td>False</td>\n    </tr>\n    <tr>\n      <th>8</th>\n      <td>117</td>\n      <td>9</td>\n      <td>1</td>\n      <td>False</td>\n      <td>True</td>\n    </tr>\n    <tr>\n      <th>9</th>\n      <td>377</td>\n      <td>10</td>\n      <td>1</td>\n      <td>False</td>\n      <td>False</td>\n    </tr>\n    <tr>\n      <th>10</th>\n      <td>460</td>\n      <td>11</td>\n      <td>1</td>\n      <td>False</td>\n      <td>False</td>\n    </tr>\n    <tr>\n      <th>11</th>\n      <td>35</td>\n      <td>12</td>\n      <td>0</td>\n      <td>False</td>\n      <td>False</td>\n    </tr>\n    <tr>\n      <th>12</th>\n      <td>457</td>\n      <td>13</td>\n      <td>0</td>\n      <td>False</td>\n      <td>False</td>\n    </tr>\n    <tr>\n      <th>13</th>\n      <td>76</td>\n      <td>14</td>\n      <td>0</td>\n      <td>False</td>\n      <td>False</td>\n    </tr>\n    <tr>\n      <th>14</th>\n      <td>322</td>\n      <td>15</td>\n      <td>0</td>\n      <td>False</td>\n      <td>False</td>\n    </tr>\n  </tbody>\n</table>\n</div>"
     },
     "metadata": {},
     "execution_count": 8
    }
   ],
   "source": [
    "my_team"
   ]
  },
  {
   "cell_type": "code",
   "execution_count": 9,
   "metadata": {},
   "outputs": [],
   "source": [
    "my_team = my_team.merge(all_players, how = 'left', left_on=\"element\", right_on=\"player_id\")\n",
    "my_team.drop([\"element\",\"position\"], axis = 1, inplace = True)"
   ]
  },
  {
   "cell_type": "code",
   "execution_count": 10,
   "metadata": {},
   "outputs": [
    {
     "output_type": "execute_result",
     "data": {
      "text/plain": "11              Nyland\n0             McCarthy\n12             Doherty\n4                Saïss\n1            Robertson\n2               Justin\n3     Alexander-Arnold\n14             Ritchie\n13            Bissouma\n7             Sterling\n5                  Son\n6            Rodríguez\n9                Adams\n8               Werner\n10             Jiménez\nName: web_name, dtype: object"
     },
     "metadata": {},
     "execution_count": 10
    }
   ],
   "source": [
    "my_team.sort_values(by=['player_type_id' , 'selected_by_percent'])['web_name']\n",
    "\n"
   ]
  },
  {
   "cell_type": "code",
   "execution_count": 11,
   "metadata": {},
   "outputs": [],
   "source": [
    "my_team.to_csv (r'./data/' + season + '/Team_data/my_team.csv', index = False, header=True)"
   ]
  },
  {
   "cell_type": "code",
   "execution_count": null,
   "metadata": {},
   "outputs": [],
   "source": []
  }
 ]
}