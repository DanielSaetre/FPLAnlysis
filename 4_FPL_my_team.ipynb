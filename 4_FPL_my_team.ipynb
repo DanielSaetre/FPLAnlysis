{
 "metadata": {
  "language_info": {
   "codemirror_mode": {
    "name": "ipython",
    "version": 3
   },
   "file_extension": ".py",
   "mimetype": "text/x-python",
   "name": "python",
   "nbconvert_exporter": "python",
   "pygments_lexer": "ipython3",
   "version": "3.8.5-final"
  },
  "orig_nbformat": 2,
  "kernelspec": {
   "name": "Python 3.8.5 32-bit",
   "display_name": "Python 3.8.5 32-bit",
   "metadata": {
    "interpreter": {
     "hash": "05b5a6475f42cc6236057d98c82fcb9314bab0d4a8cd5c78487612fc2a4f7993"
    }
   }
  }
 },
 "nbformat": 4,
 "nbformat_minor": 2,
 "cells": [
  {
   "cell_type": "markdown",
   "metadata": {},
   "source": [
    "## Import Libraries"
   ]
  },
  {
   "cell_type": "code",
   "execution_count": 1,
   "metadata": {},
   "outputs": [],
   "source": [
    "#!/usr/bin/env python\n",
    "# coding: utf-8\n",
    "import os\n",
    "import numpy as np\n",
    "import pandas as pd\n",
    "import requests\n",
    "from datetime import datetime\n",
    "import json"
   ]
  },
  {
   "cell_type": "code",
   "execution_count": 2,
   "metadata": {},
   "outputs": [],
   "source": [
    "# Variables\n",
    "season = \"2020-21\""
   ]
  },
  {
   "cell_type": "markdown",
   "metadata": {},
   "source": [
    "## Import files"
   ]
  },
  {
   "cell_type": "code",
   "execution_count": 3,
   "metadata": {},
   "outputs": [],
   "source": [
    "all_events = pd.read_csv(r'./data/' + season + '/Cleaned_data/all_events.csv', parse_dates= [\"deadline_time\"])\n",
    "all_players = pd.read_csv(r'./data/' + season + '/Merged_data/all_players_merged.csv', parse_dates= [\"news_added\"]) \n",
    "\n"
   ]
  },
  {
   "cell_type": "markdown",
   "metadata": {},
   "source": [
    "## Functions"
   ]
  },
  {
   "cell_type": "code",
   "execution_count": 4,
   "metadata": {},
   "outputs": [],
   "source": [
    "#### Connect to FPL API\n",
    "def get(url):\n",
    "    response = requests.get(url)\n",
    "    return json.loads(response.content)"
   ]
  },
  {
   "cell_type": "markdown",
   "metadata": {},
   "source": [
    "## My Team"
   ]
  },
  {
   "cell_type": "code",
   "execution_count": 5,
   "metadata": {},
   "outputs": [],
   "source": [
    "#### Get my fantasy team lineup\n",
    "now = datetime.now()\n",
    "my_team_id = '1341730'\n",
    "current_gw = all_events[all_events['deadline_time'] < now]['gameweek_id'].max()\n",
    "\n",
    "my_team_url = 'https://fantasy.premierleague.com/api/entry/{}/event/{}/picks/'.format(my_team_id,str(current_gw))\n",
    "\n",
    "my_team = get(my_team_url)['picks']\n",
    "my_team = pd.DataFrame(my_team)\n"
   ]
  },
  {
   "cell_type": "code",
   "execution_count": 6,
   "metadata": {},
   "outputs": [
    {
     "output_type": "execute_result",
     "data": {
      "text/plain": [
       "Index(['chance_of_playing_next_round', 'chance_of_playing_this_round',\n",
       "       'player_code', 'cost_change_event', 'cost_change_event_fall',\n",
       "       'cost_change_start', 'cost_change_start_fall', 'dreamteam_count',\n",
       "       'player_type_id', 'ep_next', 'ep_this', 'event_points', 'form',\n",
       "       'player_id', 'in_dreamteam', 'news', 'news_added', 'now_cost', 'photo',\n",
       "       'PPG', 'selected_by_percent', 'status', 'team_id', 'team_code',\n",
       "       'total_points', 'transfers_in_event', 'transfers_out_event',\n",
       "       'value_form', 'value_season', 'web_name', 'total_minutes',\n",
       "       'goals_scored', 'assists', 'clean_sheets', 'goals_conceded',\n",
       "       'own_goals', 'penalties_saved', 'penalties_missed', 'yellow_cards',\n",
       "       'red_cards', 'saves', 'bonus', 'bps', 'influence', 'creativity',\n",
       "       'threat', 'ict_index', 'influence_rank', 'influence_rank_type',\n",
       "       'creativity_rank', 'creativity_rank_type', 'threat_rank',\n",
       "       'threat_rank_type', 'ict_index_rank', 'ict_index_rank_type',\n",
       "       'corners_and_indirect_freekicks_order',\n",
       "       'corners_and_indirect_freekicks_text', 'direct_freekicks_order',\n",
       "       'direct_freekicks_text', 'penalties_order', 'penalties_text', 'PP90',\n",
       "       'PPMM', 'VAPM', 'team_strength', 'team_short_name',\n",
       "       'strength_overall_home', 'strength_overall_away',\n",
       "       'position_name_short'],\n",
       "      dtype='object')"
      ]
     },
     "metadata": {},
     "execution_count": 6
    }
   ],
   "source": [
    "all_players.columns"
   ]
  },
  {
   "cell_type": "code",
   "execution_count": 7,
   "metadata": {},
   "outputs": [
    {
     "output_type": "execute_result",
     "data": {
      "text/plain": [
       "   chance_of_playing_next_round  chance_of_playing_this_round  player_code  \\\n",
       "0                           0.0                           0.0        37605   \n",
       "1                         100.0                         100.0        54694   \n",
       "2                           NaN                           NaN        84450   \n",
       "3                           NaN                           NaN       195735   \n",
       "4                           0.0                           0.0       198849   \n",
       "\n",
       "   cost_change_event  cost_change_event_fall  cost_change_start  \\\n",
       "0                  0                       0                 -2   \n",
       "1                  0                       0                 -3   \n",
       "2                  0                       0                 -1   \n",
       "3                  0                       0                 -3   \n",
       "4                  0                       0                 -3   \n",
       "\n",
       "   cost_change_start_fall  dreamteam_count  player_type_id  ep_next  ...  \\\n",
       "0                       2                0               3      0.0  ...   \n",
       "1                       3                0               3      2.0  ...   \n",
       "2                       1                0               3      1.5  ...   \n",
       "3                       3                0               3      2.7  ...   \n",
       "4                       3                0               3      0.0  ...   \n",
       "\n",
       "   penalties_order  penalties_text      PP90      PPMM      VAPM  \\\n",
       "0              NaN             NaN       NaN  0.000000 -0.294118   \n",
       "1              1.0             NaN  3.333333  0.282051  0.111111   \n",
       "2              NaN             NaN  2.211302  0.314815 -0.055556   \n",
       "3              2.0             NaN  5.346535  0.259740  0.000000   \n",
       "4              NaN             NaN       NaN  0.000000 -0.425532   \n",
       "\n",
       "  team_strength team_short_name  strength_overall_home strength_overall_away  \\\n",
       "0             4             ARS                   1240                  1250   \n",
       "1             4             ARS                   1240                  1250   \n",
       "2             4             ARS                   1240                  1250   \n",
       "3             4             ARS                   1240                  1250   \n",
       "4             4             ARS                   1240                  1250   \n",
       "\n",
       "   position_name_short  \n",
       "0                  MID  \n",
       "1                  MID  \n",
       "2                  MID  \n",
       "3                  MID  \n",
       "4                  MID  \n",
       "\n",
       "[5 rows x 69 columns]"
      ],
      "text/html": "<div>\n<style scoped>\n    .dataframe tbody tr th:only-of-type {\n        vertical-align: middle;\n    }\n\n    .dataframe tbody tr th {\n        vertical-align: top;\n    }\n\n    .dataframe thead th {\n        text-align: right;\n    }\n</style>\n<table border=\"1\" class=\"dataframe\">\n  <thead>\n    <tr style=\"text-align: right;\">\n      <th></th>\n      <th>chance_of_playing_next_round</th>\n      <th>chance_of_playing_this_round</th>\n      <th>player_code</th>\n      <th>cost_change_event</th>\n      <th>cost_change_event_fall</th>\n      <th>cost_change_start</th>\n      <th>cost_change_start_fall</th>\n      <th>dreamteam_count</th>\n      <th>player_type_id</th>\n      <th>ep_next</th>\n      <th>...</th>\n      <th>penalties_order</th>\n      <th>penalties_text</th>\n      <th>PP90</th>\n      <th>PPMM</th>\n      <th>VAPM</th>\n      <th>team_strength</th>\n      <th>team_short_name</th>\n      <th>strength_overall_home</th>\n      <th>strength_overall_away</th>\n      <th>position_name_short</th>\n    </tr>\n  </thead>\n  <tbody>\n    <tr>\n      <th>0</th>\n      <td>0.0</td>\n      <td>0.0</td>\n      <td>37605</td>\n      <td>0</td>\n      <td>0</td>\n      <td>-2</td>\n      <td>2</td>\n      <td>0</td>\n      <td>3</td>\n      <td>0.0</td>\n      <td>...</td>\n      <td>NaN</td>\n      <td>NaN</td>\n      <td>NaN</td>\n      <td>0.000000</td>\n      <td>-0.294118</td>\n      <td>4</td>\n      <td>ARS</td>\n      <td>1240</td>\n      <td>1250</td>\n      <td>MID</td>\n    </tr>\n    <tr>\n      <th>1</th>\n      <td>100.0</td>\n      <td>100.0</td>\n      <td>54694</td>\n      <td>0</td>\n      <td>0</td>\n      <td>-3</td>\n      <td>3</td>\n      <td>0</td>\n      <td>3</td>\n      <td>2.0</td>\n      <td>...</td>\n      <td>1.0</td>\n      <td>NaN</td>\n      <td>3.333333</td>\n      <td>0.282051</td>\n      <td>0.111111</td>\n      <td>4</td>\n      <td>ARS</td>\n      <td>1240</td>\n      <td>1250</td>\n      <td>MID</td>\n    </tr>\n    <tr>\n      <th>2</th>\n      <td>NaN</td>\n      <td>NaN</td>\n      <td>84450</td>\n      <td>0</td>\n      <td>0</td>\n      <td>-1</td>\n      <td>1</td>\n      <td>0</td>\n      <td>3</td>\n      <td>1.5</td>\n      <td>...</td>\n      <td>NaN</td>\n      <td>NaN</td>\n      <td>2.211302</td>\n      <td>0.314815</td>\n      <td>-0.055556</td>\n      <td>4</td>\n      <td>ARS</td>\n      <td>1240</td>\n      <td>1250</td>\n      <td>MID</td>\n    </tr>\n    <tr>\n      <th>3</th>\n      <td>NaN</td>\n      <td>NaN</td>\n      <td>195735</td>\n      <td>0</td>\n      <td>0</td>\n      <td>-3</td>\n      <td>3</td>\n      <td>0</td>\n      <td>3</td>\n      <td>2.7</td>\n      <td>...</td>\n      <td>2.0</td>\n      <td>NaN</td>\n      <td>5.346535</td>\n      <td>0.259740</td>\n      <td>0.000000</td>\n      <td>4</td>\n      <td>ARS</td>\n      <td>1240</td>\n      <td>1250</td>\n      <td>MID</td>\n    </tr>\n    <tr>\n      <th>4</th>\n      <td>0.0</td>\n      <td>0.0</td>\n      <td>198849</td>\n      <td>0</td>\n      <td>0</td>\n      <td>-3</td>\n      <td>3</td>\n      <td>0</td>\n      <td>3</td>\n      <td>0.0</td>\n      <td>...</td>\n      <td>NaN</td>\n      <td>NaN</td>\n      <td>NaN</td>\n      <td>0.000000</td>\n      <td>-0.425532</td>\n      <td>4</td>\n      <td>ARS</td>\n      <td>1240</td>\n      <td>1250</td>\n      <td>MID</td>\n    </tr>\n  </tbody>\n</table>\n<p>5 rows × 69 columns</p>\n</div>"
     },
     "metadata": {},
     "execution_count": 7
    }
   ],
   "source": [
    "#all_players = all_players[['chance_of_playing_next_round', 'chance_of_playing_this_round', 'position_id', 'ep_next','ep_this', 'player_id', 'player_news', 'news_added', 'player_price', 'selected_by_percent', 'player_status','team_id', 'web_name']]\n",
    "\n",
    "all_players.head()"
   ]
  },
  {
   "cell_type": "code",
   "execution_count": 8,
   "metadata": {},
   "outputs": [
    {
     "output_type": "execute_result",
     "data": {
      "text/plain": [
       "    element  position  multiplier  is_captain  is_vice_captain\n",
       "0       363         1           1       False            False\n",
       "1       255         2           1       False            False\n",
       "2       232         3           1       False            False\n",
       "3       470         4           1       False            False\n",
       "4       259         5           1       False            False\n",
       "5       390         6           1       False             True\n",
       "6       254         7           2        True            False\n",
       "7        37         8           1       False            False\n",
       "8       377         9           1       False            False\n",
       "9       460        10           1       False            False\n",
       "10      117        11           1       False            False\n",
       "11       35        12           0       False            False\n",
       "12      461        13           0       False            False\n",
       "13       76        14           0       False            False\n",
       "14      322        15           0       False            False"
      ],
      "text/html": "<div>\n<style scoped>\n    .dataframe tbody tr th:only-of-type {\n        vertical-align: middle;\n    }\n\n    .dataframe tbody tr th {\n        vertical-align: top;\n    }\n\n    .dataframe thead th {\n        text-align: right;\n    }\n</style>\n<table border=\"1\" class=\"dataframe\">\n  <thead>\n    <tr style=\"text-align: right;\">\n      <th></th>\n      <th>element</th>\n      <th>position</th>\n      <th>multiplier</th>\n      <th>is_captain</th>\n      <th>is_vice_captain</th>\n    </tr>\n  </thead>\n  <tbody>\n    <tr>\n      <th>0</th>\n      <td>363</td>\n      <td>1</td>\n      <td>1</td>\n      <td>False</td>\n      <td>False</td>\n    </tr>\n    <tr>\n      <th>1</th>\n      <td>255</td>\n      <td>2</td>\n      <td>1</td>\n      <td>False</td>\n      <td>False</td>\n    </tr>\n    <tr>\n      <th>2</th>\n      <td>232</td>\n      <td>3</td>\n      <td>1</td>\n      <td>False</td>\n      <td>False</td>\n    </tr>\n    <tr>\n      <th>3</th>\n      <td>470</td>\n      <td>4</td>\n      <td>1</td>\n      <td>False</td>\n      <td>False</td>\n    </tr>\n    <tr>\n      <th>4</th>\n      <td>259</td>\n      <td>5</td>\n      <td>1</td>\n      <td>False</td>\n      <td>False</td>\n    </tr>\n    <tr>\n      <th>5</th>\n      <td>390</td>\n      <td>6</td>\n      <td>1</td>\n      <td>False</td>\n      <td>True</td>\n    </tr>\n    <tr>\n      <th>6</th>\n      <td>254</td>\n      <td>7</td>\n      <td>2</td>\n      <td>True</td>\n      <td>False</td>\n    </tr>\n    <tr>\n      <th>7</th>\n      <td>37</td>\n      <td>8</td>\n      <td>1</td>\n      <td>False</td>\n      <td>False</td>\n    </tr>\n    <tr>\n      <th>8</th>\n      <td>377</td>\n      <td>9</td>\n      <td>1</td>\n      <td>False</td>\n      <td>False</td>\n    </tr>\n    <tr>\n      <th>9</th>\n      <td>460</td>\n      <td>10</td>\n      <td>1</td>\n      <td>False</td>\n      <td>False</td>\n    </tr>\n    <tr>\n      <th>10</th>\n      <td>117</td>\n      <td>11</td>\n      <td>1</td>\n      <td>False</td>\n      <td>False</td>\n    </tr>\n    <tr>\n      <th>11</th>\n      <td>35</td>\n      <td>12</td>\n      <td>0</td>\n      <td>False</td>\n      <td>False</td>\n    </tr>\n    <tr>\n      <th>12</th>\n      <td>461</td>\n      <td>13</td>\n      <td>0</td>\n      <td>False</td>\n      <td>False</td>\n    </tr>\n    <tr>\n      <th>13</th>\n      <td>76</td>\n      <td>14</td>\n      <td>0</td>\n      <td>False</td>\n      <td>False</td>\n    </tr>\n    <tr>\n      <th>14</th>\n      <td>322</td>\n      <td>15</td>\n      <td>0</td>\n      <td>False</td>\n      <td>False</td>\n    </tr>\n  </tbody>\n</table>\n</div>"
     },
     "metadata": {},
     "execution_count": 8
    }
   ],
   "source": [
    "my_team"
   ]
  },
  {
   "cell_type": "code",
   "execution_count": 9,
   "metadata": {},
   "outputs": [],
   "source": [
    "my_team = my_team.merge(all_players, how = 'left', left_on=\"element\", right_on=\"player_id\")\n",
    "my_team.drop([\"element\",\"position\"], axis = 1, inplace = True)"
   ]
  },
  {
   "cell_type": "code",
   "execution_count": 10,
   "metadata": {},
   "outputs": [
    {
     "output_type": "execute_result",
     "data": {
      "text/plain": [
       "11              Nyland\n",
       "0             McCarthy\n",
       "3               Kilman\n",
       "1            Robertson\n",
       "2             Chilwell\n",
       "12               Saïss\n",
       "4     Alexander-Arnold\n",
       "14             Ritchie\n",
       "13            Bissouma\n",
       "7             Grealish\n",
       "6                Salah\n",
       "5                  Son\n",
       "8                Adams\n",
       "9              Jiménez\n",
       "10              Werner\n",
       "Name: web_name, dtype: object"
      ]
     },
     "metadata": {},
     "execution_count": 10
    }
   ],
   "source": [
    "my_team.sort_values(by=['player_type_id' , 'selected_by_percent'])['web_name']\n",
    "\n"
   ]
  },
  {
   "cell_type": "code",
   "execution_count": 11,
   "metadata": {},
   "outputs": [],
   "source": [
    "my_team.to_csv (r'./data/' + season + '/Team_data/my_team.csv', index = False, header=True)"
   ]
  },
  {
   "source": [
    "my_team"
   ],
   "cell_type": "code",
   "metadata": {},
   "execution_count": 12,
   "outputs": [
    {
     "output_type": "execute_result",
     "data": {
      "text/plain": [
       "    multiplier  is_captain  is_vice_captain  chance_of_playing_next_round  \\\n",
       "0            1       False            False                           NaN   \n",
       "1            1       False            False                           NaN   \n",
       "2            1       False            False                         100.0   \n",
       "3            1       False            False                           NaN   \n",
       "4            1       False            False                           NaN   \n",
       "5            1       False             True                         100.0   \n",
       "6            2        True            False                           NaN   \n",
       "7            1       False            False                           NaN   \n",
       "8            1       False            False                           NaN   \n",
       "9            1       False            False                           NaN   \n",
       "10           1       False            False                         100.0   \n",
       "11           0       False            False                           0.0   \n",
       "12           0       False            False                           NaN   \n",
       "13           0       False            False                         100.0   \n",
       "14           0       False            False                           0.0   \n",
       "\n",
       "    chance_of_playing_this_round  player_code  cost_change_event  \\\n",
       "0                            NaN        58376                  0   \n",
       "1                            NaN       122798                  0   \n",
       "2                          100.0       172850                  1   \n",
       "3                            NaN       214048                  0   \n",
       "4                            NaN       169187                  0   \n",
       "5                          100.0        85971                  0   \n",
       "6                            NaN       118748                  0   \n",
       "7                            NaN       114283                  0   \n",
       "8                            NaN       200439                  0   \n",
       "9                            NaN       102057                  0   \n",
       "10                         100.0       165153                  0   \n",
       "11                           0.0        98770                  0   \n",
       "12                           NaN       107613                  0   \n",
       "13                         100.0       227127                  0   \n",
       "14                           0.0        56983                  0   \n",
       "\n",
       "    cost_change_event_fall  cost_change_start  cost_change_start_fall  ...  \\\n",
       "0                        0                  0                       0  ...   \n",
       "1                        0                  1                      -1  ...   \n",
       "2                       -1                  4                      -4  ...   \n",
       "3                        0                  2                      -2  ...   \n",
       "4                        0                 -1                       1  ...   \n",
       "5                        0                  5                      -5  ...   \n",
       "6                        0                  4                      -4  ...   \n",
       "7                        0                  3                      -3  ...   \n",
       "8                        0                 -2                       2  ...   \n",
       "9                        0                  0                       0  ...   \n",
       "10                       0                 -2                       2  ...   \n",
       "11                       0                  0                       0  ...   \n",
       "12                       0                  3                      -3  ...   \n",
       "13                       0                  0                       0  ...   \n",
       "14                       0                 -1                       1  ...   \n",
       "\n",
       "    penalties_order  penalties_text       PP90      PPMM      VAPM  \\\n",
       "0               NaN             NaN   4.000000  0.888889  0.444444   \n",
       "1               NaN             NaN   4.500000  0.633803  0.352113   \n",
       "2               NaN             NaN   9.000000  1.525424  1.186441   \n",
       "3               NaN             NaN   7.250000  1.714286  1.238095   \n",
       "4               NaN             NaN   2.843866  0.378378  0.108108   \n",
       "5               2.0             NaN  13.326180  1.210526  1.000000   \n",
       "6               2.0             NaN   8.333333  0.669355  0.508065   \n",
       "7               3.0             NaN   7.800000  1.068493  0.794521   \n",
       "8               NaN             NaN   5.272727  0.827586  0.482759   \n",
       "9               1.0             NaN   5.000000  0.588235  0.352941   \n",
       "10              2.0             NaN   5.028902  0.516129  0.301075   \n",
       "11              NaN             NaN        NaN  0.000000 -0.500000   \n",
       "12              NaN             NaN   6.615087  1.188679  0.811321   \n",
       "13              NaN             NaN   2.812500  0.622222  0.177778   \n",
       "14              2.0             NaN   2.647059  0.408163  0.000000   \n",
       "\n",
       "    team_strength  team_short_name  strength_overall_home  \\\n",
       "0               3              SOU                   1090   \n",
       "1               5              LIV                   1330   \n",
       "2               4              CHE                   1250   \n",
       "3               4              WOL                   1190   \n",
       "4               5              LIV                   1330   \n",
       "5               4              TOT                   1270   \n",
       "6               5              LIV                   1330   \n",
       "7               3              AVL                   1130   \n",
       "8               3              SOU                   1090   \n",
       "9               4              WOL                   1190   \n",
       "10              4              CHE                   1250   \n",
       "11              3              AVL                   1130   \n",
       "12              4              WOL                   1190   \n",
       "13              3              BHA                   1100   \n",
       "14              3              NEW                   1090   \n",
       "\n",
       "   strength_overall_away position_name_short  \n",
       "0                   1120                 GKP  \n",
       "1                   1350                 DEF  \n",
       "2                   1280                 DEF  \n",
       "3                   1210                 DEF  \n",
       "4                   1350                 DEF  \n",
       "5                   1290                 MID  \n",
       "6                   1350                 MID  \n",
       "7                   1150                 MID  \n",
       "8                   1120                 FWD  \n",
       "9                   1210                 FWD  \n",
       "10                  1280                 FWD  \n",
       "11                  1150                 GKP  \n",
       "12                  1210                 DEF  \n",
       "13                  1120                 MID  \n",
       "14                  1130                 MID  \n",
       "\n",
       "[15 rows x 72 columns]"
      ],
      "text/html": "<div>\n<style scoped>\n    .dataframe tbody tr th:only-of-type {\n        vertical-align: middle;\n    }\n\n    .dataframe tbody tr th {\n        vertical-align: top;\n    }\n\n    .dataframe thead th {\n        text-align: right;\n    }\n</style>\n<table border=\"1\" class=\"dataframe\">\n  <thead>\n    <tr style=\"text-align: right;\">\n      <th></th>\n      <th>multiplier</th>\n      <th>is_captain</th>\n      <th>is_vice_captain</th>\n      <th>chance_of_playing_next_round</th>\n      <th>chance_of_playing_this_round</th>\n      <th>player_code</th>\n      <th>cost_change_event</th>\n      <th>cost_change_event_fall</th>\n      <th>cost_change_start</th>\n      <th>cost_change_start_fall</th>\n      <th>...</th>\n      <th>penalties_order</th>\n      <th>penalties_text</th>\n      <th>PP90</th>\n      <th>PPMM</th>\n      <th>VAPM</th>\n      <th>team_strength</th>\n      <th>team_short_name</th>\n      <th>strength_overall_home</th>\n      <th>strength_overall_away</th>\n      <th>position_name_short</th>\n    </tr>\n  </thead>\n  <tbody>\n    <tr>\n      <th>0</th>\n      <td>1</td>\n      <td>False</td>\n      <td>False</td>\n      <td>NaN</td>\n      <td>NaN</td>\n      <td>58376</td>\n      <td>0</td>\n      <td>0</td>\n      <td>0</td>\n      <td>0</td>\n      <td>...</td>\n      <td>NaN</td>\n      <td>NaN</td>\n      <td>4.000000</td>\n      <td>0.888889</td>\n      <td>0.444444</td>\n      <td>3</td>\n      <td>SOU</td>\n      <td>1090</td>\n      <td>1120</td>\n      <td>GKP</td>\n    </tr>\n    <tr>\n      <th>1</th>\n      <td>1</td>\n      <td>False</td>\n      <td>False</td>\n      <td>NaN</td>\n      <td>NaN</td>\n      <td>122798</td>\n      <td>0</td>\n      <td>0</td>\n      <td>1</td>\n      <td>-1</td>\n      <td>...</td>\n      <td>NaN</td>\n      <td>NaN</td>\n      <td>4.500000</td>\n      <td>0.633803</td>\n      <td>0.352113</td>\n      <td>5</td>\n      <td>LIV</td>\n      <td>1330</td>\n      <td>1350</td>\n      <td>DEF</td>\n    </tr>\n    <tr>\n      <th>2</th>\n      <td>1</td>\n      <td>False</td>\n      <td>False</td>\n      <td>100.0</td>\n      <td>100.0</td>\n      <td>172850</td>\n      <td>1</td>\n      <td>-1</td>\n      <td>4</td>\n      <td>-4</td>\n      <td>...</td>\n      <td>NaN</td>\n      <td>NaN</td>\n      <td>9.000000</td>\n      <td>1.525424</td>\n      <td>1.186441</td>\n      <td>4</td>\n      <td>CHE</td>\n      <td>1250</td>\n      <td>1280</td>\n      <td>DEF</td>\n    </tr>\n    <tr>\n      <th>3</th>\n      <td>1</td>\n      <td>False</td>\n      <td>False</td>\n      <td>NaN</td>\n      <td>NaN</td>\n      <td>214048</td>\n      <td>0</td>\n      <td>0</td>\n      <td>2</td>\n      <td>-2</td>\n      <td>...</td>\n      <td>NaN</td>\n      <td>NaN</td>\n      <td>7.250000</td>\n      <td>1.714286</td>\n      <td>1.238095</td>\n      <td>4</td>\n      <td>WOL</td>\n      <td>1190</td>\n      <td>1210</td>\n      <td>DEF</td>\n    </tr>\n    <tr>\n      <th>4</th>\n      <td>1</td>\n      <td>False</td>\n      <td>False</td>\n      <td>NaN</td>\n      <td>NaN</td>\n      <td>169187</td>\n      <td>0</td>\n      <td>0</td>\n      <td>-1</td>\n      <td>1</td>\n      <td>...</td>\n      <td>NaN</td>\n      <td>NaN</td>\n      <td>2.843866</td>\n      <td>0.378378</td>\n      <td>0.108108</td>\n      <td>5</td>\n      <td>LIV</td>\n      <td>1330</td>\n      <td>1350</td>\n      <td>DEF</td>\n    </tr>\n    <tr>\n      <th>5</th>\n      <td>1</td>\n      <td>False</td>\n      <td>True</td>\n      <td>100.0</td>\n      <td>100.0</td>\n      <td>85971</td>\n      <td>0</td>\n      <td>0</td>\n      <td>5</td>\n      <td>-5</td>\n      <td>...</td>\n      <td>2.0</td>\n      <td>NaN</td>\n      <td>13.326180</td>\n      <td>1.210526</td>\n      <td>1.000000</td>\n      <td>4</td>\n      <td>TOT</td>\n      <td>1270</td>\n      <td>1290</td>\n      <td>MID</td>\n    </tr>\n    <tr>\n      <th>6</th>\n      <td>2</td>\n      <td>True</td>\n      <td>False</td>\n      <td>NaN</td>\n      <td>NaN</td>\n      <td>118748</td>\n      <td>0</td>\n      <td>0</td>\n      <td>4</td>\n      <td>-4</td>\n      <td>...</td>\n      <td>2.0</td>\n      <td>NaN</td>\n      <td>8.333333</td>\n      <td>0.669355</td>\n      <td>0.508065</td>\n      <td>5</td>\n      <td>LIV</td>\n      <td>1330</td>\n      <td>1350</td>\n      <td>MID</td>\n    </tr>\n    <tr>\n      <th>7</th>\n      <td>1</td>\n      <td>False</td>\n      <td>False</td>\n      <td>NaN</td>\n      <td>NaN</td>\n      <td>114283</td>\n      <td>0</td>\n      <td>0</td>\n      <td>3</td>\n      <td>-3</td>\n      <td>...</td>\n      <td>3.0</td>\n      <td>NaN</td>\n      <td>7.800000</td>\n      <td>1.068493</td>\n      <td>0.794521</td>\n      <td>3</td>\n      <td>AVL</td>\n      <td>1130</td>\n      <td>1150</td>\n      <td>MID</td>\n    </tr>\n    <tr>\n      <th>8</th>\n      <td>1</td>\n      <td>False</td>\n      <td>False</td>\n      <td>NaN</td>\n      <td>NaN</td>\n      <td>200439</td>\n      <td>0</td>\n      <td>0</td>\n      <td>-2</td>\n      <td>2</td>\n      <td>...</td>\n      <td>NaN</td>\n      <td>NaN</td>\n      <td>5.272727</td>\n      <td>0.827586</td>\n      <td>0.482759</td>\n      <td>3</td>\n      <td>SOU</td>\n      <td>1090</td>\n      <td>1120</td>\n      <td>FWD</td>\n    </tr>\n    <tr>\n      <th>9</th>\n      <td>1</td>\n      <td>False</td>\n      <td>False</td>\n      <td>NaN</td>\n      <td>NaN</td>\n      <td>102057</td>\n      <td>0</td>\n      <td>0</td>\n      <td>0</td>\n      <td>0</td>\n      <td>...</td>\n      <td>1.0</td>\n      <td>NaN</td>\n      <td>5.000000</td>\n      <td>0.588235</td>\n      <td>0.352941</td>\n      <td>4</td>\n      <td>WOL</td>\n      <td>1190</td>\n      <td>1210</td>\n      <td>FWD</td>\n    </tr>\n    <tr>\n      <th>10</th>\n      <td>1</td>\n      <td>False</td>\n      <td>False</td>\n      <td>100.0</td>\n      <td>100.0</td>\n      <td>165153</td>\n      <td>0</td>\n      <td>0</td>\n      <td>-2</td>\n      <td>2</td>\n      <td>...</td>\n      <td>2.0</td>\n      <td>NaN</td>\n      <td>5.028902</td>\n      <td>0.516129</td>\n      <td>0.301075</td>\n      <td>4</td>\n      <td>CHE</td>\n      <td>1250</td>\n      <td>1280</td>\n      <td>FWD</td>\n    </tr>\n    <tr>\n      <th>11</th>\n      <td>0</td>\n      <td>False</td>\n      <td>False</td>\n      <td>0.0</td>\n      <td>0.0</td>\n      <td>98770</td>\n      <td>0</td>\n      <td>0</td>\n      <td>0</td>\n      <td>0</td>\n      <td>...</td>\n      <td>NaN</td>\n      <td>NaN</td>\n      <td>NaN</td>\n      <td>0.000000</td>\n      <td>-0.500000</td>\n      <td>3</td>\n      <td>AVL</td>\n      <td>1130</td>\n      <td>1150</td>\n      <td>GKP</td>\n    </tr>\n    <tr>\n      <th>12</th>\n      <td>0</td>\n      <td>False</td>\n      <td>False</td>\n      <td>NaN</td>\n      <td>NaN</td>\n      <td>107613</td>\n      <td>0</td>\n      <td>0</td>\n      <td>3</td>\n      <td>-3</td>\n      <td>...</td>\n      <td>NaN</td>\n      <td>NaN</td>\n      <td>6.615087</td>\n      <td>1.188679</td>\n      <td>0.811321</td>\n      <td>4</td>\n      <td>WOL</td>\n      <td>1190</td>\n      <td>1210</td>\n      <td>DEF</td>\n    </tr>\n    <tr>\n      <th>13</th>\n      <td>0</td>\n      <td>False</td>\n      <td>False</td>\n      <td>100.0</td>\n      <td>100.0</td>\n      <td>227127</td>\n      <td>0</td>\n      <td>0</td>\n      <td>0</td>\n      <td>0</td>\n      <td>...</td>\n      <td>NaN</td>\n      <td>NaN</td>\n      <td>2.812500</td>\n      <td>0.622222</td>\n      <td>0.177778</td>\n      <td>3</td>\n      <td>BHA</td>\n      <td>1100</td>\n      <td>1120</td>\n      <td>MID</td>\n    </tr>\n    <tr>\n      <th>14</th>\n      <td>0</td>\n      <td>False</td>\n      <td>False</td>\n      <td>0.0</td>\n      <td>0.0</td>\n      <td>56983</td>\n      <td>0</td>\n      <td>0</td>\n      <td>-1</td>\n      <td>1</td>\n      <td>...</td>\n      <td>2.0</td>\n      <td>NaN</td>\n      <td>2.647059</td>\n      <td>0.408163</td>\n      <td>0.000000</td>\n      <td>3</td>\n      <td>NEW</td>\n      <td>1090</td>\n      <td>1130</td>\n      <td>MID</td>\n    </tr>\n  </tbody>\n</table>\n<p>15 rows × 72 columns</p>\n</div>"
     },
     "metadata": {},
     "execution_count": 12
    }
   ]
  },
  {
   "cell_type": "code",
   "execution_count": null,
   "metadata": {},
   "outputs": [],
   "source": []
  }
 ]
}