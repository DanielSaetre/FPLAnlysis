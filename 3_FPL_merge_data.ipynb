{
 "metadata": {
  "language_info": {
   "codemirror_mode": {
    "name": "ipython",
    "version": 3
   },
   "file_extension": ".py",
   "mimetype": "text/x-python",
   "name": "python",
   "nbconvert_exporter": "python",
   "pygments_lexer": "ipython3",
   "version": "3.8.5-final"
  },
  "orig_nbformat": 2,
  "kernelspec": {
   "name": "Python 3.8.5 32-bit",
   "display_name": "Python 3.8.5 32-bit",
   "metadata": {
    "interpreter": {
     "hash": "05b5a6475f42cc6236057d98c82fcb9314bab0d4a8cd5c78487612fc2a4f7993"
    }
   }
  }
 },
 "nbformat": 4,
 "nbformat_minor": 2,
 "cells": [
  {
   "cell_type": "code",
   "execution_count": 27,
   "metadata": {},
   "outputs": [],
   "source": [
    "import numpy as np\n",
    "import pandas as pd\n",
    "import requests\n",
    "from datetime import datetime\n",
    "import json\n",
    "\n",
    "#Set Display options\n",
    "pd.set_option('display.max_rows', 50)\n",
    "pd.set_option('display.max_columns', 20)\n",
    "pd.set_option('display.width' , 400)"
   ]
  },
  {
   "cell_type": "code",
   "execution_count": 28,
   "metadata": {},
   "outputs": [],
   "source": [
    "# Variables\n",
    "season = \"2020-21\""
   ]
  },
  {
   "cell_type": "code",
   "execution_count": 29,
   "metadata": {},
   "outputs": [],
   "source": [
    "all_players = pd.read_csv (r'./data/' + season + '/Cleaned_data/all_players.csv', parse_dates= [\"news_added\"])\n",
    "all_teams = pd.read_csv (r'./data/' + season + '/Cleaned_data/all_teams.csv')\n",
    "all_events = pd.read_csv (r'./data/' + season + '/Cleaned_data/all_events.csv', parse_dates= [\"deadline_time\"])\n",
    "player_types = pd.read_csv(r'./data/' + season + '/Cleaned_data/player_types.csv')\n",
    "game_phases = pd.read_csv(r'./data/' + season + '/Cleaned_data/game_phases.csv')\n",
    "\n",
    "player_season_history = pd.read_csv(r'./data/' + season + '/Cleaned_data/player_season_history.csv')\n",
    "player_gameweek_history = pd.read_csv(r'./data/' + season + '/Cleaned_data/player_gameweek_history.csv' , parse_dates = ['kickoff_time'])\n",
    "player_future_fixture = pd.read_csv(r'./data/' + season + '/Cleaned_data/player_future_fixture.csv', parse_dates = [\"kickoff_time\"])\n",
    "\n",
    "\n"
   ]
  },
  {
   "cell_type": "code",
   "execution_count": 30,
   "metadata": {},
   "outputs": [
    {
     "output_type": "execute_result",
     "data": {
      "text/plain": [
       "   team_code  draw  team_form  team_id  loss    team_name  played  points  position team_short_name  ...  team_division  unavailable  win  strength_overall_home  strength_overall_away  strength_attack_home  strength_attack_away  strength_defence_home  strength_defence_away  pulse_id\n",
       "0          3     0        NaN        1     0      Arsenal       0       0         0             ARS  ...            NaN        False    0                   1240                   1250                  1160                  1210                   1190                   1230         1\n",
       "1          7     0        NaN        2     0  Aston Villa       0       0         0             AVL  ...            NaN        False    0                   1130                   1150                  1140                  1170                   1120                   1160         2\n",
       "2         36     0        NaN        3     0     Brighton       0       0         0             BHA  ...            NaN        False    0                   1100                   1120                  1110                  1130                   1100                   1120       131\n",
       "3         90     0        NaN        4     0      Burnley       0       0         0             BUR  ...            NaN        False    0                   1060                   1100                  1130                  1150                   1010                   1020        43\n",
       "4          8     0        NaN        5     0      Chelsea       0       0         0             CHE  ...            NaN        False    0                   1250                   1280                  1180                  1250                   1230                   1260         4\n",
       "\n",
       "[5 rows x 21 columns]"
      ],
      "text/html": "<div>\n<style scoped>\n    .dataframe tbody tr th:only-of-type {\n        vertical-align: middle;\n    }\n\n    .dataframe tbody tr th {\n        vertical-align: top;\n    }\n\n    .dataframe thead th {\n        text-align: right;\n    }\n</style>\n<table border=\"1\" class=\"dataframe\">\n  <thead>\n    <tr style=\"text-align: right;\">\n      <th></th>\n      <th>team_code</th>\n      <th>draw</th>\n      <th>team_form</th>\n      <th>team_id</th>\n      <th>loss</th>\n      <th>team_name</th>\n      <th>played</th>\n      <th>points</th>\n      <th>position</th>\n      <th>team_short_name</th>\n      <th>...</th>\n      <th>team_division</th>\n      <th>unavailable</th>\n      <th>win</th>\n      <th>strength_overall_home</th>\n      <th>strength_overall_away</th>\n      <th>strength_attack_home</th>\n      <th>strength_attack_away</th>\n      <th>strength_defence_home</th>\n      <th>strength_defence_away</th>\n      <th>pulse_id</th>\n    </tr>\n  </thead>\n  <tbody>\n    <tr>\n      <th>0</th>\n      <td>3</td>\n      <td>0</td>\n      <td>NaN</td>\n      <td>1</td>\n      <td>0</td>\n      <td>Arsenal</td>\n      <td>0</td>\n      <td>0</td>\n      <td>0</td>\n      <td>ARS</td>\n      <td>...</td>\n      <td>NaN</td>\n      <td>False</td>\n      <td>0</td>\n      <td>1240</td>\n      <td>1250</td>\n      <td>1160</td>\n      <td>1210</td>\n      <td>1190</td>\n      <td>1230</td>\n      <td>1</td>\n    </tr>\n    <tr>\n      <th>1</th>\n      <td>7</td>\n      <td>0</td>\n      <td>NaN</td>\n      <td>2</td>\n      <td>0</td>\n      <td>Aston Villa</td>\n      <td>0</td>\n      <td>0</td>\n      <td>0</td>\n      <td>AVL</td>\n      <td>...</td>\n      <td>NaN</td>\n      <td>False</td>\n      <td>0</td>\n      <td>1130</td>\n      <td>1150</td>\n      <td>1140</td>\n      <td>1170</td>\n      <td>1120</td>\n      <td>1160</td>\n      <td>2</td>\n    </tr>\n    <tr>\n      <th>2</th>\n      <td>36</td>\n      <td>0</td>\n      <td>NaN</td>\n      <td>3</td>\n      <td>0</td>\n      <td>Brighton</td>\n      <td>0</td>\n      <td>0</td>\n      <td>0</td>\n      <td>BHA</td>\n      <td>...</td>\n      <td>NaN</td>\n      <td>False</td>\n      <td>0</td>\n      <td>1100</td>\n      <td>1120</td>\n      <td>1110</td>\n      <td>1130</td>\n      <td>1100</td>\n      <td>1120</td>\n      <td>131</td>\n    </tr>\n    <tr>\n      <th>3</th>\n      <td>90</td>\n      <td>0</td>\n      <td>NaN</td>\n      <td>4</td>\n      <td>0</td>\n      <td>Burnley</td>\n      <td>0</td>\n      <td>0</td>\n      <td>0</td>\n      <td>BUR</td>\n      <td>...</td>\n      <td>NaN</td>\n      <td>False</td>\n      <td>0</td>\n      <td>1060</td>\n      <td>1100</td>\n      <td>1130</td>\n      <td>1150</td>\n      <td>1010</td>\n      <td>1020</td>\n      <td>43</td>\n    </tr>\n    <tr>\n      <th>4</th>\n      <td>8</td>\n      <td>0</td>\n      <td>NaN</td>\n      <td>5</td>\n      <td>0</td>\n      <td>Chelsea</td>\n      <td>0</td>\n      <td>0</td>\n      <td>0</td>\n      <td>CHE</td>\n      <td>...</td>\n      <td>NaN</td>\n      <td>False</td>\n      <td>0</td>\n      <td>1250</td>\n      <td>1280</td>\n      <td>1180</td>\n      <td>1250</td>\n      <td>1230</td>\n      <td>1260</td>\n      <td>4</td>\n    </tr>\n  </tbody>\n</table>\n<p>5 rows × 21 columns</p>\n</div>"
     },
     "metadata": {},
     "execution_count": 30
    }
   ],
   "source": [
    "all_teams.head()"
   ]
  },
  {
   "cell_type": "code",
   "execution_count": 31,
   "metadata": {},
   "outputs": [
    {
     "output_type": "execute_result",
     "data": {
      "text/plain": [
       "   chance_of_playing_next_round  chance_of_playing_this_round  player_code  cost_change_event  cost_change_event_fall  cost_change_start  cost_change_start_fall  dreamteam_count  player_type_id  ep_next  ...  ict_index_rank_type  corners_and_indirect_freekicks_order corners_and_indirect_freekicks_text  direct_freekicks_order  direct_freekicks_text  penalties_order penalties_text      PP90  \\\n",
       "0                           0.0                           0.0        37605                  0                       0                 -2                       2                0               3      0.0  ...                  237                                   NaN                                 NaN                     NaN                    NaN              NaN            NaN       NaN   \n",
       "1                           0.0                           0.0        39476                  0                       0                 -1                       1                0               2      0.0  ...                  205                                   NaN                                 NaN                     NaN                    NaN              NaN            NaN       NaN   \n",
       "2                         100.0                          50.0        41270                  0                       0                  0                       0                0               2      0.8  ...                   82                                   NaN                                 NaN                     4.0                    NaN              NaN            NaN  1.974922   \n",
       "3                         100.0                         100.0        54694                  0                       0                 -3                       3                0               3      4.5  ...                   22                                   NaN                                 NaN                     6.0                    NaN              1.0            NaN  4.025559   \n",
       "4                         100.0                         100.0        58822                  0                       0                 -3                       3                0               2      0.5  ...                  198                                   NaN                                 NaN                     NaN                    NaN              NaN            NaN       NaN   \n",
       "\n",
       "       PPMM      VAPM  \n",
       "0  0.000000 -0.294118  \n",
       "1  0.000000 -0.408163  \n",
       "2  0.254545 -0.109091  \n",
       "3  0.341880  0.170940  \n",
       "4  0.000000 -0.425532  \n",
       "\n",
       "[5 rows x 68 columns]"
      ],
      "text/html": "<div>\n<style scoped>\n    .dataframe tbody tr th:only-of-type {\n        vertical-align: middle;\n    }\n\n    .dataframe tbody tr th {\n        vertical-align: top;\n    }\n\n    .dataframe thead th {\n        text-align: right;\n    }\n</style>\n<table border=\"1\" class=\"dataframe\">\n  <thead>\n    <tr style=\"text-align: right;\">\n      <th></th>\n      <th>chance_of_playing_next_round</th>\n      <th>chance_of_playing_this_round</th>\n      <th>player_code</th>\n      <th>cost_change_event</th>\n      <th>cost_change_event_fall</th>\n      <th>cost_change_start</th>\n      <th>cost_change_start_fall</th>\n      <th>dreamteam_count</th>\n      <th>player_type_id</th>\n      <th>ep_next</th>\n      <th>...</th>\n      <th>ict_index_rank_type</th>\n      <th>corners_and_indirect_freekicks_order</th>\n      <th>corners_and_indirect_freekicks_text</th>\n      <th>direct_freekicks_order</th>\n      <th>direct_freekicks_text</th>\n      <th>penalties_order</th>\n      <th>penalties_text</th>\n      <th>PP90</th>\n      <th>PPMM</th>\n      <th>VAPM</th>\n    </tr>\n  </thead>\n  <tbody>\n    <tr>\n      <th>0</th>\n      <td>0.0</td>\n      <td>0.0</td>\n      <td>37605</td>\n      <td>0</td>\n      <td>0</td>\n      <td>-2</td>\n      <td>2</td>\n      <td>0</td>\n      <td>3</td>\n      <td>0.0</td>\n      <td>...</td>\n      <td>237</td>\n      <td>NaN</td>\n      <td>NaN</td>\n      <td>NaN</td>\n      <td>NaN</td>\n      <td>NaN</td>\n      <td>NaN</td>\n      <td>NaN</td>\n      <td>0.000000</td>\n      <td>-0.294118</td>\n    </tr>\n    <tr>\n      <th>1</th>\n      <td>0.0</td>\n      <td>0.0</td>\n      <td>39476</td>\n      <td>0</td>\n      <td>0</td>\n      <td>-1</td>\n      <td>1</td>\n      <td>0</td>\n      <td>2</td>\n      <td>0.0</td>\n      <td>...</td>\n      <td>205</td>\n      <td>NaN</td>\n      <td>NaN</td>\n      <td>NaN</td>\n      <td>NaN</td>\n      <td>NaN</td>\n      <td>NaN</td>\n      <td>NaN</td>\n      <td>0.000000</td>\n      <td>-0.408163</td>\n    </tr>\n    <tr>\n      <th>2</th>\n      <td>100.0</td>\n      <td>50.0</td>\n      <td>41270</td>\n      <td>0</td>\n      <td>0</td>\n      <td>0</td>\n      <td>0</td>\n      <td>0</td>\n      <td>2</td>\n      <td>0.8</td>\n      <td>...</td>\n      <td>82</td>\n      <td>NaN</td>\n      <td>NaN</td>\n      <td>4.0</td>\n      <td>NaN</td>\n      <td>NaN</td>\n      <td>NaN</td>\n      <td>1.974922</td>\n      <td>0.254545</td>\n      <td>-0.109091</td>\n    </tr>\n    <tr>\n      <th>3</th>\n      <td>100.0</td>\n      <td>100.0</td>\n      <td>54694</td>\n      <td>0</td>\n      <td>0</td>\n      <td>-3</td>\n      <td>3</td>\n      <td>0</td>\n      <td>3</td>\n      <td>4.5</td>\n      <td>...</td>\n      <td>22</td>\n      <td>NaN</td>\n      <td>NaN</td>\n      <td>6.0</td>\n      <td>NaN</td>\n      <td>1.0</td>\n      <td>NaN</td>\n      <td>4.025559</td>\n      <td>0.341880</td>\n      <td>0.170940</td>\n    </tr>\n    <tr>\n      <th>4</th>\n      <td>100.0</td>\n      <td>100.0</td>\n      <td>58822</td>\n      <td>0</td>\n      <td>0</td>\n      <td>-3</td>\n      <td>3</td>\n      <td>0</td>\n      <td>2</td>\n      <td>0.5</td>\n      <td>...</td>\n      <td>198</td>\n      <td>NaN</td>\n      <td>NaN</td>\n      <td>NaN</td>\n      <td>NaN</td>\n      <td>NaN</td>\n      <td>NaN</td>\n      <td>NaN</td>\n      <td>0.000000</td>\n      <td>-0.425532</td>\n    </tr>\n  </tbody>\n</table>\n<p>5 rows × 68 columns</p>\n</div>"
     },
     "metadata": {},
     "execution_count": 31
    }
   ],
   "source": [
    "all_players.head()"
   ]
  },
  {
   "cell_type": "code",
   "execution_count": 32,
   "metadata": {},
   "outputs": [
    {
     "output_type": "execute_result",
     "data": {
      "text/plain": [
       "   fixture_id  fixture_code  home_team_id  team_h_score  away_team_id  team_a_score  event  finished  minutes  provisional_start_time        kickoff_time   event_name  is_home  difficulty  player_id  opponent_team_id  team_id\n",
       "0          69       2128356             1           NaN             2           NaN    8.0     False        0                   False 2020-11-08 19:15:00   Gameweek 8     True           3          1                 2        1\n",
       "1          82       2128369            10           NaN             1           NaN    9.0     False        0                   False 2020-11-22 16:30:00   Gameweek 9    False           3          1                10        1\n",
       "2          89       2128376             1           NaN            20           NaN   10.0     False        0                   False 2020-11-28 15:00:00  Gameweek 10     True           3          1                20        1\n",
       "3         106       2128393            17           NaN             1           NaN   11.0     False        0                   False 2020-12-05 15:00:00  Gameweek 11    False           4          1                17        1\n",
       "4         109       2128396             1           NaN             4           NaN   12.0     False        0                   False 2020-12-13 15:00:00  Gameweek 12     True           2          1                 4        1"
      ],
      "text/html": "<div>\n<style scoped>\n    .dataframe tbody tr th:only-of-type {\n        vertical-align: middle;\n    }\n\n    .dataframe tbody tr th {\n        vertical-align: top;\n    }\n\n    .dataframe thead th {\n        text-align: right;\n    }\n</style>\n<table border=\"1\" class=\"dataframe\">\n  <thead>\n    <tr style=\"text-align: right;\">\n      <th></th>\n      <th>fixture_id</th>\n      <th>fixture_code</th>\n      <th>home_team_id</th>\n      <th>team_h_score</th>\n      <th>away_team_id</th>\n      <th>team_a_score</th>\n      <th>event</th>\n      <th>finished</th>\n      <th>minutes</th>\n      <th>provisional_start_time</th>\n      <th>kickoff_time</th>\n      <th>event_name</th>\n      <th>is_home</th>\n      <th>difficulty</th>\n      <th>player_id</th>\n      <th>opponent_team_id</th>\n      <th>team_id</th>\n    </tr>\n  </thead>\n  <tbody>\n    <tr>\n      <th>0</th>\n      <td>69</td>\n      <td>2128356</td>\n      <td>1</td>\n      <td>NaN</td>\n      <td>2</td>\n      <td>NaN</td>\n      <td>8.0</td>\n      <td>False</td>\n      <td>0</td>\n      <td>False</td>\n      <td>2020-11-08 19:15:00</td>\n      <td>Gameweek 8</td>\n      <td>True</td>\n      <td>3</td>\n      <td>1</td>\n      <td>2</td>\n      <td>1</td>\n    </tr>\n    <tr>\n      <th>1</th>\n      <td>82</td>\n      <td>2128369</td>\n      <td>10</td>\n      <td>NaN</td>\n      <td>1</td>\n      <td>NaN</td>\n      <td>9.0</td>\n      <td>False</td>\n      <td>0</td>\n      <td>False</td>\n      <td>2020-11-22 16:30:00</td>\n      <td>Gameweek 9</td>\n      <td>False</td>\n      <td>3</td>\n      <td>1</td>\n      <td>10</td>\n      <td>1</td>\n    </tr>\n    <tr>\n      <th>2</th>\n      <td>89</td>\n      <td>2128376</td>\n      <td>1</td>\n      <td>NaN</td>\n      <td>20</td>\n      <td>NaN</td>\n      <td>10.0</td>\n      <td>False</td>\n      <td>0</td>\n      <td>False</td>\n      <td>2020-11-28 15:00:00</td>\n      <td>Gameweek 10</td>\n      <td>True</td>\n      <td>3</td>\n      <td>1</td>\n      <td>20</td>\n      <td>1</td>\n    </tr>\n    <tr>\n      <th>3</th>\n      <td>106</td>\n      <td>2128393</td>\n      <td>17</td>\n      <td>NaN</td>\n      <td>1</td>\n      <td>NaN</td>\n      <td>11.0</td>\n      <td>False</td>\n      <td>0</td>\n      <td>False</td>\n      <td>2020-12-05 15:00:00</td>\n      <td>Gameweek 11</td>\n      <td>False</td>\n      <td>4</td>\n      <td>1</td>\n      <td>17</td>\n      <td>1</td>\n    </tr>\n    <tr>\n      <th>4</th>\n      <td>109</td>\n      <td>2128396</td>\n      <td>1</td>\n      <td>NaN</td>\n      <td>4</td>\n      <td>NaN</td>\n      <td>12.0</td>\n      <td>False</td>\n      <td>0</td>\n      <td>False</td>\n      <td>2020-12-13 15:00:00</td>\n      <td>Gameweek 12</td>\n      <td>True</td>\n      <td>2</td>\n      <td>1</td>\n      <td>4</td>\n      <td>1</td>\n    </tr>\n  </tbody>\n</table>\n</div>"
     },
     "metadata": {},
     "execution_count": 32
    }
   ],
   "source": [
    "player_future_fixture.head()"
   ]
  },
  {
   "source": [
    "# Merge to all_players"
   ],
   "cell_type": "markdown",
   "metadata": {}
  },
  {
   "cell_type": "code",
   "execution_count": 33,
   "metadata": {},
   "outputs": [],
   "source": [
    "df_merge = all_teams[[\"team_code\" , \"team_strength\" , \"team_short_name\" , \"strength_overall_home\" , \"strength_overall_away\"]]\n",
    "all_players = all_players.merge(df_merge, on = 'team_code')\n",
    "\n",
    "df_merge = player_types[['player_type_id' , 'position_name_short']]\n",
    "all_players = all_players.merge(df_merge , on = \"player_type_id\")\n"
   ]
  },
  {
   "cell_type": "code",
   "execution_count": 34,
   "metadata": {},
   "outputs": [
    {
     "output_type": "execute_result",
     "data": {
      "text/plain": [
       "   chance_of_playing_next_round  chance_of_playing_this_round  player_code  cost_change_event  cost_change_event_fall  cost_change_start  cost_change_start_fall  dreamteam_count  player_type_id  ep_next  ...  penalties_order  penalties_text      PP90      PPMM      VAPM  team_strength team_short_name strength_overall_home  strength_overall_away position_name_short\n",
       "0                           0.0                           0.0        37605                  0                       0                 -2                       2                0               3      0.0  ...              NaN             NaN       NaN  0.000000 -0.294118              4             ARS                  1240                   1250                 MID\n",
       "1                         100.0                         100.0        54694                  0                       0                 -3                       3                0               3      4.5  ...              1.0             NaN  4.025559  0.341880  0.170940              4             ARS                  1240                   1250                 MID\n",
       "2                           NaN                           NaN        84450                 -1                       1                 -2                       2                0               3      1.5  ...              NaN             NaN  2.211302  0.320755 -0.056604              4             ARS                  1240                   1250                 MID\n",
       "3                           NaN                           NaN       195735                  0                       0                 -3                       3                0               3      1.5  ...              2.0             NaN  5.346535  0.259740  0.000000              4             ARS                  1240                   1250                 MID\n",
       "4                           0.0                           0.0       198849                  0                       0                 -3                       3                0               3      0.0  ...              NaN             NaN       NaN  0.000000 -0.425532              4             ARS                  1240                   1250                 MID\n",
       "\n",
       "[5 rows x 73 columns]"
      ],
      "text/html": "<div>\n<style scoped>\n    .dataframe tbody tr th:only-of-type {\n        vertical-align: middle;\n    }\n\n    .dataframe tbody tr th {\n        vertical-align: top;\n    }\n\n    .dataframe thead th {\n        text-align: right;\n    }\n</style>\n<table border=\"1\" class=\"dataframe\">\n  <thead>\n    <tr style=\"text-align: right;\">\n      <th></th>\n      <th>chance_of_playing_next_round</th>\n      <th>chance_of_playing_this_round</th>\n      <th>player_code</th>\n      <th>cost_change_event</th>\n      <th>cost_change_event_fall</th>\n      <th>cost_change_start</th>\n      <th>cost_change_start_fall</th>\n      <th>dreamteam_count</th>\n      <th>player_type_id</th>\n      <th>ep_next</th>\n      <th>...</th>\n      <th>penalties_order</th>\n      <th>penalties_text</th>\n      <th>PP90</th>\n      <th>PPMM</th>\n      <th>VAPM</th>\n      <th>team_strength</th>\n      <th>team_short_name</th>\n      <th>strength_overall_home</th>\n      <th>strength_overall_away</th>\n      <th>position_name_short</th>\n    </tr>\n  </thead>\n  <tbody>\n    <tr>\n      <th>0</th>\n      <td>0.0</td>\n      <td>0.0</td>\n      <td>37605</td>\n      <td>0</td>\n      <td>0</td>\n      <td>-2</td>\n      <td>2</td>\n      <td>0</td>\n      <td>3</td>\n      <td>0.0</td>\n      <td>...</td>\n      <td>NaN</td>\n      <td>NaN</td>\n      <td>NaN</td>\n      <td>0.000000</td>\n      <td>-0.294118</td>\n      <td>4</td>\n      <td>ARS</td>\n      <td>1240</td>\n      <td>1250</td>\n      <td>MID</td>\n    </tr>\n    <tr>\n      <th>1</th>\n      <td>100.0</td>\n      <td>100.0</td>\n      <td>54694</td>\n      <td>0</td>\n      <td>0</td>\n      <td>-3</td>\n      <td>3</td>\n      <td>0</td>\n      <td>3</td>\n      <td>4.5</td>\n      <td>...</td>\n      <td>1.0</td>\n      <td>NaN</td>\n      <td>4.025559</td>\n      <td>0.341880</td>\n      <td>0.170940</td>\n      <td>4</td>\n      <td>ARS</td>\n      <td>1240</td>\n      <td>1250</td>\n      <td>MID</td>\n    </tr>\n    <tr>\n      <th>2</th>\n      <td>NaN</td>\n      <td>NaN</td>\n      <td>84450</td>\n      <td>-1</td>\n      <td>1</td>\n      <td>-2</td>\n      <td>2</td>\n      <td>0</td>\n      <td>3</td>\n      <td>1.5</td>\n      <td>...</td>\n      <td>NaN</td>\n      <td>NaN</td>\n      <td>2.211302</td>\n      <td>0.320755</td>\n      <td>-0.056604</td>\n      <td>4</td>\n      <td>ARS</td>\n      <td>1240</td>\n      <td>1250</td>\n      <td>MID</td>\n    </tr>\n    <tr>\n      <th>3</th>\n      <td>NaN</td>\n      <td>NaN</td>\n      <td>195735</td>\n      <td>0</td>\n      <td>0</td>\n      <td>-3</td>\n      <td>3</td>\n      <td>0</td>\n      <td>3</td>\n      <td>1.5</td>\n      <td>...</td>\n      <td>2.0</td>\n      <td>NaN</td>\n      <td>5.346535</td>\n      <td>0.259740</td>\n      <td>0.000000</td>\n      <td>4</td>\n      <td>ARS</td>\n      <td>1240</td>\n      <td>1250</td>\n      <td>MID</td>\n    </tr>\n    <tr>\n      <th>4</th>\n      <td>0.0</td>\n      <td>0.0</td>\n      <td>198849</td>\n      <td>0</td>\n      <td>0</td>\n      <td>-3</td>\n      <td>3</td>\n      <td>0</td>\n      <td>3</td>\n      <td>0.0</td>\n      <td>...</td>\n      <td>NaN</td>\n      <td>NaN</td>\n      <td>NaN</td>\n      <td>0.000000</td>\n      <td>-0.425532</td>\n      <td>4</td>\n      <td>ARS</td>\n      <td>1240</td>\n      <td>1250</td>\n      <td>MID</td>\n    </tr>\n  </tbody>\n</table>\n<p>5 rows × 73 columns</p>\n</div>"
     },
     "metadata": {},
     "execution_count": 34
    }
   ],
   "source": [
    "all_players.head()"
   ]
  },
  {
   "source": [
    "# Merge to player_gameweek_history"
   ],
   "cell_type": "markdown",
   "metadata": {}
  },
  {
   "cell_type": "code",
   "execution_count": 38,
   "metadata": {},
   "outputs": [
    {
     "output_type": "stream",
     "name": "stdout",
     "text": [
      "chance_of_playing_next_round\nchance_of_playing_this_round\nplayer_code\ncost_change_event\ncost_change_event_fall\ncost_change_start\ncost_change_start_fall\ndreamteam_count\nplayer_type_id\nep_next\nep_this\nevent_points\nfirst_name\nform\nplayer_id\nin_dreamteam\nnews\nnews_added\nnow_cost\nphoto\nPPG\nsecond_name\nselected_by_percent\nstatus\nteam_id\nteam_code\ntotal_points\ntransfers_in\ntransfers_in_event\ntransfers_out\ntransfers_out_event\nvalue_form\nvalue_season\nweb_name\ntotal_minutes\ngoals_scored\nassists\nclean_sheets\ngoals_conceded\nown_goals\npenalties_saved\npenalties_missed\nyellow_cards\nred_cards\nsaves\nbonus\nbps\ninfluence\ncreativity\nthreat\nict_index\ninfluence_rank\ninfluence_rank_type\ncreativity_rank\ncreativity_rank_type\nthreat_rank\nthreat_rank_type\nict_index_rank\nict_index_rank_type\ncorners_and_indirect_freekicks_order\ncorners_and_indirect_freekicks_text\ndirect_freekicks_order\ndirect_freekicks_text\npenalties_order\npenalties_text\nPP90\nPPMM\nVAPM\nteam_strength\nteam_short_name\nstrength_overall_home\nstrength_overall_away\nposition_name_short\n"
     ]
    }
   ],
   "source": [
    "for i in all_players.columns:\n",
    "    print(i)"
   ]
  },
  {
   "cell_type": "code",
   "execution_count": 43,
   "metadata": {},
   "outputs": [
    {
     "output_type": "execute_result",
     "data": {
      "text/plain": [
       "   player_id  fixture_id  opponent_team_id  total_points  was_home        kickoff_time  team_h_score  team_a_score  round  minutes  ...  bps  influence  creativity  threat  ict_index  value  transfers_balance  selected  transfers_in  transfers_out\n",
       "0          1           2                 8             0     False 2020-09-12 11:30:00             0             3      1        0  ...    0        0.0         0.0     0.0        0.0     70                  0     76656             0              0\n",
       "1          1           9                19             0      True 2020-09-19 19:00:00             2             1      2        0  ...    0        0.0         0.0     0.0        0.0     69             -16828     68335           995          17823\n",
       "2          1          23                11             0     False 2020-09-28 19:00:00             3             1      3        0  ...    0        0.0         0.0     0.0        0.0     69             -11451     59793           675          12126\n",
       "3          1          29                15             0      True 2020-10-04 13:00:00             2             1      4        0  ...    0        0.0         0.0     0.0        0.0     68              -5324     56403           647           5971\n",
       "4          1          44                12             0     False 2020-10-17 16:30:00             1             0      5        0  ...    0        0.0         0.0     0.0        0.0     68              -4224     53689           616           4840\n",
       "\n",
       "[5 rows x 31 columns]"
      ],
      "text/html": "<div>\n<style scoped>\n    .dataframe tbody tr th:only-of-type {\n        vertical-align: middle;\n    }\n\n    .dataframe tbody tr th {\n        vertical-align: top;\n    }\n\n    .dataframe thead th {\n        text-align: right;\n    }\n</style>\n<table border=\"1\" class=\"dataframe\">\n  <thead>\n    <tr style=\"text-align: right;\">\n      <th></th>\n      <th>player_id</th>\n      <th>fixture_id</th>\n      <th>opponent_team_id</th>\n      <th>total_points</th>\n      <th>was_home</th>\n      <th>kickoff_time</th>\n      <th>team_h_score</th>\n      <th>team_a_score</th>\n      <th>round</th>\n      <th>minutes</th>\n      <th>...</th>\n      <th>bps</th>\n      <th>influence</th>\n      <th>creativity</th>\n      <th>threat</th>\n      <th>ict_index</th>\n      <th>value</th>\n      <th>transfers_balance</th>\n      <th>selected</th>\n      <th>transfers_in</th>\n      <th>transfers_out</th>\n    </tr>\n  </thead>\n  <tbody>\n    <tr>\n      <th>0</th>\n      <td>1</td>\n      <td>2</td>\n      <td>8</td>\n      <td>0</td>\n      <td>False</td>\n      <td>2020-09-12 11:30:00</td>\n      <td>0</td>\n      <td>3</td>\n      <td>1</td>\n      <td>0</td>\n      <td>...</td>\n      <td>0</td>\n      <td>0.0</td>\n      <td>0.0</td>\n      <td>0.0</td>\n      <td>0.0</td>\n      <td>70</td>\n      <td>0</td>\n      <td>76656</td>\n      <td>0</td>\n      <td>0</td>\n    </tr>\n    <tr>\n      <th>1</th>\n      <td>1</td>\n      <td>9</td>\n      <td>19</td>\n      <td>0</td>\n      <td>True</td>\n      <td>2020-09-19 19:00:00</td>\n      <td>2</td>\n      <td>1</td>\n      <td>2</td>\n      <td>0</td>\n      <td>...</td>\n      <td>0</td>\n      <td>0.0</td>\n      <td>0.0</td>\n      <td>0.0</td>\n      <td>0.0</td>\n      <td>69</td>\n      <td>-16828</td>\n      <td>68335</td>\n      <td>995</td>\n      <td>17823</td>\n    </tr>\n    <tr>\n      <th>2</th>\n      <td>1</td>\n      <td>23</td>\n      <td>11</td>\n      <td>0</td>\n      <td>False</td>\n      <td>2020-09-28 19:00:00</td>\n      <td>3</td>\n      <td>1</td>\n      <td>3</td>\n      <td>0</td>\n      <td>...</td>\n      <td>0</td>\n      <td>0.0</td>\n      <td>0.0</td>\n      <td>0.0</td>\n      <td>0.0</td>\n      <td>69</td>\n      <td>-11451</td>\n      <td>59793</td>\n      <td>675</td>\n      <td>12126</td>\n    </tr>\n    <tr>\n      <th>3</th>\n      <td>1</td>\n      <td>29</td>\n      <td>15</td>\n      <td>0</td>\n      <td>True</td>\n      <td>2020-10-04 13:00:00</td>\n      <td>2</td>\n      <td>1</td>\n      <td>4</td>\n      <td>0</td>\n      <td>...</td>\n      <td>0</td>\n      <td>0.0</td>\n      <td>0.0</td>\n      <td>0.0</td>\n      <td>0.0</td>\n      <td>68</td>\n      <td>-5324</td>\n      <td>56403</td>\n      <td>647</td>\n      <td>5971</td>\n    </tr>\n    <tr>\n      <th>4</th>\n      <td>1</td>\n      <td>44</td>\n      <td>12</td>\n      <td>0</td>\n      <td>False</td>\n      <td>2020-10-17 16:30:00</td>\n      <td>1</td>\n      <td>0</td>\n      <td>5</td>\n      <td>0</td>\n      <td>...</td>\n      <td>0</td>\n      <td>0.0</td>\n      <td>0.0</td>\n      <td>0.0</td>\n      <td>0.0</td>\n      <td>68</td>\n      <td>-4224</td>\n      <td>53689</td>\n      <td>616</td>\n      <td>4840</td>\n    </tr>\n  </tbody>\n</table>\n<p>5 rows × 31 columns</p>\n</div>"
     },
     "metadata": {},
     "execution_count": 43
    }
   ],
   "source": [
    "player_gameweek_history.head()"
   ]
  },
  {
   "cell_type": "code",
   "execution_count": 44,
   "metadata": {},
   "outputs": [
    {
     "output_type": "execute_result",
     "data": {
      "text/plain": [
       "   player_id  fixture_id  opponent_team_id  total_points  was_home        kickoff_time  team_h_score  team_a_score  round  minutes  ...  value  transfers_balance  selected  transfers_in  transfers_out  player_type_id  PPG  PP90  team_strength  team_id\n",
       "0          1           2                 8             0     False 2020-09-12 11:30:00             0             3      1        0  ...     70                  0     76656             0              0               3  0.0   NaN              4        1\n",
       "1          1           9                19             0      True 2020-09-19 19:00:00             2             1      2        0  ...     69             -16828     68335           995          17823               3  0.0   NaN              4        1\n",
       "2          1          23                11             0     False 2020-09-28 19:00:00             3             1      3        0  ...     69             -11451     59793           675          12126               3  0.0   NaN              4        1\n",
       "3          1          29                15             0      True 2020-10-04 13:00:00             2             1      4        0  ...     68              -5324     56403           647           5971               3  0.0   NaN              4        1\n",
       "4          1          44                12             0     False 2020-10-17 16:30:00             1             0      5        0  ...     68              -4224     53689           616           4840               3  0.0   NaN              4        1\n",
       "\n",
       "[5 rows x 36 columns]"
      ],
      "text/html": "<div>\n<style scoped>\n    .dataframe tbody tr th:only-of-type {\n        vertical-align: middle;\n    }\n\n    .dataframe tbody tr th {\n        vertical-align: top;\n    }\n\n    .dataframe thead th {\n        text-align: right;\n    }\n</style>\n<table border=\"1\" class=\"dataframe\">\n  <thead>\n    <tr style=\"text-align: right;\">\n      <th></th>\n      <th>player_id</th>\n      <th>fixture_id</th>\n      <th>opponent_team_id</th>\n      <th>total_points</th>\n      <th>was_home</th>\n      <th>kickoff_time</th>\n      <th>team_h_score</th>\n      <th>team_a_score</th>\n      <th>round</th>\n      <th>minutes</th>\n      <th>...</th>\n      <th>value</th>\n      <th>transfers_balance</th>\n      <th>selected</th>\n      <th>transfers_in</th>\n      <th>transfers_out</th>\n      <th>player_type_id</th>\n      <th>PPG</th>\n      <th>PP90</th>\n      <th>team_strength</th>\n      <th>team_id</th>\n    </tr>\n  </thead>\n  <tbody>\n    <tr>\n      <th>0</th>\n      <td>1</td>\n      <td>2</td>\n      <td>8</td>\n      <td>0</td>\n      <td>False</td>\n      <td>2020-09-12 11:30:00</td>\n      <td>0</td>\n      <td>3</td>\n      <td>1</td>\n      <td>0</td>\n      <td>...</td>\n      <td>70</td>\n      <td>0</td>\n      <td>76656</td>\n      <td>0</td>\n      <td>0</td>\n      <td>3</td>\n      <td>0.0</td>\n      <td>NaN</td>\n      <td>4</td>\n      <td>1</td>\n    </tr>\n    <tr>\n      <th>1</th>\n      <td>1</td>\n      <td>9</td>\n      <td>19</td>\n      <td>0</td>\n      <td>True</td>\n      <td>2020-09-19 19:00:00</td>\n      <td>2</td>\n      <td>1</td>\n      <td>2</td>\n      <td>0</td>\n      <td>...</td>\n      <td>69</td>\n      <td>-16828</td>\n      <td>68335</td>\n      <td>995</td>\n      <td>17823</td>\n      <td>3</td>\n      <td>0.0</td>\n      <td>NaN</td>\n      <td>4</td>\n      <td>1</td>\n    </tr>\n    <tr>\n      <th>2</th>\n      <td>1</td>\n      <td>23</td>\n      <td>11</td>\n      <td>0</td>\n      <td>False</td>\n      <td>2020-09-28 19:00:00</td>\n      <td>3</td>\n      <td>1</td>\n      <td>3</td>\n      <td>0</td>\n      <td>...</td>\n      <td>69</td>\n      <td>-11451</td>\n      <td>59793</td>\n      <td>675</td>\n      <td>12126</td>\n      <td>3</td>\n      <td>0.0</td>\n      <td>NaN</td>\n      <td>4</td>\n      <td>1</td>\n    </tr>\n    <tr>\n      <th>3</th>\n      <td>1</td>\n      <td>29</td>\n      <td>15</td>\n      <td>0</td>\n      <td>True</td>\n      <td>2020-10-04 13:00:00</td>\n      <td>2</td>\n      <td>1</td>\n      <td>4</td>\n      <td>0</td>\n      <td>...</td>\n      <td>68</td>\n      <td>-5324</td>\n      <td>56403</td>\n      <td>647</td>\n      <td>5971</td>\n      <td>3</td>\n      <td>0.0</td>\n      <td>NaN</td>\n      <td>4</td>\n      <td>1</td>\n    </tr>\n    <tr>\n      <th>4</th>\n      <td>1</td>\n      <td>44</td>\n      <td>12</td>\n      <td>0</td>\n      <td>False</td>\n      <td>2020-10-17 16:30:00</td>\n      <td>1</td>\n      <td>0</td>\n      <td>5</td>\n      <td>0</td>\n      <td>...</td>\n      <td>68</td>\n      <td>-4224</td>\n      <td>53689</td>\n      <td>616</td>\n      <td>4840</td>\n      <td>3</td>\n      <td>0.0</td>\n      <td>NaN</td>\n      <td>4</td>\n      <td>1</td>\n    </tr>\n  </tbody>\n</table>\n<p>5 rows × 36 columns</p>\n</div>"
     },
     "metadata": {},
     "execution_count": 44
    }
   ],
   "source": [
    "df_merge = all_players[[\"player_id\" , \"player_type_id\" , \"PPG\" , \"PP90\" , \"team_strength\" , \"team_id\"]]\n",
    "player_gameweek_history = player_gameweek_history.merge(df_merge , on = \"player_id\")\n",
    "\n",
    "player_gameweek_history.head()"
   ]
  },
  {
   "cell_type": "markdown",
   "metadata": {},
   "source": [
    "## Save to file"
   ]
  },
  {
   "cell_type": "code",
   "execution_count": 45,
   "metadata": {},
   "outputs": [],
   "source": [
    "all_players.to_csv (r'./data/' + season + '/Merged_data/all_players_merged.csv', index = False, header=True)\n",
    "player_gameweek_history.to_csv(r'./data/' + season + '/Merged_data/player_gameweek_history.csv' , index = False, header=True)\n"
   ]
  },
  {
   "cell_type": "code",
   "execution_count": null,
   "metadata": {},
   "outputs": [],
   "source": []
  }
 ]
}