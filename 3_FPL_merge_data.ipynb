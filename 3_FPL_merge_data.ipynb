{
 "metadata": {
  "language_info": {
   "codemirror_mode": {
    "name": "ipython",
    "version": 3
   },
   "file_extension": ".py",
   "mimetype": "text/x-python",
   "name": "python",
   "nbconvert_exporter": "python",
   "pygments_lexer": "ipython3",
   "version": "3.8.3-final"
  },
  "orig_nbformat": 2,
  "kernelspec": {
   "name": "Python 3.8.3 64-bit (conda)",
   "display_name": "Python 3.8.3 64-bit (conda)",
   "metadata": {
    "interpreter": {
     "hash": "fb698bdeab99cfbf9e31cab566d99a06e057f2dec3dcc8097ebabb329e860e16"
    }
   }
  }
 },
 "nbformat": 4,
 "nbformat_minor": 2,
 "cells": [
  {
   "cell_type": "code",
   "execution_count": 1,
   "metadata": {},
   "outputs": [],
   "source": [
    "import numpy as np\n",
    "import pandas as pd\n",
    "import requests\n",
    "from datetime import datetime\n",
    "import json\n",
    "\n",
    "#Set Display options\n",
    "pd.set_option('display.max_rows', 50)\n",
    "pd.set_option('display.max_columns', 50)\n",
    "pd.set_option('display.width' , 1000)"
   ]
  },
  {
   "cell_type": "code",
   "execution_count": 2,
   "metadata": {},
   "outputs": [],
   "source": [
    "# Variables\n",
    "season = \"2020-21\""
   ]
  },
  {
   "cell_type": "code",
   "execution_count": 3,
   "metadata": {},
   "outputs": [],
   "source": [
    "all_players = pd.read_csv (r'./data/' + season + '/Cleaned_data/all_players.csv', parse_dates= [\"news_added\"])\n",
    "all_teams = pd.read_csv (r'./data/' + season + '/Cleaned_data/all_teams.csv')\n",
    "all_events = pd.read_csv (r'./data/' + season + '/Cleaned_data/all_events.csv', parse_dates= [\"deadline_time\"])\n",
    "player_types = pd.read_csv(r'./data/' + season + '/Cleaned_data/player_types.csv')\n",
    "game_phases = pd.read_csv(r'./data/' + season + '/Cleaned_data/game_phases.csv')\n",
    "\n",
    "player_season_history = pd.read_csv(r'./data/' + season + '/Cleaned_data/player_season_history.csv')\n",
    "player_gameweek_history = pd.read_csv(r'./data/' + season + '/Cleaned_data/player_gameweek_history.csv' , parse_dates = ['kickoff_time'])\n",
    "player_future_fixture = pd.read_csv(r'./data/' + season + '/Cleaned_data/player_future_fixture.csv', parse_dates = [\"kickoff_time\"])\n",
    "\n",
    "\n"
   ]
  },
  {
   "cell_type": "code",
   "execution_count": 4,
   "metadata": {},
   "outputs": [
    {
     "output_type": "execute_result",
     "data": {
      "text/plain": [
       "   team_code  draw  team_form  team_id  loss    team_name  played  points  position team_short_name  team_strength  team_division  unavailable  win  strength_overall_home  strength_overall_away  strength_attack_home  strength_attack_away  strength_defence_home  strength_defence_away  pulse_id\n",
       "0          3     0        NaN        1     0      Arsenal       0       0         0             ARS              4            NaN        False    0                   1240                   1250                  1160                  1210                   1190                   1230         1\n",
       "1          7     0        NaN        2     0  Aston Villa       0       0         0             AVL              3            NaN        False    0                   1130                   1150                  1140                  1170                   1120                   1160         2\n",
       "2         36     0        NaN        3     0     Brighton       0       0         0             BHA              3            NaN        False    0                   1100                   1120                  1110                  1130                   1100                   1120       131\n",
       "3         90     0        NaN        4     0      Burnley       0       0         0             BUR              3            NaN        False    0                   1060                   1100                  1130                  1150                   1010                   1020        43\n",
       "4          8     0        NaN        5     0      Chelsea       0       0         0             CHE              4            NaN        False    0                   1250                   1280                  1180                  1250                   1230                   1260         4"
      ],
      "text/html": "<div>\n<style scoped>\n    .dataframe tbody tr th:only-of-type {\n        vertical-align: middle;\n    }\n\n    .dataframe tbody tr th {\n        vertical-align: top;\n    }\n\n    .dataframe thead th {\n        text-align: right;\n    }\n</style>\n<table border=\"1\" class=\"dataframe\">\n  <thead>\n    <tr style=\"text-align: right;\">\n      <th></th>\n      <th>team_code</th>\n      <th>draw</th>\n      <th>team_form</th>\n      <th>team_id</th>\n      <th>loss</th>\n      <th>team_name</th>\n      <th>played</th>\n      <th>points</th>\n      <th>position</th>\n      <th>team_short_name</th>\n      <th>team_strength</th>\n      <th>team_division</th>\n      <th>unavailable</th>\n      <th>win</th>\n      <th>strength_overall_home</th>\n      <th>strength_overall_away</th>\n      <th>strength_attack_home</th>\n      <th>strength_attack_away</th>\n      <th>strength_defence_home</th>\n      <th>strength_defence_away</th>\n      <th>pulse_id</th>\n    </tr>\n  </thead>\n  <tbody>\n    <tr>\n      <th>0</th>\n      <td>3</td>\n      <td>0</td>\n      <td>NaN</td>\n      <td>1</td>\n      <td>0</td>\n      <td>Arsenal</td>\n      <td>0</td>\n      <td>0</td>\n      <td>0</td>\n      <td>ARS</td>\n      <td>4</td>\n      <td>NaN</td>\n      <td>False</td>\n      <td>0</td>\n      <td>1240</td>\n      <td>1250</td>\n      <td>1160</td>\n      <td>1210</td>\n      <td>1190</td>\n      <td>1230</td>\n      <td>1</td>\n    </tr>\n    <tr>\n      <th>1</th>\n      <td>7</td>\n      <td>0</td>\n      <td>NaN</td>\n      <td>2</td>\n      <td>0</td>\n      <td>Aston Villa</td>\n      <td>0</td>\n      <td>0</td>\n      <td>0</td>\n      <td>AVL</td>\n      <td>3</td>\n      <td>NaN</td>\n      <td>False</td>\n      <td>0</td>\n      <td>1130</td>\n      <td>1150</td>\n      <td>1140</td>\n      <td>1170</td>\n      <td>1120</td>\n      <td>1160</td>\n      <td>2</td>\n    </tr>\n    <tr>\n      <th>2</th>\n      <td>36</td>\n      <td>0</td>\n      <td>NaN</td>\n      <td>3</td>\n      <td>0</td>\n      <td>Brighton</td>\n      <td>0</td>\n      <td>0</td>\n      <td>0</td>\n      <td>BHA</td>\n      <td>3</td>\n      <td>NaN</td>\n      <td>False</td>\n      <td>0</td>\n      <td>1100</td>\n      <td>1120</td>\n      <td>1110</td>\n      <td>1130</td>\n      <td>1100</td>\n      <td>1120</td>\n      <td>131</td>\n    </tr>\n    <tr>\n      <th>3</th>\n      <td>90</td>\n      <td>0</td>\n      <td>NaN</td>\n      <td>4</td>\n      <td>0</td>\n      <td>Burnley</td>\n      <td>0</td>\n      <td>0</td>\n      <td>0</td>\n      <td>BUR</td>\n      <td>3</td>\n      <td>NaN</td>\n      <td>False</td>\n      <td>0</td>\n      <td>1060</td>\n      <td>1100</td>\n      <td>1130</td>\n      <td>1150</td>\n      <td>1010</td>\n      <td>1020</td>\n      <td>43</td>\n    </tr>\n    <tr>\n      <th>4</th>\n      <td>8</td>\n      <td>0</td>\n      <td>NaN</td>\n      <td>5</td>\n      <td>0</td>\n      <td>Chelsea</td>\n      <td>0</td>\n      <td>0</td>\n      <td>0</td>\n      <td>CHE</td>\n      <td>4</td>\n      <td>NaN</td>\n      <td>False</td>\n      <td>0</td>\n      <td>1250</td>\n      <td>1280</td>\n      <td>1180</td>\n      <td>1250</td>\n      <td>1230</td>\n      <td>1260</td>\n      <td>4</td>\n    </tr>\n  </tbody>\n</table>\n</div>"
     },
     "metadata": {},
     "execution_count": 4
    }
   ],
   "source": [
    "all_teams.head()"
   ]
  },
  {
   "cell_type": "code",
   "execution_count": 5,
   "metadata": {},
   "outputs": [
    {
     "output_type": "execute_result",
     "data": {
      "text/plain": [
       "   chance_of_playing_next_round  chance_of_playing_this_round  player_code  cost_change_event  cost_change_event_fall  cost_change_start  cost_change_start_fall  dreamteam_count  player_type_id  ep_next  ep_this  event_points  form  player_id  in_dreamteam                                               news                 news_added  now_cost      photo  PPG  selected_by_percent status  team_id  team_code  total_points  ...  red_cards  saves  bonus  bps influence  creativity  threat  ict_index  influence_rank  influence_rank_type  creativity_rank  creativity_rank_type  threat_rank  threat_rank_type  ict_index_rank  ict_index_rank_type  corners_and_indirect_freekicks_order  corners_and_indirect_freekicks_text  direct_freekicks_order  direct_freekicks_text  penalties_order  penalties_text      PP90      PPMM      VAPM\n",
       "0                           0.0                           0.0        37605                  0                       0                 -2                       2                0               3      0.0      0.0             0   0.0          1         False  Not included in Arsenal's 25-man Premier Leagu... 2020-10-20 22:30:18.118477        68  37605.jpg  0.0                  0.7      n        1          3             0  ...          0      0      0    0       0.0         0.0     0.0        0.0             588                  237              587                   236          588               236             589                  237                                   NaN                                  NaN                     NaN                    NaN              NaN             NaN       NaN  0.000000 -0.294118\n",
       "1                           0.0                           0.0        39476                  0                       0                 -1                       1                0               2      0.0      0.0             0   0.0          2         False  Not included in Arsenal's 25-man Premier Leagu... 2020-10-21 10:30:18.546407        49  39476.jpg  0.0                  0.1      n        1          3             0  ...          0      0      0    0       0.0         0.0     0.0        0.0             532                  204              523                   204          508               195             536                  204                                   NaN                                  NaN                     NaN                    NaN              NaN             NaN       NaN  0.000000 -0.408163\n",
       "2                          50.0                          50.0        41270                  0                       0                  0                       0                0               2      0.8      0.6             0   1.2          3         False               Thigh injury - 50% chance of playing 2020-10-25 21:30:13.186040        55  41270.jpg  1.4                  1.0      d        1          3             7  ...          0      0      0   51      66.6         9.8    21.0        9.7             166                   65              283                    89          211                61             228                   77                                   NaN                                  NaN                     4.0                    NaN              NaN             NaN  1.974922  0.254545 -0.109091\n",
       "3                         100.0                         100.0        54694                  0                       0                 -3                       3                0               3      2.0      1.5             0   1.5          4         False                                                NaN 2020-10-08 09:00:12.305506       117  54694.jpg  3.3                 13.8      a        1          3            20  ...          0      0      0   73      93.4       103.1   117.0       31.4             103                   38               41                    31           41                22              51                   28                                   NaN                                  NaN                     6.0                    NaN              1.0             NaN  3.333333  0.282051  0.111111\n",
       "4                         100.0                         100.0        58822                  0                       0                 -3                       3                0               2      0.5      0.0             0   0.0          5         False                                                NaN 2020-09-23 09:00:14.881983        47  58822.jpg  0.0                  0.2      a        1          3             0  ...          0      0      0    0       0.0         0.0     0.0        0.0             509                  197              497                   197          474               186             513                  197                                   NaN                                  NaN                     NaN                    NaN              NaN             NaN       NaN  0.000000 -0.425532\n",
       "\n",
       "[5 rows x 64 columns]"
      ],
      "text/html": "<div>\n<style scoped>\n    .dataframe tbody tr th:only-of-type {\n        vertical-align: middle;\n    }\n\n    .dataframe tbody tr th {\n        vertical-align: top;\n    }\n\n    .dataframe thead th {\n        text-align: right;\n    }\n</style>\n<table border=\"1\" class=\"dataframe\">\n  <thead>\n    <tr style=\"text-align: right;\">\n      <th></th>\n      <th>chance_of_playing_next_round</th>\n      <th>chance_of_playing_this_round</th>\n      <th>player_code</th>\n      <th>cost_change_event</th>\n      <th>cost_change_event_fall</th>\n      <th>cost_change_start</th>\n      <th>cost_change_start_fall</th>\n      <th>dreamteam_count</th>\n      <th>player_type_id</th>\n      <th>ep_next</th>\n      <th>ep_this</th>\n      <th>event_points</th>\n      <th>form</th>\n      <th>player_id</th>\n      <th>in_dreamteam</th>\n      <th>news</th>\n      <th>news_added</th>\n      <th>now_cost</th>\n      <th>photo</th>\n      <th>PPG</th>\n      <th>selected_by_percent</th>\n      <th>status</th>\n      <th>team_id</th>\n      <th>team_code</th>\n      <th>total_points</th>\n      <th>...</th>\n      <th>red_cards</th>\n      <th>saves</th>\n      <th>bonus</th>\n      <th>bps</th>\n      <th>influence</th>\n      <th>creativity</th>\n      <th>threat</th>\n      <th>ict_index</th>\n      <th>influence_rank</th>\n      <th>influence_rank_type</th>\n      <th>creativity_rank</th>\n      <th>creativity_rank_type</th>\n      <th>threat_rank</th>\n      <th>threat_rank_type</th>\n      <th>ict_index_rank</th>\n      <th>ict_index_rank_type</th>\n      <th>corners_and_indirect_freekicks_order</th>\n      <th>corners_and_indirect_freekicks_text</th>\n      <th>direct_freekicks_order</th>\n      <th>direct_freekicks_text</th>\n      <th>penalties_order</th>\n      <th>penalties_text</th>\n      <th>PP90</th>\n      <th>PPMM</th>\n      <th>VAPM</th>\n    </tr>\n  </thead>\n  <tbody>\n    <tr>\n      <th>0</th>\n      <td>0.0</td>\n      <td>0.0</td>\n      <td>37605</td>\n      <td>0</td>\n      <td>0</td>\n      <td>-2</td>\n      <td>2</td>\n      <td>0</td>\n      <td>3</td>\n      <td>0.0</td>\n      <td>0.0</td>\n      <td>0</td>\n      <td>0.0</td>\n      <td>1</td>\n      <td>False</td>\n      <td>Not included in Arsenal's 25-man Premier Leagu...</td>\n      <td>2020-10-20 22:30:18.118477</td>\n      <td>68</td>\n      <td>37605.jpg</td>\n      <td>0.0</td>\n      <td>0.7</td>\n      <td>n</td>\n      <td>1</td>\n      <td>3</td>\n      <td>0</td>\n      <td>...</td>\n      <td>0</td>\n      <td>0</td>\n      <td>0</td>\n      <td>0</td>\n      <td>0.0</td>\n      <td>0.0</td>\n      <td>0.0</td>\n      <td>0.0</td>\n      <td>588</td>\n      <td>237</td>\n      <td>587</td>\n      <td>236</td>\n      <td>588</td>\n      <td>236</td>\n      <td>589</td>\n      <td>237</td>\n      <td>NaN</td>\n      <td>NaN</td>\n      <td>NaN</td>\n      <td>NaN</td>\n      <td>NaN</td>\n      <td>NaN</td>\n      <td>NaN</td>\n      <td>0.000000</td>\n      <td>-0.294118</td>\n    </tr>\n    <tr>\n      <th>1</th>\n      <td>0.0</td>\n      <td>0.0</td>\n      <td>39476</td>\n      <td>0</td>\n      <td>0</td>\n      <td>-1</td>\n      <td>1</td>\n      <td>0</td>\n      <td>2</td>\n      <td>0.0</td>\n      <td>0.0</td>\n      <td>0</td>\n      <td>0.0</td>\n      <td>2</td>\n      <td>False</td>\n      <td>Not included in Arsenal's 25-man Premier Leagu...</td>\n      <td>2020-10-21 10:30:18.546407</td>\n      <td>49</td>\n      <td>39476.jpg</td>\n      <td>0.0</td>\n      <td>0.1</td>\n      <td>n</td>\n      <td>1</td>\n      <td>3</td>\n      <td>0</td>\n      <td>...</td>\n      <td>0</td>\n      <td>0</td>\n      <td>0</td>\n      <td>0</td>\n      <td>0.0</td>\n      <td>0.0</td>\n      <td>0.0</td>\n      <td>0.0</td>\n      <td>532</td>\n      <td>204</td>\n      <td>523</td>\n      <td>204</td>\n      <td>508</td>\n      <td>195</td>\n      <td>536</td>\n      <td>204</td>\n      <td>NaN</td>\n      <td>NaN</td>\n      <td>NaN</td>\n      <td>NaN</td>\n      <td>NaN</td>\n      <td>NaN</td>\n      <td>NaN</td>\n      <td>0.000000</td>\n      <td>-0.408163</td>\n    </tr>\n    <tr>\n      <th>2</th>\n      <td>50.0</td>\n      <td>50.0</td>\n      <td>41270</td>\n      <td>0</td>\n      <td>0</td>\n      <td>0</td>\n      <td>0</td>\n      <td>0</td>\n      <td>2</td>\n      <td>0.8</td>\n      <td>0.6</td>\n      <td>0</td>\n      <td>1.2</td>\n      <td>3</td>\n      <td>False</td>\n      <td>Thigh injury - 50% chance of playing</td>\n      <td>2020-10-25 21:30:13.186040</td>\n      <td>55</td>\n      <td>41270.jpg</td>\n      <td>1.4</td>\n      <td>1.0</td>\n      <td>d</td>\n      <td>1</td>\n      <td>3</td>\n      <td>7</td>\n      <td>...</td>\n      <td>0</td>\n      <td>0</td>\n      <td>0</td>\n      <td>51</td>\n      <td>66.6</td>\n      <td>9.8</td>\n      <td>21.0</td>\n      <td>9.7</td>\n      <td>166</td>\n      <td>65</td>\n      <td>283</td>\n      <td>89</td>\n      <td>211</td>\n      <td>61</td>\n      <td>228</td>\n      <td>77</td>\n      <td>NaN</td>\n      <td>NaN</td>\n      <td>4.0</td>\n      <td>NaN</td>\n      <td>NaN</td>\n      <td>NaN</td>\n      <td>1.974922</td>\n      <td>0.254545</td>\n      <td>-0.109091</td>\n    </tr>\n    <tr>\n      <th>3</th>\n      <td>100.0</td>\n      <td>100.0</td>\n      <td>54694</td>\n      <td>0</td>\n      <td>0</td>\n      <td>-3</td>\n      <td>3</td>\n      <td>0</td>\n      <td>3</td>\n      <td>2.0</td>\n      <td>1.5</td>\n      <td>0</td>\n      <td>1.5</td>\n      <td>4</td>\n      <td>False</td>\n      <td>NaN</td>\n      <td>2020-10-08 09:00:12.305506</td>\n      <td>117</td>\n      <td>54694.jpg</td>\n      <td>3.3</td>\n      <td>13.8</td>\n      <td>a</td>\n      <td>1</td>\n      <td>3</td>\n      <td>20</td>\n      <td>...</td>\n      <td>0</td>\n      <td>0</td>\n      <td>0</td>\n      <td>73</td>\n      <td>93.4</td>\n      <td>103.1</td>\n      <td>117.0</td>\n      <td>31.4</td>\n      <td>103</td>\n      <td>38</td>\n      <td>41</td>\n      <td>31</td>\n      <td>41</td>\n      <td>22</td>\n      <td>51</td>\n      <td>28</td>\n      <td>NaN</td>\n      <td>NaN</td>\n      <td>6.0</td>\n      <td>NaN</td>\n      <td>1.0</td>\n      <td>NaN</td>\n      <td>3.333333</td>\n      <td>0.282051</td>\n      <td>0.111111</td>\n    </tr>\n    <tr>\n      <th>4</th>\n      <td>100.0</td>\n      <td>100.0</td>\n      <td>58822</td>\n      <td>0</td>\n      <td>0</td>\n      <td>-3</td>\n      <td>3</td>\n      <td>0</td>\n      <td>2</td>\n      <td>0.5</td>\n      <td>0.0</td>\n      <td>0</td>\n      <td>0.0</td>\n      <td>5</td>\n      <td>False</td>\n      <td>NaN</td>\n      <td>2020-09-23 09:00:14.881983</td>\n      <td>47</td>\n      <td>58822.jpg</td>\n      <td>0.0</td>\n      <td>0.2</td>\n      <td>a</td>\n      <td>1</td>\n      <td>3</td>\n      <td>0</td>\n      <td>...</td>\n      <td>0</td>\n      <td>0</td>\n      <td>0</td>\n      <td>0</td>\n      <td>0.0</td>\n      <td>0.0</td>\n      <td>0.0</td>\n      <td>0.0</td>\n      <td>509</td>\n      <td>197</td>\n      <td>497</td>\n      <td>197</td>\n      <td>474</td>\n      <td>186</td>\n      <td>513</td>\n      <td>197</td>\n      <td>NaN</td>\n      <td>NaN</td>\n      <td>NaN</td>\n      <td>NaN</td>\n      <td>NaN</td>\n      <td>NaN</td>\n      <td>NaN</td>\n      <td>0.000000</td>\n      <td>-0.425532</td>\n    </tr>\n  </tbody>\n</table>\n<p>5 rows × 64 columns</p>\n</div>"
     },
     "metadata": {},
     "execution_count": 5
    }
   ],
   "source": [
    "all_players.head()"
   ]
  },
  {
   "cell_type": "code",
   "execution_count": 6,
   "metadata": {},
   "outputs": [
    {
     "output_type": "execute_result",
     "data": {
      "text/plain": [
       "   fixture_id  fixture_code  home_team_id  team_h_score  away_team_id  team_a_score  event  finished  minutes  provisional_start_time        kickoff_time   event_name  is_home  difficulty  player_id  opponent_team_id  team_id\n",
       "0          64       2128351            13           NaN             1           NaN    7.0     False        0                   False 2020-11-01 16:30:00   Gameweek 7    False           4          1                13        1\n",
       "1          69       2128356             1           NaN             2           NaN    8.0     False        0                   False 2020-11-08 19:15:00   Gameweek 8     True           3          1                 2        1\n",
       "2          82       2128369            10           NaN             1           NaN    9.0     False        0                   False 2020-11-22 16:30:00   Gameweek 9    False           3          1                10        1\n",
       "3          89       2128376             1           NaN            20           NaN   10.0     False        0                   False 2020-11-28 15:00:00  Gameweek 10     True           3          1                20        1\n",
       "4         106       2128393            17           NaN             1           NaN   11.0     False        0                   False 2020-12-05 15:00:00  Gameweek 11    False           4          1                17        1"
      ],
      "text/html": "<div>\n<style scoped>\n    .dataframe tbody tr th:only-of-type {\n        vertical-align: middle;\n    }\n\n    .dataframe tbody tr th {\n        vertical-align: top;\n    }\n\n    .dataframe thead th {\n        text-align: right;\n    }\n</style>\n<table border=\"1\" class=\"dataframe\">\n  <thead>\n    <tr style=\"text-align: right;\">\n      <th></th>\n      <th>fixture_id</th>\n      <th>fixture_code</th>\n      <th>home_team_id</th>\n      <th>team_h_score</th>\n      <th>away_team_id</th>\n      <th>team_a_score</th>\n      <th>event</th>\n      <th>finished</th>\n      <th>minutes</th>\n      <th>provisional_start_time</th>\n      <th>kickoff_time</th>\n      <th>event_name</th>\n      <th>is_home</th>\n      <th>difficulty</th>\n      <th>player_id</th>\n      <th>opponent_team_id</th>\n      <th>team_id</th>\n    </tr>\n  </thead>\n  <tbody>\n    <tr>\n      <th>0</th>\n      <td>64</td>\n      <td>2128351</td>\n      <td>13</td>\n      <td>NaN</td>\n      <td>1</td>\n      <td>NaN</td>\n      <td>7.0</td>\n      <td>False</td>\n      <td>0</td>\n      <td>False</td>\n      <td>2020-11-01 16:30:00</td>\n      <td>Gameweek 7</td>\n      <td>False</td>\n      <td>4</td>\n      <td>1</td>\n      <td>13</td>\n      <td>1</td>\n    </tr>\n    <tr>\n      <th>1</th>\n      <td>69</td>\n      <td>2128356</td>\n      <td>1</td>\n      <td>NaN</td>\n      <td>2</td>\n      <td>NaN</td>\n      <td>8.0</td>\n      <td>False</td>\n      <td>0</td>\n      <td>False</td>\n      <td>2020-11-08 19:15:00</td>\n      <td>Gameweek 8</td>\n      <td>True</td>\n      <td>3</td>\n      <td>1</td>\n      <td>2</td>\n      <td>1</td>\n    </tr>\n    <tr>\n      <th>2</th>\n      <td>82</td>\n      <td>2128369</td>\n      <td>10</td>\n      <td>NaN</td>\n      <td>1</td>\n      <td>NaN</td>\n      <td>9.0</td>\n      <td>False</td>\n      <td>0</td>\n      <td>False</td>\n      <td>2020-11-22 16:30:00</td>\n      <td>Gameweek 9</td>\n      <td>False</td>\n      <td>3</td>\n      <td>1</td>\n      <td>10</td>\n      <td>1</td>\n    </tr>\n    <tr>\n      <th>3</th>\n      <td>89</td>\n      <td>2128376</td>\n      <td>1</td>\n      <td>NaN</td>\n      <td>20</td>\n      <td>NaN</td>\n      <td>10.0</td>\n      <td>False</td>\n      <td>0</td>\n      <td>False</td>\n      <td>2020-11-28 15:00:00</td>\n      <td>Gameweek 10</td>\n      <td>True</td>\n      <td>3</td>\n      <td>1</td>\n      <td>20</td>\n      <td>1</td>\n    </tr>\n    <tr>\n      <th>4</th>\n      <td>106</td>\n      <td>2128393</td>\n      <td>17</td>\n      <td>NaN</td>\n      <td>1</td>\n      <td>NaN</td>\n      <td>11.0</td>\n      <td>False</td>\n      <td>0</td>\n      <td>False</td>\n      <td>2020-12-05 15:00:00</td>\n      <td>Gameweek 11</td>\n      <td>False</td>\n      <td>4</td>\n      <td>1</td>\n      <td>17</td>\n      <td>1</td>\n    </tr>\n  </tbody>\n</table>\n</div>"
     },
     "metadata": {},
     "execution_count": 6
    }
   ],
   "source": [
    "player_future_fixture.head()"
   ]
  },
  {
   "cell_type": "code",
   "execution_count": 7,
   "metadata": {},
   "outputs": [],
   "source": [
    "df_merge = all_teams[[\"team_code\" , \"team_strength\" , \"team_short_name\" , \"strength_overall_home\" , \"strength_overall_away\"]]\n",
    "all_players = all_players.merge(df_merge, on = 'team_code')\n",
    "\n",
    "df_merge = player_types[['player_type_id' , 'position_name_short']]\n",
    "all_players = all_players.merge(df_merge , on = \"player_type_id\")\n"
   ]
  },
  {
   "cell_type": "code",
   "execution_count": 8,
   "metadata": {},
   "outputs": [
    {
     "output_type": "execute_result",
     "data": {
      "text/plain": [
       "   chance_of_playing_next_round  chance_of_playing_this_round  player_code  cost_change_event  cost_change_event_fall  cost_change_start  cost_change_start_fall  dreamteam_count  player_type_id  ep_next  ep_this  event_points  form  player_id  in_dreamteam                                               news                 news_added  now_cost       photo  PPG  selected_by_percent status  team_id  team_code  total_points  ...  creativity  threat  ict_index  influence_rank influence_rank_type  creativity_rank  creativity_rank_type  threat_rank  threat_rank_type  ict_index_rank  ict_index_rank_type  corners_and_indirect_freekicks_order  corners_and_indirect_freekicks_text  direct_freekicks_order  direct_freekicks_text  penalties_order  penalties_text      PP90      PPMM      VAPM  team_strength  team_short_name  strength_overall_home  strength_overall_away  position_name_short\n",
       "0                           0.0                           0.0        37605                  0                       0                 -2                       2                0               3      0.0      0.0             0   0.0          1         False  Not included in Arsenal's 25-man Premier Leagu... 2020-10-20 22:30:18.118477        68   37605.jpg  0.0                  0.7      n        1          3             0  ...         0.0     0.0        0.0             588                 237              587                   236          588               236             589                  237                                   NaN                                  NaN                     NaN                    NaN              NaN             NaN       NaN  0.000000 -0.294118              4              ARS                   1240                   1250                  MID\n",
       "1                         100.0                         100.0        54694                  0                       0                 -3                       3                0               3      2.0      1.5             0   1.5          4         False                                                NaN 2020-10-08 09:00:12.305506       117   54694.jpg  3.3                 13.8      a        1          3            20  ...       103.1   117.0       31.4             103                  38               41                    31           41                22              51                   28                                   NaN                                  NaN                     6.0                    NaN              1.0             NaN  3.333333  0.282051  0.111111              4              ARS                   1240                   1250                  MID\n",
       "2                           NaN                           NaN        84450                  0                       0                 -1                       1                0               3      1.5      1.0             0   1.0          9         False                                                NaN                        NaT        54   84450.jpg  1.7                  0.6      a        1          3            10  ...        33.8    29.0       11.4             204                  80              161                    98          184                97             197                   93                                   NaN                                  NaN                     2.0                    NaN              NaN             NaN  2.211302  0.314815 -0.055556              4              ARS                   1240                   1250                  MID\n",
       "3                           NaN                           NaN       195735                  0                       0                 -3                       3                0               3      2.7      2.2             0   2.2         18         False                                                NaN                        NaT        77  195735.jpg  2.0                  0.9      a        1          3            12  ...        21.4    61.0       12.1             241                  96              212                   124           95                53             193                   92                                   2.0                                  NaN                     3.0                    NaN              2.0             NaN  5.346535  0.259740  0.000000              4              ARS                   1240                   1250                  MID\n",
       "4                           0.0                           0.0       198849                  0                       0                 -3                       3                0               3      0.0      0.0             0   0.0         19         False  Joined Atletico Madrid on loan until the end o... 2020-10-05 22:30:19.674811        47  198849.jpg  0.0                  0.1      n        1          3             0  ...         0.0     0.0        0.0             511                 201              499                   201          477               191             515                  201                                   NaN                                  NaN                     NaN                    NaN              NaN             NaN       NaN  0.000000 -0.425532              4              ARS                   1240                   1250                  MID\n",
       "\n",
       "[5 rows x 69 columns]"
      ],
      "text/html": "<div>\n<style scoped>\n    .dataframe tbody tr th:only-of-type {\n        vertical-align: middle;\n    }\n\n    .dataframe tbody tr th {\n        vertical-align: top;\n    }\n\n    .dataframe thead th {\n        text-align: right;\n    }\n</style>\n<table border=\"1\" class=\"dataframe\">\n  <thead>\n    <tr style=\"text-align: right;\">\n      <th></th>\n      <th>chance_of_playing_next_round</th>\n      <th>chance_of_playing_this_round</th>\n      <th>player_code</th>\n      <th>cost_change_event</th>\n      <th>cost_change_event_fall</th>\n      <th>cost_change_start</th>\n      <th>cost_change_start_fall</th>\n      <th>dreamteam_count</th>\n      <th>player_type_id</th>\n      <th>ep_next</th>\n      <th>ep_this</th>\n      <th>event_points</th>\n      <th>form</th>\n      <th>player_id</th>\n      <th>in_dreamteam</th>\n      <th>news</th>\n      <th>news_added</th>\n      <th>now_cost</th>\n      <th>photo</th>\n      <th>PPG</th>\n      <th>selected_by_percent</th>\n      <th>status</th>\n      <th>team_id</th>\n      <th>team_code</th>\n      <th>total_points</th>\n      <th>...</th>\n      <th>creativity</th>\n      <th>threat</th>\n      <th>ict_index</th>\n      <th>influence_rank</th>\n      <th>influence_rank_type</th>\n      <th>creativity_rank</th>\n      <th>creativity_rank_type</th>\n      <th>threat_rank</th>\n      <th>threat_rank_type</th>\n      <th>ict_index_rank</th>\n      <th>ict_index_rank_type</th>\n      <th>corners_and_indirect_freekicks_order</th>\n      <th>corners_and_indirect_freekicks_text</th>\n      <th>direct_freekicks_order</th>\n      <th>direct_freekicks_text</th>\n      <th>penalties_order</th>\n      <th>penalties_text</th>\n      <th>PP90</th>\n      <th>PPMM</th>\n      <th>VAPM</th>\n      <th>team_strength</th>\n      <th>team_short_name</th>\n      <th>strength_overall_home</th>\n      <th>strength_overall_away</th>\n      <th>position_name_short</th>\n    </tr>\n  </thead>\n  <tbody>\n    <tr>\n      <th>0</th>\n      <td>0.0</td>\n      <td>0.0</td>\n      <td>37605</td>\n      <td>0</td>\n      <td>0</td>\n      <td>-2</td>\n      <td>2</td>\n      <td>0</td>\n      <td>3</td>\n      <td>0.0</td>\n      <td>0.0</td>\n      <td>0</td>\n      <td>0.0</td>\n      <td>1</td>\n      <td>False</td>\n      <td>Not included in Arsenal's 25-man Premier Leagu...</td>\n      <td>2020-10-20 22:30:18.118477</td>\n      <td>68</td>\n      <td>37605.jpg</td>\n      <td>0.0</td>\n      <td>0.7</td>\n      <td>n</td>\n      <td>1</td>\n      <td>3</td>\n      <td>0</td>\n      <td>...</td>\n      <td>0.0</td>\n      <td>0.0</td>\n      <td>0.0</td>\n      <td>588</td>\n      <td>237</td>\n      <td>587</td>\n      <td>236</td>\n      <td>588</td>\n      <td>236</td>\n      <td>589</td>\n      <td>237</td>\n      <td>NaN</td>\n      <td>NaN</td>\n      <td>NaN</td>\n      <td>NaN</td>\n      <td>NaN</td>\n      <td>NaN</td>\n      <td>NaN</td>\n      <td>0.000000</td>\n      <td>-0.294118</td>\n      <td>4</td>\n      <td>ARS</td>\n      <td>1240</td>\n      <td>1250</td>\n      <td>MID</td>\n    </tr>\n    <tr>\n      <th>1</th>\n      <td>100.0</td>\n      <td>100.0</td>\n      <td>54694</td>\n      <td>0</td>\n      <td>0</td>\n      <td>-3</td>\n      <td>3</td>\n      <td>0</td>\n      <td>3</td>\n      <td>2.0</td>\n      <td>1.5</td>\n      <td>0</td>\n      <td>1.5</td>\n      <td>4</td>\n      <td>False</td>\n      <td>NaN</td>\n      <td>2020-10-08 09:00:12.305506</td>\n      <td>117</td>\n      <td>54694.jpg</td>\n      <td>3.3</td>\n      <td>13.8</td>\n      <td>a</td>\n      <td>1</td>\n      <td>3</td>\n      <td>20</td>\n      <td>...</td>\n      <td>103.1</td>\n      <td>117.0</td>\n      <td>31.4</td>\n      <td>103</td>\n      <td>38</td>\n      <td>41</td>\n      <td>31</td>\n      <td>41</td>\n      <td>22</td>\n      <td>51</td>\n      <td>28</td>\n      <td>NaN</td>\n      <td>NaN</td>\n      <td>6.0</td>\n      <td>NaN</td>\n      <td>1.0</td>\n      <td>NaN</td>\n      <td>3.333333</td>\n      <td>0.282051</td>\n      <td>0.111111</td>\n      <td>4</td>\n      <td>ARS</td>\n      <td>1240</td>\n      <td>1250</td>\n      <td>MID</td>\n    </tr>\n    <tr>\n      <th>2</th>\n      <td>NaN</td>\n      <td>NaN</td>\n      <td>84450</td>\n      <td>0</td>\n      <td>0</td>\n      <td>-1</td>\n      <td>1</td>\n      <td>0</td>\n      <td>3</td>\n      <td>1.5</td>\n      <td>1.0</td>\n      <td>0</td>\n      <td>1.0</td>\n      <td>9</td>\n      <td>False</td>\n      <td>NaN</td>\n      <td>NaT</td>\n      <td>54</td>\n      <td>84450.jpg</td>\n      <td>1.7</td>\n      <td>0.6</td>\n      <td>a</td>\n      <td>1</td>\n      <td>3</td>\n      <td>10</td>\n      <td>...</td>\n      <td>33.8</td>\n      <td>29.0</td>\n      <td>11.4</td>\n      <td>204</td>\n      <td>80</td>\n      <td>161</td>\n      <td>98</td>\n      <td>184</td>\n      <td>97</td>\n      <td>197</td>\n      <td>93</td>\n      <td>NaN</td>\n      <td>NaN</td>\n      <td>2.0</td>\n      <td>NaN</td>\n      <td>NaN</td>\n      <td>NaN</td>\n      <td>2.211302</td>\n      <td>0.314815</td>\n      <td>-0.055556</td>\n      <td>4</td>\n      <td>ARS</td>\n      <td>1240</td>\n      <td>1250</td>\n      <td>MID</td>\n    </tr>\n    <tr>\n      <th>3</th>\n      <td>NaN</td>\n      <td>NaN</td>\n      <td>195735</td>\n      <td>0</td>\n      <td>0</td>\n      <td>-3</td>\n      <td>3</td>\n      <td>0</td>\n      <td>3</td>\n      <td>2.7</td>\n      <td>2.2</td>\n      <td>0</td>\n      <td>2.2</td>\n      <td>18</td>\n      <td>False</td>\n      <td>NaN</td>\n      <td>NaT</td>\n      <td>77</td>\n      <td>195735.jpg</td>\n      <td>2.0</td>\n      <td>0.9</td>\n      <td>a</td>\n      <td>1</td>\n      <td>3</td>\n      <td>12</td>\n      <td>...</td>\n      <td>21.4</td>\n      <td>61.0</td>\n      <td>12.1</td>\n      <td>241</td>\n      <td>96</td>\n      <td>212</td>\n      <td>124</td>\n      <td>95</td>\n      <td>53</td>\n      <td>193</td>\n      <td>92</td>\n      <td>2.0</td>\n      <td>NaN</td>\n      <td>3.0</td>\n      <td>NaN</td>\n      <td>2.0</td>\n      <td>NaN</td>\n      <td>5.346535</td>\n      <td>0.259740</td>\n      <td>0.000000</td>\n      <td>4</td>\n      <td>ARS</td>\n      <td>1240</td>\n      <td>1250</td>\n      <td>MID</td>\n    </tr>\n    <tr>\n      <th>4</th>\n      <td>0.0</td>\n      <td>0.0</td>\n      <td>198849</td>\n      <td>0</td>\n      <td>0</td>\n      <td>-3</td>\n      <td>3</td>\n      <td>0</td>\n      <td>3</td>\n      <td>0.0</td>\n      <td>0.0</td>\n      <td>0</td>\n      <td>0.0</td>\n      <td>19</td>\n      <td>False</td>\n      <td>Joined Atletico Madrid on loan until the end o...</td>\n      <td>2020-10-05 22:30:19.674811</td>\n      <td>47</td>\n      <td>198849.jpg</td>\n      <td>0.0</td>\n      <td>0.1</td>\n      <td>n</td>\n      <td>1</td>\n      <td>3</td>\n      <td>0</td>\n      <td>...</td>\n      <td>0.0</td>\n      <td>0.0</td>\n      <td>0.0</td>\n      <td>511</td>\n      <td>201</td>\n      <td>499</td>\n      <td>201</td>\n      <td>477</td>\n      <td>191</td>\n      <td>515</td>\n      <td>201</td>\n      <td>NaN</td>\n      <td>NaN</td>\n      <td>NaN</td>\n      <td>NaN</td>\n      <td>NaN</td>\n      <td>NaN</td>\n      <td>NaN</td>\n      <td>0.000000</td>\n      <td>-0.425532</td>\n      <td>4</td>\n      <td>ARS</td>\n      <td>1240</td>\n      <td>1250</td>\n      <td>MID</td>\n    </tr>\n  </tbody>\n</table>\n<p>5 rows × 69 columns</p>\n</div>"
     },
     "metadata": {},
     "execution_count": 8
    }
   ],
   "source": [
    "all_players.head()"
   ]
  },
  {
   "cell_type": "markdown",
   "metadata": {},
   "source": [
    "## Save to file"
   ]
  },
  {
   "cell_type": "code",
   "execution_count": 9,
   "metadata": {},
   "outputs": [],
   "source": [
    "all_players.to_csv (r'./data/' + season + '/Merged_data/all_players_merged.csv', index = False, header=True)\n"
   ]
  },
  {
   "cell_type": "code",
   "execution_count": null,
   "metadata": {},
   "outputs": [],
   "source": []
  }
 ]
}