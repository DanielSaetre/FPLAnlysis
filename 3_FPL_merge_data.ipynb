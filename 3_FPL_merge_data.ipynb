{
 "metadata": {
  "language_info": {
   "codemirror_mode": {
    "name": "ipython",
    "version": 3
   },
   "file_extension": ".py",
   "mimetype": "text/x-python",
   "name": "python",
   "nbconvert_exporter": "python",
   "pygments_lexer": "ipython3",
   "version": "3.8.3-final"
  },
  "orig_nbformat": 2,
  "kernelspec": {
   "name": "python_defaultSpec_1600881137555",
   "display_name": "Python 3.7.4 64-bit ('base': conda)"
  }
 },
 "nbformat": 4,
 "nbformat_minor": 2,
 "cells": [
  {
   "cell_type": "code",
   "execution_count": 10,
   "metadata": {},
   "outputs": [],
   "source": [
    "import numpy as np\n",
    "import pandas as pd\n",
    "import requests\n",
    "from datetime import datetime\n",
    "import json\n",
    "\n",
    "#Set Display options\n",
    "pd.set_option('display.max_rows', 50)\n",
    "pd.set_option('display.max_columns', 50)\n",
    "pd.set_option('display.width' , 1000)"
   ]
  },
  {
   "cell_type": "code",
   "execution_count": 11,
   "metadata": {},
   "outputs": [],
   "source": [
    "# Variables\n",
    "season = \"2020-21\""
   ]
  },
  {
   "cell_type": "code",
   "execution_count": 12,
   "metadata": {},
   "outputs": [],
   "source": [
    "all_players = pd.read_csv (r'./data/' + season + '/Cleaned_data/all_players.csv', parse_dates= [\"news_added\"])\n",
    "all_teams = pd.read_csv (r'./data/' + season + '/Cleaned_data/all_teams.csv')\n",
    "all_events = pd.read_csv (r'./data/' + season + '/Cleaned_data/all_events.csv', parse_dates= [\"deadline_time\"])\n",
    "player_types = pd.read_csv(r'./data/' + season + '/Cleaned_data/player_types.csv')\n",
    "game_phases = pd.read_csv(r'./data/' + season + '/Cleaned_data/game_phases.csv')\n",
    "\n",
    "player_season_history = pd.read_csv(r'./data/' + season + '/Cleaned_data/player_season_history.csv')\n",
    "player_gameweek_history = pd.read_csv(r'./data/' + season + '/Cleaned_data/player_gameweek_history.csv' , parse_dates = ['kickoff_time'])\n",
    "player_future_fixture = pd.read_csv(r'./data/' + season + '/Cleaned_data/player_future_fixture.csv', parse_dates = [\"kickoff_time\"])\n",
    "\n",
    "\n"
   ]
  },
  {
   "cell_type": "code",
   "execution_count": 13,
   "metadata": {},
   "outputs": [
    {
     "output_type": "execute_result",
     "data": {
      "text/plain": "   team_code  draw  form  team_id  loss    team_name  played  points  position team_short_name  strength  team_division  unavailable  win  strength_overall_home  strength_overall_away  strength_attack_home  strength_attack_away  strength_defence_home  strength_defence_away  pulse_id\n0          3     0   NaN        1     0      Arsenal       0       0         0             ARS         4            NaN        False    0                   1190                   1270                  1190                  1200                   1160                   1270         1\n1          7     0   NaN        2     0  Aston Villa       0       0         0             AVL         2            NaN        False    0                   1050                   1080                  1010                  1080                   1000                   1110         2\n2         36     0   NaN        3     0     Brighton       0       0         0             BHA         2            NaN        False    0                   1070                   1070                  1100                  1130                   1060                   1060       131\n3         90     0   NaN        4     0      Burnley       0       0         0             BUR         3            NaN        False    0                   1140                   1150                  1130                  1240                   1050                   1170        43\n4          8     0   NaN        5     0      Chelsea       0       0         0             CHE         4            NaN        False    0                   1200                   1260                  1140                  1270                   1240                   1250         4",
      "text/html": "<div>\n<style scoped>\n    .dataframe tbody tr th:only-of-type {\n        vertical-align: middle;\n    }\n\n    .dataframe tbody tr th {\n        vertical-align: top;\n    }\n\n    .dataframe thead th {\n        text-align: right;\n    }\n</style>\n<table border=\"1\" class=\"dataframe\">\n  <thead>\n    <tr style=\"text-align: right;\">\n      <th></th>\n      <th>team_code</th>\n      <th>draw</th>\n      <th>form</th>\n      <th>team_id</th>\n      <th>loss</th>\n      <th>team_name</th>\n      <th>played</th>\n      <th>points</th>\n      <th>position</th>\n      <th>team_short_name</th>\n      <th>strength</th>\n      <th>team_division</th>\n      <th>unavailable</th>\n      <th>win</th>\n      <th>strength_overall_home</th>\n      <th>strength_overall_away</th>\n      <th>strength_attack_home</th>\n      <th>strength_attack_away</th>\n      <th>strength_defence_home</th>\n      <th>strength_defence_away</th>\n      <th>pulse_id</th>\n    </tr>\n  </thead>\n  <tbody>\n    <tr>\n      <th>0</th>\n      <td>3</td>\n      <td>0</td>\n      <td>NaN</td>\n      <td>1</td>\n      <td>0</td>\n      <td>Arsenal</td>\n      <td>0</td>\n      <td>0</td>\n      <td>0</td>\n      <td>ARS</td>\n      <td>4</td>\n      <td>NaN</td>\n      <td>False</td>\n      <td>0</td>\n      <td>1190</td>\n      <td>1270</td>\n      <td>1190</td>\n      <td>1200</td>\n      <td>1160</td>\n      <td>1270</td>\n      <td>1</td>\n    </tr>\n    <tr>\n      <th>1</th>\n      <td>7</td>\n      <td>0</td>\n      <td>NaN</td>\n      <td>2</td>\n      <td>0</td>\n      <td>Aston Villa</td>\n      <td>0</td>\n      <td>0</td>\n      <td>0</td>\n      <td>AVL</td>\n      <td>2</td>\n      <td>NaN</td>\n      <td>False</td>\n      <td>0</td>\n      <td>1050</td>\n      <td>1080</td>\n      <td>1010</td>\n      <td>1080</td>\n      <td>1000</td>\n      <td>1110</td>\n      <td>2</td>\n    </tr>\n    <tr>\n      <th>2</th>\n      <td>36</td>\n      <td>0</td>\n      <td>NaN</td>\n      <td>3</td>\n      <td>0</td>\n      <td>Brighton</td>\n      <td>0</td>\n      <td>0</td>\n      <td>0</td>\n      <td>BHA</td>\n      <td>2</td>\n      <td>NaN</td>\n      <td>False</td>\n      <td>0</td>\n      <td>1070</td>\n      <td>1070</td>\n      <td>1100</td>\n      <td>1130</td>\n      <td>1060</td>\n      <td>1060</td>\n      <td>131</td>\n    </tr>\n    <tr>\n      <th>3</th>\n      <td>90</td>\n      <td>0</td>\n      <td>NaN</td>\n      <td>4</td>\n      <td>0</td>\n      <td>Burnley</td>\n      <td>0</td>\n      <td>0</td>\n      <td>0</td>\n      <td>BUR</td>\n      <td>3</td>\n      <td>NaN</td>\n      <td>False</td>\n      <td>0</td>\n      <td>1140</td>\n      <td>1150</td>\n      <td>1130</td>\n      <td>1240</td>\n      <td>1050</td>\n      <td>1170</td>\n      <td>43</td>\n    </tr>\n    <tr>\n      <th>4</th>\n      <td>8</td>\n      <td>0</td>\n      <td>NaN</td>\n      <td>5</td>\n      <td>0</td>\n      <td>Chelsea</td>\n      <td>0</td>\n      <td>0</td>\n      <td>0</td>\n      <td>CHE</td>\n      <td>4</td>\n      <td>NaN</td>\n      <td>False</td>\n      <td>0</td>\n      <td>1200</td>\n      <td>1260</td>\n      <td>1140</td>\n      <td>1270</td>\n      <td>1240</td>\n      <td>1250</td>\n      <td>4</td>\n    </tr>\n  </tbody>\n</table>\n</div>"
     },
     "metadata": {},
     "execution_count": 13
    }
   ],
   "source": [
    "all_teams.head()"
   ]
  },
  {
   "cell_type": "code",
   "execution_count": 14,
   "metadata": {},
   "outputs": [
    {
     "output_type": "execute_result",
     "data": {
      "text/plain": "   chance_of_playing_next_round  chance_of_playing_this_round  player_code  cost_change_event  cost_change_event_fall  cost_change_start  cost_change_start_fall  dreamteam_count  player_type_id  ep_next  ep_this  event_points  form  player_id  in_dreamteam                                 news                 news_added  now_cost      photo  PPG  selected_by_percent status  team_id  team_code  total_points  ...  red_cards  saves  bonus  bps influence  creativity  threat  ict_index  influence_rank  influence_rank_type  creativity_rank  creativity_rank_type  threat_rank  threat_rank_type  ict_index_rank  ict_index_rank_type  corners_and_indirect_freekicks_order  corners_and_indirect_freekicks_text  direct_freekicks_order  direct_freekicks_text  penalties_order  penalties_text  PP90      PPMM      VAPM\n0                           NaN                           NaN        37605                  0                       0                 -1                       1                0               3     -0.5      0.5             0   0.0          1         False                                  NaN                        NaT        69  37605.jpg  0.0                  0.9      a        1          3             0  ...          0      0      0    0       0.0         0.0     0.0        0.0             536                  217              537                   219          534               215             537                  218                                   4.0                                  NaN                     NaN                    NaN              NaN             NaN   NaN  0.000000 -0.289855\n1                          75.0                           0.0        39476                 -1                       1                 -1                       1                0               2     -0.4      0.0             0   0.0          2         False  Calf injury - 75% chance of playing 2020-09-11 11:00:08.600094        49  39476.jpg  0.0                  0.1      d        1          3             0  ...          0      0      0    0       0.0         0.0     0.0        0.0             419                  165              411                   165          375               154             426                  165                                   NaN                                  NaN                     NaN                    NaN              NaN             NaN   NaN  0.000000 -0.408163\n2                         100.0                         100.0        41270                  0                       0                  0                       0                0               2      0.0      1.0             1   0.5          3         False                                  NaN 2020-09-10 14:30:11.632386        55  41270.jpg  1.0                  0.9      a        1          3             1  ...          0      0      0    3       0.0         0.0     0.0        0.0             487                  187              490                   187          475               184             494                  187                                   NaN                                  NaN                     4.0                    NaN              NaN             NaN  90.0  0.181818 -0.181818\n3                           NaN                           NaN        54694                  0                       0                  0                       0                0               3      5.5      6.5             5   6.0          4         False                                  NaN                        NaT       120  54694.jpg  6.0                 36.6      a        1          3            12  ...          0      0      0   39      64.6        51.7    69.0       18.5              31                   15               19                    15           16                 6              13                    9                                   NaN                                  NaN                     6.0                    NaN              1.0             NaN   6.0  0.500000  0.333333\n4                          75.0                           NaN        58822                  0                       0                 -1                       1                0               2     -0.4      0.5             0   0.0          5         False  Calf injury - 75% chance of playing 2020-09-23 09:00:14.881983        49  58822.jpg  0.0                  0.4      d        1          3             0  ...          0      0      0    0       0.0         0.0     0.0        0.0             423                  166              415                   166          380               155             430                  166                                   NaN                                  NaN                     NaN                    NaN              NaN             NaN   NaN  0.000000 -0.408163\n\n[5 rows x 64 columns]",
      "text/html": "<div>\n<style scoped>\n    .dataframe tbody tr th:only-of-type {\n        vertical-align: middle;\n    }\n\n    .dataframe tbody tr th {\n        vertical-align: top;\n    }\n\n    .dataframe thead th {\n        text-align: right;\n    }\n</style>\n<table border=\"1\" class=\"dataframe\">\n  <thead>\n    <tr style=\"text-align: right;\">\n      <th></th>\n      <th>chance_of_playing_next_round</th>\n      <th>chance_of_playing_this_round</th>\n      <th>player_code</th>\n      <th>cost_change_event</th>\n      <th>cost_change_event_fall</th>\n      <th>cost_change_start</th>\n      <th>cost_change_start_fall</th>\n      <th>dreamteam_count</th>\n      <th>player_type_id</th>\n      <th>ep_next</th>\n      <th>ep_this</th>\n      <th>event_points</th>\n      <th>form</th>\n      <th>player_id</th>\n      <th>in_dreamteam</th>\n      <th>news</th>\n      <th>news_added</th>\n      <th>now_cost</th>\n      <th>photo</th>\n      <th>PPG</th>\n      <th>selected_by_percent</th>\n      <th>status</th>\n      <th>team_id</th>\n      <th>team_code</th>\n      <th>total_points</th>\n      <th>...</th>\n      <th>red_cards</th>\n      <th>saves</th>\n      <th>bonus</th>\n      <th>bps</th>\n      <th>influence</th>\n      <th>creativity</th>\n      <th>threat</th>\n      <th>ict_index</th>\n      <th>influence_rank</th>\n      <th>influence_rank_type</th>\n      <th>creativity_rank</th>\n      <th>creativity_rank_type</th>\n      <th>threat_rank</th>\n      <th>threat_rank_type</th>\n      <th>ict_index_rank</th>\n      <th>ict_index_rank_type</th>\n      <th>corners_and_indirect_freekicks_order</th>\n      <th>corners_and_indirect_freekicks_text</th>\n      <th>direct_freekicks_order</th>\n      <th>direct_freekicks_text</th>\n      <th>penalties_order</th>\n      <th>penalties_text</th>\n      <th>PP90</th>\n      <th>PPMM</th>\n      <th>VAPM</th>\n    </tr>\n  </thead>\n  <tbody>\n    <tr>\n      <th>0</th>\n      <td>NaN</td>\n      <td>NaN</td>\n      <td>37605</td>\n      <td>0</td>\n      <td>0</td>\n      <td>-1</td>\n      <td>1</td>\n      <td>0</td>\n      <td>3</td>\n      <td>-0.5</td>\n      <td>0.5</td>\n      <td>0</td>\n      <td>0.0</td>\n      <td>1</td>\n      <td>False</td>\n      <td>NaN</td>\n      <td>NaT</td>\n      <td>69</td>\n      <td>37605.jpg</td>\n      <td>0.0</td>\n      <td>0.9</td>\n      <td>a</td>\n      <td>1</td>\n      <td>3</td>\n      <td>0</td>\n      <td>...</td>\n      <td>0</td>\n      <td>0</td>\n      <td>0</td>\n      <td>0</td>\n      <td>0.0</td>\n      <td>0.0</td>\n      <td>0.0</td>\n      <td>0.0</td>\n      <td>536</td>\n      <td>217</td>\n      <td>537</td>\n      <td>219</td>\n      <td>534</td>\n      <td>215</td>\n      <td>537</td>\n      <td>218</td>\n      <td>4.0</td>\n      <td>NaN</td>\n      <td>NaN</td>\n      <td>NaN</td>\n      <td>NaN</td>\n      <td>NaN</td>\n      <td>NaN</td>\n      <td>0.000000</td>\n      <td>-0.289855</td>\n    </tr>\n    <tr>\n      <th>1</th>\n      <td>75.0</td>\n      <td>0.0</td>\n      <td>39476</td>\n      <td>-1</td>\n      <td>1</td>\n      <td>-1</td>\n      <td>1</td>\n      <td>0</td>\n      <td>2</td>\n      <td>-0.4</td>\n      <td>0.0</td>\n      <td>0</td>\n      <td>0.0</td>\n      <td>2</td>\n      <td>False</td>\n      <td>Calf injury - 75% chance of playing</td>\n      <td>2020-09-11 11:00:08.600094</td>\n      <td>49</td>\n      <td>39476.jpg</td>\n      <td>0.0</td>\n      <td>0.1</td>\n      <td>d</td>\n      <td>1</td>\n      <td>3</td>\n      <td>0</td>\n      <td>...</td>\n      <td>0</td>\n      <td>0</td>\n      <td>0</td>\n      <td>0</td>\n      <td>0.0</td>\n      <td>0.0</td>\n      <td>0.0</td>\n      <td>0.0</td>\n      <td>419</td>\n      <td>165</td>\n      <td>411</td>\n      <td>165</td>\n      <td>375</td>\n      <td>154</td>\n      <td>426</td>\n      <td>165</td>\n      <td>NaN</td>\n      <td>NaN</td>\n      <td>NaN</td>\n      <td>NaN</td>\n      <td>NaN</td>\n      <td>NaN</td>\n      <td>NaN</td>\n      <td>0.000000</td>\n      <td>-0.408163</td>\n    </tr>\n    <tr>\n      <th>2</th>\n      <td>100.0</td>\n      <td>100.0</td>\n      <td>41270</td>\n      <td>0</td>\n      <td>0</td>\n      <td>0</td>\n      <td>0</td>\n      <td>0</td>\n      <td>2</td>\n      <td>0.0</td>\n      <td>1.0</td>\n      <td>1</td>\n      <td>0.5</td>\n      <td>3</td>\n      <td>False</td>\n      <td>NaN</td>\n      <td>2020-09-10 14:30:11.632386</td>\n      <td>55</td>\n      <td>41270.jpg</td>\n      <td>1.0</td>\n      <td>0.9</td>\n      <td>a</td>\n      <td>1</td>\n      <td>3</td>\n      <td>1</td>\n      <td>...</td>\n      <td>0</td>\n      <td>0</td>\n      <td>0</td>\n      <td>3</td>\n      <td>0.0</td>\n      <td>0.0</td>\n      <td>0.0</td>\n      <td>0.0</td>\n      <td>487</td>\n      <td>187</td>\n      <td>490</td>\n      <td>187</td>\n      <td>475</td>\n      <td>184</td>\n      <td>494</td>\n      <td>187</td>\n      <td>NaN</td>\n      <td>NaN</td>\n      <td>4.0</td>\n      <td>NaN</td>\n      <td>NaN</td>\n      <td>NaN</td>\n      <td>90.0</td>\n      <td>0.181818</td>\n      <td>-0.181818</td>\n    </tr>\n    <tr>\n      <th>3</th>\n      <td>NaN</td>\n      <td>NaN</td>\n      <td>54694</td>\n      <td>0</td>\n      <td>0</td>\n      <td>0</td>\n      <td>0</td>\n      <td>0</td>\n      <td>3</td>\n      <td>5.5</td>\n      <td>6.5</td>\n      <td>5</td>\n      <td>6.0</td>\n      <td>4</td>\n      <td>False</td>\n      <td>NaN</td>\n      <td>NaT</td>\n      <td>120</td>\n      <td>54694.jpg</td>\n      <td>6.0</td>\n      <td>36.6</td>\n      <td>a</td>\n      <td>1</td>\n      <td>3</td>\n      <td>12</td>\n      <td>...</td>\n      <td>0</td>\n      <td>0</td>\n      <td>0</td>\n      <td>39</td>\n      <td>64.6</td>\n      <td>51.7</td>\n      <td>69.0</td>\n      <td>18.5</td>\n      <td>31</td>\n      <td>15</td>\n      <td>19</td>\n      <td>15</td>\n      <td>16</td>\n      <td>6</td>\n      <td>13</td>\n      <td>9</td>\n      <td>NaN</td>\n      <td>NaN</td>\n      <td>6.0</td>\n      <td>NaN</td>\n      <td>1.0</td>\n      <td>NaN</td>\n      <td>6.0</td>\n      <td>0.500000</td>\n      <td>0.333333</td>\n    </tr>\n    <tr>\n      <th>4</th>\n      <td>75.0</td>\n      <td>NaN</td>\n      <td>58822</td>\n      <td>0</td>\n      <td>0</td>\n      <td>-1</td>\n      <td>1</td>\n      <td>0</td>\n      <td>2</td>\n      <td>-0.4</td>\n      <td>0.5</td>\n      <td>0</td>\n      <td>0.0</td>\n      <td>5</td>\n      <td>False</td>\n      <td>Calf injury - 75% chance of playing</td>\n      <td>2020-09-23 09:00:14.881983</td>\n      <td>49</td>\n      <td>58822.jpg</td>\n      <td>0.0</td>\n      <td>0.4</td>\n      <td>d</td>\n      <td>1</td>\n      <td>3</td>\n      <td>0</td>\n      <td>...</td>\n      <td>0</td>\n      <td>0</td>\n      <td>0</td>\n      <td>0</td>\n      <td>0.0</td>\n      <td>0.0</td>\n      <td>0.0</td>\n      <td>0.0</td>\n      <td>423</td>\n      <td>166</td>\n      <td>415</td>\n      <td>166</td>\n      <td>380</td>\n      <td>155</td>\n      <td>430</td>\n      <td>166</td>\n      <td>NaN</td>\n      <td>NaN</td>\n      <td>NaN</td>\n      <td>NaN</td>\n      <td>NaN</td>\n      <td>NaN</td>\n      <td>NaN</td>\n      <td>0.000000</td>\n      <td>-0.408163</td>\n    </tr>\n  </tbody>\n</table>\n<p>5 rows × 64 columns</p>\n</div>"
     },
     "metadata": {},
     "execution_count": 14
    }
   ],
   "source": [
    "all_players.head()"
   ]
  },
  {
   "cell_type": "code",
   "execution_count": 15,
   "metadata": {},
   "outputs": [],
   "source": [
    "df_merge = all_teams[[\"team_code\" , \"strength\" , \"team_short_name\" , \"strength_overall_home\" , \"strength_overall_away\"]]\n",
    "all_players = all_players.merge(df_merge, on = 'team_code')\n",
    "\n",
    "df_merge = player_types[['player_type_id' , 'position_name_short']]\n",
    "all_players = all_players.merge(df_merge , on = \"player_type_id\")\n",
    "\n",
    "\n",
    "#merged_data.drop([\"element\"], axis = 1, inplace = True)\n",
    "#merged_data.rename(columns = {\"fixture\" : \"fixture_id\" , \"opponent_team\" : \"opponent_team_id\" , \"round\" : \"gameweek_id\" , \"value\" : \"player_price\", \"short_name\" : \"opponent_team_name\" , \"strength\" : \"opponent_strength\"}, inplace = True)\n",
    "\n",
    "#merged_data.sort_values(\"gameweek_id\" , ascending = True , inplace = True)\n",
    "\n"
   ]
  },
  {
   "cell_type": "code",
   "execution_count": 16,
   "metadata": {},
   "outputs": [
    {
     "output_type": "execute_result",
     "data": {
      "text/plain": "Index(['chance_of_playing_next_round', 'chance_of_playing_this_round', 'player_code', 'cost_change_event', 'cost_change_event_fall', 'cost_change_start', 'cost_change_start_fall', 'dreamteam_count', 'player_type_id', 'ep_next', 'ep_this', 'event_points', 'form', 'player_id', 'in_dreamteam', 'news', 'news_added', 'now_cost', 'photo', 'PPG', 'selected_by_percent', 'status', 'team_id', 'team_code', 'total_points', 'transfers_in_event', 'transfers_out_event', 'value_form', 'value_season', 'web_name', 'minutes', 'goals_scored', 'assists', 'clean_sheets', 'goals_conceded', 'own_goals', 'penalties_saved', 'penalties_missed', 'yellow_cards', 'red_cards', 'saves', 'bonus', 'bps', 'influence', 'creativity', 'threat', 'ict_index', 'influence_rank', 'influence_rank_type', 'creativity_rank', 'creativity_rank_type', 'threat_rank', 'threat_rank_type', 'ict_index_rank', 'ict_index_rank_type', 'corners_and_indirect_freekicks_order', 'corners_and_indirect_freekicks_text', 'direct_freekicks_order',\n       'direct_freekicks_text', 'penalties_order', 'penalties_text', 'PP90', 'PPMM', 'VAPM', 'strength', 'team_short_name', 'strength_overall_home', 'strength_overall_away', 'position_name_short'],\n      dtype='object')"
     },
     "metadata": {},
     "execution_count": 16
    }
   ],
   "source": [
    "all_players.columns"
   ]
  },
  {
   "cell_type": "code",
   "execution_count": 17,
   "metadata": {},
   "outputs": [
    {
     "output_type": "execute_result",
     "data": {
      "text/plain": "   chance_of_playing_next_round  chance_of_playing_this_round  player_code  cost_change_event  cost_change_event_fall  cost_change_start  cost_change_start_fall  dreamteam_count  player_type_id  ep_next  ep_this  event_points  form  player_id  in_dreamteam news news_added  now_cost       photo  PPG  selected_by_percent status  team_id  team_code  total_points  ...  creativity  threat  ict_index  influence_rank influence_rank_type  creativity_rank  creativity_rank_type  threat_rank  threat_rank_type  ict_index_rank  ict_index_rank_type  corners_and_indirect_freekicks_order  corners_and_indirect_freekicks_text  direct_freekicks_order  direct_freekicks_text  penalties_order  penalties_text      PP90      PPMM      VAPM  strength  team_short_name  strength_overall_home  strength_overall_away  position_name_short\n0                           NaN                           NaN        37605                  0                       0                 -1                       1                0               3     -0.5      0.5             0   0.0          1         False  NaN        NaT        69   37605.jpg  0.0                  0.9      a        1          3             0  ...         0.0     0.0        0.0             536                 217              537                   219          534               215             537                  218                                   4.0                                  NaN                     NaN                    NaN              NaN             NaN       NaN  0.000000 -0.289855         4              ARS                   1190                   1270                  MID\n1                           NaN                           NaN        54694                  0                       0                  0                       0                0               3      5.5      6.5             5   6.0          4         False  NaN        NaT       120   54694.jpg  6.0                 36.6      a        1          3            12  ...        51.7    69.0       18.5              31                  15               19                    15           16                 6              13                    9                                   NaN                                  NaN                     6.0                    NaN              1.0             NaN  6.000000  0.500000  0.333333         4              ARS                   1190                   1270                  MID\n2                           NaN                           NaN        84450                  0                       0                  0                       0                0               3      2.0      3.0             2   2.5          9         False  NaN        NaT        55   84450.jpg  2.5                  0.8      a        1          3             5  ...        23.9    21.0        6.8             133                  47               74                    49           92                49              88                   44                                   NaN                                  NaN                     2.0                    NaN              NaN             NaN  2.694611  0.454545  0.090909         4              ARS                   1190                   1270                  MID\n3                           NaN                           NaN       195735                 -1                       1                 -2                       2                0               3      0.5      1.5             1   1.0         18         False  NaN        NaT        78  195735.jpg  1.0                  1.2      a        1          3             2  ...        17.6    14.0        3.4             257                 115               97                    64          123                69             184                   86                                   1.0                                  NaN                     3.0                    NaN              2.0             NaN  4.390244  0.128205 -0.128205         4              ARS                   1190                   1270                  MID\n4                           NaN                           NaN       198849                  0                       0                 -1                       1                0               3     -0.5      0.5             0   0.0         19         False  NaN        NaT        49  198849.jpg  0.0                  0.2      a        1          3             0  ...         0.0     0.0        0.0             437                 171              429                   175          398               151             444                  174                                   5.0                                  NaN                     NaN                    NaN              NaN             NaN       NaN  0.000000 -0.408163         4              ARS                   1190                   1270                  MID\n\n[5 rows x 69 columns]",
      "text/html": "<div>\n<style scoped>\n    .dataframe tbody tr th:only-of-type {\n        vertical-align: middle;\n    }\n\n    .dataframe tbody tr th {\n        vertical-align: top;\n    }\n\n    .dataframe thead th {\n        text-align: right;\n    }\n</style>\n<table border=\"1\" class=\"dataframe\">\n  <thead>\n    <tr style=\"text-align: right;\">\n      <th></th>\n      <th>chance_of_playing_next_round</th>\n      <th>chance_of_playing_this_round</th>\n      <th>player_code</th>\n      <th>cost_change_event</th>\n      <th>cost_change_event_fall</th>\n      <th>cost_change_start</th>\n      <th>cost_change_start_fall</th>\n      <th>dreamteam_count</th>\n      <th>player_type_id</th>\n      <th>ep_next</th>\n      <th>ep_this</th>\n      <th>event_points</th>\n      <th>form</th>\n      <th>player_id</th>\n      <th>in_dreamteam</th>\n      <th>news</th>\n      <th>news_added</th>\n      <th>now_cost</th>\n      <th>photo</th>\n      <th>PPG</th>\n      <th>selected_by_percent</th>\n      <th>status</th>\n      <th>team_id</th>\n      <th>team_code</th>\n      <th>total_points</th>\n      <th>...</th>\n      <th>creativity</th>\n      <th>threat</th>\n      <th>ict_index</th>\n      <th>influence_rank</th>\n      <th>influence_rank_type</th>\n      <th>creativity_rank</th>\n      <th>creativity_rank_type</th>\n      <th>threat_rank</th>\n      <th>threat_rank_type</th>\n      <th>ict_index_rank</th>\n      <th>ict_index_rank_type</th>\n      <th>corners_and_indirect_freekicks_order</th>\n      <th>corners_and_indirect_freekicks_text</th>\n      <th>direct_freekicks_order</th>\n      <th>direct_freekicks_text</th>\n      <th>penalties_order</th>\n      <th>penalties_text</th>\n      <th>PP90</th>\n      <th>PPMM</th>\n      <th>VAPM</th>\n      <th>strength</th>\n      <th>team_short_name</th>\n      <th>strength_overall_home</th>\n      <th>strength_overall_away</th>\n      <th>position_name_short</th>\n    </tr>\n  </thead>\n  <tbody>\n    <tr>\n      <th>0</th>\n      <td>NaN</td>\n      <td>NaN</td>\n      <td>37605</td>\n      <td>0</td>\n      <td>0</td>\n      <td>-1</td>\n      <td>1</td>\n      <td>0</td>\n      <td>3</td>\n      <td>-0.5</td>\n      <td>0.5</td>\n      <td>0</td>\n      <td>0.0</td>\n      <td>1</td>\n      <td>False</td>\n      <td>NaN</td>\n      <td>NaT</td>\n      <td>69</td>\n      <td>37605.jpg</td>\n      <td>0.0</td>\n      <td>0.9</td>\n      <td>a</td>\n      <td>1</td>\n      <td>3</td>\n      <td>0</td>\n      <td>...</td>\n      <td>0.0</td>\n      <td>0.0</td>\n      <td>0.0</td>\n      <td>536</td>\n      <td>217</td>\n      <td>537</td>\n      <td>219</td>\n      <td>534</td>\n      <td>215</td>\n      <td>537</td>\n      <td>218</td>\n      <td>4.0</td>\n      <td>NaN</td>\n      <td>NaN</td>\n      <td>NaN</td>\n      <td>NaN</td>\n      <td>NaN</td>\n      <td>NaN</td>\n      <td>0.000000</td>\n      <td>-0.289855</td>\n      <td>4</td>\n      <td>ARS</td>\n      <td>1190</td>\n      <td>1270</td>\n      <td>MID</td>\n    </tr>\n    <tr>\n      <th>1</th>\n      <td>NaN</td>\n      <td>NaN</td>\n      <td>54694</td>\n      <td>0</td>\n      <td>0</td>\n      <td>0</td>\n      <td>0</td>\n      <td>0</td>\n      <td>3</td>\n      <td>5.5</td>\n      <td>6.5</td>\n      <td>5</td>\n      <td>6.0</td>\n      <td>4</td>\n      <td>False</td>\n      <td>NaN</td>\n      <td>NaT</td>\n      <td>120</td>\n      <td>54694.jpg</td>\n      <td>6.0</td>\n      <td>36.6</td>\n      <td>a</td>\n      <td>1</td>\n      <td>3</td>\n      <td>12</td>\n      <td>...</td>\n      <td>51.7</td>\n      <td>69.0</td>\n      <td>18.5</td>\n      <td>31</td>\n      <td>15</td>\n      <td>19</td>\n      <td>15</td>\n      <td>16</td>\n      <td>6</td>\n      <td>13</td>\n      <td>9</td>\n      <td>NaN</td>\n      <td>NaN</td>\n      <td>6.0</td>\n      <td>NaN</td>\n      <td>1.0</td>\n      <td>NaN</td>\n      <td>6.000000</td>\n      <td>0.500000</td>\n      <td>0.333333</td>\n      <td>4</td>\n      <td>ARS</td>\n      <td>1190</td>\n      <td>1270</td>\n      <td>MID</td>\n    </tr>\n    <tr>\n      <th>2</th>\n      <td>NaN</td>\n      <td>NaN</td>\n      <td>84450</td>\n      <td>0</td>\n      <td>0</td>\n      <td>0</td>\n      <td>0</td>\n      <td>0</td>\n      <td>3</td>\n      <td>2.0</td>\n      <td>3.0</td>\n      <td>2</td>\n      <td>2.5</td>\n      <td>9</td>\n      <td>False</td>\n      <td>NaN</td>\n      <td>NaT</td>\n      <td>55</td>\n      <td>84450.jpg</td>\n      <td>2.5</td>\n      <td>0.8</td>\n      <td>a</td>\n      <td>1</td>\n      <td>3</td>\n      <td>5</td>\n      <td>...</td>\n      <td>23.9</td>\n      <td>21.0</td>\n      <td>6.8</td>\n      <td>133</td>\n      <td>47</td>\n      <td>74</td>\n      <td>49</td>\n      <td>92</td>\n      <td>49</td>\n      <td>88</td>\n      <td>44</td>\n      <td>NaN</td>\n      <td>NaN</td>\n      <td>2.0</td>\n      <td>NaN</td>\n      <td>NaN</td>\n      <td>NaN</td>\n      <td>2.694611</td>\n      <td>0.454545</td>\n      <td>0.090909</td>\n      <td>4</td>\n      <td>ARS</td>\n      <td>1190</td>\n      <td>1270</td>\n      <td>MID</td>\n    </tr>\n    <tr>\n      <th>3</th>\n      <td>NaN</td>\n      <td>NaN</td>\n      <td>195735</td>\n      <td>-1</td>\n      <td>1</td>\n      <td>-2</td>\n      <td>2</td>\n      <td>0</td>\n      <td>3</td>\n      <td>0.5</td>\n      <td>1.5</td>\n      <td>1</td>\n      <td>1.0</td>\n      <td>18</td>\n      <td>False</td>\n      <td>NaN</td>\n      <td>NaT</td>\n      <td>78</td>\n      <td>195735.jpg</td>\n      <td>1.0</td>\n      <td>1.2</td>\n      <td>a</td>\n      <td>1</td>\n      <td>3</td>\n      <td>2</td>\n      <td>...</td>\n      <td>17.6</td>\n      <td>14.0</td>\n      <td>3.4</td>\n      <td>257</td>\n      <td>115</td>\n      <td>97</td>\n      <td>64</td>\n      <td>123</td>\n      <td>69</td>\n      <td>184</td>\n      <td>86</td>\n      <td>1.0</td>\n      <td>NaN</td>\n      <td>3.0</td>\n      <td>NaN</td>\n      <td>2.0</td>\n      <td>NaN</td>\n      <td>4.390244</td>\n      <td>0.128205</td>\n      <td>-0.128205</td>\n      <td>4</td>\n      <td>ARS</td>\n      <td>1190</td>\n      <td>1270</td>\n      <td>MID</td>\n    </tr>\n    <tr>\n      <th>4</th>\n      <td>NaN</td>\n      <td>NaN</td>\n      <td>198849</td>\n      <td>0</td>\n      <td>0</td>\n      <td>-1</td>\n      <td>1</td>\n      <td>0</td>\n      <td>3</td>\n      <td>-0.5</td>\n      <td>0.5</td>\n      <td>0</td>\n      <td>0.0</td>\n      <td>19</td>\n      <td>False</td>\n      <td>NaN</td>\n      <td>NaT</td>\n      <td>49</td>\n      <td>198849.jpg</td>\n      <td>0.0</td>\n      <td>0.2</td>\n      <td>a</td>\n      <td>1</td>\n      <td>3</td>\n      <td>0</td>\n      <td>...</td>\n      <td>0.0</td>\n      <td>0.0</td>\n      <td>0.0</td>\n      <td>437</td>\n      <td>171</td>\n      <td>429</td>\n      <td>175</td>\n      <td>398</td>\n      <td>151</td>\n      <td>444</td>\n      <td>174</td>\n      <td>5.0</td>\n      <td>NaN</td>\n      <td>NaN</td>\n      <td>NaN</td>\n      <td>NaN</td>\n      <td>NaN</td>\n      <td>NaN</td>\n      <td>0.000000</td>\n      <td>-0.408163</td>\n      <td>4</td>\n      <td>ARS</td>\n      <td>1190</td>\n      <td>1270</td>\n      <td>MID</td>\n    </tr>\n  </tbody>\n</table>\n<p>5 rows × 69 columns</p>\n</div>"
     },
     "metadata": {},
     "execution_count": 17
    }
   ],
   "source": [
    "all_players.head()"
   ]
  },
  {
   "cell_type": "markdown",
   "metadata": {},
   "source": [
    "## Save to file"
   ]
  },
  {
   "cell_type": "code",
   "execution_count": 18,
   "metadata": {},
   "outputs": [],
   "source": [
    "all_players.to_csv (r'./data/' + season + '/Merged_data/all_players_merged.csv', index = False, header=True)\n"
   ]
  },
  {
   "cell_type": "code",
   "execution_count": null,
   "metadata": {},
   "outputs": [],
   "source": []
  }
 ]
}