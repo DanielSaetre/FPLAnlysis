{
 "metadata": {
  "language_info": {
   "codemirror_mode": {
    "name": "ipython",
    "version": 3
   },
   "file_extension": ".py",
   "mimetype": "text/x-python",
   "name": "python",
   "nbconvert_exporter": "python",
   "pygments_lexer": "ipython3",
   "version": "3.7.4-final"
  },
  "orig_nbformat": 2,
  "kernelspec": {
   "name": "python_defaultSpec_1598207421975",
   "display_name": "Python 3.7.4 64-bit ('base': conda)"
  }
 },
 "nbformat": 4,
 "nbformat_minor": 2,
 "cells": [
  {
   "cell_type": "code",
   "execution_count": 60,
   "metadata": {},
   "outputs": [],
   "source": [
    "import numpy as np\n",
    "import pandas as pd\n",
    "import requests\n",
    "from datetime import datetime\n",
    "import json\n",
    "\n",
    "#Set Display options\n",
    "pd.set_option('display.max_rows', 50)\n",
    "pd.set_option('display.max_columns', 50)\n",
    "pd.set_option('display.width' , 1000)"
   ]
  },
  {
   "cell_type": "code",
   "execution_count": 61,
   "metadata": {},
   "outputs": [],
   "source": [
    "# Variables\n",
    "season = \"2020-21\""
   ]
  },
  {
   "cell_type": "code",
   "execution_count": 62,
   "metadata": {},
   "outputs": [],
   "source": [
    "all_players = pd.read_csv (r'./data/' + season + '/Cleaned_data/all_players.csv', parse_dates= [\"news_added\"])\n",
    "all_teams = pd.read_csv (r'./data/' + season + '/Cleaned_data/all_teams.csv')\n",
    "all_events = pd.read_csv (r'./data/' + season + '/Cleaned_data/all_events.csv', parse_dates= [\"deadline_time\"])\n",
    "player_types = pd.read_csv(r'./data/' + season + '/Cleaned_data/player_types.csv')\n",
    "game_phases = pd.read_csv(r'./data/' + season + '/Cleaned_data/game_phases.csv')\n",
    "\n",
    "player_season_history = pd.read_csv(r'./data/' + season + '/Cleaned_data/player_season_history.csv')\n",
    "player_gameweek_history = pd.read_csv(r'./data/' + season + '/Cleaned_data/player_gameweek_history.csv' , parse_dates = ['kickoff_time'])\n",
    "player_future_fixture = pd.read_csv(r'./data/' + season + '/Cleaned_data/player_future_fixture.csv', parse_dates = [\"kickoff_time\"])\n",
    "\n",
    "\n"
   ]
  },
  {
   "cell_type": "code",
   "execution_count": 63,
   "metadata": {},
   "outputs": [
    {
     "output_type": "execute_result",
     "data": {
      "text/plain": "   team_code  draw  form  team_id  loss    team_name  played  points  position team_short_name  strength  team_division  unavailable  win  strength_overall_home  strength_overall_away  strength_attack_home  strength_attack_away  strength_defence_home  strength_defence_away  pulse_id\n0          3     0   NaN        1     0      Arsenal       0       0         0             ARS         4            NaN        False    0                   1190                   1270                  1190                  1200                   1160                   1270         1\n1          7     0   NaN        2     0  Aston Villa       0       0         0             AVL         2            NaN        False    0                   1050                   1080                  1010                  1080                   1000                   1110         2\n2         36     0   NaN        3     0     Brighton       0       0         0             BHA         2            NaN        False    0                   1070                   1070                  1100                  1130                   1060                   1060       131\n3         90     0   NaN        4     0      Burnley       0       0         0             BUR         3            NaN        False    0                   1140                   1150                  1130                  1240                   1050                   1170        43\n4          8     0   NaN        5     0      Chelsea       0       0         0             CHE         4            NaN        False    0                   1200                   1260                  1140                  1270                   1240                   1250         4",
      "text/html": "<div>\n<style scoped>\n    .dataframe tbody tr th:only-of-type {\n        vertical-align: middle;\n    }\n\n    .dataframe tbody tr th {\n        vertical-align: top;\n    }\n\n    .dataframe thead th {\n        text-align: right;\n    }\n</style>\n<table border=\"1\" class=\"dataframe\">\n  <thead>\n    <tr style=\"text-align: right;\">\n      <th></th>\n      <th>team_code</th>\n      <th>draw</th>\n      <th>form</th>\n      <th>team_id</th>\n      <th>loss</th>\n      <th>team_name</th>\n      <th>played</th>\n      <th>points</th>\n      <th>position</th>\n      <th>team_short_name</th>\n      <th>strength</th>\n      <th>team_division</th>\n      <th>unavailable</th>\n      <th>win</th>\n      <th>strength_overall_home</th>\n      <th>strength_overall_away</th>\n      <th>strength_attack_home</th>\n      <th>strength_attack_away</th>\n      <th>strength_defence_home</th>\n      <th>strength_defence_away</th>\n      <th>pulse_id</th>\n    </tr>\n  </thead>\n  <tbody>\n    <tr>\n      <td>0</td>\n      <td>3</td>\n      <td>0</td>\n      <td>NaN</td>\n      <td>1</td>\n      <td>0</td>\n      <td>Arsenal</td>\n      <td>0</td>\n      <td>0</td>\n      <td>0</td>\n      <td>ARS</td>\n      <td>4</td>\n      <td>NaN</td>\n      <td>False</td>\n      <td>0</td>\n      <td>1190</td>\n      <td>1270</td>\n      <td>1190</td>\n      <td>1200</td>\n      <td>1160</td>\n      <td>1270</td>\n      <td>1</td>\n    </tr>\n    <tr>\n      <td>1</td>\n      <td>7</td>\n      <td>0</td>\n      <td>NaN</td>\n      <td>2</td>\n      <td>0</td>\n      <td>Aston Villa</td>\n      <td>0</td>\n      <td>0</td>\n      <td>0</td>\n      <td>AVL</td>\n      <td>2</td>\n      <td>NaN</td>\n      <td>False</td>\n      <td>0</td>\n      <td>1050</td>\n      <td>1080</td>\n      <td>1010</td>\n      <td>1080</td>\n      <td>1000</td>\n      <td>1110</td>\n      <td>2</td>\n    </tr>\n    <tr>\n      <td>2</td>\n      <td>36</td>\n      <td>0</td>\n      <td>NaN</td>\n      <td>3</td>\n      <td>0</td>\n      <td>Brighton</td>\n      <td>0</td>\n      <td>0</td>\n      <td>0</td>\n      <td>BHA</td>\n      <td>2</td>\n      <td>NaN</td>\n      <td>False</td>\n      <td>0</td>\n      <td>1070</td>\n      <td>1070</td>\n      <td>1100</td>\n      <td>1130</td>\n      <td>1060</td>\n      <td>1060</td>\n      <td>131</td>\n    </tr>\n    <tr>\n      <td>3</td>\n      <td>90</td>\n      <td>0</td>\n      <td>NaN</td>\n      <td>4</td>\n      <td>0</td>\n      <td>Burnley</td>\n      <td>0</td>\n      <td>0</td>\n      <td>0</td>\n      <td>BUR</td>\n      <td>3</td>\n      <td>NaN</td>\n      <td>False</td>\n      <td>0</td>\n      <td>1140</td>\n      <td>1150</td>\n      <td>1130</td>\n      <td>1240</td>\n      <td>1050</td>\n      <td>1170</td>\n      <td>43</td>\n    </tr>\n    <tr>\n      <td>4</td>\n      <td>8</td>\n      <td>0</td>\n      <td>NaN</td>\n      <td>5</td>\n      <td>0</td>\n      <td>Chelsea</td>\n      <td>0</td>\n      <td>0</td>\n      <td>0</td>\n      <td>CHE</td>\n      <td>4</td>\n      <td>NaN</td>\n      <td>False</td>\n      <td>0</td>\n      <td>1200</td>\n      <td>1260</td>\n      <td>1140</td>\n      <td>1270</td>\n      <td>1240</td>\n      <td>1250</td>\n      <td>4</td>\n    </tr>\n  </tbody>\n</table>\n</div>"
     },
     "metadata": {},
     "execution_count": 63
    }
   ],
   "source": [
    "all_teams.head()"
   ]
  },
  {
   "cell_type": "code",
   "execution_count": 64,
   "metadata": {},
   "outputs": [
    {
     "output_type": "execute_result",
     "data": {
      "text/plain": "   chance_of_playing_next_round  chance_of_playing_this_round  player_code  cost_change_event  cost_change_event_fall  cost_change_start  cost_change_start_fall  dreamteam_count  player_type_id  ep_next  ep_this  event_points  form  player_id  in_dreamteam news news_added  now_cost      photo  PPG  selected_by_percent status  team_id  team_code  total_points  ...  clean_sheets  goals_conceded  own_goals  penalties_saved penalties_missed  yellow_cards  red_cards  saves  bonus  bps  influence  creativity  threat  ict_index  influence_rank  influence_rank_type  creativity_rank  creativity_rank_type  threat_rank  threat_rank_type  ict_index_rank  ict_index_rank_type      PP90      VAPM      PPMM\n0                           NaN                           NaN        37605                  0                       0                  0                       0                0               3      3.4      NaN             0   0.0          1         False  NaN        NaT        70  37605.jpg  2.9                  2.1      a        1          3            53  ...             5              20          0                0                0             1          0      0      1  256      223.6       582.9   190.0       99.8             253                  109               35                    29          174                95             135                   72  3.314802  0.128571  0.414286\n1                           NaN                           NaN        39476                  0                       0                  0                       0                0               2      3.1      NaN             0   0.0          2         False  NaN        NaT        50  39476.jpg  3.0                  0.6      a        1          3            57  ...             4              25          0                0                0             6          0      0      5  305      436.2        36.8   110.0       58.5             144                   53              293                   105          222                64             233                   74  3.024764  0.200000  0.600000\n2                           NaN                           NaN        41270                  0                       0                  0                       0                0               2      3.5      NaN             0   0.0          3         False  NaN        NaT        55  41270.jpg  2.8                  1.7      a        1          3            94  ...             8              42          0                0                0             5          2      0     10  494      701.6       106.7   211.0      102.1              50                   18              221                    61          160                32             130                   35  3.011748  0.145455  0.509091\n3                           NaN                           NaN        54694                  0                       0                  0                       0                0               3      5.0      NaN             0   0.0          4         False  NaN        NaT       120  54694.jpg  5.7                 32.9      a        1          3           205  ...            10              44          0                0                0             3          1      0     37  807     1006.0       479.6  1369.0      285.2               8                    4               54                    42            9                 3              11                    7  5.883291  0.308333  0.475000\n4                           NaN                           NaN        58822                  0                       0                  0                       0                0               2      3.1      NaN             0   0.0          5         False  NaN        NaT        50  58822.jpg  2.9                  0.4      a        1          3            61  ...             4              20          0                0                0             1          0      0      3  286      349.0       218.9   118.0       68.7             182                   68              158                    34          221                63             201                   59  3.535093  0.180000  0.580000\n\n[5 rows x 58 columns]",
      "text/html": "<div>\n<style scoped>\n    .dataframe tbody tr th:only-of-type {\n        vertical-align: middle;\n    }\n\n    .dataframe tbody tr th {\n        vertical-align: top;\n    }\n\n    .dataframe thead th {\n        text-align: right;\n    }\n</style>\n<table border=\"1\" class=\"dataframe\">\n  <thead>\n    <tr style=\"text-align: right;\">\n      <th></th>\n      <th>chance_of_playing_next_round</th>\n      <th>chance_of_playing_this_round</th>\n      <th>player_code</th>\n      <th>cost_change_event</th>\n      <th>cost_change_event_fall</th>\n      <th>cost_change_start</th>\n      <th>cost_change_start_fall</th>\n      <th>dreamteam_count</th>\n      <th>player_type_id</th>\n      <th>ep_next</th>\n      <th>ep_this</th>\n      <th>event_points</th>\n      <th>form</th>\n      <th>player_id</th>\n      <th>in_dreamteam</th>\n      <th>news</th>\n      <th>news_added</th>\n      <th>now_cost</th>\n      <th>photo</th>\n      <th>PPG</th>\n      <th>selected_by_percent</th>\n      <th>status</th>\n      <th>team_id</th>\n      <th>team_code</th>\n      <th>total_points</th>\n      <th>...</th>\n      <th>clean_sheets</th>\n      <th>goals_conceded</th>\n      <th>own_goals</th>\n      <th>penalties_saved</th>\n      <th>penalties_missed</th>\n      <th>yellow_cards</th>\n      <th>red_cards</th>\n      <th>saves</th>\n      <th>bonus</th>\n      <th>bps</th>\n      <th>influence</th>\n      <th>creativity</th>\n      <th>threat</th>\n      <th>ict_index</th>\n      <th>influence_rank</th>\n      <th>influence_rank_type</th>\n      <th>creativity_rank</th>\n      <th>creativity_rank_type</th>\n      <th>threat_rank</th>\n      <th>threat_rank_type</th>\n      <th>ict_index_rank</th>\n      <th>ict_index_rank_type</th>\n      <th>PP90</th>\n      <th>VAPM</th>\n      <th>PPMM</th>\n    </tr>\n  </thead>\n  <tbody>\n    <tr>\n      <td>0</td>\n      <td>NaN</td>\n      <td>NaN</td>\n      <td>37605</td>\n      <td>0</td>\n      <td>0</td>\n      <td>0</td>\n      <td>0</td>\n      <td>0</td>\n      <td>3</td>\n      <td>3.4</td>\n      <td>NaN</td>\n      <td>0</td>\n      <td>0.0</td>\n      <td>1</td>\n      <td>False</td>\n      <td>NaN</td>\n      <td>NaT</td>\n      <td>70</td>\n      <td>37605.jpg</td>\n      <td>2.9</td>\n      <td>2.1</td>\n      <td>a</td>\n      <td>1</td>\n      <td>3</td>\n      <td>53</td>\n      <td>...</td>\n      <td>5</td>\n      <td>20</td>\n      <td>0</td>\n      <td>0</td>\n      <td>0</td>\n      <td>1</td>\n      <td>0</td>\n      <td>0</td>\n      <td>1</td>\n      <td>256</td>\n      <td>223.6</td>\n      <td>582.9</td>\n      <td>190.0</td>\n      <td>99.8</td>\n      <td>253</td>\n      <td>109</td>\n      <td>35</td>\n      <td>29</td>\n      <td>174</td>\n      <td>95</td>\n      <td>135</td>\n      <td>72</td>\n      <td>3.314802</td>\n      <td>0.128571</td>\n      <td>0.414286</td>\n    </tr>\n    <tr>\n      <td>1</td>\n      <td>NaN</td>\n      <td>NaN</td>\n      <td>39476</td>\n      <td>0</td>\n      <td>0</td>\n      <td>0</td>\n      <td>0</td>\n      <td>0</td>\n      <td>2</td>\n      <td>3.1</td>\n      <td>NaN</td>\n      <td>0</td>\n      <td>0.0</td>\n      <td>2</td>\n      <td>False</td>\n      <td>NaN</td>\n      <td>NaT</td>\n      <td>50</td>\n      <td>39476.jpg</td>\n      <td>3.0</td>\n      <td>0.6</td>\n      <td>a</td>\n      <td>1</td>\n      <td>3</td>\n      <td>57</td>\n      <td>...</td>\n      <td>4</td>\n      <td>25</td>\n      <td>0</td>\n      <td>0</td>\n      <td>0</td>\n      <td>6</td>\n      <td>0</td>\n      <td>0</td>\n      <td>5</td>\n      <td>305</td>\n      <td>436.2</td>\n      <td>36.8</td>\n      <td>110.0</td>\n      <td>58.5</td>\n      <td>144</td>\n      <td>53</td>\n      <td>293</td>\n      <td>105</td>\n      <td>222</td>\n      <td>64</td>\n      <td>233</td>\n      <td>74</td>\n      <td>3.024764</td>\n      <td>0.200000</td>\n      <td>0.600000</td>\n    </tr>\n    <tr>\n      <td>2</td>\n      <td>NaN</td>\n      <td>NaN</td>\n      <td>41270</td>\n      <td>0</td>\n      <td>0</td>\n      <td>0</td>\n      <td>0</td>\n      <td>0</td>\n      <td>2</td>\n      <td>3.5</td>\n      <td>NaN</td>\n      <td>0</td>\n      <td>0.0</td>\n      <td>3</td>\n      <td>False</td>\n      <td>NaN</td>\n      <td>NaT</td>\n      <td>55</td>\n      <td>41270.jpg</td>\n      <td>2.8</td>\n      <td>1.7</td>\n      <td>a</td>\n      <td>1</td>\n      <td>3</td>\n      <td>94</td>\n      <td>...</td>\n      <td>8</td>\n      <td>42</td>\n      <td>0</td>\n      <td>0</td>\n      <td>0</td>\n      <td>5</td>\n      <td>2</td>\n      <td>0</td>\n      <td>10</td>\n      <td>494</td>\n      <td>701.6</td>\n      <td>106.7</td>\n      <td>211.0</td>\n      <td>102.1</td>\n      <td>50</td>\n      <td>18</td>\n      <td>221</td>\n      <td>61</td>\n      <td>160</td>\n      <td>32</td>\n      <td>130</td>\n      <td>35</td>\n      <td>3.011748</td>\n      <td>0.145455</td>\n      <td>0.509091</td>\n    </tr>\n    <tr>\n      <td>3</td>\n      <td>NaN</td>\n      <td>NaN</td>\n      <td>54694</td>\n      <td>0</td>\n      <td>0</td>\n      <td>0</td>\n      <td>0</td>\n      <td>0</td>\n      <td>3</td>\n      <td>5.0</td>\n      <td>NaN</td>\n      <td>0</td>\n      <td>0.0</td>\n      <td>4</td>\n      <td>False</td>\n      <td>NaN</td>\n      <td>NaT</td>\n      <td>120</td>\n      <td>54694.jpg</td>\n      <td>5.7</td>\n      <td>32.9</td>\n      <td>a</td>\n      <td>1</td>\n      <td>3</td>\n      <td>205</td>\n      <td>...</td>\n      <td>10</td>\n      <td>44</td>\n      <td>0</td>\n      <td>0</td>\n      <td>0</td>\n      <td>3</td>\n      <td>1</td>\n      <td>0</td>\n      <td>37</td>\n      <td>807</td>\n      <td>1006.0</td>\n      <td>479.6</td>\n      <td>1369.0</td>\n      <td>285.2</td>\n      <td>8</td>\n      <td>4</td>\n      <td>54</td>\n      <td>42</td>\n      <td>9</td>\n      <td>3</td>\n      <td>11</td>\n      <td>7</td>\n      <td>5.883291</td>\n      <td>0.308333</td>\n      <td>0.475000</td>\n    </tr>\n    <tr>\n      <td>4</td>\n      <td>NaN</td>\n      <td>NaN</td>\n      <td>58822</td>\n      <td>0</td>\n      <td>0</td>\n      <td>0</td>\n      <td>0</td>\n      <td>0</td>\n      <td>2</td>\n      <td>3.1</td>\n      <td>NaN</td>\n      <td>0</td>\n      <td>0.0</td>\n      <td>5</td>\n      <td>False</td>\n      <td>NaN</td>\n      <td>NaT</td>\n      <td>50</td>\n      <td>58822.jpg</td>\n      <td>2.9</td>\n      <td>0.4</td>\n      <td>a</td>\n      <td>1</td>\n      <td>3</td>\n      <td>61</td>\n      <td>...</td>\n      <td>4</td>\n      <td>20</td>\n      <td>0</td>\n      <td>0</td>\n      <td>0</td>\n      <td>1</td>\n      <td>0</td>\n      <td>0</td>\n      <td>3</td>\n      <td>286</td>\n      <td>349.0</td>\n      <td>218.9</td>\n      <td>118.0</td>\n      <td>68.7</td>\n      <td>182</td>\n      <td>68</td>\n      <td>158</td>\n      <td>34</td>\n      <td>221</td>\n      <td>63</td>\n      <td>201</td>\n      <td>59</td>\n      <td>3.535093</td>\n      <td>0.180000</td>\n      <td>0.580000</td>\n    </tr>\n  </tbody>\n</table>\n<p>5 rows × 58 columns</p>\n</div>"
     },
     "metadata": {},
     "execution_count": 64
    }
   ],
   "source": [
    "all_players.head()"
   ]
  },
  {
   "cell_type": "code",
   "execution_count": 65,
   "metadata": {},
   "outputs": [],
   "source": [
    "df_merge = all_teams[[\"team_code\" , \"strength\" , \"team_short_name\" , \"strength_overall_home\" , \"strength_overall_away\"]]\n",
    "all_players = all_players.merge(df_merge, on = 'team_code')\n",
    "\n",
    "df_merge = player_types[['player_type_id' , 'position_name_short']]\n",
    "all_players = all_players.merge(df_merge , on = \"player_type_id\")\n",
    "\n",
    "\n",
    "#merged_data.drop([\"element\"], axis = 1, inplace = True)\n",
    "#merged_data.rename(columns = {\"fixture\" : \"fixture_id\" , \"opponent_team\" : \"opponent_team_id\" , \"round\" : \"gameweek_id\" , \"value\" : \"player_price\", \"short_name\" : \"opponent_team_name\" , \"strength\" : \"opponent_strength\"}, inplace = True)\n",
    "\n",
    "#merged_data.sort_values(\"gameweek_id\" , ascending = True , inplace = True)\n",
    "\n"
   ]
  },
  {
   "cell_type": "code",
   "execution_count": 66,
   "metadata": {},
   "outputs": [
    {
     "output_type": "execute_result",
     "data": {
      "text/plain": "Index(['chance_of_playing_next_round', 'chance_of_playing_this_round', 'player_code', 'cost_change_event', 'cost_change_event_fall', 'cost_change_start', 'cost_change_start_fall', 'dreamteam_count', 'player_type_id', 'ep_next', 'ep_this', 'event_points', 'form', 'player_id', 'in_dreamteam', 'news', 'news_added', 'now_cost', 'photo', 'PPG', 'selected_by_percent', 'status', 'team_id', 'team_code', 'total_points', 'transfers_in_event', 'transfers_out_event', 'value_form', 'value_season', 'web_name', 'minutes', 'goals_scored', 'assists', 'clean_sheets', 'goals_conceded', 'own_goals', 'penalties_saved', 'penalties_missed', 'yellow_cards', 'red_cards', 'saves', 'bonus', 'bps', 'influence', 'creativity', 'threat', 'ict_index', 'influence_rank', 'influence_rank_type', 'creativity_rank', 'creativity_rank_type', 'threat_rank', 'threat_rank_type', 'ict_index_rank', 'ict_index_rank_type', 'PP90', 'VAPM', 'PPMM', 'strength', 'team_short_name', 'strength_overall_home', 'strength_overall_away',\n       'position_name_short'],\n      dtype='object')"
     },
     "metadata": {},
     "execution_count": 66
    }
   ],
   "source": [
    "all_players.columns"
   ]
  },
  {
   "cell_type": "code",
   "execution_count": 67,
   "metadata": {},
   "outputs": [
    {
     "output_type": "execute_result",
     "data": {
      "text/plain": "   chance_of_playing_next_round  chance_of_playing_this_round  player_code  cost_change_event  cost_change_event_fall  cost_change_start  cost_change_start_fall  dreamteam_count  player_type_id  ep_next  ep_this  event_points  form  player_id  in_dreamteam news news_added  now_cost       photo  PPG  selected_by_percent status  team_id  team_code  total_points  ...  yellow_cards  red_cards  saves  bonus  bps  influence  creativity  threat  ict_index  influence_rank  influence_rank_type  creativity_rank  creativity_rank_type  threat_rank  threat_rank_type  ict_index_rank  ict_index_rank_type      PP90      VAPM      PPMM  strength  team_short_name  strength_overall_home  strength_overall_away  position_name_short\n0                           NaN                           NaN        37605                  0                       0                  0                       0                0               3      3.4      NaN             0   0.0          1         False  NaN        NaT        70   37605.jpg  2.9                  2.1      a        1          3            53  ...             1          0      0      1  256      223.6       582.9   190.0       99.8             253                  109               35                    29          174                95             135                   72  3.314802  0.128571  0.414286         4              ARS                   1190                   1270                  MID\n1                           NaN                           NaN        54694                  0                       0                  0                       0                0               3      5.0      NaN             0   0.0          4         False  NaN        NaT       120   54694.jpg  5.7                 32.9      a        1          3           205  ...             3          1      0     37  807     1006.0       479.6  1369.0      285.2               8                    4               54                    42            9                 3              11                    7  5.883291  0.308333  0.475000         4              ARS                   1190                   1270                  MID\n2                           NaN                           NaN        84450                  0                       0                  0                       0                0               3      2.8      NaN             0   0.0          9         False  NaN        NaT        55   84450.jpg  2.4                  0.4      a        1          3            73  ...            10          0      0      2  408      486.2       298.5   110.0       89.9             125                   46              119                    77          223               114             153                   81  2.540603  0.072727  0.436364         4              ARS                   1190                   1270                  MID\n3                           NaN                           NaN       195735                  0                       0                  0                       0                0               3      3.7      NaN             0   0.0         18         False  NaN        NaT        80  195735.jpg  3.4                  2.4      a        1          3           106  ...             4          0      0      9  353      500.2       639.4   624.0      176.5             120                   42               27                    21           49                26              45                   25  4.760479  0.175000  0.425000         4              ARS                   1190                   1270                  MID\n4                           NaN                           NaN       198849                  0                       0                  0                       0                0               3      2.4      NaN             0   0.0         19         False  NaN        NaT        50  198849.jpg  1.6                  0.2      a        1          3            46  ...             7          0      0      0  247      281.8       207.1   207.0       69.7             215                   90              164                   107          165                89             198                   99  2.758161 -0.080000  0.320000         4              ARS                   1190                   1270                  MID\n\n[5 rows x 63 columns]",
      "text/html": "<div>\n<style scoped>\n    .dataframe tbody tr th:only-of-type {\n        vertical-align: middle;\n    }\n\n    .dataframe tbody tr th {\n        vertical-align: top;\n    }\n\n    .dataframe thead th {\n        text-align: right;\n    }\n</style>\n<table border=\"1\" class=\"dataframe\">\n  <thead>\n    <tr style=\"text-align: right;\">\n      <th></th>\n      <th>chance_of_playing_next_round</th>\n      <th>chance_of_playing_this_round</th>\n      <th>player_code</th>\n      <th>cost_change_event</th>\n      <th>cost_change_event_fall</th>\n      <th>cost_change_start</th>\n      <th>cost_change_start_fall</th>\n      <th>dreamteam_count</th>\n      <th>player_type_id</th>\n      <th>ep_next</th>\n      <th>ep_this</th>\n      <th>event_points</th>\n      <th>form</th>\n      <th>player_id</th>\n      <th>in_dreamteam</th>\n      <th>news</th>\n      <th>news_added</th>\n      <th>now_cost</th>\n      <th>photo</th>\n      <th>PPG</th>\n      <th>selected_by_percent</th>\n      <th>status</th>\n      <th>team_id</th>\n      <th>team_code</th>\n      <th>total_points</th>\n      <th>...</th>\n      <th>yellow_cards</th>\n      <th>red_cards</th>\n      <th>saves</th>\n      <th>bonus</th>\n      <th>bps</th>\n      <th>influence</th>\n      <th>creativity</th>\n      <th>threat</th>\n      <th>ict_index</th>\n      <th>influence_rank</th>\n      <th>influence_rank_type</th>\n      <th>creativity_rank</th>\n      <th>creativity_rank_type</th>\n      <th>threat_rank</th>\n      <th>threat_rank_type</th>\n      <th>ict_index_rank</th>\n      <th>ict_index_rank_type</th>\n      <th>PP90</th>\n      <th>VAPM</th>\n      <th>PPMM</th>\n      <th>strength</th>\n      <th>team_short_name</th>\n      <th>strength_overall_home</th>\n      <th>strength_overall_away</th>\n      <th>position_name_short</th>\n    </tr>\n  </thead>\n  <tbody>\n    <tr>\n      <td>0</td>\n      <td>NaN</td>\n      <td>NaN</td>\n      <td>37605</td>\n      <td>0</td>\n      <td>0</td>\n      <td>0</td>\n      <td>0</td>\n      <td>0</td>\n      <td>3</td>\n      <td>3.4</td>\n      <td>NaN</td>\n      <td>0</td>\n      <td>0.0</td>\n      <td>1</td>\n      <td>False</td>\n      <td>NaN</td>\n      <td>NaT</td>\n      <td>70</td>\n      <td>37605.jpg</td>\n      <td>2.9</td>\n      <td>2.1</td>\n      <td>a</td>\n      <td>1</td>\n      <td>3</td>\n      <td>53</td>\n      <td>...</td>\n      <td>1</td>\n      <td>0</td>\n      <td>0</td>\n      <td>1</td>\n      <td>256</td>\n      <td>223.6</td>\n      <td>582.9</td>\n      <td>190.0</td>\n      <td>99.8</td>\n      <td>253</td>\n      <td>109</td>\n      <td>35</td>\n      <td>29</td>\n      <td>174</td>\n      <td>95</td>\n      <td>135</td>\n      <td>72</td>\n      <td>3.314802</td>\n      <td>0.128571</td>\n      <td>0.414286</td>\n      <td>4</td>\n      <td>ARS</td>\n      <td>1190</td>\n      <td>1270</td>\n      <td>MID</td>\n    </tr>\n    <tr>\n      <td>1</td>\n      <td>NaN</td>\n      <td>NaN</td>\n      <td>54694</td>\n      <td>0</td>\n      <td>0</td>\n      <td>0</td>\n      <td>0</td>\n      <td>0</td>\n      <td>3</td>\n      <td>5.0</td>\n      <td>NaN</td>\n      <td>0</td>\n      <td>0.0</td>\n      <td>4</td>\n      <td>False</td>\n      <td>NaN</td>\n      <td>NaT</td>\n      <td>120</td>\n      <td>54694.jpg</td>\n      <td>5.7</td>\n      <td>32.9</td>\n      <td>a</td>\n      <td>1</td>\n      <td>3</td>\n      <td>205</td>\n      <td>...</td>\n      <td>3</td>\n      <td>1</td>\n      <td>0</td>\n      <td>37</td>\n      <td>807</td>\n      <td>1006.0</td>\n      <td>479.6</td>\n      <td>1369.0</td>\n      <td>285.2</td>\n      <td>8</td>\n      <td>4</td>\n      <td>54</td>\n      <td>42</td>\n      <td>9</td>\n      <td>3</td>\n      <td>11</td>\n      <td>7</td>\n      <td>5.883291</td>\n      <td>0.308333</td>\n      <td>0.475000</td>\n      <td>4</td>\n      <td>ARS</td>\n      <td>1190</td>\n      <td>1270</td>\n      <td>MID</td>\n    </tr>\n    <tr>\n      <td>2</td>\n      <td>NaN</td>\n      <td>NaN</td>\n      <td>84450</td>\n      <td>0</td>\n      <td>0</td>\n      <td>0</td>\n      <td>0</td>\n      <td>0</td>\n      <td>3</td>\n      <td>2.8</td>\n      <td>NaN</td>\n      <td>0</td>\n      <td>0.0</td>\n      <td>9</td>\n      <td>False</td>\n      <td>NaN</td>\n      <td>NaT</td>\n      <td>55</td>\n      <td>84450.jpg</td>\n      <td>2.4</td>\n      <td>0.4</td>\n      <td>a</td>\n      <td>1</td>\n      <td>3</td>\n      <td>73</td>\n      <td>...</td>\n      <td>10</td>\n      <td>0</td>\n      <td>0</td>\n      <td>2</td>\n      <td>408</td>\n      <td>486.2</td>\n      <td>298.5</td>\n      <td>110.0</td>\n      <td>89.9</td>\n      <td>125</td>\n      <td>46</td>\n      <td>119</td>\n      <td>77</td>\n      <td>223</td>\n      <td>114</td>\n      <td>153</td>\n      <td>81</td>\n      <td>2.540603</td>\n      <td>0.072727</td>\n      <td>0.436364</td>\n      <td>4</td>\n      <td>ARS</td>\n      <td>1190</td>\n      <td>1270</td>\n      <td>MID</td>\n    </tr>\n    <tr>\n      <td>3</td>\n      <td>NaN</td>\n      <td>NaN</td>\n      <td>195735</td>\n      <td>0</td>\n      <td>0</td>\n      <td>0</td>\n      <td>0</td>\n      <td>0</td>\n      <td>3</td>\n      <td>3.7</td>\n      <td>NaN</td>\n      <td>0</td>\n      <td>0.0</td>\n      <td>18</td>\n      <td>False</td>\n      <td>NaN</td>\n      <td>NaT</td>\n      <td>80</td>\n      <td>195735.jpg</td>\n      <td>3.4</td>\n      <td>2.4</td>\n      <td>a</td>\n      <td>1</td>\n      <td>3</td>\n      <td>106</td>\n      <td>...</td>\n      <td>4</td>\n      <td>0</td>\n      <td>0</td>\n      <td>9</td>\n      <td>353</td>\n      <td>500.2</td>\n      <td>639.4</td>\n      <td>624.0</td>\n      <td>176.5</td>\n      <td>120</td>\n      <td>42</td>\n      <td>27</td>\n      <td>21</td>\n      <td>49</td>\n      <td>26</td>\n      <td>45</td>\n      <td>25</td>\n      <td>4.760479</td>\n      <td>0.175000</td>\n      <td>0.425000</td>\n      <td>4</td>\n      <td>ARS</td>\n      <td>1190</td>\n      <td>1270</td>\n      <td>MID</td>\n    </tr>\n    <tr>\n      <td>4</td>\n      <td>NaN</td>\n      <td>NaN</td>\n      <td>198849</td>\n      <td>0</td>\n      <td>0</td>\n      <td>0</td>\n      <td>0</td>\n      <td>0</td>\n      <td>3</td>\n      <td>2.4</td>\n      <td>NaN</td>\n      <td>0</td>\n      <td>0.0</td>\n      <td>19</td>\n      <td>False</td>\n      <td>NaN</td>\n      <td>NaT</td>\n      <td>50</td>\n      <td>198849.jpg</td>\n      <td>1.6</td>\n      <td>0.2</td>\n      <td>a</td>\n      <td>1</td>\n      <td>3</td>\n      <td>46</td>\n      <td>...</td>\n      <td>7</td>\n      <td>0</td>\n      <td>0</td>\n      <td>0</td>\n      <td>247</td>\n      <td>281.8</td>\n      <td>207.1</td>\n      <td>207.0</td>\n      <td>69.7</td>\n      <td>215</td>\n      <td>90</td>\n      <td>164</td>\n      <td>107</td>\n      <td>165</td>\n      <td>89</td>\n      <td>198</td>\n      <td>99</td>\n      <td>2.758161</td>\n      <td>-0.080000</td>\n      <td>0.320000</td>\n      <td>4</td>\n      <td>ARS</td>\n      <td>1190</td>\n      <td>1270</td>\n      <td>MID</td>\n    </tr>\n  </tbody>\n</table>\n<p>5 rows × 63 columns</p>\n</div>"
     },
     "metadata": {},
     "execution_count": 67
    }
   ],
   "source": [
    "all_players.head()"
   ]
  },
  {
   "cell_type": "markdown",
   "metadata": {},
   "source": [
    "## Save to file"
   ]
  },
  {
   "cell_type": "code",
   "execution_count": 68,
   "metadata": {},
   "outputs": [],
   "source": [
    "all_players.to_csv (r'./data/' + season + '/Merged_data/all_players_merged.csv', index = False, header=True)\n"
   ]
  }
 ]
}