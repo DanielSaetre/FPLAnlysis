{
 "metadata": {
  "language_info": {
   "codemirror_mode": {
    "name": "ipython",
    "version": 3
   },
   "file_extension": ".py",
   "mimetype": "text/x-python",
   "name": "python",
   "nbconvert_exporter": "python",
   "pygments_lexer": "ipython3",
   "version": "3.7.4-final"
  },
  "orig_nbformat": 2,
  "kernelspec": {
   "name": "python_defaultSpec_1598125677554",
   "display_name": "Python 3.7.4 64-bit ('base': conda)"
  }
 },
 "nbformat": 4,
 "nbformat_minor": 2,
 "cells": [
  {
   "cell_type": "code",
   "execution_count": 1,
   "metadata": {},
   "outputs": [],
   "source": [
    "import os\n",
    "import numpy as np\n",
    "import pandas as pd\n",
    "import seaborn as sns\n",
    "import scipy\n",
    "\n",
    "from tqdm import tqdm\n",
    "\n",
    "from sklearn.model_selection import train_test_split\n",
    "from sklearn.model_selection import GridSearchCV\n",
    "from sklearn.metrics import mean_absolute_error\n",
    "from sklearn import ensemble\n",
    "from sklearn.metrics import mean_absolute_error\n",
    "import joblib\n",
    "\n",
    "\n",
    "import matplotlib.pyplot as plt\n",
    "import matplotlib.ticker as ticker\n",
    "\n",
    "import plotly.express as px\n",
    "\n",
    "from datetime import datetime\n",
    "from scipy import stats\n",
    "\n",
    "#Set Display options\n",
    "pd.set_option('display.max_rows', 50)\n",
    "pd.set_option('display.max_columns', 50)\n",
    "\n",
    "pd.options.display.float_format = '{:.2f}'.format\n"
   ]
  },
  {
   "cell_type": "code",
   "execution_count": 2,
   "metadata": {},
   "outputs": [],
   "source": [
    "data = pd.read_csv(r\"./data/2019-20/player_past_history/merged_data.csv\" , parse_dates = [\"kickoff_time\"]) \n",
    "all_players = pd.read_csv(r\"./data/2019-20/all_players.csv\" , parse_dates= [\"news_added\"]) \n",
    "\n",
    "total_players = len(all_players)\n",
    "orig_df = data\n",
    "data = data[data.minutes != 0]\n",
    "\n"
   ]
  },
  {
   "cell_type": "code",
   "execution_count": 3,
   "metadata": {},
   "outputs": [
    {
     "output_type": "execute_result",
     "data": {
      "text/plain": "(22495, 37)"
     },
     "metadata": {},
     "execution_count": 3
    }
   ],
   "source": [
    "orig_df.shape"
   ]
  },
  {
   "cell_type": "code",
   "execution_count": 4,
   "metadata": {},
   "outputs": [
    {
     "output_type": "execute_result",
     "data": {
      "text/plain": "(10614, 37)"
     },
     "metadata": {},
     "execution_count": 4
    }
   ],
   "source": [
    "data.shape"
   ]
  },
  {
   "cell_type": "code",
   "execution_count": 5,
   "metadata": {},
   "outputs": [
    {
     "output_type": "execute_result",
     "data": {
      "text/plain": "   fixture_id  opponent_team_id  total_points  was_home        kickoff_time  \\\n2           4                 8             2      True 2019-08-10 14:00:00   \n3           4                 8             1      True 2019-08-10 14:00:00   \n6           3                16            14      True 2019-08-10 14:00:00   \n7           4                 8             6      True 2019-08-10 14:00:00   \n8           4                 8             1      True 2019-08-10 14:00:00   \n\n   team_h_score  team_a_score  gameweek_id  minutes  goals_scored  assists  \\\n2             0             0            1       90             0        0   \n3             0             0            1       25             0        0   \n6             3             0            1       90             0        2   \n7             0             0            1       90             0        0   \n8             0             0            1        7             0        0   \n\n   clean_sheets  goals_conceded  own_goals  penalties_saved  penalties_missed  \\\n2             1               0          0                0                 0   \n3             0               0          0                0                 0   \n6             1               0          0                0                 0   \n7             1               0          0                0                 0   \n8             0               0          0                0                 0   \n\n   yellow_cards  red_cards  saves  bonus  bps  influence  creativity  threat  \\\n2             1          0      0      0   -2       1.60       14.80    0.00   \n3             0          0      0      0    1       4.40        0.80   32.00   \n6             0          0      0      2   43      56.80       25.10    1.00   \n7             0          0      2      0   24      14.00        0.00    0.00   \n8             0          0      0      0    1       0.00        0.50    2.00   \n\n   ict_index  player_price  transfers_balance  selected  transfers_in  \\\n2       1.60            70                  0    495302             0   \n3       3.70            70                  0   1082439             0   \n6       8.30            45                  0      9332             0   \n7       1.40            50                  0     22626             0   \n8       0.20            45                  0    280588             0   \n\n   transfers_out  team_id  opponent_strength opponent_team_name  player_id  \\\n2              0        8                  3                EVE        134   \n3              0        8                  3                EVE        133   \n6              0       16                  3                SOU        447   \n7              0        8                  3                EVE        131   \n8              0        8                  3                EVE        130   \n\n      web_name  position_id  player_price.1  \n2  Milivojevic            3            6.70  \n3         Zaha            3            6.60  \n6      Pieters            2            4.30  \n7       Guaita            1            4.90  \n8      Wickham            4            4.30  ",
      "text/html": "<div>\n<style scoped>\n    .dataframe tbody tr th:only-of-type {\n        vertical-align: middle;\n    }\n\n    .dataframe tbody tr th {\n        vertical-align: top;\n    }\n\n    .dataframe thead th {\n        text-align: right;\n    }\n</style>\n<table border=\"1\" class=\"dataframe\">\n  <thead>\n    <tr style=\"text-align: right;\">\n      <th></th>\n      <th>fixture_id</th>\n      <th>opponent_team_id</th>\n      <th>total_points</th>\n      <th>was_home</th>\n      <th>kickoff_time</th>\n      <th>team_h_score</th>\n      <th>team_a_score</th>\n      <th>gameweek_id</th>\n      <th>minutes</th>\n      <th>goals_scored</th>\n      <th>assists</th>\n      <th>clean_sheets</th>\n      <th>goals_conceded</th>\n      <th>own_goals</th>\n      <th>penalties_saved</th>\n      <th>penalties_missed</th>\n      <th>yellow_cards</th>\n      <th>red_cards</th>\n      <th>saves</th>\n      <th>bonus</th>\n      <th>bps</th>\n      <th>influence</th>\n      <th>creativity</th>\n      <th>threat</th>\n      <th>ict_index</th>\n      <th>player_price</th>\n      <th>transfers_balance</th>\n      <th>selected</th>\n      <th>transfers_in</th>\n      <th>transfers_out</th>\n      <th>team_id</th>\n      <th>opponent_strength</th>\n      <th>opponent_team_name</th>\n      <th>player_id</th>\n      <th>web_name</th>\n      <th>position_id</th>\n      <th>player_price.1</th>\n    </tr>\n  </thead>\n  <tbody>\n    <tr>\n      <td>2</td>\n      <td>4</td>\n      <td>8</td>\n      <td>2</td>\n      <td>True</td>\n      <td>2019-08-10 14:00:00</td>\n      <td>0</td>\n      <td>0</td>\n      <td>1</td>\n      <td>90</td>\n      <td>0</td>\n      <td>0</td>\n      <td>1</td>\n      <td>0</td>\n      <td>0</td>\n      <td>0</td>\n      <td>0</td>\n      <td>1</td>\n      <td>0</td>\n      <td>0</td>\n      <td>0</td>\n      <td>-2</td>\n      <td>1.60</td>\n      <td>14.80</td>\n      <td>0.00</td>\n      <td>1.60</td>\n      <td>70</td>\n      <td>0</td>\n      <td>495302</td>\n      <td>0</td>\n      <td>0</td>\n      <td>8</td>\n      <td>3</td>\n      <td>EVE</td>\n      <td>134</td>\n      <td>Milivojevic</td>\n      <td>3</td>\n      <td>6.70</td>\n    </tr>\n    <tr>\n      <td>3</td>\n      <td>4</td>\n      <td>8</td>\n      <td>1</td>\n      <td>True</td>\n      <td>2019-08-10 14:00:00</td>\n      <td>0</td>\n      <td>0</td>\n      <td>1</td>\n      <td>25</td>\n      <td>0</td>\n      <td>0</td>\n      <td>0</td>\n      <td>0</td>\n      <td>0</td>\n      <td>0</td>\n      <td>0</td>\n      <td>0</td>\n      <td>0</td>\n      <td>0</td>\n      <td>0</td>\n      <td>1</td>\n      <td>4.40</td>\n      <td>0.80</td>\n      <td>32.00</td>\n      <td>3.70</td>\n      <td>70</td>\n      <td>0</td>\n      <td>1082439</td>\n      <td>0</td>\n      <td>0</td>\n      <td>8</td>\n      <td>3</td>\n      <td>EVE</td>\n      <td>133</td>\n      <td>Zaha</td>\n      <td>3</td>\n      <td>6.60</td>\n    </tr>\n    <tr>\n      <td>6</td>\n      <td>3</td>\n      <td>16</td>\n      <td>14</td>\n      <td>True</td>\n      <td>2019-08-10 14:00:00</td>\n      <td>3</td>\n      <td>0</td>\n      <td>1</td>\n      <td>90</td>\n      <td>0</td>\n      <td>2</td>\n      <td>1</td>\n      <td>0</td>\n      <td>0</td>\n      <td>0</td>\n      <td>0</td>\n      <td>0</td>\n      <td>0</td>\n      <td>0</td>\n      <td>2</td>\n      <td>43</td>\n      <td>56.80</td>\n      <td>25.10</td>\n      <td>1.00</td>\n      <td>8.30</td>\n      <td>45</td>\n      <td>0</td>\n      <td>9332</td>\n      <td>0</td>\n      <td>0</td>\n      <td>16</td>\n      <td>3</td>\n      <td>SOU</td>\n      <td>447</td>\n      <td>Pieters</td>\n      <td>2</td>\n      <td>4.30</td>\n    </tr>\n    <tr>\n      <td>7</td>\n      <td>4</td>\n      <td>8</td>\n      <td>6</td>\n      <td>True</td>\n      <td>2019-08-10 14:00:00</td>\n      <td>0</td>\n      <td>0</td>\n      <td>1</td>\n      <td>90</td>\n      <td>0</td>\n      <td>0</td>\n      <td>1</td>\n      <td>0</td>\n      <td>0</td>\n      <td>0</td>\n      <td>0</td>\n      <td>0</td>\n      <td>0</td>\n      <td>2</td>\n      <td>0</td>\n      <td>24</td>\n      <td>14.00</td>\n      <td>0.00</td>\n      <td>0.00</td>\n      <td>1.40</td>\n      <td>50</td>\n      <td>0</td>\n      <td>22626</td>\n      <td>0</td>\n      <td>0</td>\n      <td>8</td>\n      <td>3</td>\n      <td>EVE</td>\n      <td>131</td>\n      <td>Guaita</td>\n      <td>1</td>\n      <td>4.90</td>\n    </tr>\n    <tr>\n      <td>8</td>\n      <td>4</td>\n      <td>8</td>\n      <td>1</td>\n      <td>True</td>\n      <td>2019-08-10 14:00:00</td>\n      <td>0</td>\n      <td>0</td>\n      <td>1</td>\n      <td>7</td>\n      <td>0</td>\n      <td>0</td>\n      <td>0</td>\n      <td>0</td>\n      <td>0</td>\n      <td>0</td>\n      <td>0</td>\n      <td>0</td>\n      <td>0</td>\n      <td>0</td>\n      <td>0</td>\n      <td>1</td>\n      <td>0.00</td>\n      <td>0.50</td>\n      <td>2.00</td>\n      <td>0.20</td>\n      <td>45</td>\n      <td>0</td>\n      <td>280588</td>\n      <td>0</td>\n      <td>0</td>\n      <td>8</td>\n      <td>3</td>\n      <td>EVE</td>\n      <td>130</td>\n      <td>Wickham</td>\n      <td>4</td>\n      <td>4.30</td>\n    </tr>\n  </tbody>\n</table>\n</div>"
     },
     "metadata": {},
     "execution_count": 5
    }
   ],
   "source": [
    "data.head()"
   ]
  },
  {
   "cell_type": "code",
   "execution_count": 6,
   "metadata": {},
   "outputs": [
    {
     "output_type": "execute_result",
     "data": {
      "text/plain": "Index(['fixture_id', 'opponent_team_id', 'total_points', 'was_home',\n       'kickoff_time', 'team_h_score', 'team_a_score', 'gameweek_id',\n       'minutes', 'goals_scored', 'assists', 'clean_sheets', 'goals_conceded',\n       'own_goals', 'penalties_saved', 'penalties_missed', 'yellow_cards',\n       'red_cards', 'saves', 'bonus', 'bps', 'influence', 'creativity',\n       'threat', 'ict_index', 'player_price', 'transfers_balance', 'selected',\n       'transfers_in', 'transfers_out', 'team_id', 'opponent_strength',\n       'opponent_team_name', 'player_id', 'web_name', 'position_id',\n       'player_price.1'],\n      dtype='object')"
     },
     "metadata": {},
     "execution_count": 6
    }
   ],
   "source": [
    "data.columns"
   ]
  },
  {
   "cell_type": "code",
   "execution_count": 7,
   "metadata": {},
   "outputs": [],
   "source": [
    "data = data[['player_id' , 'total_points' , 'was_home' , 'minutes' , 'team_id' , 'opponent_strength' , 'position_id']]"
   ]
  },
  {
   "cell_type": "code",
   "execution_count": 8,
   "metadata": {
    "tags": []
   },
   "outputs": [
    {
     "output_type": "stream",
     "name": "stdout",
     "text": "<class 'pandas.core.frame.DataFrame'>\nInt64Index: 10614 entries, 2 to 22493\nData columns (total 7 columns):\nplayer_id            10614 non-null int64\ntotal_points         10614 non-null int64\nwas_home             10614 non-null bool\nminutes              10614 non-null int64\nteam_id              10614 non-null int64\nopponent_strength    10614 non-null int64\nposition_id          10614 non-null int64\ndtypes: bool(1), int64(6)\nmemory usage: 590.8 KB\n"
    }
   ],
   "source": [
    "data.info()\n"
   ]
  },
  {
   "cell_type": "code",
   "execution_count": 9,
   "metadata": {},
   "outputs": [],
   "source": [
    "data['team_id'] = data['team_id'].astype(str)\n"
   ]
  },
  {
   "cell_type": "code",
   "execution_count": 10,
   "metadata": {},
   "outputs": [
    {
     "output_type": "execute_result",
     "data": {
      "text/plain": "total_points         1.00\nminutes              0.31\nwas_home             0.08\nposition_id         -0.02\nplayer_id           -0.05\nopponent_strength   -0.13\nName: total_points, dtype: float64"
     },
     "metadata": {},
     "execution_count": 10
    }
   ],
   "source": [
    "corr_matrix = data.corr()\n",
    "corr_matrix['total_points'].sort_values(ascending=False)"
   ]
  },
  {
   "cell_type": "code",
   "execution_count": 11,
   "metadata": {
    "tags": []
   },
   "outputs": [
    {
     "output_type": "stream",
     "name": "stdout",
     "text": "['player_id', 'was_home', 'minutes', 'opponent_strength', 'position_id', 'team_id_1', 'team_id_10', 'team_id_11', 'team_id_12', 'team_id_13', 'team_id_14', 'team_id_15', 'team_id_16', 'team_id_17', 'team_id_18', 'team_id_19', 'team_id_2', 'team_id_20', 'team_id_3', 'team_id_4', 'team_id_5', 'team_id_6', 'team_id_7', 'team_id_8', 'team_id_9']\n"
    }
   ],
   "source": [
    "# Replace categorical data with one-hot encoded data\n",
    "features_data = pd.get_dummies(data, columns=['team_id'])\n",
    "#features_df = pd.get_dummies(df)\n",
    "\n",
    "features_data = features_data.drop('total_points', axis=1)\n",
    "\n",
    "list_features = list(features_data.columns.values)\n",
    "print(list_features)"
   ]
  },
  {
   "cell_type": "code",
   "execution_count": 12,
   "metadata": {
    "tags": []
   },
   "outputs": [
    {
     "output_type": "stream",
     "name": "stdout",
     "text": "player_id134<class 'numpy.int64'>\ntotal_points2<class 'numpy.int64'>\nwas_homeTrue<class 'numpy.bool_'>\nminutes90<class 'numpy.int64'>\nteam_id8<class 'str'>\nopponent_strength3<class 'numpy.int64'>\nposition_id3<class 'numpy.int64'>\n"
    }
   ],
   "source": [
    "for i in list(data):\n",
    "    print(i, data[i].values[0],type(data[i].values[0]))\n",
    "\n",
    "# Create the X and y arrays\n",
    "X = features_data.values\n",
    "y = data['total_points'].values\n",
    "\n",
    "# Split the data set in a training set (70%) and a test set (30%)\n",
    "X_train, X_test, y_train, y_test = train_test_split(X, y, test_size=0.3, random_state=0)\n"
   ]
  },
  {
   "cell_type": "code",
   "execution_count": 13,
   "metadata": {},
   "outputs": [],
   "source": [
    "# Create the model\n",
    "model = ensemble.GradientBoostingRegressor()"
   ]
  },
  {
   "cell_type": "code",
   "execution_count": 14,
   "metadata": {},
   "outputs": [],
   "source": [
    "#Parameters we want to try\n",
    "param_grid = {\n",
    "    'n_estimators': [500, 1000, 3000],\n",
    "    'max_depth': [4, 6],\n",
    "    'min_samples_leaf': [3, 5, 9, 17],\n",
    "    'learning_rate': [0.1, 0.05, 0.02, 0.01],\n",
    "    'max_features': [1.0, 0.3, 0.1],\n",
    "    'loss': ['ls', 'lad', 'huber']\n",
    "    }"
   ]
  },
  {
   "cell_type": "markdown",
   "metadata": {},
   "source": [
    "## THIS MODULE TAKES A LONG TIME TO RUN"
   ]
  },
  {
   "cell_type": "code",
   "execution_count": 15,
   "metadata": {},
   "outputs": [],
   "source": [
    "#Define the grid search we want to run. Run it with four cpus in parallel.\n",
    "#gs_cv = GridSearchCV(model, param_grid, n_jobs=4)\n",
    "\n",
    "#Run the grid search - on only the training data!\n",
    "#gs_cv.fit(X_train, y_train)\n",
    "\n",
    "#Print the parameters that gave us the best result!\n",
    "#print(gs_cv.best_params_)\n",
    "\n",
    "# After running a .....long..... time, the output will be something like\n",
    "# {'loss': 'huber', 'learning_rate': 0.1, 'min_samples_leaf': 9, 'n_estimators': 3000, 'max_features': 0.1, 'max_depth': 6}\n",
    "# That is the combination that worked best."
   ]
  },
  {
   "cell_type": "markdown",
   "metadata": {},
   "source": [
    "### Fit regression model\n"
   ]
  },
  {
   "cell_type": "code",
   "execution_count": 16,
   "metadata": {},
   "outputs": [
    {
     "output_type": "execute_result",
     "data": {
      "text/plain": "GradientBoostingRegressor(alpha=0.9, ccp_alpha=0.0, criterion='friedman_mse',\n                          init=None, learning_rate=0.1, loss='huber',\n                          max_depth=4, max_features=1.0, max_leaf_nodes=None,\n                          min_impurity_decrease=0.0, min_impurity_split=None,\n                          min_samples_leaf=3, min_samples_split=2,\n                          min_weight_fraction_leaf=0.0, n_estimators=3000,\n                          n_iter_no_change=None, presort='deprecated',\n                          random_state=0, subsample=1.0, tol=0.0001,\n                          validation_fraction=0.1, verbose=0, warm_start=False)"
     },
     "metadata": {},
     "execution_count": 16
    }
   ],
   "source": [
    "model = ensemble.GradientBoostingRegressor(\n",
    "    n_estimators=3000,\n",
    "    learning_rate=0.1,\n",
    "    max_depth=4,\n",
    "    min_samples_leaf=3,\n",
    "    max_features=1.0,\n",
    "    loss='huber',\n",
    "    random_state=0\n",
    ")\n",
    "\n",
    "model.fit(X_train, y_train)"
   ]
  },
  {
   "cell_type": "markdown",
   "metadata": {},
   "source": [
    "### Save the trained model to a file so we can use it in other programs\n"
   ]
  },
  {
   "cell_type": "code",
   "execution_count": 17,
   "metadata": {},
   "outputs": [
    {
     "output_type": "execute_result",
     "data": {
      "text/plain": "['Trained_PlayerAnalysis.pkl']"
     },
     "metadata": {},
     "execution_count": 17
    }
   ],
   "source": [
    "joblib.dump(model, 'Trained_PlayerAnalysis.pkl')"
   ]
  },
  {
   "cell_type": "markdown",
   "metadata": {},
   "source": [
    "### Find the error rate on the training set\n"
   ]
  },
  {
   "cell_type": "code",
   "execution_count": 18,
   "metadata": {
    "tags": []
   },
   "outputs": [
    {
     "output_type": "stream",
     "name": "stdout",
     "text": "Training Set Mean Absolute Error: 1.2709\n"
    }
   ],
   "source": [
    "mse = mean_absolute_error(y_train, model.predict(X_train))\n",
    "print(\"Training Set Mean Absolute Error: %.4f\" % mse)"
   ]
  },
  {
   "cell_type": "markdown",
   "metadata": {},
   "source": [
    "### Find the error rate on the test set\n"
   ]
  },
  {
   "cell_type": "code",
   "execution_count": 19,
   "metadata": {
    "tags": []
   },
   "outputs": [
    {
     "output_type": "stream",
     "name": "stdout",
     "text": "Test Set Mean Absolute Error: 1.8239\n"
    }
   ],
   "source": [
    "mse = mean_absolute_error(y_test, model.predict(X_test))\n",
    "print(\"Test Set Mean Absolute Error: %.4f\" % mse)"
   ]
  },
  {
   "cell_type": "code",
   "execution_count": 20,
   "metadata": {},
   "outputs": [],
   "source": [
    "# Load the trained model created with train_model.py\n",
    "model = joblib.load('Trained_PlayerAnalysis.pkl')\n",
    "\n",
    "# Create a numpy array based on the model's feature importances\n",
    "importance = model.feature_importances_\n",
    "\n",
    "# Sort the feature labels based on the feature importance rankings from the model\n",
    "feature_indexes_by_importance = importance.argsort()\n"
   ]
  },
  {
   "cell_type": "code",
   "execution_count": 21,
   "metadata": {},
   "outputs": [],
   "source": [
    "### Print each feature label, from most important to least important (reverse order)\n"
   ]
  },
  {
   "cell_type": "code",
   "execution_count": 22,
   "metadata": {
    "tags": []
   },
   "outputs": [
    {
     "output_type": "stream",
     "name": "stdout",
     "text": "team_id_10 - 0.22%\nteam_id_11 - 0.38%\nteam_id_1 - 0.44%\nteam_id_17 - 0.55%\nteam_id_20 - 0.57%\nteam_id_4 - 0.60%\nteam_id_3 - 0.65%\nteam_id_15 - 0.67%\nteam_id_7 - 0.70%\nteam_id_5 - 0.72%\nteam_id_8 - 0.74%\nteam_id_12 - 0.76%\nteam_id_19 - 0.78%\nteam_id_6 - 0.79%\nteam_id_9 - 0.79%\nteam_id_18 - 1.00%\nteam_id_2 - 1.01%\nteam_id_16 - 1.06%\nteam_id_13 - 1.09%\nteam_id_14 - 1.34%\nwas_home - 4.12%\nposition_id - 5.39%\nopponent_strength - 6.78%\nplayer_id - 33.29%\nminutes - 35.56%\n"
    }
   ],
   "source": [
    "for index in feature_indexes_by_importance:\n",
    "    print(\"{} - {:.2f}%\".format(list_features[index], (importance[index] * 100.0)))"
   ]
  },
  {
   "cell_type": "code",
   "execution_count": null,
   "metadata": {},
   "outputs": [],
   "source": []
  },
  {
   "cell_type": "code",
   "execution_count": null,
   "metadata": {},
   "outputs": [],
   "source": []
  }
 ]
}