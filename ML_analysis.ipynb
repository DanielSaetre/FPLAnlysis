{
 "metadata": {
  "language_info": {
   "codemirror_mode": {
    "name": "ipython",
    "version": 3
   },
   "file_extension": ".py",
   "mimetype": "text/x-python",
   "name": "python",
   "nbconvert_exporter": "python",
   "pygments_lexer": "ipython3",
   "version": "3.8.5-final"
  },
  "orig_nbformat": 2,
  "kernelspec": {
   "name": "Python 3.8.5 32-bit",
   "display_name": "Python 3.8.5 32-bit",
   "metadata": {
    "interpreter": {
     "hash": "05b5a6475f42cc6236057d98c82fcb9314bab0d4a8cd5c78487612fc2a4f7993"
    }
   }
  }
 },
 "nbformat": 4,
 "nbformat_minor": 2,
 "cells": [
  {
   "cell_type": "code",
   "execution_count": 56,
   "metadata": {},
   "outputs": [],
   "source": [
    "import os\n",
    "import numpy as np\n",
    "import pandas as pd\n",
    "import seaborn as sns\n",
    "import scipy\n",
    "\n",
    "from tqdm import tqdm\n",
    "\n",
    "from sklearn.model_selection import train_test_split\n",
    "from sklearn.model_selection import GridSearchCV\n",
    "from sklearn.metrics import mean_absolute_error\n",
    "from sklearn import ensemble\n",
    "from sklearn.metrics import mean_absolute_error\n",
    "import joblib\n",
    "\n",
    "\n",
    "import matplotlib.pyplot as plt\n",
    "import matplotlib.ticker as ticker\n",
    "\n",
    "import plotly.express as px\n",
    "\n",
    "from datetime import datetime\n",
    "from scipy import stats\n",
    "\n",
    "#Set Display options\n",
    "pd.set_option('display.max_rows', 50)\n",
    "pd.set_option('display.max_columns', 50)\n",
    "\n",
    "pd.options.display.float_format = '{:.2f}'.format\n"
   ]
  },
  {
   "cell_type": "code",
   "execution_count": 57,
   "metadata": {},
   "outputs": [],
   "source": [
    "#data = pd.read_csv(r\"./data/2019-20/player_past_history/merged_data.csv\" , parse_dates = [\"kickoff_time\"]) \n",
    "#all_players = pd.read_csv(r\"./data/2019-20/all_players.csv\" , parse_dates= [\"news_added\"]) \n",
    "\n",
    "data = pd.read_csv(r\"./data/2020-21/Merged_data/player_gameweek_history.csv\" , parse_dates = [\"kickoff_time\"]) \n",
    "all_players = pd.read_csv(r\"./data/2020-21/Merged_data/all_players_merged.csv\" , parse_dates= [\"news_added\"]) \n",
    "\n",
    "total_players = len(all_players)\n",
    "orig_df = data\n",
    "data = data[data.minutes != 0]\n",
    "\n"
   ]
  },
  {
   "cell_type": "code",
   "execution_count": 58,
   "metadata": {},
   "outputs": [
    {
     "output_type": "execute_result",
     "data": {
      "text/plain": [
       "(3849, 36)"
      ]
     },
     "metadata": {},
     "execution_count": 58
    }
   ],
   "source": [
    "orig_df.shape"
   ]
  },
  {
   "cell_type": "code",
   "execution_count": 59,
   "metadata": {},
   "outputs": [
    {
     "output_type": "execute_result",
     "data": {
      "text/plain": [
       "(1866, 36)"
      ]
     },
     "metadata": {},
     "execution_count": 59
    }
   ],
   "source": [
    "data.shape"
   ]
  },
  {
   "cell_type": "code",
   "execution_count": 60,
   "metadata": {},
   "outputs": [
    {
     "output_type": "execute_result",
     "data": {
      "text/plain": [
       "    player_id  fixture_id  opponent_team_id  total_points  was_home  \\\n",
       "15          3           9                19             1      True   \n",
       "16          3          23                11             1     False   \n",
       "17          3          29                15             2      True   \n",
       "18          3          44                12             2     False   \n",
       "19          3          49                 9             1      True   \n",
       "\n",
       "          kickoff_time  team_h_score  team_a_score  round  minutes  \\\n",
       "15 2020-09-19 19:00:00             2             1      2        1   \n",
       "16 2020-09-28 19:00:00             3             1      3       90   \n",
       "17 2020-10-04 13:00:00             2             1      4       90   \n",
       "18 2020-10-17 16:30:00             1             0      5       90   \n",
       "19 2020-10-25 19:15:00             0             1      6       48   \n",
       "\n",
       "    goals_scored  assists  clean_sheets  goals_conceded  own_goals  \\\n",
       "15             0        0             0               0          0   \n",
       "16             0        0             0               3          0   \n",
       "17             0        0             0               1          0   \n",
       "18             0        0             0               1          0   \n",
       "19             0        0             0               0          0   \n",
       "\n",
       "    penalties_saved  penalties_missed  yellow_cards  red_cards  saves  bonus  \\\n",
       "15                0                 0             0          0      0      0   \n",
       "16                0                 0             0          0      0      0   \n",
       "17                0                 0             0          0      0      0   \n",
       "18                0                 0             0          0      0      0   \n",
       "19                0                 0             0          0      0      0   \n",
       "\n",
       "    bps  influence  creativity  threat  ict_index  value  transfers_balance  \\\n",
       "15    3       0.00        0.00    0.00       0.00     55             -23455   \n",
       "16   11      20.20        3.20    0.00       2.30     55                711   \n",
       "17   13      23.00        0.80    0.00       2.40     55               1264   \n",
       "18   12      14.60        3.30   19.00       3.70     55              -1132   \n",
       "19   12       8.80        2.50    2.00       1.30     55               2396   \n",
       "\n",
       "    selected  transfers_in  transfers_out  player_type_id  PPG  PP90  \\\n",
       "15     49797          1738          25193               2 1.40  1.97   \n",
       "16     61983          7407           6696               2 1.40  1.97   \n",
       "17     69592          6180           4916               2 1.40  1.97   \n",
       "18     73952          5063           6195               2 1.40  1.97   \n",
       "19     79892          6821           4425               2 1.40  1.97   \n",
       "\n",
       "    team_strength  team_id  \n",
       "15              4        1  \n",
       "16              4        1  \n",
       "17              4        1  \n",
       "18              4        1  \n",
       "19              4        1  "
      ],
      "text/html": "<div>\n<style scoped>\n    .dataframe tbody tr th:only-of-type {\n        vertical-align: middle;\n    }\n\n    .dataframe tbody tr th {\n        vertical-align: top;\n    }\n\n    .dataframe thead th {\n        text-align: right;\n    }\n</style>\n<table border=\"1\" class=\"dataframe\">\n  <thead>\n    <tr style=\"text-align: right;\">\n      <th></th>\n      <th>player_id</th>\n      <th>fixture_id</th>\n      <th>opponent_team_id</th>\n      <th>total_points</th>\n      <th>was_home</th>\n      <th>kickoff_time</th>\n      <th>team_h_score</th>\n      <th>team_a_score</th>\n      <th>round</th>\n      <th>minutes</th>\n      <th>goals_scored</th>\n      <th>assists</th>\n      <th>clean_sheets</th>\n      <th>goals_conceded</th>\n      <th>own_goals</th>\n      <th>penalties_saved</th>\n      <th>penalties_missed</th>\n      <th>yellow_cards</th>\n      <th>red_cards</th>\n      <th>saves</th>\n      <th>bonus</th>\n      <th>bps</th>\n      <th>influence</th>\n      <th>creativity</th>\n      <th>threat</th>\n      <th>ict_index</th>\n      <th>value</th>\n      <th>transfers_balance</th>\n      <th>selected</th>\n      <th>transfers_in</th>\n      <th>transfers_out</th>\n      <th>player_type_id</th>\n      <th>PPG</th>\n      <th>PP90</th>\n      <th>team_strength</th>\n      <th>team_id</th>\n    </tr>\n  </thead>\n  <tbody>\n    <tr>\n      <th>15</th>\n      <td>3</td>\n      <td>9</td>\n      <td>19</td>\n      <td>1</td>\n      <td>True</td>\n      <td>2020-09-19 19:00:00</td>\n      <td>2</td>\n      <td>1</td>\n      <td>2</td>\n      <td>1</td>\n      <td>0</td>\n      <td>0</td>\n      <td>0</td>\n      <td>0</td>\n      <td>0</td>\n      <td>0</td>\n      <td>0</td>\n      <td>0</td>\n      <td>0</td>\n      <td>0</td>\n      <td>0</td>\n      <td>3</td>\n      <td>0.00</td>\n      <td>0.00</td>\n      <td>0.00</td>\n      <td>0.00</td>\n      <td>55</td>\n      <td>-23455</td>\n      <td>49797</td>\n      <td>1738</td>\n      <td>25193</td>\n      <td>2</td>\n      <td>1.40</td>\n      <td>1.97</td>\n      <td>4</td>\n      <td>1</td>\n    </tr>\n    <tr>\n      <th>16</th>\n      <td>3</td>\n      <td>23</td>\n      <td>11</td>\n      <td>1</td>\n      <td>False</td>\n      <td>2020-09-28 19:00:00</td>\n      <td>3</td>\n      <td>1</td>\n      <td>3</td>\n      <td>90</td>\n      <td>0</td>\n      <td>0</td>\n      <td>0</td>\n      <td>3</td>\n      <td>0</td>\n      <td>0</td>\n      <td>0</td>\n      <td>0</td>\n      <td>0</td>\n      <td>0</td>\n      <td>0</td>\n      <td>11</td>\n      <td>20.20</td>\n      <td>3.20</td>\n      <td>0.00</td>\n      <td>2.30</td>\n      <td>55</td>\n      <td>711</td>\n      <td>61983</td>\n      <td>7407</td>\n      <td>6696</td>\n      <td>2</td>\n      <td>1.40</td>\n      <td>1.97</td>\n      <td>4</td>\n      <td>1</td>\n    </tr>\n    <tr>\n      <th>17</th>\n      <td>3</td>\n      <td>29</td>\n      <td>15</td>\n      <td>2</td>\n      <td>True</td>\n      <td>2020-10-04 13:00:00</td>\n      <td>2</td>\n      <td>1</td>\n      <td>4</td>\n      <td>90</td>\n      <td>0</td>\n      <td>0</td>\n      <td>0</td>\n      <td>1</td>\n      <td>0</td>\n      <td>0</td>\n      <td>0</td>\n      <td>0</td>\n      <td>0</td>\n      <td>0</td>\n      <td>0</td>\n      <td>13</td>\n      <td>23.00</td>\n      <td>0.80</td>\n      <td>0.00</td>\n      <td>2.40</td>\n      <td>55</td>\n      <td>1264</td>\n      <td>69592</td>\n      <td>6180</td>\n      <td>4916</td>\n      <td>2</td>\n      <td>1.40</td>\n      <td>1.97</td>\n      <td>4</td>\n      <td>1</td>\n    </tr>\n    <tr>\n      <th>18</th>\n      <td>3</td>\n      <td>44</td>\n      <td>12</td>\n      <td>2</td>\n      <td>False</td>\n      <td>2020-10-17 16:30:00</td>\n      <td>1</td>\n      <td>0</td>\n      <td>5</td>\n      <td>90</td>\n      <td>0</td>\n      <td>0</td>\n      <td>0</td>\n      <td>1</td>\n      <td>0</td>\n      <td>0</td>\n      <td>0</td>\n      <td>0</td>\n      <td>0</td>\n      <td>0</td>\n      <td>0</td>\n      <td>12</td>\n      <td>14.60</td>\n      <td>3.30</td>\n      <td>19.00</td>\n      <td>3.70</td>\n      <td>55</td>\n      <td>-1132</td>\n      <td>73952</td>\n      <td>5063</td>\n      <td>6195</td>\n      <td>2</td>\n      <td>1.40</td>\n      <td>1.97</td>\n      <td>4</td>\n      <td>1</td>\n    </tr>\n    <tr>\n      <th>19</th>\n      <td>3</td>\n      <td>49</td>\n      <td>9</td>\n      <td>1</td>\n      <td>True</td>\n      <td>2020-10-25 19:15:00</td>\n      <td>0</td>\n      <td>1</td>\n      <td>6</td>\n      <td>48</td>\n      <td>0</td>\n      <td>0</td>\n      <td>0</td>\n      <td>0</td>\n      <td>0</td>\n      <td>0</td>\n      <td>0</td>\n      <td>0</td>\n      <td>0</td>\n      <td>0</td>\n      <td>0</td>\n      <td>12</td>\n      <td>8.80</td>\n      <td>2.50</td>\n      <td>2.00</td>\n      <td>1.30</td>\n      <td>55</td>\n      <td>2396</td>\n      <td>79892</td>\n      <td>6821</td>\n      <td>4425</td>\n      <td>2</td>\n      <td>1.40</td>\n      <td>1.97</td>\n      <td>4</td>\n      <td>1</td>\n    </tr>\n  </tbody>\n</table>\n</div>"
     },
     "metadata": {},
     "execution_count": 60
    }
   ],
   "source": [
    "data.head()"
   ]
  },
  {
   "cell_type": "code",
   "execution_count": 61,
   "metadata": {},
   "outputs": [
    {
     "output_type": "execute_result",
     "data": {
      "text/plain": [
       "Index(['player_id', 'fixture_id', 'opponent_team_id', 'total_points',\n",
       "       'was_home', 'kickoff_time', 'team_h_score', 'team_a_score', 'round',\n",
       "       'minutes', 'goals_scored', 'assists', 'clean_sheets', 'goals_conceded',\n",
       "       'own_goals', 'penalties_saved', 'penalties_missed', 'yellow_cards',\n",
       "       'red_cards', 'saves', 'bonus', 'bps', 'influence', 'creativity',\n",
       "       'threat', 'ict_index', 'value', 'transfers_balance', 'selected',\n",
       "       'transfers_in', 'transfers_out', 'player_type_id', 'PPG', 'PP90',\n",
       "       'team_strength', 'team_id'],\n",
       "      dtype='object')"
      ]
     },
     "metadata": {},
     "execution_count": 61
    }
   ],
   "source": [
    "data.columns"
   ]
  },
  {
   "cell_type": "code",
   "execution_count": 62,
   "metadata": {},
   "outputs": [],
   "source": [
    "data = data[[\n",
    "    'player_id' , \n",
    "    'opponent_team_id' , \n",
    "    'total_points' , \n",
    "    'was_home' , \n",
    "    'minutes' , \n",
    "    'player_type_id' , \n",
    "    #'PPG' , \n",
    "    #'PP90' , \n",
    "    'team_strength' , \n",
    "    'team_id'\n",
    "    ]]"
   ]
  },
  {
   "cell_type": "code",
   "execution_count": 63,
   "metadata": {
    "tags": []
   },
   "outputs": [
    {
     "output_type": "stream",
     "name": "stdout",
     "text": [
      "<class 'pandas.core.frame.DataFrame'>\nInt64Index: 1866 entries, 15 to 3841\nData columns (total 8 columns):\n #   Column            Non-Null Count  Dtype\n---  ------            --------------  -----\n 0   player_id         1866 non-null   int64\n 1   opponent_team_id  1866 non-null   int64\n 2   total_points      1866 non-null   int64\n 3   was_home          1866 non-null   bool \n 4   minutes           1866 non-null   int64\n 5   player_type_id    1866 non-null   int64\n 6   team_strength     1866 non-null   int64\n 7   team_id           1866 non-null   int64\ndtypes: bool(1), int64(7)\nmemory usage: 118.4 KB\n"
     ]
    }
   ],
   "source": [
    "data.info()\n"
   ]
  },
  {
   "cell_type": "code",
   "execution_count": 64,
   "metadata": {},
   "outputs": [],
   "source": [
    "#data['team_id'] = data['team_id'].astype(str)"
   ]
  },
  {
   "cell_type": "code",
   "execution_count": 65,
   "metadata": {},
   "outputs": [
    {
     "output_type": "execute_result",
     "data": {
      "text/plain": [
       "total_points        1.00\n",
       "minutes             0.28\n",
       "team_strength       0.10\n",
       "player_type_id      0.04\n",
       "player_id           0.00\n",
       "opponent_team_id    0.00\n",
       "team_id            -0.01\n",
       "was_home           -0.07\n",
       "Name: total_points, dtype: float64"
      ]
     },
     "metadata": {},
     "execution_count": 65
    }
   ],
   "source": [
    "corr_matrix = data.corr()\n",
    "corr_matrix['total_points'].sort_values(ascending=False)"
   ]
  },
  {
   "cell_type": "code",
   "execution_count": 66,
   "metadata": {
    "tags": []
   },
   "outputs": [
    {
     "output_type": "stream",
     "name": "stdout",
     "text": [
      "['player_id', 'minutes', 'team_id_1', 'team_id_2', 'team_id_3', 'team_id_4', 'team_id_5', 'team_id_6', 'team_id_7', 'team_id_8', 'team_id_9', 'team_id_10', 'team_id_11', 'team_id_12', 'team_id_13', 'team_id_14', 'team_id_15', 'team_id_16', 'team_id_17', 'team_id_18', 'team_id_19', 'team_id_20', 'opponent_team_id_1', 'opponent_team_id_2', 'opponent_team_id_3', 'opponent_team_id_4', 'opponent_team_id_5', 'opponent_team_id_6', 'opponent_team_id_7', 'opponent_team_id_8', 'opponent_team_id_9', 'opponent_team_id_10', 'opponent_team_id_11', 'opponent_team_id_12', 'opponent_team_id_13', 'opponent_team_id_14', 'opponent_team_id_15', 'opponent_team_id_16', 'opponent_team_id_17', 'opponent_team_id_18', 'opponent_team_id_19', 'opponent_team_id_20', 'team_strength_2', 'team_strength_3', 'team_strength_4', 'team_strength_5', 'player_type_id_1', 'player_type_id_2', 'player_type_id_3', 'player_type_id_4', 'was_home_False', 'was_home_True']\n"
     ]
    }
   ],
   "source": [
    "# Replace categorical data with one-hot encoded data\n",
    "features_data = pd.get_dummies(data, columns=['team_id' , 'opponent_team_id' , 'team_strength' , 'player_type_id' , 'was_home'])\n",
    "#features_df = pd.get_dummies(df)\n",
    "\n",
    "features_data = features_data.drop('total_points', axis=1)\n",
    "\n",
    "list_features = list(features_data.columns.values)\n",
    "print(list_features)"
   ]
  },
  {
   "cell_type": "code",
   "execution_count": 67,
   "metadata": {
    "tags": []
   },
   "outputs": [
    {
     "output_type": "stream",
     "name": "stdout",
     "text": [
      "player_id 3 <class 'numpy.int64'>\nopponent_team_id 19 <class 'numpy.int64'>\ntotal_points 1 <class 'numpy.int64'>\nwas_home True <class 'numpy.bool_'>\nminutes 1 <class 'numpy.int64'>\nplayer_type_id 2 <class 'numpy.int64'>\nteam_strength 4 <class 'numpy.int64'>\nteam_id 1 <class 'numpy.int64'>\n"
     ]
    }
   ],
   "source": [
    "for i in list(data):\n",
    "    print(i, data[i].values[0],type(data[i].values[0]))\n",
    "\n",
    "# Create the X and y arrays\n",
    "X = features_data.values\n",
    "y = data['total_points'].values\n",
    "\n",
    "# Split the data set in a training set (70%) and a test set (30%)\n",
    "X_train, X_test, y_train, y_test = train_test_split(X, y, test_size=0.3, random_state=0)\n"
   ]
  },
  {
   "cell_type": "code",
   "execution_count": 68,
   "metadata": {},
   "outputs": [],
   "source": [
    "# Create the model\n",
    "model = ensemble.GradientBoostingRegressor()"
   ]
  },
  {
   "cell_type": "code",
   "execution_count": 69,
   "metadata": {},
   "outputs": [],
   "source": [
    "#Parameters we want to try\n",
    "param_grid = {\n",
    "    'n_estimators': [500, 1000, 3000],\n",
    "    'max_depth': [4, 6],\n",
    "    'min_samples_leaf': [3, 5, 9, 17],\n",
    "    'learning_rate': [0.1, 0.05, 0.02, 0.01],\n",
    "    'max_features': [1.0, 0.3, 0.1],\n",
    "    'loss': ['ls', 'lad', 'huber']\n",
    "    }"
   ]
  },
  {
   "cell_type": "markdown",
   "metadata": {},
   "source": [
    "## THIS MODULE TAKES A LONG TIME TO RUN"
   ]
  },
  {
   "cell_type": "code",
   "execution_count": 70,
   "metadata": {},
   "outputs": [],
   "source": [
    "#Define the grid search we want to run. Run it with four cpus in parallel.\n",
    "#gs_cv = GridSearchCV(model, param_grid, n_jobs=4)\n",
    "\n",
    "#Run the grid search - on only the training data!\n",
    "#gs_cv.fit(X_train, y_train)\n",
    "\n",
    "#Print the parameters that gave us the best result!\n",
    "#print(gs_cv.best_params_)\n",
    "\n",
    "# After running a .....long..... time, the output will be something like\n",
    "# {'loss': 'huber', 'learning_rate': 0.1, 'min_samples_leaf': 9, 'n_estimators': 3000, 'max_features': 0.1, 'max_depth': 6}\n",
    "# That is the combination that worked best."
   ]
  },
  {
   "cell_type": "markdown",
   "metadata": {},
   "source": [
    "### Fit regression model\n"
   ]
  },
  {
   "cell_type": "code",
   "execution_count": 71,
   "metadata": {},
   "outputs": [
    {
     "output_type": "execute_result",
     "data": {
      "text/plain": [
       "GradientBoostingRegressor(loss='huber', max_depth=4, max_features=1.0,\n",
       "                          min_samples_leaf=3, n_estimators=3000,\n",
       "                          random_state=0)"
      ]
     },
     "metadata": {},
     "execution_count": 71
    }
   ],
   "source": [
    "model = ensemble.GradientBoostingRegressor(\n",
    "    n_estimators=3000,\n",
    "    learning_rate=0.1,\n",
    "    max_depth=4,\n",
    "    min_samples_leaf=3,\n",
    "    max_features=1.0,\n",
    "    loss='huber',\n",
    "    random_state=0\n",
    ")\n",
    "\n",
    "model.fit(X_train, y_train)"
   ]
  },
  {
   "cell_type": "markdown",
   "metadata": {},
   "source": [
    "### Save the trained model to a file so we can use it in other programs\n"
   ]
  },
  {
   "cell_type": "code",
   "execution_count": 72,
   "metadata": {},
   "outputs": [
    {
     "output_type": "execute_result",
     "data": {
      "text/plain": [
       "['Trained_PlayerAnalysis.pkl']"
      ]
     },
     "metadata": {},
     "execution_count": 72
    }
   ],
   "source": [
    "joblib.dump(model, 'Trained_PlayerAnalysis.pkl')"
   ]
  },
  {
   "cell_type": "markdown",
   "metadata": {},
   "source": [
    "### Find the error rate on the training set\n"
   ]
  },
  {
   "cell_type": "code",
   "execution_count": 73,
   "metadata": {
    "tags": []
   },
   "outputs": [
    {
     "output_type": "stream",
     "name": "stdout",
     "text": [
      "Training Set Mean Absolute Error: 0.4512\n"
     ]
    }
   ],
   "source": [
    "mse = mean_absolute_error(y_train, model.predict(X_train))\n",
    "print(\"Training Set Mean Absolute Error: %.4f\" % mse)"
   ]
  },
  {
   "cell_type": "markdown",
   "metadata": {},
   "source": [
    "### Find the error rate on the test set\n"
   ]
  },
  {
   "cell_type": "code",
   "execution_count": 74,
   "metadata": {
    "tags": []
   },
   "outputs": [
    {
     "output_type": "stream",
     "name": "stdout",
     "text": [
      "Test Set Mean Absolute Error: 2.2811\n"
     ]
    }
   ],
   "source": [
    "mse = mean_absolute_error(y_test, model.predict(X_test))\n",
    "print(\"Test Set Mean Absolute Error: %.4f\" % mse)"
   ]
  },
  {
   "cell_type": "code",
   "execution_count": 75,
   "metadata": {},
   "outputs": [],
   "source": [
    "# Load the trained model created with train_model.py\n",
    "model = joblib.load('Trained_PlayerAnalysis.pkl')\n",
    "\n",
    "# Create a numpy array based on the model's feature importances\n",
    "importance = model.feature_importances_\n",
    "\n",
    "# Sort the feature labels based on the feature importance rankings from the model\n",
    "feature_indexes_by_importance = importance.argsort()\n"
   ]
  },
  {
   "cell_type": "code",
   "execution_count": 76,
   "metadata": {},
   "outputs": [],
   "source": [
    "### Print each feature label, from most important to least important (reverse order)\n"
   ]
  },
  {
   "cell_type": "code",
   "execution_count": 77,
   "metadata": {
    "tags": []
   },
   "outputs": [
    {
     "output_type": "stream",
     "name": "stdout",
     "text": [
      "team_id_12 - 0.08%\nteam_id_8 - 0.13%\nteam_id_3 - 0.15%\nteam_id_17 - 0.16%\nteam_id_18 - 0.16%\nteam_id_19 - 0.16%\nteam_id_1 - 0.21%\nteam_id_4 - 0.23%\nteam_id_11 - 0.24%\nteam_id_7 - 0.39%\nopponent_team_id_3 - 0.40%\nteam_id_16 - 0.41%\nteam_id_13 - 0.52%\nteam_id_14 - 0.61%\nteam_id_6 - 0.61%\nteam_id_9 - 0.62%\nteam_id_15 - 0.63%\nopponent_team_id_12 - 0.65%\nteam_strength_5 - 0.68%\nopponent_team_id_2 - 0.68%\nteam_strength_4 - 0.69%\nteam_id_5 - 0.79%\nopponent_team_id_5 - 0.82%\nopponent_team_id_16 - 0.83%\nopponent_team_id_7 - 0.86%\nteam_strength_3 - 0.91%\nopponent_team_id_1 - 0.95%\nopponent_team_id_17 - 0.96%\nteam_id_2 - 0.97%\nteam_id_20 - 0.98%\nplayer_type_id_1 - 1.00%\nopponent_team_id_14 - 1.06%\nteam_id_10 - 1.08%\nopponent_team_id_10 - 1.14%\nopponent_team_id_11 - 1.18%\nopponent_team_id_13 - 1.19%\nopponent_team_id_9 - 1.32%\nteam_strength_2 - 1.34%\nopponent_team_id_20 - 1.39%\nopponent_team_id_6 - 1.39%\nplayer_type_id_4 - 1.50%\nopponent_team_id_8 - 1.53%\nopponent_team_id_15 - 1.62%\nopponent_team_id_4 - 1.66%\nopponent_team_id_19 - 1.97%\nwas_home_True - 2.23%\nopponent_team_id_18 - 2.24%\nwas_home_False - 2.41%\nplayer_type_id_2 - 3.78%\nplayer_type_id_3 - 3.91%\nminutes - 23.24%\nplayer_id - 25.34%\n"
     ]
    }
   ],
   "source": [
    "for index in feature_indexes_by_importance:\n",
    "    print(\"{} - {:.2f}%\".format(list_features[index], (importance[index] * 100.0)))"
   ]
  },
  {
   "cell_type": "code",
   "execution_count": null,
   "metadata": {},
   "outputs": [],
   "source": []
  },
  {
   "cell_type": "code",
   "execution_count": null,
   "metadata": {},
   "outputs": [],
   "source": []
  }
 ]
}