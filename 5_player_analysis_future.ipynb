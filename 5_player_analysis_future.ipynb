{
 "metadata": {
  "language_info": {
   "codemirror_mode": {
    "name": "ipython",
    "version": 3
   },
   "file_extension": ".py",
   "mimetype": "text/x-python",
   "name": "python",
   "nbconvert_exporter": "python",
   "pygments_lexer": "ipython3",
   "version": "3.7.4-final"
  },
  "orig_nbformat": 2,
  "kernelspec": {
   "name": "python_defaultSpec_1598211526439",
   "display_name": "Python 3.7.4 64-bit ('base': conda)"
  }
 },
 "nbformat": 4,
 "nbformat_minor": 2,
 "cells": [
  {
   "cell_type": "code",
   "execution_count": 4,
   "metadata": {},
   "outputs": [],
   "source": [
    "import numpy as np\n",
    "import pandas as pd\n",
    "import seaborn as sns\n",
    "import scipy\n",
    "\n",
    "import matplotlib.pyplot as plt\n",
    "import matplotlib.ticker as ticker\n",
    "\n",
    "import plotly.express as px\n",
    "\n",
    "from datetime import datetime\n",
    "from scipy import stats\n",
    "\n",
    "#Set Display options\n",
    "pd.set_option('display.max_rows', 50)\n",
    "pd.set_option('display.max_columns', 50)"
   ]
  },
  {
   "cell_type": "code",
   "execution_count": 5,
   "metadata": {},
   "outputs": [],
   "source": [
    "#Pick Season\n",
    "season = \"2020-21\"\n",
    "\n",
    "\n",
    "#Import Files\n",
    "all_players = pd.read_csv (r'./data/' + season + '/Cleaned_data/all_players.csv', parse_dates= [\"news_added\"])\n",
    "all_teams = pd.read_csv (r'./data/' + season + '/Cleaned_data/all_teams.csv')\n",
    "all_events = pd.read_csv (r'./data/' + season + '/Cleaned_data/all_events.csv', parse_dates= [\"deadline_time\"])\n",
    "player_types = pd.read_csv(r'./data/' + season + '/Cleaned_data/player_types.csv')\n",
    "game_phases = pd.read_csv(r'./data/' + season + '/Cleaned_data/game_phases.csv')\n",
    "\n",
    "player_season_history = pd.read_csv(r'./data/' + season + '/Cleaned_data/player_season_history.csv')\n",
    "player_gameweek_history = pd.read_csv(r'./data/' + season + '/Cleaned_data/player_gameweek_history.csv')\n",
    "#player_gameweek_history = pd.read_csv(r'./data/2019-20/player_past_history/player_gameweek_history_raw.csv')\n",
    "player_future_fixture = pd.read_csv(r'./data/' + season + '/Cleaned_data/player_future_fixture.csv', parse_dates = [\"kickoff_time\"])\n",
    "\n",
    "\n"
   ]
  },
  {
   "cell_type": "code",
   "execution_count": 6,
   "metadata": {},
   "outputs": [
    {
     "output_type": "execute_result",
     "data": {
      "text/plain": "   fixture_id  fixture_code  home_team_id  team_h_score  away_team_id  \\\n0           2       2128288             8           NaN             1   \n1           9       2128296             1           NaN            19   \n2          23       2128310            11           NaN             1   \n3          29       2128316             1           NaN            15   \n4          44       2128331            12           NaN             1   \n\n   team_a_score  event  finished  minutes  provisional_start_time  \\\n0           NaN    1.0     False        0                   False   \n1           NaN    2.0     False        0                   False   \n2           NaN    3.0     False        0                   False   \n3           NaN    4.0     False        0                   False   \n4           NaN    5.0     False        0                   False   \n\n         kickoff_time  event_name  is_home  difficulty  player_id  \\\n0 2020-09-12 14:00:00  Gameweek 1    False           2          1   \n1 2020-09-19 14:00:00  Gameweek 2     True           2          1   \n2 2020-09-26 14:00:00  Gameweek 3    False           5          1   \n3 2020-10-03 14:00:00  Gameweek 4     True           3          1   \n4 2020-10-17 14:00:00  Gameweek 5    False           5          1   \n\n   opponent_team_id  team_id  \n0                 8        1  \n1                19        1  \n2                11        1  \n3                15        1  \n4                12        1  ",
      "text/html": "<div>\n<style scoped>\n    .dataframe tbody tr th:only-of-type {\n        vertical-align: middle;\n    }\n\n    .dataframe tbody tr th {\n        vertical-align: top;\n    }\n\n    .dataframe thead th {\n        text-align: right;\n    }\n</style>\n<table border=\"1\" class=\"dataframe\">\n  <thead>\n    <tr style=\"text-align: right;\">\n      <th></th>\n      <th>fixture_id</th>\n      <th>fixture_code</th>\n      <th>home_team_id</th>\n      <th>team_h_score</th>\n      <th>away_team_id</th>\n      <th>team_a_score</th>\n      <th>event</th>\n      <th>finished</th>\n      <th>minutes</th>\n      <th>provisional_start_time</th>\n      <th>kickoff_time</th>\n      <th>event_name</th>\n      <th>is_home</th>\n      <th>difficulty</th>\n      <th>player_id</th>\n      <th>opponent_team_id</th>\n      <th>team_id</th>\n    </tr>\n  </thead>\n  <tbody>\n    <tr>\n      <td>0</td>\n      <td>2</td>\n      <td>2128288</td>\n      <td>8</td>\n      <td>NaN</td>\n      <td>1</td>\n      <td>NaN</td>\n      <td>1.0</td>\n      <td>False</td>\n      <td>0</td>\n      <td>False</td>\n      <td>2020-09-12 14:00:00</td>\n      <td>Gameweek 1</td>\n      <td>False</td>\n      <td>2</td>\n      <td>1</td>\n      <td>8</td>\n      <td>1</td>\n    </tr>\n    <tr>\n      <td>1</td>\n      <td>9</td>\n      <td>2128296</td>\n      <td>1</td>\n      <td>NaN</td>\n      <td>19</td>\n      <td>NaN</td>\n      <td>2.0</td>\n      <td>False</td>\n      <td>0</td>\n      <td>False</td>\n      <td>2020-09-19 14:00:00</td>\n      <td>Gameweek 2</td>\n      <td>True</td>\n      <td>2</td>\n      <td>1</td>\n      <td>19</td>\n      <td>1</td>\n    </tr>\n    <tr>\n      <td>2</td>\n      <td>23</td>\n      <td>2128310</td>\n      <td>11</td>\n      <td>NaN</td>\n      <td>1</td>\n      <td>NaN</td>\n      <td>3.0</td>\n      <td>False</td>\n      <td>0</td>\n      <td>False</td>\n      <td>2020-09-26 14:00:00</td>\n      <td>Gameweek 3</td>\n      <td>False</td>\n      <td>5</td>\n      <td>1</td>\n      <td>11</td>\n      <td>1</td>\n    </tr>\n    <tr>\n      <td>3</td>\n      <td>29</td>\n      <td>2128316</td>\n      <td>1</td>\n      <td>NaN</td>\n      <td>15</td>\n      <td>NaN</td>\n      <td>4.0</td>\n      <td>False</td>\n      <td>0</td>\n      <td>False</td>\n      <td>2020-10-03 14:00:00</td>\n      <td>Gameweek 4</td>\n      <td>True</td>\n      <td>3</td>\n      <td>1</td>\n      <td>15</td>\n      <td>1</td>\n    </tr>\n    <tr>\n      <td>4</td>\n      <td>44</td>\n      <td>2128331</td>\n      <td>12</td>\n      <td>NaN</td>\n      <td>1</td>\n      <td>NaN</td>\n      <td>5.0</td>\n      <td>False</td>\n      <td>0</td>\n      <td>False</td>\n      <td>2020-10-17 14:00:00</td>\n      <td>Gameweek 5</td>\n      <td>False</td>\n      <td>5</td>\n      <td>1</td>\n      <td>12</td>\n      <td>1</td>\n    </tr>\n  </tbody>\n</table>\n</div>"
     },
     "metadata": {},
     "execution_count": 6
    }
   ],
   "source": [
    "player_future_fixture.head()"
   ]
  },
  {
   "cell_type": "code",
   "execution_count": 7,
   "metadata": {},
   "outputs": [],
   "source": [
    "def player_future(player_id):\n",
    "    data = player_future_fixture[player_future_fixture.player_id == player_id]\n",
    "\n",
    "    player = all_players[all_players.player_id == player_id]\n",
    "    team = data.team_id.iloc[0]\n",
    "    goals_scored = player.iloc[0].goals_scored\n",
    "    player_name = player.iloc[0]['web_name']\n",
    "\n",
    "    fig = px.line(\n",
    "        data, \n",
    "        x = 'event_name', \n",
    "        y = 'difficulty', \n",
    "        title = player_name,\n",
    "        hover_data=['is_home'])\n",
    "\n",
    "    fig.show()"
   ]
  },
  {
   "cell_type": "code",
   "execution_count": 8,
   "metadata": {},
   "outputs": [
    {
     "output_type": "display_data",
     "data": {
      "application/vnd.plotly.v1+json": {
       "config": {
        "plotlyServerURL": "https://plot.ly"
       },
       "data": [
        {
         "customdata": [
          [
           false
          ],
          [
           true
          ],
          [
           false
          ],
          [
           true
          ],
          [
           true
          ],
          [
           false
          ],
          [
           false
          ],
          [
           true
          ],
          [
           false
          ],
          [
           true
          ],
          [
           false
          ],
          [
           true
          ],
          [
           false
          ],
          [
           true
          ],
          [
           false
          ],
          [
           true
          ],
          [
           true
          ],
          [
           false
          ],
          [
           false
          ],
          [
           true
          ],
          [
           true
          ],
          [
           false
          ],
          [
           false
          ],
          [
           true
          ],
          [
           false
          ],
          [
           true
          ],
          [
           false
          ],
          [
           true
          ],
          [
           false
          ],
          [
           true
          ],
          [
           false
          ],
          [
           true
          ],
          [
           false
          ],
          [
           true
          ],
          [
           false
          ],
          [
           true
          ],
          [
           true
          ],
          [
           false
          ]
         ],
         "hovertemplate": "event_name=%{x}<br>difficulty=%{y}<br>is_home=%{customdata[0]}<extra></extra>",
         "legendgroup": "",
         "line": {
          "color": "#636efa",
          "dash": "solid"
         },
         "mode": "lines",
         "name": "",
         "showlegend": false,
         "type": "scatter",
         "x": [
          "Gameweek 1",
          "Gameweek 2",
          "Gameweek 3",
          "Gameweek 4",
          "Gameweek 5",
          "Gameweek 6",
          "Gameweek 7",
          "Gameweek 8",
          "Gameweek 9",
          "Gameweek 10",
          "Gameweek 11",
          "Gameweek 12",
          "Gameweek 13",
          "Gameweek 14",
          "Gameweek 15",
          "Gameweek 16",
          "Gameweek 17",
          "Gameweek 18",
          "Gameweek 19",
          "Gameweek 20",
          "Gameweek 21",
          "Gameweek 22",
          "Gameweek 23",
          "Gameweek 24",
          "Gameweek 25",
          "Gameweek 26",
          "Gameweek 27",
          "Gameweek 28",
          "Gameweek 29",
          "Gameweek 30",
          "Gameweek 31",
          "Gameweek 32",
          "Gameweek 33",
          "Gameweek 34",
          "Gameweek 35",
          "Gameweek 36",
          "Gameweek 37",
          "Gameweek 38"
         ],
         "xaxis": "x",
         "y": [
          4,
          2,
          2,
          2,
          4,
          2,
          3,
          4,
          2,
          2,
          3,
          3,
          4,
          3,
          4,
          4,
          2,
          3,
          2,
          3,
          2,
          2,
          4,
          2,
          5,
          3,
          4,
          3,
          2,
          2,
          2,
          3,
          4,
          2,
          2,
          3,
          3,
          5
         ],
         "yaxis": "y"
        }
       ],
       "layout": {
        "legend": {
         "tracegroupgap": 0
        },
        "template": {
         "data": {
          "bar": [
           {
            "error_x": {
             "color": "#2a3f5f"
            },
            "error_y": {
             "color": "#2a3f5f"
            },
            "marker": {
             "line": {
              "color": "#E5ECF6",
              "width": 0.5
             }
            },
            "type": "bar"
           }
          ],
          "barpolar": [
           {
            "marker": {
             "line": {
              "color": "#E5ECF6",
              "width": 0.5
             }
            },
            "type": "barpolar"
           }
          ],
          "carpet": [
           {
            "aaxis": {
             "endlinecolor": "#2a3f5f",
             "gridcolor": "white",
             "linecolor": "white",
             "minorgridcolor": "white",
             "startlinecolor": "#2a3f5f"
            },
            "baxis": {
             "endlinecolor": "#2a3f5f",
             "gridcolor": "white",
             "linecolor": "white",
             "minorgridcolor": "white",
             "startlinecolor": "#2a3f5f"
            },
            "type": "carpet"
           }
          ],
          "choropleth": [
           {
            "colorbar": {
             "outlinewidth": 0,
             "ticks": ""
            },
            "type": "choropleth"
           }
          ],
          "contour": [
           {
            "colorbar": {
             "outlinewidth": 0,
             "ticks": ""
            },
            "colorscale": [
             [
              0,
              "#0d0887"
             ],
             [
              0.1111111111111111,
              "#46039f"
             ],
             [
              0.2222222222222222,
              "#7201a8"
             ],
             [
              0.3333333333333333,
              "#9c179e"
             ],
             [
              0.4444444444444444,
              "#bd3786"
             ],
             [
              0.5555555555555556,
              "#d8576b"
             ],
             [
              0.6666666666666666,
              "#ed7953"
             ],
             [
              0.7777777777777778,
              "#fb9f3a"
             ],
             [
              0.8888888888888888,
              "#fdca26"
             ],
             [
              1,
              "#f0f921"
             ]
            ],
            "type": "contour"
           }
          ],
          "contourcarpet": [
           {
            "colorbar": {
             "outlinewidth": 0,
             "ticks": ""
            },
            "type": "contourcarpet"
           }
          ],
          "heatmap": [
           {
            "colorbar": {
             "outlinewidth": 0,
             "ticks": ""
            },
            "colorscale": [
             [
              0,
              "#0d0887"
             ],
             [
              0.1111111111111111,
              "#46039f"
             ],
             [
              0.2222222222222222,
              "#7201a8"
             ],
             [
              0.3333333333333333,
              "#9c179e"
             ],
             [
              0.4444444444444444,
              "#bd3786"
             ],
             [
              0.5555555555555556,
              "#d8576b"
             ],
             [
              0.6666666666666666,
              "#ed7953"
             ],
             [
              0.7777777777777778,
              "#fb9f3a"
             ],
             [
              0.8888888888888888,
              "#fdca26"
             ],
             [
              1,
              "#f0f921"
             ]
            ],
            "type": "heatmap"
           }
          ],
          "heatmapgl": [
           {
            "colorbar": {
             "outlinewidth": 0,
             "ticks": ""
            },
            "colorscale": [
             [
              0,
              "#0d0887"
             ],
             [
              0.1111111111111111,
              "#46039f"
             ],
             [
              0.2222222222222222,
              "#7201a8"
             ],
             [
              0.3333333333333333,
              "#9c179e"
             ],
             [
              0.4444444444444444,
              "#bd3786"
             ],
             [
              0.5555555555555556,
              "#d8576b"
             ],
             [
              0.6666666666666666,
              "#ed7953"
             ],
             [
              0.7777777777777778,
              "#fb9f3a"
             ],
             [
              0.8888888888888888,
              "#fdca26"
             ],
             [
              1,
              "#f0f921"
             ]
            ],
            "type": "heatmapgl"
           }
          ],
          "histogram": [
           {
            "marker": {
             "colorbar": {
              "outlinewidth": 0,
              "ticks": ""
             }
            },
            "type": "histogram"
           }
          ],
          "histogram2d": [
           {
            "colorbar": {
             "outlinewidth": 0,
             "ticks": ""
            },
            "colorscale": [
             [
              0,
              "#0d0887"
             ],
             [
              0.1111111111111111,
              "#46039f"
             ],
             [
              0.2222222222222222,
              "#7201a8"
             ],
             [
              0.3333333333333333,
              "#9c179e"
             ],
             [
              0.4444444444444444,
              "#bd3786"
             ],
             [
              0.5555555555555556,
              "#d8576b"
             ],
             [
              0.6666666666666666,
              "#ed7953"
             ],
             [
              0.7777777777777778,
              "#fb9f3a"
             ],
             [
              0.8888888888888888,
              "#fdca26"
             ],
             [
              1,
              "#f0f921"
             ]
            ],
            "type": "histogram2d"
           }
          ],
          "histogram2dcontour": [
           {
            "colorbar": {
             "outlinewidth": 0,
             "ticks": ""
            },
            "colorscale": [
             [
              0,
              "#0d0887"
             ],
             [
              0.1111111111111111,
              "#46039f"
             ],
             [
              0.2222222222222222,
              "#7201a8"
             ],
             [
              0.3333333333333333,
              "#9c179e"
             ],
             [
              0.4444444444444444,
              "#bd3786"
             ],
             [
              0.5555555555555556,
              "#d8576b"
             ],
             [
              0.6666666666666666,
              "#ed7953"
             ],
             [
              0.7777777777777778,
              "#fb9f3a"
             ],
             [
              0.8888888888888888,
              "#fdca26"
             ],
             [
              1,
              "#f0f921"
             ]
            ],
            "type": "histogram2dcontour"
           }
          ],
          "mesh3d": [
           {
            "colorbar": {
             "outlinewidth": 0,
             "ticks": ""
            },
            "type": "mesh3d"
           }
          ],
          "parcoords": [
           {
            "line": {
             "colorbar": {
              "outlinewidth": 0,
              "ticks": ""
             }
            },
            "type": "parcoords"
           }
          ],
          "pie": [
           {
            "automargin": true,
            "type": "pie"
           }
          ],
          "scatter": [
           {
            "marker": {
             "colorbar": {
              "outlinewidth": 0,
              "ticks": ""
             }
            },
            "type": "scatter"
           }
          ],
          "scatter3d": [
           {
            "line": {
             "colorbar": {
              "outlinewidth": 0,
              "ticks": ""
             }
            },
            "marker": {
             "colorbar": {
              "outlinewidth": 0,
              "ticks": ""
             }
            },
            "type": "scatter3d"
           }
          ],
          "scattercarpet": [
           {
            "marker": {
             "colorbar": {
              "outlinewidth": 0,
              "ticks": ""
             }
            },
            "type": "scattercarpet"
           }
          ],
          "scattergeo": [
           {
            "marker": {
             "colorbar": {
              "outlinewidth": 0,
              "ticks": ""
             }
            },
            "type": "scattergeo"
           }
          ],
          "scattergl": [
           {
            "marker": {
             "colorbar": {
              "outlinewidth": 0,
              "ticks": ""
             }
            },
            "type": "scattergl"
           }
          ],
          "scattermapbox": [
           {
            "marker": {
             "colorbar": {
              "outlinewidth": 0,
              "ticks": ""
             }
            },
            "type": "scattermapbox"
           }
          ],
          "scatterpolar": [
           {
            "marker": {
             "colorbar": {
              "outlinewidth": 0,
              "ticks": ""
             }
            },
            "type": "scatterpolar"
           }
          ],
          "scatterpolargl": [
           {
            "marker": {
             "colorbar": {
              "outlinewidth": 0,
              "ticks": ""
             }
            },
            "type": "scatterpolargl"
           }
          ],
          "scatterternary": [
           {
            "marker": {
             "colorbar": {
              "outlinewidth": 0,
              "ticks": ""
             }
            },
            "type": "scatterternary"
           }
          ],
          "surface": [
           {
            "colorbar": {
             "outlinewidth": 0,
             "ticks": ""
            },
            "colorscale": [
             [
              0,
              "#0d0887"
             ],
             [
              0.1111111111111111,
              "#46039f"
             ],
             [
              0.2222222222222222,
              "#7201a8"
             ],
             [
              0.3333333333333333,
              "#9c179e"
             ],
             [
              0.4444444444444444,
              "#bd3786"
             ],
             [
              0.5555555555555556,
              "#d8576b"
             ],
             [
              0.6666666666666666,
              "#ed7953"
             ],
             [
              0.7777777777777778,
              "#fb9f3a"
             ],
             [
              0.8888888888888888,
              "#fdca26"
             ],
             [
              1,
              "#f0f921"
             ]
            ],
            "type": "surface"
           }
          ],
          "table": [
           {
            "cells": {
             "fill": {
              "color": "#EBF0F8"
             },
             "line": {
              "color": "white"
             }
            },
            "header": {
             "fill": {
              "color": "#C8D4E3"
             },
             "line": {
              "color": "white"
             }
            },
            "type": "table"
           }
          ]
         },
         "layout": {
          "annotationdefaults": {
           "arrowcolor": "#2a3f5f",
           "arrowhead": 0,
           "arrowwidth": 1
          },
          "coloraxis": {
           "colorbar": {
            "outlinewidth": 0,
            "ticks": ""
           }
          },
          "colorscale": {
           "diverging": [
            [
             0,
             "#8e0152"
            ],
            [
             0.1,
             "#c51b7d"
            ],
            [
             0.2,
             "#de77ae"
            ],
            [
             0.3,
             "#f1b6da"
            ],
            [
             0.4,
             "#fde0ef"
            ],
            [
             0.5,
             "#f7f7f7"
            ],
            [
             0.6,
             "#e6f5d0"
            ],
            [
             0.7,
             "#b8e186"
            ],
            [
             0.8,
             "#7fbc41"
            ],
            [
             0.9,
             "#4d9221"
            ],
            [
             1,
             "#276419"
            ]
           ],
           "sequential": [
            [
             0,
             "#0d0887"
            ],
            [
             0.1111111111111111,
             "#46039f"
            ],
            [
             0.2222222222222222,
             "#7201a8"
            ],
            [
             0.3333333333333333,
             "#9c179e"
            ],
            [
             0.4444444444444444,
             "#bd3786"
            ],
            [
             0.5555555555555556,
             "#d8576b"
            ],
            [
             0.6666666666666666,
             "#ed7953"
            ],
            [
             0.7777777777777778,
             "#fb9f3a"
            ],
            [
             0.8888888888888888,
             "#fdca26"
            ],
            [
             1,
             "#f0f921"
            ]
           ],
           "sequentialminus": [
            [
             0,
             "#0d0887"
            ],
            [
             0.1111111111111111,
             "#46039f"
            ],
            [
             0.2222222222222222,
             "#7201a8"
            ],
            [
             0.3333333333333333,
             "#9c179e"
            ],
            [
             0.4444444444444444,
             "#bd3786"
            ],
            [
             0.5555555555555556,
             "#d8576b"
            ],
            [
             0.6666666666666666,
             "#ed7953"
            ],
            [
             0.7777777777777778,
             "#fb9f3a"
            ],
            [
             0.8888888888888888,
             "#fdca26"
            ],
            [
             1,
             "#f0f921"
            ]
           ]
          },
          "colorway": [
           "#636efa",
           "#EF553B",
           "#00cc96",
           "#ab63fa",
           "#FFA15A",
           "#19d3f3",
           "#FF6692",
           "#B6E880",
           "#FF97FF",
           "#FECB52"
          ],
          "font": {
           "color": "#2a3f5f"
          },
          "geo": {
           "bgcolor": "white",
           "lakecolor": "white",
           "landcolor": "#E5ECF6",
           "showlakes": true,
           "showland": true,
           "subunitcolor": "white"
          },
          "hoverlabel": {
           "align": "left"
          },
          "hovermode": "closest",
          "mapbox": {
           "style": "light"
          },
          "paper_bgcolor": "white",
          "plot_bgcolor": "#E5ECF6",
          "polar": {
           "angularaxis": {
            "gridcolor": "white",
            "linecolor": "white",
            "ticks": ""
           },
           "bgcolor": "#E5ECF6",
           "radialaxis": {
            "gridcolor": "white",
            "linecolor": "white",
            "ticks": ""
           }
          },
          "scene": {
           "xaxis": {
            "backgroundcolor": "#E5ECF6",
            "gridcolor": "white",
            "gridwidth": 2,
            "linecolor": "white",
            "showbackground": true,
            "ticks": "",
            "zerolinecolor": "white"
           },
           "yaxis": {
            "backgroundcolor": "#E5ECF6",
            "gridcolor": "white",
            "gridwidth": 2,
            "linecolor": "white",
            "showbackground": true,
            "ticks": "",
            "zerolinecolor": "white"
           },
           "zaxis": {
            "backgroundcolor": "#E5ECF6",
            "gridcolor": "white",
            "gridwidth": 2,
            "linecolor": "white",
            "showbackground": true,
            "ticks": "",
            "zerolinecolor": "white"
           }
          },
          "shapedefaults": {
           "line": {
            "color": "#2a3f5f"
           }
          },
          "ternary": {
           "aaxis": {
            "gridcolor": "white",
            "linecolor": "white",
            "ticks": ""
           },
           "baxis": {
            "gridcolor": "white",
            "linecolor": "white",
            "ticks": ""
           },
           "bgcolor": "#E5ECF6",
           "caxis": {
            "gridcolor": "white",
            "linecolor": "white",
            "ticks": ""
           }
          },
          "title": {
           "x": 0.05
          },
          "xaxis": {
           "automargin": true,
           "gridcolor": "white",
           "linecolor": "white",
           "ticks": "",
           "title": {
            "standoff": 15
           },
           "zerolinecolor": "white",
           "zerolinewidth": 2
          },
          "yaxis": {
           "automargin": true,
           "gridcolor": "white",
           "linecolor": "white",
           "ticks": "",
           "title": {
            "standoff": 15
           },
           "zerolinecolor": "white",
           "zerolinewidth": 2
          }
         }
        },
        "title": {
         "text": "Sigurdsson"
        },
        "xaxis": {
         "anchor": "y",
         "domain": [
          0,
          1
         ],
         "title": {
          "text": "event_name"
         }
        },
        "yaxis": {
         "anchor": "x",
         "domain": [
          0,
          1
         ],
         "title": {
          "text": "difficulty"
         }
        }
       }
      }
     },
     "metadata": {}
    }
   ],
   "source": [
    "player_future(150)"
   ]
  },
  {
   "cell_type": "code",
   "execution_count": 9,
   "metadata": {},
   "outputs": [
    {
     "output_type": "execute_result",
     "data": {
      "text/plain": "0        2\n1        2\n2        5\n3        3\n4        5\n        ..\n18311    3\n18312    2\n18313    3\n18314    2\n18315    4\nName: difficulty, Length: 18316, dtype: int64"
     },
     "metadata": {},
     "execution_count": 9
    }
   ],
   "source": [
    "    opponent_strength = player_future_fixture['difficulty']\n",
    "    opponent_strength\n",
    "    #opponent_strength = player_analysis.iloc[:,2]"
   ]
  },
  {
   "cell_type": "code",
   "execution_count": 10,
   "metadata": {},
   "outputs": [],
   "source": [
    "def get_SMA(player_id , count):\n",
    "    data = player_future_fixture[player_future_fixture.player_id == player_id]\n",
    "    opponent_strength = data['difficulty']\n",
    "    # List to store moving average results\n",
    "    SMA2 = list(range(0, len(opponent_strength) - count))\n",
    "\n",
    "    # Compute moving average\n",
    "    for ii in range(len(SMA2)):\n",
    "        # Previous gw index\n",
    "        index = range(ii, ii + count)\n",
    "        # Get data for previous gw\n",
    "        prev_gw2 = opponent_strength.iloc[index]\n",
    "\n",
    "        # Sum previous gw\n",
    "        summation2 = np.sum(prev_gw2)\n",
    "\n",
    "        # Get average\n",
    "        avg2 = summation2/count\n",
    "        # Save results to list\n",
    "        SMA2[ii] = avg2\n",
    "         \n",
    "    # Define column label\n",
    "    label2 = f\"Opponent strength SMA\"\n",
    "\n",
    "    \n",
    "    # Get corresponding gw for moving_avg\n",
    "    gameweeks2 = opponent_strength.index[count:]\n",
    "    gameweek = data.event_name[count:]\n",
    "    \n",
    "    # Convert list into Pandas Series\n",
    "    SMA2 = pd.Series(SMA2, name = label2, index = gameweek)\n",
    "    \n",
    "    \n",
    "    return SMA2"
   ]
  },
  {
   "cell_type": "code",
   "execution_count": 11,
   "metadata": {},
   "outputs": [
    {
     "output_type": "execute_result",
     "data": {
      "text/plain": "event_name\nGameweek 6     2.8\nGameweek 7     2.4\nGameweek 8     2.6\nGameweek 9     3.0\nGameweek 10    3.0\nGameweek 11    2.6\nGameweek 12    2.8\nGameweek 13    2.8\nGameweek 14    2.8\nGameweek 15    3.0\nGameweek 16    3.4\nGameweek 17    3.6\nGameweek 18    3.4\nGameweek 19    3.2\nGameweek 20    3.0\nGameweek 21    2.8\nGameweek 22    2.4\nGameweek 23    2.4\nGameweek 24    2.6\nGameweek 25    2.6\nGameweek 26    3.0\nGameweek 27    3.2\nGameweek 28    3.6\nGameweek 29    3.4\nGameweek 30    3.4\nGameweek 31    2.8\nGameweek 32    2.6\nGameweek 33    2.4\nGameweek 34    2.6\nGameweek 35    2.6\nGameweek 36    2.6\nGameweek 37    2.8\nGameweek 38    2.8\nName: Opponent strength SMA, dtype: float64"
     },
     "metadata": {},
     "execution_count": 11
    }
   ],
   "source": [
    "result = get_SMA(150,5)\n",
    "result"
   ]
  },
  {
   "cell_type": "code",
   "execution_count": 12,
   "metadata": {},
   "outputs": [
    {
     "output_type": "display_data",
     "data": {
      "application/vnd.plotly.v1+json": {
       "config": {
        "plotlyServerURL": "https://plot.ly"
       },
       "data": [
        {
         "customdata": [
          [
           false
          ],
          [
           true
          ],
          [
           false
          ],
          [
           true
          ],
          [
           true
          ],
          [
           false
          ],
          [
           false
          ],
          [
           true
          ],
          [
           false
          ],
          [
           true
          ],
          [
           false
          ],
          [
           true
          ],
          [
           false
          ],
          [
           true
          ],
          [
           false
          ],
          [
           true
          ],
          [
           true
          ],
          [
           false
          ],
          [
           false
          ],
          [
           true
          ],
          [
           true
          ],
          [
           false
          ],
          [
           false
          ],
          [
           true
          ],
          [
           false
          ],
          [
           true
          ],
          [
           false
          ],
          [
           true
          ],
          [
           false
          ],
          [
           true
          ],
          [
           false
          ],
          [
           true
          ],
          [
           false
          ],
          [
           true
          ],
          [
           false
          ],
          [
           true
          ],
          [
           true
          ],
          [
           false
          ]
         ],
         "hovertemplate": "event_name=%{x}<br>difficulty=%{y}<br>is_home=%{customdata[0]}<extra></extra>",
         "legendgroup": "",
         "line": {
          "color": "#636efa",
          "dash": "solid"
         },
         "mode": "lines",
         "name": "",
         "showlegend": false,
         "type": "scatter",
         "x": [
          "Gameweek 1",
          "Gameweek 2",
          "Gameweek 3",
          "Gameweek 4",
          "Gameweek 5",
          "Gameweek 6",
          "Gameweek 7",
          "Gameweek 8",
          "Gameweek 9",
          "Gameweek 10",
          "Gameweek 11",
          "Gameweek 12",
          "Gameweek 13",
          "Gameweek 14",
          "Gameweek 15",
          "Gameweek 16",
          "Gameweek 17",
          "Gameweek 18",
          "Gameweek 19",
          "Gameweek 20",
          "Gameweek 21",
          "Gameweek 22",
          "Gameweek 23",
          "Gameweek 24",
          "Gameweek 25",
          "Gameweek 26",
          "Gameweek 27",
          "Gameweek 28",
          "Gameweek 29",
          "Gameweek 30",
          "Gameweek 31",
          "Gameweek 32",
          "Gameweek 33",
          "Gameweek 34",
          "Gameweek 35",
          "Gameweek 36",
          "Gameweek 37",
          "Gameweek 38"
         ],
         "xaxis": "x",
         "y": [
          4,
          2,
          2,
          2,
          4,
          2,
          3,
          4,
          2,
          2,
          3,
          3,
          4,
          3,
          4,
          4,
          2,
          3,
          2,
          3,
          2,
          2,
          4,
          2,
          5,
          3,
          4,
          3,
          2,
          2,
          2,
          3,
          4,
          2,
          2,
          3,
          3,
          5
         ],
         "yaxis": "y"
        }
       ],
       "layout": {
        "legend": {
         "tracegroupgap": 0
        },
        "template": {
         "data": {
          "bar": [
           {
            "error_x": {
             "color": "#2a3f5f"
            },
            "error_y": {
             "color": "#2a3f5f"
            },
            "marker": {
             "line": {
              "color": "#E5ECF6",
              "width": 0.5
             }
            },
            "type": "bar"
           }
          ],
          "barpolar": [
           {
            "marker": {
             "line": {
              "color": "#E5ECF6",
              "width": 0.5
             }
            },
            "type": "barpolar"
           }
          ],
          "carpet": [
           {
            "aaxis": {
             "endlinecolor": "#2a3f5f",
             "gridcolor": "white",
             "linecolor": "white",
             "minorgridcolor": "white",
             "startlinecolor": "#2a3f5f"
            },
            "baxis": {
             "endlinecolor": "#2a3f5f",
             "gridcolor": "white",
             "linecolor": "white",
             "minorgridcolor": "white",
             "startlinecolor": "#2a3f5f"
            },
            "type": "carpet"
           }
          ],
          "choropleth": [
           {
            "colorbar": {
             "outlinewidth": 0,
             "ticks": ""
            },
            "type": "choropleth"
           }
          ],
          "contour": [
           {
            "colorbar": {
             "outlinewidth": 0,
             "ticks": ""
            },
            "colorscale": [
             [
              0,
              "#0d0887"
             ],
             [
              0.1111111111111111,
              "#46039f"
             ],
             [
              0.2222222222222222,
              "#7201a8"
             ],
             [
              0.3333333333333333,
              "#9c179e"
             ],
             [
              0.4444444444444444,
              "#bd3786"
             ],
             [
              0.5555555555555556,
              "#d8576b"
             ],
             [
              0.6666666666666666,
              "#ed7953"
             ],
             [
              0.7777777777777778,
              "#fb9f3a"
             ],
             [
              0.8888888888888888,
              "#fdca26"
             ],
             [
              1,
              "#f0f921"
             ]
            ],
            "type": "contour"
           }
          ],
          "contourcarpet": [
           {
            "colorbar": {
             "outlinewidth": 0,
             "ticks": ""
            },
            "type": "contourcarpet"
           }
          ],
          "heatmap": [
           {
            "colorbar": {
             "outlinewidth": 0,
             "ticks": ""
            },
            "colorscale": [
             [
              0,
              "#0d0887"
             ],
             [
              0.1111111111111111,
              "#46039f"
             ],
             [
              0.2222222222222222,
              "#7201a8"
             ],
             [
              0.3333333333333333,
              "#9c179e"
             ],
             [
              0.4444444444444444,
              "#bd3786"
             ],
             [
              0.5555555555555556,
              "#d8576b"
             ],
             [
              0.6666666666666666,
              "#ed7953"
             ],
             [
              0.7777777777777778,
              "#fb9f3a"
             ],
             [
              0.8888888888888888,
              "#fdca26"
             ],
             [
              1,
              "#f0f921"
             ]
            ],
            "type": "heatmap"
           }
          ],
          "heatmapgl": [
           {
            "colorbar": {
             "outlinewidth": 0,
             "ticks": ""
            },
            "colorscale": [
             [
              0,
              "#0d0887"
             ],
             [
              0.1111111111111111,
              "#46039f"
             ],
             [
              0.2222222222222222,
              "#7201a8"
             ],
             [
              0.3333333333333333,
              "#9c179e"
             ],
             [
              0.4444444444444444,
              "#bd3786"
             ],
             [
              0.5555555555555556,
              "#d8576b"
             ],
             [
              0.6666666666666666,
              "#ed7953"
             ],
             [
              0.7777777777777778,
              "#fb9f3a"
             ],
             [
              0.8888888888888888,
              "#fdca26"
             ],
             [
              1,
              "#f0f921"
             ]
            ],
            "type": "heatmapgl"
           }
          ],
          "histogram": [
           {
            "marker": {
             "colorbar": {
              "outlinewidth": 0,
              "ticks": ""
             }
            },
            "type": "histogram"
           }
          ],
          "histogram2d": [
           {
            "colorbar": {
             "outlinewidth": 0,
             "ticks": ""
            },
            "colorscale": [
             [
              0,
              "#0d0887"
             ],
             [
              0.1111111111111111,
              "#46039f"
             ],
             [
              0.2222222222222222,
              "#7201a8"
             ],
             [
              0.3333333333333333,
              "#9c179e"
             ],
             [
              0.4444444444444444,
              "#bd3786"
             ],
             [
              0.5555555555555556,
              "#d8576b"
             ],
             [
              0.6666666666666666,
              "#ed7953"
             ],
             [
              0.7777777777777778,
              "#fb9f3a"
             ],
             [
              0.8888888888888888,
              "#fdca26"
             ],
             [
              1,
              "#f0f921"
             ]
            ],
            "type": "histogram2d"
           }
          ],
          "histogram2dcontour": [
           {
            "colorbar": {
             "outlinewidth": 0,
             "ticks": ""
            },
            "colorscale": [
             [
              0,
              "#0d0887"
             ],
             [
              0.1111111111111111,
              "#46039f"
             ],
             [
              0.2222222222222222,
              "#7201a8"
             ],
             [
              0.3333333333333333,
              "#9c179e"
             ],
             [
              0.4444444444444444,
              "#bd3786"
             ],
             [
              0.5555555555555556,
              "#d8576b"
             ],
             [
              0.6666666666666666,
              "#ed7953"
             ],
             [
              0.7777777777777778,
              "#fb9f3a"
             ],
             [
              0.8888888888888888,
              "#fdca26"
             ],
             [
              1,
              "#f0f921"
             ]
            ],
            "type": "histogram2dcontour"
           }
          ],
          "mesh3d": [
           {
            "colorbar": {
             "outlinewidth": 0,
             "ticks": ""
            },
            "type": "mesh3d"
           }
          ],
          "parcoords": [
           {
            "line": {
             "colorbar": {
              "outlinewidth": 0,
              "ticks": ""
             }
            },
            "type": "parcoords"
           }
          ],
          "pie": [
           {
            "automargin": true,
            "type": "pie"
           }
          ],
          "scatter": [
           {
            "marker": {
             "colorbar": {
              "outlinewidth": 0,
              "ticks": ""
             }
            },
            "type": "scatter"
           }
          ],
          "scatter3d": [
           {
            "line": {
             "colorbar": {
              "outlinewidth": 0,
              "ticks": ""
             }
            },
            "marker": {
             "colorbar": {
              "outlinewidth": 0,
              "ticks": ""
             }
            },
            "type": "scatter3d"
           }
          ],
          "scattercarpet": [
           {
            "marker": {
             "colorbar": {
              "outlinewidth": 0,
              "ticks": ""
             }
            },
            "type": "scattercarpet"
           }
          ],
          "scattergeo": [
           {
            "marker": {
             "colorbar": {
              "outlinewidth": 0,
              "ticks": ""
             }
            },
            "type": "scattergeo"
           }
          ],
          "scattergl": [
           {
            "marker": {
             "colorbar": {
              "outlinewidth": 0,
              "ticks": ""
             }
            },
            "type": "scattergl"
           }
          ],
          "scattermapbox": [
           {
            "marker": {
             "colorbar": {
              "outlinewidth": 0,
              "ticks": ""
             }
            },
            "type": "scattermapbox"
           }
          ],
          "scatterpolar": [
           {
            "marker": {
             "colorbar": {
              "outlinewidth": 0,
              "ticks": ""
             }
            },
            "type": "scatterpolar"
           }
          ],
          "scatterpolargl": [
           {
            "marker": {
             "colorbar": {
              "outlinewidth": 0,
              "ticks": ""
             }
            },
            "type": "scatterpolargl"
           }
          ],
          "scatterternary": [
           {
            "marker": {
             "colorbar": {
              "outlinewidth": 0,
              "ticks": ""
             }
            },
            "type": "scatterternary"
           }
          ],
          "surface": [
           {
            "colorbar": {
             "outlinewidth": 0,
             "ticks": ""
            },
            "colorscale": [
             [
              0,
              "#0d0887"
             ],
             [
              0.1111111111111111,
              "#46039f"
             ],
             [
              0.2222222222222222,
              "#7201a8"
             ],
             [
              0.3333333333333333,
              "#9c179e"
             ],
             [
              0.4444444444444444,
              "#bd3786"
             ],
             [
              0.5555555555555556,
              "#d8576b"
             ],
             [
              0.6666666666666666,
              "#ed7953"
             ],
             [
              0.7777777777777778,
              "#fb9f3a"
             ],
             [
              0.8888888888888888,
              "#fdca26"
             ],
             [
              1,
              "#f0f921"
             ]
            ],
            "type": "surface"
           }
          ],
          "table": [
           {
            "cells": {
             "fill": {
              "color": "#EBF0F8"
             },
             "line": {
              "color": "white"
             }
            },
            "header": {
             "fill": {
              "color": "#C8D4E3"
             },
             "line": {
              "color": "white"
             }
            },
            "type": "table"
           }
          ]
         },
         "layout": {
          "annotationdefaults": {
           "arrowcolor": "#2a3f5f",
           "arrowhead": 0,
           "arrowwidth": 1
          },
          "coloraxis": {
           "colorbar": {
            "outlinewidth": 0,
            "ticks": ""
           }
          },
          "colorscale": {
           "diverging": [
            [
             0,
             "#8e0152"
            ],
            [
             0.1,
             "#c51b7d"
            ],
            [
             0.2,
             "#de77ae"
            ],
            [
             0.3,
             "#f1b6da"
            ],
            [
             0.4,
             "#fde0ef"
            ],
            [
             0.5,
             "#f7f7f7"
            ],
            [
             0.6,
             "#e6f5d0"
            ],
            [
             0.7,
             "#b8e186"
            ],
            [
             0.8,
             "#7fbc41"
            ],
            [
             0.9,
             "#4d9221"
            ],
            [
             1,
             "#276419"
            ]
           ],
           "sequential": [
            [
             0,
             "#0d0887"
            ],
            [
             0.1111111111111111,
             "#46039f"
            ],
            [
             0.2222222222222222,
             "#7201a8"
            ],
            [
             0.3333333333333333,
             "#9c179e"
            ],
            [
             0.4444444444444444,
             "#bd3786"
            ],
            [
             0.5555555555555556,
             "#d8576b"
            ],
            [
             0.6666666666666666,
             "#ed7953"
            ],
            [
             0.7777777777777778,
             "#fb9f3a"
            ],
            [
             0.8888888888888888,
             "#fdca26"
            ],
            [
             1,
             "#f0f921"
            ]
           ],
           "sequentialminus": [
            [
             0,
             "#0d0887"
            ],
            [
             0.1111111111111111,
             "#46039f"
            ],
            [
             0.2222222222222222,
             "#7201a8"
            ],
            [
             0.3333333333333333,
             "#9c179e"
            ],
            [
             0.4444444444444444,
             "#bd3786"
            ],
            [
             0.5555555555555556,
             "#d8576b"
            ],
            [
             0.6666666666666666,
             "#ed7953"
            ],
            [
             0.7777777777777778,
             "#fb9f3a"
            ],
            [
             0.8888888888888888,
             "#fdca26"
            ],
            [
             1,
             "#f0f921"
            ]
           ]
          },
          "colorway": [
           "#636efa",
           "#EF553B",
           "#00cc96",
           "#ab63fa",
           "#FFA15A",
           "#19d3f3",
           "#FF6692",
           "#B6E880",
           "#FF97FF",
           "#FECB52"
          ],
          "font": {
           "color": "#2a3f5f"
          },
          "geo": {
           "bgcolor": "white",
           "lakecolor": "white",
           "landcolor": "#E5ECF6",
           "showlakes": true,
           "showland": true,
           "subunitcolor": "white"
          },
          "hoverlabel": {
           "align": "left"
          },
          "hovermode": "closest",
          "mapbox": {
           "style": "light"
          },
          "paper_bgcolor": "white",
          "plot_bgcolor": "#E5ECF6",
          "polar": {
           "angularaxis": {
            "gridcolor": "white",
            "linecolor": "white",
            "ticks": ""
           },
           "bgcolor": "#E5ECF6",
           "radialaxis": {
            "gridcolor": "white",
            "linecolor": "white",
            "ticks": ""
           }
          },
          "scene": {
           "xaxis": {
            "backgroundcolor": "#E5ECF6",
            "gridcolor": "white",
            "gridwidth": 2,
            "linecolor": "white",
            "showbackground": true,
            "ticks": "",
            "zerolinecolor": "white"
           },
           "yaxis": {
            "backgroundcolor": "#E5ECF6",
            "gridcolor": "white",
            "gridwidth": 2,
            "linecolor": "white",
            "showbackground": true,
            "ticks": "",
            "zerolinecolor": "white"
           },
           "zaxis": {
            "backgroundcolor": "#E5ECF6",
            "gridcolor": "white",
            "gridwidth": 2,
            "linecolor": "white",
            "showbackground": true,
            "ticks": "",
            "zerolinecolor": "white"
           }
          },
          "shapedefaults": {
           "line": {
            "color": "#2a3f5f"
           }
          },
          "ternary": {
           "aaxis": {
            "gridcolor": "white",
            "linecolor": "white",
            "ticks": ""
           },
           "baxis": {
            "gridcolor": "white",
            "linecolor": "white",
            "ticks": ""
           },
           "bgcolor": "#E5ECF6",
           "caxis": {
            "gridcolor": "white",
            "linecolor": "white",
            "ticks": ""
           }
          },
          "title": {
           "x": 0.05
          },
          "xaxis": {
           "automargin": true,
           "gridcolor": "white",
           "linecolor": "white",
           "ticks": "",
           "title": {
            "standoff": 15
           },
           "zerolinecolor": "white",
           "zerolinewidth": 2
          },
          "yaxis": {
           "automargin": true,
           "gridcolor": "white",
           "linecolor": "white",
           "ticks": "",
           "title": {
            "standoff": 15
           },
           "zerolinecolor": "white",
           "zerolinewidth": 2
          }
         }
        },
        "title": {
         "text": "Sigurdsson"
        },
        "xaxis": {
         "anchor": "y",
         "domain": [
          0,
          1
         ],
         "title": {
          "text": "event_name"
         }
        },
        "yaxis": {
         "anchor": "x",
         "domain": [
          0,
          1
         ],
         "title": {
          "text": "difficulty"
         }
        }
       }
      }
     },
     "metadata": {}
    }
   ],
   "source": [
    "player_future(150)"
   ]
  },
  {
   "cell_type": "markdown",
   "metadata": {},
   "source": [
    "## FANTASY PLAYER VALUE"
   ]
  },
  {
   "cell_type": "code",
   "execution_count": 16,
   "metadata": {},
   "outputs": [
    {
     "output_type": "execute_result",
     "data": {
      "text/plain": "             web_name  now_cost status  player_type_id  total_points  minutes  \\\n302         Fernandes       105      a               3           117     1187   \n104            Alonso        60      a               2           100     1429   \n387            Lloris        55      a               1            98     1808   \n259  Alexander-Arnold        75      a               2           210     3173   \n303           Martial        90      a               4           200     2625   \n96               Pope        55      a               1           170     3420   \n272         De Bruyne       115      a               3           251     2790   \n305         Henderson        55      a               1           160     3240   \n464              Boly        55      a               2            97     1980   \n463           Doherty        60      a               2           167     2836   \n255         Robertson        70      a               2           181     3111   \n322           Ritchie        50      a               3            74     1312   \n250          van Dijk        65      a               2           178     3420   \n254             Salah       120      a               3           233     2879   \n443           Antonio        65      a               4           111     1767   \n394               Son        90      a               3           169     2478   \n356         Lundstram        55      a               3           144     2452   \n201             Vardy       100      a               4           210     3032   \n306          Rashford        95      a               3           177     2645   \n275            Mahrez        85      a               3           175     1934   \n\n         PP90  PPG      PPMM      VAPM  \n302  8.871104  8.4  0.800000  0.609524  \n104  6.298111  5.6  0.933333  0.600000  \n387  4.878319  4.7  0.854545  0.490909  \n259  5.956508  5.5  0.733333  0.466667  \n303  6.857143  6.2  0.688889  0.466667  \n96   4.473684  4.5  0.818182  0.454545  \n272  8.096774  7.2  0.626087  0.452174  \n305  4.444444  4.4  0.800000  0.436364  \n464  4.409091  4.4  0.800000  0.436364  \n463  5.299718  4.6  0.766667  0.433333  \n255  5.236258  5.0  0.714286  0.428571  \n322  5.076220  4.1  0.820000  0.420000  \n250  4.684211  4.7  0.723077  0.415385  \n254  7.283779  6.9  0.575000  0.408333  \n443  5.653650  4.6  0.707692  0.400000  \n394  6.138015  5.6  0.622222  0.400000  \n356  5.285481  4.2  0.763636  0.400000  \n201  6.233509  6.0  0.600000  0.400000  \n306  6.022684  5.7  0.600000  0.389474  \n275  8.143744  5.3  0.623529  0.388235  ",
      "text/html": "<div>\n<style scoped>\n    .dataframe tbody tr th:only-of-type {\n        vertical-align: middle;\n    }\n\n    .dataframe tbody tr th {\n        vertical-align: top;\n    }\n\n    .dataframe thead th {\n        text-align: right;\n    }\n</style>\n<table border=\"1\" class=\"dataframe\">\n  <thead>\n    <tr style=\"text-align: right;\">\n      <th></th>\n      <th>web_name</th>\n      <th>now_cost</th>\n      <th>status</th>\n      <th>player_type_id</th>\n      <th>total_points</th>\n      <th>minutes</th>\n      <th>PP90</th>\n      <th>PPG</th>\n      <th>PPMM</th>\n      <th>VAPM</th>\n    </tr>\n  </thead>\n  <tbody>\n    <tr>\n      <td>302</td>\n      <td>Fernandes</td>\n      <td>105</td>\n      <td>a</td>\n      <td>3</td>\n      <td>117</td>\n      <td>1187</td>\n      <td>8.871104</td>\n      <td>8.4</td>\n      <td>0.800000</td>\n      <td>0.609524</td>\n    </tr>\n    <tr>\n      <td>104</td>\n      <td>Alonso</td>\n      <td>60</td>\n      <td>a</td>\n      <td>2</td>\n      <td>100</td>\n      <td>1429</td>\n      <td>6.298111</td>\n      <td>5.6</td>\n      <td>0.933333</td>\n      <td>0.600000</td>\n    </tr>\n    <tr>\n      <td>387</td>\n      <td>Lloris</td>\n      <td>55</td>\n      <td>a</td>\n      <td>1</td>\n      <td>98</td>\n      <td>1808</td>\n      <td>4.878319</td>\n      <td>4.7</td>\n      <td>0.854545</td>\n      <td>0.490909</td>\n    </tr>\n    <tr>\n      <td>259</td>\n      <td>Alexander-Arnold</td>\n      <td>75</td>\n      <td>a</td>\n      <td>2</td>\n      <td>210</td>\n      <td>3173</td>\n      <td>5.956508</td>\n      <td>5.5</td>\n      <td>0.733333</td>\n      <td>0.466667</td>\n    </tr>\n    <tr>\n      <td>303</td>\n      <td>Martial</td>\n      <td>90</td>\n      <td>a</td>\n      <td>4</td>\n      <td>200</td>\n      <td>2625</td>\n      <td>6.857143</td>\n      <td>6.2</td>\n      <td>0.688889</td>\n      <td>0.466667</td>\n    </tr>\n    <tr>\n      <td>96</td>\n      <td>Pope</td>\n      <td>55</td>\n      <td>a</td>\n      <td>1</td>\n      <td>170</td>\n      <td>3420</td>\n      <td>4.473684</td>\n      <td>4.5</td>\n      <td>0.818182</td>\n      <td>0.454545</td>\n    </tr>\n    <tr>\n      <td>272</td>\n      <td>De Bruyne</td>\n      <td>115</td>\n      <td>a</td>\n      <td>3</td>\n      <td>251</td>\n      <td>2790</td>\n      <td>8.096774</td>\n      <td>7.2</td>\n      <td>0.626087</td>\n      <td>0.452174</td>\n    </tr>\n    <tr>\n      <td>305</td>\n      <td>Henderson</td>\n      <td>55</td>\n      <td>a</td>\n      <td>1</td>\n      <td>160</td>\n      <td>3240</td>\n      <td>4.444444</td>\n      <td>4.4</td>\n      <td>0.800000</td>\n      <td>0.436364</td>\n    </tr>\n    <tr>\n      <td>464</td>\n      <td>Boly</td>\n      <td>55</td>\n      <td>a</td>\n      <td>2</td>\n      <td>97</td>\n      <td>1980</td>\n      <td>4.409091</td>\n      <td>4.4</td>\n      <td>0.800000</td>\n      <td>0.436364</td>\n    </tr>\n    <tr>\n      <td>463</td>\n      <td>Doherty</td>\n      <td>60</td>\n      <td>a</td>\n      <td>2</td>\n      <td>167</td>\n      <td>2836</td>\n      <td>5.299718</td>\n      <td>4.6</td>\n      <td>0.766667</td>\n      <td>0.433333</td>\n    </tr>\n    <tr>\n      <td>255</td>\n      <td>Robertson</td>\n      <td>70</td>\n      <td>a</td>\n      <td>2</td>\n      <td>181</td>\n      <td>3111</td>\n      <td>5.236258</td>\n      <td>5.0</td>\n      <td>0.714286</td>\n      <td>0.428571</td>\n    </tr>\n    <tr>\n      <td>322</td>\n      <td>Ritchie</td>\n      <td>50</td>\n      <td>a</td>\n      <td>3</td>\n      <td>74</td>\n      <td>1312</td>\n      <td>5.076220</td>\n      <td>4.1</td>\n      <td>0.820000</td>\n      <td>0.420000</td>\n    </tr>\n    <tr>\n      <td>250</td>\n      <td>van Dijk</td>\n      <td>65</td>\n      <td>a</td>\n      <td>2</td>\n      <td>178</td>\n      <td>3420</td>\n      <td>4.684211</td>\n      <td>4.7</td>\n      <td>0.723077</td>\n      <td>0.415385</td>\n    </tr>\n    <tr>\n      <td>254</td>\n      <td>Salah</td>\n      <td>120</td>\n      <td>a</td>\n      <td>3</td>\n      <td>233</td>\n      <td>2879</td>\n      <td>7.283779</td>\n      <td>6.9</td>\n      <td>0.575000</td>\n      <td>0.408333</td>\n    </tr>\n    <tr>\n      <td>443</td>\n      <td>Antonio</td>\n      <td>65</td>\n      <td>a</td>\n      <td>4</td>\n      <td>111</td>\n      <td>1767</td>\n      <td>5.653650</td>\n      <td>4.6</td>\n      <td>0.707692</td>\n      <td>0.400000</td>\n    </tr>\n    <tr>\n      <td>394</td>\n      <td>Son</td>\n      <td>90</td>\n      <td>a</td>\n      <td>3</td>\n      <td>169</td>\n      <td>2478</td>\n      <td>6.138015</td>\n      <td>5.6</td>\n      <td>0.622222</td>\n      <td>0.400000</td>\n    </tr>\n    <tr>\n      <td>356</td>\n      <td>Lundstram</td>\n      <td>55</td>\n      <td>a</td>\n      <td>3</td>\n      <td>144</td>\n      <td>2452</td>\n      <td>5.285481</td>\n      <td>4.2</td>\n      <td>0.763636</td>\n      <td>0.400000</td>\n    </tr>\n    <tr>\n      <td>201</td>\n      <td>Vardy</td>\n      <td>100</td>\n      <td>a</td>\n      <td>4</td>\n      <td>210</td>\n      <td>3032</td>\n      <td>6.233509</td>\n      <td>6.0</td>\n      <td>0.600000</td>\n      <td>0.400000</td>\n    </tr>\n    <tr>\n      <td>306</td>\n      <td>Rashford</td>\n      <td>95</td>\n      <td>a</td>\n      <td>3</td>\n      <td>177</td>\n      <td>2645</td>\n      <td>6.022684</td>\n      <td>5.7</td>\n      <td>0.600000</td>\n      <td>0.389474</td>\n    </tr>\n    <tr>\n      <td>275</td>\n      <td>Mahrez</td>\n      <td>85</td>\n      <td>a</td>\n      <td>3</td>\n      <td>175</td>\n      <td>1934</td>\n      <td>8.143744</td>\n      <td>5.3</td>\n      <td>0.623529</td>\n      <td>0.388235</td>\n    </tr>\n  </tbody>\n</table>\n</div>"
     },
     "metadata": {},
     "execution_count": 16
    }
   ],
   "source": [
    "top_players = all_players[['web_name' , 'now_cost', 'status' , 'player_type_id', 'total_points' , 'minutes' , 'PP90' , 'PPG' , 'PPMM' , 'VAPM']][all_players['minutes']>1000][all_players['status'] != \"i\"].sort_values(by='VAPM' , ascending = False).head(60)\n",
    "top_players.head(20)"
   ]
  },
  {
   "cell_type": "code",
   "execution_count": 17,
   "metadata": {},
   "outputs": [
    {
     "output_type": "execute_result",
     "data": {
      "text/plain": "      web_name  now_cost status  player_type_id  total_points  minutes  \\\n387     Lloris        55      a               1            98     1808   \n96        Pope        55      a               1           170     3420   \n305  Henderson        55      a               1           160     3240   \n\n         PP90  PPG      PPMM      VAPM  \n387  4.878319  4.7  0.854545  0.490909  \n96   4.473684  4.5  0.818182  0.454545  \n305  4.444444  4.4  0.800000  0.436364  ",
      "text/html": "<div>\n<style scoped>\n    .dataframe tbody tr th:only-of-type {\n        vertical-align: middle;\n    }\n\n    .dataframe tbody tr th {\n        vertical-align: top;\n    }\n\n    .dataframe thead th {\n        text-align: right;\n    }\n</style>\n<table border=\"1\" class=\"dataframe\">\n  <thead>\n    <tr style=\"text-align: right;\">\n      <th></th>\n      <th>web_name</th>\n      <th>now_cost</th>\n      <th>status</th>\n      <th>player_type_id</th>\n      <th>total_points</th>\n      <th>minutes</th>\n      <th>PP90</th>\n      <th>PPG</th>\n      <th>PPMM</th>\n      <th>VAPM</th>\n    </tr>\n  </thead>\n  <tbody>\n    <tr>\n      <td>387</td>\n      <td>Lloris</td>\n      <td>55</td>\n      <td>a</td>\n      <td>1</td>\n      <td>98</td>\n      <td>1808</td>\n      <td>4.878319</td>\n      <td>4.7</td>\n      <td>0.854545</td>\n      <td>0.490909</td>\n    </tr>\n    <tr>\n      <td>96</td>\n      <td>Pope</td>\n      <td>55</td>\n      <td>a</td>\n      <td>1</td>\n      <td>170</td>\n      <td>3420</td>\n      <td>4.473684</td>\n      <td>4.5</td>\n      <td>0.818182</td>\n      <td>0.454545</td>\n    </tr>\n    <tr>\n      <td>305</td>\n      <td>Henderson</td>\n      <td>55</td>\n      <td>a</td>\n      <td>1</td>\n      <td>160</td>\n      <td>3240</td>\n      <td>4.444444</td>\n      <td>4.4</td>\n      <td>0.800000</td>\n      <td>0.436364</td>\n    </tr>\n  </tbody>\n</table>\n</div>"
     },
     "metadata": {},
     "execution_count": 17
    }
   ],
   "source": [
    "top_players[top_players['player_type_id'] == 1].head(3)"
   ]
  },
  {
   "cell_type": "code",
   "execution_count": 18,
   "metadata": {},
   "outputs": [
    {
     "output_type": "execute_result",
     "data": {
      "text/plain": "             web_name  now_cost status  player_type_id  total_points  minutes  \\\n104            Alonso        60      a               2           100     1429   \n259  Alexander-Arnold        75      a               2           210     3173   \n464              Boly        55      a               2            97     1980   \n463           Doherty        60      a               2           167     2836   \n255         Robertson        70      a               2           181     3111   \n\n         PP90  PPG      PPMM      VAPM  \n104  6.298111  5.6  0.933333  0.600000  \n259  5.956508  5.5  0.733333  0.466667  \n464  4.409091  4.4  0.800000  0.436364  \n463  5.299718  4.6  0.766667  0.433333  \n255  5.236258  5.0  0.714286  0.428571  ",
      "text/html": "<div>\n<style scoped>\n    .dataframe tbody tr th:only-of-type {\n        vertical-align: middle;\n    }\n\n    .dataframe tbody tr th {\n        vertical-align: top;\n    }\n\n    .dataframe thead th {\n        text-align: right;\n    }\n</style>\n<table border=\"1\" class=\"dataframe\">\n  <thead>\n    <tr style=\"text-align: right;\">\n      <th></th>\n      <th>web_name</th>\n      <th>now_cost</th>\n      <th>status</th>\n      <th>player_type_id</th>\n      <th>total_points</th>\n      <th>minutes</th>\n      <th>PP90</th>\n      <th>PPG</th>\n      <th>PPMM</th>\n      <th>VAPM</th>\n    </tr>\n  </thead>\n  <tbody>\n    <tr>\n      <td>104</td>\n      <td>Alonso</td>\n      <td>60</td>\n      <td>a</td>\n      <td>2</td>\n      <td>100</td>\n      <td>1429</td>\n      <td>6.298111</td>\n      <td>5.6</td>\n      <td>0.933333</td>\n      <td>0.600000</td>\n    </tr>\n    <tr>\n      <td>259</td>\n      <td>Alexander-Arnold</td>\n      <td>75</td>\n      <td>a</td>\n      <td>2</td>\n      <td>210</td>\n      <td>3173</td>\n      <td>5.956508</td>\n      <td>5.5</td>\n      <td>0.733333</td>\n      <td>0.466667</td>\n    </tr>\n    <tr>\n      <td>464</td>\n      <td>Boly</td>\n      <td>55</td>\n      <td>a</td>\n      <td>2</td>\n      <td>97</td>\n      <td>1980</td>\n      <td>4.409091</td>\n      <td>4.4</td>\n      <td>0.800000</td>\n      <td>0.436364</td>\n    </tr>\n    <tr>\n      <td>463</td>\n      <td>Doherty</td>\n      <td>60</td>\n      <td>a</td>\n      <td>2</td>\n      <td>167</td>\n      <td>2836</td>\n      <td>5.299718</td>\n      <td>4.6</td>\n      <td>0.766667</td>\n      <td>0.433333</td>\n    </tr>\n    <tr>\n      <td>255</td>\n      <td>Robertson</td>\n      <td>70</td>\n      <td>a</td>\n      <td>2</td>\n      <td>181</td>\n      <td>3111</td>\n      <td>5.236258</td>\n      <td>5.0</td>\n      <td>0.714286</td>\n      <td>0.428571</td>\n    </tr>\n  </tbody>\n</table>\n</div>"
     },
     "metadata": {},
     "execution_count": 18
    }
   ],
   "source": [
    "top_players[top_players['player_type_id'] == 2].head(5)"
   ]
  },
  {
   "cell_type": "code",
   "execution_count": 19,
   "metadata": {},
   "outputs": [
    {
     "output_type": "execute_result",
     "data": {
      "text/plain": "      web_name  now_cost status  player_type_id  total_points  minutes  \\\n302  Fernandes       105      a               3           117     1187   \n272  De Bruyne       115      a               3           251     2790   \n322    Ritchie        50      a               3            74     1312   \n254      Salah       120      a               3           233     2879   \n394        Son        90      a               3           169     2478   \n\n         PP90  PPG      PPMM      VAPM  \n302  8.871104  8.4  0.800000  0.609524  \n272  8.096774  7.2  0.626087  0.452174  \n322  5.076220  4.1  0.820000  0.420000  \n254  7.283779  6.9  0.575000  0.408333  \n394  6.138015  5.6  0.622222  0.400000  ",
      "text/html": "<div>\n<style scoped>\n    .dataframe tbody tr th:only-of-type {\n        vertical-align: middle;\n    }\n\n    .dataframe tbody tr th {\n        vertical-align: top;\n    }\n\n    .dataframe thead th {\n        text-align: right;\n    }\n</style>\n<table border=\"1\" class=\"dataframe\">\n  <thead>\n    <tr style=\"text-align: right;\">\n      <th></th>\n      <th>web_name</th>\n      <th>now_cost</th>\n      <th>status</th>\n      <th>player_type_id</th>\n      <th>total_points</th>\n      <th>minutes</th>\n      <th>PP90</th>\n      <th>PPG</th>\n      <th>PPMM</th>\n      <th>VAPM</th>\n    </tr>\n  </thead>\n  <tbody>\n    <tr>\n      <td>302</td>\n      <td>Fernandes</td>\n      <td>105</td>\n      <td>a</td>\n      <td>3</td>\n      <td>117</td>\n      <td>1187</td>\n      <td>8.871104</td>\n      <td>8.4</td>\n      <td>0.800000</td>\n      <td>0.609524</td>\n    </tr>\n    <tr>\n      <td>272</td>\n      <td>De Bruyne</td>\n      <td>115</td>\n      <td>a</td>\n      <td>3</td>\n      <td>251</td>\n      <td>2790</td>\n      <td>8.096774</td>\n      <td>7.2</td>\n      <td>0.626087</td>\n      <td>0.452174</td>\n    </tr>\n    <tr>\n      <td>322</td>\n      <td>Ritchie</td>\n      <td>50</td>\n      <td>a</td>\n      <td>3</td>\n      <td>74</td>\n      <td>1312</td>\n      <td>5.076220</td>\n      <td>4.1</td>\n      <td>0.820000</td>\n      <td>0.420000</td>\n    </tr>\n    <tr>\n      <td>254</td>\n      <td>Salah</td>\n      <td>120</td>\n      <td>a</td>\n      <td>3</td>\n      <td>233</td>\n      <td>2879</td>\n      <td>7.283779</td>\n      <td>6.9</td>\n      <td>0.575000</td>\n      <td>0.408333</td>\n    </tr>\n    <tr>\n      <td>394</td>\n      <td>Son</td>\n      <td>90</td>\n      <td>a</td>\n      <td>3</td>\n      <td>169</td>\n      <td>2478</td>\n      <td>6.138015</td>\n      <td>5.6</td>\n      <td>0.622222</td>\n      <td>0.400000</td>\n    </tr>\n  </tbody>\n</table>\n</div>"
     },
     "metadata": {},
     "execution_count": 19
    }
   ],
   "source": [
    "top_players[top_players['player_type_id'] == 3].head(5)"
   ]
  },
  {
   "cell_type": "code",
   "execution_count": 20,
   "metadata": {},
   "outputs": [
    {
     "output_type": "execute_result",
     "data": {
      "text/plain": "    web_name  now_cost status  player_type_id  total_points  minutes  \\\n303  Martial        90      a               4           200     2625   \n443  Antonio        65      a               4           111     1767   \n201    Vardy       100      a               4           210     3032   \n\n         PP90  PPG      PPMM      VAPM  \n303  6.857143  6.2  0.688889  0.466667  \n443  5.653650  4.6  0.707692  0.400000  \n201  6.233509  6.0  0.600000  0.400000  ",
      "text/html": "<div>\n<style scoped>\n    .dataframe tbody tr th:only-of-type {\n        vertical-align: middle;\n    }\n\n    .dataframe tbody tr th {\n        vertical-align: top;\n    }\n\n    .dataframe thead th {\n        text-align: right;\n    }\n</style>\n<table border=\"1\" class=\"dataframe\">\n  <thead>\n    <tr style=\"text-align: right;\">\n      <th></th>\n      <th>web_name</th>\n      <th>now_cost</th>\n      <th>status</th>\n      <th>player_type_id</th>\n      <th>total_points</th>\n      <th>minutes</th>\n      <th>PP90</th>\n      <th>PPG</th>\n      <th>PPMM</th>\n      <th>VAPM</th>\n    </tr>\n  </thead>\n  <tbody>\n    <tr>\n      <td>303</td>\n      <td>Martial</td>\n      <td>90</td>\n      <td>a</td>\n      <td>4</td>\n      <td>200</td>\n      <td>2625</td>\n      <td>6.857143</td>\n      <td>6.2</td>\n      <td>0.688889</td>\n      <td>0.466667</td>\n    </tr>\n    <tr>\n      <td>443</td>\n      <td>Antonio</td>\n      <td>65</td>\n      <td>a</td>\n      <td>4</td>\n      <td>111</td>\n      <td>1767</td>\n      <td>5.653650</td>\n      <td>4.6</td>\n      <td>0.707692</td>\n      <td>0.400000</td>\n    </tr>\n    <tr>\n      <td>201</td>\n      <td>Vardy</td>\n      <td>100</td>\n      <td>a</td>\n      <td>4</td>\n      <td>210</td>\n      <td>3032</td>\n      <td>6.233509</td>\n      <td>6.0</td>\n      <td>0.600000</td>\n      <td>0.400000</td>\n    </tr>\n  </tbody>\n</table>\n</div>"
     },
     "metadata": {},
     "execution_count": 20
    }
   ],
   "source": [
    "top_players[top_players['player_type_id'] == 4].head(3)"
   ]
  },
  {
   "cell_type": "code",
   "execution_count": 21,
   "metadata": {
    "tags": []
   },
   "outputs": [
    {
     "output_type": "stream",
     "name": "stdout",
     "text": "Price for the best team is 85.5\n"
    }
   ],
   "source": [
    "price_gk = top_players['now_cost'][top_players['player_type_id'] == 1].head(1).sum()\n",
    "price_def = top_players['now_cost'][top_players['player_type_id'] == 2].head(5).sum()\n",
    "price_mid = top_players['now_cost'][top_players['player_type_id'] == 3].head(4).sum()\n",
    "price_fwd = top_players['now_cost'][top_players['player_type_id'] == 4].head(1).sum()\n",
    "\n",
    "\n",
    "team_cost = price_gk + price_def + price_mid + price_fwd\n",
    "print(\"Price for the best team is \" + str(np.divide(team_cost,10)))"
   ]
  },
  {
   "cell_type": "code",
   "execution_count": 81,
   "metadata": {},
   "outputs": [],
   "source": [
    "def player_value():\n",
    "\n",
    "    fig = px.scatter(\n",
    "        top_players, \n",
    "        x = 'now_cost', \n",
    "        y = 'VAPM',\n",
    "        size = 'minutes',\n",
    "        text = 'web_name',\n",
    "        hover_data=['PPG'])\n",
    "\n",
    "    fig.show()"
   ]
  },
  {
   "cell_type": "code",
   "execution_count": 82,
   "metadata": {},
   "outputs": [
    {
     "output_type": "display_data",
     "data": {
      "application/vnd.plotly.v1+json": {
       "config": {
        "plotlyServerURL": "https://plot.ly"
       },
       "data": [
        {
         "customdata": [
          [
           5.6
          ],
          [
           4.7
          ],
          [
           5.5
          ],
          [
           6.2
          ],
          [
           4.5
          ],
          [
           4.4
          ],
          [
           4.4
          ],
          [
           4.6
          ],
          [
           5
          ],
          [
           4.1
          ],
          [
           4.7
          ],
          [
           4.4
          ],
          [
           4.2
          ],
          [
           5.6
          ],
          [
           4.6
          ],
          [
           4.2
          ],
          [
           6
          ],
          [
           5.7
          ],
          [
           5.3
          ],
          [
           4.1
          ],
          [
           3.9
          ],
          [
           3.7
          ],
          [
           3.7
          ],
          [
           5.2
          ],
          [
           4.2
          ],
          [
           4.2
          ],
          [
           5.1
          ],
          [
           5.1
          ],
          [
           4
          ],
          [
           4
          ],
          [
           3.8
          ],
          [
           3.8
          ],
          [
           3.6
          ],
          [
           3.9
          ],
          [
           3.7
          ],
          [
           4.2
          ],
          [
           4.7
          ],
          [
           4.7
          ],
          [
           3.5
          ],
          [
           3.5
          ],
          [
           4.5
          ],
          [
           3.8
          ],
          [
           3.8
          ],
          [
           3.8
          ],
          [
           3.8
          ],
          [
           4.6
          ],
          [
           3.6
          ],
          [
           3.9
          ],
          [
           3.9
          ],
          [
           3.4
          ],
          [
           3.7
          ],
          [
           3.7
          ],
          [
           3.8
          ],
          [
           4.1
          ],
          [
           3.9
          ],
          [
           3.6
          ],
          [
           4
          ],
          [
           3.4
          ],
          [
           3.4
          ],
          [
           3.4
          ]
         ],
         "hovertemplate": "now_cost=%{x}<br>VAPM=%{y}<br>minutes=%{marker.size}<br>PPG=%{customdata[0]}<br>web_name=%{text}<extra></extra>",
         "legendgroup": "",
         "marker": {
          "color": "#636efa",
          "size": [
           1429,
           1808,
           3173,
           2625,
           3420,
           3240,
           1980,
           2836,
           3111,
           1312,
           3420,
           2520,
           2374,
           2478,
           1767,
           2452,
           3032,
           2645,
           1934,
           3420,
           3150,
           2520,
           1890,
           2800,
           1096,
           2543,
           1717,
           3241,
           3420,
           2118,
           2649,
           3420,
           3420,
           2234,
           3187,
           2436,
           2595,
           1845,
           1944,
           1186,
           2206,
           3420,
           2699,
           3420,
           2507,
           3070,
           3230,
           2392,
           1491,
           1547,
           3420,
           3345,
           3071,
           3233,
           1998,
           3070,
           2624,
           2915,
           2880,
           1710
          ],
          "sizemode": "area",
          "sizeref": 8.55,
          "symbol": "circle"
         },
         "mode": "markers+text",
         "name": "",
         "showlegend": false,
         "text": [
          "Alonso",
          "Lloris",
          "Alexander-Arnold",
          "Martial",
          "Pope",
          "Henderson",
          "Boly",
          "Doherty",
          "Robertson",
          "Ritchie",
          "van Dijk",
          "Pereira",
          "Chilwell",
          "Son",
          "Antonio",
          "Lundstram",
          "Vardy",
          "Rashford",
          "Mahrez",
          "Schmeichel",
          "Guaita",
          "McCarthy",
          "Bardsley",
          "Ings",
          "Laporte",
          "Alisson",
          "Pulisic",
          "Jiménez",
          "Patrício",
          "Shelvey",
          "Leno",
          "Dubravka",
          "Ryan",
          "Henderson",
          "Egan",
          "Wood",
          "Willian",
          "Alli",
          "Taylor",
          "Clark",
          "Abraham",
          "Tarkowski",
          "Aurier",
          "de Gea",
          "van Aanholt",
          "Richarlison",
          "Dunk",
          "Walker",
          "Mendy",
          "Kelly",
          "Baldock",
          "Stevens",
          "Ederson",
          "Grealish",
          "Pérez",
          "Wan-Bissaka",
          "Maddison",
          "O'Connell",
          "Mee",
          "Otamendi"
         ],
         "type": "scatter",
         "x": [
          60,
          55,
          75,
          90,
          55,
          55,
          55,
          60,
          70,
          50,
          65,
          60,
          55,
          90,
          65,
          55,
          100,
          95,
          85,
          55,
          50,
          45,
          45,
          85,
          60,
          60,
          85,
          85,
          55,
          55,
          50,
          50,
          45,
          55,
          50,
          65,
          80,
          80,
          45,
          45,
          75,
          55,
          55,
          55,
          55,
          80,
          50,
          60,
          60,
          45,
          55,
          55,
          60,
          70,
          65,
          55,
          70,
          50,
          50,
          50
         ],
         "xaxis": "x",
         "y": [
          0.6,
          0.490909090909091,
          0.4666666666666667,
          0.4666666666666667,
          0.4545454545454545,
          0.4363636363636365,
          0.4363636363636365,
          0.4333333333333333,
          0.42857142857142855,
          0.4199999999999999,
          0.4153846153846154,
          0.4000000000000001,
          0.4,
          0.4,
          0.4,
          0.4,
          0.4,
          0.3894736842105264,
          0.388235294117647,
          0.3818181818181818,
          0.38,
          0.3777777777777778,
          0.3777777777777778,
          0.3764705882352941,
          0.3666666666666667,
          0.3666666666666667,
          0.3647058823529412,
          0.3647058823529412,
          0.3636363636363637,
          0.3636363636363637,
          0.36,
          0.36,
          0.3555555555555556,
          0.34545454545454546,
          0.34,
          0.3384615384615385,
          0.3375,
          0.3375,
          0.3333333333333333,
          0.3333333333333333,
          0.3333333333333333,
          0.3272727272727272,
          0.3272727272727272,
          0.3272727272727272,
          0.3272727272727272,
          0.325,
          0.32,
          0.31666666666666665,
          0.31666666666666665,
          0.3111111111111111,
          0.30909090909090914,
          0.30909090909090914,
          0.3,
          0.29999999999999993,
          0.2923076923076923,
          0.2909090909090909,
          0.2857142857142857,
          0.28,
          0.28,
          0.28
         ],
         "yaxis": "y"
        }
       ],
       "layout": {
        "legend": {
         "itemsizing": "constant",
         "tracegroupgap": 0
        },
        "margin": {
         "t": 60
        },
        "template": {
         "data": {
          "bar": [
           {
            "error_x": {
             "color": "#2a3f5f"
            },
            "error_y": {
             "color": "#2a3f5f"
            },
            "marker": {
             "line": {
              "color": "#E5ECF6",
              "width": 0.5
             }
            },
            "type": "bar"
           }
          ],
          "barpolar": [
           {
            "marker": {
             "line": {
              "color": "#E5ECF6",
              "width": 0.5
             }
            },
            "type": "barpolar"
           }
          ],
          "carpet": [
           {
            "aaxis": {
             "endlinecolor": "#2a3f5f",
             "gridcolor": "white",
             "linecolor": "white",
             "minorgridcolor": "white",
             "startlinecolor": "#2a3f5f"
            },
            "baxis": {
             "endlinecolor": "#2a3f5f",
             "gridcolor": "white",
             "linecolor": "white",
             "minorgridcolor": "white",
             "startlinecolor": "#2a3f5f"
            },
            "type": "carpet"
           }
          ],
          "choropleth": [
           {
            "colorbar": {
             "outlinewidth": 0,
             "ticks": ""
            },
            "type": "choropleth"
           }
          ],
          "contour": [
           {
            "colorbar": {
             "outlinewidth": 0,
             "ticks": ""
            },
            "colorscale": [
             [
              0,
              "#0d0887"
             ],
             [
              0.1111111111111111,
              "#46039f"
             ],
             [
              0.2222222222222222,
              "#7201a8"
             ],
             [
              0.3333333333333333,
              "#9c179e"
             ],
             [
              0.4444444444444444,
              "#bd3786"
             ],
             [
              0.5555555555555556,
              "#d8576b"
             ],
             [
              0.6666666666666666,
              "#ed7953"
             ],
             [
              0.7777777777777778,
              "#fb9f3a"
             ],
             [
              0.8888888888888888,
              "#fdca26"
             ],
             [
              1,
              "#f0f921"
             ]
            ],
            "type": "contour"
           }
          ],
          "contourcarpet": [
           {
            "colorbar": {
             "outlinewidth": 0,
             "ticks": ""
            },
            "type": "contourcarpet"
           }
          ],
          "heatmap": [
           {
            "colorbar": {
             "outlinewidth": 0,
             "ticks": ""
            },
            "colorscale": [
             [
              0,
              "#0d0887"
             ],
             [
              0.1111111111111111,
              "#46039f"
             ],
             [
              0.2222222222222222,
              "#7201a8"
             ],
             [
              0.3333333333333333,
              "#9c179e"
             ],
             [
              0.4444444444444444,
              "#bd3786"
             ],
             [
              0.5555555555555556,
              "#d8576b"
             ],
             [
              0.6666666666666666,
              "#ed7953"
             ],
             [
              0.7777777777777778,
              "#fb9f3a"
             ],
             [
              0.8888888888888888,
              "#fdca26"
             ],
             [
              1,
              "#f0f921"
             ]
            ],
            "type": "heatmap"
           }
          ],
          "heatmapgl": [
           {
            "colorbar": {
             "outlinewidth": 0,
             "ticks": ""
            },
            "colorscale": [
             [
              0,
              "#0d0887"
             ],
             [
              0.1111111111111111,
              "#46039f"
             ],
             [
              0.2222222222222222,
              "#7201a8"
             ],
             [
              0.3333333333333333,
              "#9c179e"
             ],
             [
              0.4444444444444444,
              "#bd3786"
             ],
             [
              0.5555555555555556,
              "#d8576b"
             ],
             [
              0.6666666666666666,
              "#ed7953"
             ],
             [
              0.7777777777777778,
              "#fb9f3a"
             ],
             [
              0.8888888888888888,
              "#fdca26"
             ],
             [
              1,
              "#f0f921"
             ]
            ],
            "type": "heatmapgl"
           }
          ],
          "histogram": [
           {
            "marker": {
             "colorbar": {
              "outlinewidth": 0,
              "ticks": ""
             }
            },
            "type": "histogram"
           }
          ],
          "histogram2d": [
           {
            "colorbar": {
             "outlinewidth": 0,
             "ticks": ""
            },
            "colorscale": [
             [
              0,
              "#0d0887"
             ],
             [
              0.1111111111111111,
              "#46039f"
             ],
             [
              0.2222222222222222,
              "#7201a8"
             ],
             [
              0.3333333333333333,
              "#9c179e"
             ],
             [
              0.4444444444444444,
              "#bd3786"
             ],
             [
              0.5555555555555556,
              "#d8576b"
             ],
             [
              0.6666666666666666,
              "#ed7953"
             ],
             [
              0.7777777777777778,
              "#fb9f3a"
             ],
             [
              0.8888888888888888,
              "#fdca26"
             ],
             [
              1,
              "#f0f921"
             ]
            ],
            "type": "histogram2d"
           }
          ],
          "histogram2dcontour": [
           {
            "colorbar": {
             "outlinewidth": 0,
             "ticks": ""
            },
            "colorscale": [
             [
              0,
              "#0d0887"
             ],
             [
              0.1111111111111111,
              "#46039f"
             ],
             [
              0.2222222222222222,
              "#7201a8"
             ],
             [
              0.3333333333333333,
              "#9c179e"
             ],
             [
              0.4444444444444444,
              "#bd3786"
             ],
             [
              0.5555555555555556,
              "#d8576b"
             ],
             [
              0.6666666666666666,
              "#ed7953"
             ],
             [
              0.7777777777777778,
              "#fb9f3a"
             ],
             [
              0.8888888888888888,
              "#fdca26"
             ],
             [
              1,
              "#f0f921"
             ]
            ],
            "type": "histogram2dcontour"
           }
          ],
          "mesh3d": [
           {
            "colorbar": {
             "outlinewidth": 0,
             "ticks": ""
            },
            "type": "mesh3d"
           }
          ],
          "parcoords": [
           {
            "line": {
             "colorbar": {
              "outlinewidth": 0,
              "ticks": ""
             }
            },
            "type": "parcoords"
           }
          ],
          "pie": [
           {
            "automargin": true,
            "type": "pie"
           }
          ],
          "scatter": [
           {
            "marker": {
             "colorbar": {
              "outlinewidth": 0,
              "ticks": ""
             }
            },
            "type": "scatter"
           }
          ],
          "scatter3d": [
           {
            "line": {
             "colorbar": {
              "outlinewidth": 0,
              "ticks": ""
             }
            },
            "marker": {
             "colorbar": {
              "outlinewidth": 0,
              "ticks": ""
             }
            },
            "type": "scatter3d"
           }
          ],
          "scattercarpet": [
           {
            "marker": {
             "colorbar": {
              "outlinewidth": 0,
              "ticks": ""
             }
            },
            "type": "scattercarpet"
           }
          ],
          "scattergeo": [
           {
            "marker": {
             "colorbar": {
              "outlinewidth": 0,
              "ticks": ""
             }
            },
            "type": "scattergeo"
           }
          ],
          "scattergl": [
           {
            "marker": {
             "colorbar": {
              "outlinewidth": 0,
              "ticks": ""
             }
            },
            "type": "scattergl"
           }
          ],
          "scattermapbox": [
           {
            "marker": {
             "colorbar": {
              "outlinewidth": 0,
              "ticks": ""
             }
            },
            "type": "scattermapbox"
           }
          ],
          "scatterpolar": [
           {
            "marker": {
             "colorbar": {
              "outlinewidth": 0,
              "ticks": ""
             }
            },
            "type": "scatterpolar"
           }
          ],
          "scatterpolargl": [
           {
            "marker": {
             "colorbar": {
              "outlinewidth": 0,
              "ticks": ""
             }
            },
            "type": "scatterpolargl"
           }
          ],
          "scatterternary": [
           {
            "marker": {
             "colorbar": {
              "outlinewidth": 0,
              "ticks": ""
             }
            },
            "type": "scatterternary"
           }
          ],
          "surface": [
           {
            "colorbar": {
             "outlinewidth": 0,
             "ticks": ""
            },
            "colorscale": [
             [
              0,
              "#0d0887"
             ],
             [
              0.1111111111111111,
              "#46039f"
             ],
             [
              0.2222222222222222,
              "#7201a8"
             ],
             [
              0.3333333333333333,
              "#9c179e"
             ],
             [
              0.4444444444444444,
              "#bd3786"
             ],
             [
              0.5555555555555556,
              "#d8576b"
             ],
             [
              0.6666666666666666,
              "#ed7953"
             ],
             [
              0.7777777777777778,
              "#fb9f3a"
             ],
             [
              0.8888888888888888,
              "#fdca26"
             ],
             [
              1,
              "#f0f921"
             ]
            ],
            "type": "surface"
           }
          ],
          "table": [
           {
            "cells": {
             "fill": {
              "color": "#EBF0F8"
             },
             "line": {
              "color": "white"
             }
            },
            "header": {
             "fill": {
              "color": "#C8D4E3"
             },
             "line": {
              "color": "white"
             }
            },
            "type": "table"
           }
          ]
         },
         "layout": {
          "annotationdefaults": {
           "arrowcolor": "#2a3f5f",
           "arrowhead": 0,
           "arrowwidth": 1
          },
          "coloraxis": {
           "colorbar": {
            "outlinewidth": 0,
            "ticks": ""
           }
          },
          "colorscale": {
           "diverging": [
            [
             0,
             "#8e0152"
            ],
            [
             0.1,
             "#c51b7d"
            ],
            [
             0.2,
             "#de77ae"
            ],
            [
             0.3,
             "#f1b6da"
            ],
            [
             0.4,
             "#fde0ef"
            ],
            [
             0.5,
             "#f7f7f7"
            ],
            [
             0.6,
             "#e6f5d0"
            ],
            [
             0.7,
             "#b8e186"
            ],
            [
             0.8,
             "#7fbc41"
            ],
            [
             0.9,
             "#4d9221"
            ],
            [
             1,
             "#276419"
            ]
           ],
           "sequential": [
            [
             0,
             "#0d0887"
            ],
            [
             0.1111111111111111,
             "#46039f"
            ],
            [
             0.2222222222222222,
             "#7201a8"
            ],
            [
             0.3333333333333333,
             "#9c179e"
            ],
            [
             0.4444444444444444,
             "#bd3786"
            ],
            [
             0.5555555555555556,
             "#d8576b"
            ],
            [
             0.6666666666666666,
             "#ed7953"
            ],
            [
             0.7777777777777778,
             "#fb9f3a"
            ],
            [
             0.8888888888888888,
             "#fdca26"
            ],
            [
             1,
             "#f0f921"
            ]
           ],
           "sequentialminus": [
            [
             0,
             "#0d0887"
            ],
            [
             0.1111111111111111,
             "#46039f"
            ],
            [
             0.2222222222222222,
             "#7201a8"
            ],
            [
             0.3333333333333333,
             "#9c179e"
            ],
            [
             0.4444444444444444,
             "#bd3786"
            ],
            [
             0.5555555555555556,
             "#d8576b"
            ],
            [
             0.6666666666666666,
             "#ed7953"
            ],
            [
             0.7777777777777778,
             "#fb9f3a"
            ],
            [
             0.8888888888888888,
             "#fdca26"
            ],
            [
             1,
             "#f0f921"
            ]
           ]
          },
          "colorway": [
           "#636efa",
           "#EF553B",
           "#00cc96",
           "#ab63fa",
           "#FFA15A",
           "#19d3f3",
           "#FF6692",
           "#B6E880",
           "#FF97FF",
           "#FECB52"
          ],
          "font": {
           "color": "#2a3f5f"
          },
          "geo": {
           "bgcolor": "white",
           "lakecolor": "white",
           "landcolor": "#E5ECF6",
           "showlakes": true,
           "showland": true,
           "subunitcolor": "white"
          },
          "hoverlabel": {
           "align": "left"
          },
          "hovermode": "closest",
          "mapbox": {
           "style": "light"
          },
          "paper_bgcolor": "white",
          "plot_bgcolor": "#E5ECF6",
          "polar": {
           "angularaxis": {
            "gridcolor": "white",
            "linecolor": "white",
            "ticks": ""
           },
           "bgcolor": "#E5ECF6",
           "radialaxis": {
            "gridcolor": "white",
            "linecolor": "white",
            "ticks": ""
           }
          },
          "scene": {
           "xaxis": {
            "backgroundcolor": "#E5ECF6",
            "gridcolor": "white",
            "gridwidth": 2,
            "linecolor": "white",
            "showbackground": true,
            "ticks": "",
            "zerolinecolor": "white"
           },
           "yaxis": {
            "backgroundcolor": "#E5ECF6",
            "gridcolor": "white",
            "gridwidth": 2,
            "linecolor": "white",
            "showbackground": true,
            "ticks": "",
            "zerolinecolor": "white"
           },
           "zaxis": {
            "backgroundcolor": "#E5ECF6",
            "gridcolor": "white",
            "gridwidth": 2,
            "linecolor": "white",
            "showbackground": true,
            "ticks": "",
            "zerolinecolor": "white"
           }
          },
          "shapedefaults": {
           "line": {
            "color": "#2a3f5f"
           }
          },
          "ternary": {
           "aaxis": {
            "gridcolor": "white",
            "linecolor": "white",
            "ticks": ""
           },
           "baxis": {
            "gridcolor": "white",
            "linecolor": "white",
            "ticks": ""
           },
           "bgcolor": "#E5ECF6",
           "caxis": {
            "gridcolor": "white",
            "linecolor": "white",
            "ticks": ""
           }
          },
          "title": {
           "x": 0.05
          },
          "xaxis": {
           "automargin": true,
           "gridcolor": "white",
           "linecolor": "white",
           "ticks": "",
           "title": {
            "standoff": 15
           },
           "zerolinecolor": "white",
           "zerolinewidth": 2
          },
          "yaxis": {
           "automargin": true,
           "gridcolor": "white",
           "linecolor": "white",
           "ticks": "",
           "title": {
            "standoff": 15
           },
           "zerolinecolor": "white",
           "zerolinewidth": 2
          }
         }
        },
        "xaxis": {
         "anchor": "y",
         "domain": [
          0,
          1
         ],
         "title": {
          "text": "now_cost"
         }
        },
        "yaxis": {
         "anchor": "x",
         "domain": [
          0,
          1
         ],
         "title": {
          "text": "VAPM"
         }
        }
       }
      }
     },
     "metadata": {}
    }
   ],
   "source": [
    "player_value()"
   ]
  },
  {
   "cell_type": "code",
   "execution_count": null,
   "metadata": {},
   "outputs": [],
   "source": []
  }
 ]
}