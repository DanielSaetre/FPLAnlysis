{
 "metadata": {
  "language_info": {
   "codemirror_mode": {
    "name": "ipython",
    "version": 3
   },
   "file_extension": ".py",
   "mimetype": "text/x-python",
   "name": "python",
   "nbconvert_exporter": "python",
   "pygments_lexer": "ipython3",
   "version": "3.8.3-final"
  },
  "orig_nbformat": 2,
  "kernelspec": {
   "name": "python_defaultSpec_1600881726977",
   "display_name": "Python 3.7.4 64-bit ('base': conda)"
  }
 },
 "nbformat": 4,
 "nbformat_minor": 2,
 "cells": [
  {
   "cell_type": "code",
   "execution_count": 24,
   "metadata": {},
   "outputs": [],
   "source": [
    "import numpy as np\n",
    "import pandas as pd\n",
    "import seaborn as sns\n",
    "import scipy\n",
    "\n",
    "import matplotlib.pyplot as plt\n",
    "import matplotlib.ticker as ticker\n",
    "\n",
    "import plotly.express as px\n",
    "\n",
    "from datetime import datetime\n",
    "from scipy import stats\n",
    "\n",
    "#Set Display options\n",
    "pd.set_option('display.max_rows', 50)\n",
    "pd.set_option('display.max_columns', 50)"
   ]
  },
  {
   "cell_type": "code",
   "execution_count": 25,
   "metadata": {},
   "outputs": [],
   "source": [
    "#Pick Season\n",
    "season = \"2020-21\"\n",
    "\n",
    "#Import Files\n",
    "all_players = pd.read_csv (r'./data/' + season + '/Cleaned_data/all_players.csv', parse_dates= [\"news_added\"])\n",
    "all_teams = pd.read_csv (r'./data/' + season + '/Cleaned_data/all_teams.csv')\n",
    "all_events = pd.read_csv (r'./data/' + season + '/Cleaned_data/all_events.csv', parse_dates= [\"deadline_time\"])\n",
    "player_types = pd.read_csv(r'./data/' + season + '/Cleaned_data/player_types.csv')\n",
    "game_phases = pd.read_csv(r'./data/' + season + '/Cleaned_data/game_phases.csv')\n",
    "\n",
    "player_season_history = pd.read_csv(r'./data/' + season + '/Cleaned_data/player_season_history.csv')\n",
    "player_gameweek_history = pd.read_csv(r'./data/' + season + '/Cleaned_data/player_gameweek_history.csv')\n",
    "#player_gameweek_history = pd.read_csv(r'./data/2019-20/player_past_history/player_gameweek_history_raw.csv')\n",
    "player_future_fixture = pd.read_csv(r'./data/' + season + '/Cleaned_data/player_future_fixture.csv', parse_dates = [\"kickoff_time\"])\n",
    "\n"
   ]
  },
  {
   "cell_type": "code",
   "execution_count": 26,
   "metadata": {},
   "outputs": [
    {
     "output_type": "execute_result",
     "data": {
      "text/plain": "   fixture_id  fixture_code  home_team_id  team_h_score  away_team_id  \\\n0          23       2128310            11           NaN             1   \n1          29       2128316             1           NaN            15   \n2          44       2128331            12           NaN             1   \n3          49       2128336             1           NaN             9   \n4          64       2128351            13           NaN             1   \n\n   team_a_score  event  finished  minutes  provisional_start_time  \\\n0           NaN    3.0     False        0                   False   \n1           NaN    4.0     False        0                   False   \n2           NaN    5.0     False        0                   False   \n3           NaN    6.0     False        0                   False   \n4           NaN    7.0     False        0                   False   \n\n         kickoff_time  event_name  is_home  difficulty  player_id  \\\n0 2020-09-28 19:00:00  Gameweek 3    False           5          1   \n1 2020-10-04 13:00:00  Gameweek 4     True           3          1   \n2 2020-10-17 14:00:00  Gameweek 5    False           5          1   \n3 2020-10-24 14:00:00  Gameweek 6     True           3          1   \n4 2020-10-31 15:00:00  Gameweek 7    False           4          1   \n\n   opponent_team_id  team_id  \n0                11        1  \n1                15        1  \n2                12        1  \n3                 9        1  \n4                13        1  ",
      "text/html": "<div>\n<style scoped>\n    .dataframe tbody tr th:only-of-type {\n        vertical-align: middle;\n    }\n\n    .dataframe tbody tr th {\n        vertical-align: top;\n    }\n\n    .dataframe thead th {\n        text-align: right;\n    }\n</style>\n<table border=\"1\" class=\"dataframe\">\n  <thead>\n    <tr style=\"text-align: right;\">\n      <th></th>\n      <th>fixture_id</th>\n      <th>fixture_code</th>\n      <th>home_team_id</th>\n      <th>team_h_score</th>\n      <th>away_team_id</th>\n      <th>team_a_score</th>\n      <th>event</th>\n      <th>finished</th>\n      <th>minutes</th>\n      <th>provisional_start_time</th>\n      <th>kickoff_time</th>\n      <th>event_name</th>\n      <th>is_home</th>\n      <th>difficulty</th>\n      <th>player_id</th>\n      <th>opponent_team_id</th>\n      <th>team_id</th>\n    </tr>\n  </thead>\n  <tbody>\n    <tr>\n      <th>0</th>\n      <td>23</td>\n      <td>2128310</td>\n      <td>11</td>\n      <td>NaN</td>\n      <td>1</td>\n      <td>NaN</td>\n      <td>3.0</td>\n      <td>False</td>\n      <td>0</td>\n      <td>False</td>\n      <td>2020-09-28 19:00:00</td>\n      <td>Gameweek 3</td>\n      <td>False</td>\n      <td>5</td>\n      <td>1</td>\n      <td>11</td>\n      <td>1</td>\n    </tr>\n    <tr>\n      <th>1</th>\n      <td>29</td>\n      <td>2128316</td>\n      <td>1</td>\n      <td>NaN</td>\n      <td>15</td>\n      <td>NaN</td>\n      <td>4.0</td>\n      <td>False</td>\n      <td>0</td>\n      <td>False</td>\n      <td>2020-10-04 13:00:00</td>\n      <td>Gameweek 4</td>\n      <td>True</td>\n      <td>3</td>\n      <td>1</td>\n      <td>15</td>\n      <td>1</td>\n    </tr>\n    <tr>\n      <th>2</th>\n      <td>44</td>\n      <td>2128331</td>\n      <td>12</td>\n      <td>NaN</td>\n      <td>1</td>\n      <td>NaN</td>\n      <td>5.0</td>\n      <td>False</td>\n      <td>0</td>\n      <td>False</td>\n      <td>2020-10-17 14:00:00</td>\n      <td>Gameweek 5</td>\n      <td>False</td>\n      <td>5</td>\n      <td>1</td>\n      <td>12</td>\n      <td>1</td>\n    </tr>\n    <tr>\n      <th>3</th>\n      <td>49</td>\n      <td>2128336</td>\n      <td>1</td>\n      <td>NaN</td>\n      <td>9</td>\n      <td>NaN</td>\n      <td>6.0</td>\n      <td>False</td>\n      <td>0</td>\n      <td>False</td>\n      <td>2020-10-24 14:00:00</td>\n      <td>Gameweek 6</td>\n      <td>True</td>\n      <td>3</td>\n      <td>1</td>\n      <td>9</td>\n      <td>1</td>\n    </tr>\n    <tr>\n      <th>4</th>\n      <td>64</td>\n      <td>2128351</td>\n      <td>13</td>\n      <td>NaN</td>\n      <td>1</td>\n      <td>NaN</td>\n      <td>7.0</td>\n      <td>False</td>\n      <td>0</td>\n      <td>False</td>\n      <td>2020-10-31 15:00:00</td>\n      <td>Gameweek 7</td>\n      <td>False</td>\n      <td>4</td>\n      <td>1</td>\n      <td>13</td>\n      <td>1</td>\n    </tr>\n  </tbody>\n</table>\n</div>"
     },
     "metadata": {},
     "execution_count": 26
    }
   ],
   "source": [
    "player_future_fixture.head()"
   ]
  },
  {
   "cell_type": "code",
   "execution_count": 27,
   "metadata": {},
   "outputs": [],
   "source": [
    "def player_future(player_id):\n",
    "    data = player_future_fixture[player_future_fixture.player_id == player_id]\n",
    "\n",
    "    player = all_players[all_players.player_id == player_id]\n",
    "    team = data.team_id.iloc[0]\n",
    "    goals_scored = player.iloc[0].goals_scored\n",
    "    player_name = player.iloc[0]['web_name']\n",
    "\n",
    "    fig = px.line(\n",
    "        data, \n",
    "        x = 'event_name', \n",
    "        y = 'difficulty', \n",
    "        title = player_name,\n",
    "        hover_data=['is_home'])\n",
    "\n",
    "    fig.show()"
   ]
  },
  {
   "cell_type": "code",
   "execution_count": 28,
   "metadata": {},
   "outputs": [
    {
     "output_type": "display_data",
     "data": {
      "application/vnd.plotly.v1+json": {
       "config": {
        "plotlyServerURL": "https://plot.ly"
       },
       "data": [
        {
         "customdata": [
          [
           false
          ],
          [
           true
          ],
          [
           true
          ],
          [
           false
          ],
          [
           false
          ],
          [
           true
          ],
          [
           false
          ],
          [
           true
          ],
          [
           false
          ],
          [
           true
          ],
          [
           false
          ],
          [
           true
          ],
          [
           false
          ],
          [
           true
          ],
          [
           true
          ],
          [
           false
          ],
          [
           false
          ],
          [
           true
          ],
          [
           true
          ],
          [
           false
          ],
          [
           false
          ],
          [
           true
          ],
          [
           false
          ],
          [
           true
          ],
          [
           false
          ],
          [
           true
          ],
          [
           false
          ],
          [
           true
          ],
          [
           false
          ],
          [
           true
          ],
          [
           false
          ],
          [
           true
          ],
          [
           false
          ],
          [
           true
          ],
          [
           true
          ],
          [
           false
          ]
         ],
         "hovertemplate": "event_name=%{x}<br>difficulty=%{y}<br>is_home=%{customdata[0]}<extra></extra>",
         "legendgroup": "",
         "line": {
          "color": "#636efa",
          "dash": "solid"
         },
         "mode": "lines",
         "name": "",
         "orientation": "v",
         "showlegend": false,
         "type": "scatter",
         "x": [
          "Gameweek 3",
          "Gameweek 4",
          "Gameweek 5",
          "Gameweek 6",
          "Gameweek 7",
          "Gameweek 8",
          "Gameweek 9",
          "Gameweek 10",
          "Gameweek 11",
          "Gameweek 12",
          "Gameweek 13",
          "Gameweek 14",
          "Gameweek 15",
          "Gameweek 16",
          "Gameweek 17",
          "Gameweek 18",
          "Gameweek 19",
          "Gameweek 20",
          "Gameweek 21",
          "Gameweek 22",
          "Gameweek 23",
          "Gameweek 24",
          "Gameweek 25",
          "Gameweek 26",
          "Gameweek 27",
          "Gameweek 28",
          "Gameweek 29",
          "Gameweek 30",
          "Gameweek 31",
          "Gameweek 32",
          "Gameweek 33",
          "Gameweek 34",
          "Gameweek 35",
          "Gameweek 36",
          "Gameweek 37",
          "Gameweek 38"
         ],
         "xaxis": "x",
         "y": [
          2,
          2,
          4,
          2,
          3,
          4,
          2,
          2,
          3,
          3,
          4,
          3,
          4,
          4,
          2,
          3,
          2,
          3,
          2,
          2,
          4,
          2,
          5,
          3,
          4,
          3,
          2,
          2,
          2,
          3,
          4,
          2,
          2,
          3,
          3,
          5
         ],
         "yaxis": "y"
        }
       ],
       "layout": {
        "legend": {
         "tracegroupgap": 0
        },
        "template": {
         "data": {
          "bar": [
           {
            "error_x": {
             "color": "#2a3f5f"
            },
            "error_y": {
             "color": "#2a3f5f"
            },
            "marker": {
             "line": {
              "color": "#E5ECF6",
              "width": 0.5
             }
            },
            "type": "bar"
           }
          ],
          "barpolar": [
           {
            "marker": {
             "line": {
              "color": "#E5ECF6",
              "width": 0.5
             }
            },
            "type": "barpolar"
           }
          ],
          "carpet": [
           {
            "aaxis": {
             "endlinecolor": "#2a3f5f",
             "gridcolor": "white",
             "linecolor": "white",
             "minorgridcolor": "white",
             "startlinecolor": "#2a3f5f"
            },
            "baxis": {
             "endlinecolor": "#2a3f5f",
             "gridcolor": "white",
             "linecolor": "white",
             "minorgridcolor": "white",
             "startlinecolor": "#2a3f5f"
            },
            "type": "carpet"
           }
          ],
          "choropleth": [
           {
            "colorbar": {
             "outlinewidth": 0,
             "ticks": ""
            },
            "type": "choropleth"
           }
          ],
          "contour": [
           {
            "colorbar": {
             "outlinewidth": 0,
             "ticks": ""
            },
            "colorscale": [
             [
              0,
              "#0d0887"
             ],
             [
              0.1111111111111111,
              "#46039f"
             ],
             [
              0.2222222222222222,
              "#7201a8"
             ],
             [
              0.3333333333333333,
              "#9c179e"
             ],
             [
              0.4444444444444444,
              "#bd3786"
             ],
             [
              0.5555555555555556,
              "#d8576b"
             ],
             [
              0.6666666666666666,
              "#ed7953"
             ],
             [
              0.7777777777777778,
              "#fb9f3a"
             ],
             [
              0.8888888888888888,
              "#fdca26"
             ],
             [
              1,
              "#f0f921"
             ]
            ],
            "type": "contour"
           }
          ],
          "contourcarpet": [
           {
            "colorbar": {
             "outlinewidth": 0,
             "ticks": ""
            },
            "type": "contourcarpet"
           }
          ],
          "heatmap": [
           {
            "colorbar": {
             "outlinewidth": 0,
             "ticks": ""
            },
            "colorscale": [
             [
              0,
              "#0d0887"
             ],
             [
              0.1111111111111111,
              "#46039f"
             ],
             [
              0.2222222222222222,
              "#7201a8"
             ],
             [
              0.3333333333333333,
              "#9c179e"
             ],
             [
              0.4444444444444444,
              "#bd3786"
             ],
             [
              0.5555555555555556,
              "#d8576b"
             ],
             [
              0.6666666666666666,
              "#ed7953"
             ],
             [
              0.7777777777777778,
              "#fb9f3a"
             ],
             [
              0.8888888888888888,
              "#fdca26"
             ],
             [
              1,
              "#f0f921"
             ]
            ],
            "type": "heatmap"
           }
          ],
          "heatmapgl": [
           {
            "colorbar": {
             "outlinewidth": 0,
             "ticks": ""
            },
            "colorscale": [
             [
              0,
              "#0d0887"
             ],
             [
              0.1111111111111111,
              "#46039f"
             ],
             [
              0.2222222222222222,
              "#7201a8"
             ],
             [
              0.3333333333333333,
              "#9c179e"
             ],
             [
              0.4444444444444444,
              "#bd3786"
             ],
             [
              0.5555555555555556,
              "#d8576b"
             ],
             [
              0.6666666666666666,
              "#ed7953"
             ],
             [
              0.7777777777777778,
              "#fb9f3a"
             ],
             [
              0.8888888888888888,
              "#fdca26"
             ],
             [
              1,
              "#f0f921"
             ]
            ],
            "type": "heatmapgl"
           }
          ],
          "histogram": [
           {
            "marker": {
             "colorbar": {
              "outlinewidth": 0,
              "ticks": ""
             }
            },
            "type": "histogram"
           }
          ],
          "histogram2d": [
           {
            "colorbar": {
             "outlinewidth": 0,
             "ticks": ""
            },
            "colorscale": [
             [
              0,
              "#0d0887"
             ],
             [
              0.1111111111111111,
              "#46039f"
             ],
             [
              0.2222222222222222,
              "#7201a8"
             ],
             [
              0.3333333333333333,
              "#9c179e"
             ],
             [
              0.4444444444444444,
              "#bd3786"
             ],
             [
              0.5555555555555556,
              "#d8576b"
             ],
             [
              0.6666666666666666,
              "#ed7953"
             ],
             [
              0.7777777777777778,
              "#fb9f3a"
             ],
             [
              0.8888888888888888,
              "#fdca26"
             ],
             [
              1,
              "#f0f921"
             ]
            ],
            "type": "histogram2d"
           }
          ],
          "histogram2dcontour": [
           {
            "colorbar": {
             "outlinewidth": 0,
             "ticks": ""
            },
            "colorscale": [
             [
              0,
              "#0d0887"
             ],
             [
              0.1111111111111111,
              "#46039f"
             ],
             [
              0.2222222222222222,
              "#7201a8"
             ],
             [
              0.3333333333333333,
              "#9c179e"
             ],
             [
              0.4444444444444444,
              "#bd3786"
             ],
             [
              0.5555555555555556,
              "#d8576b"
             ],
             [
              0.6666666666666666,
              "#ed7953"
             ],
             [
              0.7777777777777778,
              "#fb9f3a"
             ],
             [
              0.8888888888888888,
              "#fdca26"
             ],
             [
              1,
              "#f0f921"
             ]
            ],
            "type": "histogram2dcontour"
           }
          ],
          "mesh3d": [
           {
            "colorbar": {
             "outlinewidth": 0,
             "ticks": ""
            },
            "type": "mesh3d"
           }
          ],
          "parcoords": [
           {
            "line": {
             "colorbar": {
              "outlinewidth": 0,
              "ticks": ""
             }
            },
            "type": "parcoords"
           }
          ],
          "pie": [
           {
            "automargin": true,
            "type": "pie"
           }
          ],
          "scatter": [
           {
            "marker": {
             "colorbar": {
              "outlinewidth": 0,
              "ticks": ""
             }
            },
            "type": "scatter"
           }
          ],
          "scatter3d": [
           {
            "line": {
             "colorbar": {
              "outlinewidth": 0,
              "ticks": ""
             }
            },
            "marker": {
             "colorbar": {
              "outlinewidth": 0,
              "ticks": ""
             }
            },
            "type": "scatter3d"
           }
          ],
          "scattercarpet": [
           {
            "marker": {
             "colorbar": {
              "outlinewidth": 0,
              "ticks": ""
             }
            },
            "type": "scattercarpet"
           }
          ],
          "scattergeo": [
           {
            "marker": {
             "colorbar": {
              "outlinewidth": 0,
              "ticks": ""
             }
            },
            "type": "scattergeo"
           }
          ],
          "scattergl": [
           {
            "marker": {
             "colorbar": {
              "outlinewidth": 0,
              "ticks": ""
             }
            },
            "type": "scattergl"
           }
          ],
          "scattermapbox": [
           {
            "marker": {
             "colorbar": {
              "outlinewidth": 0,
              "ticks": ""
             }
            },
            "type": "scattermapbox"
           }
          ],
          "scatterpolar": [
           {
            "marker": {
             "colorbar": {
              "outlinewidth": 0,
              "ticks": ""
             }
            },
            "type": "scatterpolar"
           }
          ],
          "scatterpolargl": [
           {
            "marker": {
             "colorbar": {
              "outlinewidth": 0,
              "ticks": ""
             }
            },
            "type": "scatterpolargl"
           }
          ],
          "scatterternary": [
           {
            "marker": {
             "colorbar": {
              "outlinewidth": 0,
              "ticks": ""
             }
            },
            "type": "scatterternary"
           }
          ],
          "surface": [
           {
            "colorbar": {
             "outlinewidth": 0,
             "ticks": ""
            },
            "colorscale": [
             [
              0,
              "#0d0887"
             ],
             [
              0.1111111111111111,
              "#46039f"
             ],
             [
              0.2222222222222222,
              "#7201a8"
             ],
             [
              0.3333333333333333,
              "#9c179e"
             ],
             [
              0.4444444444444444,
              "#bd3786"
             ],
             [
              0.5555555555555556,
              "#d8576b"
             ],
             [
              0.6666666666666666,
              "#ed7953"
             ],
             [
              0.7777777777777778,
              "#fb9f3a"
             ],
             [
              0.8888888888888888,
              "#fdca26"
             ],
             [
              1,
              "#f0f921"
             ]
            ],
            "type": "surface"
           }
          ],
          "table": [
           {
            "cells": {
             "fill": {
              "color": "#EBF0F8"
             },
             "line": {
              "color": "white"
             }
            },
            "header": {
             "fill": {
              "color": "#C8D4E3"
             },
             "line": {
              "color": "white"
             }
            },
            "type": "table"
           }
          ]
         },
         "layout": {
          "annotationdefaults": {
           "arrowcolor": "#2a3f5f",
           "arrowhead": 0,
           "arrowwidth": 1
          },
          "coloraxis": {
           "colorbar": {
            "outlinewidth": 0,
            "ticks": ""
           }
          },
          "colorscale": {
           "diverging": [
            [
             0,
             "#8e0152"
            ],
            [
             0.1,
             "#c51b7d"
            ],
            [
             0.2,
             "#de77ae"
            ],
            [
             0.3,
             "#f1b6da"
            ],
            [
             0.4,
             "#fde0ef"
            ],
            [
             0.5,
             "#f7f7f7"
            ],
            [
             0.6,
             "#e6f5d0"
            ],
            [
             0.7,
             "#b8e186"
            ],
            [
             0.8,
             "#7fbc41"
            ],
            [
             0.9,
             "#4d9221"
            ],
            [
             1,
             "#276419"
            ]
           ],
           "sequential": [
            [
             0,
             "#0d0887"
            ],
            [
             0.1111111111111111,
             "#46039f"
            ],
            [
             0.2222222222222222,
             "#7201a8"
            ],
            [
             0.3333333333333333,
             "#9c179e"
            ],
            [
             0.4444444444444444,
             "#bd3786"
            ],
            [
             0.5555555555555556,
             "#d8576b"
            ],
            [
             0.6666666666666666,
             "#ed7953"
            ],
            [
             0.7777777777777778,
             "#fb9f3a"
            ],
            [
             0.8888888888888888,
             "#fdca26"
            ],
            [
             1,
             "#f0f921"
            ]
           ],
           "sequentialminus": [
            [
             0,
             "#0d0887"
            ],
            [
             0.1111111111111111,
             "#46039f"
            ],
            [
             0.2222222222222222,
             "#7201a8"
            ],
            [
             0.3333333333333333,
             "#9c179e"
            ],
            [
             0.4444444444444444,
             "#bd3786"
            ],
            [
             0.5555555555555556,
             "#d8576b"
            ],
            [
             0.6666666666666666,
             "#ed7953"
            ],
            [
             0.7777777777777778,
             "#fb9f3a"
            ],
            [
             0.8888888888888888,
             "#fdca26"
            ],
            [
             1,
             "#f0f921"
            ]
           ]
          },
          "colorway": [
           "#636efa",
           "#EF553B",
           "#00cc96",
           "#ab63fa",
           "#FFA15A",
           "#19d3f3",
           "#FF6692",
           "#B6E880",
           "#FF97FF",
           "#FECB52"
          ],
          "font": {
           "color": "#2a3f5f"
          },
          "geo": {
           "bgcolor": "white",
           "lakecolor": "white",
           "landcolor": "#E5ECF6",
           "showlakes": true,
           "showland": true,
           "subunitcolor": "white"
          },
          "hoverlabel": {
           "align": "left"
          },
          "hovermode": "closest",
          "mapbox": {
           "style": "light"
          },
          "paper_bgcolor": "white",
          "plot_bgcolor": "#E5ECF6",
          "polar": {
           "angularaxis": {
            "gridcolor": "white",
            "linecolor": "white",
            "ticks": ""
           },
           "bgcolor": "#E5ECF6",
           "radialaxis": {
            "gridcolor": "white",
            "linecolor": "white",
            "ticks": ""
           }
          },
          "scene": {
           "xaxis": {
            "backgroundcolor": "#E5ECF6",
            "gridcolor": "white",
            "gridwidth": 2,
            "linecolor": "white",
            "showbackground": true,
            "ticks": "",
            "zerolinecolor": "white"
           },
           "yaxis": {
            "backgroundcolor": "#E5ECF6",
            "gridcolor": "white",
            "gridwidth": 2,
            "linecolor": "white",
            "showbackground": true,
            "ticks": "",
            "zerolinecolor": "white"
           },
           "zaxis": {
            "backgroundcolor": "#E5ECF6",
            "gridcolor": "white",
            "gridwidth": 2,
            "linecolor": "white",
            "showbackground": true,
            "ticks": "",
            "zerolinecolor": "white"
           }
          },
          "shapedefaults": {
           "line": {
            "color": "#2a3f5f"
           }
          },
          "ternary": {
           "aaxis": {
            "gridcolor": "white",
            "linecolor": "white",
            "ticks": ""
           },
           "baxis": {
            "gridcolor": "white",
            "linecolor": "white",
            "ticks": ""
           },
           "bgcolor": "#E5ECF6",
           "caxis": {
            "gridcolor": "white",
            "linecolor": "white",
            "ticks": ""
           }
          },
          "title": {
           "x": 0.05
          },
          "xaxis": {
           "automargin": true,
           "gridcolor": "white",
           "linecolor": "white",
           "ticks": "",
           "title": {
            "standoff": 15
           },
           "zerolinecolor": "white",
           "zerolinewidth": 2
          },
          "yaxis": {
           "automargin": true,
           "gridcolor": "white",
           "linecolor": "white",
           "ticks": "",
           "title": {
            "standoff": 15
           },
           "zerolinecolor": "white",
           "zerolinewidth": 2
          }
         }
        },
        "title": {
         "text": "Sigurdsson"
        },
        "xaxis": {
         "anchor": "y",
         "domain": [
          0,
          1
         ],
         "title": {
          "text": "event_name"
         }
        },
        "yaxis": {
         "anchor": "x",
         "domain": [
          0,
          1
         ],
         "title": {
          "text": "difficulty"
         }
        }
       }
      }
     },
     "metadata": {}
    }
   ],
   "source": [
    "player_future(150)"
   ]
  },
  {
   "cell_type": "code",
   "execution_count": 29,
   "metadata": {},
   "outputs": [
    {
     "output_type": "execute_result",
     "data": {
      "text/plain": "0        5\n1        3\n2        5\n3        3\n4        4\n        ..\n19690    3\n19691    4\n19692    4\n19693    2\n19694    2\nName: difficulty, Length: 19695, dtype: int64"
     },
     "metadata": {},
     "execution_count": 29
    }
   ],
   "source": [
    "    opponent_strength = player_future_fixture['difficulty']\n",
    "    opponent_strength\n",
    "    #opponent_strength = player_analysis.iloc[:,2]"
   ]
  },
  {
   "cell_type": "code",
   "execution_count": 30,
   "metadata": {},
   "outputs": [],
   "source": [
    "def get_SMA(player_id , count):\n",
    "    data = player_future_fixture[player_future_fixture.player_id == player_id]\n",
    "    opponent_strength = data['difficulty']\n",
    "    # List to store moving average results\n",
    "    SMA2 = list(range(0, len(opponent_strength) - count))\n",
    "\n",
    "    # Compute moving average\n",
    "    for ii in range(len(SMA2)):\n",
    "        # Previous gw index\n",
    "        index = range(ii, ii + count)\n",
    "        # Get data for previous gw\n",
    "        prev_gw2 = opponent_strength.iloc[index]\n",
    "\n",
    "        # Sum previous gw\n",
    "        summation2 = np.sum(prev_gw2)\n",
    "\n",
    "        # Get average\n",
    "        avg2 = summation2/count\n",
    "        # Save results to list\n",
    "        SMA2[ii] = avg2\n",
    "         \n",
    "    # Define column label\n",
    "    label2 = f\"Opponent strength SMA\"\n",
    "\n",
    "    \n",
    "    # Get corresponding gw for moving_avg\n",
    "    gameweeks2 = opponent_strength.index[count:]\n",
    "    gameweek = data.event_name[count:]\n",
    "    \n",
    "    # Convert list into Pandas Series\n",
    "    SMA2 = pd.Series(SMA2, name = label2, index = gameweek)\n",
    "    \n",
    "    \n",
    "    return SMA2"
   ]
  },
  {
   "cell_type": "code",
   "execution_count": 55,
   "metadata": {},
   "outputs": [],
   "source": [
    "def player_future_avg(player_id , no_games):\n",
    "    data = get_SMA(player_id , no_games)\n",
    "\n",
    "    player = all_players[all_players.player_id == player_id]\n",
    "\n",
    "    player_name = player.iloc[0]['web_name']\n",
    "    title = \"Average difficulty next \" + str(no_games) + \" games for \" + str(player_name)\n",
    "\n",
    "    fig = px.line(\n",
    "        data, \n",
    "        title = title)\n",
    "\n",
    "    fig.show()"
   ]
  },
  {
   "cell_type": "code",
   "execution_count": 59,
   "metadata": {},
   "outputs": [
    {
     "output_type": "display_data",
     "data": {
      "application/vnd.plotly.v1+json": {
       "config": {
        "plotlyServerURL": "https://plot.ly"
       },
       "data": [
        {
         "hovertemplate": "variable=Opponent strength SMA<br>event_name=%{x}<br>value=%{y}<extra></extra>",
         "legendgroup": "Opponent strength SMA",
         "line": {
          "color": "#636efa",
          "dash": "solid"
         },
         "mode": "lines",
         "name": "Opponent strength SMA",
         "orientation": "v",
         "showlegend": true,
         "type": "scatter",
         "x": [
          "Gameweek 7",
          "Gameweek 8",
          "Gameweek 9",
          "Gameweek 10",
          "Gameweek 11",
          "Gameweek 12",
          "Gameweek 13",
          "Gameweek 14",
          "Gameweek 15",
          "Gameweek 16",
          "Gameweek 17",
          "Gameweek 18",
          "Gameweek 19",
          "Gameweek 20",
          "Gameweek 21",
          "Gameweek 22",
          "Gameweek 23",
          "Gameweek 24",
          "Gameweek 25",
          "Gameweek 26",
          "Gameweek 27",
          "Gameweek 28",
          "Gameweek 29",
          "Gameweek 30",
          "Gameweek 31",
          "Gameweek 32",
          "Gameweek 33",
          "Gameweek 34",
          "Gameweek 35",
          "Gameweek 36",
          "Gameweek 37",
          "Gameweek 38"
         ],
         "xaxis": "x",
         "y": [
          3.25,
          3,
          2.5,
          2.5,
          2.75,
          3,
          3,
          2.75,
          3,
          2.75,
          2.75,
          3.25,
          3,
          2.75,
          3,
          3,
          2.75,
          2.75,
          3,
          2.75,
          2.75,
          2.75,
          2.5,
          2.25,
          2.5,
          3.25,
          3.5,
          4,
          3.75,
          3.25,
          3,
          2.5
         ],
         "yaxis": "y"
        }
       ],
       "layout": {
        "legend": {
         "title": {
          "text": "variable"
         },
         "tracegroupgap": 0
        },
        "template": {
         "data": {
          "bar": [
           {
            "error_x": {
             "color": "#2a3f5f"
            },
            "error_y": {
             "color": "#2a3f5f"
            },
            "marker": {
             "line": {
              "color": "#E5ECF6",
              "width": 0.5
             }
            },
            "type": "bar"
           }
          ],
          "barpolar": [
           {
            "marker": {
             "line": {
              "color": "#E5ECF6",
              "width": 0.5
             }
            },
            "type": "barpolar"
           }
          ],
          "carpet": [
           {
            "aaxis": {
             "endlinecolor": "#2a3f5f",
             "gridcolor": "white",
             "linecolor": "white",
             "minorgridcolor": "white",
             "startlinecolor": "#2a3f5f"
            },
            "baxis": {
             "endlinecolor": "#2a3f5f",
             "gridcolor": "white",
             "linecolor": "white",
             "minorgridcolor": "white",
             "startlinecolor": "#2a3f5f"
            },
            "type": "carpet"
           }
          ],
          "choropleth": [
           {
            "colorbar": {
             "outlinewidth": 0,
             "ticks": ""
            },
            "type": "choropleth"
           }
          ],
          "contour": [
           {
            "colorbar": {
             "outlinewidth": 0,
             "ticks": ""
            },
            "colorscale": [
             [
              0,
              "#0d0887"
             ],
             [
              0.1111111111111111,
              "#46039f"
             ],
             [
              0.2222222222222222,
              "#7201a8"
             ],
             [
              0.3333333333333333,
              "#9c179e"
             ],
             [
              0.4444444444444444,
              "#bd3786"
             ],
             [
              0.5555555555555556,
              "#d8576b"
             ],
             [
              0.6666666666666666,
              "#ed7953"
             ],
             [
              0.7777777777777778,
              "#fb9f3a"
             ],
             [
              0.8888888888888888,
              "#fdca26"
             ],
             [
              1,
              "#f0f921"
             ]
            ],
            "type": "contour"
           }
          ],
          "contourcarpet": [
           {
            "colorbar": {
             "outlinewidth": 0,
             "ticks": ""
            },
            "type": "contourcarpet"
           }
          ],
          "heatmap": [
           {
            "colorbar": {
             "outlinewidth": 0,
             "ticks": ""
            },
            "colorscale": [
             [
              0,
              "#0d0887"
             ],
             [
              0.1111111111111111,
              "#46039f"
             ],
             [
              0.2222222222222222,
              "#7201a8"
             ],
             [
              0.3333333333333333,
              "#9c179e"
             ],
             [
              0.4444444444444444,
              "#bd3786"
             ],
             [
              0.5555555555555556,
              "#d8576b"
             ],
             [
              0.6666666666666666,
              "#ed7953"
             ],
             [
              0.7777777777777778,
              "#fb9f3a"
             ],
             [
              0.8888888888888888,
              "#fdca26"
             ],
             [
              1,
              "#f0f921"
             ]
            ],
            "type": "heatmap"
           }
          ],
          "heatmapgl": [
           {
            "colorbar": {
             "outlinewidth": 0,
             "ticks": ""
            },
            "colorscale": [
             [
              0,
              "#0d0887"
             ],
             [
              0.1111111111111111,
              "#46039f"
             ],
             [
              0.2222222222222222,
              "#7201a8"
             ],
             [
              0.3333333333333333,
              "#9c179e"
             ],
             [
              0.4444444444444444,
              "#bd3786"
             ],
             [
              0.5555555555555556,
              "#d8576b"
             ],
             [
              0.6666666666666666,
              "#ed7953"
             ],
             [
              0.7777777777777778,
              "#fb9f3a"
             ],
             [
              0.8888888888888888,
              "#fdca26"
             ],
             [
              1,
              "#f0f921"
             ]
            ],
            "type": "heatmapgl"
           }
          ],
          "histogram": [
           {
            "marker": {
             "colorbar": {
              "outlinewidth": 0,
              "ticks": ""
             }
            },
            "type": "histogram"
           }
          ],
          "histogram2d": [
           {
            "colorbar": {
             "outlinewidth": 0,
             "ticks": ""
            },
            "colorscale": [
             [
              0,
              "#0d0887"
             ],
             [
              0.1111111111111111,
              "#46039f"
             ],
             [
              0.2222222222222222,
              "#7201a8"
             ],
             [
              0.3333333333333333,
              "#9c179e"
             ],
             [
              0.4444444444444444,
              "#bd3786"
             ],
             [
              0.5555555555555556,
              "#d8576b"
             ],
             [
              0.6666666666666666,
              "#ed7953"
             ],
             [
              0.7777777777777778,
              "#fb9f3a"
             ],
             [
              0.8888888888888888,
              "#fdca26"
             ],
             [
              1,
              "#f0f921"
             ]
            ],
            "type": "histogram2d"
           }
          ],
          "histogram2dcontour": [
           {
            "colorbar": {
             "outlinewidth": 0,
             "ticks": ""
            },
            "colorscale": [
             [
              0,
              "#0d0887"
             ],
             [
              0.1111111111111111,
              "#46039f"
             ],
             [
              0.2222222222222222,
              "#7201a8"
             ],
             [
              0.3333333333333333,
              "#9c179e"
             ],
             [
              0.4444444444444444,
              "#bd3786"
             ],
             [
              0.5555555555555556,
              "#d8576b"
             ],
             [
              0.6666666666666666,
              "#ed7953"
             ],
             [
              0.7777777777777778,
              "#fb9f3a"
             ],
             [
              0.8888888888888888,
              "#fdca26"
             ],
             [
              1,
              "#f0f921"
             ]
            ],
            "type": "histogram2dcontour"
           }
          ],
          "mesh3d": [
           {
            "colorbar": {
             "outlinewidth": 0,
             "ticks": ""
            },
            "type": "mesh3d"
           }
          ],
          "parcoords": [
           {
            "line": {
             "colorbar": {
              "outlinewidth": 0,
              "ticks": ""
             }
            },
            "type": "parcoords"
           }
          ],
          "pie": [
           {
            "automargin": true,
            "type": "pie"
           }
          ],
          "scatter": [
           {
            "marker": {
             "colorbar": {
              "outlinewidth": 0,
              "ticks": ""
             }
            },
            "type": "scatter"
           }
          ],
          "scatter3d": [
           {
            "line": {
             "colorbar": {
              "outlinewidth": 0,
              "ticks": ""
             }
            },
            "marker": {
             "colorbar": {
              "outlinewidth": 0,
              "ticks": ""
             }
            },
            "type": "scatter3d"
           }
          ],
          "scattercarpet": [
           {
            "marker": {
             "colorbar": {
              "outlinewidth": 0,
              "ticks": ""
             }
            },
            "type": "scattercarpet"
           }
          ],
          "scattergeo": [
           {
            "marker": {
             "colorbar": {
              "outlinewidth": 0,
              "ticks": ""
             }
            },
            "type": "scattergeo"
           }
          ],
          "scattergl": [
           {
            "marker": {
             "colorbar": {
              "outlinewidth": 0,
              "ticks": ""
             }
            },
            "type": "scattergl"
           }
          ],
          "scattermapbox": [
           {
            "marker": {
             "colorbar": {
              "outlinewidth": 0,
              "ticks": ""
             }
            },
            "type": "scattermapbox"
           }
          ],
          "scatterpolar": [
           {
            "marker": {
             "colorbar": {
              "outlinewidth": 0,
              "ticks": ""
             }
            },
            "type": "scatterpolar"
           }
          ],
          "scatterpolargl": [
           {
            "marker": {
             "colorbar": {
              "outlinewidth": 0,
              "ticks": ""
             }
            },
            "type": "scatterpolargl"
           }
          ],
          "scatterternary": [
           {
            "marker": {
             "colorbar": {
              "outlinewidth": 0,
              "ticks": ""
             }
            },
            "type": "scatterternary"
           }
          ],
          "surface": [
           {
            "colorbar": {
             "outlinewidth": 0,
             "ticks": ""
            },
            "colorscale": [
             [
              0,
              "#0d0887"
             ],
             [
              0.1111111111111111,
              "#46039f"
             ],
             [
              0.2222222222222222,
              "#7201a8"
             ],
             [
              0.3333333333333333,
              "#9c179e"
             ],
             [
              0.4444444444444444,
              "#bd3786"
             ],
             [
              0.5555555555555556,
              "#d8576b"
             ],
             [
              0.6666666666666666,
              "#ed7953"
             ],
             [
              0.7777777777777778,
              "#fb9f3a"
             ],
             [
              0.8888888888888888,
              "#fdca26"
             ],
             [
              1,
              "#f0f921"
             ]
            ],
            "type": "surface"
           }
          ],
          "table": [
           {
            "cells": {
             "fill": {
              "color": "#EBF0F8"
             },
             "line": {
              "color": "white"
             }
            },
            "header": {
             "fill": {
              "color": "#C8D4E3"
             },
             "line": {
              "color": "white"
             }
            },
            "type": "table"
           }
          ]
         },
         "layout": {
          "annotationdefaults": {
           "arrowcolor": "#2a3f5f",
           "arrowhead": 0,
           "arrowwidth": 1
          },
          "coloraxis": {
           "colorbar": {
            "outlinewidth": 0,
            "ticks": ""
           }
          },
          "colorscale": {
           "diverging": [
            [
             0,
             "#8e0152"
            ],
            [
             0.1,
             "#c51b7d"
            ],
            [
             0.2,
             "#de77ae"
            ],
            [
             0.3,
             "#f1b6da"
            ],
            [
             0.4,
             "#fde0ef"
            ],
            [
             0.5,
             "#f7f7f7"
            ],
            [
             0.6,
             "#e6f5d0"
            ],
            [
             0.7,
             "#b8e186"
            ],
            [
             0.8,
             "#7fbc41"
            ],
            [
             0.9,
             "#4d9221"
            ],
            [
             1,
             "#276419"
            ]
           ],
           "sequential": [
            [
             0,
             "#0d0887"
            ],
            [
             0.1111111111111111,
             "#46039f"
            ],
            [
             0.2222222222222222,
             "#7201a8"
            ],
            [
             0.3333333333333333,
             "#9c179e"
            ],
            [
             0.4444444444444444,
             "#bd3786"
            ],
            [
             0.5555555555555556,
             "#d8576b"
            ],
            [
             0.6666666666666666,
             "#ed7953"
            ],
            [
             0.7777777777777778,
             "#fb9f3a"
            ],
            [
             0.8888888888888888,
             "#fdca26"
            ],
            [
             1,
             "#f0f921"
            ]
           ],
           "sequentialminus": [
            [
             0,
             "#0d0887"
            ],
            [
             0.1111111111111111,
             "#46039f"
            ],
            [
             0.2222222222222222,
             "#7201a8"
            ],
            [
             0.3333333333333333,
             "#9c179e"
            ],
            [
             0.4444444444444444,
             "#bd3786"
            ],
            [
             0.5555555555555556,
             "#d8576b"
            ],
            [
             0.6666666666666666,
             "#ed7953"
            ],
            [
             0.7777777777777778,
             "#fb9f3a"
            ],
            [
             0.8888888888888888,
             "#fdca26"
            ],
            [
             1,
             "#f0f921"
            ]
           ]
          },
          "colorway": [
           "#636efa",
           "#EF553B",
           "#00cc96",
           "#ab63fa",
           "#FFA15A",
           "#19d3f3",
           "#FF6692",
           "#B6E880",
           "#FF97FF",
           "#FECB52"
          ],
          "font": {
           "color": "#2a3f5f"
          },
          "geo": {
           "bgcolor": "white",
           "lakecolor": "white",
           "landcolor": "#E5ECF6",
           "showlakes": true,
           "showland": true,
           "subunitcolor": "white"
          },
          "hoverlabel": {
           "align": "left"
          },
          "hovermode": "closest",
          "mapbox": {
           "style": "light"
          },
          "paper_bgcolor": "white",
          "plot_bgcolor": "#E5ECF6",
          "polar": {
           "angularaxis": {
            "gridcolor": "white",
            "linecolor": "white",
            "ticks": ""
           },
           "bgcolor": "#E5ECF6",
           "radialaxis": {
            "gridcolor": "white",
            "linecolor": "white",
            "ticks": ""
           }
          },
          "scene": {
           "xaxis": {
            "backgroundcolor": "#E5ECF6",
            "gridcolor": "white",
            "gridwidth": 2,
            "linecolor": "white",
            "showbackground": true,
            "ticks": "",
            "zerolinecolor": "white"
           },
           "yaxis": {
            "backgroundcolor": "#E5ECF6",
            "gridcolor": "white",
            "gridwidth": 2,
            "linecolor": "white",
            "showbackground": true,
            "ticks": "",
            "zerolinecolor": "white"
           },
           "zaxis": {
            "backgroundcolor": "#E5ECF6",
            "gridcolor": "white",
            "gridwidth": 2,
            "linecolor": "white",
            "showbackground": true,
            "ticks": "",
            "zerolinecolor": "white"
           }
          },
          "shapedefaults": {
           "line": {
            "color": "#2a3f5f"
           }
          },
          "ternary": {
           "aaxis": {
            "gridcolor": "white",
            "linecolor": "white",
            "ticks": ""
           },
           "baxis": {
            "gridcolor": "white",
            "linecolor": "white",
            "ticks": ""
           },
           "bgcolor": "#E5ECF6",
           "caxis": {
            "gridcolor": "white",
            "linecolor": "white",
            "ticks": ""
           }
          },
          "title": {
           "x": 0.05
          },
          "xaxis": {
           "automargin": true,
           "gridcolor": "white",
           "linecolor": "white",
           "ticks": "",
           "title": {
            "standoff": 15
           },
           "zerolinecolor": "white",
           "zerolinewidth": 2
          },
          "yaxis": {
           "automargin": true,
           "gridcolor": "white",
           "linecolor": "white",
           "ticks": "",
           "title": {
            "standoff": 15
           },
           "zerolinecolor": "white",
           "zerolinewidth": 2
          }
         }
        },
        "title": {
         "text": "Average difficulty next 4 games for Dallas"
        },
        "xaxis": {
         "anchor": "y",
         "domain": [
          0,
          1
         ],
         "title": {
          "text": "event_name"
         }
        },
        "yaxis": {
         "anchor": "x",
         "domain": [
          0,
          1
         ],
         "title": {
          "text": "value"
         }
        }
       }
      }
     },
     "metadata": {}
    }
   ],
   "source": [
    "player_future_avg(200 , 4)"
   ]
  },
  {
   "cell_type": "code",
   "execution_count": 58,
   "metadata": {},
   "outputs": [
    {
     "output_type": "execute_result",
     "data": {
      "text/plain": "event_name\nGameweek 7     2.50\nGameweek 8     2.75\nGameweek 9     3.25\nGameweek 10    2.75\nGameweek 11    2.75\nGameweek 12    2.75\nGameweek 13    2.50\nGameweek 14    3.00\nGameweek 15    3.25\nGameweek 16    3.50\nGameweek 17    3.75\nGameweek 18    3.25\nGameweek 19    3.25\nGameweek 20    2.75\nGameweek 21    2.50\nGameweek 22    2.50\nGameweek 23    2.25\nGameweek 24    2.75\nGameweek 25    2.50\nGameweek 26    3.25\nGameweek 27    3.50\nGameweek 28    3.50\nGameweek 29    3.75\nGameweek 30    3.00\nGameweek 31    2.75\nGameweek 32    2.25\nGameweek 33    2.25\nGameweek 34    2.75\nGameweek 35    2.75\nGameweek 36    2.75\nGameweek 37    2.75\nGameweek 38    2.50\nName: Opponent strength SMA, dtype: float64"
     },
     "metadata": {},
     "execution_count": 58
    }
   ],
   "source": [
    "result = get_SMA(150,4)\n",
    "result"
   ]
  },
  {
   "cell_type": "markdown",
   "metadata": {},
   "source": [
    "## FANTASY PLAYER VALUE"
   ]
  },
  {
   "cell_type": "code",
   "execution_count": 63,
   "metadata": {},
   "outputs": [
    {
     "output_type": "execute_result",
     "data": {
      "text/plain": "Index(['chance_of_playing_next_round', 'chance_of_playing_this_round',\n       'player_code', 'cost_change_event', 'cost_change_event_fall',\n       'cost_change_start', 'cost_change_start_fall', 'dreamteam_count',\n       'player_type_id', 'ep_next', 'ep_this', 'event_points', 'form',\n       'player_id', 'in_dreamteam', 'news', 'news_added', 'now_cost', 'photo',\n       'PPG', 'selected_by_percent', 'status', 'team_id', 'team_code',\n       'total_points', 'transfers_in_event', 'transfers_out_event',\n       'value_form', 'value_season', 'web_name', 'minutes', 'goals_scored',\n       'assists', 'clean_sheets', 'goals_conceded', 'own_goals',\n       'penalties_saved', 'penalties_missed', 'yellow_cards', 'red_cards',\n       'saves', 'bonus', 'bps', 'influence', 'creativity', 'threat',\n       'ict_index', 'influence_rank', 'influence_rank_type', 'creativity_rank',\n       'creativity_rank_type', 'threat_rank', 'threat_rank_type',\n       'ict_index_rank', 'ict_index_rank_type',\n       'corners_and_indirect_freekicks_order',\n       'corners_and_indirect_freekicks_text', 'direct_freekicks_order',\n       'direct_freekicks_text', 'penalties_order', 'penalties_text', 'PP90',\n       'PPMM', 'VAPM'],\n      dtype='object')"
     },
     "metadata": {},
     "execution_count": 63
    }
   ],
   "source": [
    "all_players.columns"
   ]
  },
  {
   "cell_type": "code",
   "execution_count": 65,
   "metadata": {},
   "outputs": [
    {
     "output_type": "execute_result",
     "data": {
      "text/plain": "          web_name  now_cost status  player_type_id  total_points  minutes  \\\n245       Castagne        56      a               2            23      180   \n257        Bamford        57      a               4            21      130   \n183  Calvert-Lewin        72      a               4            25      158   \n260          Costa        56      a               3            19      180   \n156           Zaha        71      a               3            23      180   \n243         Justin        46      a               2            16      180   \n27         Gabriel        51      a               2            17      180   \n253          Klich        56      a               3            18      170   \n446            Son        90      a               3            26      180   \n384       Hendrick        50      a               3            16      180   \n526          Saïss        51      a               2            16      180   \n152       Townsend        60      a               3            17      180   \n134          James        51      a               2            15      180   \n74          Maupay        65      a               4            18      180   \n286        Alisson        60      a               1            15      180   \n230          Praet        55      a               3            14      156   \n444           Kane       105      a               4            23      173   \n175          Keane        50      a               2            13      180   \n143         Guaita        50      a               1            13      180   \n239         Barnes        70      a               3            16      180   \n\n          PP90   PPG      PPMM      VAPM  \n245  11.500000  11.5  2.053571  1.696429  \n257  14.538462  10.5  1.842105  1.491228  \n183  14.240506  12.5  1.736111  1.458333  \n260   9.500000   9.5  1.696429  1.339286  \n156  11.500000  11.5  1.619718  1.338028  \n243   8.000000   8.0  1.739130  1.304348  \n27    8.500000   8.5  1.666667  1.274510  \n253   9.529412   9.0  1.607143  1.250000  \n446  13.000000  13.0  1.444444  1.222222  \n384   8.000000   8.0  1.600000  1.200000  \n526   8.000000   8.0  1.568627  1.176471  \n152   8.500000   8.5  1.416667  1.083333  \n134   7.500000   7.5  1.470588  1.078431  \n74    9.000000   9.0  1.384615  1.076923  \n286   7.500000   7.5  1.250000  0.916667  \n230   8.076923   7.0  1.272727  0.909091  \n444  11.965318  11.5  1.095238  0.904762  \n175   6.500000   6.5  1.300000  0.900000  \n143   6.500000   6.5  1.300000  0.900000  \n239   8.000000   8.0  1.142857  0.857143  ",
      "text/html": "<div>\n<style scoped>\n    .dataframe tbody tr th:only-of-type {\n        vertical-align: middle;\n    }\n\n    .dataframe tbody tr th {\n        vertical-align: top;\n    }\n\n    .dataframe thead th {\n        text-align: right;\n    }\n</style>\n<table border=\"1\" class=\"dataframe\">\n  <thead>\n    <tr style=\"text-align: right;\">\n      <th></th>\n      <th>web_name</th>\n      <th>now_cost</th>\n      <th>status</th>\n      <th>player_type_id</th>\n      <th>total_points</th>\n      <th>minutes</th>\n      <th>PP90</th>\n      <th>PPG</th>\n      <th>PPMM</th>\n      <th>VAPM</th>\n    </tr>\n  </thead>\n  <tbody>\n    <tr>\n      <th>245</th>\n      <td>Castagne</td>\n      <td>56</td>\n      <td>a</td>\n      <td>2</td>\n      <td>23</td>\n      <td>180</td>\n      <td>11.500000</td>\n      <td>11.5</td>\n      <td>2.053571</td>\n      <td>1.696429</td>\n    </tr>\n    <tr>\n      <th>257</th>\n      <td>Bamford</td>\n      <td>57</td>\n      <td>a</td>\n      <td>4</td>\n      <td>21</td>\n      <td>130</td>\n      <td>14.538462</td>\n      <td>10.5</td>\n      <td>1.842105</td>\n      <td>1.491228</td>\n    </tr>\n    <tr>\n      <th>183</th>\n      <td>Calvert-Lewin</td>\n      <td>72</td>\n      <td>a</td>\n      <td>4</td>\n      <td>25</td>\n      <td>158</td>\n      <td>14.240506</td>\n      <td>12.5</td>\n      <td>1.736111</td>\n      <td>1.458333</td>\n    </tr>\n    <tr>\n      <th>260</th>\n      <td>Costa</td>\n      <td>56</td>\n      <td>a</td>\n      <td>3</td>\n      <td>19</td>\n      <td>180</td>\n      <td>9.500000</td>\n      <td>9.5</td>\n      <td>1.696429</td>\n      <td>1.339286</td>\n    </tr>\n    <tr>\n      <th>156</th>\n      <td>Zaha</td>\n      <td>71</td>\n      <td>a</td>\n      <td>3</td>\n      <td>23</td>\n      <td>180</td>\n      <td>11.500000</td>\n      <td>11.5</td>\n      <td>1.619718</td>\n      <td>1.338028</td>\n    </tr>\n    <tr>\n      <th>243</th>\n      <td>Justin</td>\n      <td>46</td>\n      <td>a</td>\n      <td>2</td>\n      <td>16</td>\n      <td>180</td>\n      <td>8.000000</td>\n      <td>8.0</td>\n      <td>1.739130</td>\n      <td>1.304348</td>\n    </tr>\n    <tr>\n      <th>27</th>\n      <td>Gabriel</td>\n      <td>51</td>\n      <td>a</td>\n      <td>2</td>\n      <td>17</td>\n      <td>180</td>\n      <td>8.500000</td>\n      <td>8.5</td>\n      <td>1.666667</td>\n      <td>1.274510</td>\n    </tr>\n    <tr>\n      <th>253</th>\n      <td>Klich</td>\n      <td>56</td>\n      <td>a</td>\n      <td>3</td>\n      <td>18</td>\n      <td>170</td>\n      <td>9.529412</td>\n      <td>9.0</td>\n      <td>1.607143</td>\n      <td>1.250000</td>\n    </tr>\n    <tr>\n      <th>446</th>\n      <td>Son</td>\n      <td>90</td>\n      <td>a</td>\n      <td>3</td>\n      <td>26</td>\n      <td>180</td>\n      <td>13.000000</td>\n      <td>13.0</td>\n      <td>1.444444</td>\n      <td>1.222222</td>\n    </tr>\n    <tr>\n      <th>384</th>\n      <td>Hendrick</td>\n      <td>50</td>\n      <td>a</td>\n      <td>3</td>\n      <td>16</td>\n      <td>180</td>\n      <td>8.000000</td>\n      <td>8.0</td>\n      <td>1.600000</td>\n      <td>1.200000</td>\n    </tr>\n    <tr>\n      <th>526</th>\n      <td>Saïss</td>\n      <td>51</td>\n      <td>a</td>\n      <td>2</td>\n      <td>16</td>\n      <td>180</td>\n      <td>8.000000</td>\n      <td>8.0</td>\n      <td>1.568627</td>\n      <td>1.176471</td>\n    </tr>\n    <tr>\n      <th>152</th>\n      <td>Townsend</td>\n      <td>60</td>\n      <td>a</td>\n      <td>3</td>\n      <td>17</td>\n      <td>180</td>\n      <td>8.500000</td>\n      <td>8.5</td>\n      <td>1.416667</td>\n      <td>1.083333</td>\n    </tr>\n    <tr>\n      <th>134</th>\n      <td>James</td>\n      <td>51</td>\n      <td>a</td>\n      <td>2</td>\n      <td>15</td>\n      <td>180</td>\n      <td>7.500000</td>\n      <td>7.5</td>\n      <td>1.470588</td>\n      <td>1.078431</td>\n    </tr>\n    <tr>\n      <th>74</th>\n      <td>Maupay</td>\n      <td>65</td>\n      <td>a</td>\n      <td>4</td>\n      <td>18</td>\n      <td>180</td>\n      <td>9.000000</td>\n      <td>9.0</td>\n      <td>1.384615</td>\n      <td>1.076923</td>\n    </tr>\n    <tr>\n      <th>286</th>\n      <td>Alisson</td>\n      <td>60</td>\n      <td>a</td>\n      <td>1</td>\n      <td>15</td>\n      <td>180</td>\n      <td>7.500000</td>\n      <td>7.5</td>\n      <td>1.250000</td>\n      <td>0.916667</td>\n    </tr>\n    <tr>\n      <th>230</th>\n      <td>Praet</td>\n      <td>55</td>\n      <td>a</td>\n      <td>3</td>\n      <td>14</td>\n      <td>156</td>\n      <td>8.076923</td>\n      <td>7.0</td>\n      <td>1.272727</td>\n      <td>0.909091</td>\n    </tr>\n    <tr>\n      <th>444</th>\n      <td>Kane</td>\n      <td>105</td>\n      <td>a</td>\n      <td>4</td>\n      <td>23</td>\n      <td>173</td>\n      <td>11.965318</td>\n      <td>11.5</td>\n      <td>1.095238</td>\n      <td>0.904762</td>\n    </tr>\n    <tr>\n      <th>175</th>\n      <td>Keane</td>\n      <td>50</td>\n      <td>a</td>\n      <td>2</td>\n      <td>13</td>\n      <td>180</td>\n      <td>6.500000</td>\n      <td>6.5</td>\n      <td>1.300000</td>\n      <td>0.900000</td>\n    </tr>\n    <tr>\n      <th>143</th>\n      <td>Guaita</td>\n      <td>50</td>\n      <td>a</td>\n      <td>1</td>\n      <td>13</td>\n      <td>180</td>\n      <td>6.500000</td>\n      <td>6.5</td>\n      <td>1.300000</td>\n      <td>0.900000</td>\n    </tr>\n    <tr>\n      <th>239</th>\n      <td>Barnes</td>\n      <td>70</td>\n      <td>a</td>\n      <td>3</td>\n      <td>16</td>\n      <td>180</td>\n      <td>8.000000</td>\n      <td>8.0</td>\n      <td>1.142857</td>\n      <td>0.857143</td>\n    </tr>\n  </tbody>\n</table>\n</div>"
     },
     "metadata": {},
     "execution_count": 65
    }
   ],
   "source": [
    "top_players = all_players[['web_name' , 'now_cost', 'status' , 'player_type_id', 'total_points' , 'minutes' , 'PP90' , 'PPG' , 'PPMM' , 'VAPM']][all_players['minutes']>100][all_players['status'] != \"i\"].sort_values(by='VAPM' , ascending = False).head(60)\n",
    "top_players.head(20)"
   ]
  },
  {
   "cell_type": "code",
   "execution_count": 66,
   "metadata": {},
   "outputs": [
    {
     "output_type": "execute_result",
     "data": {
      "text/plain": "    web_name  now_cost status  player_type_id  total_points  minutes  PP90  \\\n286  Alisson        60      a               1            15      180   7.5   \n143   Guaita        50      a               1            13      180   6.5   \n7       Leno        50      a               1             9      180   4.5   \n\n     PPG  PPMM      VAPM  \n286  7.5  1.25  0.916667  \n143  6.5  1.30  0.900000  \n7    4.5  0.90  0.500000  ",
      "text/html": "<div>\n<style scoped>\n    .dataframe tbody tr th:only-of-type {\n        vertical-align: middle;\n    }\n\n    .dataframe tbody tr th {\n        vertical-align: top;\n    }\n\n    .dataframe thead th {\n        text-align: right;\n    }\n</style>\n<table border=\"1\" class=\"dataframe\">\n  <thead>\n    <tr style=\"text-align: right;\">\n      <th></th>\n      <th>web_name</th>\n      <th>now_cost</th>\n      <th>status</th>\n      <th>player_type_id</th>\n      <th>total_points</th>\n      <th>minutes</th>\n      <th>PP90</th>\n      <th>PPG</th>\n      <th>PPMM</th>\n      <th>VAPM</th>\n    </tr>\n  </thead>\n  <tbody>\n    <tr>\n      <th>286</th>\n      <td>Alisson</td>\n      <td>60</td>\n      <td>a</td>\n      <td>1</td>\n      <td>15</td>\n      <td>180</td>\n      <td>7.5</td>\n      <td>7.5</td>\n      <td>1.25</td>\n      <td>0.916667</td>\n    </tr>\n    <tr>\n      <th>143</th>\n      <td>Guaita</td>\n      <td>50</td>\n      <td>a</td>\n      <td>1</td>\n      <td>13</td>\n      <td>180</td>\n      <td>6.5</td>\n      <td>6.5</td>\n      <td>1.30</td>\n      <td>0.900000</td>\n    </tr>\n    <tr>\n      <th>7</th>\n      <td>Leno</td>\n      <td>50</td>\n      <td>a</td>\n      <td>1</td>\n      <td>9</td>\n      <td>180</td>\n      <td>4.5</td>\n      <td>4.5</td>\n      <td>0.90</td>\n      <td>0.500000</td>\n    </tr>\n  </tbody>\n</table>\n</div>"
     },
     "metadata": {},
     "execution_count": 66
    }
   ],
   "source": [
    "top_players[top_players['player_type_id'] == 1].head(3)"
   ]
  },
  {
   "cell_type": "code",
   "execution_count": 67,
   "metadata": {},
   "outputs": [
    {
     "output_type": "execute_result",
     "data": {
      "text/plain": "     web_name  now_cost status  player_type_id  total_points  minutes  PP90  \\\n245  Castagne        56      a               2            23      180  11.5   \n243    Justin        46      a               2            16      180   8.0   \n27    Gabriel        51      a               2            17      180   8.5   \n526     Saïss        51      a               2            16      180   8.0   \n134     James        51      a               2            15      180   7.5   \n\n      PPG      PPMM      VAPM  \n245  11.5  2.053571  1.696429  \n243   8.0  1.739130  1.304348  \n27    8.5  1.666667  1.274510  \n526   8.0  1.568627  1.176471  \n134   7.5  1.470588  1.078431  ",
      "text/html": "<div>\n<style scoped>\n    .dataframe tbody tr th:only-of-type {\n        vertical-align: middle;\n    }\n\n    .dataframe tbody tr th {\n        vertical-align: top;\n    }\n\n    .dataframe thead th {\n        text-align: right;\n    }\n</style>\n<table border=\"1\" class=\"dataframe\">\n  <thead>\n    <tr style=\"text-align: right;\">\n      <th></th>\n      <th>web_name</th>\n      <th>now_cost</th>\n      <th>status</th>\n      <th>player_type_id</th>\n      <th>total_points</th>\n      <th>minutes</th>\n      <th>PP90</th>\n      <th>PPG</th>\n      <th>PPMM</th>\n      <th>VAPM</th>\n    </tr>\n  </thead>\n  <tbody>\n    <tr>\n      <th>245</th>\n      <td>Castagne</td>\n      <td>56</td>\n      <td>a</td>\n      <td>2</td>\n      <td>23</td>\n      <td>180</td>\n      <td>11.5</td>\n      <td>11.5</td>\n      <td>2.053571</td>\n      <td>1.696429</td>\n    </tr>\n    <tr>\n      <th>243</th>\n      <td>Justin</td>\n      <td>46</td>\n      <td>a</td>\n      <td>2</td>\n      <td>16</td>\n      <td>180</td>\n      <td>8.0</td>\n      <td>8.0</td>\n      <td>1.739130</td>\n      <td>1.304348</td>\n    </tr>\n    <tr>\n      <th>27</th>\n      <td>Gabriel</td>\n      <td>51</td>\n      <td>a</td>\n      <td>2</td>\n      <td>17</td>\n      <td>180</td>\n      <td>8.5</td>\n      <td>8.5</td>\n      <td>1.666667</td>\n      <td>1.274510</td>\n    </tr>\n    <tr>\n      <th>526</th>\n      <td>Saïss</td>\n      <td>51</td>\n      <td>a</td>\n      <td>2</td>\n      <td>16</td>\n      <td>180</td>\n      <td>8.0</td>\n      <td>8.0</td>\n      <td>1.568627</td>\n      <td>1.176471</td>\n    </tr>\n    <tr>\n      <th>134</th>\n      <td>James</td>\n      <td>51</td>\n      <td>a</td>\n      <td>2</td>\n      <td>15</td>\n      <td>180</td>\n      <td>7.5</td>\n      <td>7.5</td>\n      <td>1.470588</td>\n      <td>1.078431</td>\n    </tr>\n  </tbody>\n</table>\n</div>"
     },
     "metadata": {},
     "execution_count": 67
    }
   ],
   "source": [
    "top_players[top_players['player_type_id'] == 2].head(5)"
   ]
  },
  {
   "cell_type": "code",
   "execution_count": 68,
   "metadata": {},
   "outputs": [
    {
     "output_type": "execute_result",
     "data": {
      "text/plain": "     web_name  now_cost status  player_type_id  total_points  minutes  \\\n260     Costa        56      a               3            19      180   \n156      Zaha        71      a               3            23      180   \n253     Klich        56      a               3            18      170   \n446       Son        90      a               3            26      180   \n384  Hendrick        50      a               3            16      180   \n\n          PP90   PPG      PPMM      VAPM  \n260   9.500000   9.5  1.696429  1.339286  \n156  11.500000  11.5  1.619718  1.338028  \n253   9.529412   9.0  1.607143  1.250000  \n446  13.000000  13.0  1.444444  1.222222  \n384   8.000000   8.0  1.600000  1.200000  ",
      "text/html": "<div>\n<style scoped>\n    .dataframe tbody tr th:only-of-type {\n        vertical-align: middle;\n    }\n\n    .dataframe tbody tr th {\n        vertical-align: top;\n    }\n\n    .dataframe thead th {\n        text-align: right;\n    }\n</style>\n<table border=\"1\" class=\"dataframe\">\n  <thead>\n    <tr style=\"text-align: right;\">\n      <th></th>\n      <th>web_name</th>\n      <th>now_cost</th>\n      <th>status</th>\n      <th>player_type_id</th>\n      <th>total_points</th>\n      <th>minutes</th>\n      <th>PP90</th>\n      <th>PPG</th>\n      <th>PPMM</th>\n      <th>VAPM</th>\n    </tr>\n  </thead>\n  <tbody>\n    <tr>\n      <th>260</th>\n      <td>Costa</td>\n      <td>56</td>\n      <td>a</td>\n      <td>3</td>\n      <td>19</td>\n      <td>180</td>\n      <td>9.500000</td>\n      <td>9.5</td>\n      <td>1.696429</td>\n      <td>1.339286</td>\n    </tr>\n    <tr>\n      <th>156</th>\n      <td>Zaha</td>\n      <td>71</td>\n      <td>a</td>\n      <td>3</td>\n      <td>23</td>\n      <td>180</td>\n      <td>11.500000</td>\n      <td>11.5</td>\n      <td>1.619718</td>\n      <td>1.338028</td>\n    </tr>\n    <tr>\n      <th>253</th>\n      <td>Klich</td>\n      <td>56</td>\n      <td>a</td>\n      <td>3</td>\n      <td>18</td>\n      <td>170</td>\n      <td>9.529412</td>\n      <td>9.0</td>\n      <td>1.607143</td>\n      <td>1.250000</td>\n    </tr>\n    <tr>\n      <th>446</th>\n      <td>Son</td>\n      <td>90</td>\n      <td>a</td>\n      <td>3</td>\n      <td>26</td>\n      <td>180</td>\n      <td>13.000000</td>\n      <td>13.0</td>\n      <td>1.444444</td>\n      <td>1.222222</td>\n    </tr>\n    <tr>\n      <th>384</th>\n      <td>Hendrick</td>\n      <td>50</td>\n      <td>a</td>\n      <td>3</td>\n      <td>16</td>\n      <td>180</td>\n      <td>8.000000</td>\n      <td>8.0</td>\n      <td>1.600000</td>\n      <td>1.200000</td>\n    </tr>\n  </tbody>\n</table>\n</div>"
     },
     "metadata": {},
     "execution_count": 68
    }
   ],
   "source": [
    "top_players[top_players['player_type_id'] == 3].head(5)"
   ]
  },
  {
   "cell_type": "code",
   "execution_count": 69,
   "metadata": {},
   "outputs": [
    {
     "output_type": "execute_result",
     "data": {
      "text/plain": "          web_name  now_cost status  player_type_id  total_points  minutes  \\\n257        Bamford        57      a               4            21      130   \n183  Calvert-Lewin        72      a               4            25      158   \n74          Maupay        65      a               4            18      180   \n\n          PP90   PPG      PPMM      VAPM  \n257  14.538462  10.5  1.842105  1.491228  \n183  14.240506  12.5  1.736111  1.458333  \n74    9.000000   9.0  1.384615  1.076923  ",
      "text/html": "<div>\n<style scoped>\n    .dataframe tbody tr th:only-of-type {\n        vertical-align: middle;\n    }\n\n    .dataframe tbody tr th {\n        vertical-align: top;\n    }\n\n    .dataframe thead th {\n        text-align: right;\n    }\n</style>\n<table border=\"1\" class=\"dataframe\">\n  <thead>\n    <tr style=\"text-align: right;\">\n      <th></th>\n      <th>web_name</th>\n      <th>now_cost</th>\n      <th>status</th>\n      <th>player_type_id</th>\n      <th>total_points</th>\n      <th>minutes</th>\n      <th>PP90</th>\n      <th>PPG</th>\n      <th>PPMM</th>\n      <th>VAPM</th>\n    </tr>\n  </thead>\n  <tbody>\n    <tr>\n      <th>257</th>\n      <td>Bamford</td>\n      <td>57</td>\n      <td>a</td>\n      <td>4</td>\n      <td>21</td>\n      <td>130</td>\n      <td>14.538462</td>\n      <td>10.5</td>\n      <td>1.842105</td>\n      <td>1.491228</td>\n    </tr>\n    <tr>\n      <th>183</th>\n      <td>Calvert-Lewin</td>\n      <td>72</td>\n      <td>a</td>\n      <td>4</td>\n      <td>25</td>\n      <td>158</td>\n      <td>14.240506</td>\n      <td>12.5</td>\n      <td>1.736111</td>\n      <td>1.458333</td>\n    </tr>\n    <tr>\n      <th>74</th>\n      <td>Maupay</td>\n      <td>65</td>\n      <td>a</td>\n      <td>4</td>\n      <td>18</td>\n      <td>180</td>\n      <td>9.000000</td>\n      <td>9.0</td>\n      <td>1.384615</td>\n      <td>1.076923</td>\n    </tr>\n  </tbody>\n</table>\n</div>"
     },
     "metadata": {},
     "execution_count": 69
    }
   ],
   "source": [
    "top_players[top_players['player_type_id'] == 4].head(3)"
   ]
  },
  {
   "cell_type": "code",
   "execution_count": 71,
   "metadata": {
    "tags": []
   },
   "outputs": [
    {
     "output_type": "stream",
     "name": "stdout",
     "text": "Price for the best team is 88.2\n"
    }
   ],
   "source": [
    "price_gk = top_players['now_cost'][top_players['player_type_id'] == 1].head(2).sum()\n",
    "price_def = top_players['now_cost'][top_players['player_type_id'] == 2].head(5).sum()\n",
    "price_mid = top_players['now_cost'][top_players['player_type_id'] == 3].head(5).sum()\n",
    "price_fwd = top_players['now_cost'][top_players['player_type_id'] == 4].head(3).sum()\n",
    "\n",
    "\n",
    "team_cost = price_gk + price_def + price_mid + price_fwd\n",
    "print(\"Price for the best team is \" + str(np.divide(team_cost,10)))"
   ]
  },
  {
   "cell_type": "code",
   "execution_count": 87,
   "metadata": {},
   "outputs": [],
   "source": [
    "def player_value():\n",
    "\n",
    "    fig = px.scatter(\n",
    "        top_players.head(30), \n",
    "        x = 'now_cost', \n",
    "        y = 'VAPM',\n",
    "        #size = 'minutes',\n",
    "        color = 'player_type_id',\n",
    "        text = 'web_name',\n",
    "        hover_data=['PPG'])\n",
    "\n",
    "    fig.show()"
   ]
  },
  {
   "cell_type": "code",
   "execution_count": 88,
   "metadata": {},
   "outputs": [
    {
     "output_type": "display_data",
     "data": {
      "application/vnd.plotly.v1+json": {
       "config": {
        "plotlyServerURL": "https://plot.ly"
       },
       "data": [
        {
         "customdata": [
          [
           11.5
          ],
          [
           10.5
          ],
          [
           12.5
          ],
          [
           9.5
          ],
          [
           11.5
          ],
          [
           8
          ],
          [
           8.5
          ],
          [
           9
          ],
          [
           13
          ],
          [
           8
          ],
          [
           8
          ],
          [
           8.5
          ],
          [
           7.5
          ],
          [
           9
          ],
          [
           7.5
          ],
          [
           7
          ],
          [
           11.5
          ],
          [
           6.5
          ],
          [
           6.5
          ],
          [
           8
          ],
          [
           5.5
          ],
          [
           7
          ],
          [
           6
          ],
          [
           11.5
          ],
          [
           7
          ],
          [
           6.5
          ],
          [
           8
          ],
          [
           6.5
          ],
          [
           7.5
          ],
          [
           6
          ]
         ],
         "hovertemplate": "now_cost=%{x}<br>VAPM=%{y}<br>web_name=%{text}<br>PPG=%{customdata[0]}<br>player_type_id=%{marker.color}<extra></extra>",
         "legendgroup": "",
         "marker": {
          "color": [
           2,
           4,
           4,
           3,
           3,
           2,
           2,
           3,
           3,
           3,
           2,
           3,
           2,
           4,
           1,
           3,
           4,
           2,
           1,
           3,
           2,
           3,
           3,
           3,
           2,
           4,
           3,
           2,
           3,
           3
          ],
          "coloraxis": "coloraxis",
          "symbol": "circle"
         },
         "mode": "markers+text",
         "name": "",
         "orientation": "v",
         "showlegend": false,
         "text": [
          "Castagne",
          "Bamford",
          "Calvert-Lewin",
          "Costa",
          "Zaha",
          "Justin",
          "Gabriel",
          "Klich",
          "Son",
          "Hendrick",
          "Saïss",
          "Townsend",
          "James",
          "Maupay",
          "Alisson",
          "Praet",
          "Kane",
          "Keane",
          "Guaita",
          "Barnes",
          "Mitchell",
          "Trossard",
          "Jorginho",
          "Salah",
          "van Dijk",
          "Mitrović",
          "Willian",
          "Digne",
          "Rodríguez",
          "Pereira"
         ],
         "type": "scatter",
         "x": [
          56,
          57,
          72,
          56,
          71,
          46,
          51,
          56,
          90,
          50,
          51,
          60,
          51,
          65,
          60,
          55,
          105,
          50,
          50,
          70,
          41,
          60,
          50,
          121,
          65,
          60,
          81,
          61,
          75,
          60
         ],
         "xaxis": "x",
         "y": [
          1.6964285714285716,
          1.4912280701754386,
          1.4583333333333333,
          1.3392857142857144,
          1.3380281690140845,
          1.3043478260869563,
          1.2745098039215688,
          1.25,
          1.2222222222222223,
          1.2,
          1.1764705882352942,
          1.0833333333333333,
          1.0784313725490198,
          1.0769230769230769,
          0.9166666666666666,
          0.9090909090909092,
          0.9047619047619048,
          0.9,
          0.9,
          0.8571428571428571,
          0.853658536585366,
          0.8333333333333334,
          0.8,
          0.7851239669421488,
          0.7692307692307693,
          0.75,
          0.7407407407407408,
          0.7377049180327869,
          0.7333333333333333,
          0.6666666666666666
         ],
         "yaxis": "y"
        }
       ],
       "layout": {
        "coloraxis": {
         "colorbar": {
          "title": {
           "text": "player_type_id"
          }
         },
         "colorscale": [
          [
           0,
           "#0d0887"
          ],
          [
           0.1111111111111111,
           "#46039f"
          ],
          [
           0.2222222222222222,
           "#7201a8"
          ],
          [
           0.3333333333333333,
           "#9c179e"
          ],
          [
           0.4444444444444444,
           "#bd3786"
          ],
          [
           0.5555555555555556,
           "#d8576b"
          ],
          [
           0.6666666666666666,
           "#ed7953"
          ],
          [
           0.7777777777777778,
           "#fb9f3a"
          ],
          [
           0.8888888888888888,
           "#fdca26"
          ],
          [
           1,
           "#f0f921"
          ]
         ]
        },
        "legend": {
         "tracegroupgap": 0
        },
        "margin": {
         "t": 60
        },
        "template": {
         "data": {
          "bar": [
           {
            "error_x": {
             "color": "#2a3f5f"
            },
            "error_y": {
             "color": "#2a3f5f"
            },
            "marker": {
             "line": {
              "color": "#E5ECF6",
              "width": 0.5
             }
            },
            "type": "bar"
           }
          ],
          "barpolar": [
           {
            "marker": {
             "line": {
              "color": "#E5ECF6",
              "width": 0.5
             }
            },
            "type": "barpolar"
           }
          ],
          "carpet": [
           {
            "aaxis": {
             "endlinecolor": "#2a3f5f",
             "gridcolor": "white",
             "linecolor": "white",
             "minorgridcolor": "white",
             "startlinecolor": "#2a3f5f"
            },
            "baxis": {
             "endlinecolor": "#2a3f5f",
             "gridcolor": "white",
             "linecolor": "white",
             "minorgridcolor": "white",
             "startlinecolor": "#2a3f5f"
            },
            "type": "carpet"
           }
          ],
          "choropleth": [
           {
            "colorbar": {
             "outlinewidth": 0,
             "ticks": ""
            },
            "type": "choropleth"
           }
          ],
          "contour": [
           {
            "colorbar": {
             "outlinewidth": 0,
             "ticks": ""
            },
            "colorscale": [
             [
              0,
              "#0d0887"
             ],
             [
              0.1111111111111111,
              "#46039f"
             ],
             [
              0.2222222222222222,
              "#7201a8"
             ],
             [
              0.3333333333333333,
              "#9c179e"
             ],
             [
              0.4444444444444444,
              "#bd3786"
             ],
             [
              0.5555555555555556,
              "#d8576b"
             ],
             [
              0.6666666666666666,
              "#ed7953"
             ],
             [
              0.7777777777777778,
              "#fb9f3a"
             ],
             [
              0.8888888888888888,
              "#fdca26"
             ],
             [
              1,
              "#f0f921"
             ]
            ],
            "type": "contour"
           }
          ],
          "contourcarpet": [
           {
            "colorbar": {
             "outlinewidth": 0,
             "ticks": ""
            },
            "type": "contourcarpet"
           }
          ],
          "heatmap": [
           {
            "colorbar": {
             "outlinewidth": 0,
             "ticks": ""
            },
            "colorscale": [
             [
              0,
              "#0d0887"
             ],
             [
              0.1111111111111111,
              "#46039f"
             ],
             [
              0.2222222222222222,
              "#7201a8"
             ],
             [
              0.3333333333333333,
              "#9c179e"
             ],
             [
              0.4444444444444444,
              "#bd3786"
             ],
             [
              0.5555555555555556,
              "#d8576b"
             ],
             [
              0.6666666666666666,
              "#ed7953"
             ],
             [
              0.7777777777777778,
              "#fb9f3a"
             ],
             [
              0.8888888888888888,
              "#fdca26"
             ],
             [
              1,
              "#f0f921"
             ]
            ],
            "type": "heatmap"
           }
          ],
          "heatmapgl": [
           {
            "colorbar": {
             "outlinewidth": 0,
             "ticks": ""
            },
            "colorscale": [
             [
              0,
              "#0d0887"
             ],
             [
              0.1111111111111111,
              "#46039f"
             ],
             [
              0.2222222222222222,
              "#7201a8"
             ],
             [
              0.3333333333333333,
              "#9c179e"
             ],
             [
              0.4444444444444444,
              "#bd3786"
             ],
             [
              0.5555555555555556,
              "#d8576b"
             ],
             [
              0.6666666666666666,
              "#ed7953"
             ],
             [
              0.7777777777777778,
              "#fb9f3a"
             ],
             [
              0.8888888888888888,
              "#fdca26"
             ],
             [
              1,
              "#f0f921"
             ]
            ],
            "type": "heatmapgl"
           }
          ],
          "histogram": [
           {
            "marker": {
             "colorbar": {
              "outlinewidth": 0,
              "ticks": ""
             }
            },
            "type": "histogram"
           }
          ],
          "histogram2d": [
           {
            "colorbar": {
             "outlinewidth": 0,
             "ticks": ""
            },
            "colorscale": [
             [
              0,
              "#0d0887"
             ],
             [
              0.1111111111111111,
              "#46039f"
             ],
             [
              0.2222222222222222,
              "#7201a8"
             ],
             [
              0.3333333333333333,
              "#9c179e"
             ],
             [
              0.4444444444444444,
              "#bd3786"
             ],
             [
              0.5555555555555556,
              "#d8576b"
             ],
             [
              0.6666666666666666,
              "#ed7953"
             ],
             [
              0.7777777777777778,
              "#fb9f3a"
             ],
             [
              0.8888888888888888,
              "#fdca26"
             ],
             [
              1,
              "#f0f921"
             ]
            ],
            "type": "histogram2d"
           }
          ],
          "histogram2dcontour": [
           {
            "colorbar": {
             "outlinewidth": 0,
             "ticks": ""
            },
            "colorscale": [
             [
              0,
              "#0d0887"
             ],
             [
              0.1111111111111111,
              "#46039f"
             ],
             [
              0.2222222222222222,
              "#7201a8"
             ],
             [
              0.3333333333333333,
              "#9c179e"
             ],
             [
              0.4444444444444444,
              "#bd3786"
             ],
             [
              0.5555555555555556,
              "#d8576b"
             ],
             [
              0.6666666666666666,
              "#ed7953"
             ],
             [
              0.7777777777777778,
              "#fb9f3a"
             ],
             [
              0.8888888888888888,
              "#fdca26"
             ],
             [
              1,
              "#f0f921"
             ]
            ],
            "type": "histogram2dcontour"
           }
          ],
          "mesh3d": [
           {
            "colorbar": {
             "outlinewidth": 0,
             "ticks": ""
            },
            "type": "mesh3d"
           }
          ],
          "parcoords": [
           {
            "line": {
             "colorbar": {
              "outlinewidth": 0,
              "ticks": ""
             }
            },
            "type": "parcoords"
           }
          ],
          "pie": [
           {
            "automargin": true,
            "type": "pie"
           }
          ],
          "scatter": [
           {
            "marker": {
             "colorbar": {
              "outlinewidth": 0,
              "ticks": ""
             }
            },
            "type": "scatter"
           }
          ],
          "scatter3d": [
           {
            "line": {
             "colorbar": {
              "outlinewidth": 0,
              "ticks": ""
             }
            },
            "marker": {
             "colorbar": {
              "outlinewidth": 0,
              "ticks": ""
             }
            },
            "type": "scatter3d"
           }
          ],
          "scattercarpet": [
           {
            "marker": {
             "colorbar": {
              "outlinewidth": 0,
              "ticks": ""
             }
            },
            "type": "scattercarpet"
           }
          ],
          "scattergeo": [
           {
            "marker": {
             "colorbar": {
              "outlinewidth": 0,
              "ticks": ""
             }
            },
            "type": "scattergeo"
           }
          ],
          "scattergl": [
           {
            "marker": {
             "colorbar": {
              "outlinewidth": 0,
              "ticks": ""
             }
            },
            "type": "scattergl"
           }
          ],
          "scattermapbox": [
           {
            "marker": {
             "colorbar": {
              "outlinewidth": 0,
              "ticks": ""
             }
            },
            "type": "scattermapbox"
           }
          ],
          "scatterpolar": [
           {
            "marker": {
             "colorbar": {
              "outlinewidth": 0,
              "ticks": ""
             }
            },
            "type": "scatterpolar"
           }
          ],
          "scatterpolargl": [
           {
            "marker": {
             "colorbar": {
              "outlinewidth": 0,
              "ticks": ""
             }
            },
            "type": "scatterpolargl"
           }
          ],
          "scatterternary": [
           {
            "marker": {
             "colorbar": {
              "outlinewidth": 0,
              "ticks": ""
             }
            },
            "type": "scatterternary"
           }
          ],
          "surface": [
           {
            "colorbar": {
             "outlinewidth": 0,
             "ticks": ""
            },
            "colorscale": [
             [
              0,
              "#0d0887"
             ],
             [
              0.1111111111111111,
              "#46039f"
             ],
             [
              0.2222222222222222,
              "#7201a8"
             ],
             [
              0.3333333333333333,
              "#9c179e"
             ],
             [
              0.4444444444444444,
              "#bd3786"
             ],
             [
              0.5555555555555556,
              "#d8576b"
             ],
             [
              0.6666666666666666,
              "#ed7953"
             ],
             [
              0.7777777777777778,
              "#fb9f3a"
             ],
             [
              0.8888888888888888,
              "#fdca26"
             ],
             [
              1,
              "#f0f921"
             ]
            ],
            "type": "surface"
           }
          ],
          "table": [
           {
            "cells": {
             "fill": {
              "color": "#EBF0F8"
             },
             "line": {
              "color": "white"
             }
            },
            "header": {
             "fill": {
              "color": "#C8D4E3"
             },
             "line": {
              "color": "white"
             }
            },
            "type": "table"
           }
          ]
         },
         "layout": {
          "annotationdefaults": {
           "arrowcolor": "#2a3f5f",
           "arrowhead": 0,
           "arrowwidth": 1
          },
          "coloraxis": {
           "colorbar": {
            "outlinewidth": 0,
            "ticks": ""
           }
          },
          "colorscale": {
           "diverging": [
            [
             0,
             "#8e0152"
            ],
            [
             0.1,
             "#c51b7d"
            ],
            [
             0.2,
             "#de77ae"
            ],
            [
             0.3,
             "#f1b6da"
            ],
            [
             0.4,
             "#fde0ef"
            ],
            [
             0.5,
             "#f7f7f7"
            ],
            [
             0.6,
             "#e6f5d0"
            ],
            [
             0.7,
             "#b8e186"
            ],
            [
             0.8,
             "#7fbc41"
            ],
            [
             0.9,
             "#4d9221"
            ],
            [
             1,
             "#276419"
            ]
           ],
           "sequential": [
            [
             0,
             "#0d0887"
            ],
            [
             0.1111111111111111,
             "#46039f"
            ],
            [
             0.2222222222222222,
             "#7201a8"
            ],
            [
             0.3333333333333333,
             "#9c179e"
            ],
            [
             0.4444444444444444,
             "#bd3786"
            ],
            [
             0.5555555555555556,
             "#d8576b"
            ],
            [
             0.6666666666666666,
             "#ed7953"
            ],
            [
             0.7777777777777778,
             "#fb9f3a"
            ],
            [
             0.8888888888888888,
             "#fdca26"
            ],
            [
             1,
             "#f0f921"
            ]
           ],
           "sequentialminus": [
            [
             0,
             "#0d0887"
            ],
            [
             0.1111111111111111,
             "#46039f"
            ],
            [
             0.2222222222222222,
             "#7201a8"
            ],
            [
             0.3333333333333333,
             "#9c179e"
            ],
            [
             0.4444444444444444,
             "#bd3786"
            ],
            [
             0.5555555555555556,
             "#d8576b"
            ],
            [
             0.6666666666666666,
             "#ed7953"
            ],
            [
             0.7777777777777778,
             "#fb9f3a"
            ],
            [
             0.8888888888888888,
             "#fdca26"
            ],
            [
             1,
             "#f0f921"
            ]
           ]
          },
          "colorway": [
           "#636efa",
           "#EF553B",
           "#00cc96",
           "#ab63fa",
           "#FFA15A",
           "#19d3f3",
           "#FF6692",
           "#B6E880",
           "#FF97FF",
           "#FECB52"
          ],
          "font": {
           "color": "#2a3f5f"
          },
          "geo": {
           "bgcolor": "white",
           "lakecolor": "white",
           "landcolor": "#E5ECF6",
           "showlakes": true,
           "showland": true,
           "subunitcolor": "white"
          },
          "hoverlabel": {
           "align": "left"
          },
          "hovermode": "closest",
          "mapbox": {
           "style": "light"
          },
          "paper_bgcolor": "white",
          "plot_bgcolor": "#E5ECF6",
          "polar": {
           "angularaxis": {
            "gridcolor": "white",
            "linecolor": "white",
            "ticks": ""
           },
           "bgcolor": "#E5ECF6",
           "radialaxis": {
            "gridcolor": "white",
            "linecolor": "white",
            "ticks": ""
           }
          },
          "scene": {
           "xaxis": {
            "backgroundcolor": "#E5ECF6",
            "gridcolor": "white",
            "gridwidth": 2,
            "linecolor": "white",
            "showbackground": true,
            "ticks": "",
            "zerolinecolor": "white"
           },
           "yaxis": {
            "backgroundcolor": "#E5ECF6",
            "gridcolor": "white",
            "gridwidth": 2,
            "linecolor": "white",
            "showbackground": true,
            "ticks": "",
            "zerolinecolor": "white"
           },
           "zaxis": {
            "backgroundcolor": "#E5ECF6",
            "gridcolor": "white",
            "gridwidth": 2,
            "linecolor": "white",
            "showbackground": true,
            "ticks": "",
            "zerolinecolor": "white"
           }
          },
          "shapedefaults": {
           "line": {
            "color": "#2a3f5f"
           }
          },
          "ternary": {
           "aaxis": {
            "gridcolor": "white",
            "linecolor": "white",
            "ticks": ""
           },
           "baxis": {
            "gridcolor": "white",
            "linecolor": "white",
            "ticks": ""
           },
           "bgcolor": "#E5ECF6",
           "caxis": {
            "gridcolor": "white",
            "linecolor": "white",
            "ticks": ""
           }
          },
          "title": {
           "x": 0.05
          },
          "xaxis": {
           "automargin": true,
           "gridcolor": "white",
           "linecolor": "white",
           "ticks": "",
           "title": {
            "standoff": 15
           },
           "zerolinecolor": "white",
           "zerolinewidth": 2
          },
          "yaxis": {
           "automargin": true,
           "gridcolor": "white",
           "linecolor": "white",
           "ticks": "",
           "title": {
            "standoff": 15
           },
           "zerolinecolor": "white",
           "zerolinewidth": 2
          }
         }
        },
        "xaxis": {
         "anchor": "y",
         "domain": [
          0,
          1
         ],
         "title": {
          "text": "now_cost"
         }
        },
        "yaxis": {
         "anchor": "x",
         "domain": [
          0,
          1
         ],
         "title": {
          "text": "VAPM"
         }
        }
       }
      }
     },
     "metadata": {}
    }
   ],
   "source": [
    "player_value()"
   ]
  },
  {
   "cell_type": "code",
   "execution_count": null,
   "metadata": {},
   "outputs": [],
   "source": []
  }
 ]
}