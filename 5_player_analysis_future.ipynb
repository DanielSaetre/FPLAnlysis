{
 "cells": [
  {
   "cell_type": "code",
   "execution_count": 3,
   "metadata": {},
   "outputs": [],
   "source": [
    "import numpy as np\n",
    "import pandas as pd\n",
    "import seaborn as sns\n",
    "import scipy\n",
    "\n",
    "import matplotlib.pyplot as plt\n",
    "import matplotlib.ticker as ticker\n",
    "\n",
    "import plotly.express as px\n",
    "\n",
    "from datetime import datetime\n",
    "from scipy import stats\n",
    "\n",
    "#Set Display options\n",
    "pd.set_option('display.max_rows', 50)\n",
    "pd.set_option('display.max_columns', 50)"
   ]
  },
  {
   "cell_type": "code",
   "execution_count": 4,
   "metadata": {},
   "outputs": [],
   "source": [
    "#Pick Season\n",
    "season = \"2021-22\"\n",
    "\n",
    "#Import Files\n",
    "all_players = pd.read_csv (r'./data/' + season + '/Merged_data/all_players_merged.csv', parse_dates= [\"news_added\"])\n",
    "#all_teams = pd.read_csv (r'./data/' + season + '/Cleaned_data/all_teams.csv')\n",
    "all_events = pd.read_csv (r'./data/' + season + '/Cleaned_data/all_events.csv', parse_dates= [\"deadline_time\"])\n",
    "player_types = pd.read_csv(r'./data/' + season + '/Cleaned_data/player_types.csv')\n",
    "game_phases = pd.read_csv(r'./data/' + season + '/Cleaned_data/game_phases.csv')\n",
    "\n",
    "player_season_history = pd.read_csv(r'./data/' + season + '/Cleaned_data/player_season_history.csv')\n",
    "player_gameweek_history = pd.read_csv(r'./data/' + season + '/Cleaned_data/player_gameweek_history.csv')\n",
    "#player_gameweek_history = pd.read_csv(r'./data/2019-20/player_past_history/player_gameweek_history_raw.csv')\n",
    "player_future_fixture = pd.read_csv(r'./data/' + season + '/Cleaned_data/player_future_fixture.csv', parse_dates = [\"kickoff_time\"])\n",
    "\n"
   ]
  },
  {
   "cell_type": "code",
   "execution_count": 5,
   "metadata": {},
   "outputs": [
    {
     "data": {
      "text/html": [
       "<div>\n",
       "<style scoped>\n",
       "    .dataframe tbody tr th:only-of-type {\n",
       "        vertical-align: middle;\n",
       "    }\n",
       "\n",
       "    .dataframe tbody tr th {\n",
       "        vertical-align: top;\n",
       "    }\n",
       "\n",
       "    .dataframe thead th {\n",
       "        text-align: right;\n",
       "    }\n",
       "</style>\n",
       "<table border=\"1\" class=\"dataframe\">\n",
       "  <thead>\n",
       "    <tr style=\"text-align: right;\">\n",
       "      <th></th>\n",
       "      <th>fixture_id</th>\n",
       "      <th>fixture_code</th>\n",
       "      <th>home_team_id</th>\n",
       "      <th>team_h_score</th>\n",
       "      <th>away_team_id</th>\n",
       "      <th>team_a_score</th>\n",
       "      <th>event</th>\n",
       "      <th>finished</th>\n",
       "      <th>minutes</th>\n",
       "      <th>provisional_start_time</th>\n",
       "      <th>kickoff_time</th>\n",
       "      <th>event_name</th>\n",
       "      <th>is_home</th>\n",
       "      <th>difficulty</th>\n",
       "      <th>player_id</th>\n",
       "      <th>opponent_team_id</th>\n",
       "      <th>team_id</th>\n",
       "    </tr>\n",
       "  </thead>\n",
       "  <tbody>\n",
       "    <tr>\n",
       "      <th>0</th>\n",
       "      <td>191</td>\n",
       "      <td>2210461</td>\n",
       "      <td>1</td>\n",
       "      <td>NaN</td>\n",
       "      <td>20</td>\n",
       "      <td>NaN</td>\n",
       "      <td>26.0</td>\n",
       "      <td>False</td>\n",
       "      <td>0</td>\n",
       "      <td>False</td>\n",
       "      <td>2022-02-24 19:45:00</td>\n",
       "      <td>Gameweek 26</td>\n",
       "      <td>True</td>\n",
       "      <td>3</td>\n",
       "      <td>1</td>\n",
       "      <td>20</td>\n",
       "      <td>1</td>\n",
       "    </tr>\n",
       "    <tr>\n",
       "      <th>1</th>\n",
       "      <td>279</td>\n",
       "      <td>2210549</td>\n",
       "      <td>18</td>\n",
       "      <td>NaN</td>\n",
       "      <td>1</td>\n",
       "      <td>NaN</td>\n",
       "      <td>28.0</td>\n",
       "      <td>False</td>\n",
       "      <td>0</td>\n",
       "      <td>False</td>\n",
       "      <td>2022-03-06 14:00:00</td>\n",
       "      <td>Gameweek 28</td>\n",
       "      <td>False</td>\n",
       "      <td>2</td>\n",
       "      <td>1</td>\n",
       "      <td>18</td>\n",
       "      <td>1</td>\n",
       "    </tr>\n",
       "    <tr>\n",
       "      <th>2</th>\n",
       "      <td>281</td>\n",
       "      <td>2210551</td>\n",
       "      <td>1</td>\n",
       "      <td>NaN</td>\n",
       "      <td>9</td>\n",
       "      <td>NaN</td>\n",
       "      <td>29.0</td>\n",
       "      <td>False</td>\n",
       "      <td>0</td>\n",
       "      <td>False</td>\n",
       "      <td>2022-03-13 16:30:00</td>\n",
       "      <td>Gameweek 29</td>\n",
       "      <td>True</td>\n",
       "      <td>3</td>\n",
       "      <td>1</td>\n",
       "      <td>9</td>\n",
       "      <td>1</td>\n",
       "    </tr>\n",
       "    <tr>\n",
       "      <th>3</th>\n",
       "      <td>261</td>\n",
       "      <td>2210531</td>\n",
       "      <td>1</td>\n",
       "      <td>NaN</td>\n",
       "      <td>11</td>\n",
       "      <td>NaN</td>\n",
       "      <td>29.0</td>\n",
       "      <td>False</td>\n",
       "      <td>0</td>\n",
       "      <td>False</td>\n",
       "      <td>2022-03-16 20:15:00</td>\n",
       "      <td>Gameweek 29</td>\n",
       "      <td>True</td>\n",
       "      <td>4</td>\n",
       "      <td>1</td>\n",
       "      <td>11</td>\n",
       "      <td>1</td>\n",
       "    </tr>\n",
       "    <tr>\n",
       "      <th>4</th>\n",
       "      <td>291</td>\n",
       "      <td>2210561</td>\n",
       "      <td>2</td>\n",
       "      <td>NaN</td>\n",
       "      <td>1</td>\n",
       "      <td>NaN</td>\n",
       "      <td>30.0</td>\n",
       "      <td>False</td>\n",
       "      <td>0</td>\n",
       "      <td>False</td>\n",
       "      <td>2022-03-19 12:30:00</td>\n",
       "      <td>Gameweek 30</td>\n",
       "      <td>False</td>\n",
       "      <td>3</td>\n",
       "      <td>1</td>\n",
       "      <td>2</td>\n",
       "      <td>1</td>\n",
       "    </tr>\n",
       "  </tbody>\n",
       "</table>\n",
       "</div>"
      ],
      "text/plain": [
       "   fixture_id  fixture_code  home_team_id  team_h_score  away_team_id  \\\n",
       "0         191       2210461             1           NaN            20   \n",
       "1         279       2210549            18           NaN             1   \n",
       "2         281       2210551             1           NaN             9   \n",
       "3         261       2210531             1           NaN            11   \n",
       "4         291       2210561             2           NaN             1   \n",
       "\n",
       "   team_a_score  event  finished  minutes  provisional_start_time  \\\n",
       "0           NaN   26.0     False        0                   False   \n",
       "1           NaN   28.0     False        0                   False   \n",
       "2           NaN   29.0     False        0                   False   \n",
       "3           NaN   29.0     False        0                   False   \n",
       "4           NaN   30.0     False        0                   False   \n",
       "\n",
       "         kickoff_time   event_name  is_home  difficulty  player_id  \\\n",
       "0 2022-02-24 19:45:00  Gameweek 26     True           3          1   \n",
       "1 2022-03-06 14:00:00  Gameweek 28    False           2          1   \n",
       "2 2022-03-13 16:30:00  Gameweek 29     True           3          1   \n",
       "3 2022-03-16 20:15:00  Gameweek 29     True           4          1   \n",
       "4 2022-03-19 12:30:00  Gameweek 30    False           3          1   \n",
       "\n",
       "   opponent_team_id  team_id  \n",
       "0                20        1  \n",
       "1                18        1  \n",
       "2                 9        1  \n",
       "3                11        1  \n",
       "4                 2        1  "
      ]
     },
     "execution_count": 5,
     "metadata": {},
     "output_type": "execute_result"
    }
   ],
   "source": [
    "player_future_fixture.head()"
   ]
  },
  {
   "cell_type": "code",
   "execution_count": 6,
   "metadata": {},
   "outputs": [],
   "source": [
    "def player_future(player_id):\n",
    "    data = player_future_fixture[player_future_fixture.player_id == player_id]\n",
    "\n",
    "    player = all_players[all_players.player_id == player_id]\n",
    "    team = data.team_id.iloc[0]\n",
    "    goals_scored = player.iloc[0].goals_scored\n",
    "    player_name = player.iloc[0]['web_name']\n",
    "\n",
    "    fig = px.line(\n",
    "        data, \n",
    "        x = 'event_name', \n",
    "        y = 'difficulty', \n",
    "        title = player_name,\n",
    "        hover_data=['opponent_team_id'])\n",
    "\n",
    "    fig.show()"
   ]
  },
  {
   "cell_type": "code",
   "execution_count": 7,
   "metadata": {},
   "outputs": [
    {
     "data": {
      "application/vnd.plotly.v1+json": {
       "config": {
        "plotlyServerURL": "https://plot.ly"
       },
       "data": [
        {
         "customdata": [
          [
           18
          ],
          [
           5
          ],
          [
           20
          ],
          [
           12
          ],
          [
           14
          ],
          [
           1
          ],
          [
           9
          ],
          [
           8
          ],
          [
           10
          ],
          [
           16
          ],
          [
           18
          ],
          [
           2
          ],
          [
           13
          ]
         ],
         "hovertemplate": "event_name=%{x}<br>difficulty=%{y}<br>opponent_team_id=%{customdata[0]}<extra></extra>",
         "legendgroup": "",
         "line": {
          "color": "#636efa",
          "dash": "solid"
         },
         "marker": {
          "symbol": "circle"
         },
         "mode": "lines",
         "name": "",
         "orientation": "v",
         "showlegend": false,
         "type": "scatter",
         "x": [
          "Gameweek 26",
          "Gameweek 27",
          "Gameweek 28",
          "Gameweek 29",
          "Gameweek 30",
          "Gameweek 31",
          "Gameweek 32",
          "Gameweek 33",
          "Gameweek 34",
          "Gameweek 35",
          "Gameweek 36",
          "Gameweek 37",
          "Gameweek 38"
         ],
         "xaxis": "x",
         "y": [
          2,
          2,
          4,
          5,
          2,
          3,
          3,
          2,
          2,
          2,
          2,
          3,
          3
         ],
         "yaxis": "y"
        }
       ],
       "layout": {
        "legend": {
         "tracegroupgap": 0
        },
        "template": {
         "data": {
          "bar": [
           {
            "error_x": {
             "color": "#2a3f5f"
            },
            "error_y": {
             "color": "#2a3f5f"
            },
            "marker": {
             "line": {
              "color": "#E5ECF6",
              "width": 0.5
             },
             "pattern": {
              "fillmode": "overlay",
              "size": 10,
              "solidity": 0.2
             }
            },
            "type": "bar"
           }
          ],
          "barpolar": [
           {
            "marker": {
             "line": {
              "color": "#E5ECF6",
              "width": 0.5
             },
             "pattern": {
              "fillmode": "overlay",
              "size": 10,
              "solidity": 0.2
             }
            },
            "type": "barpolar"
           }
          ],
          "carpet": [
           {
            "aaxis": {
             "endlinecolor": "#2a3f5f",
             "gridcolor": "white",
             "linecolor": "white",
             "minorgridcolor": "white",
             "startlinecolor": "#2a3f5f"
            },
            "baxis": {
             "endlinecolor": "#2a3f5f",
             "gridcolor": "white",
             "linecolor": "white",
             "minorgridcolor": "white",
             "startlinecolor": "#2a3f5f"
            },
            "type": "carpet"
           }
          ],
          "choropleth": [
           {
            "colorbar": {
             "outlinewidth": 0,
             "ticks": ""
            },
            "type": "choropleth"
           }
          ],
          "contour": [
           {
            "colorbar": {
             "outlinewidth": 0,
             "ticks": ""
            },
            "colorscale": [
             [
              0,
              "#0d0887"
             ],
             [
              0.1111111111111111,
              "#46039f"
             ],
             [
              0.2222222222222222,
              "#7201a8"
             ],
             [
              0.3333333333333333,
              "#9c179e"
             ],
             [
              0.4444444444444444,
              "#bd3786"
             ],
             [
              0.5555555555555556,
              "#d8576b"
             ],
             [
              0.6666666666666666,
              "#ed7953"
             ],
             [
              0.7777777777777778,
              "#fb9f3a"
             ],
             [
              0.8888888888888888,
              "#fdca26"
             ],
             [
              1,
              "#f0f921"
             ]
            ],
            "type": "contour"
           }
          ],
          "contourcarpet": [
           {
            "colorbar": {
             "outlinewidth": 0,
             "ticks": ""
            },
            "type": "contourcarpet"
           }
          ],
          "heatmap": [
           {
            "colorbar": {
             "outlinewidth": 0,
             "ticks": ""
            },
            "colorscale": [
             [
              0,
              "#0d0887"
             ],
             [
              0.1111111111111111,
              "#46039f"
             ],
             [
              0.2222222222222222,
              "#7201a8"
             ],
             [
              0.3333333333333333,
              "#9c179e"
             ],
             [
              0.4444444444444444,
              "#bd3786"
             ],
             [
              0.5555555555555556,
              "#d8576b"
             ],
             [
              0.6666666666666666,
              "#ed7953"
             ],
             [
              0.7777777777777778,
              "#fb9f3a"
             ],
             [
              0.8888888888888888,
              "#fdca26"
             ],
             [
              1,
              "#f0f921"
             ]
            ],
            "type": "heatmap"
           }
          ],
          "heatmapgl": [
           {
            "colorbar": {
             "outlinewidth": 0,
             "ticks": ""
            },
            "colorscale": [
             [
              0,
              "#0d0887"
             ],
             [
              0.1111111111111111,
              "#46039f"
             ],
             [
              0.2222222222222222,
              "#7201a8"
             ],
             [
              0.3333333333333333,
              "#9c179e"
             ],
             [
              0.4444444444444444,
              "#bd3786"
             ],
             [
              0.5555555555555556,
              "#d8576b"
             ],
             [
              0.6666666666666666,
              "#ed7953"
             ],
             [
              0.7777777777777778,
              "#fb9f3a"
             ],
             [
              0.8888888888888888,
              "#fdca26"
             ],
             [
              1,
              "#f0f921"
             ]
            ],
            "type": "heatmapgl"
           }
          ],
          "histogram": [
           {
            "marker": {
             "pattern": {
              "fillmode": "overlay",
              "size": 10,
              "solidity": 0.2
             }
            },
            "type": "histogram"
           }
          ],
          "histogram2d": [
           {
            "colorbar": {
             "outlinewidth": 0,
             "ticks": ""
            },
            "colorscale": [
             [
              0,
              "#0d0887"
             ],
             [
              0.1111111111111111,
              "#46039f"
             ],
             [
              0.2222222222222222,
              "#7201a8"
             ],
             [
              0.3333333333333333,
              "#9c179e"
             ],
             [
              0.4444444444444444,
              "#bd3786"
             ],
             [
              0.5555555555555556,
              "#d8576b"
             ],
             [
              0.6666666666666666,
              "#ed7953"
             ],
             [
              0.7777777777777778,
              "#fb9f3a"
             ],
             [
              0.8888888888888888,
              "#fdca26"
             ],
             [
              1,
              "#f0f921"
             ]
            ],
            "type": "histogram2d"
           }
          ],
          "histogram2dcontour": [
           {
            "colorbar": {
             "outlinewidth": 0,
             "ticks": ""
            },
            "colorscale": [
             [
              0,
              "#0d0887"
             ],
             [
              0.1111111111111111,
              "#46039f"
             ],
             [
              0.2222222222222222,
              "#7201a8"
             ],
             [
              0.3333333333333333,
              "#9c179e"
             ],
             [
              0.4444444444444444,
              "#bd3786"
             ],
             [
              0.5555555555555556,
              "#d8576b"
             ],
             [
              0.6666666666666666,
              "#ed7953"
             ],
             [
              0.7777777777777778,
              "#fb9f3a"
             ],
             [
              0.8888888888888888,
              "#fdca26"
             ],
             [
              1,
              "#f0f921"
             ]
            ],
            "type": "histogram2dcontour"
           }
          ],
          "mesh3d": [
           {
            "colorbar": {
             "outlinewidth": 0,
             "ticks": ""
            },
            "type": "mesh3d"
           }
          ],
          "parcoords": [
           {
            "line": {
             "colorbar": {
              "outlinewidth": 0,
              "ticks": ""
             }
            },
            "type": "parcoords"
           }
          ],
          "pie": [
           {
            "automargin": true,
            "type": "pie"
           }
          ],
          "scatter": [
           {
            "marker": {
             "colorbar": {
              "outlinewidth": 0,
              "ticks": ""
             }
            },
            "type": "scatter"
           }
          ],
          "scatter3d": [
           {
            "line": {
             "colorbar": {
              "outlinewidth": 0,
              "ticks": ""
             }
            },
            "marker": {
             "colorbar": {
              "outlinewidth": 0,
              "ticks": ""
             }
            },
            "type": "scatter3d"
           }
          ],
          "scattercarpet": [
           {
            "marker": {
             "colorbar": {
              "outlinewidth": 0,
              "ticks": ""
             }
            },
            "type": "scattercarpet"
           }
          ],
          "scattergeo": [
           {
            "marker": {
             "colorbar": {
              "outlinewidth": 0,
              "ticks": ""
             }
            },
            "type": "scattergeo"
           }
          ],
          "scattergl": [
           {
            "marker": {
             "colorbar": {
              "outlinewidth": 0,
              "ticks": ""
             }
            },
            "type": "scattergl"
           }
          ],
          "scattermapbox": [
           {
            "marker": {
             "colorbar": {
              "outlinewidth": 0,
              "ticks": ""
             }
            },
            "type": "scattermapbox"
           }
          ],
          "scatterpolar": [
           {
            "marker": {
             "colorbar": {
              "outlinewidth": 0,
              "ticks": ""
             }
            },
            "type": "scatterpolar"
           }
          ],
          "scatterpolargl": [
           {
            "marker": {
             "colorbar": {
              "outlinewidth": 0,
              "ticks": ""
             }
            },
            "type": "scatterpolargl"
           }
          ],
          "scatterternary": [
           {
            "marker": {
             "colorbar": {
              "outlinewidth": 0,
              "ticks": ""
             }
            },
            "type": "scatterternary"
           }
          ],
          "surface": [
           {
            "colorbar": {
             "outlinewidth": 0,
             "ticks": ""
            },
            "colorscale": [
             [
              0,
              "#0d0887"
             ],
             [
              0.1111111111111111,
              "#46039f"
             ],
             [
              0.2222222222222222,
              "#7201a8"
             ],
             [
              0.3333333333333333,
              "#9c179e"
             ],
             [
              0.4444444444444444,
              "#bd3786"
             ],
             [
              0.5555555555555556,
              "#d8576b"
             ],
             [
              0.6666666666666666,
              "#ed7953"
             ],
             [
              0.7777777777777778,
              "#fb9f3a"
             ],
             [
              0.8888888888888888,
              "#fdca26"
             ],
             [
              1,
              "#f0f921"
             ]
            ],
            "type": "surface"
           }
          ],
          "table": [
           {
            "cells": {
             "fill": {
              "color": "#EBF0F8"
             },
             "line": {
              "color": "white"
             }
            },
            "header": {
             "fill": {
              "color": "#C8D4E3"
             },
             "line": {
              "color": "white"
             }
            },
            "type": "table"
           }
          ]
         },
         "layout": {
          "annotationdefaults": {
           "arrowcolor": "#2a3f5f",
           "arrowhead": 0,
           "arrowwidth": 1
          },
          "autotypenumbers": "strict",
          "coloraxis": {
           "colorbar": {
            "outlinewidth": 0,
            "ticks": ""
           }
          },
          "colorscale": {
           "diverging": [
            [
             0,
             "#8e0152"
            ],
            [
             0.1,
             "#c51b7d"
            ],
            [
             0.2,
             "#de77ae"
            ],
            [
             0.3,
             "#f1b6da"
            ],
            [
             0.4,
             "#fde0ef"
            ],
            [
             0.5,
             "#f7f7f7"
            ],
            [
             0.6,
             "#e6f5d0"
            ],
            [
             0.7,
             "#b8e186"
            ],
            [
             0.8,
             "#7fbc41"
            ],
            [
             0.9,
             "#4d9221"
            ],
            [
             1,
             "#276419"
            ]
           ],
           "sequential": [
            [
             0,
             "#0d0887"
            ],
            [
             0.1111111111111111,
             "#46039f"
            ],
            [
             0.2222222222222222,
             "#7201a8"
            ],
            [
             0.3333333333333333,
             "#9c179e"
            ],
            [
             0.4444444444444444,
             "#bd3786"
            ],
            [
             0.5555555555555556,
             "#d8576b"
            ],
            [
             0.6666666666666666,
             "#ed7953"
            ],
            [
             0.7777777777777778,
             "#fb9f3a"
            ],
            [
             0.8888888888888888,
             "#fdca26"
            ],
            [
             1,
             "#f0f921"
            ]
           ],
           "sequentialminus": [
            [
             0,
             "#0d0887"
            ],
            [
             0.1111111111111111,
             "#46039f"
            ],
            [
             0.2222222222222222,
             "#7201a8"
            ],
            [
             0.3333333333333333,
             "#9c179e"
            ],
            [
             0.4444444444444444,
             "#bd3786"
            ],
            [
             0.5555555555555556,
             "#d8576b"
            ],
            [
             0.6666666666666666,
             "#ed7953"
            ],
            [
             0.7777777777777778,
             "#fb9f3a"
            ],
            [
             0.8888888888888888,
             "#fdca26"
            ],
            [
             1,
             "#f0f921"
            ]
           ]
          },
          "colorway": [
           "#636efa",
           "#EF553B",
           "#00cc96",
           "#ab63fa",
           "#FFA15A",
           "#19d3f3",
           "#FF6692",
           "#B6E880",
           "#FF97FF",
           "#FECB52"
          ],
          "font": {
           "color": "#2a3f5f"
          },
          "geo": {
           "bgcolor": "white",
           "lakecolor": "white",
           "landcolor": "#E5ECF6",
           "showlakes": true,
           "showland": true,
           "subunitcolor": "white"
          },
          "hoverlabel": {
           "align": "left"
          },
          "hovermode": "closest",
          "mapbox": {
           "style": "light"
          },
          "paper_bgcolor": "white",
          "plot_bgcolor": "#E5ECF6",
          "polar": {
           "angularaxis": {
            "gridcolor": "white",
            "linecolor": "white",
            "ticks": ""
           },
           "bgcolor": "#E5ECF6",
           "radialaxis": {
            "gridcolor": "white",
            "linecolor": "white",
            "ticks": ""
           }
          },
          "scene": {
           "xaxis": {
            "backgroundcolor": "#E5ECF6",
            "gridcolor": "white",
            "gridwidth": 2,
            "linecolor": "white",
            "showbackground": true,
            "ticks": "",
            "zerolinecolor": "white"
           },
           "yaxis": {
            "backgroundcolor": "#E5ECF6",
            "gridcolor": "white",
            "gridwidth": 2,
            "linecolor": "white",
            "showbackground": true,
            "ticks": "",
            "zerolinecolor": "white"
           },
           "zaxis": {
            "backgroundcolor": "#E5ECF6",
            "gridcolor": "white",
            "gridwidth": 2,
            "linecolor": "white",
            "showbackground": true,
            "ticks": "",
            "zerolinecolor": "white"
           }
          },
          "shapedefaults": {
           "line": {
            "color": "#2a3f5f"
           }
          },
          "ternary": {
           "aaxis": {
            "gridcolor": "white",
            "linecolor": "white",
            "ticks": ""
           },
           "baxis": {
            "gridcolor": "white",
            "linecolor": "white",
            "ticks": ""
           },
           "bgcolor": "#E5ECF6",
           "caxis": {
            "gridcolor": "white",
            "linecolor": "white",
            "ticks": ""
           }
          },
          "title": {
           "x": 0.05
          },
          "xaxis": {
           "automargin": true,
           "gridcolor": "white",
           "linecolor": "white",
           "ticks": "",
           "title": {
            "standoff": 15
           },
           "zerolinecolor": "white",
           "zerolinewidth": 2
          },
          "yaxis": {
           "automargin": true,
           "gridcolor": "white",
           "linecolor": "white",
           "ticks": "",
           "title": {
            "standoff": 15
           },
           "zerolinecolor": "white",
           "zerolinewidth": 2
          }
         }
        },
        "title": {
         "text": "Kouyaté"
        },
        "xaxis": {
         "anchor": "y",
         "domain": [
          0,
          1
         ],
         "title": {
          "text": "event_name"
         }
        },
        "yaxis": {
         "anchor": "x",
         "domain": [
          0,
          1
         ],
         "title": {
          "text": "difficulty"
         }
        }
       }
      }
     },
     "metadata": {},
     "output_type": "display_data"
    }
   ],
   "source": [
    "player_future(150)"
   ]
  },
  {
   "cell_type": "code",
   "execution_count": 8,
   "metadata": {},
   "outputs": [
    {
     "data": {
      "text/plain": [
       "0       3\n",
       "1       2\n",
       "2       3\n",
       "3       4\n",
       "4       3\n",
       "       ..\n",
       "9660    2\n",
       "9661    2\n",
       "9662    2\n",
       "9663    3\n",
       "9664    3\n",
       "Name: difficulty, Length: 9665, dtype: int64"
      ]
     },
     "execution_count": 8,
     "metadata": {},
     "output_type": "execute_result"
    }
   ],
   "source": [
    "    opponent_strength = player_future_fixture['difficulty']\n",
    "    opponent_strength\n",
    "    #opponent_strength = player_analysis.iloc[:,2]"
   ]
  },
  {
   "cell_type": "code",
   "execution_count": 9,
   "metadata": {},
   "outputs": [],
   "source": [
    "def get_SMA(player_id , count):\n",
    "    data = player_future_fixture[player_future_fixture.player_id == player_id]\n",
    "    opponent_strength = data['difficulty']\n",
    "    # List to store moving average results\n",
    "    SMA2 = list(range(0, len(opponent_strength) - count))\n",
    "\n",
    "    # Compute moving average\n",
    "    for ii in range(len(SMA2)):\n",
    "        # Previous gw index\n",
    "        index = range(ii, ii + count)\n",
    "        # Get data for previous gw\n",
    "        prev_gw2 = opponent_strength.iloc[index]\n",
    "\n",
    "        # Sum previous gw\n",
    "        summation2 = np.sum(prev_gw2)\n",
    "\n",
    "        # Get average\n",
    "        avg2 = summation2/count\n",
    "        # Save results to list\n",
    "        SMA2[ii] = avg2\n",
    "         \n",
    "    # Define column label\n",
    "    label2 = f\"Opponent strength SMA\"\n",
    "\n",
    "    \n",
    "    # Get corresponding gw for moving_avg\n",
    "    gameweeks2 = opponent_strength.index[:-count]\n",
    "    gameweek = data.event_name[:-count]\n",
    "    \n",
    "    # Convert list into Pandas Series\n",
    "    SMA2 = pd.Series(SMA2, name = label2, index = gameweek)\n",
    "    \n",
    "    \n",
    "    return SMA2"
   ]
  },
  {
   "cell_type": "code",
   "execution_count": 10,
   "metadata": {},
   "outputs": [],
   "source": [
    "def player_future_avg(player_id , no_games):\n",
    "    data = get_SMA(player_id , no_games)\n",
    "\n",
    "    player = all_players[all_players.player_id == player_id]\n",
    "\n",
    "    player_name = player.iloc[0]['web_name']\n",
    "    title = \"Average difficulty next \" + str(no_games) + \" games for \" + str(player_name)\n",
    "\n",
    "    fig = px.line(\n",
    "        data, \n",
    "        title = title)\n",
    "\n",
    "    fig.show()"
   ]
  },
  {
   "cell_type": "code",
   "execution_count": 22,
   "metadata": {},
   "outputs": [
    {
     "data": {
      "application/vnd.plotly.v1+json": {
       "config": {
        "plotlyServerURL": "https://plot.ly"
       },
       "data": [
        {
         "hovertemplate": "variable=Opponent strength SMA<br>event_name=%{x}<br>value=%{y}<extra></extra>",
         "legendgroup": "Opponent strength SMA",
         "line": {
          "color": "#636efa",
          "dash": "solid"
         },
         "marker": {
          "symbol": "circle"
         },
         "mode": "lines",
         "name": "Opponent strength SMA",
         "orientation": "v",
         "showlegend": true,
         "type": "scatter",
         "x": [
          "Gameweek 26",
          "Gameweek 27",
          "Gameweek 27",
          "Gameweek 28",
          "Gameweek 29",
          "Gameweek 30",
          "Gameweek 31",
          "Gameweek 32"
         ],
         "xaxis": "x",
         "y": [
          2.875,
          2.875,
          3,
          2.875,
          2.75,
          3,
          3,
          2.75
         ],
         "yaxis": "y"
        }
       ],
       "layout": {
        "legend": {
         "title": {
          "text": "variable"
         },
         "tracegroupgap": 0
        },
        "template": {
         "data": {
          "bar": [
           {
            "error_x": {
             "color": "#2a3f5f"
            },
            "error_y": {
             "color": "#2a3f5f"
            },
            "marker": {
             "line": {
              "color": "#E5ECF6",
              "width": 0.5
             },
             "pattern": {
              "fillmode": "overlay",
              "size": 10,
              "solidity": 0.2
             }
            },
            "type": "bar"
           }
          ],
          "barpolar": [
           {
            "marker": {
             "line": {
              "color": "#E5ECF6",
              "width": 0.5
             },
             "pattern": {
              "fillmode": "overlay",
              "size": 10,
              "solidity": 0.2
             }
            },
            "type": "barpolar"
           }
          ],
          "carpet": [
           {
            "aaxis": {
             "endlinecolor": "#2a3f5f",
             "gridcolor": "white",
             "linecolor": "white",
             "minorgridcolor": "white",
             "startlinecolor": "#2a3f5f"
            },
            "baxis": {
             "endlinecolor": "#2a3f5f",
             "gridcolor": "white",
             "linecolor": "white",
             "minorgridcolor": "white",
             "startlinecolor": "#2a3f5f"
            },
            "type": "carpet"
           }
          ],
          "choropleth": [
           {
            "colorbar": {
             "outlinewidth": 0,
             "ticks": ""
            },
            "type": "choropleth"
           }
          ],
          "contour": [
           {
            "colorbar": {
             "outlinewidth": 0,
             "ticks": ""
            },
            "colorscale": [
             [
              0,
              "#0d0887"
             ],
             [
              0.1111111111111111,
              "#46039f"
             ],
             [
              0.2222222222222222,
              "#7201a8"
             ],
             [
              0.3333333333333333,
              "#9c179e"
             ],
             [
              0.4444444444444444,
              "#bd3786"
             ],
             [
              0.5555555555555556,
              "#d8576b"
             ],
             [
              0.6666666666666666,
              "#ed7953"
             ],
             [
              0.7777777777777778,
              "#fb9f3a"
             ],
             [
              0.8888888888888888,
              "#fdca26"
             ],
             [
              1,
              "#f0f921"
             ]
            ],
            "type": "contour"
           }
          ],
          "contourcarpet": [
           {
            "colorbar": {
             "outlinewidth": 0,
             "ticks": ""
            },
            "type": "contourcarpet"
           }
          ],
          "heatmap": [
           {
            "colorbar": {
             "outlinewidth": 0,
             "ticks": ""
            },
            "colorscale": [
             [
              0,
              "#0d0887"
             ],
             [
              0.1111111111111111,
              "#46039f"
             ],
             [
              0.2222222222222222,
              "#7201a8"
             ],
             [
              0.3333333333333333,
              "#9c179e"
             ],
             [
              0.4444444444444444,
              "#bd3786"
             ],
             [
              0.5555555555555556,
              "#d8576b"
             ],
             [
              0.6666666666666666,
              "#ed7953"
             ],
             [
              0.7777777777777778,
              "#fb9f3a"
             ],
             [
              0.8888888888888888,
              "#fdca26"
             ],
             [
              1,
              "#f0f921"
             ]
            ],
            "type": "heatmap"
           }
          ],
          "heatmapgl": [
           {
            "colorbar": {
             "outlinewidth": 0,
             "ticks": ""
            },
            "colorscale": [
             [
              0,
              "#0d0887"
             ],
             [
              0.1111111111111111,
              "#46039f"
             ],
             [
              0.2222222222222222,
              "#7201a8"
             ],
             [
              0.3333333333333333,
              "#9c179e"
             ],
             [
              0.4444444444444444,
              "#bd3786"
             ],
             [
              0.5555555555555556,
              "#d8576b"
             ],
             [
              0.6666666666666666,
              "#ed7953"
             ],
             [
              0.7777777777777778,
              "#fb9f3a"
             ],
             [
              0.8888888888888888,
              "#fdca26"
             ],
             [
              1,
              "#f0f921"
             ]
            ],
            "type": "heatmapgl"
           }
          ],
          "histogram": [
           {
            "marker": {
             "pattern": {
              "fillmode": "overlay",
              "size": 10,
              "solidity": 0.2
             }
            },
            "type": "histogram"
           }
          ],
          "histogram2d": [
           {
            "colorbar": {
             "outlinewidth": 0,
             "ticks": ""
            },
            "colorscale": [
             [
              0,
              "#0d0887"
             ],
             [
              0.1111111111111111,
              "#46039f"
             ],
             [
              0.2222222222222222,
              "#7201a8"
             ],
             [
              0.3333333333333333,
              "#9c179e"
             ],
             [
              0.4444444444444444,
              "#bd3786"
             ],
             [
              0.5555555555555556,
              "#d8576b"
             ],
             [
              0.6666666666666666,
              "#ed7953"
             ],
             [
              0.7777777777777778,
              "#fb9f3a"
             ],
             [
              0.8888888888888888,
              "#fdca26"
             ],
             [
              1,
              "#f0f921"
             ]
            ],
            "type": "histogram2d"
           }
          ],
          "histogram2dcontour": [
           {
            "colorbar": {
             "outlinewidth": 0,
             "ticks": ""
            },
            "colorscale": [
             [
              0,
              "#0d0887"
             ],
             [
              0.1111111111111111,
              "#46039f"
             ],
             [
              0.2222222222222222,
              "#7201a8"
             ],
             [
              0.3333333333333333,
              "#9c179e"
             ],
             [
              0.4444444444444444,
              "#bd3786"
             ],
             [
              0.5555555555555556,
              "#d8576b"
             ],
             [
              0.6666666666666666,
              "#ed7953"
             ],
             [
              0.7777777777777778,
              "#fb9f3a"
             ],
             [
              0.8888888888888888,
              "#fdca26"
             ],
             [
              1,
              "#f0f921"
             ]
            ],
            "type": "histogram2dcontour"
           }
          ],
          "mesh3d": [
           {
            "colorbar": {
             "outlinewidth": 0,
             "ticks": ""
            },
            "type": "mesh3d"
           }
          ],
          "parcoords": [
           {
            "line": {
             "colorbar": {
              "outlinewidth": 0,
              "ticks": ""
             }
            },
            "type": "parcoords"
           }
          ],
          "pie": [
           {
            "automargin": true,
            "type": "pie"
           }
          ],
          "scatter": [
           {
            "marker": {
             "colorbar": {
              "outlinewidth": 0,
              "ticks": ""
             }
            },
            "type": "scatter"
           }
          ],
          "scatter3d": [
           {
            "line": {
             "colorbar": {
              "outlinewidth": 0,
              "ticks": ""
             }
            },
            "marker": {
             "colorbar": {
              "outlinewidth": 0,
              "ticks": ""
             }
            },
            "type": "scatter3d"
           }
          ],
          "scattercarpet": [
           {
            "marker": {
             "colorbar": {
              "outlinewidth": 0,
              "ticks": ""
             }
            },
            "type": "scattercarpet"
           }
          ],
          "scattergeo": [
           {
            "marker": {
             "colorbar": {
              "outlinewidth": 0,
              "ticks": ""
             }
            },
            "type": "scattergeo"
           }
          ],
          "scattergl": [
           {
            "marker": {
             "colorbar": {
              "outlinewidth": 0,
              "ticks": ""
             }
            },
            "type": "scattergl"
           }
          ],
          "scattermapbox": [
           {
            "marker": {
             "colorbar": {
              "outlinewidth": 0,
              "ticks": ""
             }
            },
            "type": "scattermapbox"
           }
          ],
          "scatterpolar": [
           {
            "marker": {
             "colorbar": {
              "outlinewidth": 0,
              "ticks": ""
             }
            },
            "type": "scatterpolar"
           }
          ],
          "scatterpolargl": [
           {
            "marker": {
             "colorbar": {
              "outlinewidth": 0,
              "ticks": ""
             }
            },
            "type": "scatterpolargl"
           }
          ],
          "scatterternary": [
           {
            "marker": {
             "colorbar": {
              "outlinewidth": 0,
              "ticks": ""
             }
            },
            "type": "scatterternary"
           }
          ],
          "surface": [
           {
            "colorbar": {
             "outlinewidth": 0,
             "ticks": ""
            },
            "colorscale": [
             [
              0,
              "#0d0887"
             ],
             [
              0.1111111111111111,
              "#46039f"
             ],
             [
              0.2222222222222222,
              "#7201a8"
             ],
             [
              0.3333333333333333,
              "#9c179e"
             ],
             [
              0.4444444444444444,
              "#bd3786"
             ],
             [
              0.5555555555555556,
              "#d8576b"
             ],
             [
              0.6666666666666666,
              "#ed7953"
             ],
             [
              0.7777777777777778,
              "#fb9f3a"
             ],
             [
              0.8888888888888888,
              "#fdca26"
             ],
             [
              1,
              "#f0f921"
             ]
            ],
            "type": "surface"
           }
          ],
          "table": [
           {
            "cells": {
             "fill": {
              "color": "#EBF0F8"
             },
             "line": {
              "color": "white"
             }
            },
            "header": {
             "fill": {
              "color": "#C8D4E3"
             },
             "line": {
              "color": "white"
             }
            },
            "type": "table"
           }
          ]
         },
         "layout": {
          "annotationdefaults": {
           "arrowcolor": "#2a3f5f",
           "arrowhead": 0,
           "arrowwidth": 1
          },
          "autotypenumbers": "strict",
          "coloraxis": {
           "colorbar": {
            "outlinewidth": 0,
            "ticks": ""
           }
          },
          "colorscale": {
           "diverging": [
            [
             0,
             "#8e0152"
            ],
            [
             0.1,
             "#c51b7d"
            ],
            [
             0.2,
             "#de77ae"
            ],
            [
             0.3,
             "#f1b6da"
            ],
            [
             0.4,
             "#fde0ef"
            ],
            [
             0.5,
             "#f7f7f7"
            ],
            [
             0.6,
             "#e6f5d0"
            ],
            [
             0.7,
             "#b8e186"
            ],
            [
             0.8,
             "#7fbc41"
            ],
            [
             0.9,
             "#4d9221"
            ],
            [
             1,
             "#276419"
            ]
           ],
           "sequential": [
            [
             0,
             "#0d0887"
            ],
            [
             0.1111111111111111,
             "#46039f"
            ],
            [
             0.2222222222222222,
             "#7201a8"
            ],
            [
             0.3333333333333333,
             "#9c179e"
            ],
            [
             0.4444444444444444,
             "#bd3786"
            ],
            [
             0.5555555555555556,
             "#d8576b"
            ],
            [
             0.6666666666666666,
             "#ed7953"
            ],
            [
             0.7777777777777778,
             "#fb9f3a"
            ],
            [
             0.8888888888888888,
             "#fdca26"
            ],
            [
             1,
             "#f0f921"
            ]
           ],
           "sequentialminus": [
            [
             0,
             "#0d0887"
            ],
            [
             0.1111111111111111,
             "#46039f"
            ],
            [
             0.2222222222222222,
             "#7201a8"
            ],
            [
             0.3333333333333333,
             "#9c179e"
            ],
            [
             0.4444444444444444,
             "#bd3786"
            ],
            [
             0.5555555555555556,
             "#d8576b"
            ],
            [
             0.6666666666666666,
             "#ed7953"
            ],
            [
             0.7777777777777778,
             "#fb9f3a"
            ],
            [
             0.8888888888888888,
             "#fdca26"
            ],
            [
             1,
             "#f0f921"
            ]
           ]
          },
          "colorway": [
           "#636efa",
           "#EF553B",
           "#00cc96",
           "#ab63fa",
           "#FFA15A",
           "#19d3f3",
           "#FF6692",
           "#B6E880",
           "#FF97FF",
           "#FECB52"
          ],
          "font": {
           "color": "#2a3f5f"
          },
          "geo": {
           "bgcolor": "white",
           "lakecolor": "white",
           "landcolor": "#E5ECF6",
           "showlakes": true,
           "showland": true,
           "subunitcolor": "white"
          },
          "hoverlabel": {
           "align": "left"
          },
          "hovermode": "closest",
          "mapbox": {
           "style": "light"
          },
          "paper_bgcolor": "white",
          "plot_bgcolor": "#E5ECF6",
          "polar": {
           "angularaxis": {
            "gridcolor": "white",
            "linecolor": "white",
            "ticks": ""
           },
           "bgcolor": "#E5ECF6",
           "radialaxis": {
            "gridcolor": "white",
            "linecolor": "white",
            "ticks": ""
           }
          },
          "scene": {
           "xaxis": {
            "backgroundcolor": "#E5ECF6",
            "gridcolor": "white",
            "gridwidth": 2,
            "linecolor": "white",
            "showbackground": true,
            "ticks": "",
            "zerolinecolor": "white"
           },
           "yaxis": {
            "backgroundcolor": "#E5ECF6",
            "gridcolor": "white",
            "gridwidth": 2,
            "linecolor": "white",
            "showbackground": true,
            "ticks": "",
            "zerolinecolor": "white"
           },
           "zaxis": {
            "backgroundcolor": "#E5ECF6",
            "gridcolor": "white",
            "gridwidth": 2,
            "linecolor": "white",
            "showbackground": true,
            "ticks": "",
            "zerolinecolor": "white"
           }
          },
          "shapedefaults": {
           "line": {
            "color": "#2a3f5f"
           }
          },
          "ternary": {
           "aaxis": {
            "gridcolor": "white",
            "linecolor": "white",
            "ticks": ""
           },
           "baxis": {
            "gridcolor": "white",
            "linecolor": "white",
            "ticks": ""
           },
           "bgcolor": "#E5ECF6",
           "caxis": {
            "gridcolor": "white",
            "linecolor": "white",
            "ticks": ""
           }
          },
          "title": {
           "x": 0.05
          },
          "xaxis": {
           "automargin": true,
           "gridcolor": "white",
           "linecolor": "white",
           "ticks": "",
           "title": {
            "standoff": 15
           },
           "zerolinecolor": "white",
           "zerolinewidth": 2
          },
          "yaxis": {
           "automargin": true,
           "gridcolor": "white",
           "linecolor": "white",
           "ticks": "",
           "title": {
            "standoff": 15
           },
           "zerolinecolor": "white",
           "zerolinewidth": 2
          }
         }
        },
        "title": {
         "text": "Average difficulty next 8 games for Pieters"
        },
        "xaxis": {
         "anchor": "y",
         "domain": [
          0,
          1
         ],
         "title": {
          "text": "event_name"
         }
        },
        "yaxis": {
         "anchor": "x",
         "domain": [
          0,
          1
         ],
         "title": {
          "text": "value"
         }
        }
       }
      }
     },
     "metadata": {},
     "output_type": "display_data"
    }
   ],
   "source": [
    "player_future_avg(100 , 8)"
   ]
  },
  {
   "cell_type": "code",
   "execution_count": 12,
   "metadata": {},
   "outputs": [
    {
     "data": {
      "text/plain": [
       "event_name\n",
       "Gameweek 26    3.25\n",
       "Gameweek 27    3.25\n",
       "Gameweek 28    3.50\n",
       "Gameweek 29    3.25\n",
       "Gameweek 30    2.50\n",
       "Gameweek 31    2.50\n",
       "Gameweek 32    2.25\n",
       "Gameweek 33    2.00\n",
       "Gameweek 34    2.25\n",
       "Name: Opponent strength SMA, dtype: float64"
      ]
     },
     "execution_count": 12,
     "metadata": {},
     "output_type": "execute_result"
    }
   ],
   "source": [
    "result = get_SMA(150,4)\n",
    "result"
   ]
  },
  {
   "cell_type": "markdown",
   "metadata": {},
   "source": [
    "## FANTASY PLAYER VALUE"
   ]
  },
  {
   "cell_type": "code",
   "execution_count": 13,
   "metadata": {},
   "outputs": [
    {
     "data": {
      "text/plain": [
       "Index(['chance_of_playing_next_round', 'chance_of_playing_this_round',\n",
       "       'player_code', 'cost_change_event', 'cost_change_event_fall',\n",
       "       'cost_change_start', 'cost_change_start_fall', 'dreamteam_count',\n",
       "       'player_type_id', 'ep_next', 'ep_this', 'event_points', 'first_name',\n",
       "       'form', 'player_id', 'in_dreamteam', 'news', 'news_added', 'now_cost',\n",
       "       'photo', 'PPG', 'second_name', 'selected_by_percent', 'status',\n",
       "       'team_id', 'team_code', 'total_points', 'transfers_in',\n",
       "       'transfers_in_event', 'transfers_out', 'transfers_out_event',\n",
       "       'value_form', 'value_season', 'web_name', 'total_minutes',\n",
       "       'goals_scored', 'assists', 'clean_sheets', 'goals_conceded',\n",
       "       'own_goals', 'penalties_saved', 'penalties_missed', 'yellow_cards',\n",
       "       'red_cards', 'saves', 'bonus', 'bps', 'influence', 'creativity',\n",
       "       'threat', 'ict_index', 'influence_rank', 'influence_rank_type',\n",
       "       'creativity_rank', 'creativity_rank_type', 'threat_rank',\n",
       "       'threat_rank_type', 'ict_index_rank', 'ict_index_rank_type',\n",
       "       'corners_and_indirect_freekicks_order',\n",
       "       'corners_and_indirect_freekicks_text', 'direct_freekicks_order',\n",
       "       'direct_freekicks_text', 'penalties_order', 'penalties_text', 'PP90',\n",
       "       'PPMM', 'VAPM', 'team_strength', 'team_short_name',\n",
       "       'strength_overall_home', 'strength_overall_away',\n",
       "       'position_name_short'],\n",
       "      dtype='object')"
      ]
     },
     "execution_count": 13,
     "metadata": {},
     "output_type": "execute_result"
    }
   ],
   "source": [
    "all_players.columns"
   ]
  },
  {
   "cell_type": "code",
   "execution_count": 14,
   "metadata": {},
   "outputs": [
    {
     "name": "stderr",
     "output_type": "stream",
     "text": [
      "<ipython-input-14-da774a0c3165>:1: UserWarning:\n",
      "\n",
      "Boolean Series key will be reindexed to match DataFrame index.\n",
      "\n"
     ]
    },
    {
     "data": {
      "text/html": [
       "<div>\n",
       "<style scoped>\n",
       "    .dataframe tbody tr th:only-of-type {\n",
       "        vertical-align: middle;\n",
       "    }\n",
       "\n",
       "    .dataframe tbody tr th {\n",
       "        vertical-align: top;\n",
       "    }\n",
       "\n",
       "    .dataframe thead th {\n",
       "        text-align: right;\n",
       "    }\n",
       "</style>\n",
       "<table border=\"1\" class=\"dataframe\">\n",
       "  <thead>\n",
       "    <tr style=\"text-align: right;\">\n",
       "      <th></th>\n",
       "      <th>web_name</th>\n",
       "      <th>now_cost</th>\n",
       "      <th>status</th>\n",
       "      <th>player_type_id</th>\n",
       "      <th>total_points</th>\n",
       "      <th>total_minutes</th>\n",
       "      <th>PP90</th>\n",
       "      <th>PPG</th>\n",
       "      <th>PPMM</th>\n",
       "      <th>VAPM</th>\n",
       "    </tr>\n",
       "  </thead>\n",
       "  <tbody>\n",
       "    <tr>\n",
       "      <th>599</th>\n",
       "      <td>Stones</td>\n",
       "      <td>52</td>\n",
       "      <td>a</td>\n",
       "      <td>2</td>\n",
       "      <td>45</td>\n",
       "      <td>591</td>\n",
       "      <td>6.852792</td>\n",
       "      <td>5.6</td>\n",
       "      <td>1.076923</td>\n",
       "      <td>0.692308</td>\n",
       "    </tr>\n",
       "    <tr>\n",
       "      <th>257</th>\n",
       "      <td>Torres</td>\n",
       "      <td>67</td>\n",
       "      <td>u</td>\n",
       "      <td>3</td>\n",
       "      <td>26</td>\n",
       "      <td>303</td>\n",
       "      <td>7.722772</td>\n",
       "      <td>6.5</td>\n",
       "      <td>0.970149</td>\n",
       "      <td>0.671642</td>\n",
       "    </tr>\n",
       "    <tr>\n",
       "      <th>535</th>\n",
       "      <td>Sarr</td>\n",
       "      <td>49</td>\n",
       "      <td>a</td>\n",
       "      <td>2</td>\n",
       "      <td>21</td>\n",
       "      <td>343</td>\n",
       "      <td>5.510204</td>\n",
       "      <td>5.2</td>\n",
       "      <td>1.061224</td>\n",
       "      <td>0.653061</td>\n",
       "    </tr>\n",
       "    <tr>\n",
       "      <th>475</th>\n",
       "      <td>Tierney</td>\n",
       "      <td>51</td>\n",
       "      <td>a</td>\n",
       "      <td>2</td>\n",
       "      <td>90</td>\n",
       "      <td>1466</td>\n",
       "      <td>5.525239</td>\n",
       "      <td>5.3</td>\n",
       "      <td>1.039216</td>\n",
       "      <td>0.647059</td>\n",
       "    </tr>\n",
       "    <tr>\n",
       "      <th>3</th>\n",
       "      <td>Ramsdale</td>\n",
       "      <td>51</td>\n",
       "      <td>a</td>\n",
       "      <td>1</td>\n",
       "      <td>103</td>\n",
       "      <td>1800</td>\n",
       "      <td>5.150000</td>\n",
       "      <td>5.2</td>\n",
       "      <td>1.019608</td>\n",
       "      <td>0.627451</td>\n",
       "    </tr>\n",
       "    <tr>\n",
       "      <th>557</th>\n",
       "      <td>Branthwaite</td>\n",
       "      <td>40</td>\n",
       "      <td>a</td>\n",
       "      <td>2</td>\n",
       "      <td>9</td>\n",
       "      <td>145</td>\n",
       "      <td>5.586207</td>\n",
       "      <td>4.5</td>\n",
       "      <td>1.125000</td>\n",
       "      <td>0.625000</td>\n",
       "    </tr>\n",
       "    <tr>\n",
       "      <th>587</th>\n",
       "      <td>Alexander-Arnold</td>\n",
       "      <td>85</td>\n",
       "      <td>a</td>\n",
       "      <td>2</td>\n",
       "      <td>156</td>\n",
       "      <td>1953</td>\n",
       "      <td>7.188940</td>\n",
       "      <td>7.1</td>\n",
       "      <td>0.835294</td>\n",
       "      <td>0.600000</td>\n",
       "    </tr>\n",
       "    <tr>\n",
       "      <th>26</th>\n",
       "      <td>Arrizabalaga</td>\n",
       "      <td>47</td>\n",
       "      <td>a</td>\n",
       "      <td>1</td>\n",
       "      <td>19</td>\n",
       "      <td>360</td>\n",
       "      <td>4.750000</td>\n",
       "      <td>4.8</td>\n",
       "      <td>1.021277</td>\n",
       "      <td>0.595745</td>\n",
       "    </tr>\n",
       "    <tr>\n",
       "      <th>476</th>\n",
       "      <td>Gabriel</td>\n",
       "      <td>53</td>\n",
       "      <td>a</td>\n",
       "      <td>2</td>\n",
       "      <td>99</td>\n",
       "      <td>1746</td>\n",
       "      <td>5.103093</td>\n",
       "      <td>5.0</td>\n",
       "      <td>0.943396</td>\n",
       "      <td>0.566038</td>\n",
       "    </tr>\n",
       "    <tr>\n",
       "      <th>601</th>\n",
       "      <td>Cancelo</td>\n",
       "      <td>71</td>\n",
       "      <td>a</td>\n",
       "      <td>2</td>\n",
       "      <td>142</td>\n",
       "      <td>2147</td>\n",
       "      <td>5.952492</td>\n",
       "      <td>5.9</td>\n",
       "      <td>0.830986</td>\n",
       "      <td>0.549296</td>\n",
       "    </tr>\n",
       "    <tr>\n",
       "      <th>705</th>\n",
       "      <td>Ait Nouri</td>\n",
       "      <td>44</td>\n",
       "      <td>a</td>\n",
       "      <td>2</td>\n",
       "      <td>61</td>\n",
       "      <td>1102</td>\n",
       "      <td>4.981851</td>\n",
       "      <td>4.4</td>\n",
       "      <td>1.000000</td>\n",
       "      <td>0.545455</td>\n",
       "    </tr>\n",
       "    <tr>\n",
       "      <th>603</th>\n",
       "      <td>Laporte</td>\n",
       "      <td>58</td>\n",
       "      <td>a</td>\n",
       "      <td>2</td>\n",
       "      <td>108</td>\n",
       "      <td>1812</td>\n",
       "      <td>5.364238</td>\n",
       "      <td>5.1</td>\n",
       "      <td>0.879310</td>\n",
       "      <td>0.534483</td>\n",
       "    </tr>\n",
       "    <tr>\n",
       "      <th>586</th>\n",
       "      <td>Robertson</td>\n",
       "      <td>72</td>\n",
       "      <td>a</td>\n",
       "      <td>2</td>\n",
       "      <td>105</td>\n",
       "      <td>1574</td>\n",
       "      <td>6.003812</td>\n",
       "      <td>5.8</td>\n",
       "      <td>0.805556</td>\n",
       "      <td>0.527778</td>\n",
       "    </tr>\n",
       "    <tr>\n",
       "      <th>353</th>\n",
       "      <td>Bowen</td>\n",
       "      <td>71</td>\n",
       "      <td>a</td>\n",
       "      <td>3</td>\n",
       "      <td>149</td>\n",
       "      <td>2218</td>\n",
       "      <td>6.045987</td>\n",
       "      <td>5.7</td>\n",
       "      <td>0.802817</td>\n",
       "      <td>0.521127</td>\n",
       "    </tr>\n",
       "    <tr>\n",
       "      <th>114</th>\n",
       "      <td>Coutinho</td>\n",
       "      <td>73</td>\n",
       "      <td>a</td>\n",
       "      <td>3</td>\n",
       "      <td>29</td>\n",
       "      <td>352</td>\n",
       "      <td>7.414773</td>\n",
       "      <td>5.8</td>\n",
       "      <td>0.794521</td>\n",
       "      <td>0.520548</td>\n",
       "    </tr>\n",
       "    <tr>\n",
       "      <th>80</th>\n",
       "      <td>Sá</td>\n",
       "      <td>52</td>\n",
       "      <td>a</td>\n",
       "      <td>1</td>\n",
       "      <td>112</td>\n",
       "      <td>2160</td>\n",
       "      <td>4.666667</td>\n",
       "      <td>4.7</td>\n",
       "      <td>0.903846</td>\n",
       "      <td>0.519231</td>\n",
       "    </tr>\n",
       "    <tr>\n",
       "      <th>526</th>\n",
       "      <td>Roberts</td>\n",
       "      <td>45</td>\n",
       "      <td>a</td>\n",
       "      <td>2</td>\n",
       "      <td>26</td>\n",
       "      <td>465</td>\n",
       "      <td>5.032258</td>\n",
       "      <td>4.3</td>\n",
       "      <td>0.955556</td>\n",
       "      <td>0.511111</td>\n",
       "    </tr>\n",
       "    <tr>\n",
       "      <th>90</th>\n",
       "      <td>Smith Rowe</td>\n",
       "      <td>58</td>\n",
       "      <td>a</td>\n",
       "      <td>3</td>\n",
       "      <td>103</td>\n",
       "      <td>1373</td>\n",
       "      <td>6.751639</td>\n",
       "      <td>4.9</td>\n",
       "      <td>0.844828</td>\n",
       "      <td>0.500000</td>\n",
       "    </tr>\n",
       "    <tr>\n",
       "      <th>248</th>\n",
       "      <td>Luis Díaz</td>\n",
       "      <td>80</td>\n",
       "      <td>a</td>\n",
       "      <td>3</td>\n",
       "      <td>12</td>\n",
       "      <td>178</td>\n",
       "      <td>6.067416</td>\n",
       "      <td>6.0</td>\n",
       "      <td>0.750000</td>\n",
       "      <td>0.500000</td>\n",
       "    </tr>\n",
       "    <tr>\n",
       "      <th>481</th>\n",
       "      <td>Tomiyasu</td>\n",
       "      <td>46</td>\n",
       "      <td>a</td>\n",
       "      <td>2</td>\n",
       "      <td>69</td>\n",
       "      <td>1384</td>\n",
       "      <td>4.486994</td>\n",
       "      <td>4.3</td>\n",
       "      <td>0.934783</td>\n",
       "      <td>0.500000</td>\n",
       "    </tr>\n",
       "  </tbody>\n",
       "</table>\n",
       "</div>"
      ],
      "text/plain": [
       "             web_name  now_cost status  player_type_id  total_points  \\\n",
       "599            Stones        52      a               2            45   \n",
       "257            Torres        67      u               3            26   \n",
       "535              Sarr        49      a               2            21   \n",
       "475           Tierney        51      a               2            90   \n",
       "3            Ramsdale        51      a               1           103   \n",
       "557       Branthwaite        40      a               2             9   \n",
       "587  Alexander-Arnold        85      a               2           156   \n",
       "26       Arrizabalaga        47      a               1            19   \n",
       "476           Gabriel        53      a               2            99   \n",
       "601           Cancelo        71      a               2           142   \n",
       "705         Ait Nouri        44      a               2            61   \n",
       "603           Laporte        58      a               2           108   \n",
       "586         Robertson        72      a               2           105   \n",
       "353             Bowen        71      a               3           149   \n",
       "114          Coutinho        73      a               3            29   \n",
       "80                 Sá        52      a               1           112   \n",
       "526           Roberts        45      a               2            26   \n",
       "90         Smith Rowe        58      a               3           103   \n",
       "248         Luis Díaz        80      a               3            12   \n",
       "481          Tomiyasu        46      a               2            69   \n",
       "\n",
       "     total_minutes      PP90  PPG      PPMM      VAPM  \n",
       "599            591  6.852792  5.6  1.076923  0.692308  \n",
       "257            303  7.722772  6.5  0.970149  0.671642  \n",
       "535            343  5.510204  5.2  1.061224  0.653061  \n",
       "475           1466  5.525239  5.3  1.039216  0.647059  \n",
       "3             1800  5.150000  5.2  1.019608  0.627451  \n",
       "557            145  5.586207  4.5  1.125000  0.625000  \n",
       "587           1953  7.188940  7.1  0.835294  0.600000  \n",
       "26             360  4.750000  4.8  1.021277  0.595745  \n",
       "476           1746  5.103093  5.0  0.943396  0.566038  \n",
       "601           2147  5.952492  5.9  0.830986  0.549296  \n",
       "705           1102  4.981851  4.4  1.000000  0.545455  \n",
       "603           1812  5.364238  5.1  0.879310  0.534483  \n",
       "586           1574  6.003812  5.8  0.805556  0.527778  \n",
       "353           2218  6.045987  5.7  0.802817  0.521127  \n",
       "114            352  7.414773  5.8  0.794521  0.520548  \n",
       "80            2160  4.666667  4.7  0.903846  0.519231  \n",
       "526            465  5.032258  4.3  0.955556  0.511111  \n",
       "90            1373  6.751639  4.9  0.844828  0.500000  \n",
       "248            178  6.067416  6.0  0.750000  0.500000  \n",
       "481           1384  4.486994  4.3  0.934783  0.500000  "
      ]
     },
     "execution_count": 14,
     "metadata": {},
     "output_type": "execute_result"
    }
   ],
   "source": [
    "top_players = all_players[['web_name' , 'now_cost', 'status' , 'player_type_id', 'total_points' , 'total_minutes' , 'PP90' , 'PPG' , 'PPMM' , 'VAPM']][all_players['total_minutes']>100][all_players['status'] != \"i\"].sort_values(by='VAPM' , ascending = False).head(60)\n",
    "top_players.head(20)"
   ]
  },
  {
   "cell_type": "code",
   "execution_count": 15,
   "metadata": {},
   "outputs": [
    {
     "data": {
      "text/html": [
       "<div>\n",
       "<style scoped>\n",
       "    .dataframe tbody tr th:only-of-type {\n",
       "        vertical-align: middle;\n",
       "    }\n",
       "\n",
       "    .dataframe tbody tr th {\n",
       "        vertical-align: top;\n",
       "    }\n",
       "\n",
       "    .dataframe thead th {\n",
       "        text-align: right;\n",
       "    }\n",
       "</style>\n",
       "<table border=\"1\" class=\"dataframe\">\n",
       "  <thead>\n",
       "    <tr style=\"text-align: right;\">\n",
       "      <th></th>\n",
       "      <th>web_name</th>\n",
       "      <th>now_cost</th>\n",
       "      <th>status</th>\n",
       "      <th>player_type_id</th>\n",
       "      <th>total_points</th>\n",
       "      <th>total_minutes</th>\n",
       "      <th>PP90</th>\n",
       "      <th>PPG</th>\n",
       "      <th>PPMM</th>\n",
       "      <th>VAPM</th>\n",
       "    </tr>\n",
       "  </thead>\n",
       "  <tbody>\n",
       "    <tr>\n",
       "      <th>3</th>\n",
       "      <td>Ramsdale</td>\n",
       "      <td>51</td>\n",
       "      <td>a</td>\n",
       "      <td>1</td>\n",
       "      <td>103</td>\n",
       "      <td>1800</td>\n",
       "      <td>5.150000</td>\n",
       "      <td>5.2</td>\n",
       "      <td>1.019608</td>\n",
       "      <td>0.627451</td>\n",
       "    </tr>\n",
       "    <tr>\n",
       "      <th>26</th>\n",
       "      <td>Arrizabalaga</td>\n",
       "      <td>47</td>\n",
       "      <td>a</td>\n",
       "      <td>1</td>\n",
       "      <td>19</td>\n",
       "      <td>360</td>\n",
       "      <td>4.750000</td>\n",
       "      <td>4.8</td>\n",
       "      <td>1.021277</td>\n",
       "      <td>0.595745</td>\n",
       "    </tr>\n",
       "    <tr>\n",
       "      <th>80</th>\n",
       "      <td>Sá</td>\n",
       "      <td>52</td>\n",
       "      <td>a</td>\n",
       "      <td>1</td>\n",
       "      <td>112</td>\n",
       "      <td>2160</td>\n",
       "      <td>4.666667</td>\n",
       "      <td>4.7</td>\n",
       "      <td>0.903846</td>\n",
       "      <td>0.519231</td>\n",
       "    </tr>\n",
       "  </tbody>\n",
       "</table>\n",
       "</div>"
      ],
      "text/plain": [
       "        web_name  now_cost status  player_type_id  total_points  \\\n",
       "3       Ramsdale        51      a               1           103   \n",
       "26  Arrizabalaga        47      a               1            19   \n",
       "80            Sá        52      a               1           112   \n",
       "\n",
       "    total_minutes      PP90  PPG      PPMM      VAPM  \n",
       "3            1800  5.150000  5.2  1.019608  0.627451  \n",
       "26            360  4.750000  4.8  1.021277  0.595745  \n",
       "80           2160  4.666667  4.7  0.903846  0.519231  "
      ]
     },
     "execution_count": 15,
     "metadata": {},
     "output_type": "execute_result"
    }
   ],
   "source": [
    "top_players[top_players['player_type_id'] == 1].head(3)"
   ]
  },
  {
   "cell_type": "code",
   "execution_count": 16,
   "metadata": {},
   "outputs": [
    {
     "data": {
      "text/html": [
       "<div>\n",
       "<style scoped>\n",
       "    .dataframe tbody tr th:only-of-type {\n",
       "        vertical-align: middle;\n",
       "    }\n",
       "\n",
       "    .dataframe tbody tr th {\n",
       "        vertical-align: top;\n",
       "    }\n",
       "\n",
       "    .dataframe thead th {\n",
       "        text-align: right;\n",
       "    }\n",
       "</style>\n",
       "<table border=\"1\" class=\"dataframe\">\n",
       "  <thead>\n",
       "    <tr style=\"text-align: right;\">\n",
       "      <th></th>\n",
       "      <th>web_name</th>\n",
       "      <th>now_cost</th>\n",
       "      <th>status</th>\n",
       "      <th>player_type_id</th>\n",
       "      <th>total_points</th>\n",
       "      <th>total_minutes</th>\n",
       "      <th>PP90</th>\n",
       "      <th>PPG</th>\n",
       "      <th>PPMM</th>\n",
       "      <th>VAPM</th>\n",
       "    </tr>\n",
       "  </thead>\n",
       "  <tbody>\n",
       "    <tr>\n",
       "      <th>599</th>\n",
       "      <td>Stones</td>\n",
       "      <td>52</td>\n",
       "      <td>a</td>\n",
       "      <td>2</td>\n",
       "      <td>45</td>\n",
       "      <td>591</td>\n",
       "      <td>6.852792</td>\n",
       "      <td>5.6</td>\n",
       "      <td>1.076923</td>\n",
       "      <td>0.692308</td>\n",
       "    </tr>\n",
       "    <tr>\n",
       "      <th>535</th>\n",
       "      <td>Sarr</td>\n",
       "      <td>49</td>\n",
       "      <td>a</td>\n",
       "      <td>2</td>\n",
       "      <td>21</td>\n",
       "      <td>343</td>\n",
       "      <td>5.510204</td>\n",
       "      <td>5.2</td>\n",
       "      <td>1.061224</td>\n",
       "      <td>0.653061</td>\n",
       "    </tr>\n",
       "    <tr>\n",
       "      <th>475</th>\n",
       "      <td>Tierney</td>\n",
       "      <td>51</td>\n",
       "      <td>a</td>\n",
       "      <td>2</td>\n",
       "      <td>90</td>\n",
       "      <td>1466</td>\n",
       "      <td>5.525239</td>\n",
       "      <td>5.3</td>\n",
       "      <td>1.039216</td>\n",
       "      <td>0.647059</td>\n",
       "    </tr>\n",
       "    <tr>\n",
       "      <th>557</th>\n",
       "      <td>Branthwaite</td>\n",
       "      <td>40</td>\n",
       "      <td>a</td>\n",
       "      <td>2</td>\n",
       "      <td>9</td>\n",
       "      <td>145</td>\n",
       "      <td>5.586207</td>\n",
       "      <td>4.5</td>\n",
       "      <td>1.125000</td>\n",
       "      <td>0.625000</td>\n",
       "    </tr>\n",
       "    <tr>\n",
       "      <th>587</th>\n",
       "      <td>Alexander-Arnold</td>\n",
       "      <td>85</td>\n",
       "      <td>a</td>\n",
       "      <td>2</td>\n",
       "      <td>156</td>\n",
       "      <td>1953</td>\n",
       "      <td>7.188940</td>\n",
       "      <td>7.1</td>\n",
       "      <td>0.835294</td>\n",
       "      <td>0.600000</td>\n",
       "    </tr>\n",
       "  </tbody>\n",
       "</table>\n",
       "</div>"
      ],
      "text/plain": [
       "             web_name  now_cost status  player_type_id  total_points  \\\n",
       "599            Stones        52      a               2            45   \n",
       "535              Sarr        49      a               2            21   \n",
       "475           Tierney        51      a               2            90   \n",
       "557       Branthwaite        40      a               2             9   \n",
       "587  Alexander-Arnold        85      a               2           156   \n",
       "\n",
       "     total_minutes      PP90  PPG      PPMM      VAPM  \n",
       "599            591  6.852792  5.6  1.076923  0.692308  \n",
       "535            343  5.510204  5.2  1.061224  0.653061  \n",
       "475           1466  5.525239  5.3  1.039216  0.647059  \n",
       "557            145  5.586207  4.5  1.125000  0.625000  \n",
       "587           1953  7.188940  7.1  0.835294  0.600000  "
      ]
     },
     "execution_count": 16,
     "metadata": {},
     "output_type": "execute_result"
    }
   ],
   "source": [
    "top_players[top_players['player_type_id'] == 2].head(5)"
   ]
  },
  {
   "cell_type": "code",
   "execution_count": 17,
   "metadata": {},
   "outputs": [
    {
     "data": {
      "text/html": [
       "<div>\n",
       "<style scoped>\n",
       "    .dataframe tbody tr th:only-of-type {\n",
       "        vertical-align: middle;\n",
       "    }\n",
       "\n",
       "    .dataframe tbody tr th {\n",
       "        vertical-align: top;\n",
       "    }\n",
       "\n",
       "    .dataframe thead th {\n",
       "        text-align: right;\n",
       "    }\n",
       "</style>\n",
       "<table border=\"1\" class=\"dataframe\">\n",
       "  <thead>\n",
       "    <tr style=\"text-align: right;\">\n",
       "      <th></th>\n",
       "      <th>web_name</th>\n",
       "      <th>now_cost</th>\n",
       "      <th>status</th>\n",
       "      <th>player_type_id</th>\n",
       "      <th>total_points</th>\n",
       "      <th>total_minutes</th>\n",
       "      <th>PP90</th>\n",
       "      <th>PPG</th>\n",
       "      <th>PPMM</th>\n",
       "      <th>VAPM</th>\n",
       "    </tr>\n",
       "  </thead>\n",
       "  <tbody>\n",
       "    <tr>\n",
       "      <th>257</th>\n",
       "      <td>Torres</td>\n",
       "      <td>67</td>\n",
       "      <td>u</td>\n",
       "      <td>3</td>\n",
       "      <td>26</td>\n",
       "      <td>303</td>\n",
       "      <td>7.722772</td>\n",
       "      <td>6.5</td>\n",
       "      <td>0.970149</td>\n",
       "      <td>0.671642</td>\n",
       "    </tr>\n",
       "    <tr>\n",
       "      <th>353</th>\n",
       "      <td>Bowen</td>\n",
       "      <td>71</td>\n",
       "      <td>a</td>\n",
       "      <td>3</td>\n",
       "      <td>149</td>\n",
       "      <td>2218</td>\n",
       "      <td>6.045987</td>\n",
       "      <td>5.7</td>\n",
       "      <td>0.802817</td>\n",
       "      <td>0.521127</td>\n",
       "    </tr>\n",
       "    <tr>\n",
       "      <th>114</th>\n",
       "      <td>Coutinho</td>\n",
       "      <td>73</td>\n",
       "      <td>a</td>\n",
       "      <td>3</td>\n",
       "      <td>29</td>\n",
       "      <td>352</td>\n",
       "      <td>7.414773</td>\n",
       "      <td>5.8</td>\n",
       "      <td>0.794521</td>\n",
       "      <td>0.520548</td>\n",
       "    </tr>\n",
       "    <tr>\n",
       "      <th>90</th>\n",
       "      <td>Smith Rowe</td>\n",
       "      <td>58</td>\n",
       "      <td>a</td>\n",
       "      <td>3</td>\n",
       "      <td>103</td>\n",
       "      <td>1373</td>\n",
       "      <td>6.751639</td>\n",
       "      <td>4.9</td>\n",
       "      <td>0.844828</td>\n",
       "      <td>0.500000</td>\n",
       "    </tr>\n",
       "    <tr>\n",
       "      <th>248</th>\n",
       "      <td>Luis Díaz</td>\n",
       "      <td>80</td>\n",
       "      <td>a</td>\n",
       "      <td>3</td>\n",
       "      <td>12</td>\n",
       "      <td>178</td>\n",
       "      <td>6.067416</td>\n",
       "      <td>6.0</td>\n",
       "      <td>0.750000</td>\n",
       "      <td>0.500000</td>\n",
       "    </tr>\n",
       "  </tbody>\n",
       "</table>\n",
       "</div>"
      ],
      "text/plain": [
       "       web_name  now_cost status  player_type_id  total_points  total_minutes  \\\n",
       "257      Torres        67      u               3            26            303   \n",
       "353       Bowen        71      a               3           149           2218   \n",
       "114    Coutinho        73      a               3            29            352   \n",
       "90   Smith Rowe        58      a               3           103           1373   \n",
       "248   Luis Díaz        80      a               3            12            178   \n",
       "\n",
       "         PP90  PPG      PPMM      VAPM  \n",
       "257  7.722772  6.5  0.970149  0.671642  \n",
       "353  6.045987  5.7  0.802817  0.521127  \n",
       "114  7.414773  5.8  0.794521  0.520548  \n",
       "90   6.751639  4.9  0.844828  0.500000  \n",
       "248  6.067416  6.0  0.750000  0.500000  "
      ]
     },
     "execution_count": 17,
     "metadata": {},
     "output_type": "execute_result"
    }
   ],
   "source": [
    "top_players[top_players['player_type_id'] == 3].head(5)"
   ]
  },
  {
   "cell_type": "code",
   "execution_count": 18,
   "metadata": {},
   "outputs": [
    {
     "data": {
      "text/html": [
       "<div>\n",
       "<style scoped>\n",
       "    .dataframe tbody tr th:only-of-type {\n",
       "        vertical-align: middle;\n",
       "    }\n",
       "\n",
       "    .dataframe tbody tr th {\n",
       "        vertical-align: top;\n",
       "    }\n",
       "\n",
       "    .dataframe thead th {\n",
       "        text-align: right;\n",
       "    }\n",
       "</style>\n",
       "<table border=\"1\" class=\"dataframe\">\n",
       "  <thead>\n",
       "    <tr style=\"text-align: right;\">\n",
       "      <th></th>\n",
       "      <th>web_name</th>\n",
       "      <th>now_cost</th>\n",
       "      <th>status</th>\n",
       "      <th>player_type_id</th>\n",
       "      <th>total_points</th>\n",
       "      <th>total_minutes</th>\n",
       "      <th>PP90</th>\n",
       "      <th>PPG</th>\n",
       "      <th>PPMM</th>\n",
       "      <th>VAPM</th>\n",
       "    </tr>\n",
       "  </thead>\n",
       "  <tbody>\n",
       "    <tr>\n",
       "      <th>403</th>\n",
       "      <td>Weghorst</td>\n",
       "      <td>65</td>\n",
       "      <td>a</td>\n",
       "      <td>4</td>\n",
       "      <td>21</td>\n",
       "      <td>341</td>\n",
       "      <td>5.542522</td>\n",
       "      <td>5.2</td>\n",
       "      <td>0.800000</td>\n",
       "      <td>0.492308</td>\n",
       "    </tr>\n",
       "    <tr>\n",
       "      <th>461</th>\n",
       "      <td>Dennis</td>\n",
       "      <td>61</td>\n",
       "      <td>a</td>\n",
       "      <td>4</td>\n",
       "      <td>105</td>\n",
       "      <td>1728</td>\n",
       "      <td>5.468750</td>\n",
       "      <td>4.8</td>\n",
       "      <td>0.786885</td>\n",
       "      <td>0.459016</td>\n",
       "    </tr>\n",
       "  </tbody>\n",
       "</table>\n",
       "</div>"
      ],
      "text/plain": [
       "     web_name  now_cost status  player_type_id  total_points  total_minutes  \\\n",
       "403  Weghorst        65      a               4            21            341   \n",
       "461    Dennis        61      a               4           105           1728   \n",
       "\n",
       "         PP90  PPG      PPMM      VAPM  \n",
       "403  5.542522  5.2  0.800000  0.492308  \n",
       "461  5.468750  4.8  0.786885  0.459016  "
      ]
     },
     "execution_count": 18,
     "metadata": {},
     "output_type": "execute_result"
    }
   ],
   "source": [
    "top_players[top_players['player_type_id'] == 4].head(3)"
   ]
  },
  {
   "cell_type": "code",
   "execution_count": 19,
   "metadata": {
    "tags": []
   },
   "outputs": [
    {
     "name": "stdout",
     "output_type": "stream",
     "text": [
      "Price for the best team is 85.0\n"
     ]
    }
   ],
   "source": [
    "price_gk = top_players['now_cost'][top_players['player_type_id'] == 1].head(2).sum()\n",
    "price_def = top_players['now_cost'][top_players['player_type_id'] == 2].head(5).sum()\n",
    "price_mid = top_players['now_cost'][top_players['player_type_id'] == 3].head(5).sum()\n",
    "price_fwd = top_players['now_cost'][top_players['player_type_id'] == 4].head(3).sum()\n",
    "\n",
    "\n",
    "team_cost = price_gk + price_def + price_mid + price_fwd\n",
    "print(\"Price for the best team is \" + str(np.divide(team_cost,10)))"
   ]
  },
  {
   "cell_type": "code",
   "execution_count": 20,
   "metadata": {},
   "outputs": [],
   "source": [
    "def player_value():\n",
    "\n",
    "    fig = px.scatter(\n",
    "        top_players.head(30), \n",
    "        x = 'now_cost', \n",
    "        y = 'VAPM',\n",
    "        #size = 'minutes',\n",
    "        color = 'total_points',\n",
    "        text = 'web_name',\n",
    "        hover_data=['PPG'])\n",
    "\n",
    "    fig.show()"
   ]
  },
  {
   "cell_type": "code",
   "execution_count": 21,
   "metadata": {},
   "outputs": [
    {
     "data": {
      "application/vnd.plotly.v1+json": {
       "config": {
        "plotlyServerURL": "https://plot.ly"
       },
       "data": [
        {
         "customdata": [
          [
           5.6
          ],
          [
           6.5
          ],
          [
           5.2
          ],
          [
           5.3
          ],
          [
           5.2
          ],
          [
           4.5
          ],
          [
           7.1
          ],
          [
           4.8
          ],
          [
           5
          ],
          [
           5.9
          ],
          [
           4.4
          ],
          [
           5.1
          ],
          [
           5.8
          ],
          [
           5.7
          ],
          [
           5.8
          ],
          [
           4.7
          ],
          [
           4.3
          ],
          [
           4.9
          ],
          [
           6
          ],
          [
           4.3
          ],
          [
           4.8
          ],
          [
           5.2
          ],
          [
           3.8
          ],
          [
           5
          ],
          [
           8.3
          ],
          [
           4.2
          ],
          [
           4
          ],
          [
           4
          ],
          [
           5.1
          ],
          [
           4.8
          ]
         ],
         "hovertemplate": "now_cost=%{x}<br>VAPM=%{y}<br>web_name=%{text}<br>PPG=%{customdata[0]}<br>total_points=%{marker.color}<extra></extra>",
         "legendgroup": "",
         "marker": {
          "color": [
           45,
           26,
           21,
           90,
           103,
           9,
           156,
           19,
           99,
           142,
           61,
           108,
           105,
           149,
           29,
           112,
           26,
           103,
           12,
           69,
           100,
           21,
           38,
           105,
           191,
           38,
           8,
           48,
           118,
           105
          ],
          "coloraxis": "coloraxis",
          "symbol": "circle"
         },
         "mode": "markers+text",
         "name": "",
         "orientation": "v",
         "showlegend": false,
         "text": [
          "Stones",
          "Torres",
          "Sarr",
          "Tierney",
          "Ramsdale",
          "Branthwaite",
          "Alexander-Arnold",
          "Arrizabalaga",
          "Gabriel",
          "Cancelo",
          "Ait Nouri",
          "Laporte",
          "Robertson",
          "Bowen",
          "Coutinho",
          "Sá",
          "Roberts",
          "Smith Rowe",
          "Luis Díaz",
          "Tomiyasu",
          "Thiago Silva",
          "Weghorst",
          "Tsimikas",
          "Gallagher",
          "Salah",
          "Aké",
          "Kelleher",
          "Raya",
          "van Dijk",
          "Dennis"
         ],
         "type": "scatter",
         "x": [
          52,
          67,
          49,
          51,
          51,
          40,
          85,
          47,
          53,
          71,
          44,
          58,
          72,
          71,
          73,
          52,
          45,
          58,
          80,
          46,
          56,
          65,
          37,
          62,
          131,
          47,
          43,
          43,
          67,
          61
         ],
         "xaxis": "x",
         "y": [
          0.6923076923076922,
          0.6716417910447761,
          0.6530612244897959,
          0.6470588235294118,
          0.627450980392157,
          0.625,
          0.6,
          0.5957446808510638,
          0.5660377358490566,
          0.5492957746478874,
          0.5454545454545455,
          0.5344827586206896,
          0.5277777777777778,
          0.5211267605633804,
          0.5205479452054794,
          0.5192307692307693,
          0.5111111111111111,
          0.5000000000000001,
          0.5,
          0.5,
          0.5,
          0.4923076923076923,
          0.4864864864864864,
          0.4838709677419354,
          0.4809160305343512,
          0.4680851063829787,
          0.4651162790697674,
          0.4651162790697674,
          0.4626865671641791,
          0.459016393442623
         ],
         "yaxis": "y"
        }
       ],
       "layout": {
        "coloraxis": {
         "colorbar": {
          "title": {
           "text": "total_points"
          }
         },
         "colorscale": [
          [
           0,
           "#0d0887"
          ],
          [
           0.1111111111111111,
           "#46039f"
          ],
          [
           0.2222222222222222,
           "#7201a8"
          ],
          [
           0.3333333333333333,
           "#9c179e"
          ],
          [
           0.4444444444444444,
           "#bd3786"
          ],
          [
           0.5555555555555556,
           "#d8576b"
          ],
          [
           0.6666666666666666,
           "#ed7953"
          ],
          [
           0.7777777777777778,
           "#fb9f3a"
          ],
          [
           0.8888888888888888,
           "#fdca26"
          ],
          [
           1,
           "#f0f921"
          ]
         ]
        },
        "legend": {
         "tracegroupgap": 0
        },
        "margin": {
         "t": 60
        },
        "template": {
         "data": {
          "bar": [
           {
            "error_x": {
             "color": "#2a3f5f"
            },
            "error_y": {
             "color": "#2a3f5f"
            },
            "marker": {
             "line": {
              "color": "#E5ECF6",
              "width": 0.5
             },
             "pattern": {
              "fillmode": "overlay",
              "size": 10,
              "solidity": 0.2
             }
            },
            "type": "bar"
           }
          ],
          "barpolar": [
           {
            "marker": {
             "line": {
              "color": "#E5ECF6",
              "width": 0.5
             },
             "pattern": {
              "fillmode": "overlay",
              "size": 10,
              "solidity": 0.2
             }
            },
            "type": "barpolar"
           }
          ],
          "carpet": [
           {
            "aaxis": {
             "endlinecolor": "#2a3f5f",
             "gridcolor": "white",
             "linecolor": "white",
             "minorgridcolor": "white",
             "startlinecolor": "#2a3f5f"
            },
            "baxis": {
             "endlinecolor": "#2a3f5f",
             "gridcolor": "white",
             "linecolor": "white",
             "minorgridcolor": "white",
             "startlinecolor": "#2a3f5f"
            },
            "type": "carpet"
           }
          ],
          "choropleth": [
           {
            "colorbar": {
             "outlinewidth": 0,
             "ticks": ""
            },
            "type": "choropleth"
           }
          ],
          "contour": [
           {
            "colorbar": {
             "outlinewidth": 0,
             "ticks": ""
            },
            "colorscale": [
             [
              0,
              "#0d0887"
             ],
             [
              0.1111111111111111,
              "#46039f"
             ],
             [
              0.2222222222222222,
              "#7201a8"
             ],
             [
              0.3333333333333333,
              "#9c179e"
             ],
             [
              0.4444444444444444,
              "#bd3786"
             ],
             [
              0.5555555555555556,
              "#d8576b"
             ],
             [
              0.6666666666666666,
              "#ed7953"
             ],
             [
              0.7777777777777778,
              "#fb9f3a"
             ],
             [
              0.8888888888888888,
              "#fdca26"
             ],
             [
              1,
              "#f0f921"
             ]
            ],
            "type": "contour"
           }
          ],
          "contourcarpet": [
           {
            "colorbar": {
             "outlinewidth": 0,
             "ticks": ""
            },
            "type": "contourcarpet"
           }
          ],
          "heatmap": [
           {
            "colorbar": {
             "outlinewidth": 0,
             "ticks": ""
            },
            "colorscale": [
             [
              0,
              "#0d0887"
             ],
             [
              0.1111111111111111,
              "#46039f"
             ],
             [
              0.2222222222222222,
              "#7201a8"
             ],
             [
              0.3333333333333333,
              "#9c179e"
             ],
             [
              0.4444444444444444,
              "#bd3786"
             ],
             [
              0.5555555555555556,
              "#d8576b"
             ],
             [
              0.6666666666666666,
              "#ed7953"
             ],
             [
              0.7777777777777778,
              "#fb9f3a"
             ],
             [
              0.8888888888888888,
              "#fdca26"
             ],
             [
              1,
              "#f0f921"
             ]
            ],
            "type": "heatmap"
           }
          ],
          "heatmapgl": [
           {
            "colorbar": {
             "outlinewidth": 0,
             "ticks": ""
            },
            "colorscale": [
             [
              0,
              "#0d0887"
             ],
             [
              0.1111111111111111,
              "#46039f"
             ],
             [
              0.2222222222222222,
              "#7201a8"
             ],
             [
              0.3333333333333333,
              "#9c179e"
             ],
             [
              0.4444444444444444,
              "#bd3786"
             ],
             [
              0.5555555555555556,
              "#d8576b"
             ],
             [
              0.6666666666666666,
              "#ed7953"
             ],
             [
              0.7777777777777778,
              "#fb9f3a"
             ],
             [
              0.8888888888888888,
              "#fdca26"
             ],
             [
              1,
              "#f0f921"
             ]
            ],
            "type": "heatmapgl"
           }
          ],
          "histogram": [
           {
            "marker": {
             "pattern": {
              "fillmode": "overlay",
              "size": 10,
              "solidity": 0.2
             }
            },
            "type": "histogram"
           }
          ],
          "histogram2d": [
           {
            "colorbar": {
             "outlinewidth": 0,
             "ticks": ""
            },
            "colorscale": [
             [
              0,
              "#0d0887"
             ],
             [
              0.1111111111111111,
              "#46039f"
             ],
             [
              0.2222222222222222,
              "#7201a8"
             ],
             [
              0.3333333333333333,
              "#9c179e"
             ],
             [
              0.4444444444444444,
              "#bd3786"
             ],
             [
              0.5555555555555556,
              "#d8576b"
             ],
             [
              0.6666666666666666,
              "#ed7953"
             ],
             [
              0.7777777777777778,
              "#fb9f3a"
             ],
             [
              0.8888888888888888,
              "#fdca26"
             ],
             [
              1,
              "#f0f921"
             ]
            ],
            "type": "histogram2d"
           }
          ],
          "histogram2dcontour": [
           {
            "colorbar": {
             "outlinewidth": 0,
             "ticks": ""
            },
            "colorscale": [
             [
              0,
              "#0d0887"
             ],
             [
              0.1111111111111111,
              "#46039f"
             ],
             [
              0.2222222222222222,
              "#7201a8"
             ],
             [
              0.3333333333333333,
              "#9c179e"
             ],
             [
              0.4444444444444444,
              "#bd3786"
             ],
             [
              0.5555555555555556,
              "#d8576b"
             ],
             [
              0.6666666666666666,
              "#ed7953"
             ],
             [
              0.7777777777777778,
              "#fb9f3a"
             ],
             [
              0.8888888888888888,
              "#fdca26"
             ],
             [
              1,
              "#f0f921"
             ]
            ],
            "type": "histogram2dcontour"
           }
          ],
          "mesh3d": [
           {
            "colorbar": {
             "outlinewidth": 0,
             "ticks": ""
            },
            "type": "mesh3d"
           }
          ],
          "parcoords": [
           {
            "line": {
             "colorbar": {
              "outlinewidth": 0,
              "ticks": ""
             }
            },
            "type": "parcoords"
           }
          ],
          "pie": [
           {
            "automargin": true,
            "type": "pie"
           }
          ],
          "scatter": [
           {
            "marker": {
             "colorbar": {
              "outlinewidth": 0,
              "ticks": ""
             }
            },
            "type": "scatter"
           }
          ],
          "scatter3d": [
           {
            "line": {
             "colorbar": {
              "outlinewidth": 0,
              "ticks": ""
             }
            },
            "marker": {
             "colorbar": {
              "outlinewidth": 0,
              "ticks": ""
             }
            },
            "type": "scatter3d"
           }
          ],
          "scattercarpet": [
           {
            "marker": {
             "colorbar": {
              "outlinewidth": 0,
              "ticks": ""
             }
            },
            "type": "scattercarpet"
           }
          ],
          "scattergeo": [
           {
            "marker": {
             "colorbar": {
              "outlinewidth": 0,
              "ticks": ""
             }
            },
            "type": "scattergeo"
           }
          ],
          "scattergl": [
           {
            "marker": {
             "colorbar": {
              "outlinewidth": 0,
              "ticks": ""
             }
            },
            "type": "scattergl"
           }
          ],
          "scattermapbox": [
           {
            "marker": {
             "colorbar": {
              "outlinewidth": 0,
              "ticks": ""
             }
            },
            "type": "scattermapbox"
           }
          ],
          "scatterpolar": [
           {
            "marker": {
             "colorbar": {
              "outlinewidth": 0,
              "ticks": ""
             }
            },
            "type": "scatterpolar"
           }
          ],
          "scatterpolargl": [
           {
            "marker": {
             "colorbar": {
              "outlinewidth": 0,
              "ticks": ""
             }
            },
            "type": "scatterpolargl"
           }
          ],
          "scatterternary": [
           {
            "marker": {
             "colorbar": {
              "outlinewidth": 0,
              "ticks": ""
             }
            },
            "type": "scatterternary"
           }
          ],
          "surface": [
           {
            "colorbar": {
             "outlinewidth": 0,
             "ticks": ""
            },
            "colorscale": [
             [
              0,
              "#0d0887"
             ],
             [
              0.1111111111111111,
              "#46039f"
             ],
             [
              0.2222222222222222,
              "#7201a8"
             ],
             [
              0.3333333333333333,
              "#9c179e"
             ],
             [
              0.4444444444444444,
              "#bd3786"
             ],
             [
              0.5555555555555556,
              "#d8576b"
             ],
             [
              0.6666666666666666,
              "#ed7953"
             ],
             [
              0.7777777777777778,
              "#fb9f3a"
             ],
             [
              0.8888888888888888,
              "#fdca26"
             ],
             [
              1,
              "#f0f921"
             ]
            ],
            "type": "surface"
           }
          ],
          "table": [
           {
            "cells": {
             "fill": {
              "color": "#EBF0F8"
             },
             "line": {
              "color": "white"
             }
            },
            "header": {
             "fill": {
              "color": "#C8D4E3"
             },
             "line": {
              "color": "white"
             }
            },
            "type": "table"
           }
          ]
         },
         "layout": {
          "annotationdefaults": {
           "arrowcolor": "#2a3f5f",
           "arrowhead": 0,
           "arrowwidth": 1
          },
          "autotypenumbers": "strict",
          "coloraxis": {
           "colorbar": {
            "outlinewidth": 0,
            "ticks": ""
           }
          },
          "colorscale": {
           "diverging": [
            [
             0,
             "#8e0152"
            ],
            [
             0.1,
             "#c51b7d"
            ],
            [
             0.2,
             "#de77ae"
            ],
            [
             0.3,
             "#f1b6da"
            ],
            [
             0.4,
             "#fde0ef"
            ],
            [
             0.5,
             "#f7f7f7"
            ],
            [
             0.6,
             "#e6f5d0"
            ],
            [
             0.7,
             "#b8e186"
            ],
            [
             0.8,
             "#7fbc41"
            ],
            [
             0.9,
             "#4d9221"
            ],
            [
             1,
             "#276419"
            ]
           ],
           "sequential": [
            [
             0,
             "#0d0887"
            ],
            [
             0.1111111111111111,
             "#46039f"
            ],
            [
             0.2222222222222222,
             "#7201a8"
            ],
            [
             0.3333333333333333,
             "#9c179e"
            ],
            [
             0.4444444444444444,
             "#bd3786"
            ],
            [
             0.5555555555555556,
             "#d8576b"
            ],
            [
             0.6666666666666666,
             "#ed7953"
            ],
            [
             0.7777777777777778,
             "#fb9f3a"
            ],
            [
             0.8888888888888888,
             "#fdca26"
            ],
            [
             1,
             "#f0f921"
            ]
           ],
           "sequentialminus": [
            [
             0,
             "#0d0887"
            ],
            [
             0.1111111111111111,
             "#46039f"
            ],
            [
             0.2222222222222222,
             "#7201a8"
            ],
            [
             0.3333333333333333,
             "#9c179e"
            ],
            [
             0.4444444444444444,
             "#bd3786"
            ],
            [
             0.5555555555555556,
             "#d8576b"
            ],
            [
             0.6666666666666666,
             "#ed7953"
            ],
            [
             0.7777777777777778,
             "#fb9f3a"
            ],
            [
             0.8888888888888888,
             "#fdca26"
            ],
            [
             1,
             "#f0f921"
            ]
           ]
          },
          "colorway": [
           "#636efa",
           "#EF553B",
           "#00cc96",
           "#ab63fa",
           "#FFA15A",
           "#19d3f3",
           "#FF6692",
           "#B6E880",
           "#FF97FF",
           "#FECB52"
          ],
          "font": {
           "color": "#2a3f5f"
          },
          "geo": {
           "bgcolor": "white",
           "lakecolor": "white",
           "landcolor": "#E5ECF6",
           "showlakes": true,
           "showland": true,
           "subunitcolor": "white"
          },
          "hoverlabel": {
           "align": "left"
          },
          "hovermode": "closest",
          "mapbox": {
           "style": "light"
          },
          "paper_bgcolor": "white",
          "plot_bgcolor": "#E5ECF6",
          "polar": {
           "angularaxis": {
            "gridcolor": "white",
            "linecolor": "white",
            "ticks": ""
           },
           "bgcolor": "#E5ECF6",
           "radialaxis": {
            "gridcolor": "white",
            "linecolor": "white",
            "ticks": ""
           }
          },
          "scene": {
           "xaxis": {
            "backgroundcolor": "#E5ECF6",
            "gridcolor": "white",
            "gridwidth": 2,
            "linecolor": "white",
            "showbackground": true,
            "ticks": "",
            "zerolinecolor": "white"
           },
           "yaxis": {
            "backgroundcolor": "#E5ECF6",
            "gridcolor": "white",
            "gridwidth": 2,
            "linecolor": "white",
            "showbackground": true,
            "ticks": "",
            "zerolinecolor": "white"
           },
           "zaxis": {
            "backgroundcolor": "#E5ECF6",
            "gridcolor": "white",
            "gridwidth": 2,
            "linecolor": "white",
            "showbackground": true,
            "ticks": "",
            "zerolinecolor": "white"
           }
          },
          "shapedefaults": {
           "line": {
            "color": "#2a3f5f"
           }
          },
          "ternary": {
           "aaxis": {
            "gridcolor": "white",
            "linecolor": "white",
            "ticks": ""
           },
           "baxis": {
            "gridcolor": "white",
            "linecolor": "white",
            "ticks": ""
           },
           "bgcolor": "#E5ECF6",
           "caxis": {
            "gridcolor": "white",
            "linecolor": "white",
            "ticks": ""
           }
          },
          "title": {
           "x": 0.05
          },
          "xaxis": {
           "automargin": true,
           "gridcolor": "white",
           "linecolor": "white",
           "ticks": "",
           "title": {
            "standoff": 15
           },
           "zerolinecolor": "white",
           "zerolinewidth": 2
          },
          "yaxis": {
           "automargin": true,
           "gridcolor": "white",
           "linecolor": "white",
           "ticks": "",
           "title": {
            "standoff": 15
           },
           "zerolinecolor": "white",
           "zerolinewidth": 2
          }
         }
        },
        "xaxis": {
         "anchor": "y",
         "domain": [
          0,
          1
         ],
         "title": {
          "text": "now_cost"
         }
        },
        "yaxis": {
         "anchor": "x",
         "domain": [
          0,
          1
         ],
         "title": {
          "text": "VAPM"
         }
        }
       }
      }
     },
     "metadata": {},
     "output_type": "display_data"
    }
   ],
   "source": [
    "player_value()"
   ]
  },
  {
   "cell_type": "code",
   "execution_count": null,
   "metadata": {},
   "outputs": [],
   "source": []
  }
 ],
 "metadata": {
  "interpreter": {
   "hash": "6e56ddf245586699e4e98d103f601e3ba8b7b7998b3ab899047dd176a67704e7"
  },
  "kernelspec": {
   "display_name": "Python 3.8.3 64-bit (conda)",
   "language": "python",
   "name": "python3"
  },
  "language_info": {
   "codemirror_mode": {
    "name": "ipython",
    "version": 3
   },
   "file_extension": ".py",
   "mimetype": "text/x-python",
   "name": "python",
   "nbconvert_exporter": "python",
   "pygments_lexer": "ipython3",
   "version": "3.8.5"
  },
  "orig_nbformat": 2
 },
 "nbformat": 4,
 "nbformat_minor": 2
}
