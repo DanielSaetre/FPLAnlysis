{
 "metadata": {
  "language_info": {
   "codemirror_mode": {
    "name": "ipython",
    "version": 3
   },
   "file_extension": ".py",
   "mimetype": "text/x-python",
   "name": "python",
   "nbconvert_exporter": "python",
   "pygments_lexer": "ipython3",
   "version": "3.8.3-final"
  },
  "orig_nbformat": 2,
  "kernelspec": {
   "name": "Python 3.8.3 64-bit (conda)",
   "display_name": "Python 3.8.3 64-bit (conda)",
   "metadata": {
    "interpreter": {
     "hash": "fb698bdeab99cfbf9e31cab566d99a06e057f2dec3dcc8097ebabb329e860e16"
    }
   }
  }
 },
 "nbformat": 4,
 "nbformat_minor": 2,
 "cells": [
  {
   "cell_type": "code",
   "execution_count": 22,
   "metadata": {},
   "outputs": [],
   "source": [
    "import numpy as np\n",
    "import pandas as pd\n",
    "import seaborn as sns\n",
    "import scipy\n",
    "\n",
    "import matplotlib.pyplot as plt\n",
    "import matplotlib.ticker as ticker\n",
    "\n",
    "import plotly.express as px\n",
    "\n",
    "from datetime import datetime\n",
    "from scipy import stats\n",
    "\n",
    "#Set Display options\n",
    "pd.set_option('display.max_rows', 50)\n",
    "pd.set_option('display.max_columns', 50)"
   ]
  },
  {
   "cell_type": "code",
   "execution_count": 23,
   "metadata": {},
   "outputs": [],
   "source": [
    "#Pick Season\n",
    "season = \"2020-21\"\n",
    "\n",
    "#Import Files\n",
    "all_players = pd.read_csv (r'./data/' + season + '/Merged_data/all_players_merged.csv', parse_dates= [\"news_added\"])\n",
    "#all_teams = pd.read_csv (r'./data/' + season + '/Cleaned_data/all_teams.csv')\n",
    "all_events = pd.read_csv (r'./data/' + season + '/Cleaned_data/all_events.csv', parse_dates= [\"deadline_time\"])\n",
    "player_types = pd.read_csv(r'./data/' + season + '/Cleaned_data/player_types.csv')\n",
    "game_phases = pd.read_csv(r'./data/' + season + '/Cleaned_data/game_phases.csv')\n",
    "\n",
    "player_season_history = pd.read_csv(r'./data/' + season + '/Cleaned_data/player_season_history.csv')\n",
    "player_gameweek_history = pd.read_csv(r'./data/' + season + '/Cleaned_data/player_gameweek_history.csv')\n",
    "#player_gameweek_history = pd.read_csv(r'./data/2019-20/player_past_history/player_gameweek_history_raw.csv')\n",
    "player_future_fixture = pd.read_csv(r'./data/' + season + '/Cleaned_data/player_future_fixture.csv', parse_dates = [\"kickoff_time\"])\n",
    "\n"
   ]
  },
  {
   "cell_type": "code",
   "execution_count": 24,
   "metadata": {},
   "outputs": [
    {
     "output_type": "execute_result",
     "data": {
      "text/plain": [
       "   fixture_id  fixture_code  home_team_id  team_h_score  away_team_id  \\\n",
       "0          64       2128351            13           NaN             1   \n",
       "1          69       2128356             1           NaN             2   \n",
       "2          82       2128369            10           NaN             1   \n",
       "3          89       2128376             1           NaN            20   \n",
       "4         106       2128393            17           NaN             1   \n",
       "\n",
       "   team_a_score  event  finished  minutes  provisional_start_time  \\\n",
       "0           NaN    7.0     False        0                   False   \n",
       "1           NaN    8.0     False        0                   False   \n",
       "2           NaN    9.0     False        0                   False   \n",
       "3           NaN   10.0     False        0                   False   \n",
       "4           NaN   11.0     False        0                   False   \n",
       "\n",
       "         kickoff_time   event_name  is_home  difficulty  player_id  \\\n",
       "0 2020-11-01 16:30:00   Gameweek 7    False           4          1   \n",
       "1 2020-11-07 15:00:00   Gameweek 8     True           3          1   \n",
       "2 2020-11-22 16:30:00   Gameweek 9    False           3          1   \n",
       "3 2020-11-28 15:00:00  Gameweek 10     True           3          1   \n",
       "4 2020-12-05 15:00:00  Gameweek 11    False           4          1   \n",
       "\n",
       "   opponent_team_id  team_id  \n",
       "0                13        1  \n",
       "1                 2        1  \n",
       "2                10        1  \n",
       "3                20        1  \n",
       "4                17        1  "
      ],
      "text/html": "<div>\n<style scoped>\n    .dataframe tbody tr th:only-of-type {\n        vertical-align: middle;\n    }\n\n    .dataframe tbody tr th {\n        vertical-align: top;\n    }\n\n    .dataframe thead th {\n        text-align: right;\n    }\n</style>\n<table border=\"1\" class=\"dataframe\">\n  <thead>\n    <tr style=\"text-align: right;\">\n      <th></th>\n      <th>fixture_id</th>\n      <th>fixture_code</th>\n      <th>home_team_id</th>\n      <th>team_h_score</th>\n      <th>away_team_id</th>\n      <th>team_a_score</th>\n      <th>event</th>\n      <th>finished</th>\n      <th>minutes</th>\n      <th>provisional_start_time</th>\n      <th>kickoff_time</th>\n      <th>event_name</th>\n      <th>is_home</th>\n      <th>difficulty</th>\n      <th>player_id</th>\n      <th>opponent_team_id</th>\n      <th>team_id</th>\n    </tr>\n  </thead>\n  <tbody>\n    <tr>\n      <th>0</th>\n      <td>64</td>\n      <td>2128351</td>\n      <td>13</td>\n      <td>NaN</td>\n      <td>1</td>\n      <td>NaN</td>\n      <td>7.0</td>\n      <td>False</td>\n      <td>0</td>\n      <td>False</td>\n      <td>2020-11-01 16:30:00</td>\n      <td>Gameweek 7</td>\n      <td>False</td>\n      <td>4</td>\n      <td>1</td>\n      <td>13</td>\n      <td>1</td>\n    </tr>\n    <tr>\n      <th>1</th>\n      <td>69</td>\n      <td>2128356</td>\n      <td>1</td>\n      <td>NaN</td>\n      <td>2</td>\n      <td>NaN</td>\n      <td>8.0</td>\n      <td>False</td>\n      <td>0</td>\n      <td>False</td>\n      <td>2020-11-07 15:00:00</td>\n      <td>Gameweek 8</td>\n      <td>True</td>\n      <td>3</td>\n      <td>1</td>\n      <td>2</td>\n      <td>1</td>\n    </tr>\n    <tr>\n      <th>2</th>\n      <td>82</td>\n      <td>2128369</td>\n      <td>10</td>\n      <td>NaN</td>\n      <td>1</td>\n      <td>NaN</td>\n      <td>9.0</td>\n      <td>False</td>\n      <td>0</td>\n      <td>False</td>\n      <td>2020-11-22 16:30:00</td>\n      <td>Gameweek 9</td>\n      <td>False</td>\n      <td>3</td>\n      <td>1</td>\n      <td>10</td>\n      <td>1</td>\n    </tr>\n    <tr>\n      <th>3</th>\n      <td>89</td>\n      <td>2128376</td>\n      <td>1</td>\n      <td>NaN</td>\n      <td>20</td>\n      <td>NaN</td>\n      <td>10.0</td>\n      <td>False</td>\n      <td>0</td>\n      <td>False</td>\n      <td>2020-11-28 15:00:00</td>\n      <td>Gameweek 10</td>\n      <td>True</td>\n      <td>3</td>\n      <td>1</td>\n      <td>20</td>\n      <td>1</td>\n    </tr>\n    <tr>\n      <th>4</th>\n      <td>106</td>\n      <td>2128393</td>\n      <td>17</td>\n      <td>NaN</td>\n      <td>1</td>\n      <td>NaN</td>\n      <td>11.0</td>\n      <td>False</td>\n      <td>0</td>\n      <td>False</td>\n      <td>2020-12-05 15:00:00</td>\n      <td>Gameweek 11</td>\n      <td>False</td>\n      <td>4</td>\n      <td>1</td>\n      <td>17</td>\n      <td>1</td>\n    </tr>\n  </tbody>\n</table>\n</div>"
     },
     "metadata": {},
     "execution_count": 24
    }
   ],
   "source": [
    "player_future_fixture.head()"
   ]
  },
  {
   "cell_type": "code",
   "execution_count": 25,
   "metadata": {},
   "outputs": [],
   "source": [
    "def player_future(player_id):\n",
    "    data = player_future_fixture[player_future_fixture.player_id == player_id]\n",
    "\n",
    "    player = all_players[all_players.player_id == player_id]\n",
    "    team = data.team_id.iloc[0]\n",
    "    goals_scored = player.iloc[0].goals_scored\n",
    "    player_name = player.iloc[0]['web_name']\n",
    "\n",
    "    fig = px.line(\n",
    "        data, \n",
    "        x = 'event_name', \n",
    "        y = 'difficulty', \n",
    "        title = player_name,\n",
    "        hover_data=['opponent_team_id'])\n",
    "\n",
    "    fig.show()"
   ]
  },
  {
   "cell_type": "code",
   "execution_count": 26,
   "metadata": {},
   "outputs": [
    {
     "output_type": "display_data",
     "data": {
      "application/vnd.plotly.v1+json": {
       "config": {
        "plotlyServerURL": "https://plot.ly"
       },
       "data": [
        {
         "customdata": [
          [
           14
          ],
          [
           13
          ],
          [
           8
          ],
          [
           10
          ],
          [
           4
          ],
          [
           5
          ],
          [
           9
          ],
          [
           1
          ],
          [
           15
          ],
          [
           12
          ],
          [
           19
          ],
          [
           20
          ],
          [
           2
          ],
          [
           9
          ],
          [
           14
          ],
          [
           10
          ],
          [
           13
          ],
          [
           8
          ],
          [
           11
          ],
          [
           16
          ],
          [
           5
          ],
          [
           4
          ],
          [
           18
          ],
          [
           6
          ],
          [
           3
          ],
          [
           17
          ],
          [
           1
          ],
          [
           2
          ],
          [
           19
          ],
          [
           15
          ],
          [
           20
          ],
          [
           12
          ]
         ],
         "hovertemplate": "event_name=%{x}<br>difficulty=%{y}<br>opponent_team_id=%{customdata[0]}<extra></extra>",
         "legendgroup": "",
         "line": {
          "color": "#636efa",
          "dash": "solid"
         },
         "mode": "lines",
         "name": "",
         "orientation": "v",
         "showlegend": false,
         "type": "scatter",
         "x": [
          "Gameweek 7",
          "Gameweek 8",
          "Gameweek 9",
          "Gameweek 10",
          "Gameweek 11",
          "Gameweek 12",
          "Gameweek 13",
          "Gameweek 14",
          "Gameweek 15",
          "Gameweek 16",
          "Gameweek 17",
          "Gameweek 18",
          "Gameweek 19",
          "Gameweek 20",
          "Gameweek 21",
          "Gameweek 22",
          "Gameweek 23",
          "Gameweek 24",
          "Gameweek 25",
          "Gameweek 26",
          "Gameweek 27",
          "Gameweek 28",
          "Gameweek 29",
          "Gameweek 30",
          "Gameweek 31",
          "Gameweek 32",
          "Gameweek 33",
          "Gameweek 34",
          "Gameweek 35",
          "Gameweek 36",
          "Gameweek 37",
          "Gameweek 38"
         ],
         "xaxis": "x",
         "y": [
          3,
          4,
          2,
          2,
          2,
          4,
          4,
          4,
          3,
          4,
          3,
          3,
          3,
          3,
          2,
          3,
          4,
          2,
          5,
          2,
          4,
          2,
          2,
          2,
          3,
          4,
          4,
          3,
          3,
          3,
          3,
          5
         ],
         "yaxis": "y"
        }
       ],
       "layout": {
        "legend": {
         "tracegroupgap": 0
        },
        "template": {
         "data": {
          "bar": [
           {
            "error_x": {
             "color": "#2a3f5f"
            },
            "error_y": {
             "color": "#2a3f5f"
            },
            "marker": {
             "line": {
              "color": "#E5ECF6",
              "width": 0.5
             }
            },
            "type": "bar"
           }
          ],
          "barpolar": [
           {
            "marker": {
             "line": {
              "color": "#E5ECF6",
              "width": 0.5
             }
            },
            "type": "barpolar"
           }
          ],
          "carpet": [
           {
            "aaxis": {
             "endlinecolor": "#2a3f5f",
             "gridcolor": "white",
             "linecolor": "white",
             "minorgridcolor": "white",
             "startlinecolor": "#2a3f5f"
            },
            "baxis": {
             "endlinecolor": "#2a3f5f",
             "gridcolor": "white",
             "linecolor": "white",
             "minorgridcolor": "white",
             "startlinecolor": "#2a3f5f"
            },
            "type": "carpet"
           }
          ],
          "choropleth": [
           {
            "colorbar": {
             "outlinewidth": 0,
             "ticks": ""
            },
            "type": "choropleth"
           }
          ],
          "contour": [
           {
            "colorbar": {
             "outlinewidth": 0,
             "ticks": ""
            },
            "colorscale": [
             [
              0,
              "#0d0887"
             ],
             [
              0.1111111111111111,
              "#46039f"
             ],
             [
              0.2222222222222222,
              "#7201a8"
             ],
             [
              0.3333333333333333,
              "#9c179e"
             ],
             [
              0.4444444444444444,
              "#bd3786"
             ],
             [
              0.5555555555555556,
              "#d8576b"
             ],
             [
              0.6666666666666666,
              "#ed7953"
             ],
             [
              0.7777777777777778,
              "#fb9f3a"
             ],
             [
              0.8888888888888888,
              "#fdca26"
             ],
             [
              1,
              "#f0f921"
             ]
            ],
            "type": "contour"
           }
          ],
          "contourcarpet": [
           {
            "colorbar": {
             "outlinewidth": 0,
             "ticks": ""
            },
            "type": "contourcarpet"
           }
          ],
          "heatmap": [
           {
            "colorbar": {
             "outlinewidth": 0,
             "ticks": ""
            },
            "colorscale": [
             [
              0,
              "#0d0887"
             ],
             [
              0.1111111111111111,
              "#46039f"
             ],
             [
              0.2222222222222222,
              "#7201a8"
             ],
             [
              0.3333333333333333,
              "#9c179e"
             ],
             [
              0.4444444444444444,
              "#bd3786"
             ],
             [
              0.5555555555555556,
              "#d8576b"
             ],
             [
              0.6666666666666666,
              "#ed7953"
             ],
             [
              0.7777777777777778,
              "#fb9f3a"
             ],
             [
              0.8888888888888888,
              "#fdca26"
             ],
             [
              1,
              "#f0f921"
             ]
            ],
            "type": "heatmap"
           }
          ],
          "heatmapgl": [
           {
            "colorbar": {
             "outlinewidth": 0,
             "ticks": ""
            },
            "colorscale": [
             [
              0,
              "#0d0887"
             ],
             [
              0.1111111111111111,
              "#46039f"
             ],
             [
              0.2222222222222222,
              "#7201a8"
             ],
             [
              0.3333333333333333,
              "#9c179e"
             ],
             [
              0.4444444444444444,
              "#bd3786"
             ],
             [
              0.5555555555555556,
              "#d8576b"
             ],
             [
              0.6666666666666666,
              "#ed7953"
             ],
             [
              0.7777777777777778,
              "#fb9f3a"
             ],
             [
              0.8888888888888888,
              "#fdca26"
             ],
             [
              1,
              "#f0f921"
             ]
            ],
            "type": "heatmapgl"
           }
          ],
          "histogram": [
           {
            "marker": {
             "colorbar": {
              "outlinewidth": 0,
              "ticks": ""
             }
            },
            "type": "histogram"
           }
          ],
          "histogram2d": [
           {
            "colorbar": {
             "outlinewidth": 0,
             "ticks": ""
            },
            "colorscale": [
             [
              0,
              "#0d0887"
             ],
             [
              0.1111111111111111,
              "#46039f"
             ],
             [
              0.2222222222222222,
              "#7201a8"
             ],
             [
              0.3333333333333333,
              "#9c179e"
             ],
             [
              0.4444444444444444,
              "#bd3786"
             ],
             [
              0.5555555555555556,
              "#d8576b"
             ],
             [
              0.6666666666666666,
              "#ed7953"
             ],
             [
              0.7777777777777778,
              "#fb9f3a"
             ],
             [
              0.8888888888888888,
              "#fdca26"
             ],
             [
              1,
              "#f0f921"
             ]
            ],
            "type": "histogram2d"
           }
          ],
          "histogram2dcontour": [
           {
            "colorbar": {
             "outlinewidth": 0,
             "ticks": ""
            },
            "colorscale": [
             [
              0,
              "#0d0887"
             ],
             [
              0.1111111111111111,
              "#46039f"
             ],
             [
              0.2222222222222222,
              "#7201a8"
             ],
             [
              0.3333333333333333,
              "#9c179e"
             ],
             [
              0.4444444444444444,
              "#bd3786"
             ],
             [
              0.5555555555555556,
              "#d8576b"
             ],
             [
              0.6666666666666666,
              "#ed7953"
             ],
             [
              0.7777777777777778,
              "#fb9f3a"
             ],
             [
              0.8888888888888888,
              "#fdca26"
             ],
             [
              1,
              "#f0f921"
             ]
            ],
            "type": "histogram2dcontour"
           }
          ],
          "mesh3d": [
           {
            "colorbar": {
             "outlinewidth": 0,
             "ticks": ""
            },
            "type": "mesh3d"
           }
          ],
          "parcoords": [
           {
            "line": {
             "colorbar": {
              "outlinewidth": 0,
              "ticks": ""
             }
            },
            "type": "parcoords"
           }
          ],
          "pie": [
           {
            "automargin": true,
            "type": "pie"
           }
          ],
          "scatter": [
           {
            "marker": {
             "colorbar": {
              "outlinewidth": 0,
              "ticks": ""
             }
            },
            "type": "scatter"
           }
          ],
          "scatter3d": [
           {
            "line": {
             "colorbar": {
              "outlinewidth": 0,
              "ticks": ""
             }
            },
            "marker": {
             "colorbar": {
              "outlinewidth": 0,
              "ticks": ""
             }
            },
            "type": "scatter3d"
           }
          ],
          "scattercarpet": [
           {
            "marker": {
             "colorbar": {
              "outlinewidth": 0,
              "ticks": ""
             }
            },
            "type": "scattercarpet"
           }
          ],
          "scattergeo": [
           {
            "marker": {
             "colorbar": {
              "outlinewidth": 0,
              "ticks": ""
             }
            },
            "type": "scattergeo"
           }
          ],
          "scattergl": [
           {
            "marker": {
             "colorbar": {
              "outlinewidth": 0,
              "ticks": ""
             }
            },
            "type": "scattergl"
           }
          ],
          "scattermapbox": [
           {
            "marker": {
             "colorbar": {
              "outlinewidth": 0,
              "ticks": ""
             }
            },
            "type": "scattermapbox"
           }
          ],
          "scatterpolar": [
           {
            "marker": {
             "colorbar": {
              "outlinewidth": 0,
              "ticks": ""
             }
            },
            "type": "scatterpolar"
           }
          ],
          "scatterpolargl": [
           {
            "marker": {
             "colorbar": {
              "outlinewidth": 0,
              "ticks": ""
             }
            },
            "type": "scatterpolargl"
           }
          ],
          "scatterternary": [
           {
            "marker": {
             "colorbar": {
              "outlinewidth": 0,
              "ticks": ""
             }
            },
            "type": "scatterternary"
           }
          ],
          "surface": [
           {
            "colorbar": {
             "outlinewidth": 0,
             "ticks": ""
            },
            "colorscale": [
             [
              0,
              "#0d0887"
             ],
             [
              0.1111111111111111,
              "#46039f"
             ],
             [
              0.2222222222222222,
              "#7201a8"
             ],
             [
              0.3333333333333333,
              "#9c179e"
             ],
             [
              0.4444444444444444,
              "#bd3786"
             ],
             [
              0.5555555555555556,
              "#d8576b"
             ],
             [
              0.6666666666666666,
              "#ed7953"
             ],
             [
              0.7777777777777778,
              "#fb9f3a"
             ],
             [
              0.8888888888888888,
              "#fdca26"
             ],
             [
              1,
              "#f0f921"
             ]
            ],
            "type": "surface"
           }
          ],
          "table": [
           {
            "cells": {
             "fill": {
              "color": "#EBF0F8"
             },
             "line": {
              "color": "white"
             }
            },
            "header": {
             "fill": {
              "color": "#C8D4E3"
             },
             "line": {
              "color": "white"
             }
            },
            "type": "table"
           }
          ]
         },
         "layout": {
          "annotationdefaults": {
           "arrowcolor": "#2a3f5f",
           "arrowhead": 0,
           "arrowwidth": 1
          },
          "coloraxis": {
           "colorbar": {
            "outlinewidth": 0,
            "ticks": ""
           }
          },
          "colorscale": {
           "diverging": [
            [
             0,
             "#8e0152"
            ],
            [
             0.1,
             "#c51b7d"
            ],
            [
             0.2,
             "#de77ae"
            ],
            [
             0.3,
             "#f1b6da"
            ],
            [
             0.4,
             "#fde0ef"
            ],
            [
             0.5,
             "#f7f7f7"
            ],
            [
             0.6,
             "#e6f5d0"
            ],
            [
             0.7,
             "#b8e186"
            ],
            [
             0.8,
             "#7fbc41"
            ],
            [
             0.9,
             "#4d9221"
            ],
            [
             1,
             "#276419"
            ]
           ],
           "sequential": [
            [
             0,
             "#0d0887"
            ],
            [
             0.1111111111111111,
             "#46039f"
            ],
            [
             0.2222222222222222,
             "#7201a8"
            ],
            [
             0.3333333333333333,
             "#9c179e"
            ],
            [
             0.4444444444444444,
             "#bd3786"
            ],
            [
             0.5555555555555556,
             "#d8576b"
            ],
            [
             0.6666666666666666,
             "#ed7953"
            ],
            [
             0.7777777777777778,
             "#fb9f3a"
            ],
            [
             0.8888888888888888,
             "#fdca26"
            ],
            [
             1,
             "#f0f921"
            ]
           ],
           "sequentialminus": [
            [
             0,
             "#0d0887"
            ],
            [
             0.1111111111111111,
             "#46039f"
            ],
            [
             0.2222222222222222,
             "#7201a8"
            ],
            [
             0.3333333333333333,
             "#9c179e"
            ],
            [
             0.4444444444444444,
             "#bd3786"
            ],
            [
             0.5555555555555556,
             "#d8576b"
            ],
            [
             0.6666666666666666,
             "#ed7953"
            ],
            [
             0.7777777777777778,
             "#fb9f3a"
            ],
            [
             0.8888888888888888,
             "#fdca26"
            ],
            [
             1,
             "#f0f921"
            ]
           ]
          },
          "colorway": [
           "#636efa",
           "#EF553B",
           "#00cc96",
           "#ab63fa",
           "#FFA15A",
           "#19d3f3",
           "#FF6692",
           "#B6E880",
           "#FF97FF",
           "#FECB52"
          ],
          "font": {
           "color": "#2a3f5f"
          },
          "geo": {
           "bgcolor": "white",
           "lakecolor": "white",
           "landcolor": "#E5ECF6",
           "showlakes": true,
           "showland": true,
           "subunitcolor": "white"
          },
          "hoverlabel": {
           "align": "left"
          },
          "hovermode": "closest",
          "mapbox": {
           "style": "light"
          },
          "paper_bgcolor": "white",
          "plot_bgcolor": "#E5ECF6",
          "polar": {
           "angularaxis": {
            "gridcolor": "white",
            "linecolor": "white",
            "ticks": ""
           },
           "bgcolor": "#E5ECF6",
           "radialaxis": {
            "gridcolor": "white",
            "linecolor": "white",
            "ticks": ""
           }
          },
          "scene": {
           "xaxis": {
            "backgroundcolor": "#E5ECF6",
            "gridcolor": "white",
            "gridwidth": 2,
            "linecolor": "white",
            "showbackground": true,
            "ticks": "",
            "zerolinecolor": "white"
           },
           "yaxis": {
            "backgroundcolor": "#E5ECF6",
            "gridcolor": "white",
            "gridwidth": 2,
            "linecolor": "white",
            "showbackground": true,
            "ticks": "",
            "zerolinecolor": "white"
           },
           "zaxis": {
            "backgroundcolor": "#E5ECF6",
            "gridcolor": "white",
            "gridwidth": 2,
            "linecolor": "white",
            "showbackground": true,
            "ticks": "",
            "zerolinecolor": "white"
           }
          },
          "shapedefaults": {
           "line": {
            "color": "#2a3f5f"
           }
          },
          "ternary": {
           "aaxis": {
            "gridcolor": "white",
            "linecolor": "white",
            "ticks": ""
           },
           "baxis": {
            "gridcolor": "white",
            "linecolor": "white",
            "ticks": ""
           },
           "bgcolor": "#E5ECF6",
           "caxis": {
            "gridcolor": "white",
            "linecolor": "white",
            "ticks": ""
           }
          },
          "title": {
           "x": 0.05
          },
          "xaxis": {
           "automargin": true,
           "gridcolor": "white",
           "linecolor": "white",
           "ticks": "",
           "title": {
            "standoff": 15
           },
           "zerolinecolor": "white",
           "zerolinewidth": 2
          },
          "yaxis": {
           "automargin": true,
           "gridcolor": "white",
           "linecolor": "white",
           "ticks": "",
           "title": {
            "standoff": 15
           },
           "zerolinecolor": "white",
           "zerolinewidth": 2
          }
         }
        },
        "title": {
         "text": "Sigurdsson"
        },
        "xaxis": {
         "anchor": "y",
         "domain": [
          0,
          1
         ],
         "title": {
          "text": "event_name"
         }
        },
        "yaxis": {
         "anchor": "x",
         "domain": [
          0,
          1
         ],
         "title": {
          "text": "difficulty"
         }
        }
       }
      }
     },
     "metadata": {}
    }
   ],
   "source": [
    "player_future(150)"
   ]
  },
  {
   "cell_type": "code",
   "execution_count": 27,
   "metadata": {},
   "outputs": [
    {
     "output_type": "execute_result",
     "data": {
      "text/plain": [
       "0        4\n",
       "1        3\n",
       "2        3\n",
       "3        3\n",
       "4        4\n",
       "        ..\n",
       "18972    4\n",
       "18973    2\n",
       "18974    2\n",
       "18975    2\n",
       "18976    2\n",
       "Name: difficulty, Length: 18977, dtype: int64"
      ]
     },
     "metadata": {},
     "execution_count": 27
    }
   ],
   "source": [
    "    opponent_strength = player_future_fixture['difficulty']\n",
    "    opponent_strength\n",
    "    #opponent_strength = player_analysis.iloc[:,2]"
   ]
  },
  {
   "cell_type": "code",
   "execution_count": 28,
   "metadata": {},
   "outputs": [],
   "source": [
    "def get_SMA(player_id , count):\n",
    "    data = player_future_fixture[player_future_fixture.player_id == player_id]\n",
    "    opponent_strength = data['difficulty']\n",
    "    # List to store moving average results\n",
    "    SMA2 = list(range(0, len(opponent_strength) - count))\n",
    "\n",
    "    # Compute moving average\n",
    "    for ii in range(len(SMA2)):\n",
    "        # Previous gw index\n",
    "        index = range(ii, ii + count)\n",
    "        # Get data for previous gw\n",
    "        prev_gw2 = opponent_strength.iloc[index]\n",
    "\n",
    "        # Sum previous gw\n",
    "        summation2 = np.sum(prev_gw2)\n",
    "\n",
    "        # Get average\n",
    "        avg2 = summation2/count\n",
    "        # Save results to list\n",
    "        SMA2[ii] = avg2\n",
    "         \n",
    "    # Define column label\n",
    "    label2 = f\"Opponent strength SMA\"\n",
    "\n",
    "    \n",
    "    # Get corresponding gw for moving_avg\n",
    "    gameweeks2 = opponent_strength.index[:-count]\n",
    "    gameweek = data.event_name[:-count]\n",
    "    \n",
    "    # Convert list into Pandas Series\n",
    "    SMA2 = pd.Series(SMA2, name = label2, index = gameweek)\n",
    "    \n",
    "    \n",
    "    return SMA2"
   ]
  },
  {
   "cell_type": "code",
   "execution_count": 29,
   "metadata": {},
   "outputs": [],
   "source": [
    "def player_future_avg(player_id , no_games):\n",
    "    data = get_SMA(player_id , no_games)\n",
    "\n",
    "    player = all_players[all_players.player_id == player_id]\n",
    "\n",
    "    player_name = player.iloc[0]['web_name']\n",
    "    title = \"Average difficulty next \" + str(no_games) + \" games for \" + str(player_name)\n",
    "\n",
    "    fig = px.line(\n",
    "        data, \n",
    "        title = title)\n",
    "\n",
    "    fig.show()"
   ]
  },
  {
   "cell_type": "code",
   "execution_count": 30,
   "metadata": {},
   "outputs": [
    {
     "output_type": "display_data",
     "data": {
      "application/vnd.plotly.v1+json": {
       "config": {
        "plotlyServerURL": "https://plot.ly"
       },
       "data": [
        {
         "hovertemplate": "variable=Opponent strength SMA<br>event_name=%{x}<br>value=%{y}<extra></extra>",
         "legendgroup": "Opponent strength SMA",
         "line": {
          "color": "#636efa",
          "dash": "solid"
         },
         "mode": "lines",
         "name": "Opponent strength SMA",
         "orientation": "v",
         "showlegend": true,
         "type": "scatter",
         "x": [
          "Gameweek 7",
          "Gameweek 8",
          "Gameweek 9",
          "Gameweek 10",
          "Gameweek 11",
          "Gameweek 12",
          "Gameweek 13",
          "Gameweek 14",
          "Gameweek 15",
          "Gameweek 16",
          "Gameweek 17",
          "Gameweek 18",
          "Gameweek 19",
          "Gameweek 20",
          "Gameweek 21",
          "Gameweek 22",
          "Gameweek 23",
          "Gameweek 24",
          "Gameweek 25",
          "Gameweek 26",
          "Gameweek 27",
          "Gameweek 28",
          "Gameweek 29",
          "Gameweek 30",
          "Gameweek 31",
          "Gameweek 32"
         ],
         "xaxis": "x",
         "y": [
          3.3333333333333335,
          3.1666666666666665,
          3.3333333333333335,
          3,
          2.8333333333333335,
          2.8333333333333335,
          2.6666666666666665,
          2.6666666666666665,
          2.5,
          2.8333333333333335,
          3,
          2.6666666666666665,
          3,
          3.1666666666666665,
          3.1666666666666665,
          3,
          3.1666666666666665,
          3.1666666666666665,
          3,
          3.3333333333333335,
          3.5,
          3.6666666666666665,
          3.5,
          3.8333333333333335,
          3.6666666666666665,
          3.3333333333333335
         ],
         "yaxis": "y"
        }
       ],
       "layout": {
        "legend": {
         "title": {
          "text": "variable"
         },
         "tracegroupgap": 0
        },
        "template": {
         "data": {
          "bar": [
           {
            "error_x": {
             "color": "#2a3f5f"
            },
            "error_y": {
             "color": "#2a3f5f"
            },
            "marker": {
             "line": {
              "color": "#E5ECF6",
              "width": 0.5
             }
            },
            "type": "bar"
           }
          ],
          "barpolar": [
           {
            "marker": {
             "line": {
              "color": "#E5ECF6",
              "width": 0.5
             }
            },
            "type": "barpolar"
           }
          ],
          "carpet": [
           {
            "aaxis": {
             "endlinecolor": "#2a3f5f",
             "gridcolor": "white",
             "linecolor": "white",
             "minorgridcolor": "white",
             "startlinecolor": "#2a3f5f"
            },
            "baxis": {
             "endlinecolor": "#2a3f5f",
             "gridcolor": "white",
             "linecolor": "white",
             "minorgridcolor": "white",
             "startlinecolor": "#2a3f5f"
            },
            "type": "carpet"
           }
          ],
          "choropleth": [
           {
            "colorbar": {
             "outlinewidth": 0,
             "ticks": ""
            },
            "type": "choropleth"
           }
          ],
          "contour": [
           {
            "colorbar": {
             "outlinewidth": 0,
             "ticks": ""
            },
            "colorscale": [
             [
              0,
              "#0d0887"
             ],
             [
              0.1111111111111111,
              "#46039f"
             ],
             [
              0.2222222222222222,
              "#7201a8"
             ],
             [
              0.3333333333333333,
              "#9c179e"
             ],
             [
              0.4444444444444444,
              "#bd3786"
             ],
             [
              0.5555555555555556,
              "#d8576b"
             ],
             [
              0.6666666666666666,
              "#ed7953"
             ],
             [
              0.7777777777777778,
              "#fb9f3a"
             ],
             [
              0.8888888888888888,
              "#fdca26"
             ],
             [
              1,
              "#f0f921"
             ]
            ],
            "type": "contour"
           }
          ],
          "contourcarpet": [
           {
            "colorbar": {
             "outlinewidth": 0,
             "ticks": ""
            },
            "type": "contourcarpet"
           }
          ],
          "heatmap": [
           {
            "colorbar": {
             "outlinewidth": 0,
             "ticks": ""
            },
            "colorscale": [
             [
              0,
              "#0d0887"
             ],
             [
              0.1111111111111111,
              "#46039f"
             ],
             [
              0.2222222222222222,
              "#7201a8"
             ],
             [
              0.3333333333333333,
              "#9c179e"
             ],
             [
              0.4444444444444444,
              "#bd3786"
             ],
             [
              0.5555555555555556,
              "#d8576b"
             ],
             [
              0.6666666666666666,
              "#ed7953"
             ],
             [
              0.7777777777777778,
              "#fb9f3a"
             ],
             [
              0.8888888888888888,
              "#fdca26"
             ],
             [
              1,
              "#f0f921"
             ]
            ],
            "type": "heatmap"
           }
          ],
          "heatmapgl": [
           {
            "colorbar": {
             "outlinewidth": 0,
             "ticks": ""
            },
            "colorscale": [
             [
              0,
              "#0d0887"
             ],
             [
              0.1111111111111111,
              "#46039f"
             ],
             [
              0.2222222222222222,
              "#7201a8"
             ],
             [
              0.3333333333333333,
              "#9c179e"
             ],
             [
              0.4444444444444444,
              "#bd3786"
             ],
             [
              0.5555555555555556,
              "#d8576b"
             ],
             [
              0.6666666666666666,
              "#ed7953"
             ],
             [
              0.7777777777777778,
              "#fb9f3a"
             ],
             [
              0.8888888888888888,
              "#fdca26"
             ],
             [
              1,
              "#f0f921"
             ]
            ],
            "type": "heatmapgl"
           }
          ],
          "histogram": [
           {
            "marker": {
             "colorbar": {
              "outlinewidth": 0,
              "ticks": ""
             }
            },
            "type": "histogram"
           }
          ],
          "histogram2d": [
           {
            "colorbar": {
             "outlinewidth": 0,
             "ticks": ""
            },
            "colorscale": [
             [
              0,
              "#0d0887"
             ],
             [
              0.1111111111111111,
              "#46039f"
             ],
             [
              0.2222222222222222,
              "#7201a8"
             ],
             [
              0.3333333333333333,
              "#9c179e"
             ],
             [
              0.4444444444444444,
              "#bd3786"
             ],
             [
              0.5555555555555556,
              "#d8576b"
             ],
             [
              0.6666666666666666,
              "#ed7953"
             ],
             [
              0.7777777777777778,
              "#fb9f3a"
             ],
             [
              0.8888888888888888,
              "#fdca26"
             ],
             [
              1,
              "#f0f921"
             ]
            ],
            "type": "histogram2d"
           }
          ],
          "histogram2dcontour": [
           {
            "colorbar": {
             "outlinewidth": 0,
             "ticks": ""
            },
            "colorscale": [
             [
              0,
              "#0d0887"
             ],
             [
              0.1111111111111111,
              "#46039f"
             ],
             [
              0.2222222222222222,
              "#7201a8"
             ],
             [
              0.3333333333333333,
              "#9c179e"
             ],
             [
              0.4444444444444444,
              "#bd3786"
             ],
             [
              0.5555555555555556,
              "#d8576b"
             ],
             [
              0.6666666666666666,
              "#ed7953"
             ],
             [
              0.7777777777777778,
              "#fb9f3a"
             ],
             [
              0.8888888888888888,
              "#fdca26"
             ],
             [
              1,
              "#f0f921"
             ]
            ],
            "type": "histogram2dcontour"
           }
          ],
          "mesh3d": [
           {
            "colorbar": {
             "outlinewidth": 0,
             "ticks": ""
            },
            "type": "mesh3d"
           }
          ],
          "parcoords": [
           {
            "line": {
             "colorbar": {
              "outlinewidth": 0,
              "ticks": ""
             }
            },
            "type": "parcoords"
           }
          ],
          "pie": [
           {
            "automargin": true,
            "type": "pie"
           }
          ],
          "scatter": [
           {
            "marker": {
             "colorbar": {
              "outlinewidth": 0,
              "ticks": ""
             }
            },
            "type": "scatter"
           }
          ],
          "scatter3d": [
           {
            "line": {
             "colorbar": {
              "outlinewidth": 0,
              "ticks": ""
             }
            },
            "marker": {
             "colorbar": {
              "outlinewidth": 0,
              "ticks": ""
             }
            },
            "type": "scatter3d"
           }
          ],
          "scattercarpet": [
           {
            "marker": {
             "colorbar": {
              "outlinewidth": 0,
              "ticks": ""
             }
            },
            "type": "scattercarpet"
           }
          ],
          "scattergeo": [
           {
            "marker": {
             "colorbar": {
              "outlinewidth": 0,
              "ticks": ""
             }
            },
            "type": "scattergeo"
           }
          ],
          "scattergl": [
           {
            "marker": {
             "colorbar": {
              "outlinewidth": 0,
              "ticks": ""
             }
            },
            "type": "scattergl"
           }
          ],
          "scattermapbox": [
           {
            "marker": {
             "colorbar": {
              "outlinewidth": 0,
              "ticks": ""
             }
            },
            "type": "scattermapbox"
           }
          ],
          "scatterpolar": [
           {
            "marker": {
             "colorbar": {
              "outlinewidth": 0,
              "ticks": ""
             }
            },
            "type": "scatterpolar"
           }
          ],
          "scatterpolargl": [
           {
            "marker": {
             "colorbar": {
              "outlinewidth": 0,
              "ticks": ""
             }
            },
            "type": "scatterpolargl"
           }
          ],
          "scatterternary": [
           {
            "marker": {
             "colorbar": {
              "outlinewidth": 0,
              "ticks": ""
             }
            },
            "type": "scatterternary"
           }
          ],
          "surface": [
           {
            "colorbar": {
             "outlinewidth": 0,
             "ticks": ""
            },
            "colorscale": [
             [
              0,
              "#0d0887"
             ],
             [
              0.1111111111111111,
              "#46039f"
             ],
             [
              0.2222222222222222,
              "#7201a8"
             ],
             [
              0.3333333333333333,
              "#9c179e"
             ],
             [
              0.4444444444444444,
              "#bd3786"
             ],
             [
              0.5555555555555556,
              "#d8576b"
             ],
             [
              0.6666666666666666,
              "#ed7953"
             ],
             [
              0.7777777777777778,
              "#fb9f3a"
             ],
             [
              0.8888888888888888,
              "#fdca26"
             ],
             [
              1,
              "#f0f921"
             ]
            ],
            "type": "surface"
           }
          ],
          "table": [
           {
            "cells": {
             "fill": {
              "color": "#EBF0F8"
             },
             "line": {
              "color": "white"
             }
            },
            "header": {
             "fill": {
              "color": "#C8D4E3"
             },
             "line": {
              "color": "white"
             }
            },
            "type": "table"
           }
          ]
         },
         "layout": {
          "annotationdefaults": {
           "arrowcolor": "#2a3f5f",
           "arrowhead": 0,
           "arrowwidth": 1
          },
          "coloraxis": {
           "colorbar": {
            "outlinewidth": 0,
            "ticks": ""
           }
          },
          "colorscale": {
           "diverging": [
            [
             0,
             "#8e0152"
            ],
            [
             0.1,
             "#c51b7d"
            ],
            [
             0.2,
             "#de77ae"
            ],
            [
             0.3,
             "#f1b6da"
            ],
            [
             0.4,
             "#fde0ef"
            ],
            [
             0.5,
             "#f7f7f7"
            ],
            [
             0.6,
             "#e6f5d0"
            ],
            [
             0.7,
             "#b8e186"
            ],
            [
             0.8,
             "#7fbc41"
            ],
            [
             0.9,
             "#4d9221"
            ],
            [
             1,
             "#276419"
            ]
           ],
           "sequential": [
            [
             0,
             "#0d0887"
            ],
            [
             0.1111111111111111,
             "#46039f"
            ],
            [
             0.2222222222222222,
             "#7201a8"
            ],
            [
             0.3333333333333333,
             "#9c179e"
            ],
            [
             0.4444444444444444,
             "#bd3786"
            ],
            [
             0.5555555555555556,
             "#d8576b"
            ],
            [
             0.6666666666666666,
             "#ed7953"
            ],
            [
             0.7777777777777778,
             "#fb9f3a"
            ],
            [
             0.8888888888888888,
             "#fdca26"
            ],
            [
             1,
             "#f0f921"
            ]
           ],
           "sequentialminus": [
            [
             0,
             "#0d0887"
            ],
            [
             0.1111111111111111,
             "#46039f"
            ],
            [
             0.2222222222222222,
             "#7201a8"
            ],
            [
             0.3333333333333333,
             "#9c179e"
            ],
            [
             0.4444444444444444,
             "#bd3786"
            ],
            [
             0.5555555555555556,
             "#d8576b"
            ],
            [
             0.6666666666666666,
             "#ed7953"
            ],
            [
             0.7777777777777778,
             "#fb9f3a"
            ],
            [
             0.8888888888888888,
             "#fdca26"
            ],
            [
             1,
             "#f0f921"
            ]
           ]
          },
          "colorway": [
           "#636efa",
           "#EF553B",
           "#00cc96",
           "#ab63fa",
           "#FFA15A",
           "#19d3f3",
           "#FF6692",
           "#B6E880",
           "#FF97FF",
           "#FECB52"
          ],
          "font": {
           "color": "#2a3f5f"
          },
          "geo": {
           "bgcolor": "white",
           "lakecolor": "white",
           "landcolor": "#E5ECF6",
           "showlakes": true,
           "showland": true,
           "subunitcolor": "white"
          },
          "hoverlabel": {
           "align": "left"
          },
          "hovermode": "closest",
          "mapbox": {
           "style": "light"
          },
          "paper_bgcolor": "white",
          "plot_bgcolor": "#E5ECF6",
          "polar": {
           "angularaxis": {
            "gridcolor": "white",
            "linecolor": "white",
            "ticks": ""
           },
           "bgcolor": "#E5ECF6",
           "radialaxis": {
            "gridcolor": "white",
            "linecolor": "white",
            "ticks": ""
           }
          },
          "scene": {
           "xaxis": {
            "backgroundcolor": "#E5ECF6",
            "gridcolor": "white",
            "gridwidth": 2,
            "linecolor": "white",
            "showbackground": true,
            "ticks": "",
            "zerolinecolor": "white"
           },
           "yaxis": {
            "backgroundcolor": "#E5ECF6",
            "gridcolor": "white",
            "gridwidth": 2,
            "linecolor": "white",
            "showbackground": true,
            "ticks": "",
            "zerolinecolor": "white"
           },
           "zaxis": {
            "backgroundcolor": "#E5ECF6",
            "gridcolor": "white",
            "gridwidth": 2,
            "linecolor": "white",
            "showbackground": true,
            "ticks": "",
            "zerolinecolor": "white"
           }
          },
          "shapedefaults": {
           "line": {
            "color": "#2a3f5f"
           }
          },
          "ternary": {
           "aaxis": {
            "gridcolor": "white",
            "linecolor": "white",
            "ticks": ""
           },
           "baxis": {
            "gridcolor": "white",
            "linecolor": "white",
            "ticks": ""
           },
           "bgcolor": "#E5ECF6",
           "caxis": {
            "gridcolor": "white",
            "linecolor": "white",
            "ticks": ""
           }
          },
          "title": {
           "x": 0.05
          },
          "xaxis": {
           "automargin": true,
           "gridcolor": "white",
           "linecolor": "white",
           "ticks": "",
           "title": {
            "standoff": 15
           },
           "zerolinecolor": "white",
           "zerolinewidth": 2
          },
          "yaxis": {
           "automargin": true,
           "gridcolor": "white",
           "linecolor": "white",
           "ticks": "",
           "title": {
            "standoff": 15
           },
           "zerolinecolor": "white",
           "zerolinewidth": 2
          }
         }
        },
        "title": {
         "text": "Average difficulty next 6 games for Dallas"
        },
        "xaxis": {
         "anchor": "y",
         "domain": [
          0,
          1
         ],
         "title": {
          "text": "event_name"
         }
        },
        "yaxis": {
         "anchor": "x",
         "domain": [
          0,
          1
         ],
         "title": {
          "text": "value"
         }
        }
       }
      }
     },
     "metadata": {}
    }
   ],
   "source": [
    "player_future_avg(200 , 6)"
   ]
  },
  {
   "cell_type": "code",
   "execution_count": 31,
   "metadata": {},
   "outputs": [
    {
     "output_type": "execute_result",
     "data": {
      "text/plain": [
       "event_name\n",
       "Gameweek 7     2.75\n",
       "Gameweek 8     2.50\n",
       "Gameweek 9     2.50\n",
       "Gameweek 10    3.00\n",
       "Gameweek 11    3.50\n",
       "Gameweek 12    3.75\n",
       "Gameweek 13    3.75\n",
       "Gameweek 14    3.50\n",
       "Gameweek 15    3.25\n",
       "Gameweek 16    3.25\n",
       "Gameweek 17    3.00\n",
       "Gameweek 18    2.75\n",
       "Gameweek 19    2.75\n",
       "Gameweek 20    3.00\n",
       "Gameweek 21    2.75\n",
       "Gameweek 22    3.50\n",
       "Gameweek 23    3.25\n",
       "Gameweek 24    3.25\n",
       "Gameweek 25    3.25\n",
       "Gameweek 26    2.50\n",
       "Gameweek 27    2.50\n",
       "Gameweek 28    2.25\n",
       "Gameweek 29    2.75\n",
       "Gameweek 30    3.25\n",
       "Gameweek 31    3.50\n",
       "Gameweek 32    3.50\n",
       "Gameweek 33    3.25\n",
       "Gameweek 34    3.00\n",
       "Name: Opponent strength SMA, dtype: float64"
      ]
     },
     "metadata": {},
     "execution_count": 31
    }
   ],
   "source": [
    "result = get_SMA(150,4)\n",
    "result"
   ]
  },
  {
   "cell_type": "markdown",
   "metadata": {},
   "source": [
    "## FANTASY PLAYER VALUE"
   ]
  },
  {
   "cell_type": "code",
   "execution_count": 32,
   "metadata": {},
   "outputs": [
    {
     "output_type": "execute_result",
     "data": {
      "text/plain": [
       "Index(['chance_of_playing_next_round', 'chance_of_playing_this_round',\n",
       "       'player_code', 'cost_change_event', 'cost_change_event_fall',\n",
       "       'cost_change_start', 'cost_change_start_fall', 'dreamteam_count',\n",
       "       'player_type_id', 'ep_next', 'ep_this', 'event_points', 'form',\n",
       "       'player_id', 'in_dreamteam', 'news', 'news_added', 'now_cost', 'photo',\n",
       "       'PPG', 'selected_by_percent', 'status', 'team_id', 'team_code',\n",
       "       'total_points', 'transfers_in_event', 'transfers_out_event',\n",
       "       'value_form', 'value_season', 'web_name', 'total_minutes',\n",
       "       'goals_scored', 'assists', 'clean_sheets', 'goals_conceded',\n",
       "       'own_goals', 'penalties_saved', 'penalties_missed', 'yellow_cards',\n",
       "       'red_cards', 'saves', 'bonus', 'bps', 'influence', 'creativity',\n",
       "       'threat', 'ict_index', 'influence_rank', 'influence_rank_type',\n",
       "       'creativity_rank', 'creativity_rank_type', 'threat_rank',\n",
       "       'threat_rank_type', 'ict_index_rank', 'ict_index_rank_type',\n",
       "       'corners_and_indirect_freekicks_order',\n",
       "       'corners_and_indirect_freekicks_text', 'direct_freekicks_order',\n",
       "       'direct_freekicks_text', 'penalties_order', 'penalties_text', 'PP90',\n",
       "       'PPMM', 'VAPM', 'team_strength', 'team_short_name',\n",
       "       'strength_overall_home', 'strength_overall_away',\n",
       "       'position_name_short'],\n",
       "      dtype='object')"
      ]
     },
     "metadata": {},
     "execution_count": 32
    }
   ],
   "source": [
    "all_players.columns"
   ]
  },
  {
   "cell_type": "code",
   "execution_count": 33,
   "metadata": {},
   "outputs": [
    {
     "output_type": "execute_result",
     "data": {
      "text/plain": [
       "        web_name  now_cost status  player_type_id  total_points  \\\n",
       "446       Kilman        41      a               2            23   \n",
       "289     Chilwell        58      a               2            27   \n",
       "16     Hourihane        60      a               3            17   \n",
       "485      Bamford        59      a               4            49   \n",
       "528     Martínez        48      a               1            34   \n",
       "48      Jorginho        52      a               3            35   \n",
       "540        Mendy        50      a               1            13   \n",
       "411       Aurier        52      a               2            13   \n",
       "284        Zouma        51      a               2            32   \n",
       "360      Cancelo        54      a               2            13   \n",
       "62          Zaha        72      a               3            48   \n",
       "443        Saïss        52      a               2            38   \n",
       "192          Son        95      a               3            59   \n",
       "257        Konsa        47      a               2            29   \n",
       "18      Grealish        72      a               3            39   \n",
       "254        Mings        52      a               2            30   \n",
       "403  Vestergaard        45      a               2            27   \n",
       "510         Kane       109      a               4            61   \n",
       "499       Wilson        65      a               4            41   \n",
       "438       Coufal        45      a               2            16   \n",
       "\n",
       "     total_minutes       PP90   PPG      PPMM      VAPM  \n",
       "446            270   7.666667   7.7  1.878049  1.390244  \n",
       "289            270   9.000000   9.0  1.551724  1.206897  \n",
       "16             137  11.167883   8.5  1.416667  1.083333  \n",
       "485            490   9.000000   8.2  1.389831  1.050847  \n",
       "528            450   6.800000   6.8  1.416667  1.000000  \n",
       "48             432   7.291667   7.0  1.346154  0.961538  \n",
       "540            180   6.500000   6.5  1.300000  0.900000  \n",
       "411            180   6.500000   6.5  1.250000  0.865385  \n",
       "284            450   6.400000   6.4  1.254902  0.862745  \n",
       "360            180   6.500000   6.5  1.203704  0.833333  \n",
       "62             540   8.000000   8.0  1.111111  0.833333  \n",
       "443            517   6.615087   6.3  1.211538  0.826923  \n",
       "192            380  13.973684   9.8  1.031579  0.821053  \n",
       "257            450   5.800000   5.8  1.234043  0.808511  \n",
       "18             450   7.800000   7.8  1.083333  0.805556  \n",
       "254            450   6.000000   6.0  1.153846  0.769231  \n",
       "403            405   6.000000   5.4  1.200000  0.755556  \n",
       "510            447  12.281879  10.2  0.935780  0.752294  \n",
       "499            534   6.910112   6.8  1.046154  0.738462  \n",
       "438            270   5.333333   5.3  1.177778  0.733333  "
      ],
      "text/html": "<div>\n<style scoped>\n    .dataframe tbody tr th:only-of-type {\n        vertical-align: middle;\n    }\n\n    .dataframe tbody tr th {\n        vertical-align: top;\n    }\n\n    .dataframe thead th {\n        text-align: right;\n    }\n</style>\n<table border=\"1\" class=\"dataframe\">\n  <thead>\n    <tr style=\"text-align: right;\">\n      <th></th>\n      <th>web_name</th>\n      <th>now_cost</th>\n      <th>status</th>\n      <th>player_type_id</th>\n      <th>total_points</th>\n      <th>total_minutes</th>\n      <th>PP90</th>\n      <th>PPG</th>\n      <th>PPMM</th>\n      <th>VAPM</th>\n    </tr>\n  </thead>\n  <tbody>\n    <tr>\n      <th>446</th>\n      <td>Kilman</td>\n      <td>41</td>\n      <td>a</td>\n      <td>2</td>\n      <td>23</td>\n      <td>270</td>\n      <td>7.666667</td>\n      <td>7.7</td>\n      <td>1.878049</td>\n      <td>1.390244</td>\n    </tr>\n    <tr>\n      <th>289</th>\n      <td>Chilwell</td>\n      <td>58</td>\n      <td>a</td>\n      <td>2</td>\n      <td>27</td>\n      <td>270</td>\n      <td>9.000000</td>\n      <td>9.0</td>\n      <td>1.551724</td>\n      <td>1.206897</td>\n    </tr>\n    <tr>\n      <th>16</th>\n      <td>Hourihane</td>\n      <td>60</td>\n      <td>a</td>\n      <td>3</td>\n      <td>17</td>\n      <td>137</td>\n      <td>11.167883</td>\n      <td>8.5</td>\n      <td>1.416667</td>\n      <td>1.083333</td>\n    </tr>\n    <tr>\n      <th>485</th>\n      <td>Bamford</td>\n      <td>59</td>\n      <td>a</td>\n      <td>4</td>\n      <td>49</td>\n      <td>490</td>\n      <td>9.000000</td>\n      <td>8.2</td>\n      <td>1.389831</td>\n      <td>1.050847</td>\n    </tr>\n    <tr>\n      <th>528</th>\n      <td>Martínez</td>\n      <td>48</td>\n      <td>a</td>\n      <td>1</td>\n      <td>34</td>\n      <td>450</td>\n      <td>6.800000</td>\n      <td>6.8</td>\n      <td>1.416667</td>\n      <td>1.000000</td>\n    </tr>\n    <tr>\n      <th>48</th>\n      <td>Jorginho</td>\n      <td>52</td>\n      <td>a</td>\n      <td>3</td>\n      <td>35</td>\n      <td>432</td>\n      <td>7.291667</td>\n      <td>7.0</td>\n      <td>1.346154</td>\n      <td>0.961538</td>\n    </tr>\n    <tr>\n      <th>540</th>\n      <td>Mendy</td>\n      <td>50</td>\n      <td>a</td>\n      <td>1</td>\n      <td>13</td>\n      <td>180</td>\n      <td>6.500000</td>\n      <td>6.5</td>\n      <td>1.300000</td>\n      <td>0.900000</td>\n    </tr>\n    <tr>\n      <th>411</th>\n      <td>Aurier</td>\n      <td>52</td>\n      <td>a</td>\n      <td>2</td>\n      <td>13</td>\n      <td>180</td>\n      <td>6.500000</td>\n      <td>6.5</td>\n      <td>1.250000</td>\n      <td>0.865385</td>\n    </tr>\n    <tr>\n      <th>284</th>\n      <td>Zouma</td>\n      <td>51</td>\n      <td>a</td>\n      <td>2</td>\n      <td>32</td>\n      <td>450</td>\n      <td>6.400000</td>\n      <td>6.4</td>\n      <td>1.254902</td>\n      <td>0.862745</td>\n    </tr>\n    <tr>\n      <th>360</th>\n      <td>Cancelo</td>\n      <td>54</td>\n      <td>a</td>\n      <td>2</td>\n      <td>13</td>\n      <td>180</td>\n      <td>6.500000</td>\n      <td>6.5</td>\n      <td>1.203704</td>\n      <td>0.833333</td>\n    </tr>\n    <tr>\n      <th>62</th>\n      <td>Zaha</td>\n      <td>72</td>\n      <td>a</td>\n      <td>3</td>\n      <td>48</td>\n      <td>540</td>\n      <td>8.000000</td>\n      <td>8.0</td>\n      <td>1.111111</td>\n      <td>0.833333</td>\n    </tr>\n    <tr>\n      <th>443</th>\n      <td>Saïss</td>\n      <td>52</td>\n      <td>a</td>\n      <td>2</td>\n      <td>38</td>\n      <td>517</td>\n      <td>6.615087</td>\n      <td>6.3</td>\n      <td>1.211538</td>\n      <td>0.826923</td>\n    </tr>\n    <tr>\n      <th>192</th>\n      <td>Son</td>\n      <td>95</td>\n      <td>a</td>\n      <td>3</td>\n      <td>59</td>\n      <td>380</td>\n      <td>13.973684</td>\n      <td>9.8</td>\n      <td>1.031579</td>\n      <td>0.821053</td>\n    </tr>\n    <tr>\n      <th>257</th>\n      <td>Konsa</td>\n      <td>47</td>\n      <td>a</td>\n      <td>2</td>\n      <td>29</td>\n      <td>450</td>\n      <td>5.800000</td>\n      <td>5.8</td>\n      <td>1.234043</td>\n      <td>0.808511</td>\n    </tr>\n    <tr>\n      <th>18</th>\n      <td>Grealish</td>\n      <td>72</td>\n      <td>a</td>\n      <td>3</td>\n      <td>39</td>\n      <td>450</td>\n      <td>7.800000</td>\n      <td>7.8</td>\n      <td>1.083333</td>\n      <td>0.805556</td>\n    </tr>\n    <tr>\n      <th>254</th>\n      <td>Mings</td>\n      <td>52</td>\n      <td>a</td>\n      <td>2</td>\n      <td>30</td>\n      <td>450</td>\n      <td>6.000000</td>\n      <td>6.0</td>\n      <td>1.153846</td>\n      <td>0.769231</td>\n    </tr>\n    <tr>\n      <th>403</th>\n      <td>Vestergaard</td>\n      <td>45</td>\n      <td>a</td>\n      <td>2</td>\n      <td>27</td>\n      <td>405</td>\n      <td>6.000000</td>\n      <td>5.4</td>\n      <td>1.200000</td>\n      <td>0.755556</td>\n    </tr>\n    <tr>\n      <th>510</th>\n      <td>Kane</td>\n      <td>109</td>\n      <td>a</td>\n      <td>4</td>\n      <td>61</td>\n      <td>447</td>\n      <td>12.281879</td>\n      <td>10.2</td>\n      <td>0.935780</td>\n      <td>0.752294</td>\n    </tr>\n    <tr>\n      <th>499</th>\n      <td>Wilson</td>\n      <td>65</td>\n      <td>a</td>\n      <td>4</td>\n      <td>41</td>\n      <td>534</td>\n      <td>6.910112</td>\n      <td>6.8</td>\n      <td>1.046154</td>\n      <td>0.738462</td>\n    </tr>\n    <tr>\n      <th>438</th>\n      <td>Coufal</td>\n      <td>45</td>\n      <td>a</td>\n      <td>2</td>\n      <td>16</td>\n      <td>270</td>\n      <td>5.333333</td>\n      <td>5.3</td>\n      <td>1.177778</td>\n      <td>0.733333</td>\n    </tr>\n  </tbody>\n</table>\n</div>"
     },
     "metadata": {},
     "execution_count": 33
    }
   ],
   "source": [
    "top_players = all_players[['web_name' , 'now_cost', 'status' , 'player_type_id', 'total_points' , 'total_minutes' , 'PP90' , 'PPG' , 'PPMM' , 'VAPM']][all_players['total_minutes']>100][all_players['status'] != \"i\"].sort_values(by='VAPM' , ascending = False).head(60)\n",
    "top_players.head(20)"
   ]
  },
  {
   "cell_type": "code",
   "execution_count": 34,
   "metadata": {},
   "outputs": [
    {
     "output_type": "execute_result",
     "data": {
      "text/plain": [
       "     web_name  now_cost status  player_type_id  total_points  total_minutes  \\\n",
       "528  Martínez        48      a               1            34            450   \n",
       "540     Mendy        50      a               1            13            180   \n",
       "568    Darlow        50      a               1            30            540   \n",
       "\n",
       "     PP90  PPG      PPMM  VAPM  \n",
       "528   6.8  6.8  1.416667   1.0  \n",
       "540   6.5  6.5  1.300000   0.9  \n",
       "568   5.0  5.0  1.000000   0.6  "
      ],
      "text/html": "<div>\n<style scoped>\n    .dataframe tbody tr th:only-of-type {\n        vertical-align: middle;\n    }\n\n    .dataframe tbody tr th {\n        vertical-align: top;\n    }\n\n    .dataframe thead th {\n        text-align: right;\n    }\n</style>\n<table border=\"1\" class=\"dataframe\">\n  <thead>\n    <tr style=\"text-align: right;\">\n      <th></th>\n      <th>web_name</th>\n      <th>now_cost</th>\n      <th>status</th>\n      <th>player_type_id</th>\n      <th>total_points</th>\n      <th>total_minutes</th>\n      <th>PP90</th>\n      <th>PPG</th>\n      <th>PPMM</th>\n      <th>VAPM</th>\n    </tr>\n  </thead>\n  <tbody>\n    <tr>\n      <th>528</th>\n      <td>Martínez</td>\n      <td>48</td>\n      <td>a</td>\n      <td>1</td>\n      <td>34</td>\n      <td>450</td>\n      <td>6.8</td>\n      <td>6.8</td>\n      <td>1.416667</td>\n      <td>1.0</td>\n    </tr>\n    <tr>\n      <th>540</th>\n      <td>Mendy</td>\n      <td>50</td>\n      <td>a</td>\n      <td>1</td>\n      <td>13</td>\n      <td>180</td>\n      <td>6.5</td>\n      <td>6.5</td>\n      <td>1.300000</td>\n      <td>0.9</td>\n    </tr>\n    <tr>\n      <th>568</th>\n      <td>Darlow</td>\n      <td>50</td>\n      <td>a</td>\n      <td>1</td>\n      <td>30</td>\n      <td>540</td>\n      <td>5.0</td>\n      <td>5.0</td>\n      <td>1.000000</td>\n      <td>0.6</td>\n    </tr>\n  </tbody>\n</table>\n</div>"
     },
     "metadata": {},
     "execution_count": 34
    }
   ],
   "source": [
    "top_players[top_players['player_type_id'] == 1].head(3)"
   ]
  },
  {
   "cell_type": "code",
   "execution_count": 35,
   "metadata": {},
   "outputs": [
    {
     "output_type": "execute_result",
     "data": {
      "text/plain": [
       "     web_name  now_cost status  player_type_id  total_points  total_minutes  \\\n",
       "446    Kilman        41      a               2            23            270   \n",
       "289  Chilwell        58      a               2            27            270   \n",
       "411    Aurier        52      a               2            13            180   \n",
       "284     Zouma        51      a               2            32            450   \n",
       "360   Cancelo        54      a               2            13            180   \n",
       "\n",
       "         PP90  PPG      PPMM      VAPM  \n",
       "446  7.666667  7.7  1.878049  1.390244  \n",
       "289  9.000000  9.0  1.551724  1.206897  \n",
       "411  6.500000  6.5  1.250000  0.865385  \n",
       "284  6.400000  6.4  1.254902  0.862745  \n",
       "360  6.500000  6.5  1.203704  0.833333  "
      ],
      "text/html": "<div>\n<style scoped>\n    .dataframe tbody tr th:only-of-type {\n        vertical-align: middle;\n    }\n\n    .dataframe tbody tr th {\n        vertical-align: top;\n    }\n\n    .dataframe thead th {\n        text-align: right;\n    }\n</style>\n<table border=\"1\" class=\"dataframe\">\n  <thead>\n    <tr style=\"text-align: right;\">\n      <th></th>\n      <th>web_name</th>\n      <th>now_cost</th>\n      <th>status</th>\n      <th>player_type_id</th>\n      <th>total_points</th>\n      <th>total_minutes</th>\n      <th>PP90</th>\n      <th>PPG</th>\n      <th>PPMM</th>\n      <th>VAPM</th>\n    </tr>\n  </thead>\n  <tbody>\n    <tr>\n      <th>446</th>\n      <td>Kilman</td>\n      <td>41</td>\n      <td>a</td>\n      <td>2</td>\n      <td>23</td>\n      <td>270</td>\n      <td>7.666667</td>\n      <td>7.7</td>\n      <td>1.878049</td>\n      <td>1.390244</td>\n    </tr>\n    <tr>\n      <th>289</th>\n      <td>Chilwell</td>\n      <td>58</td>\n      <td>a</td>\n      <td>2</td>\n      <td>27</td>\n      <td>270</td>\n      <td>9.000000</td>\n      <td>9.0</td>\n      <td>1.551724</td>\n      <td>1.206897</td>\n    </tr>\n    <tr>\n      <th>411</th>\n      <td>Aurier</td>\n      <td>52</td>\n      <td>a</td>\n      <td>2</td>\n      <td>13</td>\n      <td>180</td>\n      <td>6.500000</td>\n      <td>6.5</td>\n      <td>1.250000</td>\n      <td>0.865385</td>\n    </tr>\n    <tr>\n      <th>284</th>\n      <td>Zouma</td>\n      <td>51</td>\n      <td>a</td>\n      <td>2</td>\n      <td>32</td>\n      <td>450</td>\n      <td>6.400000</td>\n      <td>6.4</td>\n      <td>1.254902</td>\n      <td>0.862745</td>\n    </tr>\n    <tr>\n      <th>360</th>\n      <td>Cancelo</td>\n      <td>54</td>\n      <td>a</td>\n      <td>2</td>\n      <td>13</td>\n      <td>180</td>\n      <td>6.500000</td>\n      <td>6.5</td>\n      <td>1.203704</td>\n      <td>0.833333</td>\n    </tr>\n  </tbody>\n</table>\n</div>"
     },
     "metadata": {},
     "execution_count": 35
    }
   ],
   "source": [
    "top_players[top_players['player_type_id'] == 2].head(5)"
   ]
  },
  {
   "cell_type": "code",
   "execution_count": 36,
   "metadata": {},
   "outputs": [
    {
     "output_type": "execute_result",
     "data": {
      "text/plain": [
       "      web_name  now_cost status  player_type_id  total_points  total_minutes  \\\n",
       "16   Hourihane        60      a               3            17            137   \n",
       "48    Jorginho        52      a               3            35            432   \n",
       "62        Zaha        72      a               3            48            540   \n",
       "192        Son        95      a               3            59            380   \n",
       "18    Grealish        72      a               3            39            450   \n",
       "\n",
       "          PP90  PPG      PPMM      VAPM  \n",
       "16   11.167883  8.5  1.416667  1.083333  \n",
       "48    7.291667  7.0  1.346154  0.961538  \n",
       "62    8.000000  8.0  1.111111  0.833333  \n",
       "192  13.973684  9.8  1.031579  0.821053  \n",
       "18    7.800000  7.8  1.083333  0.805556  "
      ],
      "text/html": "<div>\n<style scoped>\n    .dataframe tbody tr th:only-of-type {\n        vertical-align: middle;\n    }\n\n    .dataframe tbody tr th {\n        vertical-align: top;\n    }\n\n    .dataframe thead th {\n        text-align: right;\n    }\n</style>\n<table border=\"1\" class=\"dataframe\">\n  <thead>\n    <tr style=\"text-align: right;\">\n      <th></th>\n      <th>web_name</th>\n      <th>now_cost</th>\n      <th>status</th>\n      <th>player_type_id</th>\n      <th>total_points</th>\n      <th>total_minutes</th>\n      <th>PP90</th>\n      <th>PPG</th>\n      <th>PPMM</th>\n      <th>VAPM</th>\n    </tr>\n  </thead>\n  <tbody>\n    <tr>\n      <th>16</th>\n      <td>Hourihane</td>\n      <td>60</td>\n      <td>a</td>\n      <td>3</td>\n      <td>17</td>\n      <td>137</td>\n      <td>11.167883</td>\n      <td>8.5</td>\n      <td>1.416667</td>\n      <td>1.083333</td>\n    </tr>\n    <tr>\n      <th>48</th>\n      <td>Jorginho</td>\n      <td>52</td>\n      <td>a</td>\n      <td>3</td>\n      <td>35</td>\n      <td>432</td>\n      <td>7.291667</td>\n      <td>7.0</td>\n      <td>1.346154</td>\n      <td>0.961538</td>\n    </tr>\n    <tr>\n      <th>62</th>\n      <td>Zaha</td>\n      <td>72</td>\n      <td>a</td>\n      <td>3</td>\n      <td>48</td>\n      <td>540</td>\n      <td>8.000000</td>\n      <td>8.0</td>\n      <td>1.111111</td>\n      <td>0.833333</td>\n    </tr>\n    <tr>\n      <th>192</th>\n      <td>Son</td>\n      <td>95</td>\n      <td>a</td>\n      <td>3</td>\n      <td>59</td>\n      <td>380</td>\n      <td>13.973684</td>\n      <td>9.8</td>\n      <td>1.031579</td>\n      <td>0.821053</td>\n    </tr>\n    <tr>\n      <th>18</th>\n      <td>Grealish</td>\n      <td>72</td>\n      <td>a</td>\n      <td>3</td>\n      <td>39</td>\n      <td>450</td>\n      <td>7.800000</td>\n      <td>7.8</td>\n      <td>1.083333</td>\n      <td>0.805556</td>\n    </tr>\n  </tbody>\n</table>\n</div>"
     },
     "metadata": {},
     "execution_count": 36
    }
   ],
   "source": [
    "top_players[top_players['player_type_id'] == 3].head(5)"
   ]
  },
  {
   "cell_type": "code",
   "execution_count": 37,
   "metadata": {},
   "outputs": [
    {
     "output_type": "execute_result",
     "data": {
      "text/plain": [
       "    web_name  now_cost status  player_type_id  total_points  total_minutes  \\\n",
       "485  Bamford        59      a               4            49            490   \n",
       "510     Kane       109      a               4            61            447   \n",
       "499   Wilson        65      a               4            41            534   \n",
       "\n",
       "          PP90   PPG      PPMM      VAPM  \n",
       "485   9.000000   8.2  1.389831  1.050847  \n",
       "510  12.281879  10.2  0.935780  0.752294  \n",
       "499   6.910112   6.8  1.046154  0.738462  "
      ],
      "text/html": "<div>\n<style scoped>\n    .dataframe tbody tr th:only-of-type {\n        vertical-align: middle;\n    }\n\n    .dataframe tbody tr th {\n        vertical-align: top;\n    }\n\n    .dataframe thead th {\n        text-align: right;\n    }\n</style>\n<table border=\"1\" class=\"dataframe\">\n  <thead>\n    <tr style=\"text-align: right;\">\n      <th></th>\n      <th>web_name</th>\n      <th>now_cost</th>\n      <th>status</th>\n      <th>player_type_id</th>\n      <th>total_points</th>\n      <th>total_minutes</th>\n      <th>PP90</th>\n      <th>PPG</th>\n      <th>PPMM</th>\n      <th>VAPM</th>\n    </tr>\n  </thead>\n  <tbody>\n    <tr>\n      <th>485</th>\n      <td>Bamford</td>\n      <td>59</td>\n      <td>a</td>\n      <td>4</td>\n      <td>49</td>\n      <td>490</td>\n      <td>9.000000</td>\n      <td>8.2</td>\n      <td>1.389831</td>\n      <td>1.050847</td>\n    </tr>\n    <tr>\n      <th>510</th>\n      <td>Kane</td>\n      <td>109</td>\n      <td>a</td>\n      <td>4</td>\n      <td>61</td>\n      <td>447</td>\n      <td>12.281879</td>\n      <td>10.2</td>\n      <td>0.935780</td>\n      <td>0.752294</td>\n    </tr>\n    <tr>\n      <th>499</th>\n      <td>Wilson</td>\n      <td>65</td>\n      <td>a</td>\n      <td>4</td>\n      <td>41</td>\n      <td>534</td>\n      <td>6.910112</td>\n      <td>6.8</td>\n      <td>1.046154</td>\n      <td>0.738462</td>\n    </tr>\n  </tbody>\n</table>\n</div>"
     },
     "metadata": {},
     "execution_count": 37
    }
   ],
   "source": [
    "top_players[top_players['player_type_id'] == 4].head(3)"
   ]
  },
  {
   "cell_type": "code",
   "execution_count": 38,
   "metadata": {
    "tags": []
   },
   "outputs": [
    {
     "output_type": "stream",
     "name": "stdout",
     "text": [
      "Price for the best team is 93.8\n"
     ]
    }
   ],
   "source": [
    "price_gk = top_players['now_cost'][top_players['player_type_id'] == 1].head(2).sum()\n",
    "price_def = top_players['now_cost'][top_players['player_type_id'] == 2].head(5).sum()\n",
    "price_mid = top_players['now_cost'][top_players['player_type_id'] == 3].head(5).sum()\n",
    "price_fwd = top_players['now_cost'][top_players['player_type_id'] == 4].head(3).sum()\n",
    "\n",
    "\n",
    "team_cost = price_gk + price_def + price_mid + price_fwd\n",
    "print(\"Price for the best team is \" + str(np.divide(team_cost,10)))"
   ]
  },
  {
   "cell_type": "code",
   "execution_count": 39,
   "metadata": {},
   "outputs": [],
   "source": [
    "def player_value():\n",
    "\n",
    "    fig = px.scatter(\n",
    "        top_players.head(30), \n",
    "        x = 'now_cost', \n",
    "        y = 'VAPM',\n",
    "        #size = 'minutes',\n",
    "        color = 'total_points',\n",
    "        text = 'web_name',\n",
    "        hover_data=['PPG'])\n",
    "\n",
    "    fig.show()"
   ]
  },
  {
   "cell_type": "code",
   "execution_count": 40,
   "metadata": {},
   "outputs": [
    {
     "output_type": "display_data",
     "data": {
      "application/vnd.plotly.v1+json": {
       "config": {
        "plotlyServerURL": "https://plot.ly"
       },
       "data": [
        {
         "customdata": [
          [
           7.7
          ],
          [
           9
          ],
          [
           8.5
          ],
          [
           8.2
          ],
          [
           6.8
          ],
          [
           7
          ],
          [
           6.5
          ],
          [
           6.5
          ],
          [
           6.4
          ],
          [
           6.5
          ],
          [
           8
          ],
          [
           6.3
          ],
          [
           9.8
          ],
          [
           5.8
          ],
          [
           7.8
          ],
          [
           6
          ],
          [
           5.4
          ],
          [
           10.2
          ],
          [
           6.8
          ],
          [
           5.3
          ],
          [
           5.8
          ],
          [
           7.3
          ],
          [
           5
          ],
          [
           5.8
          ],
          [
           5.2
          ],
          [
           8.2
          ],
          [
           5
          ],
          [
           6
          ],
          [
           5
          ],
          [
           6.8
          ]
         ],
         "hovertemplate": "now_cost=%{x}<br>VAPM=%{y}<br>web_name=%{text}<br>PPG=%{customdata[0]}<br>total_points=%{marker.color}<extra></extra>",
         "legendgroup": "",
         "marker": {
          "color": [
           23,
           27,
           17,
           49,
           34,
           35,
           13,
           13,
           32,
           13,
           48,
           38,
           59,
           29,
           39,
           30,
           27,
           61,
           41,
           16,
           29,
           44,
           20,
           35,
           31,
           41,
           10,
           36,
           30,
           41
          ],
          "coloraxis": "coloraxis",
          "symbol": "circle"
         },
         "mode": "markers+text",
         "name": "",
         "orientation": "v",
         "showlegend": false,
         "text": [
          "Kilman",
          "Chilwell",
          "Hourihane",
          "Bamford",
          "Martínez",
          "Jorginho",
          "Mendy",
          "Aurier",
          "Zouma",
          "Cancelo",
          "Zaha",
          "Saïss",
          "Son",
          "Konsa",
          "Grealish",
          "Mings",
          "Vestergaard",
          "Kane",
          "Wilson",
          "Coufal",
          "McGinn",
          "Calvert-Lewin",
          "Balbuena",
          "Castagne",
          "Cresswell",
          "Vardy",
          "Murphy",
          "Maupay",
          "Darlow",
          "Rodríguez"
         ],
         "type": "scatter",
         "x": [
          41,
          58,
          60,
          59,
          48,
          52,
          50,
          52,
          51,
          54,
          72,
          52,
          95,
          47,
          72,
          52,
          45,
          109,
          65,
          45,
          55,
          77,
          44,
          58,
          50,
          100,
          49,
          66,
          50,
          80
         ],
         "xaxis": "x",
         "y": [
          1.3902439024390243,
          1.206896551724138,
          1.0833333333333333,
          1.0508474576271185,
          1,
          0.9615384615384616,
          0.9,
          0.8653846153846153,
          0.8627450980392158,
          0.8333333333333333,
          0.8333333333333333,
          0.8269230769230769,
          0.8210526315789475,
          0.8085106382978723,
          0.8055555555555555,
          0.7692307692307692,
          0.7555555555555556,
          0.7522935779816513,
          0.7384615384615384,
          0.7333333333333333,
          0.6909090909090909,
          0.6883116883116883,
          0.6818181818181818,
          0.6551724137931034,
          0.64,
          0.6199999999999999,
          0.6122448979591836,
          0.6060606060606061,
          0.6,
          0.6
         ],
         "yaxis": "y"
        }
       ],
       "layout": {
        "coloraxis": {
         "colorbar": {
          "title": {
           "text": "total_points"
          }
         },
         "colorscale": [
          [
           0,
           "#0d0887"
          ],
          [
           0.1111111111111111,
           "#46039f"
          ],
          [
           0.2222222222222222,
           "#7201a8"
          ],
          [
           0.3333333333333333,
           "#9c179e"
          ],
          [
           0.4444444444444444,
           "#bd3786"
          ],
          [
           0.5555555555555556,
           "#d8576b"
          ],
          [
           0.6666666666666666,
           "#ed7953"
          ],
          [
           0.7777777777777778,
           "#fb9f3a"
          ],
          [
           0.8888888888888888,
           "#fdca26"
          ],
          [
           1,
           "#f0f921"
          ]
         ]
        },
        "legend": {
         "tracegroupgap": 0
        },
        "margin": {
         "t": 60
        },
        "template": {
         "data": {
          "bar": [
           {
            "error_x": {
             "color": "#2a3f5f"
            },
            "error_y": {
             "color": "#2a3f5f"
            },
            "marker": {
             "line": {
              "color": "#E5ECF6",
              "width": 0.5
             }
            },
            "type": "bar"
           }
          ],
          "barpolar": [
           {
            "marker": {
             "line": {
              "color": "#E5ECF6",
              "width": 0.5
             }
            },
            "type": "barpolar"
           }
          ],
          "carpet": [
           {
            "aaxis": {
             "endlinecolor": "#2a3f5f",
             "gridcolor": "white",
             "linecolor": "white",
             "minorgridcolor": "white",
             "startlinecolor": "#2a3f5f"
            },
            "baxis": {
             "endlinecolor": "#2a3f5f",
             "gridcolor": "white",
             "linecolor": "white",
             "minorgridcolor": "white",
             "startlinecolor": "#2a3f5f"
            },
            "type": "carpet"
           }
          ],
          "choropleth": [
           {
            "colorbar": {
             "outlinewidth": 0,
             "ticks": ""
            },
            "type": "choropleth"
           }
          ],
          "contour": [
           {
            "colorbar": {
             "outlinewidth": 0,
             "ticks": ""
            },
            "colorscale": [
             [
              0,
              "#0d0887"
             ],
             [
              0.1111111111111111,
              "#46039f"
             ],
             [
              0.2222222222222222,
              "#7201a8"
             ],
             [
              0.3333333333333333,
              "#9c179e"
             ],
             [
              0.4444444444444444,
              "#bd3786"
             ],
             [
              0.5555555555555556,
              "#d8576b"
             ],
             [
              0.6666666666666666,
              "#ed7953"
             ],
             [
              0.7777777777777778,
              "#fb9f3a"
             ],
             [
              0.8888888888888888,
              "#fdca26"
             ],
             [
              1,
              "#f0f921"
             ]
            ],
            "type": "contour"
           }
          ],
          "contourcarpet": [
           {
            "colorbar": {
             "outlinewidth": 0,
             "ticks": ""
            },
            "type": "contourcarpet"
           }
          ],
          "heatmap": [
           {
            "colorbar": {
             "outlinewidth": 0,
             "ticks": ""
            },
            "colorscale": [
             [
              0,
              "#0d0887"
             ],
             [
              0.1111111111111111,
              "#46039f"
             ],
             [
              0.2222222222222222,
              "#7201a8"
             ],
             [
              0.3333333333333333,
              "#9c179e"
             ],
             [
              0.4444444444444444,
              "#bd3786"
             ],
             [
              0.5555555555555556,
              "#d8576b"
             ],
             [
              0.6666666666666666,
              "#ed7953"
             ],
             [
              0.7777777777777778,
              "#fb9f3a"
             ],
             [
              0.8888888888888888,
              "#fdca26"
             ],
             [
              1,
              "#f0f921"
             ]
            ],
            "type": "heatmap"
           }
          ],
          "heatmapgl": [
           {
            "colorbar": {
             "outlinewidth": 0,
             "ticks": ""
            },
            "colorscale": [
             [
              0,
              "#0d0887"
             ],
             [
              0.1111111111111111,
              "#46039f"
             ],
             [
              0.2222222222222222,
              "#7201a8"
             ],
             [
              0.3333333333333333,
              "#9c179e"
             ],
             [
              0.4444444444444444,
              "#bd3786"
             ],
             [
              0.5555555555555556,
              "#d8576b"
             ],
             [
              0.6666666666666666,
              "#ed7953"
             ],
             [
              0.7777777777777778,
              "#fb9f3a"
             ],
             [
              0.8888888888888888,
              "#fdca26"
             ],
             [
              1,
              "#f0f921"
             ]
            ],
            "type": "heatmapgl"
           }
          ],
          "histogram": [
           {
            "marker": {
             "colorbar": {
              "outlinewidth": 0,
              "ticks": ""
             }
            },
            "type": "histogram"
           }
          ],
          "histogram2d": [
           {
            "colorbar": {
             "outlinewidth": 0,
             "ticks": ""
            },
            "colorscale": [
             [
              0,
              "#0d0887"
             ],
             [
              0.1111111111111111,
              "#46039f"
             ],
             [
              0.2222222222222222,
              "#7201a8"
             ],
             [
              0.3333333333333333,
              "#9c179e"
             ],
             [
              0.4444444444444444,
              "#bd3786"
             ],
             [
              0.5555555555555556,
              "#d8576b"
             ],
             [
              0.6666666666666666,
              "#ed7953"
             ],
             [
              0.7777777777777778,
              "#fb9f3a"
             ],
             [
              0.8888888888888888,
              "#fdca26"
             ],
             [
              1,
              "#f0f921"
             ]
            ],
            "type": "histogram2d"
           }
          ],
          "histogram2dcontour": [
           {
            "colorbar": {
             "outlinewidth": 0,
             "ticks": ""
            },
            "colorscale": [
             [
              0,
              "#0d0887"
             ],
             [
              0.1111111111111111,
              "#46039f"
             ],
             [
              0.2222222222222222,
              "#7201a8"
             ],
             [
              0.3333333333333333,
              "#9c179e"
             ],
             [
              0.4444444444444444,
              "#bd3786"
             ],
             [
              0.5555555555555556,
              "#d8576b"
             ],
             [
              0.6666666666666666,
              "#ed7953"
             ],
             [
              0.7777777777777778,
              "#fb9f3a"
             ],
             [
              0.8888888888888888,
              "#fdca26"
             ],
             [
              1,
              "#f0f921"
             ]
            ],
            "type": "histogram2dcontour"
           }
          ],
          "mesh3d": [
           {
            "colorbar": {
             "outlinewidth": 0,
             "ticks": ""
            },
            "type": "mesh3d"
           }
          ],
          "parcoords": [
           {
            "line": {
             "colorbar": {
              "outlinewidth": 0,
              "ticks": ""
             }
            },
            "type": "parcoords"
           }
          ],
          "pie": [
           {
            "automargin": true,
            "type": "pie"
           }
          ],
          "scatter": [
           {
            "marker": {
             "colorbar": {
              "outlinewidth": 0,
              "ticks": ""
             }
            },
            "type": "scatter"
           }
          ],
          "scatter3d": [
           {
            "line": {
             "colorbar": {
              "outlinewidth": 0,
              "ticks": ""
             }
            },
            "marker": {
             "colorbar": {
              "outlinewidth": 0,
              "ticks": ""
             }
            },
            "type": "scatter3d"
           }
          ],
          "scattercarpet": [
           {
            "marker": {
             "colorbar": {
              "outlinewidth": 0,
              "ticks": ""
             }
            },
            "type": "scattercarpet"
           }
          ],
          "scattergeo": [
           {
            "marker": {
             "colorbar": {
              "outlinewidth": 0,
              "ticks": ""
             }
            },
            "type": "scattergeo"
           }
          ],
          "scattergl": [
           {
            "marker": {
             "colorbar": {
              "outlinewidth": 0,
              "ticks": ""
             }
            },
            "type": "scattergl"
           }
          ],
          "scattermapbox": [
           {
            "marker": {
             "colorbar": {
              "outlinewidth": 0,
              "ticks": ""
             }
            },
            "type": "scattermapbox"
           }
          ],
          "scatterpolar": [
           {
            "marker": {
             "colorbar": {
              "outlinewidth": 0,
              "ticks": ""
             }
            },
            "type": "scatterpolar"
           }
          ],
          "scatterpolargl": [
           {
            "marker": {
             "colorbar": {
              "outlinewidth": 0,
              "ticks": ""
             }
            },
            "type": "scatterpolargl"
           }
          ],
          "scatterternary": [
           {
            "marker": {
             "colorbar": {
              "outlinewidth": 0,
              "ticks": ""
             }
            },
            "type": "scatterternary"
           }
          ],
          "surface": [
           {
            "colorbar": {
             "outlinewidth": 0,
             "ticks": ""
            },
            "colorscale": [
             [
              0,
              "#0d0887"
             ],
             [
              0.1111111111111111,
              "#46039f"
             ],
             [
              0.2222222222222222,
              "#7201a8"
             ],
             [
              0.3333333333333333,
              "#9c179e"
             ],
             [
              0.4444444444444444,
              "#bd3786"
             ],
             [
              0.5555555555555556,
              "#d8576b"
             ],
             [
              0.6666666666666666,
              "#ed7953"
             ],
             [
              0.7777777777777778,
              "#fb9f3a"
             ],
             [
              0.8888888888888888,
              "#fdca26"
             ],
             [
              1,
              "#f0f921"
             ]
            ],
            "type": "surface"
           }
          ],
          "table": [
           {
            "cells": {
             "fill": {
              "color": "#EBF0F8"
             },
             "line": {
              "color": "white"
             }
            },
            "header": {
             "fill": {
              "color": "#C8D4E3"
             },
             "line": {
              "color": "white"
             }
            },
            "type": "table"
           }
          ]
         },
         "layout": {
          "annotationdefaults": {
           "arrowcolor": "#2a3f5f",
           "arrowhead": 0,
           "arrowwidth": 1
          },
          "coloraxis": {
           "colorbar": {
            "outlinewidth": 0,
            "ticks": ""
           }
          },
          "colorscale": {
           "diverging": [
            [
             0,
             "#8e0152"
            ],
            [
             0.1,
             "#c51b7d"
            ],
            [
             0.2,
             "#de77ae"
            ],
            [
             0.3,
             "#f1b6da"
            ],
            [
             0.4,
             "#fde0ef"
            ],
            [
             0.5,
             "#f7f7f7"
            ],
            [
             0.6,
             "#e6f5d0"
            ],
            [
             0.7,
             "#b8e186"
            ],
            [
             0.8,
             "#7fbc41"
            ],
            [
             0.9,
             "#4d9221"
            ],
            [
             1,
             "#276419"
            ]
           ],
           "sequential": [
            [
             0,
             "#0d0887"
            ],
            [
             0.1111111111111111,
             "#46039f"
            ],
            [
             0.2222222222222222,
             "#7201a8"
            ],
            [
             0.3333333333333333,
             "#9c179e"
            ],
            [
             0.4444444444444444,
             "#bd3786"
            ],
            [
             0.5555555555555556,
             "#d8576b"
            ],
            [
             0.6666666666666666,
             "#ed7953"
            ],
            [
             0.7777777777777778,
             "#fb9f3a"
            ],
            [
             0.8888888888888888,
             "#fdca26"
            ],
            [
             1,
             "#f0f921"
            ]
           ],
           "sequentialminus": [
            [
             0,
             "#0d0887"
            ],
            [
             0.1111111111111111,
             "#46039f"
            ],
            [
             0.2222222222222222,
             "#7201a8"
            ],
            [
             0.3333333333333333,
             "#9c179e"
            ],
            [
             0.4444444444444444,
             "#bd3786"
            ],
            [
             0.5555555555555556,
             "#d8576b"
            ],
            [
             0.6666666666666666,
             "#ed7953"
            ],
            [
             0.7777777777777778,
             "#fb9f3a"
            ],
            [
             0.8888888888888888,
             "#fdca26"
            ],
            [
             1,
             "#f0f921"
            ]
           ]
          },
          "colorway": [
           "#636efa",
           "#EF553B",
           "#00cc96",
           "#ab63fa",
           "#FFA15A",
           "#19d3f3",
           "#FF6692",
           "#B6E880",
           "#FF97FF",
           "#FECB52"
          ],
          "font": {
           "color": "#2a3f5f"
          },
          "geo": {
           "bgcolor": "white",
           "lakecolor": "white",
           "landcolor": "#E5ECF6",
           "showlakes": true,
           "showland": true,
           "subunitcolor": "white"
          },
          "hoverlabel": {
           "align": "left"
          },
          "hovermode": "closest",
          "mapbox": {
           "style": "light"
          },
          "paper_bgcolor": "white",
          "plot_bgcolor": "#E5ECF6",
          "polar": {
           "angularaxis": {
            "gridcolor": "white",
            "linecolor": "white",
            "ticks": ""
           },
           "bgcolor": "#E5ECF6",
           "radialaxis": {
            "gridcolor": "white",
            "linecolor": "white",
            "ticks": ""
           }
          },
          "scene": {
           "xaxis": {
            "backgroundcolor": "#E5ECF6",
            "gridcolor": "white",
            "gridwidth": 2,
            "linecolor": "white",
            "showbackground": true,
            "ticks": "",
            "zerolinecolor": "white"
           },
           "yaxis": {
            "backgroundcolor": "#E5ECF6",
            "gridcolor": "white",
            "gridwidth": 2,
            "linecolor": "white",
            "showbackground": true,
            "ticks": "",
            "zerolinecolor": "white"
           },
           "zaxis": {
            "backgroundcolor": "#E5ECF6",
            "gridcolor": "white",
            "gridwidth": 2,
            "linecolor": "white",
            "showbackground": true,
            "ticks": "",
            "zerolinecolor": "white"
           }
          },
          "shapedefaults": {
           "line": {
            "color": "#2a3f5f"
           }
          },
          "ternary": {
           "aaxis": {
            "gridcolor": "white",
            "linecolor": "white",
            "ticks": ""
           },
           "baxis": {
            "gridcolor": "white",
            "linecolor": "white",
            "ticks": ""
           },
           "bgcolor": "#E5ECF6",
           "caxis": {
            "gridcolor": "white",
            "linecolor": "white",
            "ticks": ""
           }
          },
          "title": {
           "x": 0.05
          },
          "xaxis": {
           "automargin": true,
           "gridcolor": "white",
           "linecolor": "white",
           "ticks": "",
           "title": {
            "standoff": 15
           },
           "zerolinecolor": "white",
           "zerolinewidth": 2
          },
          "yaxis": {
           "automargin": true,
           "gridcolor": "white",
           "linecolor": "white",
           "ticks": "",
           "title": {
            "standoff": 15
           },
           "zerolinecolor": "white",
           "zerolinewidth": 2
          }
         }
        },
        "xaxis": {
         "anchor": "y",
         "domain": [
          0,
          1
         ],
         "title": {
          "text": "now_cost"
         }
        },
        "yaxis": {
         "anchor": "x",
         "domain": [
          0,
          1
         ],
         "title": {
          "text": "VAPM"
         }
        }
       }
      }
     },
     "metadata": {}
    }
   ],
   "source": [
    "player_value()"
   ]
  },
  {
   "cell_type": "code",
   "execution_count": null,
   "metadata": {},
   "outputs": [],
   "source": []
  }
 ]
}