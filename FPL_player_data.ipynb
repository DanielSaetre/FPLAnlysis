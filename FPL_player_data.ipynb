{
 "metadata": {
  "language_info": {
   "codemirror_mode": {
    "name": "ipython",
    "version": 3
   },
   "file_extension": ".py",
   "mimetype": "text/x-python",
   "name": "python",
   "nbconvert_exporter": "python",
   "pygments_lexer": "ipython3",
   "version": "3.7.4-final"
  },
  "orig_nbformat": 2,
  "kernelspec": {
   "name": "python_defaultSpec_1597411026151",
   "display_name": "Python 3.7.4 64-bit ('base': conda)"
  }
 },
 "nbformat": 4,
 "nbformat_minor": 2,
 "cells": [
  {
   "cell_type": "markdown",
   "metadata": {},
   "source": [
    "## Import Libraries"
   ]
  },
  {
   "cell_type": "code",
   "execution_count": 47,
   "metadata": {},
   "outputs": [],
   "source": [
    "#!/usr/bin/env python\n",
    "# coding: utf-8\n",
    "import os\n",
    "import numpy as np\n",
    "import pandas as pd\n",
    "import requests\n",
    "from datetime import datetime\n",
    "import json\n",
    "\n",
    "import time\n",
    "from tqdm import tqdm\n",
    "\n",
    "#Set Display options\n",
    "pd.set_option('display.max_rows', 50)\n",
    "pd.set_option('display.max_columns', 50)"
   ]
  },
  {
   "cell_type": "markdown",
   "metadata": {},
   "source": [
    "## Import files"
   ]
  },
  {
   "cell_type": "code",
   "execution_count": 48,
   "metadata": {},
   "outputs": [],
   "source": [
    "all_players = pd.read_csv(r'./data/all_players.csv')\n",
    "all_teams = pd.read_csv(r'./data/all_teams.csv')\n",
    "all_events = pd.read_csv(r\"./data/all_events.csv\" , parse_dates= [\"deadline_time\"])\n"
   ]
  },
  {
   "cell_type": "markdown",
   "metadata": {},
   "source": [
    "## Functions"
   ]
  },
  {
   "cell_type": "code",
   "execution_count": 49,
   "metadata": {},
   "outputs": [],
   "source": [
    "#### Connect to FPL API\n",
    "def get(url):\n",
    "    response = requests.get(url)\n",
    "    return json.loads(response.content)\n",
    "\n",
    "#### Getting player summary data\n",
    "def get_player_summary(player_id):\n",
    "    url = 'https://fantasy.premierleague.com/api/element-summary/' + str(player_id) + '/' \n",
    "    response = get(url)\n",
    "    fixtures = response['fixtures']\n",
    "    history = response['history']\n",
    "    history_past = response['history_past']\n",
    "    return [fixtures, history, history_past]"
   ]
  },
  {
   "cell_type": "markdown",
   "metadata": {},
   "source": [
    "## Create lists of data for all players"
   ]
  },
  {
   "cell_type": "code",
   "execution_count": 50,
   "metadata": {
    "tags": []
   },
   "outputs": [
    {
     "output_type": "stream",
     "name": "stderr",
     "text": "100%|██████████| 666/666 [00:52<00:00, 12.71it/s]\n"
    }
   ],
   "source": [
    "player_season_history_list= []\n",
    "player_gameweek_history_list = []\n",
    "player_future_fixture_list = []\n",
    "\n",
    "for i in tqdm(range(len(all_players))):\n",
    "    try:\n",
    "        fixtures, history, history_past = get_player_summary(i)\n",
    "        for j in range(len(fixtures)):\n",
    "            fixtures[j]['player_id'] = i\n",
    "        player_gameweek_history_list.append(history)\n",
    "        player_season_history_list.append(history_past)\n",
    "        player_future_fixture_list.append(fixtures)\n",
    "    except KeyError:\n",
    "        continue\n"
   ]
  },
  {
   "cell_type": "markdown",
   "metadata": {},
   "source": [
    "### Flatten lists"
   ]
  },
  {
   "cell_type": "code",
   "execution_count": 51,
   "metadata": {},
   "outputs": [],
   "source": [
    "player_season_history = [item for sublist in player_season_history_list for item in sublist]\n",
    "player_season_history = pd.DataFrame(player_season_history)\n",
    "\n",
    "player_gameweek_history = [item for sublist in player_gameweek_history_list for item in sublist]\n",
    "player_gameweek_history = pd.DataFrame(player_gameweek_history)\n",
    "\n",
    "player_future_fixture = [item for sublist in player_future_fixture_list for item in sublist]\n",
    "player_future_fixture = pd.DataFrame(player_future_fixture)\n"
   ]
  },
  {
   "cell_type": "markdown",
   "metadata": {},
   "source": [
    "#### SAVE RAW DATA"
   ]
  },
  {
   "cell_type": "code",
   "execution_count": 52,
   "metadata": {},
   "outputs": [],
   "source": [
    "player_season_history.to_csv (r'./data/player_past_history/player_season_history_raw.csv', index = False, header=True)\n",
    "player_gameweek_history.to_csv (r'./data/player_past_history/player_gameweek_history_raw.csv', index = False, header=True)\n",
    "player_future_fixture.to_csv (r'./data/player_past_history/player_future_fixture_raw.csv', index = False, header=True)"
   ]
  },
  {
   "cell_type": "markdown",
   "metadata": {},
   "source": [
    "## DATA CLEANING"
   ]
  },
  {
   "cell_type": "markdown",
   "metadata": {},
   "source": [
    "### Player Season History"
   ]
  },
  {
   "cell_type": "code",
   "execution_count": 53,
   "metadata": {},
   "outputs": [
    {
     "output_type": "execute_result",
     "data": {
      "text/plain": "  season_name  element_code  start_cost  end_cost  total_points  minutes  \\\n0     2009/10         69140          45        45             0        0   \n1     2010/11         69140          40        40             0        0   \n2     2011/12         69140          50        50             0        0   \n3     2012/13         69140          40        40             0        0   \n4     2016/17         69140          60        58            90     2274   \n\n   goals_scored  assists  clean_sheets  goals_conceded  own_goals  \\\n0             0        0             0               0          0   \n1             0        0             0               0          0   \n2             0        0             0               0          0   \n3             0        0             0               0          0   \n4             2        2             8              30          0   \n\n   penalties_saved  penalties_missed  yellow_cards  red_cards  saves  bonus  \\\n0                0                 0             0          0      0      0   \n1                0                 0             0          0      0      0   \n2                0                 0             0          0      0      0   \n3                0                 0             0          0      0      0   \n4                0                 0            11          0      0      8   \n\n   bps influence creativity threat ict_index  \n0    0       0.0        0.0    0.0       0.0  \n1    0       0.0        0.0    0.0       0.0  \n2    0       0.0        0.0    0.0       0.0  \n3    0       0.0        0.0    0.0       0.0  \n4  513     598.2      159.7  364.0     112.4  ",
      "text/html": "<div>\n<style scoped>\n    .dataframe tbody tr th:only-of-type {\n        vertical-align: middle;\n    }\n\n    .dataframe tbody tr th {\n        vertical-align: top;\n    }\n\n    .dataframe thead th {\n        text-align: right;\n    }\n</style>\n<table border=\"1\" class=\"dataframe\">\n  <thead>\n    <tr style=\"text-align: right;\">\n      <th></th>\n      <th>season_name</th>\n      <th>element_code</th>\n      <th>start_cost</th>\n      <th>end_cost</th>\n      <th>total_points</th>\n      <th>minutes</th>\n      <th>goals_scored</th>\n      <th>assists</th>\n      <th>clean_sheets</th>\n      <th>goals_conceded</th>\n      <th>own_goals</th>\n      <th>penalties_saved</th>\n      <th>penalties_missed</th>\n      <th>yellow_cards</th>\n      <th>red_cards</th>\n      <th>saves</th>\n      <th>bonus</th>\n      <th>bps</th>\n      <th>influence</th>\n      <th>creativity</th>\n      <th>threat</th>\n      <th>ict_index</th>\n    </tr>\n  </thead>\n  <tbody>\n    <tr>\n      <td>0</td>\n      <td>2009/10</td>\n      <td>69140</td>\n      <td>45</td>\n      <td>45</td>\n      <td>0</td>\n      <td>0</td>\n      <td>0</td>\n      <td>0</td>\n      <td>0</td>\n      <td>0</td>\n      <td>0</td>\n      <td>0</td>\n      <td>0</td>\n      <td>0</td>\n      <td>0</td>\n      <td>0</td>\n      <td>0</td>\n      <td>0</td>\n      <td>0.0</td>\n      <td>0.0</td>\n      <td>0.0</td>\n      <td>0.0</td>\n    </tr>\n    <tr>\n      <td>1</td>\n      <td>2010/11</td>\n      <td>69140</td>\n      <td>40</td>\n      <td>40</td>\n      <td>0</td>\n      <td>0</td>\n      <td>0</td>\n      <td>0</td>\n      <td>0</td>\n      <td>0</td>\n      <td>0</td>\n      <td>0</td>\n      <td>0</td>\n      <td>0</td>\n      <td>0</td>\n      <td>0</td>\n      <td>0</td>\n      <td>0</td>\n      <td>0.0</td>\n      <td>0.0</td>\n      <td>0.0</td>\n      <td>0.0</td>\n    </tr>\n    <tr>\n      <td>2</td>\n      <td>2011/12</td>\n      <td>69140</td>\n      <td>50</td>\n      <td>50</td>\n      <td>0</td>\n      <td>0</td>\n      <td>0</td>\n      <td>0</td>\n      <td>0</td>\n      <td>0</td>\n      <td>0</td>\n      <td>0</td>\n      <td>0</td>\n      <td>0</td>\n      <td>0</td>\n      <td>0</td>\n      <td>0</td>\n      <td>0</td>\n      <td>0.0</td>\n      <td>0.0</td>\n      <td>0.0</td>\n      <td>0.0</td>\n    </tr>\n    <tr>\n      <td>3</td>\n      <td>2012/13</td>\n      <td>69140</td>\n      <td>40</td>\n      <td>40</td>\n      <td>0</td>\n      <td>0</td>\n      <td>0</td>\n      <td>0</td>\n      <td>0</td>\n      <td>0</td>\n      <td>0</td>\n      <td>0</td>\n      <td>0</td>\n      <td>0</td>\n      <td>0</td>\n      <td>0</td>\n      <td>0</td>\n      <td>0</td>\n      <td>0.0</td>\n      <td>0.0</td>\n      <td>0.0</td>\n      <td>0.0</td>\n    </tr>\n    <tr>\n      <td>4</td>\n      <td>2016/17</td>\n      <td>69140</td>\n      <td>60</td>\n      <td>58</td>\n      <td>90</td>\n      <td>2274</td>\n      <td>2</td>\n      <td>2</td>\n      <td>8</td>\n      <td>30</td>\n      <td>0</td>\n      <td>0</td>\n      <td>0</td>\n      <td>11</td>\n      <td>0</td>\n      <td>0</td>\n      <td>8</td>\n      <td>513</td>\n      <td>598.2</td>\n      <td>159.7</td>\n      <td>364.0</td>\n      <td>112.4</td>\n    </tr>\n  </tbody>\n</table>\n</div>"
     },
     "metadata": {},
     "execution_count": 53
    }
   ],
   "source": [
    "player_season_history.head()"
   ]
  },
  {
   "cell_type": "code",
   "execution_count": 54,
   "metadata": {},
   "outputs": [
    {
     "output_type": "execute_result",
     "data": {
      "text/plain": "   chance_of_playing_next_round  chance_of_playing_this_round  player_code  \\\n0                           0.0                           0.0        69140   \n1                         100.0                         100.0        98745   \n2                         100.0                         100.0       111457   \n3                         100.0                         100.0       154043   \n4                         100.0                         100.0        39476   \n\n   cost_change_start  position_id  ep_next  ep_this  event_points first_name  \\\n0                 -4            2      0.0      0.0             0   Shkodran   \n1                 -3            2      2.3      2.1             0     Héctor   \n2                 -3            2      3.3      3.1             1       Sead   \n3                 -5            2      0.8      0.9             1    Ainsley   \n4                 -2            2      0.5      0.5             0   Sokratis   \n\n   player_id                             player_news  \\\n0          1  Hamstring injury - Unknown return date   \n1          2                                     NaN   \n2          3                                     NaN   \n3          4                                     NaN   \n4          5                                     NaN   \n\n                   news_added  player_price       photo       second_name  \\\n0  2020-07-18 22:30:20.553834           5.1   69140.jpg           Mustafi   \n1  2019-12-09 20:00:21.228098           5.2   98745.jpg          Bellerín   \n2  2020-02-23 18:30:13.672943           5.2  111457.jpg         Kolasinac   \n3  2019-09-22 18:00:10.824841           4.5  154043.jpg    Maitland-Niles   \n4  2020-06-18 18:00:15.974146           4.8   39476.jpg  Papastathopoulos   \n\n   selected_by_percent player_status  team_id  team_code_id  total_points  \\\n0                  0.4             i        1             3            43   \n1                  1.0             a        1             3            44   \n2                  0.5             a        1             3            55   \n3                  2.2             a        1             3            41   \n4                  1.3             a        1             3            57   \n\n   transfers_in  transfers_in_event  transfers_out  transfers_out_event  \\\n0         25007                   0          47630                    0   \n1        206616                   0         159819                    0   \n2         65194                   0         134275                    0   \n3        610816                   0         653555                    0   \n4        182201                   0         231413                    0   \n\n   value_form  ...  minutes goals_scored  assists  clean_sheets  \\\n0         0.3  ...     1205            0        2             4   \n1         0.3  ...     1156            1        0             4   \n2         0.5  ...     1694            0        2             4   \n3         0.1  ...     1382            0        2             3   \n4         0.0  ...     1696            2        0             4   \n\n   goals_conceded  own_goals  penalties_saved  penalties_missed  yellow_cards  \\\n0              17          0                0                 0             2   \n1              18          0                0                 0             2   \n2              26          0                0                 0             4   \n3              22          0                0                 0             4   \n4              25          0                0                 0             6   \n\n   red_cards  saves  bonus  bps  influence  creativity  threat  ict_index  \\\n0          0      0      2  242      277.2        45.5   155.0       47.9   \n1          0      0      4  204      187.8        76.9   103.0       37.0   \n2          0      0      1  331      269.6       182.5    81.0       53.0   \n3          1      0      3  244      301.8       182.0    58.0       53.6   \n4          0      0      5  305      436.2        36.8   110.0       58.5   \n\n   influence_rank  influence_rank_type  creativity_rank  creativity_rank_type  \\\n0             257                  100              352                   122   \n1             322                  124              301                    95   \n2             264                  104              215                    52   \n3             241                   94              216                    53   \n4             166                   62              365                   130   \n\n   threat_rank  threat_rank_type  ict_index_rank  ict_index_rank_type  \n0          234                58             313                  106  \n1          275                81             339                  122  \n2          305                98             293                   96  \n3          337               119             287                   94  \n4          266                76             275                   88  \n\n[5 rows x 52 columns]",
      "text/html": "<div>\n<style scoped>\n    .dataframe tbody tr th:only-of-type {\n        vertical-align: middle;\n    }\n\n    .dataframe tbody tr th {\n        vertical-align: top;\n    }\n\n    .dataframe thead th {\n        text-align: right;\n    }\n</style>\n<table border=\"1\" class=\"dataframe\">\n  <thead>\n    <tr style=\"text-align: right;\">\n      <th></th>\n      <th>chance_of_playing_next_round</th>\n      <th>chance_of_playing_this_round</th>\n      <th>player_code</th>\n      <th>cost_change_start</th>\n      <th>position_id</th>\n      <th>ep_next</th>\n      <th>ep_this</th>\n      <th>event_points</th>\n      <th>first_name</th>\n      <th>player_id</th>\n      <th>player_news</th>\n      <th>news_added</th>\n      <th>player_price</th>\n      <th>photo</th>\n      <th>second_name</th>\n      <th>selected_by_percent</th>\n      <th>player_status</th>\n      <th>team_id</th>\n      <th>team_code_id</th>\n      <th>total_points</th>\n      <th>transfers_in</th>\n      <th>transfers_in_event</th>\n      <th>transfers_out</th>\n      <th>transfers_out_event</th>\n      <th>value_form</th>\n      <th>...</th>\n      <th>minutes</th>\n      <th>goals_scored</th>\n      <th>assists</th>\n      <th>clean_sheets</th>\n      <th>goals_conceded</th>\n      <th>own_goals</th>\n      <th>penalties_saved</th>\n      <th>penalties_missed</th>\n      <th>yellow_cards</th>\n      <th>red_cards</th>\n      <th>saves</th>\n      <th>bonus</th>\n      <th>bps</th>\n      <th>influence</th>\n      <th>creativity</th>\n      <th>threat</th>\n      <th>ict_index</th>\n      <th>influence_rank</th>\n      <th>influence_rank_type</th>\n      <th>creativity_rank</th>\n      <th>creativity_rank_type</th>\n      <th>threat_rank</th>\n      <th>threat_rank_type</th>\n      <th>ict_index_rank</th>\n      <th>ict_index_rank_type</th>\n    </tr>\n  </thead>\n  <tbody>\n    <tr>\n      <td>0</td>\n      <td>0.0</td>\n      <td>0.0</td>\n      <td>69140</td>\n      <td>-4</td>\n      <td>2</td>\n      <td>0.0</td>\n      <td>0.0</td>\n      <td>0</td>\n      <td>Shkodran</td>\n      <td>1</td>\n      <td>Hamstring injury - Unknown return date</td>\n      <td>2020-07-18 22:30:20.553834</td>\n      <td>5.1</td>\n      <td>69140.jpg</td>\n      <td>Mustafi</td>\n      <td>0.4</td>\n      <td>i</td>\n      <td>1</td>\n      <td>3</td>\n      <td>43</td>\n      <td>25007</td>\n      <td>0</td>\n      <td>47630</td>\n      <td>0</td>\n      <td>0.3</td>\n      <td>...</td>\n      <td>1205</td>\n      <td>0</td>\n      <td>2</td>\n      <td>4</td>\n      <td>17</td>\n      <td>0</td>\n      <td>0</td>\n      <td>0</td>\n      <td>2</td>\n      <td>0</td>\n      <td>0</td>\n      <td>2</td>\n      <td>242</td>\n      <td>277.2</td>\n      <td>45.5</td>\n      <td>155.0</td>\n      <td>47.9</td>\n      <td>257</td>\n      <td>100</td>\n      <td>352</td>\n      <td>122</td>\n      <td>234</td>\n      <td>58</td>\n      <td>313</td>\n      <td>106</td>\n    </tr>\n    <tr>\n      <td>1</td>\n      <td>100.0</td>\n      <td>100.0</td>\n      <td>98745</td>\n      <td>-3</td>\n      <td>2</td>\n      <td>2.3</td>\n      <td>2.1</td>\n      <td>0</td>\n      <td>Héctor</td>\n      <td>2</td>\n      <td>NaN</td>\n      <td>2019-12-09 20:00:21.228098</td>\n      <td>5.2</td>\n      <td>98745.jpg</td>\n      <td>Bellerín</td>\n      <td>1.0</td>\n      <td>a</td>\n      <td>1</td>\n      <td>3</td>\n      <td>44</td>\n      <td>206616</td>\n      <td>0</td>\n      <td>159819</td>\n      <td>0</td>\n      <td>0.3</td>\n      <td>...</td>\n      <td>1156</td>\n      <td>1</td>\n      <td>0</td>\n      <td>4</td>\n      <td>18</td>\n      <td>0</td>\n      <td>0</td>\n      <td>0</td>\n      <td>2</td>\n      <td>0</td>\n      <td>0</td>\n      <td>4</td>\n      <td>204</td>\n      <td>187.8</td>\n      <td>76.9</td>\n      <td>103.0</td>\n      <td>37.0</td>\n      <td>322</td>\n      <td>124</td>\n      <td>301</td>\n      <td>95</td>\n      <td>275</td>\n      <td>81</td>\n      <td>339</td>\n      <td>122</td>\n    </tr>\n    <tr>\n      <td>2</td>\n      <td>100.0</td>\n      <td>100.0</td>\n      <td>111457</td>\n      <td>-3</td>\n      <td>2</td>\n      <td>3.3</td>\n      <td>3.1</td>\n      <td>1</td>\n      <td>Sead</td>\n      <td>3</td>\n      <td>NaN</td>\n      <td>2020-02-23 18:30:13.672943</td>\n      <td>5.2</td>\n      <td>111457.jpg</td>\n      <td>Kolasinac</td>\n      <td>0.5</td>\n      <td>a</td>\n      <td>1</td>\n      <td>3</td>\n      <td>55</td>\n      <td>65194</td>\n      <td>0</td>\n      <td>134275</td>\n      <td>0</td>\n      <td>0.5</td>\n      <td>...</td>\n      <td>1694</td>\n      <td>0</td>\n      <td>2</td>\n      <td>4</td>\n      <td>26</td>\n      <td>0</td>\n      <td>0</td>\n      <td>0</td>\n      <td>4</td>\n      <td>0</td>\n      <td>0</td>\n      <td>1</td>\n      <td>331</td>\n      <td>269.6</td>\n      <td>182.5</td>\n      <td>81.0</td>\n      <td>53.0</td>\n      <td>264</td>\n      <td>104</td>\n      <td>215</td>\n      <td>52</td>\n      <td>305</td>\n      <td>98</td>\n      <td>293</td>\n      <td>96</td>\n    </tr>\n    <tr>\n      <td>3</td>\n      <td>100.0</td>\n      <td>100.0</td>\n      <td>154043</td>\n      <td>-5</td>\n      <td>2</td>\n      <td>0.8</td>\n      <td>0.9</td>\n      <td>1</td>\n      <td>Ainsley</td>\n      <td>4</td>\n      <td>NaN</td>\n      <td>2019-09-22 18:00:10.824841</td>\n      <td>4.5</td>\n      <td>154043.jpg</td>\n      <td>Maitland-Niles</td>\n      <td>2.2</td>\n      <td>a</td>\n      <td>1</td>\n      <td>3</td>\n      <td>41</td>\n      <td>610816</td>\n      <td>0</td>\n      <td>653555</td>\n      <td>0</td>\n      <td>0.1</td>\n      <td>...</td>\n      <td>1382</td>\n      <td>0</td>\n      <td>2</td>\n      <td>3</td>\n      <td>22</td>\n      <td>0</td>\n      <td>0</td>\n      <td>0</td>\n      <td>4</td>\n      <td>1</td>\n      <td>0</td>\n      <td>3</td>\n      <td>244</td>\n      <td>301.8</td>\n      <td>182.0</td>\n      <td>58.0</td>\n      <td>53.6</td>\n      <td>241</td>\n      <td>94</td>\n      <td>216</td>\n      <td>53</td>\n      <td>337</td>\n      <td>119</td>\n      <td>287</td>\n      <td>94</td>\n    </tr>\n    <tr>\n      <td>4</td>\n      <td>100.0</td>\n      <td>100.0</td>\n      <td>39476</td>\n      <td>-2</td>\n      <td>2</td>\n      <td>0.5</td>\n      <td>0.5</td>\n      <td>0</td>\n      <td>Sokratis</td>\n      <td>5</td>\n      <td>NaN</td>\n      <td>2020-06-18 18:00:15.974146</td>\n      <td>4.8</td>\n      <td>39476.jpg</td>\n      <td>Papastathopoulos</td>\n      <td>1.3</td>\n      <td>a</td>\n      <td>1</td>\n      <td>3</td>\n      <td>57</td>\n      <td>182201</td>\n      <td>0</td>\n      <td>231413</td>\n      <td>0</td>\n      <td>0.0</td>\n      <td>...</td>\n      <td>1696</td>\n      <td>2</td>\n      <td>0</td>\n      <td>4</td>\n      <td>25</td>\n      <td>0</td>\n      <td>0</td>\n      <td>0</td>\n      <td>6</td>\n      <td>0</td>\n      <td>0</td>\n      <td>5</td>\n      <td>305</td>\n      <td>436.2</td>\n      <td>36.8</td>\n      <td>110.0</td>\n      <td>58.5</td>\n      <td>166</td>\n      <td>62</td>\n      <td>365</td>\n      <td>130</td>\n      <td>266</td>\n      <td>76</td>\n      <td>275</td>\n      <td>88</td>\n    </tr>\n  </tbody>\n</table>\n<p>5 rows × 52 columns</p>\n</div>"
     },
     "metadata": {},
     "execution_count": 54
    }
   ],
   "source": [
    "all_players.head()"
   ]
  },
  {
   "cell_type": "code",
   "execution_count": 55,
   "metadata": {},
   "outputs": [
    {
     "output_type": "execute_result",
     "data": {
      "text/plain": "  season_name  start_cost  end_cost  total_points  minutes  goals_scored  \\\n0     2009/10         4.5       4.5             0        0             0   \n1     2010/11         4.0       4.0             0        0             0   \n2     2011/12         5.0       5.0             0        0             0   \n3     2012/13         4.0       4.0             0        0             0   \n4     2016/17         6.0       5.8            90     2274             2   \n\n   assists  clean_sheets  goals_conceded  own_goals  penalties_saved  \\\n0        0             0               0          0                0   \n1        0             0               0          0                0   \n2        0             0               0          0                0   \n3        0             0               0          0                0   \n4        2             8              30          0                0   \n\n   penalties_missed  yellow_cards  red_cards  saves  bonus  bps influence  \\\n0                 0             0          0      0      0    0       0.0   \n1                 0             0          0      0      0    0       0.0   \n2                 0             0          0      0      0    0       0.0   \n3                 0             0          0      0      0    0       0.0   \n4                 0            11          0      0      8  513     598.2   \n\n  creativity threat ict_index web_name  player_id  \n0        0.0    0.0       0.0  Mustafi          1  \n1        0.0    0.0       0.0  Mustafi          1  \n2        0.0    0.0       0.0  Mustafi          1  \n3        0.0    0.0       0.0  Mustafi          1  \n4      159.7  364.0     112.4  Mustafi          1  ",
      "text/html": "<div>\n<style scoped>\n    .dataframe tbody tr th:only-of-type {\n        vertical-align: middle;\n    }\n\n    .dataframe tbody tr th {\n        vertical-align: top;\n    }\n\n    .dataframe thead th {\n        text-align: right;\n    }\n</style>\n<table border=\"1\" class=\"dataframe\">\n  <thead>\n    <tr style=\"text-align: right;\">\n      <th></th>\n      <th>season_name</th>\n      <th>start_cost</th>\n      <th>end_cost</th>\n      <th>total_points</th>\n      <th>minutes</th>\n      <th>goals_scored</th>\n      <th>assists</th>\n      <th>clean_sheets</th>\n      <th>goals_conceded</th>\n      <th>own_goals</th>\n      <th>penalties_saved</th>\n      <th>penalties_missed</th>\n      <th>yellow_cards</th>\n      <th>red_cards</th>\n      <th>saves</th>\n      <th>bonus</th>\n      <th>bps</th>\n      <th>influence</th>\n      <th>creativity</th>\n      <th>threat</th>\n      <th>ict_index</th>\n      <th>web_name</th>\n      <th>player_id</th>\n    </tr>\n  </thead>\n  <tbody>\n    <tr>\n      <td>0</td>\n      <td>2009/10</td>\n      <td>4.5</td>\n      <td>4.5</td>\n      <td>0</td>\n      <td>0</td>\n      <td>0</td>\n      <td>0</td>\n      <td>0</td>\n      <td>0</td>\n      <td>0</td>\n      <td>0</td>\n      <td>0</td>\n      <td>0</td>\n      <td>0</td>\n      <td>0</td>\n      <td>0</td>\n      <td>0</td>\n      <td>0.0</td>\n      <td>0.0</td>\n      <td>0.0</td>\n      <td>0.0</td>\n      <td>Mustafi</td>\n      <td>1</td>\n    </tr>\n    <tr>\n      <td>1</td>\n      <td>2010/11</td>\n      <td>4.0</td>\n      <td>4.0</td>\n      <td>0</td>\n      <td>0</td>\n      <td>0</td>\n      <td>0</td>\n      <td>0</td>\n      <td>0</td>\n      <td>0</td>\n      <td>0</td>\n      <td>0</td>\n      <td>0</td>\n      <td>0</td>\n      <td>0</td>\n      <td>0</td>\n      <td>0</td>\n      <td>0.0</td>\n      <td>0.0</td>\n      <td>0.0</td>\n      <td>0.0</td>\n      <td>Mustafi</td>\n      <td>1</td>\n    </tr>\n    <tr>\n      <td>2</td>\n      <td>2011/12</td>\n      <td>5.0</td>\n      <td>5.0</td>\n      <td>0</td>\n      <td>0</td>\n      <td>0</td>\n      <td>0</td>\n      <td>0</td>\n      <td>0</td>\n      <td>0</td>\n      <td>0</td>\n      <td>0</td>\n      <td>0</td>\n      <td>0</td>\n      <td>0</td>\n      <td>0</td>\n      <td>0</td>\n      <td>0.0</td>\n      <td>0.0</td>\n      <td>0.0</td>\n      <td>0.0</td>\n      <td>Mustafi</td>\n      <td>1</td>\n    </tr>\n    <tr>\n      <td>3</td>\n      <td>2012/13</td>\n      <td>4.0</td>\n      <td>4.0</td>\n      <td>0</td>\n      <td>0</td>\n      <td>0</td>\n      <td>0</td>\n      <td>0</td>\n      <td>0</td>\n      <td>0</td>\n      <td>0</td>\n      <td>0</td>\n      <td>0</td>\n      <td>0</td>\n      <td>0</td>\n      <td>0</td>\n      <td>0</td>\n      <td>0.0</td>\n      <td>0.0</td>\n      <td>0.0</td>\n      <td>0.0</td>\n      <td>Mustafi</td>\n      <td>1</td>\n    </tr>\n    <tr>\n      <td>4</td>\n      <td>2016/17</td>\n      <td>6.0</td>\n      <td>5.8</td>\n      <td>90</td>\n      <td>2274</td>\n      <td>2</td>\n      <td>2</td>\n      <td>8</td>\n      <td>30</td>\n      <td>0</td>\n      <td>0</td>\n      <td>0</td>\n      <td>11</td>\n      <td>0</td>\n      <td>0</td>\n      <td>8</td>\n      <td>513</td>\n      <td>598.2</td>\n      <td>159.7</td>\n      <td>364.0</td>\n      <td>112.4</td>\n      <td>Mustafi</td>\n      <td>1</td>\n    </tr>\n  </tbody>\n</table>\n</div>"
     },
     "metadata": {},
     "execution_count": 55
    }
   ],
   "source": [
    "player_season_history.start_cost = player_season_history.start_cost / 10\n",
    "player_season_history.end_cost = player_season_history.end_cost / 10\n",
    "\n",
    "df_merge = all_players[[\"player_code\", \"web_name\", \"player_id\"]]\n",
    "\n",
    "player_season_history = player_season_history.merge(df_merge, left_on=\"element_code\", right_on=\"player_code\")\n",
    "player_season_history.drop([\"element_code\" , \"player_code\"], axis = 1, inplace = True)\n",
    "\n",
    "player_season_history.head()"
   ]
  },
  {
   "cell_type": "markdown",
   "metadata": {},
   "source": [
    "### Player Gameweek History"
   ]
  },
  {
   "cell_type": "code",
   "execution_count": 56,
   "metadata": {},
   "outputs": [
    {
     "output_type": "execute_result",
     "data": {
      "text/plain": "   element  fixture  opponent_team  total_points  was_home  \\\n0        1       10             13             0     False   \n1        1       11              5             0      True   \n2        1       24             10             0     False   \n3        1       31             17             0      True   \n4        1       49             18             0     False   \n\n           kickoff_time  team_h_score  team_a_score  round  minutes  \\\n0  2019-08-11T13:00:00Z             0             1      1        0   \n1  2019-08-17T11:30:00Z             2             1      2        0   \n2  2019-08-24T16:30:00Z             3             1      3        0   \n3  2019-09-01T15:30:00Z             2             2      4        0   \n4  2019-09-15T15:30:00Z             2             2      5        0   \n\n   goals_scored  assists  clean_sheets  goals_conceded  own_goals  \\\n0             0        0             0               0          0   \n1             0        0             0               0          0   \n2             0        0             0               0          0   \n3             0        0             0               0          0   \n4             0        0             0               0          0   \n\n   penalties_saved  penalties_missed  yellow_cards  red_cards  saves  bonus  \\\n0                0                 0             0          0      0      0   \n1                0                 0             0          0      0      0   \n2                0                 0             0          0      0      0   \n3                0                 0             0          0      0      0   \n4                0                 0             0          0      0      0   \n\n   bps influence creativity threat ict_index  value  transfers_balance  \\\n0    0       0.0        0.0    0.0       0.0     55                  0   \n1    0       0.0        0.0    0.0       0.0     55              -5280   \n2    0       0.0        0.0    0.0       0.0     54              -6882   \n3    0       0.0        0.0    0.0       0.0     54              -3872   \n4    0       0.0        0.0    0.0       0.0     53              -2073   \n\n   selected  transfers_in  transfers_out  \n0     33117             0              0  \n1     36709          2868           8148  \n2     30975           534           7416  \n3     28096           346           4218  \n4     26902           581           2654  ",
      "text/html": "<div>\n<style scoped>\n    .dataframe tbody tr th:only-of-type {\n        vertical-align: middle;\n    }\n\n    .dataframe tbody tr th {\n        vertical-align: top;\n    }\n\n    .dataframe thead th {\n        text-align: right;\n    }\n</style>\n<table border=\"1\" class=\"dataframe\">\n  <thead>\n    <tr style=\"text-align: right;\">\n      <th></th>\n      <th>element</th>\n      <th>fixture</th>\n      <th>opponent_team</th>\n      <th>total_points</th>\n      <th>was_home</th>\n      <th>kickoff_time</th>\n      <th>team_h_score</th>\n      <th>team_a_score</th>\n      <th>round</th>\n      <th>minutes</th>\n      <th>goals_scored</th>\n      <th>assists</th>\n      <th>clean_sheets</th>\n      <th>goals_conceded</th>\n      <th>own_goals</th>\n      <th>penalties_saved</th>\n      <th>penalties_missed</th>\n      <th>yellow_cards</th>\n      <th>red_cards</th>\n      <th>saves</th>\n      <th>bonus</th>\n      <th>bps</th>\n      <th>influence</th>\n      <th>creativity</th>\n      <th>threat</th>\n      <th>ict_index</th>\n      <th>value</th>\n      <th>transfers_balance</th>\n      <th>selected</th>\n      <th>transfers_in</th>\n      <th>transfers_out</th>\n    </tr>\n  </thead>\n  <tbody>\n    <tr>\n      <td>0</td>\n      <td>1</td>\n      <td>10</td>\n      <td>13</td>\n      <td>0</td>\n      <td>False</td>\n      <td>2019-08-11T13:00:00Z</td>\n      <td>0</td>\n      <td>1</td>\n      <td>1</td>\n      <td>0</td>\n      <td>0</td>\n      <td>0</td>\n      <td>0</td>\n      <td>0</td>\n      <td>0</td>\n      <td>0</td>\n      <td>0</td>\n      <td>0</td>\n      <td>0</td>\n      <td>0</td>\n      <td>0</td>\n      <td>0</td>\n      <td>0.0</td>\n      <td>0.0</td>\n      <td>0.0</td>\n      <td>0.0</td>\n      <td>55</td>\n      <td>0</td>\n      <td>33117</td>\n      <td>0</td>\n      <td>0</td>\n    </tr>\n    <tr>\n      <td>1</td>\n      <td>1</td>\n      <td>11</td>\n      <td>5</td>\n      <td>0</td>\n      <td>True</td>\n      <td>2019-08-17T11:30:00Z</td>\n      <td>2</td>\n      <td>1</td>\n      <td>2</td>\n      <td>0</td>\n      <td>0</td>\n      <td>0</td>\n      <td>0</td>\n      <td>0</td>\n      <td>0</td>\n      <td>0</td>\n      <td>0</td>\n      <td>0</td>\n      <td>0</td>\n      <td>0</td>\n      <td>0</td>\n      <td>0</td>\n      <td>0.0</td>\n      <td>0.0</td>\n      <td>0.0</td>\n      <td>0.0</td>\n      <td>55</td>\n      <td>-5280</td>\n      <td>36709</td>\n      <td>2868</td>\n      <td>8148</td>\n    </tr>\n    <tr>\n      <td>2</td>\n      <td>1</td>\n      <td>24</td>\n      <td>10</td>\n      <td>0</td>\n      <td>False</td>\n      <td>2019-08-24T16:30:00Z</td>\n      <td>3</td>\n      <td>1</td>\n      <td>3</td>\n      <td>0</td>\n      <td>0</td>\n      <td>0</td>\n      <td>0</td>\n      <td>0</td>\n      <td>0</td>\n      <td>0</td>\n      <td>0</td>\n      <td>0</td>\n      <td>0</td>\n      <td>0</td>\n      <td>0</td>\n      <td>0</td>\n      <td>0.0</td>\n      <td>0.0</td>\n      <td>0.0</td>\n      <td>0.0</td>\n      <td>54</td>\n      <td>-6882</td>\n      <td>30975</td>\n      <td>534</td>\n      <td>7416</td>\n    </tr>\n    <tr>\n      <td>3</td>\n      <td>1</td>\n      <td>31</td>\n      <td>17</td>\n      <td>0</td>\n      <td>True</td>\n      <td>2019-09-01T15:30:00Z</td>\n      <td>2</td>\n      <td>2</td>\n      <td>4</td>\n      <td>0</td>\n      <td>0</td>\n      <td>0</td>\n      <td>0</td>\n      <td>0</td>\n      <td>0</td>\n      <td>0</td>\n      <td>0</td>\n      <td>0</td>\n      <td>0</td>\n      <td>0</td>\n      <td>0</td>\n      <td>0</td>\n      <td>0.0</td>\n      <td>0.0</td>\n      <td>0.0</td>\n      <td>0.0</td>\n      <td>54</td>\n      <td>-3872</td>\n      <td>28096</td>\n      <td>346</td>\n      <td>4218</td>\n    </tr>\n    <tr>\n      <td>4</td>\n      <td>1</td>\n      <td>49</td>\n      <td>18</td>\n      <td>0</td>\n      <td>False</td>\n      <td>2019-09-15T15:30:00Z</td>\n      <td>2</td>\n      <td>2</td>\n      <td>5</td>\n      <td>0</td>\n      <td>0</td>\n      <td>0</td>\n      <td>0</td>\n      <td>0</td>\n      <td>0</td>\n      <td>0</td>\n      <td>0</td>\n      <td>0</td>\n      <td>0</td>\n      <td>0</td>\n      <td>0</td>\n      <td>0</td>\n      <td>0.0</td>\n      <td>0.0</td>\n      <td>0.0</td>\n      <td>0.0</td>\n      <td>53</td>\n      <td>-2073</td>\n      <td>26902</td>\n      <td>581</td>\n      <td>2654</td>\n    </tr>\n  </tbody>\n</table>\n</div>"
     },
     "metadata": {},
     "execution_count": 56
    }
   ],
   "source": [
    "player_gameweek_history.head()"
   ]
  },
  {
   "cell_type": "code",
   "execution_count": 57,
   "metadata": {},
   "outputs": [
    {
     "output_type": "execute_result",
     "data": {
      "text/plain": "   team_code_id  team_id         name short_name  strength  \\\n0             3        1      Arsenal        ARS         4   \n1             7        2  Aston Villa        AVL         2   \n2            91        3  Bournemouth        BOU         2   \n3            36        4     Brighton        BHA         2   \n4            90        5      Burnley        BUR         3   \n\n   strength_overall_home  strength_overall_away  strength_attack_home  \\\n0                   1180                   1240                  1170   \n1                   1020                   1050                   970   \n2                   1020                   1020                   990   \n3                   1050                   1010                  1100   \n4                   1110                   1180                  1130   \n\n   strength_attack_away  strength_defence_home  strength_defence_away  \n0                  1170                   1150                   1200  \n1                   980                   1000                   1040  \n2                  1030                   1000                   1050  \n3                  1100                   1040                   1030  \n4                  1070                    970                   1110  ",
      "text/html": "<div>\n<style scoped>\n    .dataframe tbody tr th:only-of-type {\n        vertical-align: middle;\n    }\n\n    .dataframe tbody tr th {\n        vertical-align: top;\n    }\n\n    .dataframe thead th {\n        text-align: right;\n    }\n</style>\n<table border=\"1\" class=\"dataframe\">\n  <thead>\n    <tr style=\"text-align: right;\">\n      <th></th>\n      <th>team_code_id</th>\n      <th>team_id</th>\n      <th>name</th>\n      <th>short_name</th>\n      <th>strength</th>\n      <th>strength_overall_home</th>\n      <th>strength_overall_away</th>\n      <th>strength_attack_home</th>\n      <th>strength_attack_away</th>\n      <th>strength_defence_home</th>\n      <th>strength_defence_away</th>\n    </tr>\n  </thead>\n  <tbody>\n    <tr>\n      <td>0</td>\n      <td>3</td>\n      <td>1</td>\n      <td>Arsenal</td>\n      <td>ARS</td>\n      <td>4</td>\n      <td>1180</td>\n      <td>1240</td>\n      <td>1170</td>\n      <td>1170</td>\n      <td>1150</td>\n      <td>1200</td>\n    </tr>\n    <tr>\n      <td>1</td>\n      <td>7</td>\n      <td>2</td>\n      <td>Aston Villa</td>\n      <td>AVL</td>\n      <td>2</td>\n      <td>1020</td>\n      <td>1050</td>\n      <td>970</td>\n      <td>980</td>\n      <td>1000</td>\n      <td>1040</td>\n    </tr>\n    <tr>\n      <td>2</td>\n      <td>91</td>\n      <td>3</td>\n      <td>Bournemouth</td>\n      <td>BOU</td>\n      <td>2</td>\n      <td>1020</td>\n      <td>1020</td>\n      <td>990</td>\n      <td>1030</td>\n      <td>1000</td>\n      <td>1050</td>\n    </tr>\n    <tr>\n      <td>3</td>\n      <td>36</td>\n      <td>4</td>\n      <td>Brighton</td>\n      <td>BHA</td>\n      <td>2</td>\n      <td>1050</td>\n      <td>1010</td>\n      <td>1100</td>\n      <td>1100</td>\n      <td>1040</td>\n      <td>1030</td>\n    </tr>\n    <tr>\n      <td>4</td>\n      <td>90</td>\n      <td>5</td>\n      <td>Burnley</td>\n      <td>BUR</td>\n      <td>3</td>\n      <td>1110</td>\n      <td>1180</td>\n      <td>1130</td>\n      <td>1070</td>\n      <td>970</td>\n      <td>1110</td>\n    </tr>\n  </tbody>\n</table>\n</div>"
     },
     "metadata": {},
     "execution_count": 57
    }
   ],
   "source": [
    "all_teams.head()"
   ]
  },
  {
   "cell_type": "code",
   "execution_count": 58,
   "metadata": {},
   "outputs": [],
   "source": [
    "df_merge = all_teams[[\"team_id\",\"strength\" , \"short_name\"]]\n",
    "merged_data = player_gameweek_history.merge(df_merge, left_on=\"opponent_team\", right_on=\"team_id\")\n",
    "\n",
    "df_merge2 = all_players[[\"player_id\", \"web_name\" , \"position_id\" , \"player_price\"]]\n",
    "merged_data = merged_data.merge(df_merge2, left_on=\"element\", right_on=\"player_id\")\n",
    "\n",
    "merged_data['kickoff_time'] = pd.to_datetime(merged_data['kickoff_time'])\n",
    "merged_data['kickoff_time'] = merged_data['kickoff_time'].dt.tz_localize(None)\n",
    "\n",
    "merged_data.drop([\"element\"], axis = 1, inplace = True)\n",
    "merged_data.rename(columns = {\"fixture\" : \"fixture_id\" , \"opponent_team\" : \"opponent_team_id\" , \"round\" : \"gameweek_id\" , \"value\" : \"player_price\", \"short_name\" : \"opponent_team_name\" , \"strength\" : \"opponent_strength\"}, inplace = True)\n",
    "\n",
    "merged_data.sort_values(\"gameweek_id\" , ascending = True , inplace = True)\n",
    "\n"
   ]
  },
  {
   "cell_type": "code",
   "execution_count": 59,
   "metadata": {},
   "outputs": [
    {
     "output_type": "execute_result",
     "data": {
      "text/plain": "       fixture_id  opponent_team_id  total_points  was_home  \\\n0              10                13             0     False   \n16050           2                15             0      True   \n5086            4                 8             2      True   \n5048            4                 8             1      True   \n12282           6                 2             0      True   \n\n             kickoff_time  team_h_score  team_a_score  gameweek_id  minutes  \\\n0     2019-08-11 13:00:00             0             1            1        0   \n16050 2019-08-10 14:00:00             1             1            1        0   \n5086  2019-08-10 14:00:00             0             0            1       90   \n5048  2019-08-10 14:00:00             0             0            1       25   \n12282 2019-08-10 16:30:00             3             1            1        0   \n\n       goals_scored  assists  clean_sheets  goals_conceded  own_goals  \\\n0                 0        0             0               0          0   \n16050             0        0             0               0          0   \n5086              0        0             1               0          0   \n5048              0        0             0               0          0   \n12282             0        0             0               0          0   \n\n       penalties_saved  penalties_missed  yellow_cards  red_cards  saves  \\\n0                    0                 0             0          0      0   \n16050                0                 0             0          0      0   \n5086                 0                 0             1          0      0   \n5048                 0                 0             0          0      0   \n12282                0                 0             0          0      0   \n\n       bonus  bps influence creativity threat ict_index  player_price  \\\n0          0    0       0.0        0.0    0.0       0.0            55   \n16050      0    0       0.0        0.0    0.0       0.0            45   \n5086       0   -2       1.6       14.8    0.0       1.6            70   \n5048       0    1       4.4        0.8   32.0       3.7            70   \n12282      0    0       0.0        0.0    0.0       0.0            85   \n\n       transfers_balance  selected  transfers_in  transfers_out  team_id  \\\n0                      0     33117             0              0       13   \n16050                  0      8835             0              0       15   \n5086                   0    495302             0              0        8   \n5048                   0   1082439             0              0        8   \n12282                  0     38989             0              0        2   \n\n       opponent_strength opponent_team_name  player_id     web_name  \\\n0                      3                NEW          1      Mustafi   \n16050                  3                SHU        446       Stacey   \n5086                   3                EVE        134  Milivojevic   \n5048                   3                EVE        133         Zaha   \n12282                  2                AVL        344         Alli   \n\n       position_id  player_price  \n0                2           5.1  \n16050            2           4.3  \n5086             3           6.7  \n5048             3           6.6  \n12282            3           8.3  ",
      "text/html": "<div>\n<style scoped>\n    .dataframe tbody tr th:only-of-type {\n        vertical-align: middle;\n    }\n\n    .dataframe tbody tr th {\n        vertical-align: top;\n    }\n\n    .dataframe thead th {\n        text-align: right;\n    }\n</style>\n<table border=\"1\" class=\"dataframe\">\n  <thead>\n    <tr style=\"text-align: right;\">\n      <th></th>\n      <th>fixture_id</th>\n      <th>opponent_team_id</th>\n      <th>total_points</th>\n      <th>was_home</th>\n      <th>kickoff_time</th>\n      <th>team_h_score</th>\n      <th>team_a_score</th>\n      <th>gameweek_id</th>\n      <th>minutes</th>\n      <th>goals_scored</th>\n      <th>assists</th>\n      <th>clean_sheets</th>\n      <th>goals_conceded</th>\n      <th>own_goals</th>\n      <th>penalties_saved</th>\n      <th>penalties_missed</th>\n      <th>yellow_cards</th>\n      <th>red_cards</th>\n      <th>saves</th>\n      <th>bonus</th>\n      <th>bps</th>\n      <th>influence</th>\n      <th>creativity</th>\n      <th>threat</th>\n      <th>ict_index</th>\n      <th>player_price</th>\n      <th>transfers_balance</th>\n      <th>selected</th>\n      <th>transfers_in</th>\n      <th>transfers_out</th>\n      <th>team_id</th>\n      <th>opponent_strength</th>\n      <th>opponent_team_name</th>\n      <th>player_id</th>\n      <th>web_name</th>\n      <th>position_id</th>\n      <th>player_price</th>\n    </tr>\n  </thead>\n  <tbody>\n    <tr>\n      <td>0</td>\n      <td>10</td>\n      <td>13</td>\n      <td>0</td>\n      <td>False</td>\n      <td>2019-08-11 13:00:00</td>\n      <td>0</td>\n      <td>1</td>\n      <td>1</td>\n      <td>0</td>\n      <td>0</td>\n      <td>0</td>\n      <td>0</td>\n      <td>0</td>\n      <td>0</td>\n      <td>0</td>\n      <td>0</td>\n      <td>0</td>\n      <td>0</td>\n      <td>0</td>\n      <td>0</td>\n      <td>0</td>\n      <td>0.0</td>\n      <td>0.0</td>\n      <td>0.0</td>\n      <td>0.0</td>\n      <td>55</td>\n      <td>0</td>\n      <td>33117</td>\n      <td>0</td>\n      <td>0</td>\n      <td>13</td>\n      <td>3</td>\n      <td>NEW</td>\n      <td>1</td>\n      <td>Mustafi</td>\n      <td>2</td>\n      <td>5.1</td>\n    </tr>\n    <tr>\n      <td>16050</td>\n      <td>2</td>\n      <td>15</td>\n      <td>0</td>\n      <td>True</td>\n      <td>2019-08-10 14:00:00</td>\n      <td>1</td>\n      <td>1</td>\n      <td>1</td>\n      <td>0</td>\n      <td>0</td>\n      <td>0</td>\n      <td>0</td>\n      <td>0</td>\n      <td>0</td>\n      <td>0</td>\n      <td>0</td>\n      <td>0</td>\n      <td>0</td>\n      <td>0</td>\n      <td>0</td>\n      <td>0</td>\n      <td>0.0</td>\n      <td>0.0</td>\n      <td>0.0</td>\n      <td>0.0</td>\n      <td>45</td>\n      <td>0</td>\n      <td>8835</td>\n      <td>0</td>\n      <td>0</td>\n      <td>15</td>\n      <td>3</td>\n      <td>SHU</td>\n      <td>446</td>\n      <td>Stacey</td>\n      <td>2</td>\n      <td>4.3</td>\n    </tr>\n    <tr>\n      <td>5086</td>\n      <td>4</td>\n      <td>8</td>\n      <td>2</td>\n      <td>True</td>\n      <td>2019-08-10 14:00:00</td>\n      <td>0</td>\n      <td>0</td>\n      <td>1</td>\n      <td>90</td>\n      <td>0</td>\n      <td>0</td>\n      <td>1</td>\n      <td>0</td>\n      <td>0</td>\n      <td>0</td>\n      <td>0</td>\n      <td>1</td>\n      <td>0</td>\n      <td>0</td>\n      <td>0</td>\n      <td>-2</td>\n      <td>1.6</td>\n      <td>14.8</td>\n      <td>0.0</td>\n      <td>1.6</td>\n      <td>70</td>\n      <td>0</td>\n      <td>495302</td>\n      <td>0</td>\n      <td>0</td>\n      <td>8</td>\n      <td>3</td>\n      <td>EVE</td>\n      <td>134</td>\n      <td>Milivojevic</td>\n      <td>3</td>\n      <td>6.7</td>\n    </tr>\n    <tr>\n      <td>5048</td>\n      <td>4</td>\n      <td>8</td>\n      <td>1</td>\n      <td>True</td>\n      <td>2019-08-10 14:00:00</td>\n      <td>0</td>\n      <td>0</td>\n      <td>1</td>\n      <td>25</td>\n      <td>0</td>\n      <td>0</td>\n      <td>0</td>\n      <td>0</td>\n      <td>0</td>\n      <td>0</td>\n      <td>0</td>\n      <td>0</td>\n      <td>0</td>\n      <td>0</td>\n      <td>0</td>\n      <td>1</td>\n      <td>4.4</td>\n      <td>0.8</td>\n      <td>32.0</td>\n      <td>3.7</td>\n      <td>70</td>\n      <td>0</td>\n      <td>1082439</td>\n      <td>0</td>\n      <td>0</td>\n      <td>8</td>\n      <td>3</td>\n      <td>EVE</td>\n      <td>133</td>\n      <td>Zaha</td>\n      <td>3</td>\n      <td>6.6</td>\n    </tr>\n    <tr>\n      <td>12282</td>\n      <td>6</td>\n      <td>2</td>\n      <td>0</td>\n      <td>True</td>\n      <td>2019-08-10 16:30:00</td>\n      <td>3</td>\n      <td>1</td>\n      <td>1</td>\n      <td>0</td>\n      <td>0</td>\n      <td>0</td>\n      <td>0</td>\n      <td>0</td>\n      <td>0</td>\n      <td>0</td>\n      <td>0</td>\n      <td>0</td>\n      <td>0</td>\n      <td>0</td>\n      <td>0</td>\n      <td>0</td>\n      <td>0.0</td>\n      <td>0.0</td>\n      <td>0.0</td>\n      <td>0.0</td>\n      <td>85</td>\n      <td>0</td>\n      <td>38989</td>\n      <td>0</td>\n      <td>0</td>\n      <td>2</td>\n      <td>2</td>\n      <td>AVL</td>\n      <td>344</td>\n      <td>Alli</td>\n      <td>3</td>\n      <td>8.3</td>\n    </tr>\n  </tbody>\n</table>\n</div>"
     },
     "metadata": {},
     "execution_count": 59
    }
   ],
   "source": [
    "merged_data.head()"
   ]
  },
  {
   "cell_type": "markdown",
   "metadata": {},
   "source": [
    "### Player Future Fixture"
   ]
  },
  {
   "cell_type": "code",
   "execution_count": 60,
   "metadata": {},
   "outputs": [
    {
     "output_type": "execute_result",
     "data": {
      "text/plain": "Empty DataFrame\nColumns: []\nIndex: []",
      "text/html": "<div>\n<style scoped>\n    .dataframe tbody tr th:only-of-type {\n        vertical-align: middle;\n    }\n\n    .dataframe tbody tr th {\n        vertical-align: top;\n    }\n\n    .dataframe thead th {\n        text-align: right;\n    }\n</style>\n<table border=\"1\" class=\"dataframe\">\n  <thead>\n    <tr style=\"text-align: right;\">\n      <th></th>\n    </tr>\n  </thead>\n  <tbody>\n  </tbody>\n</table>\n</div>"
     },
     "metadata": {},
     "execution_count": 60
    }
   ],
   "source": [
    "player_future_fixture"
   ]
  },
  {
   "cell_type": "code",
   "execution_count": 61,
   "metadata": {},
   "outputs": [],
   "source": [
    "#player_future_fixture['kickoff_time'] = pd.to_datetime(player_future_fixture['kickoff_time'])\n",
    "#player_future_fixture['kickoff_time'] = player_future_fixture['kickoff_time'].dt.tz_localize(None)\n",
    "\n",
    "#player_future_fixture.drop([\"team_h_score\", \"team_a_score\", \"finished\", \"minutes\", \"provisional_start_time\"], axis = 1, inplace = True)\n",
    "\n",
    "#player_future_fixture.rename(columns = {\"id\" : \"fixture_id\" , \"code\" : \"fixture_code\" , \"team_h\" : \"team_h_id\" , \"team_a\" : \"team_a_id\" , \"event\" : \"gameweek_id\" , \"event_name\" : \"gameweek_name\"}, inplace=True)"
   ]
  },
  {
   "cell_type": "code",
   "execution_count": 62,
   "metadata": {},
   "outputs": [],
   "source": [
    "#player_future_fixture.head()"
   ]
  },
  {
   "cell_type": "markdown",
   "metadata": {},
   "source": [
    "## Saving to File"
   ]
  },
  {
   "cell_type": "code",
   "execution_count": 63,
   "metadata": {},
   "outputs": [],
   "source": [
    "player_season_history.to_csv (r'./data/player_past_history/player_season_history.csv', index = False, header=True)\n",
    "merged_data.to_csv (r'./data/player_past_history/merged_data.csv', index = False, header=True)\n",
    "#player_future_fixture.to_csv (r'./data/player_past_history/player_future_fixture.csv', index = False, header=True)\n",
    "\n",
    "\n"
   ]
  },
  {
   "cell_type": "code",
   "execution_count": null,
   "metadata": {},
   "outputs": [],
   "source": []
  }
 ]
}