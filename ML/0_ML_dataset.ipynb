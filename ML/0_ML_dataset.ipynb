{
 "metadata": {
  "language_info": {
   "codemirror_mode": {
    "name": "ipython",
    "version": 3
   },
   "file_extension": ".py",
   "mimetype": "text/x-python",
   "name": "python",
   "nbconvert_exporter": "python",
   "pygments_lexer": "ipython3",
   "version": "3.7.7-final"
  },
  "orig_nbformat": 2,
  "kernelspec": {
   "name": "python3",
   "display_name": "Python 3.7.7 64-bit ('myenv': conda)",
   "metadata": {
    "interpreter": {
     "hash": "fdf57215a5f56010e9ede23b27ef6ea5e8b579dfd3e59153b8254afa0cbecfac"
    }
   }
  }
 },
 "nbformat": 4,
 "nbformat_minor": 2,
 "cells": [
  {
   "cell_type": "code",
   "execution_count": 85,
   "metadata": {},
   "outputs": [],
   "source": [
    "import numpy as np\n",
    "import pandas as pd\n",
    "import requests\n",
    "from datetime import datetime\n",
    "import json\n",
    "\n",
    "#Set Display options\n",
    "pd.set_option('display.max_rows', 50)\n",
    "pd.set_option('display.width' , 1000)\n",
    "pd.set_option('display.max_columns', None)\n"
   ]
  },
  {
   "cell_type": "code",
   "execution_count": 86,
   "metadata": {},
   "outputs": [],
   "source": [
    "# Variables\n",
    "season = \"2020-21\""
   ]
  },
  {
   "cell_type": "code",
   "execution_count": 87,
   "metadata": {},
   "outputs": [],
   "source": [
    "all_players = pd.read_csv (r'../data/' + season + '/Raw_data/all_players.csv', parse_dates= [\"news_added\"])\n",
    "all_teams = pd.read_csv (r'../data/' + season + '/Raw_data/all_teams.csv')\n",
    "all_events = pd.read_csv (r'../data/' + season + '/Raw_data/all_events.csv', parse_dates= [\"deadline_time\"])\n",
    "player_types = pd.read_csv(r'../data/' + season + '/Raw_data/player_types.csv')\n",
    "\n",
    "understat_player = pd.read_csv(r'../data/' + season + '/Raw_data/understat/players/understat_player.csv')\n",
    "mapping_understat = pd.read_excel(r'../data/mapping_tables.xlsx' , sheet_name = \"understat\")\n",
    "\n",
    "\n",
    "player_season_history = pd.read_csv(r'../data/' + season + '/Raw_data/player_season_history.csv')\n",
    "player_gameweek_history = pd.read_csv(r'../data/' + season + '/Raw_data/player_gameweek_history.csv')\n",
    "player_future_fixture = pd.read_csv(r'../data/' + season + '/Raw_data/player_future_fixture.csv', parse_dates = [\"kickoff_time\"])\n",
    "\n"
   ]
  },
  {
   "cell_type": "markdown",
   "metadata": {},
   "source": [
    "## RENAME COLUMNS"
   ]
  },
  {
   "cell_type": "code",
   "execution_count": 88,
   "metadata": {},
   "outputs": [],
   "source": [
    "mapping_understat.rename(\n",
    "    columns = {\n",
    "        \"fpl_id\" : \"player_id\"\n",
    "    },\n",
    "    inplace = True\n",
    ")\n",
    "\n",
    "player_gameweek_history.rename(\n",
    "    columns = {\n",
    "        \"element\" : \"player_id\" , \n",
    "        \"opponent_team\" : \"opponent_team_id\" , \n",
    "        \"fixture\" : \"fixture_id\" ,\n",
    "        \"minutes\" : \"minutes_played\" ,\n",
    "        \"was_home\" : \"home_game\" , \n",
    "        \"value\" : \"player_price\"\n",
    "        }, \n",
    "        inplace = True\n",
    ")\n",
    "\n",
    "all_players.rename(\n",
    "    columns = {\n",
    "        \"code\" : \"player_code\", \n",
    "        \"element_type\" : \"player_type_id\" , \n",
    "        \"minutes\" : \"total_minutes\" , \n",
    "        \"id\" : \"player_id\" , \n",
    "        \"team\" : \"team_id\" , \n",
    "        \"ep_next\" : \"expected_points_next_gw\" ,\n",
    "        \"ep_this\" : \"expected_points_this_gw\" ,\n",
    "        \"news\" : \"player_news\" ,\n",
    "        \"now_cost\" : \"player_price\" ,\n",
    "        \"transfers_in\" : \"total_transfers_in\" ,\n",
    "        \"transfers_out\" : \"total_transfers_out\" ,\n",
    "        \"photo\" : \"player_photo\"\n",
    "        }, \n",
    "        inplace=True\n",
    ")\n",
    "\n",
    "all_teams.rename(\n",
    "    columns = {\n",
    "        \"id\" : \"team_id\" , \n",
    "        \"code\" : \"team_code\" , \n",
    "        \"name\" : \"team_name\" , \n",
    "        \"short_name\" : \"team_short_name\" , \n",
    "        \"strength\" : \"team_strength\" , \n",
    "        \"form\" : \"team_form\"\n",
    "        }, \n",
    "        inplace = True\n",
    ")\n",
    "\n",
    "all_events.rename(\n",
    "    columns = {\n",
    "        \"id\" : \"gameweek_id\"\n",
    "        }, \n",
    "        inplace = True\n",
    ")\n",
    "\n",
    "player_types.rename(\n",
    "    columns = {\n",
    "        \"id\" : \"player_type_id\" , \n",
    "        \"singular_name\" : \"position_name\" , \n",
    "        \"singular_name_short\" : \"position_name_short\"\n",
    "        }, \n",
    "        inplace = True\n",
    ")\n",
    "\n",
    "player_season_history.rename(\n",
    "    columns = {\n",
    "        \"element_code\" : \"player_code\"\n",
    "        }, \n",
    "        inplace = True\n",
    ")\n",
    "\n",
    "player_future_fixture.rename(\n",
    "    columns = {\n",
    "        \"id\" : \"fixture_id\" , \n",
    "        \"team_h\" : \"home_team_id\" , \n",
    "        \"team_a\" : \"away_team_id\" , \n",
    "        \"event\" : \"round\" , \n",
    "        \"code\" : \"fixture_code\" ,\n",
    "        \"is_home\" : \"home_game\" \n",
    "        }, \n",
    "        inplace = True\n",
    ")\n",
    "\n",
    "understat_player.rename(\n",
    "    columns= {\n",
    "        \"player_name\" : \"understat_player_name\" ,\n",
    "        \"id\" : \"understat_id\" ,\n",
    "        \"games\" : \"games_played\" ,\n",
    "        \"time\" : \"understat_total_minutes\" ,\n",
    "        \"assists\" : \"understat_assists\"\n",
    "         },\n",
    "         inplace= True\n",
    ")\n",
    "        "
   ]
  },
  {
   "cell_type": "markdown",
   "metadata": {},
   "source": [
    "## Change columns data types"
   ]
  },
  {
   "cell_type": "code",
   "execution_count": 89,
   "metadata": {},
   "outputs": [],
   "source": [
    "all_players['news_added'] = all_players['news_added'].dt.tz_localize(None)\n",
    "all_events['deadline_time'] = all_events['deadline_time'].dt.tz_localize(None)\n",
    "player_future_fixture['kickoff_time'] = player_future_fixture['kickoff_time'].dt.tz_localize(None)\n",
    "\n",
    "player_gameweek_history['kickoff_time'] = pd.to_datetime(player_gameweek_history['kickoff_time'])\n",
    "player_gameweek_history['kickoff_time'] = player_gameweek_history['kickoff_time'].dt.tz_localize(None)\n",
    "player_gameweek_history['total_points'] = player_gameweek_history['total_points'].astype(float)"
   ]
  },
  {
   "cell_type": "markdown",
   "metadata": {},
   "source": [
    "## ADD COLUMNS"
   ]
  },
  {
   "cell_type": "code",
   "execution_count": 90,
   "metadata": {},
   "outputs": [],
   "source": [
    "def opponent_team(row):\n",
    "    if row['home_game'] == True:\n",
    "        val = row['away_team_id']\n",
    "    elif row['home_game'] == False:\n",
    "        val = row['home_team_id']\n",
    "    return val\n",
    "\n",
    "def team(row):\n",
    "    if row['home_game'] == False:\n",
    "        val = row['away_team_id']\n",
    "    elif row['home_game'] == True:\n",
    "        val = row['home_team_id']\n",
    "    return val\n",
    "\n",
    "def team_score(row):\n",
    "    if row['home_game'] == False:\n",
    "        val = row['team_a_score']\n",
    "    elif row['home_game'] == True:\n",
    "        val = row['team_h_score']\n",
    "    return val\n",
    "\n",
    "def opponent_team_score(row):\n",
    "    if row['home_game'] == True:\n",
    "        val = row['team_a_score']\n",
    "    elif row['home_game'] == False:\n",
    "        val = row['team_h_score']\n",
    "    return val \n",
    "\n",
    "\n",
    "player_future_fixture['opponent_team_id'] = player_future_fixture.apply(opponent_team,axis=1)\n",
    "player_future_fixture['team_id'] = player_future_fixture.apply(team,axis=1)\n",
    "\n",
    "player_gameweek_history['team_score'] = player_gameweek_history.apply(team_score,axis=1)\n",
    "player_gameweek_history['opponent_team_score'] = player_gameweek_history.apply(opponent_team_score,axis=1)\n",
    "player_gameweek_history['player_price'] = player_gameweek_history['player_price']/10\n",
    "\n",
    "\n",
    "all_players['full_name'] = all_players['first_name'] + ' ' + all_players['second_name']\n",
    "all_players['player_price'] = all_players['player_price']/10\n"
   ]
  },
  {
   "source": [
    "## DROP COLUMNS"
   ],
   "cell_type": "markdown",
   "metadata": {}
  },
  {
   "cell_type": "code",
   "execution_count": 91,
   "metadata": {},
   "outputs": [],
   "source": [
    "player_types.drop(\n",
    "    columns = [\n",
    "        \"plural_name\" , \n",
    "        \"plural_name_short\" ,\n",
    "        \"ui_shirt_specific\" ,\n",
    "        \"sub_positions_locked\"\n",
    "        ], \n",
    "        inplace = True\n",
    ")\n",
    "        \n",
    "all_players.drop(\n",
    "    columns = [\n",
    "        \"squad_number\" , \n",
    "        \"special\" ,\n",
    "        \"cost_change_event_fall\" ,\n",
    "        \"cost_change_start_fall\" ,\n",
    "        \"dreamteam_count\" ,\n",
    "        \"in_dreamteam\" ,\n",
    "        \"corners_and_indirect_freekicks_text\" ,\n",
    "        \"direct_freekicks_text\" ,\n",
    "        \"penalties_text\" ,\n",
    "        \"first_name\" , \n",
    "        \"second_name\",\n",
    "        \"player_code\"\n",
    "        ], \n",
    "        inplace = True\n",
    ")\n",
    "\n",
    "all_teams.drop(\n",
    "    columns = [\n",
    "        \"draw\" ,\n",
    "        \"team_form\" ,\n",
    "        \"loss\" ,\n",
    "        \"played\" ,\n",
    "        \"points\" ,\n",
    "        \"position\" ,\n",
    "        \"win\" ,\n",
    "        \"team_division\"\n",
    "    ],\n",
    "    inplace= True\n",
    ")\n",
    "\n",
    "understat_player.drop(\n",
    "    columns= [\n",
    "        \"position\" ,\n",
    "        \"team_title\" ,\n",
    "        \"yellow_cards\" ,\n",
    "        \"red_cards\"\n",
    "    ],\n",
    "    inplace = True\n",
    ")\n",
    "\n",
    "player_gameweek_history.drop(\n",
    "    columns= [\n",
    "        \"team_h_score\" ,\n",
    "        \"team_a_score\"\n",
    "    ],\n",
    "    inplace = True\n",
    ")\n",
    "\n",
    "player_future_fixture.drop(\n",
    "    columns= [\n",
    "        \"home_team_id\" ,\n",
    "        \"away_team_id\" ,\n",
    "        \"team_h_score\" ,\n",
    "        \"team_a_score\" ,\n",
    "        \"finished\" ,\n",
    "        \"minutes\" ,\n",
    "        \"provisional_start_time\" ,\n",
    "        \"fixture_code\"\n",
    "    ],\n",
    "    inplace = True\n",
    ")"
   ]
  },
  {
   "cell_type": "code",
   "execution_count": 92,
   "metadata": {},
   "outputs": [
    {
     "output_type": "execute_result",
     "data": {
      "text/plain": [
       "   chance_of_playing_next_round  chance_of_playing_this_round  cost_change_event  cost_change_start  player_type_id  expected_points_next_gw  expected_points_this_gw  event_points  form  player_id                                        player_news                 news_added  player_price player_photo  points_per_game  selected_by_percent status  team_id  team_code  total_points  total_transfers_in  transfers_in_event  total_transfers_out  transfers_out_event  value_form  value_season    web_name  total_minutes  goals_scored  assists  clean_sheets  goals_conceded  own_goals  penalties_saved  penalties_missed  yellow_cards  red_cards  saves  bonus  bps  influence  creativity  threat  ict_index  influence_rank  influence_rank_type  creativity_rank  creativity_rank_type  threat_rank  threat_rank_type  ict_index_rank  ict_index_rank_type  corners_and_indirect_freekicks_order  direct_freekicks_order  penalties_order                   full_name\n",
       "0                           0.0                           0.0                  0                 -2               3                      0.0                      0.0             0   0.0          1  Not included in Arsenal's 25-man Premier Leagu... 2020-10-20 22:30:18.118477           6.8    37605.jpg              0.0                  0.6      n        1          3             0                3312                   8                50301                 1148         0.0           0.0        Özil              0             0        0             0               0          0                0                 0             0          0      0      0    0        0.0         0.0     0.0        0.0             600                  238              600                   238          600               238             600                  238                                   NaN                     NaN              NaN                  Mesut Özil\n",
       "1                           0.0                           0.0                  0                 -1               2                      0.0                      0.0             0   0.0          2  Not included in Arsenal's 25-man Premier Leagu... 2020-10-21 10:30:18.546407           4.9    39476.jpg              0.0                  0.1      n        1          3             0               10213                   8                18292                  204         0.0           0.0    Sokratis              0             0        0             0               0          0                0                 0             0          0      0      0    0        0.0         0.0     0.0        0.0             555                  209              546                   209          534               203             557                  209                                   NaN                     NaN              NaN   Sokratis Papastathopoulos\n",
       "2                         100.0                         100.0                  0                  0               2                      0.8                      0.8             0   0.3          3                                                NaN 2020-10-25 21:30:13.186040           5.5    41270.jpg              1.4                  0.9      a        1          3             7               34055                2625                67891                 2775         0.1           1.3  David Luiz            319             0        0             0               5          0                0                 0             0          0      0      0   51       66.6         9.8    21.0        9.7             200                   83              309                   101          236                70             268                   90                                   NaN                     4.0              NaN  David Luiz Moreira Marinho\n",
       "3                         100.0                         100.0                  0                 -3               3                      4.5                      4.5             2   4.0          4                                                NaN 2020-10-08 09:00:12.305506          11.7    54694.jpg              3.8                 13.0      a        1          3            30              427782               19641              2656471                81719         0.3           2.6  Aubameyang            716             2        1             2              10          0                0                 0             2          0      0      1  111      133.4       147.8   151.0       43.2              79                   27               32                    25           44                25              39                   21                                   NaN                     6.0              1.0   Pierre-Emerick Aubameyang\n",
       "4                         100.0                         100.0                  0                 -3               2                      0.5                      0.5             0   0.0          5                                                NaN 2020-09-23 09:00:14.881983           4.7    58822.jpg              0.0                  0.2      a        1          3             0                2946                 134                31354                  600         0.0           0.0      Cédric              0             0        0             0               0          0                0                 0             0          0      0      0    0        0.0         0.0     0.0        0.0             533                  203              521                   203          498               193             535                  203                                   NaN                     NaN              NaN               Cédric Soares"
      ],
      "text/html": "<div>\n<style scoped>\n    .dataframe tbody tr th:only-of-type {\n        vertical-align: middle;\n    }\n\n    .dataframe tbody tr th {\n        vertical-align: top;\n    }\n\n    .dataframe thead th {\n        text-align: right;\n    }\n</style>\n<table border=\"1\" class=\"dataframe\">\n  <thead>\n    <tr style=\"text-align: right;\">\n      <th></th>\n      <th>chance_of_playing_next_round</th>\n      <th>chance_of_playing_this_round</th>\n      <th>cost_change_event</th>\n      <th>cost_change_start</th>\n      <th>player_type_id</th>\n      <th>expected_points_next_gw</th>\n      <th>expected_points_this_gw</th>\n      <th>event_points</th>\n      <th>form</th>\n      <th>player_id</th>\n      <th>player_news</th>\n      <th>news_added</th>\n      <th>player_price</th>\n      <th>player_photo</th>\n      <th>points_per_game</th>\n      <th>selected_by_percent</th>\n      <th>status</th>\n      <th>team_id</th>\n      <th>team_code</th>\n      <th>total_points</th>\n      <th>total_transfers_in</th>\n      <th>transfers_in_event</th>\n      <th>total_transfers_out</th>\n      <th>transfers_out_event</th>\n      <th>value_form</th>\n      <th>value_season</th>\n      <th>web_name</th>\n      <th>total_minutes</th>\n      <th>goals_scored</th>\n      <th>assists</th>\n      <th>clean_sheets</th>\n      <th>goals_conceded</th>\n      <th>own_goals</th>\n      <th>penalties_saved</th>\n      <th>penalties_missed</th>\n      <th>yellow_cards</th>\n      <th>red_cards</th>\n      <th>saves</th>\n      <th>bonus</th>\n      <th>bps</th>\n      <th>influence</th>\n      <th>creativity</th>\n      <th>threat</th>\n      <th>ict_index</th>\n      <th>influence_rank</th>\n      <th>influence_rank_type</th>\n      <th>creativity_rank</th>\n      <th>creativity_rank_type</th>\n      <th>threat_rank</th>\n      <th>threat_rank_type</th>\n      <th>ict_index_rank</th>\n      <th>ict_index_rank_type</th>\n      <th>corners_and_indirect_freekicks_order</th>\n      <th>direct_freekicks_order</th>\n      <th>penalties_order</th>\n      <th>full_name</th>\n    </tr>\n  </thead>\n  <tbody>\n    <tr>\n      <th>0</th>\n      <td>0.0</td>\n      <td>0.0</td>\n      <td>0</td>\n      <td>-2</td>\n      <td>3</td>\n      <td>0.0</td>\n      <td>0.0</td>\n      <td>0</td>\n      <td>0.0</td>\n      <td>1</td>\n      <td>Not included in Arsenal's 25-man Premier Leagu...</td>\n      <td>2020-10-20 22:30:18.118477</td>\n      <td>6.8</td>\n      <td>37605.jpg</td>\n      <td>0.0</td>\n      <td>0.6</td>\n      <td>n</td>\n      <td>1</td>\n      <td>3</td>\n      <td>0</td>\n      <td>3312</td>\n      <td>8</td>\n      <td>50301</td>\n      <td>1148</td>\n      <td>0.0</td>\n      <td>0.0</td>\n      <td>Özil</td>\n      <td>0</td>\n      <td>0</td>\n      <td>0</td>\n      <td>0</td>\n      <td>0</td>\n      <td>0</td>\n      <td>0</td>\n      <td>0</td>\n      <td>0</td>\n      <td>0</td>\n      <td>0</td>\n      <td>0</td>\n      <td>0</td>\n      <td>0.0</td>\n      <td>0.0</td>\n      <td>0.0</td>\n      <td>0.0</td>\n      <td>600</td>\n      <td>238</td>\n      <td>600</td>\n      <td>238</td>\n      <td>600</td>\n      <td>238</td>\n      <td>600</td>\n      <td>238</td>\n      <td>NaN</td>\n      <td>NaN</td>\n      <td>NaN</td>\n      <td>Mesut Özil</td>\n    </tr>\n    <tr>\n      <th>1</th>\n      <td>0.0</td>\n      <td>0.0</td>\n      <td>0</td>\n      <td>-1</td>\n      <td>2</td>\n      <td>0.0</td>\n      <td>0.0</td>\n      <td>0</td>\n      <td>0.0</td>\n      <td>2</td>\n      <td>Not included in Arsenal's 25-man Premier Leagu...</td>\n      <td>2020-10-21 10:30:18.546407</td>\n      <td>4.9</td>\n      <td>39476.jpg</td>\n      <td>0.0</td>\n      <td>0.1</td>\n      <td>n</td>\n      <td>1</td>\n      <td>3</td>\n      <td>0</td>\n      <td>10213</td>\n      <td>8</td>\n      <td>18292</td>\n      <td>204</td>\n      <td>0.0</td>\n      <td>0.0</td>\n      <td>Sokratis</td>\n      <td>0</td>\n      <td>0</td>\n      <td>0</td>\n      <td>0</td>\n      <td>0</td>\n      <td>0</td>\n      <td>0</td>\n      <td>0</td>\n      <td>0</td>\n      <td>0</td>\n      <td>0</td>\n      <td>0</td>\n      <td>0</td>\n      <td>0.0</td>\n      <td>0.0</td>\n      <td>0.0</td>\n      <td>0.0</td>\n      <td>555</td>\n      <td>209</td>\n      <td>546</td>\n      <td>209</td>\n      <td>534</td>\n      <td>203</td>\n      <td>557</td>\n      <td>209</td>\n      <td>NaN</td>\n      <td>NaN</td>\n      <td>NaN</td>\n      <td>Sokratis Papastathopoulos</td>\n    </tr>\n    <tr>\n      <th>2</th>\n      <td>100.0</td>\n      <td>100.0</td>\n      <td>0</td>\n      <td>0</td>\n      <td>2</td>\n      <td>0.8</td>\n      <td>0.8</td>\n      <td>0</td>\n      <td>0.3</td>\n      <td>3</td>\n      <td>NaN</td>\n      <td>2020-10-25 21:30:13.186040</td>\n      <td>5.5</td>\n      <td>41270.jpg</td>\n      <td>1.4</td>\n      <td>0.9</td>\n      <td>a</td>\n      <td>1</td>\n      <td>3</td>\n      <td>7</td>\n      <td>34055</td>\n      <td>2625</td>\n      <td>67891</td>\n      <td>2775</td>\n      <td>0.1</td>\n      <td>1.3</td>\n      <td>David Luiz</td>\n      <td>319</td>\n      <td>0</td>\n      <td>0</td>\n      <td>0</td>\n      <td>5</td>\n      <td>0</td>\n      <td>0</td>\n      <td>0</td>\n      <td>0</td>\n      <td>0</td>\n      <td>0</td>\n      <td>0</td>\n      <td>51</td>\n      <td>66.6</td>\n      <td>9.8</td>\n      <td>21.0</td>\n      <td>9.7</td>\n      <td>200</td>\n      <td>83</td>\n      <td>309</td>\n      <td>101</td>\n      <td>236</td>\n      <td>70</td>\n      <td>268</td>\n      <td>90</td>\n      <td>NaN</td>\n      <td>4.0</td>\n      <td>NaN</td>\n      <td>David Luiz Moreira Marinho</td>\n    </tr>\n    <tr>\n      <th>3</th>\n      <td>100.0</td>\n      <td>100.0</td>\n      <td>0</td>\n      <td>-3</td>\n      <td>3</td>\n      <td>4.5</td>\n      <td>4.5</td>\n      <td>2</td>\n      <td>4.0</td>\n      <td>4</td>\n      <td>NaN</td>\n      <td>2020-10-08 09:00:12.305506</td>\n      <td>11.7</td>\n      <td>54694.jpg</td>\n      <td>3.8</td>\n      <td>13.0</td>\n      <td>a</td>\n      <td>1</td>\n      <td>3</td>\n      <td>30</td>\n      <td>427782</td>\n      <td>19641</td>\n      <td>2656471</td>\n      <td>81719</td>\n      <td>0.3</td>\n      <td>2.6</td>\n      <td>Aubameyang</td>\n      <td>716</td>\n      <td>2</td>\n      <td>1</td>\n      <td>2</td>\n      <td>10</td>\n      <td>0</td>\n      <td>0</td>\n      <td>0</td>\n      <td>2</td>\n      <td>0</td>\n      <td>0</td>\n      <td>1</td>\n      <td>111</td>\n      <td>133.4</td>\n      <td>147.8</td>\n      <td>151.0</td>\n      <td>43.2</td>\n      <td>79</td>\n      <td>27</td>\n      <td>32</td>\n      <td>25</td>\n      <td>44</td>\n      <td>25</td>\n      <td>39</td>\n      <td>21</td>\n      <td>NaN</td>\n      <td>6.0</td>\n      <td>1.0</td>\n      <td>Pierre-Emerick Aubameyang</td>\n    </tr>\n    <tr>\n      <th>4</th>\n      <td>100.0</td>\n      <td>100.0</td>\n      <td>0</td>\n      <td>-3</td>\n      <td>2</td>\n      <td>0.5</td>\n      <td>0.5</td>\n      <td>0</td>\n      <td>0.0</td>\n      <td>5</td>\n      <td>NaN</td>\n      <td>2020-09-23 09:00:14.881983</td>\n      <td>4.7</td>\n      <td>58822.jpg</td>\n      <td>0.0</td>\n      <td>0.2</td>\n      <td>a</td>\n      <td>1</td>\n      <td>3</td>\n      <td>0</td>\n      <td>2946</td>\n      <td>134</td>\n      <td>31354</td>\n      <td>600</td>\n      <td>0.0</td>\n      <td>0.0</td>\n      <td>Cédric</td>\n      <td>0</td>\n      <td>0</td>\n      <td>0</td>\n      <td>0</td>\n      <td>0</td>\n      <td>0</td>\n      <td>0</td>\n      <td>0</td>\n      <td>0</td>\n      <td>0</td>\n      <td>0</td>\n      <td>0</td>\n      <td>0</td>\n      <td>0.0</td>\n      <td>0.0</td>\n      <td>0.0</td>\n      <td>0.0</td>\n      <td>533</td>\n      <td>203</td>\n      <td>521</td>\n      <td>203</td>\n      <td>498</td>\n      <td>193</td>\n      <td>535</td>\n      <td>203</td>\n      <td>NaN</td>\n      <td>NaN</td>\n      <td>NaN</td>\n      <td>Cédric Soares</td>\n    </tr>\n  </tbody>\n</table>\n</div>"
     },
     "metadata": {},
     "execution_count": 92
    }
   ],
   "source": [
    "#player_future_fixture.head()\n",
    "#player_gameweek_history.head()\n",
    "all_players.head()\n",
    "#all_teams.head()\n",
    "#all_events.head()\n",
    "#player_types.head()\n",
    "#understat_player.head()"
   ]
  },
  {
   "cell_type": "code",
   "execution_count": 93,
   "metadata": {},
   "outputs": [
    {
     "output_type": "execute_result",
     "data": {
      "text/plain": [
       "   player_id  understat_id first_name second_name\n",
       "0        118           702      Tammy     Abraham\n",
       "1        377          7700        Che       Adams\n",
       "2        572          5590      Tosin  Adarabioyo\n",
       "3        268           619     Sergio      Agüero\n",
       "4        562           725        Ola        Aina"
      ],
      "text/html": "<div>\n<style scoped>\n    .dataframe tbody tr th:only-of-type {\n        vertical-align: middle;\n    }\n\n    .dataframe tbody tr th {\n        vertical-align: top;\n    }\n\n    .dataframe thead th {\n        text-align: right;\n    }\n</style>\n<table border=\"1\" class=\"dataframe\">\n  <thead>\n    <tr style=\"text-align: right;\">\n      <th></th>\n      <th>player_id</th>\n      <th>understat_id</th>\n      <th>first_name</th>\n      <th>second_name</th>\n    </tr>\n  </thead>\n  <tbody>\n    <tr>\n      <th>0</th>\n      <td>118</td>\n      <td>702</td>\n      <td>Tammy</td>\n      <td>Abraham</td>\n    </tr>\n    <tr>\n      <th>1</th>\n      <td>377</td>\n      <td>7700</td>\n      <td>Che</td>\n      <td>Adams</td>\n    </tr>\n    <tr>\n      <th>2</th>\n      <td>572</td>\n      <td>5590</td>\n      <td>Tosin</td>\n      <td>Adarabioyo</td>\n    </tr>\n    <tr>\n      <th>3</th>\n      <td>268</td>\n      <td>619</td>\n      <td>Sergio</td>\n      <td>Agüero</td>\n    </tr>\n    <tr>\n      <th>4</th>\n      <td>562</td>\n      <td>725</td>\n      <td>Ola</td>\n      <td>Aina</td>\n    </tr>\n  </tbody>\n</table>\n</div>"
     },
     "metadata": {},
     "execution_count": 93
    }
   ],
   "source": [
    "mapping_understat.head()"
   ]
  },
  {
   "cell_type": "code",
   "execution_count": 94,
   "metadata": {},
   "outputs": [
    {
     "output_type": "execute_result",
     "data": {
      "text/plain": [
       "   understat_id  understat_player_name  games_played  understat_total_minutes  goals        xG  understat_assists        xA  shots  key_passes  npg      npxG   xGChain  xGBuildup\n",
       "0           453          Son Heung-Min             8                      656      8  3.503271                  2  1.804271     18          17    8  3.503271  6.231780   2.453945\n",
       "1           755            Jamie Vardy             7                      559      8  7.259719                  1  0.650218     16           4    3  2.692706  3.755111   0.412187\n",
       "2          1250          Mohamed Salah             8                      720      8  5.939518                  0  2.035087     34          21    4  2.894843  6.851420   2.755957\n",
       "3          5555  Dominic Calvert-Lewin             8                      703      8  5.818061                  0  0.352826     26           4    8  5.818061  5.726510   1.278623\n",
       "4           647             Harry Kane             8                      717      7  6.807162                  8  3.798403     38          18    5  5.284825  7.708270   1.147685"
      ],
      "text/html": "<div>\n<style scoped>\n    .dataframe tbody tr th:only-of-type {\n        vertical-align: middle;\n    }\n\n    .dataframe tbody tr th {\n        vertical-align: top;\n    }\n\n    .dataframe thead th {\n        text-align: right;\n    }\n</style>\n<table border=\"1\" class=\"dataframe\">\n  <thead>\n    <tr style=\"text-align: right;\">\n      <th></th>\n      <th>understat_id</th>\n      <th>understat_player_name</th>\n      <th>games_played</th>\n      <th>understat_total_minutes</th>\n      <th>goals</th>\n      <th>xG</th>\n      <th>understat_assists</th>\n      <th>xA</th>\n      <th>shots</th>\n      <th>key_passes</th>\n      <th>npg</th>\n      <th>npxG</th>\n      <th>xGChain</th>\n      <th>xGBuildup</th>\n    </tr>\n  </thead>\n  <tbody>\n    <tr>\n      <th>0</th>\n      <td>453</td>\n      <td>Son Heung-Min</td>\n      <td>8</td>\n      <td>656</td>\n      <td>8</td>\n      <td>3.503271</td>\n      <td>2</td>\n      <td>1.804271</td>\n      <td>18</td>\n      <td>17</td>\n      <td>8</td>\n      <td>3.503271</td>\n      <td>6.231780</td>\n      <td>2.453945</td>\n    </tr>\n    <tr>\n      <th>1</th>\n      <td>755</td>\n      <td>Jamie Vardy</td>\n      <td>7</td>\n      <td>559</td>\n      <td>8</td>\n      <td>7.259719</td>\n      <td>1</td>\n      <td>0.650218</td>\n      <td>16</td>\n      <td>4</td>\n      <td>3</td>\n      <td>2.692706</td>\n      <td>3.755111</td>\n      <td>0.412187</td>\n    </tr>\n    <tr>\n      <th>2</th>\n      <td>1250</td>\n      <td>Mohamed Salah</td>\n      <td>8</td>\n      <td>720</td>\n      <td>8</td>\n      <td>5.939518</td>\n      <td>0</td>\n      <td>2.035087</td>\n      <td>34</td>\n      <td>21</td>\n      <td>4</td>\n      <td>2.894843</td>\n      <td>6.851420</td>\n      <td>2.755957</td>\n    </tr>\n    <tr>\n      <th>3</th>\n      <td>5555</td>\n      <td>Dominic Calvert-Lewin</td>\n      <td>8</td>\n      <td>703</td>\n      <td>8</td>\n      <td>5.818061</td>\n      <td>0</td>\n      <td>0.352826</td>\n      <td>26</td>\n      <td>4</td>\n      <td>8</td>\n      <td>5.818061</td>\n      <td>5.726510</td>\n      <td>1.278623</td>\n    </tr>\n    <tr>\n      <th>4</th>\n      <td>647</td>\n      <td>Harry Kane</td>\n      <td>8</td>\n      <td>717</td>\n      <td>7</td>\n      <td>6.807162</td>\n      <td>8</td>\n      <td>3.798403</td>\n      <td>38</td>\n      <td>18</td>\n      <td>5</td>\n      <td>5.284825</td>\n      <td>7.708270</td>\n      <td>1.147685</td>\n    </tr>\n  </tbody>\n</table>\n</div>"
     },
     "metadata": {},
     "execution_count": 94
    }
   ],
   "source": [
    "understat_player.head()"
   ]
  },
  {
   "source": [
    "## MERGE DATA\n",
    "## ALL PLAYERS"
   ],
   "cell_type": "markdown",
   "metadata": {}
  },
  {
   "source": [
    "### all_players & understat_player"
   ],
   "cell_type": "markdown",
   "metadata": {}
  },
  {
   "cell_type": "code",
   "execution_count": 95,
   "metadata": {},
   "outputs": [
    {
     "output_type": "execute_result",
     "data": {
      "text/plain": [
       "   chance_of_playing_next_round  chance_of_playing_this_round  cost_change_event  cost_change_start  player_type_id  expected_points_next_gw  expected_points_this_gw  event_points  form  player_id player_news                 news_added  player_price player_photo  points_per_game  selected_by_percent status  team_id  team_code  total_points  total_transfers_in  transfers_in_event  total_transfers_out  transfers_out_event  value_form  value_season    web_name  total_minutes  goals_scored  assists  clean_sheets  goals_conceded  own_goals  penalties_saved  penalties_missed  yellow_cards  red_cards  saves  bonus  bps  influence  creativity  threat  ict_index  influence_rank  influence_rank_type  creativity_rank  creativity_rank_type  threat_rank  threat_rank_type  ict_index_rank  ict_index_rank_type  corners_and_indirect_freekicks_order  direct_freekicks_order  penalties_order                   full_name  understat_id  games_played        xG  understat_assists        xA  shots  \\\n",
       "0                         100.0                         100.0                  0                  0               2                      0.8                      0.8             0   0.3          3         NaN 2020-10-25 21:30:13.186040           5.5    41270.jpg              1.4                  0.9      a        1          3             7               34055                2625                67891                 2775         0.1           1.3  David Luiz            319             0        0             0               5          0                0                 0             0          0      0      0   51       66.6         9.8    21.0        9.7             200                   83              309                   101          236                70             268                   90                                   NaN                     4.0              NaN  David Luiz Moreira Marinho          1676             5  0.081089                  0  0.000000      2   \n",
       "1                         100.0                         100.0                  0                 -3               3                      4.5                      4.5             2   4.0          4         NaN 2020-10-08 09:00:12.305506          11.7    54694.jpg              3.8                 13.0      a        1          3            30              427782               19641              2656471                81719         0.3           2.6  Aubameyang            716             2        1             2              10          0                0                 0             2          0      0      1  111      133.4       147.8   151.0       43.2              79                   27               32                    25           44                25              39                   21                                   NaN                     6.0              1.0   Pierre-Emerick Aubameyang           318             8  1.351223                  1  1.316097     10   \n",
       "2                           NaN                           NaN                  0                 -1               4                      2.2                      2.2             2   1.7          6         NaN                        NaT           8.4    59966.jpg              3.9                  3.2      a        1          3            27              264421                4870               368248                18338         0.2           3.2   Lacazette            485             3        0             2               5          0                0                 0             1          0      0      3   88      126.4        73.8   186.0       38.3              97                   14              110                    14           34                18              50                   16                                   NaN                     5.0              3.0         Alexandre Lacazette          3277             7  2.702362                  0  0.309107      9   \n",
       "3                         100.0                         100.0                  0                  0               2                      1.2                      1.2             0   0.7          7         NaN 2020-08-15 10:00:11.331812           5.0    69140.jpg              1.0                  0.0      a        1          3             2               10844                 283                10708                  188         0.1           0.4     Mustafi             44             0        0             0               1          0                0                 0             0          0      0      0   13       11.6         1.0     0.0        1.3             358                  140              369                   141          554               210             390                  145                                   NaN                     NaN              NaN            Shkodran Mustafi          1699             2  0.000000                  0  0.000000      0   \n",
       "4                           NaN                           NaN                  0                  0               1                      4.2                      4.2             2   3.7          8         NaN                        NaT           5.0    80201.jpg              3.5                  9.0      a        1          3            28              375612                7585               346656                24258         0.7           5.6        Leno            720             0        0             2              10          0                0                 0             0          0     21      2  150      171.2         0.0     0.0       17.1              41                    8              564                    59          556                59             177                    9                                   NaN                     NaN              NaN                  Bernd Leno           181             8  0.000000                  0  0.000000      0   \n",
       "\n",
       "   key_passes  npg      npxG   xGChain  xGBuildup  \n",
       "0           0    0  0.081089  0.741946   0.741946  \n",
       "1          10    1  0.590054  2.672929   0.848487  \n",
       "2           6    3  2.702362  3.205895   0.328369  \n",
       "3           0    0  0.000000  0.064725   0.064725  \n",
       "4           0    0  0.000000  0.880429   0.880429  "
      ],
      "text/html": "<div>\n<style scoped>\n    .dataframe tbody tr th:only-of-type {\n        vertical-align: middle;\n    }\n\n    .dataframe tbody tr th {\n        vertical-align: top;\n    }\n\n    .dataframe thead th {\n        text-align: right;\n    }\n</style>\n<table border=\"1\" class=\"dataframe\">\n  <thead>\n    <tr style=\"text-align: right;\">\n      <th></th>\n      <th>chance_of_playing_next_round</th>\n      <th>chance_of_playing_this_round</th>\n      <th>cost_change_event</th>\n      <th>cost_change_start</th>\n      <th>player_type_id</th>\n      <th>expected_points_next_gw</th>\n      <th>expected_points_this_gw</th>\n      <th>event_points</th>\n      <th>form</th>\n      <th>player_id</th>\n      <th>player_news</th>\n      <th>news_added</th>\n      <th>player_price</th>\n      <th>player_photo</th>\n      <th>points_per_game</th>\n      <th>selected_by_percent</th>\n      <th>status</th>\n      <th>team_id</th>\n      <th>team_code</th>\n      <th>total_points</th>\n      <th>total_transfers_in</th>\n      <th>transfers_in_event</th>\n      <th>total_transfers_out</th>\n      <th>transfers_out_event</th>\n      <th>value_form</th>\n      <th>value_season</th>\n      <th>web_name</th>\n      <th>total_minutes</th>\n      <th>goals_scored</th>\n      <th>assists</th>\n      <th>clean_sheets</th>\n      <th>goals_conceded</th>\n      <th>own_goals</th>\n      <th>penalties_saved</th>\n      <th>penalties_missed</th>\n      <th>yellow_cards</th>\n      <th>red_cards</th>\n      <th>saves</th>\n      <th>bonus</th>\n      <th>bps</th>\n      <th>influence</th>\n      <th>creativity</th>\n      <th>threat</th>\n      <th>ict_index</th>\n      <th>influence_rank</th>\n      <th>influence_rank_type</th>\n      <th>creativity_rank</th>\n      <th>creativity_rank_type</th>\n      <th>threat_rank</th>\n      <th>threat_rank_type</th>\n      <th>ict_index_rank</th>\n      <th>ict_index_rank_type</th>\n      <th>corners_and_indirect_freekicks_order</th>\n      <th>direct_freekicks_order</th>\n      <th>penalties_order</th>\n      <th>full_name</th>\n      <th>understat_id</th>\n      <th>games_played</th>\n      <th>xG</th>\n      <th>understat_assists</th>\n      <th>xA</th>\n      <th>shots</th>\n      <th>key_passes</th>\n      <th>npg</th>\n      <th>npxG</th>\n      <th>xGChain</th>\n      <th>xGBuildup</th>\n    </tr>\n  </thead>\n  <tbody>\n    <tr>\n      <th>0</th>\n      <td>100.0</td>\n      <td>100.0</td>\n      <td>0</td>\n      <td>0</td>\n      <td>2</td>\n      <td>0.8</td>\n      <td>0.8</td>\n      <td>0</td>\n      <td>0.3</td>\n      <td>3</td>\n      <td>NaN</td>\n      <td>2020-10-25 21:30:13.186040</td>\n      <td>5.5</td>\n      <td>41270.jpg</td>\n      <td>1.4</td>\n      <td>0.9</td>\n      <td>a</td>\n      <td>1</td>\n      <td>3</td>\n      <td>7</td>\n      <td>34055</td>\n      <td>2625</td>\n      <td>67891</td>\n      <td>2775</td>\n      <td>0.1</td>\n      <td>1.3</td>\n      <td>David Luiz</td>\n      <td>319</td>\n      <td>0</td>\n      <td>0</td>\n      <td>0</td>\n      <td>5</td>\n      <td>0</td>\n      <td>0</td>\n      <td>0</td>\n      <td>0</td>\n      <td>0</td>\n      <td>0</td>\n      <td>0</td>\n      <td>51</td>\n      <td>66.6</td>\n      <td>9.8</td>\n      <td>21.0</td>\n      <td>9.7</td>\n      <td>200</td>\n      <td>83</td>\n      <td>309</td>\n      <td>101</td>\n      <td>236</td>\n      <td>70</td>\n      <td>268</td>\n      <td>90</td>\n      <td>NaN</td>\n      <td>4.0</td>\n      <td>NaN</td>\n      <td>David Luiz Moreira Marinho</td>\n      <td>1676</td>\n      <td>5</td>\n      <td>0.081089</td>\n      <td>0</td>\n      <td>0.000000</td>\n      <td>2</td>\n      <td>0</td>\n      <td>0</td>\n      <td>0.081089</td>\n      <td>0.741946</td>\n      <td>0.741946</td>\n    </tr>\n    <tr>\n      <th>1</th>\n      <td>100.0</td>\n      <td>100.0</td>\n      <td>0</td>\n      <td>-3</td>\n      <td>3</td>\n      <td>4.5</td>\n      <td>4.5</td>\n      <td>2</td>\n      <td>4.0</td>\n      <td>4</td>\n      <td>NaN</td>\n      <td>2020-10-08 09:00:12.305506</td>\n      <td>11.7</td>\n      <td>54694.jpg</td>\n      <td>3.8</td>\n      <td>13.0</td>\n      <td>a</td>\n      <td>1</td>\n      <td>3</td>\n      <td>30</td>\n      <td>427782</td>\n      <td>19641</td>\n      <td>2656471</td>\n      <td>81719</td>\n      <td>0.3</td>\n      <td>2.6</td>\n      <td>Aubameyang</td>\n      <td>716</td>\n      <td>2</td>\n      <td>1</td>\n      <td>2</td>\n      <td>10</td>\n      <td>0</td>\n      <td>0</td>\n      <td>0</td>\n      <td>2</td>\n      <td>0</td>\n      <td>0</td>\n      <td>1</td>\n      <td>111</td>\n      <td>133.4</td>\n      <td>147.8</td>\n      <td>151.0</td>\n      <td>43.2</td>\n      <td>79</td>\n      <td>27</td>\n      <td>32</td>\n      <td>25</td>\n      <td>44</td>\n      <td>25</td>\n      <td>39</td>\n      <td>21</td>\n      <td>NaN</td>\n      <td>6.0</td>\n      <td>1.0</td>\n      <td>Pierre-Emerick Aubameyang</td>\n      <td>318</td>\n      <td>8</td>\n      <td>1.351223</td>\n      <td>1</td>\n      <td>1.316097</td>\n      <td>10</td>\n      <td>10</td>\n      <td>1</td>\n      <td>0.590054</td>\n      <td>2.672929</td>\n      <td>0.848487</td>\n    </tr>\n    <tr>\n      <th>2</th>\n      <td>NaN</td>\n      <td>NaN</td>\n      <td>0</td>\n      <td>-1</td>\n      <td>4</td>\n      <td>2.2</td>\n      <td>2.2</td>\n      <td>2</td>\n      <td>1.7</td>\n      <td>6</td>\n      <td>NaN</td>\n      <td>NaT</td>\n      <td>8.4</td>\n      <td>59966.jpg</td>\n      <td>3.9</td>\n      <td>3.2</td>\n      <td>a</td>\n      <td>1</td>\n      <td>3</td>\n      <td>27</td>\n      <td>264421</td>\n      <td>4870</td>\n      <td>368248</td>\n      <td>18338</td>\n      <td>0.2</td>\n      <td>3.2</td>\n      <td>Lacazette</td>\n      <td>485</td>\n      <td>3</td>\n      <td>0</td>\n      <td>2</td>\n      <td>5</td>\n      <td>0</td>\n      <td>0</td>\n      <td>0</td>\n      <td>1</td>\n      <td>0</td>\n      <td>0</td>\n      <td>3</td>\n      <td>88</td>\n      <td>126.4</td>\n      <td>73.8</td>\n      <td>186.0</td>\n      <td>38.3</td>\n      <td>97</td>\n      <td>14</td>\n      <td>110</td>\n      <td>14</td>\n      <td>34</td>\n      <td>18</td>\n      <td>50</td>\n      <td>16</td>\n      <td>NaN</td>\n      <td>5.0</td>\n      <td>3.0</td>\n      <td>Alexandre Lacazette</td>\n      <td>3277</td>\n      <td>7</td>\n      <td>2.702362</td>\n      <td>0</td>\n      <td>0.309107</td>\n      <td>9</td>\n      <td>6</td>\n      <td>3</td>\n      <td>2.702362</td>\n      <td>3.205895</td>\n      <td>0.328369</td>\n    </tr>\n    <tr>\n      <th>3</th>\n      <td>100.0</td>\n      <td>100.0</td>\n      <td>0</td>\n      <td>0</td>\n      <td>2</td>\n      <td>1.2</td>\n      <td>1.2</td>\n      <td>0</td>\n      <td>0.7</td>\n      <td>7</td>\n      <td>NaN</td>\n      <td>2020-08-15 10:00:11.331812</td>\n      <td>5.0</td>\n      <td>69140.jpg</td>\n      <td>1.0</td>\n      <td>0.0</td>\n      <td>a</td>\n      <td>1</td>\n      <td>3</td>\n      <td>2</td>\n      <td>10844</td>\n      <td>283</td>\n      <td>10708</td>\n      <td>188</td>\n      <td>0.1</td>\n      <td>0.4</td>\n      <td>Mustafi</td>\n      <td>44</td>\n      <td>0</td>\n      <td>0</td>\n      <td>0</td>\n      <td>1</td>\n      <td>0</td>\n      <td>0</td>\n      <td>0</td>\n      <td>0</td>\n      <td>0</td>\n      <td>0</td>\n      <td>0</td>\n      <td>13</td>\n      <td>11.6</td>\n      <td>1.0</td>\n      <td>0.0</td>\n      <td>1.3</td>\n      <td>358</td>\n      <td>140</td>\n      <td>369</td>\n      <td>141</td>\n      <td>554</td>\n      <td>210</td>\n      <td>390</td>\n      <td>145</td>\n      <td>NaN</td>\n      <td>NaN</td>\n      <td>NaN</td>\n      <td>Shkodran Mustafi</td>\n      <td>1699</td>\n      <td>2</td>\n      <td>0.000000</td>\n      <td>0</td>\n      <td>0.000000</td>\n      <td>0</td>\n      <td>0</td>\n      <td>0</td>\n      <td>0.000000</td>\n      <td>0.064725</td>\n      <td>0.064725</td>\n    </tr>\n    <tr>\n      <th>4</th>\n      <td>NaN</td>\n      <td>NaN</td>\n      <td>0</td>\n      <td>0</td>\n      <td>1</td>\n      <td>4.2</td>\n      <td>4.2</td>\n      <td>2</td>\n      <td>3.7</td>\n      <td>8</td>\n      <td>NaN</td>\n      <td>NaT</td>\n      <td>5.0</td>\n      <td>80201.jpg</td>\n      <td>3.5</td>\n      <td>9.0</td>\n      <td>a</td>\n      <td>1</td>\n      <td>3</td>\n      <td>28</td>\n      <td>375612</td>\n      <td>7585</td>\n      <td>346656</td>\n      <td>24258</td>\n      <td>0.7</td>\n      <td>5.6</td>\n      <td>Leno</td>\n      <td>720</td>\n      <td>0</td>\n      <td>0</td>\n      <td>2</td>\n      <td>10</td>\n      <td>0</td>\n      <td>0</td>\n      <td>0</td>\n      <td>0</td>\n      <td>0</td>\n      <td>21</td>\n      <td>2</td>\n      <td>150</td>\n      <td>171.2</td>\n      <td>0.0</td>\n      <td>0.0</td>\n      <td>17.1</td>\n      <td>41</td>\n      <td>8</td>\n      <td>564</td>\n      <td>59</td>\n      <td>556</td>\n      <td>59</td>\n      <td>177</td>\n      <td>9</td>\n      <td>NaN</td>\n      <td>NaN</td>\n      <td>NaN</td>\n      <td>Bernd Leno</td>\n      <td>181</td>\n      <td>8</td>\n      <td>0.000000</td>\n      <td>0</td>\n      <td>0.000000</td>\n      <td>0</td>\n      <td>0</td>\n      <td>0</td>\n      <td>0.000000</td>\n      <td>0.880429</td>\n      <td>0.880429</td>\n    </tr>\n  </tbody>\n</table>\n</div>"
     },
     "metadata": {},
     "execution_count": 95
    }
   ],
   "source": [
    "df_merge = mapping_understat[[\"player_id\" ,\"understat_id\"]]\n",
    "all_players = all_players.merge(df_merge , on = \"player_id\")\n",
    "#all_players.head()\n",
    "\n",
    "df_merge = understat_player[[\"understat_id\" , \"games_played\" , \"xG\" , \"understat_assists\" , \"xA\" , \"shots\" , \"key_passes\" , \"npg\" , \"npxG\" , \"xGChain\" , \"xGBuildup\"]]\n",
    "all_players = all_players.merge(df_merge, on= \"understat_id\")\n",
    "all_players.head()"
   ]
  },
  {
   "source": [
    "### Players not mapped"
   ],
   "cell_type": "markdown",
   "metadata": {}
  },
  {
   "cell_type": "code",
   "execution_count": 96,
   "metadata": {},
   "outputs": [
    {
     "output_type": "execute_result",
     "data": {
      "text/plain": [
       "Empty DataFrame\n",
       "Columns: [player_id, understat_id, first_name, second_name, understat_player_name, games_played, understat_total_minutes, goals, xG, understat_assists, xA, shots, key_passes, npg, npxG, xGChain, xGBuildup]\n",
       "Index: []"
      ],
      "text/html": "<div>\n<style scoped>\n    .dataframe tbody tr th:only-of-type {\n        vertical-align: middle;\n    }\n\n    .dataframe tbody tr th {\n        vertical-align: top;\n    }\n\n    .dataframe thead th {\n        text-align: right;\n    }\n</style>\n<table border=\"1\" class=\"dataframe\">\n  <thead>\n    <tr style=\"text-align: right;\">\n      <th></th>\n      <th>player_id</th>\n      <th>understat_id</th>\n      <th>first_name</th>\n      <th>second_name</th>\n      <th>understat_player_name</th>\n      <th>games_played</th>\n      <th>understat_total_minutes</th>\n      <th>goals</th>\n      <th>xG</th>\n      <th>understat_assists</th>\n      <th>xA</th>\n      <th>shots</th>\n      <th>key_passes</th>\n      <th>npg</th>\n      <th>npxG</th>\n      <th>xGChain</th>\n      <th>xGBuildup</th>\n    </tr>\n  </thead>\n  <tbody>\n  </tbody>\n</table>\n</div>"
     },
     "metadata": {},
     "execution_count": 96
    }
   ],
   "source": [
    "missing_players = mapping_understat.merge(understat_player, on= \"understat_id\", how = 'right')\n",
    "missing_players = missing_players[missing_players.player_id.isna()]\n",
    "missing_players.head()"
   ]
  },
  {
   "source": [
    "### all_players & all_teams"
   ],
   "cell_type": "markdown",
   "metadata": {}
  },
  {
   "cell_type": "code",
   "execution_count": 97,
   "metadata": {},
   "outputs": [
    {
     "output_type": "execute_result",
     "data": {
      "text/plain": [
       "   team_code  team_id    team_name team_short_name  team_strength  unavailable  strength_overall_home  strength_overall_away  strength_attack_home  strength_attack_away  strength_defence_home  strength_defence_away  pulse_id\n",
       "0          3        1      Arsenal             ARS              4        False                   1190                   1210                  1170                  1210                   1190                   1200         1\n",
       "1          7        2  Aston Villa             AVL              3        False                   1150                   1160                  1150                  1150                   1180                   1210         2\n",
       "2         36        3     Brighton             BHA              3        False                   1080                   1100                  1150                  1180                   1090                   1100       131\n",
       "3         90        4      Burnley             BUR              2        False                   1050                   1080                  1120                  1190                   1010                   1030        43\n",
       "4          8        5      Chelsea             CHE              4        False                   1260                   1280                  1240                  1280                   1270                   1310         4"
      ],
      "text/html": "<div>\n<style scoped>\n    .dataframe tbody tr th:only-of-type {\n        vertical-align: middle;\n    }\n\n    .dataframe tbody tr th {\n        vertical-align: top;\n    }\n\n    .dataframe thead th {\n        text-align: right;\n    }\n</style>\n<table border=\"1\" class=\"dataframe\">\n  <thead>\n    <tr style=\"text-align: right;\">\n      <th></th>\n      <th>team_code</th>\n      <th>team_id</th>\n      <th>team_name</th>\n      <th>team_short_name</th>\n      <th>team_strength</th>\n      <th>unavailable</th>\n      <th>strength_overall_home</th>\n      <th>strength_overall_away</th>\n      <th>strength_attack_home</th>\n      <th>strength_attack_away</th>\n      <th>strength_defence_home</th>\n      <th>strength_defence_away</th>\n      <th>pulse_id</th>\n    </tr>\n  </thead>\n  <tbody>\n    <tr>\n      <th>0</th>\n      <td>3</td>\n      <td>1</td>\n      <td>Arsenal</td>\n      <td>ARS</td>\n      <td>4</td>\n      <td>False</td>\n      <td>1190</td>\n      <td>1210</td>\n      <td>1170</td>\n      <td>1210</td>\n      <td>1190</td>\n      <td>1200</td>\n      <td>1</td>\n    </tr>\n    <tr>\n      <th>1</th>\n      <td>7</td>\n      <td>2</td>\n      <td>Aston Villa</td>\n      <td>AVL</td>\n      <td>3</td>\n      <td>False</td>\n      <td>1150</td>\n      <td>1160</td>\n      <td>1150</td>\n      <td>1150</td>\n      <td>1180</td>\n      <td>1210</td>\n      <td>2</td>\n    </tr>\n    <tr>\n      <th>2</th>\n      <td>36</td>\n      <td>3</td>\n      <td>Brighton</td>\n      <td>BHA</td>\n      <td>3</td>\n      <td>False</td>\n      <td>1080</td>\n      <td>1100</td>\n      <td>1150</td>\n      <td>1180</td>\n      <td>1090</td>\n      <td>1100</td>\n      <td>131</td>\n    </tr>\n    <tr>\n      <th>3</th>\n      <td>90</td>\n      <td>4</td>\n      <td>Burnley</td>\n      <td>BUR</td>\n      <td>2</td>\n      <td>False</td>\n      <td>1050</td>\n      <td>1080</td>\n      <td>1120</td>\n      <td>1190</td>\n      <td>1010</td>\n      <td>1030</td>\n      <td>43</td>\n    </tr>\n    <tr>\n      <th>4</th>\n      <td>8</td>\n      <td>5</td>\n      <td>Chelsea</td>\n      <td>CHE</td>\n      <td>4</td>\n      <td>False</td>\n      <td>1260</td>\n      <td>1280</td>\n      <td>1240</td>\n      <td>1280</td>\n      <td>1270</td>\n      <td>1310</td>\n      <td>4</td>\n    </tr>\n  </tbody>\n</table>\n</div>"
     },
     "metadata": {},
     "execution_count": 97
    }
   ],
   "source": [
    "all_teams.head()"
   ]
  },
  {
   "cell_type": "code",
   "execution_count": 98,
   "metadata": {},
   "outputs": [
    {
     "output_type": "execute_result",
     "data": {
      "text/plain": [
       "   chance_of_playing_next_round  chance_of_playing_this_round  cost_change_event  cost_change_start  player_type_id  expected_points_next_gw  expected_points_this_gw  event_points  form  player_id player_news                 news_added  player_price player_photo  points_per_game  selected_by_percent status  team_id  team_code  total_points  total_transfers_in  transfers_in_event  total_transfers_out  transfers_out_event  value_form  value_season    web_name  total_minutes  goals_scored  assists  clean_sheets  goals_conceded  own_goals  penalties_saved  penalties_missed  yellow_cards  red_cards  saves  bonus  bps  influence  creativity  threat  ict_index  influence_rank  influence_rank_type  creativity_rank  creativity_rank_type  threat_rank  threat_rank_type  ict_index_rank  ict_index_rank_type  corners_and_indirect_freekicks_order  direct_freekicks_order  penalties_order                   full_name  understat_id  games_played        xG  understat_assists        xA  shots  \\\n",
       "0                         100.0                         100.0                  0                  0               2                      0.8                      0.8             0   0.3          3         NaN 2020-10-25 21:30:13.186040           5.5    41270.jpg              1.4                  0.9      a        1          3             7               34055                2625                67891                 2775         0.1           1.3  David Luiz            319             0        0             0               5          0                0                 0             0          0      0      0   51       66.6         9.8    21.0        9.7             200                   83              309                   101          236                70             268                   90                                   NaN                     4.0              NaN  David Luiz Moreira Marinho          1676             5  0.081089                  0  0.000000      2   \n",
       "1                         100.0                         100.0                  0                 -3               3                      4.5                      4.5             2   4.0          4         NaN 2020-10-08 09:00:12.305506          11.7    54694.jpg              3.8                 13.0      a        1          3            30              427782               19641              2656471                81719         0.3           2.6  Aubameyang            716             2        1             2              10          0                0                 0             2          0      0      1  111      133.4       147.8   151.0       43.2              79                   27               32                    25           44                25              39                   21                                   NaN                     6.0              1.0   Pierre-Emerick Aubameyang           318             8  1.351223                  1  1.316097     10   \n",
       "2                           NaN                           NaN                  0                 -1               4                      2.2                      2.2             2   1.7          6         NaN                        NaT           8.4    59966.jpg              3.9                  3.2      a        1          3            27              264421                4870               368248                18338         0.2           3.2   Lacazette            485             3        0             2               5          0                0                 0             1          0      0      3   88      126.4        73.8   186.0       38.3              97                   14              110                    14           34                18              50                   16                                   NaN                     5.0              3.0         Alexandre Lacazette          3277             7  2.702362                  0  0.309107      9   \n",
       "3                         100.0                         100.0                  0                  0               2                      1.2                      1.2             0   0.7          7         NaN 2020-08-15 10:00:11.331812           5.0    69140.jpg              1.0                  0.0      a        1          3             2               10844                 283                10708                  188         0.1           0.4     Mustafi             44             0        0             0               1          0                0                 0             0          0      0      0   13       11.6         1.0     0.0        1.3             358                  140              369                   141          554               210             390                  145                                   NaN                     NaN              NaN            Shkodran Mustafi          1699             2  0.000000                  0  0.000000      0   \n",
       "4                           NaN                           NaN                  0                  0               1                      4.2                      4.2             2   3.7          8         NaN                        NaT           5.0    80201.jpg              3.5                  9.0      a        1          3            28              375612                7585               346656                24258         0.7           5.6        Leno            720             0        0             2              10          0                0                 0             0          0     21      2  150      171.2         0.0     0.0       17.1              41                    8              564                    59          556                59             177                    9                                   NaN                     NaN              NaN                  Bernd Leno           181             8  0.000000                  0  0.000000      0   \n",
       "\n",
       "   key_passes  npg      npxG   xGChain  xGBuildup team_name team_short_name  team_strength  \n",
       "0           0    0  0.081089  0.741946   0.741946   Arsenal             ARS              4  \n",
       "1          10    1  0.590054  2.672929   0.848487   Arsenal             ARS              4  \n",
       "2           6    3  2.702362  3.205895   0.328369   Arsenal             ARS              4  \n",
       "3           0    0  0.000000  0.064725   0.064725   Arsenal             ARS              4  \n",
       "4           0    0  0.000000  0.880429   0.880429   Arsenal             ARS              4  "
      ],
      "text/html": "<div>\n<style scoped>\n    .dataframe tbody tr th:only-of-type {\n        vertical-align: middle;\n    }\n\n    .dataframe tbody tr th {\n        vertical-align: top;\n    }\n\n    .dataframe thead th {\n        text-align: right;\n    }\n</style>\n<table border=\"1\" class=\"dataframe\">\n  <thead>\n    <tr style=\"text-align: right;\">\n      <th></th>\n      <th>chance_of_playing_next_round</th>\n      <th>chance_of_playing_this_round</th>\n      <th>cost_change_event</th>\n      <th>cost_change_start</th>\n      <th>player_type_id</th>\n      <th>expected_points_next_gw</th>\n      <th>expected_points_this_gw</th>\n      <th>event_points</th>\n      <th>form</th>\n      <th>player_id</th>\n      <th>player_news</th>\n      <th>news_added</th>\n      <th>player_price</th>\n      <th>player_photo</th>\n      <th>points_per_game</th>\n      <th>selected_by_percent</th>\n      <th>status</th>\n      <th>team_id</th>\n      <th>team_code</th>\n      <th>total_points</th>\n      <th>total_transfers_in</th>\n      <th>transfers_in_event</th>\n      <th>total_transfers_out</th>\n      <th>transfers_out_event</th>\n      <th>value_form</th>\n      <th>value_season</th>\n      <th>web_name</th>\n      <th>total_minutes</th>\n      <th>goals_scored</th>\n      <th>assists</th>\n      <th>clean_sheets</th>\n      <th>goals_conceded</th>\n      <th>own_goals</th>\n      <th>penalties_saved</th>\n      <th>penalties_missed</th>\n      <th>yellow_cards</th>\n      <th>red_cards</th>\n      <th>saves</th>\n      <th>bonus</th>\n      <th>bps</th>\n      <th>influence</th>\n      <th>creativity</th>\n      <th>threat</th>\n      <th>ict_index</th>\n      <th>influence_rank</th>\n      <th>influence_rank_type</th>\n      <th>creativity_rank</th>\n      <th>creativity_rank_type</th>\n      <th>threat_rank</th>\n      <th>threat_rank_type</th>\n      <th>ict_index_rank</th>\n      <th>ict_index_rank_type</th>\n      <th>corners_and_indirect_freekicks_order</th>\n      <th>direct_freekicks_order</th>\n      <th>penalties_order</th>\n      <th>full_name</th>\n      <th>understat_id</th>\n      <th>games_played</th>\n      <th>xG</th>\n      <th>understat_assists</th>\n      <th>xA</th>\n      <th>shots</th>\n      <th>key_passes</th>\n      <th>npg</th>\n      <th>npxG</th>\n      <th>xGChain</th>\n      <th>xGBuildup</th>\n      <th>team_name</th>\n      <th>team_short_name</th>\n      <th>team_strength</th>\n    </tr>\n  </thead>\n  <tbody>\n    <tr>\n      <th>0</th>\n      <td>100.0</td>\n      <td>100.0</td>\n      <td>0</td>\n      <td>0</td>\n      <td>2</td>\n      <td>0.8</td>\n      <td>0.8</td>\n      <td>0</td>\n      <td>0.3</td>\n      <td>3</td>\n      <td>NaN</td>\n      <td>2020-10-25 21:30:13.186040</td>\n      <td>5.5</td>\n      <td>41270.jpg</td>\n      <td>1.4</td>\n      <td>0.9</td>\n      <td>a</td>\n      <td>1</td>\n      <td>3</td>\n      <td>7</td>\n      <td>34055</td>\n      <td>2625</td>\n      <td>67891</td>\n      <td>2775</td>\n      <td>0.1</td>\n      <td>1.3</td>\n      <td>David Luiz</td>\n      <td>319</td>\n      <td>0</td>\n      <td>0</td>\n      <td>0</td>\n      <td>5</td>\n      <td>0</td>\n      <td>0</td>\n      <td>0</td>\n      <td>0</td>\n      <td>0</td>\n      <td>0</td>\n      <td>0</td>\n      <td>51</td>\n      <td>66.6</td>\n      <td>9.8</td>\n      <td>21.0</td>\n      <td>9.7</td>\n      <td>200</td>\n      <td>83</td>\n      <td>309</td>\n      <td>101</td>\n      <td>236</td>\n      <td>70</td>\n      <td>268</td>\n      <td>90</td>\n      <td>NaN</td>\n      <td>4.0</td>\n      <td>NaN</td>\n      <td>David Luiz Moreira Marinho</td>\n      <td>1676</td>\n      <td>5</td>\n      <td>0.081089</td>\n      <td>0</td>\n      <td>0.000000</td>\n      <td>2</td>\n      <td>0</td>\n      <td>0</td>\n      <td>0.081089</td>\n      <td>0.741946</td>\n      <td>0.741946</td>\n      <td>Arsenal</td>\n      <td>ARS</td>\n      <td>4</td>\n    </tr>\n    <tr>\n      <th>1</th>\n      <td>100.0</td>\n      <td>100.0</td>\n      <td>0</td>\n      <td>-3</td>\n      <td>3</td>\n      <td>4.5</td>\n      <td>4.5</td>\n      <td>2</td>\n      <td>4.0</td>\n      <td>4</td>\n      <td>NaN</td>\n      <td>2020-10-08 09:00:12.305506</td>\n      <td>11.7</td>\n      <td>54694.jpg</td>\n      <td>3.8</td>\n      <td>13.0</td>\n      <td>a</td>\n      <td>1</td>\n      <td>3</td>\n      <td>30</td>\n      <td>427782</td>\n      <td>19641</td>\n      <td>2656471</td>\n      <td>81719</td>\n      <td>0.3</td>\n      <td>2.6</td>\n      <td>Aubameyang</td>\n      <td>716</td>\n      <td>2</td>\n      <td>1</td>\n      <td>2</td>\n      <td>10</td>\n      <td>0</td>\n      <td>0</td>\n      <td>0</td>\n      <td>2</td>\n      <td>0</td>\n      <td>0</td>\n      <td>1</td>\n      <td>111</td>\n      <td>133.4</td>\n      <td>147.8</td>\n      <td>151.0</td>\n      <td>43.2</td>\n      <td>79</td>\n      <td>27</td>\n      <td>32</td>\n      <td>25</td>\n      <td>44</td>\n      <td>25</td>\n      <td>39</td>\n      <td>21</td>\n      <td>NaN</td>\n      <td>6.0</td>\n      <td>1.0</td>\n      <td>Pierre-Emerick Aubameyang</td>\n      <td>318</td>\n      <td>8</td>\n      <td>1.351223</td>\n      <td>1</td>\n      <td>1.316097</td>\n      <td>10</td>\n      <td>10</td>\n      <td>1</td>\n      <td>0.590054</td>\n      <td>2.672929</td>\n      <td>0.848487</td>\n      <td>Arsenal</td>\n      <td>ARS</td>\n      <td>4</td>\n    </tr>\n    <tr>\n      <th>2</th>\n      <td>NaN</td>\n      <td>NaN</td>\n      <td>0</td>\n      <td>-1</td>\n      <td>4</td>\n      <td>2.2</td>\n      <td>2.2</td>\n      <td>2</td>\n      <td>1.7</td>\n      <td>6</td>\n      <td>NaN</td>\n      <td>NaT</td>\n      <td>8.4</td>\n      <td>59966.jpg</td>\n      <td>3.9</td>\n      <td>3.2</td>\n      <td>a</td>\n      <td>1</td>\n      <td>3</td>\n      <td>27</td>\n      <td>264421</td>\n      <td>4870</td>\n      <td>368248</td>\n      <td>18338</td>\n      <td>0.2</td>\n      <td>3.2</td>\n      <td>Lacazette</td>\n      <td>485</td>\n      <td>3</td>\n      <td>0</td>\n      <td>2</td>\n      <td>5</td>\n      <td>0</td>\n      <td>0</td>\n      <td>0</td>\n      <td>1</td>\n      <td>0</td>\n      <td>0</td>\n      <td>3</td>\n      <td>88</td>\n      <td>126.4</td>\n      <td>73.8</td>\n      <td>186.0</td>\n      <td>38.3</td>\n      <td>97</td>\n      <td>14</td>\n      <td>110</td>\n      <td>14</td>\n      <td>34</td>\n      <td>18</td>\n      <td>50</td>\n      <td>16</td>\n      <td>NaN</td>\n      <td>5.0</td>\n      <td>3.0</td>\n      <td>Alexandre Lacazette</td>\n      <td>3277</td>\n      <td>7</td>\n      <td>2.702362</td>\n      <td>0</td>\n      <td>0.309107</td>\n      <td>9</td>\n      <td>6</td>\n      <td>3</td>\n      <td>2.702362</td>\n      <td>3.205895</td>\n      <td>0.328369</td>\n      <td>Arsenal</td>\n      <td>ARS</td>\n      <td>4</td>\n    </tr>\n    <tr>\n      <th>3</th>\n      <td>100.0</td>\n      <td>100.0</td>\n      <td>0</td>\n      <td>0</td>\n      <td>2</td>\n      <td>1.2</td>\n      <td>1.2</td>\n      <td>0</td>\n      <td>0.7</td>\n      <td>7</td>\n      <td>NaN</td>\n      <td>2020-08-15 10:00:11.331812</td>\n      <td>5.0</td>\n      <td>69140.jpg</td>\n      <td>1.0</td>\n      <td>0.0</td>\n      <td>a</td>\n      <td>1</td>\n      <td>3</td>\n      <td>2</td>\n      <td>10844</td>\n      <td>283</td>\n      <td>10708</td>\n      <td>188</td>\n      <td>0.1</td>\n      <td>0.4</td>\n      <td>Mustafi</td>\n      <td>44</td>\n      <td>0</td>\n      <td>0</td>\n      <td>0</td>\n      <td>1</td>\n      <td>0</td>\n      <td>0</td>\n      <td>0</td>\n      <td>0</td>\n      <td>0</td>\n      <td>0</td>\n      <td>0</td>\n      <td>13</td>\n      <td>11.6</td>\n      <td>1.0</td>\n      <td>0.0</td>\n      <td>1.3</td>\n      <td>358</td>\n      <td>140</td>\n      <td>369</td>\n      <td>141</td>\n      <td>554</td>\n      <td>210</td>\n      <td>390</td>\n      <td>145</td>\n      <td>NaN</td>\n      <td>NaN</td>\n      <td>NaN</td>\n      <td>Shkodran Mustafi</td>\n      <td>1699</td>\n      <td>2</td>\n      <td>0.000000</td>\n      <td>0</td>\n      <td>0.000000</td>\n      <td>0</td>\n      <td>0</td>\n      <td>0</td>\n      <td>0.000000</td>\n      <td>0.064725</td>\n      <td>0.064725</td>\n      <td>Arsenal</td>\n      <td>ARS</td>\n      <td>4</td>\n    </tr>\n    <tr>\n      <th>4</th>\n      <td>NaN</td>\n      <td>NaN</td>\n      <td>0</td>\n      <td>0</td>\n      <td>1</td>\n      <td>4.2</td>\n      <td>4.2</td>\n      <td>2</td>\n      <td>3.7</td>\n      <td>8</td>\n      <td>NaN</td>\n      <td>NaT</td>\n      <td>5.0</td>\n      <td>80201.jpg</td>\n      <td>3.5</td>\n      <td>9.0</td>\n      <td>a</td>\n      <td>1</td>\n      <td>3</td>\n      <td>28</td>\n      <td>375612</td>\n      <td>7585</td>\n      <td>346656</td>\n      <td>24258</td>\n      <td>0.7</td>\n      <td>5.6</td>\n      <td>Leno</td>\n      <td>720</td>\n      <td>0</td>\n      <td>0</td>\n      <td>2</td>\n      <td>10</td>\n      <td>0</td>\n      <td>0</td>\n      <td>0</td>\n      <td>0</td>\n      <td>0</td>\n      <td>21</td>\n      <td>2</td>\n      <td>150</td>\n      <td>171.2</td>\n      <td>0.0</td>\n      <td>0.0</td>\n      <td>17.1</td>\n      <td>41</td>\n      <td>8</td>\n      <td>564</td>\n      <td>59</td>\n      <td>556</td>\n      <td>59</td>\n      <td>177</td>\n      <td>9</td>\n      <td>NaN</td>\n      <td>NaN</td>\n      <td>NaN</td>\n      <td>Bernd Leno</td>\n      <td>181</td>\n      <td>8</td>\n      <td>0.000000</td>\n      <td>0</td>\n      <td>0.000000</td>\n      <td>0</td>\n      <td>0</td>\n      <td>0</td>\n      <td>0.000000</td>\n      <td>0.880429</td>\n      <td>0.880429</td>\n      <td>Arsenal</td>\n      <td>ARS</td>\n      <td>4</td>\n    </tr>\n  </tbody>\n</table>\n</div>"
     },
     "metadata": {},
     "execution_count": 98
    }
   ],
   "source": [
    "df_merge = all_teams[[\"team_id\" , \"team_name\" , \"team_short_name\" , \"team_strength\"]]\n",
    "all_players = all_players.merge(df_merge , on =\"team_id\")\n",
    "all_players.head()"
   ]
  },
  {
   "source": [
    "### all_players & player_types"
   ],
   "cell_type": "markdown",
   "metadata": {}
  },
  {
   "cell_type": "code",
   "execution_count": 99,
   "metadata": {},
   "outputs": [
    {
     "output_type": "execute_result",
     "data": {
      "text/plain": [
       "   chance_of_playing_next_round  chance_of_playing_this_round  cost_change_event  cost_change_start  player_type_id  expected_points_next_gw  expected_points_this_gw  event_points  form  player_id                     player_news                 news_added  player_price player_photo  points_per_game  selected_by_percent status  team_id  team_code  total_points  total_transfers_in  transfers_in_event  total_transfers_out  transfers_out_event  value_form  value_season        web_name  total_minutes  goals_scored  assists  clean_sheets  goals_conceded  own_goals  penalties_saved  penalties_missed  yellow_cards  red_cards  saves  bonus  bps  influence  creativity  threat  ict_index  influence_rank  influence_rank_type  creativity_rank  creativity_rank_type  threat_rank  threat_rank_type  ict_index_rank  ict_index_rank_type  corners_and_indirect_freekicks_order  direct_freekicks_order  penalties_order                   full_name  understat_id  games_played        xG  understat_assists  \\\n",
       "0                         100.0                         100.0                  0                  0               2                      0.8                      0.8             0   0.3          3                             NaN 2020-10-25 21:30:13.186040           5.5    41270.jpg              1.4                  0.9      a        1          3             7               34055                2625                67891                 2775         0.1           1.3      David Luiz            319             0        0             0               5          0                0                 0             0          0      0      0   51       66.6         9.8    21.0        9.7             200                   83              309                   101          236                70             268                   90                                   NaN                     4.0              NaN  David Luiz Moreira Marinho          1676             5  0.081089                  0   \n",
       "1                         100.0                         100.0                  0                  0               2                      1.2                      1.2             0   0.7          7                             NaN 2020-08-15 10:00:11.331812           5.0    69140.jpg              1.0                  0.0      a        1          3             2               10844                 283                10708                  188         0.1           0.4         Mustafi             44             0        0             0               1          0                0                 0             0          0      0      0   13       11.6         1.0     0.0        1.3             358                  140              369                   141          554               210             390                  145                                   NaN                     NaN              NaN            Shkodran Mustafi          1699             2  0.000000                  0   \n",
       "2                           NaN                           NaN                  0                  1               2                      5.2                      5.2             1   4.7         11                             NaN                        NaT           5.1    98745.jpg              4.2                  8.2      a        1          3            34              490328               38775               252524                24700         0.9           6.7        Bellerín            720             0        3             2              10          0                0                 0             3          0      0      6  152      126.6        91.4    49.0       26.8              96                   34               80                    21          161                38              93                   21                                   NaN                     NaN              NaN             Héctor Bellerín           492             8  0.086247                  2   \n",
       "3                           0.0                           NaN                  0                 -2               2                      0.0                      0.5             0   0.0         14  Illness - Expected back 29 Nov 2020-11-18 14:00:19.656655           4.8   111457.jpg              2.0                  0.2      i        1          3             2                4711                 140                16107                  700         0.0           0.4       Kolasinac             90             0        0             0               1          0                0                 0             0          0      0      0    9        3.6         5.4     4.0        1.3             389                  148              320                   107          326               117             389                  144                                   NaN                     NaN              NaN              Sead Kolasinac           342             1  0.000000                  0   \n",
       "4                           NaN                           NaN                  0                 -2               2                      0.8                      0.8             0   0.3         15                             NaN                        NaT           4.8   154043.jpg              2.2                  1.1      a        1          3             9               46535                 577               118487                 4646         0.1           1.9  Maitland-Niles            187             0        0             1               3          0                0                 0             0          0      0      0   35       20.2         4.3     7.0        3.2             326                  133              329                   115          302               102             357                  128                                   NaN                     NaN              NaN      Ainsley Maitland-Niles          1750             4  0.046203                  0   \n",
       "\n",
       "         xA  shots  key_passes  npg      npxG   xGChain  xGBuildup team_name team_short_name  team_strength position_name position_name_short  \n",
       "0  0.000000      2           0    0  0.081089  0.741946   0.741946   Arsenal             ARS              4      Defender                 DEF  \n",
       "1  0.000000      0           0    0  0.000000  0.064725   0.064725   Arsenal             ARS              4      Defender                 DEF  \n",
       "2  0.625473      2           4    0  0.086247  2.223799   2.052540   Arsenal             ARS              4      Defender                 DEF  \n",
       "3  0.000000      0           0    0  0.000000  0.429358   0.429358   Arsenal             ARS              4      Defender                 DEF  \n",
       "4  0.000000      1           0    0  0.046203  0.627582   0.581378   Arsenal             ARS              4      Defender                 DEF  "
      ],
      "text/html": "<div>\n<style scoped>\n    .dataframe tbody tr th:only-of-type {\n        vertical-align: middle;\n    }\n\n    .dataframe tbody tr th {\n        vertical-align: top;\n    }\n\n    .dataframe thead th {\n        text-align: right;\n    }\n</style>\n<table border=\"1\" class=\"dataframe\">\n  <thead>\n    <tr style=\"text-align: right;\">\n      <th></th>\n      <th>chance_of_playing_next_round</th>\n      <th>chance_of_playing_this_round</th>\n      <th>cost_change_event</th>\n      <th>cost_change_start</th>\n      <th>player_type_id</th>\n      <th>expected_points_next_gw</th>\n      <th>expected_points_this_gw</th>\n      <th>event_points</th>\n      <th>form</th>\n      <th>player_id</th>\n      <th>player_news</th>\n      <th>news_added</th>\n      <th>player_price</th>\n      <th>player_photo</th>\n      <th>points_per_game</th>\n      <th>selected_by_percent</th>\n      <th>status</th>\n      <th>team_id</th>\n      <th>team_code</th>\n      <th>total_points</th>\n      <th>total_transfers_in</th>\n      <th>transfers_in_event</th>\n      <th>total_transfers_out</th>\n      <th>transfers_out_event</th>\n      <th>value_form</th>\n      <th>value_season</th>\n      <th>web_name</th>\n      <th>total_minutes</th>\n      <th>goals_scored</th>\n      <th>assists</th>\n      <th>clean_sheets</th>\n      <th>goals_conceded</th>\n      <th>own_goals</th>\n      <th>penalties_saved</th>\n      <th>penalties_missed</th>\n      <th>yellow_cards</th>\n      <th>red_cards</th>\n      <th>saves</th>\n      <th>bonus</th>\n      <th>bps</th>\n      <th>influence</th>\n      <th>creativity</th>\n      <th>threat</th>\n      <th>ict_index</th>\n      <th>influence_rank</th>\n      <th>influence_rank_type</th>\n      <th>creativity_rank</th>\n      <th>creativity_rank_type</th>\n      <th>threat_rank</th>\n      <th>threat_rank_type</th>\n      <th>ict_index_rank</th>\n      <th>ict_index_rank_type</th>\n      <th>corners_and_indirect_freekicks_order</th>\n      <th>direct_freekicks_order</th>\n      <th>penalties_order</th>\n      <th>full_name</th>\n      <th>understat_id</th>\n      <th>games_played</th>\n      <th>xG</th>\n      <th>understat_assists</th>\n      <th>xA</th>\n      <th>shots</th>\n      <th>key_passes</th>\n      <th>npg</th>\n      <th>npxG</th>\n      <th>xGChain</th>\n      <th>xGBuildup</th>\n      <th>team_name</th>\n      <th>team_short_name</th>\n      <th>team_strength</th>\n      <th>position_name</th>\n      <th>position_name_short</th>\n    </tr>\n  </thead>\n  <tbody>\n    <tr>\n      <th>0</th>\n      <td>100.0</td>\n      <td>100.0</td>\n      <td>0</td>\n      <td>0</td>\n      <td>2</td>\n      <td>0.8</td>\n      <td>0.8</td>\n      <td>0</td>\n      <td>0.3</td>\n      <td>3</td>\n      <td>NaN</td>\n      <td>2020-10-25 21:30:13.186040</td>\n      <td>5.5</td>\n      <td>41270.jpg</td>\n      <td>1.4</td>\n      <td>0.9</td>\n      <td>a</td>\n      <td>1</td>\n      <td>3</td>\n      <td>7</td>\n      <td>34055</td>\n      <td>2625</td>\n      <td>67891</td>\n      <td>2775</td>\n      <td>0.1</td>\n      <td>1.3</td>\n      <td>David Luiz</td>\n      <td>319</td>\n      <td>0</td>\n      <td>0</td>\n      <td>0</td>\n      <td>5</td>\n      <td>0</td>\n      <td>0</td>\n      <td>0</td>\n      <td>0</td>\n      <td>0</td>\n      <td>0</td>\n      <td>0</td>\n      <td>51</td>\n      <td>66.6</td>\n      <td>9.8</td>\n      <td>21.0</td>\n      <td>9.7</td>\n      <td>200</td>\n      <td>83</td>\n      <td>309</td>\n      <td>101</td>\n      <td>236</td>\n      <td>70</td>\n      <td>268</td>\n      <td>90</td>\n      <td>NaN</td>\n      <td>4.0</td>\n      <td>NaN</td>\n      <td>David Luiz Moreira Marinho</td>\n      <td>1676</td>\n      <td>5</td>\n      <td>0.081089</td>\n      <td>0</td>\n      <td>0.000000</td>\n      <td>2</td>\n      <td>0</td>\n      <td>0</td>\n      <td>0.081089</td>\n      <td>0.741946</td>\n      <td>0.741946</td>\n      <td>Arsenal</td>\n      <td>ARS</td>\n      <td>4</td>\n      <td>Defender</td>\n      <td>DEF</td>\n    </tr>\n    <tr>\n      <th>1</th>\n      <td>100.0</td>\n      <td>100.0</td>\n      <td>0</td>\n      <td>0</td>\n      <td>2</td>\n      <td>1.2</td>\n      <td>1.2</td>\n      <td>0</td>\n      <td>0.7</td>\n      <td>7</td>\n      <td>NaN</td>\n      <td>2020-08-15 10:00:11.331812</td>\n      <td>5.0</td>\n      <td>69140.jpg</td>\n      <td>1.0</td>\n      <td>0.0</td>\n      <td>a</td>\n      <td>1</td>\n      <td>3</td>\n      <td>2</td>\n      <td>10844</td>\n      <td>283</td>\n      <td>10708</td>\n      <td>188</td>\n      <td>0.1</td>\n      <td>0.4</td>\n      <td>Mustafi</td>\n      <td>44</td>\n      <td>0</td>\n      <td>0</td>\n      <td>0</td>\n      <td>1</td>\n      <td>0</td>\n      <td>0</td>\n      <td>0</td>\n      <td>0</td>\n      <td>0</td>\n      <td>0</td>\n      <td>0</td>\n      <td>13</td>\n      <td>11.6</td>\n      <td>1.0</td>\n      <td>0.0</td>\n      <td>1.3</td>\n      <td>358</td>\n      <td>140</td>\n      <td>369</td>\n      <td>141</td>\n      <td>554</td>\n      <td>210</td>\n      <td>390</td>\n      <td>145</td>\n      <td>NaN</td>\n      <td>NaN</td>\n      <td>NaN</td>\n      <td>Shkodran Mustafi</td>\n      <td>1699</td>\n      <td>2</td>\n      <td>0.000000</td>\n      <td>0</td>\n      <td>0.000000</td>\n      <td>0</td>\n      <td>0</td>\n      <td>0</td>\n      <td>0.000000</td>\n      <td>0.064725</td>\n      <td>0.064725</td>\n      <td>Arsenal</td>\n      <td>ARS</td>\n      <td>4</td>\n      <td>Defender</td>\n      <td>DEF</td>\n    </tr>\n    <tr>\n      <th>2</th>\n      <td>NaN</td>\n      <td>NaN</td>\n      <td>0</td>\n      <td>1</td>\n      <td>2</td>\n      <td>5.2</td>\n      <td>5.2</td>\n      <td>1</td>\n      <td>4.7</td>\n      <td>11</td>\n      <td>NaN</td>\n      <td>NaT</td>\n      <td>5.1</td>\n      <td>98745.jpg</td>\n      <td>4.2</td>\n      <td>8.2</td>\n      <td>a</td>\n      <td>1</td>\n      <td>3</td>\n      <td>34</td>\n      <td>490328</td>\n      <td>38775</td>\n      <td>252524</td>\n      <td>24700</td>\n      <td>0.9</td>\n      <td>6.7</td>\n      <td>Bellerín</td>\n      <td>720</td>\n      <td>0</td>\n      <td>3</td>\n      <td>2</td>\n      <td>10</td>\n      <td>0</td>\n      <td>0</td>\n      <td>0</td>\n      <td>3</td>\n      <td>0</td>\n      <td>0</td>\n      <td>6</td>\n      <td>152</td>\n      <td>126.6</td>\n      <td>91.4</td>\n      <td>49.0</td>\n      <td>26.8</td>\n      <td>96</td>\n      <td>34</td>\n      <td>80</td>\n      <td>21</td>\n      <td>161</td>\n      <td>38</td>\n      <td>93</td>\n      <td>21</td>\n      <td>NaN</td>\n      <td>NaN</td>\n      <td>NaN</td>\n      <td>Héctor Bellerín</td>\n      <td>492</td>\n      <td>8</td>\n      <td>0.086247</td>\n      <td>2</td>\n      <td>0.625473</td>\n      <td>2</td>\n      <td>4</td>\n      <td>0</td>\n      <td>0.086247</td>\n      <td>2.223799</td>\n      <td>2.052540</td>\n      <td>Arsenal</td>\n      <td>ARS</td>\n      <td>4</td>\n      <td>Defender</td>\n      <td>DEF</td>\n    </tr>\n    <tr>\n      <th>3</th>\n      <td>0.0</td>\n      <td>NaN</td>\n      <td>0</td>\n      <td>-2</td>\n      <td>2</td>\n      <td>0.0</td>\n      <td>0.5</td>\n      <td>0</td>\n      <td>0.0</td>\n      <td>14</td>\n      <td>Illness - Expected back 29 Nov</td>\n      <td>2020-11-18 14:00:19.656655</td>\n      <td>4.8</td>\n      <td>111457.jpg</td>\n      <td>2.0</td>\n      <td>0.2</td>\n      <td>i</td>\n      <td>1</td>\n      <td>3</td>\n      <td>2</td>\n      <td>4711</td>\n      <td>140</td>\n      <td>16107</td>\n      <td>700</td>\n      <td>0.0</td>\n      <td>0.4</td>\n      <td>Kolasinac</td>\n      <td>90</td>\n      <td>0</td>\n      <td>0</td>\n      <td>0</td>\n      <td>1</td>\n      <td>0</td>\n      <td>0</td>\n      <td>0</td>\n      <td>0</td>\n      <td>0</td>\n      <td>0</td>\n      <td>0</td>\n      <td>9</td>\n      <td>3.6</td>\n      <td>5.4</td>\n      <td>4.0</td>\n      <td>1.3</td>\n      <td>389</td>\n      <td>148</td>\n      <td>320</td>\n      <td>107</td>\n      <td>326</td>\n      <td>117</td>\n      <td>389</td>\n      <td>144</td>\n      <td>NaN</td>\n      <td>NaN</td>\n      <td>NaN</td>\n      <td>Sead Kolasinac</td>\n      <td>342</td>\n      <td>1</td>\n      <td>0.000000</td>\n      <td>0</td>\n      <td>0.000000</td>\n      <td>0</td>\n      <td>0</td>\n      <td>0</td>\n      <td>0.000000</td>\n      <td>0.429358</td>\n      <td>0.429358</td>\n      <td>Arsenal</td>\n      <td>ARS</td>\n      <td>4</td>\n      <td>Defender</td>\n      <td>DEF</td>\n    </tr>\n    <tr>\n      <th>4</th>\n      <td>NaN</td>\n      <td>NaN</td>\n      <td>0</td>\n      <td>-2</td>\n      <td>2</td>\n      <td>0.8</td>\n      <td>0.8</td>\n      <td>0</td>\n      <td>0.3</td>\n      <td>15</td>\n      <td>NaN</td>\n      <td>NaT</td>\n      <td>4.8</td>\n      <td>154043.jpg</td>\n      <td>2.2</td>\n      <td>1.1</td>\n      <td>a</td>\n      <td>1</td>\n      <td>3</td>\n      <td>9</td>\n      <td>46535</td>\n      <td>577</td>\n      <td>118487</td>\n      <td>4646</td>\n      <td>0.1</td>\n      <td>1.9</td>\n      <td>Maitland-Niles</td>\n      <td>187</td>\n      <td>0</td>\n      <td>0</td>\n      <td>1</td>\n      <td>3</td>\n      <td>0</td>\n      <td>0</td>\n      <td>0</td>\n      <td>0</td>\n      <td>0</td>\n      <td>0</td>\n      <td>0</td>\n      <td>35</td>\n      <td>20.2</td>\n      <td>4.3</td>\n      <td>7.0</td>\n      <td>3.2</td>\n      <td>326</td>\n      <td>133</td>\n      <td>329</td>\n      <td>115</td>\n      <td>302</td>\n      <td>102</td>\n      <td>357</td>\n      <td>128</td>\n      <td>NaN</td>\n      <td>NaN</td>\n      <td>NaN</td>\n      <td>Ainsley Maitland-Niles</td>\n      <td>1750</td>\n      <td>4</td>\n      <td>0.046203</td>\n      <td>0</td>\n      <td>0.000000</td>\n      <td>1</td>\n      <td>0</td>\n      <td>0</td>\n      <td>0.046203</td>\n      <td>0.627582</td>\n      <td>0.581378</td>\n      <td>Arsenal</td>\n      <td>ARS</td>\n      <td>4</td>\n      <td>Defender</td>\n      <td>DEF</td>\n    </tr>\n  </tbody>\n</table>\n</div>"
     },
     "metadata": {},
     "execution_count": 99
    }
   ],
   "source": [
    "df_merge = player_types[[\"player_type_id\" , \"position_name\" , \"position_name_short\"]]\n",
    "all_players = all_players.merge(df_merge , on=\"player_type_id\")\n",
    "all_players.head()"
   ]
  },
  {
   "source": [
    "## PLAYER GAMEWEEK HISTORY"
   ],
   "cell_type": "markdown",
   "metadata": {}
  },
  {
   "source": [
    "### APPEND player_future_gameweek to player_gameweek_history"
   ],
   "cell_type": "markdown",
   "metadata": {}
  },
  {
   "cell_type": "code",
   "execution_count": 100,
   "metadata": {},
   "outputs": [],
   "source": [
    "#player_gameweek_all = player_gameweek_history.append(player_future_fixture)"
   ]
  },
  {
   "source": [
    "### player_gameweek_history & all_players"
   ],
   "cell_type": "markdown",
   "metadata": {}
  },
  {
   "cell_type": "code",
   "execution_count": 101,
   "metadata": {},
   "outputs": [
    {
     "output_type": "execute_result",
     "data": {
      "text/plain": [
       "   player_id  fixture_id  opponent_team_id  total_points  home_game        kickoff_time  round  minutes_played  goals_scored  assists  clean_sheets  goals_conceded  own_goals  penalties_saved  penalties_missed  yellow_cards  red_cards  saves  bonus  bps  influence  creativity  threat  ict_index  player_price  transfers_balance  selected  transfers_in  transfers_out  team_score  opponent_team_score\n",
       "0          1           2                 8           0.0      False 2020-09-12 11:30:00      1               0             0        0             0               0          0                0                 0             0          0      0      0    0        0.0         0.0     0.0        0.0           7.0                  0     76656             0              0           3                    0\n",
       "1          1           9                19           0.0       True 2020-09-19 19:00:00      2               0             0        0             0               0          0                0                 0             0          0      0      0    0        0.0         0.0     0.0        0.0           6.9             -16828     68335           995          17823           2                    1\n",
       "2          1          23                11           0.0      False 2020-09-28 19:00:00      3               0             0        0             0               0          0                0                 0             0          0      0      0    0        0.0         0.0     0.0        0.0           6.9             -11451     59793           675          12126           1                    3\n",
       "3          1          29                15           0.0       True 2020-10-04 13:00:00      4               0             0        0             0               0          0                0                 0             0          0      0      0    0        0.0         0.0     0.0        0.0           6.8              -5324     56403           647           5971           2                    1\n",
       "4          1          44                12           0.0      False 2020-10-17 16:30:00      5               0             0        0             0               0          0                0                 0             0          0      0      0    0        0.0         0.0     0.0        0.0           6.8              -4224     53689           616           4840           0                    1"
      ],
      "text/html": "<div>\n<style scoped>\n    .dataframe tbody tr th:only-of-type {\n        vertical-align: middle;\n    }\n\n    .dataframe tbody tr th {\n        vertical-align: top;\n    }\n\n    .dataframe thead th {\n        text-align: right;\n    }\n</style>\n<table border=\"1\" class=\"dataframe\">\n  <thead>\n    <tr style=\"text-align: right;\">\n      <th></th>\n      <th>player_id</th>\n      <th>fixture_id</th>\n      <th>opponent_team_id</th>\n      <th>total_points</th>\n      <th>home_game</th>\n      <th>kickoff_time</th>\n      <th>round</th>\n      <th>minutes_played</th>\n      <th>goals_scored</th>\n      <th>assists</th>\n      <th>clean_sheets</th>\n      <th>goals_conceded</th>\n      <th>own_goals</th>\n      <th>penalties_saved</th>\n      <th>penalties_missed</th>\n      <th>yellow_cards</th>\n      <th>red_cards</th>\n      <th>saves</th>\n      <th>bonus</th>\n      <th>bps</th>\n      <th>influence</th>\n      <th>creativity</th>\n      <th>threat</th>\n      <th>ict_index</th>\n      <th>player_price</th>\n      <th>transfers_balance</th>\n      <th>selected</th>\n      <th>transfers_in</th>\n      <th>transfers_out</th>\n      <th>team_score</th>\n      <th>opponent_team_score</th>\n    </tr>\n  </thead>\n  <tbody>\n    <tr>\n      <th>0</th>\n      <td>1</td>\n      <td>2</td>\n      <td>8</td>\n      <td>0.0</td>\n      <td>False</td>\n      <td>2020-09-12 11:30:00</td>\n      <td>1</td>\n      <td>0</td>\n      <td>0</td>\n      <td>0</td>\n      <td>0</td>\n      <td>0</td>\n      <td>0</td>\n      <td>0</td>\n      <td>0</td>\n      <td>0</td>\n      <td>0</td>\n      <td>0</td>\n      <td>0</td>\n      <td>0</td>\n      <td>0.0</td>\n      <td>0.0</td>\n      <td>0.0</td>\n      <td>0.0</td>\n      <td>7.0</td>\n      <td>0</td>\n      <td>76656</td>\n      <td>0</td>\n      <td>0</td>\n      <td>3</td>\n      <td>0</td>\n    </tr>\n    <tr>\n      <th>1</th>\n      <td>1</td>\n      <td>9</td>\n      <td>19</td>\n      <td>0.0</td>\n      <td>True</td>\n      <td>2020-09-19 19:00:00</td>\n      <td>2</td>\n      <td>0</td>\n      <td>0</td>\n      <td>0</td>\n      <td>0</td>\n      <td>0</td>\n      <td>0</td>\n      <td>0</td>\n      <td>0</td>\n      <td>0</td>\n      <td>0</td>\n      <td>0</td>\n      <td>0</td>\n      <td>0</td>\n      <td>0.0</td>\n      <td>0.0</td>\n      <td>0.0</td>\n      <td>0.0</td>\n      <td>6.9</td>\n      <td>-16828</td>\n      <td>68335</td>\n      <td>995</td>\n      <td>17823</td>\n      <td>2</td>\n      <td>1</td>\n    </tr>\n    <tr>\n      <th>2</th>\n      <td>1</td>\n      <td>23</td>\n      <td>11</td>\n      <td>0.0</td>\n      <td>False</td>\n      <td>2020-09-28 19:00:00</td>\n      <td>3</td>\n      <td>0</td>\n      <td>0</td>\n      <td>0</td>\n      <td>0</td>\n      <td>0</td>\n      <td>0</td>\n      <td>0</td>\n      <td>0</td>\n      <td>0</td>\n      <td>0</td>\n      <td>0</td>\n      <td>0</td>\n      <td>0</td>\n      <td>0.0</td>\n      <td>0.0</td>\n      <td>0.0</td>\n      <td>0.0</td>\n      <td>6.9</td>\n      <td>-11451</td>\n      <td>59793</td>\n      <td>675</td>\n      <td>12126</td>\n      <td>1</td>\n      <td>3</td>\n    </tr>\n    <tr>\n      <th>3</th>\n      <td>1</td>\n      <td>29</td>\n      <td>15</td>\n      <td>0.0</td>\n      <td>True</td>\n      <td>2020-10-04 13:00:00</td>\n      <td>4</td>\n      <td>0</td>\n      <td>0</td>\n      <td>0</td>\n      <td>0</td>\n      <td>0</td>\n      <td>0</td>\n      <td>0</td>\n      <td>0</td>\n      <td>0</td>\n      <td>0</td>\n      <td>0</td>\n      <td>0</td>\n      <td>0</td>\n      <td>0.0</td>\n      <td>0.0</td>\n      <td>0.0</td>\n      <td>0.0</td>\n      <td>6.8</td>\n      <td>-5324</td>\n      <td>56403</td>\n      <td>647</td>\n      <td>5971</td>\n      <td>2</td>\n      <td>1</td>\n    </tr>\n    <tr>\n      <th>4</th>\n      <td>1</td>\n      <td>44</td>\n      <td>12</td>\n      <td>0.0</td>\n      <td>False</td>\n      <td>2020-10-17 16:30:00</td>\n      <td>5</td>\n      <td>0</td>\n      <td>0</td>\n      <td>0</td>\n      <td>0</td>\n      <td>0</td>\n      <td>0</td>\n      <td>0</td>\n      <td>0</td>\n      <td>0</td>\n      <td>0</td>\n      <td>0</td>\n      <td>0</td>\n      <td>0</td>\n      <td>0.0</td>\n      <td>0.0</td>\n      <td>0.0</td>\n      <td>0.0</td>\n      <td>6.8</td>\n      <td>-4224</td>\n      <td>53689</td>\n      <td>616</td>\n      <td>4840</td>\n      <td>0</td>\n      <td>1</td>\n    </tr>\n  </tbody>\n</table>\n</div>"
     },
     "metadata": {},
     "execution_count": 101
    }
   ],
   "source": [
    "player_gameweek_history.head()"
   ]
  },
  {
   "cell_type": "code",
   "execution_count": 102,
   "metadata": {},
   "outputs": [
    {
     "output_type": "execute_result",
     "data": {
      "text/plain": [
       "Index(['chance_of_playing_next_round', 'chance_of_playing_this_round', 'cost_change_event', 'cost_change_start', 'player_type_id', 'expected_points_next_gw', 'expected_points_this_gw', 'event_points', 'form', 'player_id', 'player_news', 'news_added', 'player_price', 'player_photo', 'points_per_game', 'selected_by_percent', 'status', 'team_id', 'team_code', 'total_points', 'total_transfers_in', 'transfers_in_event', 'total_transfers_out', 'transfers_out_event', 'value_form', 'value_season', 'web_name', 'total_minutes', 'goals_scored', 'assists', 'clean_sheets', 'goals_conceded', 'own_goals', 'penalties_saved', 'penalties_missed', 'yellow_cards', 'red_cards', 'saves', 'bonus', 'bps', 'influence', 'creativity', 'threat', 'ict_index', 'influence_rank', 'influence_rank_type', 'creativity_rank', 'creativity_rank_type', 'threat_rank', 'threat_rank_type', 'ict_index_rank', 'ict_index_rank_type', 'corners_and_indirect_freekicks_order', 'direct_freekicks_order', 'penalties_order', 'full_name',\n",
       "       'understat_id', 'games_played', 'xG', 'understat_assists', 'xA', 'shots', 'key_passes', 'npg', 'npxG', 'xGChain', 'xGBuildup', 'team_name', 'team_short_name', 'team_strength', 'position_name', 'position_name_short'],\n",
       "      dtype='object')"
      ]
     },
     "metadata": {},
     "execution_count": 102
    }
   ],
   "source": [
    "all_players.columns"
   ]
  },
  {
   "cell_type": "code",
   "execution_count": null,
   "metadata": {},
   "outputs": [],
   "source": []
  },
  {
   "cell_type": "code",
   "execution_count": 103,
   "metadata": {},
   "outputs": [
    {
     "output_type": "execute_result",
     "data": {
      "text/plain": [
       "      player_id  fixture_id  opponent_team_id  total_points  home_game        kickoff_time  round  minutes_played  goals_scored  assists  clean_sheets  goals_conceded  own_goals  penalties_saved  penalties_missed  yellow_cards  red_cards  saves  bonus  bps  influence  creativity  threat  ict_index  player_price  transfers_balance  selected  transfers_in  transfers_out  team_score  opponent_team_score  team_id  corners_and_indirect_freekicks_order  direct_freekicks_order  penalties_order team_short_name position_name_short  team_strength         full_name\n",
       "3126        590          56                 7           1.0       True 2020-10-25 14:00:00      6               1             0        0             0               0          0                0                 0             0          0      0      0    3        0.0         0.0     0.0        0.0           4.5                  0         0             0              0           2                    0       16                                   NaN                     NaN              NaN             SOU                 FWD              3  Daniel N'Lundulu\n",
       "3127        590          59                 2           0.0      False 2020-11-01 12:00:00      7               0             0        0             0               0          0                0                 0             0          0      0      0    0        0.0         0.0     0.0        0.0           4.5               2506      3338          3037            531           4                    3       16                                   NaN                     NaN              NaN             SOU                 FWD              3  Daniel N'Lundulu\n",
       "3128        590          76                14           0.0       True 2020-11-06 20:00:00      8               0             0        0             0               0          0                0                 0             0          0      0      0    0        0.0         0.0     0.0        0.0           4.5                 30      3431           896            866           2                    0       16                                   NaN                     NaN              NaN             SOU                 FWD              3  Daniel N'Lundulu\n",
       "3129        597          67                17           1.0      False 2020-11-01 19:15:00      7              90             0        0             0               2          0                0                 0             0          0      2      0   12       19.0         0.0     0.0        1.9           4.5                  0         0             0              0           1                    2        3                                   NaN                     NaN              NaN             BHA                 GKP              3    Robert Sánchez\n",
       "3130        597          70                 4           0.0       True 2020-11-06 17:30:00      8               0             0        0             0               0          0                0                 0             0          0      0      0    0        0.0         0.0     0.0        0.0           4.5               1024      1558          1203            179           0                    0        3                                   NaN                     NaN              NaN             BHA                 GKP              3    Robert Sánchez"
      ],
      "text/html": "<div>\n<style scoped>\n    .dataframe tbody tr th:only-of-type {\n        vertical-align: middle;\n    }\n\n    .dataframe tbody tr th {\n        vertical-align: top;\n    }\n\n    .dataframe thead th {\n        text-align: right;\n    }\n</style>\n<table border=\"1\" class=\"dataframe\">\n  <thead>\n    <tr style=\"text-align: right;\">\n      <th></th>\n      <th>player_id</th>\n      <th>fixture_id</th>\n      <th>opponent_team_id</th>\n      <th>total_points</th>\n      <th>home_game</th>\n      <th>kickoff_time</th>\n      <th>round</th>\n      <th>minutes_played</th>\n      <th>goals_scored</th>\n      <th>assists</th>\n      <th>clean_sheets</th>\n      <th>goals_conceded</th>\n      <th>own_goals</th>\n      <th>penalties_saved</th>\n      <th>penalties_missed</th>\n      <th>yellow_cards</th>\n      <th>red_cards</th>\n      <th>saves</th>\n      <th>bonus</th>\n      <th>bps</th>\n      <th>influence</th>\n      <th>creativity</th>\n      <th>threat</th>\n      <th>ict_index</th>\n      <th>player_price</th>\n      <th>transfers_balance</th>\n      <th>selected</th>\n      <th>transfers_in</th>\n      <th>transfers_out</th>\n      <th>team_score</th>\n      <th>opponent_team_score</th>\n      <th>team_id</th>\n      <th>corners_and_indirect_freekicks_order</th>\n      <th>direct_freekicks_order</th>\n      <th>penalties_order</th>\n      <th>team_short_name</th>\n      <th>position_name_short</th>\n      <th>team_strength</th>\n      <th>full_name</th>\n    </tr>\n  </thead>\n  <tbody>\n    <tr>\n      <th>3126</th>\n      <td>590</td>\n      <td>56</td>\n      <td>7</td>\n      <td>1.0</td>\n      <td>True</td>\n      <td>2020-10-25 14:00:00</td>\n      <td>6</td>\n      <td>1</td>\n      <td>0</td>\n      <td>0</td>\n      <td>0</td>\n      <td>0</td>\n      <td>0</td>\n      <td>0</td>\n      <td>0</td>\n      <td>0</td>\n      <td>0</td>\n      <td>0</td>\n      <td>0</td>\n      <td>3</td>\n      <td>0.0</td>\n      <td>0.0</td>\n      <td>0.0</td>\n      <td>0.0</td>\n      <td>4.5</td>\n      <td>0</td>\n      <td>0</td>\n      <td>0</td>\n      <td>0</td>\n      <td>2</td>\n      <td>0</td>\n      <td>16</td>\n      <td>NaN</td>\n      <td>NaN</td>\n      <td>NaN</td>\n      <td>SOU</td>\n      <td>FWD</td>\n      <td>3</td>\n      <td>Daniel N'Lundulu</td>\n    </tr>\n    <tr>\n      <th>3127</th>\n      <td>590</td>\n      <td>59</td>\n      <td>2</td>\n      <td>0.0</td>\n      <td>False</td>\n      <td>2020-11-01 12:00:00</td>\n      <td>7</td>\n      <td>0</td>\n      <td>0</td>\n      <td>0</td>\n      <td>0</td>\n      <td>0</td>\n      <td>0</td>\n      <td>0</td>\n      <td>0</td>\n      <td>0</td>\n      <td>0</td>\n      <td>0</td>\n      <td>0</td>\n      <td>0</td>\n      <td>0.0</td>\n      <td>0.0</td>\n      <td>0.0</td>\n      <td>0.0</td>\n      <td>4.5</td>\n      <td>2506</td>\n      <td>3338</td>\n      <td>3037</td>\n      <td>531</td>\n      <td>4</td>\n      <td>3</td>\n      <td>16</td>\n      <td>NaN</td>\n      <td>NaN</td>\n      <td>NaN</td>\n      <td>SOU</td>\n      <td>FWD</td>\n      <td>3</td>\n      <td>Daniel N'Lundulu</td>\n    </tr>\n    <tr>\n      <th>3128</th>\n      <td>590</td>\n      <td>76</td>\n      <td>14</td>\n      <td>0.0</td>\n      <td>True</td>\n      <td>2020-11-06 20:00:00</td>\n      <td>8</td>\n      <td>0</td>\n      <td>0</td>\n      <td>0</td>\n      <td>0</td>\n      <td>0</td>\n      <td>0</td>\n      <td>0</td>\n      <td>0</td>\n      <td>0</td>\n      <td>0</td>\n      <td>0</td>\n      <td>0</td>\n      <td>0</td>\n      <td>0.0</td>\n      <td>0.0</td>\n      <td>0.0</td>\n      <td>0.0</td>\n      <td>4.5</td>\n      <td>30</td>\n      <td>3431</td>\n      <td>896</td>\n      <td>866</td>\n      <td>2</td>\n      <td>0</td>\n      <td>16</td>\n      <td>NaN</td>\n      <td>NaN</td>\n      <td>NaN</td>\n      <td>SOU</td>\n      <td>FWD</td>\n      <td>3</td>\n      <td>Daniel N'Lundulu</td>\n    </tr>\n    <tr>\n      <th>3129</th>\n      <td>597</td>\n      <td>67</td>\n      <td>17</td>\n      <td>1.0</td>\n      <td>False</td>\n      <td>2020-11-01 19:15:00</td>\n      <td>7</td>\n      <td>90</td>\n      <td>0</td>\n      <td>0</td>\n      <td>0</td>\n      <td>2</td>\n      <td>0</td>\n      <td>0</td>\n      <td>0</td>\n      <td>0</td>\n      <td>0</td>\n      <td>2</td>\n      <td>0</td>\n      <td>12</td>\n      <td>19.0</td>\n      <td>0.0</td>\n      <td>0.0</td>\n      <td>1.9</td>\n      <td>4.5</td>\n      <td>0</td>\n      <td>0</td>\n      <td>0</td>\n      <td>0</td>\n      <td>1</td>\n      <td>2</td>\n      <td>3</td>\n      <td>NaN</td>\n      <td>NaN</td>\n      <td>NaN</td>\n      <td>BHA</td>\n      <td>GKP</td>\n      <td>3</td>\n      <td>Robert Sánchez</td>\n    </tr>\n    <tr>\n      <th>3130</th>\n      <td>597</td>\n      <td>70</td>\n      <td>4</td>\n      <td>0.0</td>\n      <td>True</td>\n      <td>2020-11-06 17:30:00</td>\n      <td>8</td>\n      <td>0</td>\n      <td>0</td>\n      <td>0</td>\n      <td>0</td>\n      <td>0</td>\n      <td>0</td>\n      <td>0</td>\n      <td>0</td>\n      <td>0</td>\n      <td>0</td>\n      <td>0</td>\n      <td>0</td>\n      <td>0</td>\n      <td>0.0</td>\n      <td>0.0</td>\n      <td>0.0</td>\n      <td>0.0</td>\n      <td>4.5</td>\n      <td>1024</td>\n      <td>1558</td>\n      <td>1203</td>\n      <td>179</td>\n      <td>0</td>\n      <td>0</td>\n      <td>3</td>\n      <td>NaN</td>\n      <td>NaN</td>\n      <td>NaN</td>\n      <td>BHA</td>\n      <td>GKP</td>\n      <td>3</td>\n      <td>Robert Sánchez</td>\n    </tr>\n  </tbody>\n</table>\n</div>"
     },
     "metadata": {},
     "execution_count": 103
    }
   ],
   "source": [
    "df_merge = all_players[[\"player_id\" , \"team_id\" , \"corners_and_indirect_freekicks_order\" , \"direct_freekicks_order\" , \"penalties_order\" , \"team_short_name\" , \"position_name_short\" , \"team_strength\" , \"full_name\"]]\n",
    "player_gameweek_history = player_gameweek_history.merge(df_merge , on = \"player_id\")\n",
    "\n",
    "player_gameweek_history.tail()"
   ]
  },
  {
   "source": [
    "### player_gameweek_history & all_teams"
   ],
   "cell_type": "markdown",
   "metadata": {}
  },
  {
   "cell_type": "code",
   "execution_count": 104,
   "metadata": {},
   "outputs": [
    {
     "output_type": "execute_result",
     "data": {
      "text/plain": [
       "   team_code  team_id    team_name team_short_name  team_strength  unavailable  strength_overall_home  strength_overall_away  strength_attack_home  strength_attack_away  strength_defence_home  strength_defence_away  pulse_id\n",
       "0          3        1      Arsenal             ARS              4        False                   1190                   1210                  1170                  1210                   1190                   1200         1\n",
       "1          7        2  Aston Villa             AVL              3        False                   1150                   1160                  1150                  1150                   1180                   1210         2\n",
       "2         36        3     Brighton             BHA              3        False                   1080                   1100                  1150                  1180                   1090                   1100       131\n",
       "3         90        4      Burnley             BUR              2        False                   1050                   1080                  1120                  1190                   1010                   1030        43\n",
       "4          8        5      Chelsea             CHE              4        False                   1260                   1280                  1240                  1280                   1270                   1310         4"
      ],
      "text/html": "<div>\n<style scoped>\n    .dataframe tbody tr th:only-of-type {\n        vertical-align: middle;\n    }\n\n    .dataframe tbody tr th {\n        vertical-align: top;\n    }\n\n    .dataframe thead th {\n        text-align: right;\n    }\n</style>\n<table border=\"1\" class=\"dataframe\">\n  <thead>\n    <tr style=\"text-align: right;\">\n      <th></th>\n      <th>team_code</th>\n      <th>team_id</th>\n      <th>team_name</th>\n      <th>team_short_name</th>\n      <th>team_strength</th>\n      <th>unavailable</th>\n      <th>strength_overall_home</th>\n      <th>strength_overall_away</th>\n      <th>strength_attack_home</th>\n      <th>strength_attack_away</th>\n      <th>strength_defence_home</th>\n      <th>strength_defence_away</th>\n      <th>pulse_id</th>\n    </tr>\n  </thead>\n  <tbody>\n    <tr>\n      <th>0</th>\n      <td>3</td>\n      <td>1</td>\n      <td>Arsenal</td>\n      <td>ARS</td>\n      <td>4</td>\n      <td>False</td>\n      <td>1190</td>\n      <td>1210</td>\n      <td>1170</td>\n      <td>1210</td>\n      <td>1190</td>\n      <td>1200</td>\n      <td>1</td>\n    </tr>\n    <tr>\n      <th>1</th>\n      <td>7</td>\n      <td>2</td>\n      <td>Aston Villa</td>\n      <td>AVL</td>\n      <td>3</td>\n      <td>False</td>\n      <td>1150</td>\n      <td>1160</td>\n      <td>1150</td>\n      <td>1150</td>\n      <td>1180</td>\n      <td>1210</td>\n      <td>2</td>\n    </tr>\n    <tr>\n      <th>2</th>\n      <td>36</td>\n      <td>3</td>\n      <td>Brighton</td>\n      <td>BHA</td>\n      <td>3</td>\n      <td>False</td>\n      <td>1080</td>\n      <td>1100</td>\n      <td>1150</td>\n      <td>1180</td>\n      <td>1090</td>\n      <td>1100</td>\n      <td>131</td>\n    </tr>\n    <tr>\n      <th>3</th>\n      <td>90</td>\n      <td>4</td>\n      <td>Burnley</td>\n      <td>BUR</td>\n      <td>2</td>\n      <td>False</td>\n      <td>1050</td>\n      <td>1080</td>\n      <td>1120</td>\n      <td>1190</td>\n      <td>1010</td>\n      <td>1030</td>\n      <td>43</td>\n    </tr>\n    <tr>\n      <th>4</th>\n      <td>8</td>\n      <td>5</td>\n      <td>Chelsea</td>\n      <td>CHE</td>\n      <td>4</td>\n      <td>False</td>\n      <td>1260</td>\n      <td>1280</td>\n      <td>1240</td>\n      <td>1280</td>\n      <td>1270</td>\n      <td>1310</td>\n      <td>4</td>\n    </tr>\n  </tbody>\n</table>\n</div>"
     },
     "metadata": {},
     "execution_count": 104
    }
   ],
   "source": [
    "all_teams.head()"
   ]
  },
  {
   "cell_type": "code",
   "execution_count": 105,
   "metadata": {},
   "outputs": [
    {
     "output_type": "execute_result",
     "data": {
      "text/plain": [
       "   player_id  fixture_id  opponent_team_id  total_points  home_game        kickoff_time  round  minutes_played  goals_scored  assists  clean_sheets  goals_conceded  own_goals  penalties_saved  penalties_missed  yellow_cards  red_cards  saves  bonus  bps  influence  creativity  threat  ict_index  player_price  transfers_balance  selected  transfers_in  transfers_out  team_score  opponent_team_score  team_id  corners_and_indirect_freekicks_order  direct_freekicks_order  penalties_order team_short_name position_name_short  team_strength                   full_name opponent_team  opponent_team_strength\n",
       "0          3           2                 8           0.0      False 2020-09-12 11:30:00      1               0             0        0             0               0          0                0                 0             0          0      0      0    0        0.0         0.0     0.0        0.0           5.5                  0     69564             0              0           3                    0        1                                   NaN                     4.0              NaN             ARS                 DEF              4  David Luiz Moreira Marinho           FUL                       2\n",
       "1          4           2                 8           7.0      False 2020-09-12 11:30:00      1              90             1        0             1               0          0                0                 0             1          0      0      0   19       36.6        15.3    54.0       10.6          12.0                  0   2823465             0              0           3                    0        1                                   NaN                     6.0              1.0             ARS                 MID              4   Pierre-Emerick Aubameyang           FUL                       2\n",
       "2          6           2                 8           7.0      False 2020-09-12 11:30:00      1              86             1        0             1               0          0                0                 0             0          0      0      1   29       38.6        12.7    48.0        9.9           8.5                  0    196064             0              0           3                    0        1                                   NaN                     5.0              3.0             ARS                 FWD              4         Alexandre Lacazette           FUL                       2\n",
       "3          7           2                 8           0.0      False 2020-09-12 11:30:00      1               0             0        0             0               0          0                0                 0             0          0      0      0    0        0.0         0.0     0.0        0.0           5.0                  0       899             0              0           3                    0        1                                   NaN                     NaN              NaN             ARS                 DEF              4            Shkodran Mustafi           FUL                       2\n",
       "4          8           2                 8           7.0      False 2020-09-12 11:30:00      1              90             0        0             1               0          0                0                 0             0          0      2      1   29       14.0         0.0     0.0        1.4           5.0                  0    400285             0              0           3                    0        1                                   NaN                     NaN              NaN             ARS                 GKP              4                  Bernd Leno           FUL                       2"
      ],
      "text/html": "<div>\n<style scoped>\n    .dataframe tbody tr th:only-of-type {\n        vertical-align: middle;\n    }\n\n    .dataframe tbody tr th {\n        vertical-align: top;\n    }\n\n    .dataframe thead th {\n        text-align: right;\n    }\n</style>\n<table border=\"1\" class=\"dataframe\">\n  <thead>\n    <tr style=\"text-align: right;\">\n      <th></th>\n      <th>player_id</th>\n      <th>fixture_id</th>\n      <th>opponent_team_id</th>\n      <th>total_points</th>\n      <th>home_game</th>\n      <th>kickoff_time</th>\n      <th>round</th>\n      <th>minutes_played</th>\n      <th>goals_scored</th>\n      <th>assists</th>\n      <th>clean_sheets</th>\n      <th>goals_conceded</th>\n      <th>own_goals</th>\n      <th>penalties_saved</th>\n      <th>penalties_missed</th>\n      <th>yellow_cards</th>\n      <th>red_cards</th>\n      <th>saves</th>\n      <th>bonus</th>\n      <th>bps</th>\n      <th>influence</th>\n      <th>creativity</th>\n      <th>threat</th>\n      <th>ict_index</th>\n      <th>player_price</th>\n      <th>transfers_balance</th>\n      <th>selected</th>\n      <th>transfers_in</th>\n      <th>transfers_out</th>\n      <th>team_score</th>\n      <th>opponent_team_score</th>\n      <th>team_id</th>\n      <th>corners_and_indirect_freekicks_order</th>\n      <th>direct_freekicks_order</th>\n      <th>penalties_order</th>\n      <th>team_short_name</th>\n      <th>position_name_short</th>\n      <th>team_strength</th>\n      <th>full_name</th>\n      <th>opponent_team</th>\n      <th>opponent_team_strength</th>\n    </tr>\n  </thead>\n  <tbody>\n    <tr>\n      <th>0</th>\n      <td>3</td>\n      <td>2</td>\n      <td>8</td>\n      <td>0.0</td>\n      <td>False</td>\n      <td>2020-09-12 11:30:00</td>\n      <td>1</td>\n      <td>0</td>\n      <td>0</td>\n      <td>0</td>\n      <td>0</td>\n      <td>0</td>\n      <td>0</td>\n      <td>0</td>\n      <td>0</td>\n      <td>0</td>\n      <td>0</td>\n      <td>0</td>\n      <td>0</td>\n      <td>0</td>\n      <td>0.0</td>\n      <td>0.0</td>\n      <td>0.0</td>\n      <td>0.0</td>\n      <td>5.5</td>\n      <td>0</td>\n      <td>69564</td>\n      <td>0</td>\n      <td>0</td>\n      <td>3</td>\n      <td>0</td>\n      <td>1</td>\n      <td>NaN</td>\n      <td>4.0</td>\n      <td>NaN</td>\n      <td>ARS</td>\n      <td>DEF</td>\n      <td>4</td>\n      <td>David Luiz Moreira Marinho</td>\n      <td>FUL</td>\n      <td>2</td>\n    </tr>\n    <tr>\n      <th>1</th>\n      <td>4</td>\n      <td>2</td>\n      <td>8</td>\n      <td>7.0</td>\n      <td>False</td>\n      <td>2020-09-12 11:30:00</td>\n      <td>1</td>\n      <td>90</td>\n      <td>1</td>\n      <td>0</td>\n      <td>1</td>\n      <td>0</td>\n      <td>0</td>\n      <td>0</td>\n      <td>0</td>\n      <td>1</td>\n      <td>0</td>\n      <td>0</td>\n      <td>0</td>\n      <td>19</td>\n      <td>36.6</td>\n      <td>15.3</td>\n      <td>54.0</td>\n      <td>10.6</td>\n      <td>12.0</td>\n      <td>0</td>\n      <td>2823465</td>\n      <td>0</td>\n      <td>0</td>\n      <td>3</td>\n      <td>0</td>\n      <td>1</td>\n      <td>NaN</td>\n      <td>6.0</td>\n      <td>1.0</td>\n      <td>ARS</td>\n      <td>MID</td>\n      <td>4</td>\n      <td>Pierre-Emerick Aubameyang</td>\n      <td>FUL</td>\n      <td>2</td>\n    </tr>\n    <tr>\n      <th>2</th>\n      <td>6</td>\n      <td>2</td>\n      <td>8</td>\n      <td>7.0</td>\n      <td>False</td>\n      <td>2020-09-12 11:30:00</td>\n      <td>1</td>\n      <td>86</td>\n      <td>1</td>\n      <td>0</td>\n      <td>1</td>\n      <td>0</td>\n      <td>0</td>\n      <td>0</td>\n      <td>0</td>\n      <td>0</td>\n      <td>0</td>\n      <td>0</td>\n      <td>1</td>\n      <td>29</td>\n      <td>38.6</td>\n      <td>12.7</td>\n      <td>48.0</td>\n      <td>9.9</td>\n      <td>8.5</td>\n      <td>0</td>\n      <td>196064</td>\n      <td>0</td>\n      <td>0</td>\n      <td>3</td>\n      <td>0</td>\n      <td>1</td>\n      <td>NaN</td>\n      <td>5.0</td>\n      <td>3.0</td>\n      <td>ARS</td>\n      <td>FWD</td>\n      <td>4</td>\n      <td>Alexandre Lacazette</td>\n      <td>FUL</td>\n      <td>2</td>\n    </tr>\n    <tr>\n      <th>3</th>\n      <td>7</td>\n      <td>2</td>\n      <td>8</td>\n      <td>0.0</td>\n      <td>False</td>\n      <td>2020-09-12 11:30:00</td>\n      <td>1</td>\n      <td>0</td>\n      <td>0</td>\n      <td>0</td>\n      <td>0</td>\n      <td>0</td>\n      <td>0</td>\n      <td>0</td>\n      <td>0</td>\n      <td>0</td>\n      <td>0</td>\n      <td>0</td>\n      <td>0</td>\n      <td>0</td>\n      <td>0.0</td>\n      <td>0.0</td>\n      <td>0.0</td>\n      <td>0.0</td>\n      <td>5.0</td>\n      <td>0</td>\n      <td>899</td>\n      <td>0</td>\n      <td>0</td>\n      <td>3</td>\n      <td>0</td>\n      <td>1</td>\n      <td>NaN</td>\n      <td>NaN</td>\n      <td>NaN</td>\n      <td>ARS</td>\n      <td>DEF</td>\n      <td>4</td>\n      <td>Shkodran Mustafi</td>\n      <td>FUL</td>\n      <td>2</td>\n    </tr>\n    <tr>\n      <th>4</th>\n      <td>8</td>\n      <td>2</td>\n      <td>8</td>\n      <td>7.0</td>\n      <td>False</td>\n      <td>2020-09-12 11:30:00</td>\n      <td>1</td>\n      <td>90</td>\n      <td>0</td>\n      <td>0</td>\n      <td>1</td>\n      <td>0</td>\n      <td>0</td>\n      <td>0</td>\n      <td>0</td>\n      <td>0</td>\n      <td>0</td>\n      <td>2</td>\n      <td>1</td>\n      <td>29</td>\n      <td>14.0</td>\n      <td>0.0</td>\n      <td>0.0</td>\n      <td>1.4</td>\n      <td>5.0</td>\n      <td>0</td>\n      <td>400285</td>\n      <td>0</td>\n      <td>0</td>\n      <td>3</td>\n      <td>0</td>\n      <td>1</td>\n      <td>NaN</td>\n      <td>NaN</td>\n      <td>NaN</td>\n      <td>ARS</td>\n      <td>GKP</td>\n      <td>4</td>\n      <td>Bernd Leno</td>\n      <td>FUL</td>\n      <td>2</td>\n    </tr>\n  </tbody>\n</table>\n</div>"
     },
     "metadata": {},
     "execution_count": 105
    }
   ],
   "source": [
    "df_merge = all_teams[[\"team_id\" , \"team_short_name\" , \"team_strength\"]]\n",
    "df_merge.rename(\n",
    "    columns= {\n",
    "        \"team_id\" : \"opponent_team_id\" ,\n",
    "        \"team_short_name\" : \"opponent_team\" ,\n",
    "        \"team_strength\" : \"opponent_team_strength\"\n",
    "    },\n",
    "    inplace = True\n",
    ")\n",
    "\n",
    "player_gameweek_history = player_gameweek_history.merge(df_merge , on=\"opponent_team_id\")\n",
    "player_gameweek_history.head()"
   ]
  },
  {
   "cell_type": "code",
   "execution_count": 106,
   "metadata": {},
   "outputs": [
    {
     "output_type": "execute_result",
     "data": {
      "text/plain": [
       "   fixture_id  round        kickoff_time   event_name  home_game  difficulty  player_id  opponent_team_id  team_id\n",
       "0          82    9.0 2020-11-22 16:30:00   Gameweek 9      False           3          1                10        1\n",
       "1          89   10.0 2020-11-29 19:15:00  Gameweek 10       True           3          1                20        1\n",
       "2         106   11.0 2020-12-05 15:00:00  Gameweek 11      False           4          1                17        1\n",
       "3         109   12.0 2020-12-13 15:00:00  Gameweek 12       True           2          1                 4        1\n",
       "4         119   13.0 2020-12-15 19:45:00  Gameweek 13       True           3          1                16        1"
      ],
      "text/html": "<div>\n<style scoped>\n    .dataframe tbody tr th:only-of-type {\n        vertical-align: middle;\n    }\n\n    .dataframe tbody tr th {\n        vertical-align: top;\n    }\n\n    .dataframe thead th {\n        text-align: right;\n    }\n</style>\n<table border=\"1\" class=\"dataframe\">\n  <thead>\n    <tr style=\"text-align: right;\">\n      <th></th>\n      <th>fixture_id</th>\n      <th>round</th>\n      <th>kickoff_time</th>\n      <th>event_name</th>\n      <th>home_game</th>\n      <th>difficulty</th>\n      <th>player_id</th>\n      <th>opponent_team_id</th>\n      <th>team_id</th>\n    </tr>\n  </thead>\n  <tbody>\n    <tr>\n      <th>0</th>\n      <td>82</td>\n      <td>9.0</td>\n      <td>2020-11-22 16:30:00</td>\n      <td>Gameweek 9</td>\n      <td>False</td>\n      <td>3</td>\n      <td>1</td>\n      <td>10</td>\n      <td>1</td>\n    </tr>\n    <tr>\n      <th>1</th>\n      <td>89</td>\n      <td>10.0</td>\n      <td>2020-11-29 19:15:00</td>\n      <td>Gameweek 10</td>\n      <td>True</td>\n      <td>3</td>\n      <td>1</td>\n      <td>20</td>\n      <td>1</td>\n    </tr>\n    <tr>\n      <th>2</th>\n      <td>106</td>\n      <td>11.0</td>\n      <td>2020-12-05 15:00:00</td>\n      <td>Gameweek 11</td>\n      <td>False</td>\n      <td>4</td>\n      <td>1</td>\n      <td>17</td>\n      <td>1</td>\n    </tr>\n    <tr>\n      <th>3</th>\n      <td>109</td>\n      <td>12.0</td>\n      <td>2020-12-13 15:00:00</td>\n      <td>Gameweek 12</td>\n      <td>True</td>\n      <td>2</td>\n      <td>1</td>\n      <td>4</td>\n      <td>1</td>\n    </tr>\n    <tr>\n      <th>4</th>\n      <td>119</td>\n      <td>13.0</td>\n      <td>2020-12-15 19:45:00</td>\n      <td>Gameweek 13</td>\n      <td>True</td>\n      <td>3</td>\n      <td>1</td>\n      <td>16</td>\n      <td>1</td>\n    </tr>\n  </tbody>\n</table>\n</div>"
     },
     "metadata": {},
     "execution_count": 106
    }
   ],
   "source": [
    "player_future_fixture.head()"
   ]
  },
  {
   "cell_type": "code",
   "execution_count": 107,
   "metadata": {},
   "outputs": [
    {
     "output_type": "execute_result",
     "data": {
      "text/plain": [
       "   fixture_id  round        kickoff_time   event_name  home_game  difficulty  player_id  opponent_team_id  team_id  corners_and_indirect_freekicks_order  direct_freekicks_order  penalties_order team_short_name position_name_short  team_strength                   full_name opponent_team  opponent_team_strength\n",
       "0          82    9.0 2020-11-22 16:30:00   Gameweek 9      False           3          3                10        1                                   NaN                     4.0              NaN             ARS                 DEF              4  David Luiz Moreira Marinho           LEE                       3\n",
       "1         229   24.0 2021-02-13 15:00:00  Gameweek 24       True           2          3                10        1                                   NaN                     4.0              NaN             ARS                 DEF              4  David Luiz Moreira Marinho           LEE                       3\n",
       "2          82    9.0 2020-11-22 16:30:00   Gameweek 9      False           3          4                10        1                                   NaN                     6.0              1.0             ARS                 MID              4   Pierre-Emerick Aubameyang           LEE                       3\n",
       "3         229   24.0 2021-02-13 15:00:00  Gameweek 24       True           2          4                10        1                                   NaN                     6.0              1.0             ARS                 MID              4   Pierre-Emerick Aubameyang           LEE                       3\n",
       "4          82    9.0 2020-11-22 16:30:00   Gameweek 9      False           3          6                10        1                                   NaN                     5.0              3.0             ARS                 FWD              4         Alexandre Lacazette           LEE                       3"
      ],
      "text/html": "<div>\n<style scoped>\n    .dataframe tbody tr th:only-of-type {\n        vertical-align: middle;\n    }\n\n    .dataframe tbody tr th {\n        vertical-align: top;\n    }\n\n    .dataframe thead th {\n        text-align: right;\n    }\n</style>\n<table border=\"1\" class=\"dataframe\">\n  <thead>\n    <tr style=\"text-align: right;\">\n      <th></th>\n      <th>fixture_id</th>\n      <th>round</th>\n      <th>kickoff_time</th>\n      <th>event_name</th>\n      <th>home_game</th>\n      <th>difficulty</th>\n      <th>player_id</th>\n      <th>opponent_team_id</th>\n      <th>team_id</th>\n      <th>corners_and_indirect_freekicks_order</th>\n      <th>direct_freekicks_order</th>\n      <th>penalties_order</th>\n      <th>team_short_name</th>\n      <th>position_name_short</th>\n      <th>team_strength</th>\n      <th>full_name</th>\n      <th>opponent_team</th>\n      <th>opponent_team_strength</th>\n    </tr>\n  </thead>\n  <tbody>\n    <tr>\n      <th>0</th>\n      <td>82</td>\n      <td>9.0</td>\n      <td>2020-11-22 16:30:00</td>\n      <td>Gameweek 9</td>\n      <td>False</td>\n      <td>3</td>\n      <td>3</td>\n      <td>10</td>\n      <td>1</td>\n      <td>NaN</td>\n      <td>4.0</td>\n      <td>NaN</td>\n      <td>ARS</td>\n      <td>DEF</td>\n      <td>4</td>\n      <td>David Luiz Moreira Marinho</td>\n      <td>LEE</td>\n      <td>3</td>\n    </tr>\n    <tr>\n      <th>1</th>\n      <td>229</td>\n      <td>24.0</td>\n      <td>2021-02-13 15:00:00</td>\n      <td>Gameweek 24</td>\n      <td>True</td>\n      <td>2</td>\n      <td>3</td>\n      <td>10</td>\n      <td>1</td>\n      <td>NaN</td>\n      <td>4.0</td>\n      <td>NaN</td>\n      <td>ARS</td>\n      <td>DEF</td>\n      <td>4</td>\n      <td>David Luiz Moreira Marinho</td>\n      <td>LEE</td>\n      <td>3</td>\n    </tr>\n    <tr>\n      <th>2</th>\n      <td>82</td>\n      <td>9.0</td>\n      <td>2020-11-22 16:30:00</td>\n      <td>Gameweek 9</td>\n      <td>False</td>\n      <td>3</td>\n      <td>4</td>\n      <td>10</td>\n      <td>1</td>\n      <td>NaN</td>\n      <td>6.0</td>\n      <td>1.0</td>\n      <td>ARS</td>\n      <td>MID</td>\n      <td>4</td>\n      <td>Pierre-Emerick Aubameyang</td>\n      <td>LEE</td>\n      <td>3</td>\n    </tr>\n    <tr>\n      <th>3</th>\n      <td>229</td>\n      <td>24.0</td>\n      <td>2021-02-13 15:00:00</td>\n      <td>Gameweek 24</td>\n      <td>True</td>\n      <td>2</td>\n      <td>4</td>\n      <td>10</td>\n      <td>1</td>\n      <td>NaN</td>\n      <td>6.0</td>\n      <td>1.0</td>\n      <td>ARS</td>\n      <td>MID</td>\n      <td>4</td>\n      <td>Pierre-Emerick Aubameyang</td>\n      <td>LEE</td>\n      <td>3</td>\n    </tr>\n    <tr>\n      <th>4</th>\n      <td>82</td>\n      <td>9.0</td>\n      <td>2020-11-22 16:30:00</td>\n      <td>Gameweek 9</td>\n      <td>False</td>\n      <td>3</td>\n      <td>6</td>\n      <td>10</td>\n      <td>1</td>\n      <td>NaN</td>\n      <td>5.0</td>\n      <td>3.0</td>\n      <td>ARS</td>\n      <td>FWD</td>\n      <td>4</td>\n      <td>Alexandre Lacazette</td>\n      <td>LEE</td>\n      <td>3</td>\n    </tr>\n  </tbody>\n</table>\n</div>"
     },
     "metadata": {},
     "execution_count": 107
    }
   ],
   "source": [
    "df_merge = all_players[[\"player_id\" , \"corners_and_indirect_freekicks_order\" , \"direct_freekicks_order\" , \"penalties_order\" , \"team_short_name\" , \"position_name_short\" , \"team_strength\" , \"full_name\"]]\n",
    "player_future_fixture = player_future_fixture.merge(df_merge , on = \"player_id\")\n",
    "\n",
    "df_merge = all_teams[[\"team_id\" , \"team_short_name\" , \"team_strength\"]]\n",
    "df_merge.rename(\n",
    "    columns= {\n",
    "        \"team_id\" : \"opponent_team_id\" ,\n",
    "        \"team_short_name\" : \"opponent_team\" ,\n",
    "        \"team_strength\" : \"opponent_team_strength\"\n",
    "    },\n",
    "    inplace = True\n",
    ")\n",
    "\n",
    "player_future_fixture = player_future_fixture.merge(df_merge , on=\"opponent_team_id\")\n",
    "player_future_fixture.head()"
   ]
  },
  {
   "cell_type": "code",
   "execution_count": 108,
   "metadata": {},
   "outputs": [
    {
     "output_type": "execute_result",
     "data": {
      "text/plain": [
       "array([ 4.,  6.,  5., ...,  4., nan, nan])"
      ]
     },
     "metadata": {},
     "execution_count": 108
    }
   ],
   "source": [
    "player_gameweek_history.direct_freekicks_order.values"
   ]
  },
  {
   "cell_type": "code",
   "execution_count": 109,
   "metadata": {},
   "outputs": [
    {
     "output_type": "execute_result",
     "data": {
      "text/plain": [
       "   player_id  fixture_id  opponent_team_id  total_points  home_game        kickoff_time  round  minutes_played  goals_scored  assists  clean_sheets  goals_conceded  own_goals  penalties_saved  penalties_missed  yellow_cards  red_cards  saves  bonus  bps  influence  creativity  threat  ict_index  player_price  transfers_balance  selected  transfers_in  transfers_out  team_score  opponent_team_score  team_id  corners_and_indirect_freekicks_order  direct_freekicks_order  penalties_order team_short_name position_name_short  team_strength                   full_name opponent_team  opponent_team_strength\n",
       "0          3           2                 8           0.0      False 2020-09-12 11:30:00      1               0             0        0             0               0          0                0                 0             0          0      0      0    0        0.0         0.0     0.0        0.0           5.5                  0     69564             0              0           3                    0        1                                   0.0                     0.0              0.0             ARS                 DEF              4  David Luiz Moreira Marinho           FUL                       2\n",
       "1          4           2                 8           7.0      False 2020-09-12 11:30:00      1              90             1        0             1               0          0                0                 0             1          0      0      0   19       36.6        15.3    54.0       10.6          12.0                  0   2823465             0              0           3                    0        1                                   0.0                     0.0              1.0             ARS                 MID              4   Pierre-Emerick Aubameyang           FUL                       2\n",
       "2          6           2                 8           7.0      False 2020-09-12 11:30:00      1              86             1        0             1               0          0                0                 0             0          0      0      1   29       38.6        12.7    48.0        9.9           8.5                  0    196064             0              0           3                    0        1                                   0.0                     0.0              0.0             ARS                 FWD              4         Alexandre Lacazette           FUL                       2\n",
       "3          7           2                 8           0.0      False 2020-09-12 11:30:00      1               0             0        0             0               0          0                0                 0             0          0      0      0    0        0.0         0.0     0.0        0.0           5.0                  0       899             0              0           3                    0        1                                   0.0                     0.0              0.0             ARS                 DEF              4            Shkodran Mustafi           FUL                       2\n",
       "4          8           2                 8           7.0      False 2020-09-12 11:30:00      1              90             0        0             1               0          0                0                 0             0          0      2      1   29       14.0         0.0     0.0        1.4           5.0                  0    400285             0              0           3                    0        1                                   0.0                     0.0              0.0             ARS                 GKP              4                  Bernd Leno           FUL                       2"
      ],
      "text/html": "<div>\n<style scoped>\n    .dataframe tbody tr th:only-of-type {\n        vertical-align: middle;\n    }\n\n    .dataframe tbody tr th {\n        vertical-align: top;\n    }\n\n    .dataframe thead th {\n        text-align: right;\n    }\n</style>\n<table border=\"1\" class=\"dataframe\">\n  <thead>\n    <tr style=\"text-align: right;\">\n      <th></th>\n      <th>player_id</th>\n      <th>fixture_id</th>\n      <th>opponent_team_id</th>\n      <th>total_points</th>\n      <th>home_game</th>\n      <th>kickoff_time</th>\n      <th>round</th>\n      <th>minutes_played</th>\n      <th>goals_scored</th>\n      <th>assists</th>\n      <th>clean_sheets</th>\n      <th>goals_conceded</th>\n      <th>own_goals</th>\n      <th>penalties_saved</th>\n      <th>penalties_missed</th>\n      <th>yellow_cards</th>\n      <th>red_cards</th>\n      <th>saves</th>\n      <th>bonus</th>\n      <th>bps</th>\n      <th>influence</th>\n      <th>creativity</th>\n      <th>threat</th>\n      <th>ict_index</th>\n      <th>player_price</th>\n      <th>transfers_balance</th>\n      <th>selected</th>\n      <th>transfers_in</th>\n      <th>transfers_out</th>\n      <th>team_score</th>\n      <th>opponent_team_score</th>\n      <th>team_id</th>\n      <th>corners_and_indirect_freekicks_order</th>\n      <th>direct_freekicks_order</th>\n      <th>penalties_order</th>\n      <th>team_short_name</th>\n      <th>position_name_short</th>\n      <th>team_strength</th>\n      <th>full_name</th>\n      <th>opponent_team</th>\n      <th>opponent_team_strength</th>\n    </tr>\n  </thead>\n  <tbody>\n    <tr>\n      <th>0</th>\n      <td>3</td>\n      <td>2</td>\n      <td>8</td>\n      <td>0.0</td>\n      <td>False</td>\n      <td>2020-09-12 11:30:00</td>\n      <td>1</td>\n      <td>0</td>\n      <td>0</td>\n      <td>0</td>\n      <td>0</td>\n      <td>0</td>\n      <td>0</td>\n      <td>0</td>\n      <td>0</td>\n      <td>0</td>\n      <td>0</td>\n      <td>0</td>\n      <td>0</td>\n      <td>0</td>\n      <td>0.0</td>\n      <td>0.0</td>\n      <td>0.0</td>\n      <td>0.0</td>\n      <td>5.5</td>\n      <td>0</td>\n      <td>69564</td>\n      <td>0</td>\n      <td>0</td>\n      <td>3</td>\n      <td>0</td>\n      <td>1</td>\n      <td>0.0</td>\n      <td>0.0</td>\n      <td>0.0</td>\n      <td>ARS</td>\n      <td>DEF</td>\n      <td>4</td>\n      <td>David Luiz Moreira Marinho</td>\n      <td>FUL</td>\n      <td>2</td>\n    </tr>\n    <tr>\n      <th>1</th>\n      <td>4</td>\n      <td>2</td>\n      <td>8</td>\n      <td>7.0</td>\n      <td>False</td>\n      <td>2020-09-12 11:30:00</td>\n      <td>1</td>\n      <td>90</td>\n      <td>1</td>\n      <td>0</td>\n      <td>1</td>\n      <td>0</td>\n      <td>0</td>\n      <td>0</td>\n      <td>0</td>\n      <td>1</td>\n      <td>0</td>\n      <td>0</td>\n      <td>0</td>\n      <td>19</td>\n      <td>36.6</td>\n      <td>15.3</td>\n      <td>54.0</td>\n      <td>10.6</td>\n      <td>12.0</td>\n      <td>0</td>\n      <td>2823465</td>\n      <td>0</td>\n      <td>0</td>\n      <td>3</td>\n      <td>0</td>\n      <td>1</td>\n      <td>0.0</td>\n      <td>0.0</td>\n      <td>1.0</td>\n      <td>ARS</td>\n      <td>MID</td>\n      <td>4</td>\n      <td>Pierre-Emerick Aubameyang</td>\n      <td>FUL</td>\n      <td>2</td>\n    </tr>\n    <tr>\n      <th>2</th>\n      <td>6</td>\n      <td>2</td>\n      <td>8</td>\n      <td>7.0</td>\n      <td>False</td>\n      <td>2020-09-12 11:30:00</td>\n      <td>1</td>\n      <td>86</td>\n      <td>1</td>\n      <td>0</td>\n      <td>1</td>\n      <td>0</td>\n      <td>0</td>\n      <td>0</td>\n      <td>0</td>\n      <td>0</td>\n      <td>0</td>\n      <td>0</td>\n      <td>1</td>\n      <td>29</td>\n      <td>38.6</td>\n      <td>12.7</td>\n      <td>48.0</td>\n      <td>9.9</td>\n      <td>8.5</td>\n      <td>0</td>\n      <td>196064</td>\n      <td>0</td>\n      <td>0</td>\n      <td>3</td>\n      <td>0</td>\n      <td>1</td>\n      <td>0.0</td>\n      <td>0.0</td>\n      <td>0.0</td>\n      <td>ARS</td>\n      <td>FWD</td>\n      <td>4</td>\n      <td>Alexandre Lacazette</td>\n      <td>FUL</td>\n      <td>2</td>\n    </tr>\n    <tr>\n      <th>3</th>\n      <td>7</td>\n      <td>2</td>\n      <td>8</td>\n      <td>0.0</td>\n      <td>False</td>\n      <td>2020-09-12 11:30:00</td>\n      <td>1</td>\n      <td>0</td>\n      <td>0</td>\n      <td>0</td>\n      <td>0</td>\n      <td>0</td>\n      <td>0</td>\n      <td>0</td>\n      <td>0</td>\n      <td>0</td>\n      <td>0</td>\n      <td>0</td>\n      <td>0</td>\n      <td>0</td>\n      <td>0.0</td>\n      <td>0.0</td>\n      <td>0.0</td>\n      <td>0.0</td>\n      <td>5.0</td>\n      <td>0</td>\n      <td>899</td>\n      <td>0</td>\n      <td>0</td>\n      <td>3</td>\n      <td>0</td>\n      <td>1</td>\n      <td>0.0</td>\n      <td>0.0</td>\n      <td>0.0</td>\n      <td>ARS</td>\n      <td>DEF</td>\n      <td>4</td>\n      <td>Shkodran Mustafi</td>\n      <td>FUL</td>\n      <td>2</td>\n    </tr>\n    <tr>\n      <th>4</th>\n      <td>8</td>\n      <td>2</td>\n      <td>8</td>\n      <td>7.0</td>\n      <td>False</td>\n      <td>2020-09-12 11:30:00</td>\n      <td>1</td>\n      <td>90</td>\n      <td>0</td>\n      <td>0</td>\n      <td>1</td>\n      <td>0</td>\n      <td>0</td>\n      <td>0</td>\n      <td>0</td>\n      <td>0</td>\n      <td>0</td>\n      <td>2</td>\n      <td>1</td>\n      <td>29</td>\n      <td>14.0</td>\n      <td>0.0</td>\n      <td>0.0</td>\n      <td>1.4</td>\n      <td>5.0</td>\n      <td>0</td>\n      <td>400285</td>\n      <td>0</td>\n      <td>0</td>\n      <td>3</td>\n      <td>0</td>\n      <td>1</td>\n      <td>0.0</td>\n      <td>0.0</td>\n      <td>0.0</td>\n      <td>ARS</td>\n      <td>GKP</td>\n      <td>4</td>\n      <td>Bernd Leno</td>\n      <td>FUL</td>\n      <td>2</td>\n    </tr>\n  </tbody>\n</table>\n</div>"
     },
     "metadata": {},
     "execution_count": 109
    }
   ],
   "source": [
    "def penalties_order(row):\n",
    "    if row['penalties_order'] > 2:\n",
    "        val = 0\n",
    "    elif row['penalties_order'] != row['penalties_order']:\n",
    "        val = 0\n",
    "    else:\n",
    "        val = row['penalties_order']\n",
    "    return val\n",
    "\n",
    "def direct_freekicks_order(row):\n",
    "    if row['direct_freekicks_order'] > 2:\n",
    "        val = 0\n",
    "    elif row['direct_freekicks_order'] != row['direct_freekicks_order']:\n",
    "        val = 0\n",
    "    else:\n",
    "        val = row['direct_freekicks_order']\n",
    "    return val\n",
    "\n",
    "def corners_and_indirect_freekicks_order(row):\n",
    "    if row['corners_and_indirect_freekicks_order'] > 2:\n",
    "        val = 0\n",
    "    elif row['corners_and_indirect_freekicks_order'] != row['corners_and_indirect_freekicks_order']:\n",
    "        val = 0\n",
    "    else:\n",
    "        val = row['corners_and_indirect_freekicks_order']\n",
    "    return val\n",
    "\n",
    "\n",
    "player_gameweek_history['penalties_order'] = player_gameweek_history.apply(penalties_order,axis=1)\n",
    "player_gameweek_history['direct_freekicks_order'] = player_gameweek_history.apply(direct_freekicks_order,axis=1)\n",
    "player_gameweek_history['corners_and_indirect_freekicks_order'] = player_gameweek_history.apply(corners_and_indirect_freekicks_order,axis=1)\n",
    "\n",
    "player_gameweek_history.head()"
   ]
  },
  {
   "source": [
    "## Save new datasets"
   ],
   "cell_type": "markdown",
   "metadata": {}
  },
  {
   "cell_type": "code",
   "execution_count": 110,
   "metadata": {},
   "outputs": [],
   "source": [
    "player_gameweek_history.to_csv(r'../data/2020-21/ML_dataset/ML_player_gameweek_history.csv' , index = False , header = True)\n",
    "player_future_fixture.to_csv(r'../data/2020-21/ML_dataset/ML_player_future_fixture.csv' , index = False , header = True)\n",
    "all_players.to_csv(r'../data/2020-21/ML_dataset/ML_all_players.csv' , index = False , header = True)"
   ]
  },
  {
   "source": [
    "## Add average opponent strength and scores:"
   ],
   "cell_type": "markdown",
   "metadata": {}
  },
  {
   "cell_type": "code",
   "execution_count": 130,
   "metadata": {},
   "outputs": [
    {
     "output_type": "execute_result",
     "data": {
      "text/plain": [
       "(3131, 41)"
      ]
     },
     "metadata": {},
     "execution_count": 130
    }
   ],
   "source": [
    "player_gameweek_history.shape"
   ]
  },
  {
   "cell_type": "code",
   "execution_count": 131,
   "metadata": {},
   "outputs": [
    {
     "output_type": "execute_result",
     "data": {
      "text/plain": [
       "   player_id  fixture_id  opponent_team_id  total_points  home_game        kickoff_time  round  minutes_played  goals_scored  assists  clean_sheets  goals_conceded  own_goals  penalties_saved  penalties_missed  yellow_cards  red_cards  saves  bonus  bps  influence  creativity  threat  ict_index  player_price  transfers_balance  selected  transfers_in  transfers_out  team_score  opponent_team_score  team_id  corners_and_indirect_freekicks_order  direct_freekicks_order  penalties_order team_short_name position_name_short  team_strength                   full_name opponent_team  opponent_team_strength\n",
       "0          3           2                 8           0.0      False 2020-09-12 11:30:00      1               0             0        0             0               0          0                0                 0             0          0      0      0    0        0.0         0.0     0.0        0.0           5.5                  0     69564             0              0           3                    0        1                                   0.0                     0.0              0.0             ARS                 DEF              4  David Luiz Moreira Marinho           FUL                       2\n",
       "1          4           2                 8           7.0      False 2020-09-12 11:30:00      1              90             1        0             1               0          0                0                 0             1          0      0      0   19       36.6        15.3    54.0       10.6          12.0                  0   2823465             0              0           3                    0        1                                   0.0                     0.0              1.0             ARS                 MID              4   Pierre-Emerick Aubameyang           FUL                       2\n",
       "2          6           2                 8           7.0      False 2020-09-12 11:30:00      1              86             1        0             1               0          0                0                 0             0          0      0      1   29       38.6        12.7    48.0        9.9           8.5                  0    196064             0              0           3                    0        1                                   0.0                     0.0              0.0             ARS                 FWD              4         Alexandre Lacazette           FUL                       2\n",
       "3          7           2                 8           0.0      False 2020-09-12 11:30:00      1               0             0        0             0               0          0                0                 0             0          0      0      0    0        0.0         0.0     0.0        0.0           5.0                  0       899             0              0           3                    0        1                                   0.0                     0.0              0.0             ARS                 DEF              4            Shkodran Mustafi           FUL                       2\n",
       "4          8           2                 8           7.0      False 2020-09-12 11:30:00      1              90             0        0             1               0          0                0                 0             0          0      2      1   29       14.0         0.0     0.0        1.4           5.0                  0    400285             0              0           3                    0        1                                   0.0                     0.0              0.0             ARS                 GKP              4                  Bernd Leno           FUL                       2"
      ],
      "text/html": "<div>\n<style scoped>\n    .dataframe tbody tr th:only-of-type {\n        vertical-align: middle;\n    }\n\n    .dataframe tbody tr th {\n        vertical-align: top;\n    }\n\n    .dataframe thead th {\n        text-align: right;\n    }\n</style>\n<table border=\"1\" class=\"dataframe\">\n  <thead>\n    <tr style=\"text-align: right;\">\n      <th></th>\n      <th>player_id</th>\n      <th>fixture_id</th>\n      <th>opponent_team_id</th>\n      <th>total_points</th>\n      <th>home_game</th>\n      <th>kickoff_time</th>\n      <th>round</th>\n      <th>minutes_played</th>\n      <th>goals_scored</th>\n      <th>assists</th>\n      <th>clean_sheets</th>\n      <th>goals_conceded</th>\n      <th>own_goals</th>\n      <th>penalties_saved</th>\n      <th>penalties_missed</th>\n      <th>yellow_cards</th>\n      <th>red_cards</th>\n      <th>saves</th>\n      <th>bonus</th>\n      <th>bps</th>\n      <th>influence</th>\n      <th>creativity</th>\n      <th>threat</th>\n      <th>ict_index</th>\n      <th>player_price</th>\n      <th>transfers_balance</th>\n      <th>selected</th>\n      <th>transfers_in</th>\n      <th>transfers_out</th>\n      <th>team_score</th>\n      <th>opponent_team_score</th>\n      <th>team_id</th>\n      <th>corners_and_indirect_freekicks_order</th>\n      <th>direct_freekicks_order</th>\n      <th>penalties_order</th>\n      <th>team_short_name</th>\n      <th>position_name_short</th>\n      <th>team_strength</th>\n      <th>full_name</th>\n      <th>opponent_team</th>\n      <th>opponent_team_strength</th>\n    </tr>\n  </thead>\n  <tbody>\n    <tr>\n      <th>0</th>\n      <td>3</td>\n      <td>2</td>\n      <td>8</td>\n      <td>0.0</td>\n      <td>False</td>\n      <td>2020-09-12 11:30:00</td>\n      <td>1</td>\n      <td>0</td>\n      <td>0</td>\n      <td>0</td>\n      <td>0</td>\n      <td>0</td>\n      <td>0</td>\n      <td>0</td>\n      <td>0</td>\n      <td>0</td>\n      <td>0</td>\n      <td>0</td>\n      <td>0</td>\n      <td>0</td>\n      <td>0.0</td>\n      <td>0.0</td>\n      <td>0.0</td>\n      <td>0.0</td>\n      <td>5.5</td>\n      <td>0</td>\n      <td>69564</td>\n      <td>0</td>\n      <td>0</td>\n      <td>3</td>\n      <td>0</td>\n      <td>1</td>\n      <td>0.0</td>\n      <td>0.0</td>\n      <td>0.0</td>\n      <td>ARS</td>\n      <td>DEF</td>\n      <td>4</td>\n      <td>David Luiz Moreira Marinho</td>\n      <td>FUL</td>\n      <td>2</td>\n    </tr>\n    <tr>\n      <th>1</th>\n      <td>4</td>\n      <td>2</td>\n      <td>8</td>\n      <td>7.0</td>\n      <td>False</td>\n      <td>2020-09-12 11:30:00</td>\n      <td>1</td>\n      <td>90</td>\n      <td>1</td>\n      <td>0</td>\n      <td>1</td>\n      <td>0</td>\n      <td>0</td>\n      <td>0</td>\n      <td>0</td>\n      <td>1</td>\n      <td>0</td>\n      <td>0</td>\n      <td>0</td>\n      <td>19</td>\n      <td>36.6</td>\n      <td>15.3</td>\n      <td>54.0</td>\n      <td>10.6</td>\n      <td>12.0</td>\n      <td>0</td>\n      <td>2823465</td>\n      <td>0</td>\n      <td>0</td>\n      <td>3</td>\n      <td>0</td>\n      <td>1</td>\n      <td>0.0</td>\n      <td>0.0</td>\n      <td>1.0</td>\n      <td>ARS</td>\n      <td>MID</td>\n      <td>4</td>\n      <td>Pierre-Emerick Aubameyang</td>\n      <td>FUL</td>\n      <td>2</td>\n    </tr>\n    <tr>\n      <th>2</th>\n      <td>6</td>\n      <td>2</td>\n      <td>8</td>\n      <td>7.0</td>\n      <td>False</td>\n      <td>2020-09-12 11:30:00</td>\n      <td>1</td>\n      <td>86</td>\n      <td>1</td>\n      <td>0</td>\n      <td>1</td>\n      <td>0</td>\n      <td>0</td>\n      <td>0</td>\n      <td>0</td>\n      <td>0</td>\n      <td>0</td>\n      <td>0</td>\n      <td>1</td>\n      <td>29</td>\n      <td>38.6</td>\n      <td>12.7</td>\n      <td>48.0</td>\n      <td>9.9</td>\n      <td>8.5</td>\n      <td>0</td>\n      <td>196064</td>\n      <td>0</td>\n      <td>0</td>\n      <td>3</td>\n      <td>0</td>\n      <td>1</td>\n      <td>0.0</td>\n      <td>0.0</td>\n      <td>0.0</td>\n      <td>ARS</td>\n      <td>FWD</td>\n      <td>4</td>\n      <td>Alexandre Lacazette</td>\n      <td>FUL</td>\n      <td>2</td>\n    </tr>\n    <tr>\n      <th>3</th>\n      <td>7</td>\n      <td>2</td>\n      <td>8</td>\n      <td>0.0</td>\n      <td>False</td>\n      <td>2020-09-12 11:30:00</td>\n      <td>1</td>\n      <td>0</td>\n      <td>0</td>\n      <td>0</td>\n      <td>0</td>\n      <td>0</td>\n      <td>0</td>\n      <td>0</td>\n      <td>0</td>\n      <td>0</td>\n      <td>0</td>\n      <td>0</td>\n      <td>0</td>\n      <td>0</td>\n      <td>0.0</td>\n      <td>0.0</td>\n      <td>0.0</td>\n      <td>0.0</td>\n      <td>5.0</td>\n      <td>0</td>\n      <td>899</td>\n      <td>0</td>\n      <td>0</td>\n      <td>3</td>\n      <td>0</td>\n      <td>1</td>\n      <td>0.0</td>\n      <td>0.0</td>\n      <td>0.0</td>\n      <td>ARS</td>\n      <td>DEF</td>\n      <td>4</td>\n      <td>Shkodran Mustafi</td>\n      <td>FUL</td>\n      <td>2</td>\n    </tr>\n    <tr>\n      <th>4</th>\n      <td>8</td>\n      <td>2</td>\n      <td>8</td>\n      <td>7.0</td>\n      <td>False</td>\n      <td>2020-09-12 11:30:00</td>\n      <td>1</td>\n      <td>90</td>\n      <td>0</td>\n      <td>0</td>\n      <td>1</td>\n      <td>0</td>\n      <td>0</td>\n      <td>0</td>\n      <td>0</td>\n      <td>0</td>\n      <td>0</td>\n      <td>2</td>\n      <td>1</td>\n      <td>29</td>\n      <td>14.0</td>\n      <td>0.0</td>\n      <td>0.0</td>\n      <td>1.4</td>\n      <td>5.0</td>\n      <td>0</td>\n      <td>400285</td>\n      <td>0</td>\n      <td>0</td>\n      <td>3</td>\n      <td>0</td>\n      <td>1</td>\n      <td>0.0</td>\n      <td>0.0</td>\n      <td>0.0</td>\n      <td>ARS</td>\n      <td>GKP</td>\n      <td>4</td>\n      <td>Bernd Leno</td>\n      <td>FUL</td>\n      <td>2</td>\n    </tr>\n  </tbody>\n</table>\n</div>"
     },
     "metadata": {},
     "execution_count": 131
    }
   ],
   "source": [
    "player_gameweek_history.head()"
   ]
  },
  {
   "cell_type": "code",
   "execution_count": 276,
   "metadata": {
    "tags": []
   },
   "outputs": [
    {
     "output_type": "stream",
     "name": "stdout",
     "text": [
      "1\nEmpty DataFrame\nColumns: [player_id, round, total_points, avg_tot_points]\nIndex: []\n2\nEmpty DataFrame\nColumns: [player_id, round, total_points, avg_tot_points]\nIndex: []\n3\n      player_id  round  total_points  avg_tot_points\n0             3      1           0.0             NaN\n155           3      2           1.0             NaN\n322           3      3           1.0             NaN\n485           3      4           2.0             NaN\n643           3      5           2.0           1.000\n779           3      6           1.0           1.500\n933           3      7           0.0           1.750\n1075          3      8           0.0           1.375\n4\n      player_id  round  total_points  avg_tot_points\n1             4      1           7.0             NaN\n156           4      2           5.0             NaN\n323           4      3           2.0             NaN\n486           4      4           2.0             NaN\n644           4      5           2.0           3.750\n780           4      6           2.0           2.375\n934           4      7           8.0           2.000\n1076          4      8           2.0           2.750\n"
     ]
    }
   ],
   "source": [
    "df = player_gameweek_history.copy()\n",
    "df = df.sort_values(by='round')\n",
    "player_id = list(range(1,5))\n",
    "for id in player_id:\n",
    "    print(id)\n",
    "    df = player_gameweek_history\n",
    "    df = df[df['player_id'] == id]\n",
    "    df = df[['player_id' ,'round' , 'total_points']]\n",
    "    df['avg_tot_points'] = df.total_points.rolling(window=4 , win_type='triang').mean().shift()\n",
    "    df_orig = df_orig.merge(df, how = 'left' , on = ['player_id' , 'round'])\n",
    "    print(df)\n",
    "    #print(df[df['round'] == 8])"
   ]
  },
  {
   "cell_type": "code",
   "execution_count": null,
   "metadata": {},
   "outputs": [],
   "source": []
  }
 ]
}