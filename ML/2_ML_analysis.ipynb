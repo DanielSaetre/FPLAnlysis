{
 "metadata": {
  "language_info": {
   "codemirror_mode": {
    "name": "ipython",
    "version": 3
   },
   "file_extension": ".py",
   "mimetype": "text/x-python",
   "name": "python",
   "nbconvert_exporter": "python",
   "pygments_lexer": "ipython3",
   "version": "3.7.7-final"
  },
  "orig_nbformat": 2,
  "kernelspec": {
   "name": "Python 3.7.7 64-bit ('myenv': conda)",
   "display_name": "Python 3.7.7 64-bit ('myenv': conda)",
   "metadata": {
    "interpreter": {
     "hash": "fdf57215a5f56010e9ede23b27ef6ea5e8b579dfd3e59153b8254afa0cbecfac"
    }
   }
  }
 },
 "nbformat": 4,
 "nbformat_minor": 2,
 "cells": [
  {
   "cell_type": "code",
   "execution_count": 57,
   "metadata": {},
   "outputs": [],
   "source": [
    "import os\n",
    "import numpy as np\n",
    "import pandas as pd\n",
    "import seaborn as sns\n",
    "import scipy\n",
    "\n",
    "from sklearn.model_selection import train_test_split\n",
    "from sklearn.model_selection import GridSearchCV\n",
    "from sklearn.metrics import mean_absolute_error\n",
    "from sklearn import ensemble\n",
    "from sklearn.metrics import mean_absolute_error\n",
    "import joblib\n",
    "\n",
    "\n",
    "import matplotlib.pyplot as plt\n",
    "import matplotlib.ticker as ticker\n",
    "\n",
    "import plotly.express as px\n",
    "\n",
    "from datetime import datetime\n",
    "from scipy import stats\n",
    "\n",
    "#Set Display options\n",
    "pd.set_option('display.max_rows', 50)\n",
    "pd.set_option('display.max_columns', None)\n",
    "\n",
    "pd.options.display.float_format = '{:.2f}'.format\n"
   ]
  },
  {
   "cell_type": "code",
   "execution_count": 58,
   "metadata": {},
   "outputs": [],
   "source": [
    "data_orig = pd.read_csv(r\"../data/2020-21/ML_dataset/ML_player_gameweek_history.csv\" , parse_dates = [\"kickoff_time\"]) \n",
    "all_players = pd.read_csv(r\"../data/2020-21/ML_dataset/ML_all_players.csv\" , parse_dates= [\"news_added\"]) \n",
    "\n",
    "\n",
    "total_players = len(all_players)\n",
    "data = data_orig.copy()\n",
    "\n",
    "data = data[data.minutes_played > 59]\n",
    "data['ekstra_points'] =data['total_points'] - 2\n",
    "\n"
   ]
  },
  {
   "cell_type": "code",
   "execution_count": 59,
   "metadata": {},
   "outputs": [
    {
     "output_type": "execute_result",
     "data": {
      "text/plain": [
       "(1643, 42)"
      ]
     },
     "metadata": {},
     "execution_count": 59
    }
   ],
   "source": [
    "data.shape"
   ]
  },
  {
   "cell_type": "code",
   "execution_count": 60,
   "metadata": {},
   "outputs": [
    {
     "output_type": "execute_result",
     "data": {
      "text/plain": [
       "   player_id  fixture_id  opponent_team_id  total_points  home_game  \\\n",
       "1          4           2                 8             7      False   \n",
       "2          6           2                 8             7      False   \n",
       "4          8           2                 8             7      False   \n",
       "5          9           2                 8             3      False   \n",
       "6         11           2                 8             5      False   \n",
       "\n",
       "         kickoff_time  round  minutes_played  goals_scored  assists  \\\n",
       "1 2020-09-12 11:30:00      1              90             1        0   \n",
       "2 2020-09-12 11:30:00      1              86             1        0   \n",
       "4 2020-09-12 11:30:00      1              90             0        0   \n",
       "5 2020-09-12 11:30:00      1              77             0        0   \n",
       "6 2020-09-12 11:30:00      1              90             0        0   \n",
       "\n",
       "   clean_sheets  goals_conceded  own_goals  penalties_saved  penalties_missed  \\\n",
       "1             1               0          0                0                 0   \n",
       "2             1               0          0                0                 0   \n",
       "4             1               0          0                0                 0   \n",
       "5             1               0          0                0                 0   \n",
       "6             1               0          0                0                 0   \n",
       "\n",
       "   yellow_cards  red_cards  saves  bonus  bps  influence  creativity  threat  \\\n",
       "1             1          0      0      0   19      36.60       15.30   54.00   \n",
       "2             0          0      0      1   29      38.60       12.70   48.00   \n",
       "4             0          0      2      1   29      14.00        0.00    0.00   \n",
       "5             0          0      0      0   11       6.80       17.20   21.00   \n",
       "6             1          0      0      0   23       9.80       26.40    4.00   \n",
       "\n",
       "   ict_index  player_price  transfers_balance  selected  transfers_in  \\\n",
       "1      10.60         12.00                  0   2823465             0   \n",
       "2       9.90          8.50                  0    196064             0   \n",
       "4       1.40          5.00                  0    400285             0   \n",
       "5       4.50          5.50                  0     42909             0   \n",
       "6       4.00          5.00                  0    240975             0   \n",
       "\n",
       "   transfers_out  team_score  opponent_team_score  team_id  \\\n",
       "1              0           3                    0        1   \n",
       "2              0           3                    0        1   \n",
       "4              0           3                    0        1   \n",
       "5              0           3                    0        1   \n",
       "6              0           3                    0        1   \n",
       "\n",
       "   corners_and_indirect_freekicks_order  direct_freekicks_order  \\\n",
       "1                                  0.00                    0.00   \n",
       "2                                  0.00                    0.00   \n",
       "4                                  0.00                    0.00   \n",
       "5                                  0.00                    2.00   \n",
       "6                                  0.00                    0.00   \n",
       "\n",
       "   penalties_order team_short_name position_name_short  team_strength  \\\n",
       "1             1.00             ARS                 MID              4   \n",
       "2             0.00             ARS                 FWD              4   \n",
       "4             0.00             ARS                 GKP              4   \n",
       "5             0.00             ARS                 MID              4   \n",
       "6             0.00             ARS                 DEF              4   \n",
       "\n",
       "                   full_name opponent_team  opponent_team_strength  \\\n",
       "1  Pierre-Emerick Aubameyang           FUL                       2   \n",
       "2        Alexandre Lacazette           FUL                       2   \n",
       "4                 Bernd Leno           FUL                       2   \n",
       "5               Granit Xhaka           FUL                       2   \n",
       "6            Héctor Bellerín           FUL                       2   \n",
       "\n",
       "   ekstra_points  \n",
       "1              5  \n",
       "2              5  \n",
       "4              5  \n",
       "5              1  \n",
       "6              3  "
      ],
      "text/html": "<div>\n<style scoped>\n    .dataframe tbody tr th:only-of-type {\n        vertical-align: middle;\n    }\n\n    .dataframe tbody tr th {\n        vertical-align: top;\n    }\n\n    .dataframe thead th {\n        text-align: right;\n    }\n</style>\n<table border=\"1\" class=\"dataframe\">\n  <thead>\n    <tr style=\"text-align: right;\">\n      <th></th>\n      <th>player_id</th>\n      <th>fixture_id</th>\n      <th>opponent_team_id</th>\n      <th>total_points</th>\n      <th>home_game</th>\n      <th>kickoff_time</th>\n      <th>round</th>\n      <th>minutes_played</th>\n      <th>goals_scored</th>\n      <th>assists</th>\n      <th>clean_sheets</th>\n      <th>goals_conceded</th>\n      <th>own_goals</th>\n      <th>penalties_saved</th>\n      <th>penalties_missed</th>\n      <th>yellow_cards</th>\n      <th>red_cards</th>\n      <th>saves</th>\n      <th>bonus</th>\n      <th>bps</th>\n      <th>influence</th>\n      <th>creativity</th>\n      <th>threat</th>\n      <th>ict_index</th>\n      <th>player_price</th>\n      <th>transfers_balance</th>\n      <th>selected</th>\n      <th>transfers_in</th>\n      <th>transfers_out</th>\n      <th>team_score</th>\n      <th>opponent_team_score</th>\n      <th>team_id</th>\n      <th>corners_and_indirect_freekicks_order</th>\n      <th>direct_freekicks_order</th>\n      <th>penalties_order</th>\n      <th>team_short_name</th>\n      <th>position_name_short</th>\n      <th>team_strength</th>\n      <th>full_name</th>\n      <th>opponent_team</th>\n      <th>opponent_team_strength</th>\n      <th>ekstra_points</th>\n    </tr>\n  </thead>\n  <tbody>\n    <tr>\n      <th>1</th>\n      <td>4</td>\n      <td>2</td>\n      <td>8</td>\n      <td>7</td>\n      <td>False</td>\n      <td>2020-09-12 11:30:00</td>\n      <td>1</td>\n      <td>90</td>\n      <td>1</td>\n      <td>0</td>\n      <td>1</td>\n      <td>0</td>\n      <td>0</td>\n      <td>0</td>\n      <td>0</td>\n      <td>1</td>\n      <td>0</td>\n      <td>0</td>\n      <td>0</td>\n      <td>19</td>\n      <td>36.60</td>\n      <td>15.30</td>\n      <td>54.00</td>\n      <td>10.60</td>\n      <td>12.00</td>\n      <td>0</td>\n      <td>2823465</td>\n      <td>0</td>\n      <td>0</td>\n      <td>3</td>\n      <td>0</td>\n      <td>1</td>\n      <td>0.00</td>\n      <td>0.00</td>\n      <td>1.00</td>\n      <td>ARS</td>\n      <td>MID</td>\n      <td>4</td>\n      <td>Pierre-Emerick Aubameyang</td>\n      <td>FUL</td>\n      <td>2</td>\n      <td>5</td>\n    </tr>\n    <tr>\n      <th>2</th>\n      <td>6</td>\n      <td>2</td>\n      <td>8</td>\n      <td>7</td>\n      <td>False</td>\n      <td>2020-09-12 11:30:00</td>\n      <td>1</td>\n      <td>86</td>\n      <td>1</td>\n      <td>0</td>\n      <td>1</td>\n      <td>0</td>\n      <td>0</td>\n      <td>0</td>\n      <td>0</td>\n      <td>0</td>\n      <td>0</td>\n      <td>0</td>\n      <td>1</td>\n      <td>29</td>\n      <td>38.60</td>\n      <td>12.70</td>\n      <td>48.00</td>\n      <td>9.90</td>\n      <td>8.50</td>\n      <td>0</td>\n      <td>196064</td>\n      <td>0</td>\n      <td>0</td>\n      <td>3</td>\n      <td>0</td>\n      <td>1</td>\n      <td>0.00</td>\n      <td>0.00</td>\n      <td>0.00</td>\n      <td>ARS</td>\n      <td>FWD</td>\n      <td>4</td>\n      <td>Alexandre Lacazette</td>\n      <td>FUL</td>\n      <td>2</td>\n      <td>5</td>\n    </tr>\n    <tr>\n      <th>4</th>\n      <td>8</td>\n      <td>2</td>\n      <td>8</td>\n      <td>7</td>\n      <td>False</td>\n      <td>2020-09-12 11:30:00</td>\n      <td>1</td>\n      <td>90</td>\n      <td>0</td>\n      <td>0</td>\n      <td>1</td>\n      <td>0</td>\n      <td>0</td>\n      <td>0</td>\n      <td>0</td>\n      <td>0</td>\n      <td>0</td>\n      <td>2</td>\n      <td>1</td>\n      <td>29</td>\n      <td>14.00</td>\n      <td>0.00</td>\n      <td>0.00</td>\n      <td>1.40</td>\n      <td>5.00</td>\n      <td>0</td>\n      <td>400285</td>\n      <td>0</td>\n      <td>0</td>\n      <td>3</td>\n      <td>0</td>\n      <td>1</td>\n      <td>0.00</td>\n      <td>0.00</td>\n      <td>0.00</td>\n      <td>ARS</td>\n      <td>GKP</td>\n      <td>4</td>\n      <td>Bernd Leno</td>\n      <td>FUL</td>\n      <td>2</td>\n      <td>5</td>\n    </tr>\n    <tr>\n      <th>5</th>\n      <td>9</td>\n      <td>2</td>\n      <td>8</td>\n      <td>3</td>\n      <td>False</td>\n      <td>2020-09-12 11:30:00</td>\n      <td>1</td>\n      <td>77</td>\n      <td>0</td>\n      <td>0</td>\n      <td>1</td>\n      <td>0</td>\n      <td>0</td>\n      <td>0</td>\n      <td>0</td>\n      <td>0</td>\n      <td>0</td>\n      <td>0</td>\n      <td>0</td>\n      <td>11</td>\n      <td>6.80</td>\n      <td>17.20</td>\n      <td>21.00</td>\n      <td>4.50</td>\n      <td>5.50</td>\n      <td>0</td>\n      <td>42909</td>\n      <td>0</td>\n      <td>0</td>\n      <td>3</td>\n      <td>0</td>\n      <td>1</td>\n      <td>0.00</td>\n      <td>2.00</td>\n      <td>0.00</td>\n      <td>ARS</td>\n      <td>MID</td>\n      <td>4</td>\n      <td>Granit Xhaka</td>\n      <td>FUL</td>\n      <td>2</td>\n      <td>1</td>\n    </tr>\n    <tr>\n      <th>6</th>\n      <td>11</td>\n      <td>2</td>\n      <td>8</td>\n      <td>5</td>\n      <td>False</td>\n      <td>2020-09-12 11:30:00</td>\n      <td>1</td>\n      <td>90</td>\n      <td>0</td>\n      <td>0</td>\n      <td>1</td>\n      <td>0</td>\n      <td>0</td>\n      <td>0</td>\n      <td>0</td>\n      <td>1</td>\n      <td>0</td>\n      <td>0</td>\n      <td>0</td>\n      <td>23</td>\n      <td>9.80</td>\n      <td>26.40</td>\n      <td>4.00</td>\n      <td>4.00</td>\n      <td>5.00</td>\n      <td>0</td>\n      <td>240975</td>\n      <td>0</td>\n      <td>0</td>\n      <td>3</td>\n      <td>0</td>\n      <td>1</td>\n      <td>0.00</td>\n      <td>0.00</td>\n      <td>0.00</td>\n      <td>ARS</td>\n      <td>DEF</td>\n      <td>4</td>\n      <td>Héctor Bellerín</td>\n      <td>FUL</td>\n      <td>2</td>\n      <td>3</td>\n    </tr>\n  </tbody>\n</table>\n</div>"
     },
     "metadata": {},
     "execution_count": 60
    }
   ],
   "source": [
    "data.head()"
   ]
  },
  {
   "cell_type": "code",
   "execution_count": 61,
   "metadata": {},
   "outputs": [
    {
     "output_type": "execute_result",
     "data": {
      "text/plain": [
       "Index(['player_id', 'fixture_id', 'opponent_team_id', 'total_points',\n",
       "       'home_game', 'kickoff_time', 'round', 'minutes_played', 'goals_scored',\n",
       "       'assists', 'clean_sheets', 'goals_conceded', 'own_goals',\n",
       "       'penalties_saved', 'penalties_missed', 'yellow_cards', 'red_cards',\n",
       "       'saves', 'bonus', 'bps', 'influence', 'creativity', 'threat',\n",
       "       'ict_index', 'player_price', 'transfers_balance', 'selected',\n",
       "       'transfers_in', 'transfers_out', 'team_score', 'opponent_team_score',\n",
       "       'team_id', 'corners_and_indirect_freekicks_order',\n",
       "       'direct_freekicks_order', 'penalties_order', 'team_short_name',\n",
       "       'position_name_short', 'team_strength', 'full_name', 'opponent_team',\n",
       "       'opponent_team_strength', 'ekstra_points'],\n",
       "      dtype='object')"
      ]
     },
     "metadata": {},
     "execution_count": 61
    }
   ],
   "source": [
    "data.columns"
   ]
  },
  {
   "cell_type": "code",
   "execution_count": 62,
   "metadata": {},
   "outputs": [],
   "source": [
    "data = data[[\n",
    "    'ekstra_points',\n",
    "    'home_game',\n",
    "    'minutes_played',\n",
    "    'corners_and_indirect_freekicks_order',\n",
    "    'direct_freekicks_order',\n",
    "    'penalties_order',\n",
    "    'team_short_name',\n",
    "    'position_name_short',\n",
    "    'team_strength',\n",
    "    'full_name',\n",
    "    'opponent_team',\n",
    "    'opponent_team_strength'\n",
    "    ]]"
   ]
  },
  {
   "cell_type": "code",
   "execution_count": 63,
   "metadata": {
    "tags": []
   },
   "outputs": [
    {
     "output_type": "stream",
     "name": "stdout",
     "text": [
      "<class 'pandas.core.frame.DataFrame'>\nInt64Index: 1643 entries, 1 to 3129\nData columns (total 12 columns):\n #   Column                                Non-Null Count  Dtype  \n---  ------                                --------------  -----  \n 0   ekstra_points                         1643 non-null   int64  \n 1   home_game                             1643 non-null   bool   \n 2   minutes_played                        1643 non-null   int64  \n 3   corners_and_indirect_freekicks_order  1643 non-null   float64\n 4   direct_freekicks_order                1643 non-null   float64\n 5   penalties_order                       1643 non-null   float64\n 6   team_short_name                       1643 non-null   object \n 7   position_name_short                   1643 non-null   object \n 8   team_strength                         1643 non-null   int64  \n 9   full_name                             1643 non-null   object \n 10  opponent_team                         1643 non-null   object \n 11  opponent_team_strength                1643 non-null   int64  \ndtypes: bool(1), float64(3), int64(4), object(4)\nmemory usage: 155.6+ KB\n"
     ]
    }
   ],
   "source": [
    "data.info()\n"
   ]
  },
  {
   "cell_type": "code",
   "execution_count": 64,
   "metadata": {},
   "outputs": [
    {
     "output_type": "execute_result",
     "data": {
      "text/plain": [
       "ekstra_points                           1.00\n",
       "penalties_order                         0.17\n",
       "team_strength                           0.09\n",
       "corners_and_indirect_freekicks_order    0.05\n",
       "minutes_played                          0.04\n",
       "direct_freekicks_order                  0.04\n",
       "home_game                              -0.07\n",
       "opponent_team_strength                 -0.15\n",
       "Name: ekstra_points, dtype: float64"
      ]
     },
     "metadata": {},
     "execution_count": 64
    }
   ],
   "source": [
    "corr_matrix = data.corr()\n",
    "corr_matrix['ekstra_points'].sort_values(ascending=False)"
   ]
  },
  {
   "cell_type": "code",
   "execution_count": 65,
   "metadata": {
    "tags": []
   },
   "outputs": [
    {
     "output_type": "stream",
     "name": "stdout",
     "text": [
      "['home_game', 'minutes_played', 'team_strength', 'opponent_team_strength', 'corners_and_indirect_freekicks_order_0.0', 'corners_and_indirect_freekicks_order_1.0', 'corners_and_indirect_freekicks_order_2.0', 'direct_freekicks_order_0.0', 'direct_freekicks_order_1.0', 'direct_freekicks_order_2.0', 'penalties_order_0.0', 'penalties_order_1.0', 'penalties_order_2.0', 'team_short_name_ARS', 'team_short_name_AVL', 'team_short_name_BHA', 'team_short_name_BUR', 'team_short_name_CHE', 'team_short_name_CRY', 'team_short_name_EVE', 'team_short_name_FUL', 'team_short_name_LEE', 'team_short_name_LEI', 'team_short_name_LIV', 'team_short_name_MCI', 'team_short_name_MUN', 'team_short_name_NEW', 'team_short_name_SHU', 'team_short_name_SOU', 'team_short_name_TOT', 'team_short_name_WBA', 'team_short_name_WHU', 'team_short_name_WOL', 'position_name_short_DEF', 'position_name_short_FWD', 'position_name_short_GKP', 'position_name_short_MID', 'full_name_Aaron Connolly', 'full_name_Aaron Cresswell', 'full_name_Aaron Ramsdale', 'full_name_Aaron Wan-Bissaka', 'full_name_Abdoulaye Doucouré', 'full_name_Aboubakar Kamara', 'full_name_Adam Lallana', 'full_name_Adam Webster', 'full_name_Adama Traoré', 'full_name_Ademola Lookman', 'full_name_Adrián San Miguel del Castillo', 'full_name_Ahmed El-Sayed Hegazy', 'full_name_Ainsley Maitland-Niles', 'full_name_Aleksandar Mitrović', 'full_name_Alex Iwobi', 'full_name_Alex McCarthy', 'full_name_Alexandre Lacazette', 'full_name_Alisson Ramses Becker', 'full_name_Allan Marques Loureiro', 'full_name_Allan Saint-Maximin', 'full_name_Alphonse Areola', 'full_name_Andreas Christensen', 'full_name_Andrew Robertson', 'full_name_Andros Townsend', 'full_name_André Filipe Tavares Gomes', 'full_name_André-Frank Zambo Anguissa', 'full_name_Andy Carroll', 'full_name_Angelo Ogbonna', 'full_name_Anthony Martial', 'full_name_Antonee Robinson', 'full_name_Arthur Masuaku', 'full_name_Ashley Barnes', 'full_name_Ashley Westwood', 'full_name_Aymeric Laporte', 'full_name_Ayoze Pérez', 'full_name_Ben Davies', 'full_name_Ben Godfrey', 'full_name_Ben Mee', 'full_name_Ben Osborn', 'full_name_Ben White', 'full_name_Benjamin Chilwell', 'full_name_Benjamin Mendy', 'full_name_Bernard Anício Caldeira Duarte', 'full_name_Bernardo Mota Veiga de Carvalho e Silva', 'full_name_Bernd Leno', 'full_name_Billy Sharp', 'full_name_Bobby Decordova-Reid', 'full_name_Branislav Ivanovic', 'full_name_Bruno Miguel Borges Fernandes', 'full_name_Bukayo Saka', 'full_name_Callum Hudson-Odoi', 'full_name_Callum Robinson', 'full_name_Callum Wilson', 'full_name_Charlie Taylor', 'full_name_Che Adams', 'full_name_Cheikhou Kouyaté', 'full_name_Chris Basham', 'full_name_Chris Wood', 'full_name_Christian Fuchs', 'full_name_Christian Pulisic', 'full_name_Conor Coady', 'full_name_Conor Gallagher', 'full_name_Conor Hourihane', 'full_name_Conor Townsend', 'full_name_Curtis Jones', 'full_name_César Azpilicueta', 'full_name_Dale Stephens', 'full_name_Dan Burn', 'full_name_Daniel Amartey', 'full_name_Daniel Castelo Podence', 'full_name_Daniel Ceballos Fernández', 'full_name_Daniel James', 'full_name_Danny Ings', 'full_name_Danny Welbeck', \"full_name_Dara O'Shea\", 'full_name_Darnell Furlong', 'full_name_David Luiz Moreira Marinho', 'full_name_David McGoldrick', 'full_name_David de Gea', 'full_name_Davinson Sánchez', 'full_name_Declan Rice', 'full_name_Denis Odoi', 'full_name_Dennis Praet', 'full_name_Diogo Jota', 'full_name_Dominic Calvert-Lewin', 'full_name_Douglas Luiz Soares de Paulo', 'full_name_Dwight McNeil', 'full_name_Eberechi Eze', 'full_name_Ederson Santana de Moraes', 'full_name_Edouard Mendy', 'full_name_Emil Krafth', 'full_name_Emiliano Martínez', 'full_name_Enda Stevens', 'full_name_Eric Bailly', 'full_name_Eric Dier', 'full_name_Eric Garcia', 'full_name_Erik Lamela', 'full_name_Erik Pieters', 'full_name_Ethan Ampadu', 'full_name_Ezgjan Alioski', 'full_name_Ezri Konsa Ngoyo', 'full_name_Fabian Delph', 'full_name_Fabian Schär', 'full_name_Fabio Henrique Tavares', 'full_name_Fabián Balbuena', 'full_name_Federico Fernández', 'full_name_Fernando Luiz Rosa', 'full_name_Fernando Marçal', 'full_name_Ferran Torres', 'full_name_Filip Krovinovic', 'full_name_Frederico Rodrigues de Paula Santos', 'full_name_Gabriel Fernando de Jesus', 'full_name_Gabriel Magalhães', 'full_name_Gareth Bale', 'full_name_Gary Cahill', 'full_name_George Baldock', 'full_name_Georginio Wijnaldum', 'full_name_Giovani Lo Celso', 'full_name_Grady Diangana', 'full_name_Granit Xhaka', 'full_name_Gylfi Sigurdsson', 'full_name_Hakim Ziyech', 'full_name_Harrison Reed', 'full_name_Harry Kane', 'full_name_Harry Maguire', 'full_name_Harry Winks', 'full_name_Harvey Barnes', 'full_name_Heung-Min Son', 'full_name_Hugo Lloris', 'full_name_Héctor Bellerín', 'full_name_Hélder Wander Sousa de Azevedo e Costa', 'full_name_Ilkay Gündogan', 'full_name_Illan Meslier', 'full_name_Isaac Hayden', 'full_name_Issa Diop', 'full_name_Ivan Ricardo Neves Abreu Cavaleiro', 'full_name_Jack Grealish', 'full_name_Jack Harrison', \"full_name_Jack O'Connell\", 'full_name_Jack Robinson', 'full_name_Jack Stephens', 'full_name_Jacob Murphy', 'full_name_Jairo Riedewald', 'full_name_Jake Livermore', 'full_name_Jamaal Lascelles', 'full_name_Jamal Lewis', 'full_name_James Justin', 'full_name_James Maddison', 'full_name_James McArthur', 'full_name_James McCarthy', 'full_name_James Rodríguez', 'full_name_James Tarkowski', 'full_name_James Ward-Prowse', 'full_name_Jamie Shackleton', 'full_name_Jamie Vardy', 'full_name_Jan Bednarek', 'full_name_Jannik Vestergaard', 'full_name_Jarrod Bowen', 'full_name_Javier Manquillo', 'full_name_Jay Rodriguez', 'full_name_Jeff Hendrick', 'full_name_Jeffrey Schlupp', 'full_name_Jimmy Dunne', 'full_name_Joachim Andersen', 'full_name_Joe Bryan', 'full_name_Joel Matip', 'full_name_Joel Ward', 'full_name_Joelinton Cássio Apolinário de Lira', 'full_name_Johann Berg Gudmundsson', 'full_name_John Egan', 'full_name_John Fleck', 'full_name_John Lundstram', 'full_name_John McGinn', 'full_name_John Stones', 'full_name_Jonjo Shelvey', 'full_name_Jonjoe Kenny', 'full_name_Jonny Evans', 'full_name_Jordan Ayew', 'full_name_Jordan Henderson', 'full_name_Jordan Pickford', 'full_name_Jorge Luiz Frello Filho', 'full_name_Joseph Gomez', 'full_name_Josh Brownhill', 'full_name_Josh Onomah', 'full_name_João Filipe Iria Santos Moutinho', 'full_name_João Pedro Cavaco Cancelo', 'full_name_Joël Veltman', 'full_name_Juan Mata', 'full_name_Kai Havertz', 'full_name_Kalvin Phillips', 'full_name_Karl Darlow', 'full_name_Karlan Grant', 'full_name_Kasper Schmeichel', 'full_name_Kelechi Iheanacho', 'full_name_Kenny Tete', 'full_name_Kepa Arrizabalaga', 'full_name_Kevin De Bruyne', 'full_name_Kevin Long', 'full_name_Kieran Gibbs', 'full_name_Kieran Tierney', 'full_name_Kurt Zouma', 'full_name_Kyle Bartley', 'full_name_Kyle Walker', 'full_name_Kyle Walker-Peters', 'full_name_Leander Dendoncker', 'full_name_Leandro Trossard', 'full_name_Lewis Dunk', 'full_name_Liam Cooper', 'full_name_Lucas Digne', 'full_name_Lucas Rodrigues Moura da Silva', 'full_name_Luka Milivojevic', 'full_name_Lukasz Fabianski', 'full_name_Luke Ayling', 'full_name_Luke Shaw', 'full_name_Luke Thomas', 'full_name_Mahmoud Ahmed Ibrahim Hassan', 'full_name_Mamadou Sakho', 'full_name_Marc Albrighton', 'full_name_Marcos Alonso', 'full_name_Marcus Rashford', 'full_name_Marek Rodák', 'full_name_Mario Lemina', 'full_name_Mark Noble', 'full_name_Mason Greenwood', 'full_name_Mason Holgate', 'full_name_Mason Mount', 'full_name_Matej Vydra', 'full_name_Mateo Kovacic', 'full_name_Mateusz Klich', 'full_name_Matheus Pereira', 'full_name_Mathew Ryan', 'full_name_Matt Doherty', 'full_name_Matt Ritchie', 'full_name_Matt Targett', 'full_name_Matthew Cash', 'full_name_Matthew Lowton', 'full_name_Max Kilman', 'full_name_Max Lowe', 'full_name_Maxime Le Marchand', 'full_name_Michael Hector', 'full_name_Michael Keane', 'full_name_Michail Antonio', 'full_name_Michy Batshuayi', 'full_name_Miguel Almirón', 'full_name_Mohamed Naser El Sayed Elneny', 'full_name_Mohamed Salah', 'full_name_Moussa Djenepo', 'full_name_Moussa Sissoko', \"full_name_N'Golo Kanté\", 'full_name_Naby Keita', 'full_name_Nampalys Mendy', 'full_name_Nathan Aké', 'full_name_Nathan Redmond', 'full_name_Nathaniel Clyne', 'full_name_Nathaniel Phillips', 'full_name_Neal Maupay', 'full_name_Neeskens Kebano', 'full_name_Nemanja Matic', 'full_name_Nick Pope', 'full_name_Nicolas Pépé', 'full_name_Niels Nkounkou', 'full_name_Nélson Cabral Semedo', 'full_name_Ola Aina', 'full_name_Oliver Burke', 'full_name_Oliver McBurnie', 'full_name_Oliver Norwood', 'full_name_Ollie Watkins', 'full_name_Oluwasemilogo Adesewo Ibidapo Ajayi', 'full_name_Oriol Romeu Vidal', 'full_name_Pablo Fornals', 'full_name_Pablo Hernández Domínguez', 'full_name_Pascal Groß', 'full_name_Pascal Struijk', 'full_name_Patrick Bamford', 'full_name_Patrick van Aanholt', 'full_name_Paul Pogba', 'full_name_Pedro Lomba Neto', 'full_name_Phil Bardsley', 'full_name_Phil Foden', 'full_name_Pierre-Emerick Aubameyang', 'full_name_Pierre-Emile Højbjerg', 'full_name_Raheem Sterling', 'full_name_Rayan Ait Nouri', 'full_name_Raúl Jiménez', 'full_name_Reece James', 'full_name_Rhian Brewster', 'full_name_Richarlison de Andrade', 'full_name_Riyad Mahrez', 'full_name_Rob Holding', 'full_name_Robbie Brady', 'full_name_Robert Sánchez', 'full_name_Roberto Firmino', 'full_name_Robin Koch', 'full_name_Robin Olsen', 'full_name_Rodrigo Hernandez', 'full_name_Rodrigo Moreno', 'full_name_Romain Saïss', 'full_name_Romaine Sawyers', 'full_name_Ross Barkley', 'full_name_Ruben Loftus-Cheek', 'full_name_Rui Pedro dos Santos Patrício', 'full_name_Ryan Bertrand', 'full_name_Ryan Fraser', 'full_name_Ryan Fredericks', 'full_name_Rúben Diogo da Silva Neves', 'full_name_Rúben Gonçalo Silva Nascimento Vinagre', 'full_name_Rúben Santos Gato Alves Dias', 'full_name_Sadio Mané', 'full_name_Sam Johnstone', 'full_name_Sander Berge', 'full_name_Scott Dann', 'full_name_Scott McTominay', 'full_name_Sead Kolasinac', 'full_name_Seamus Coleman', 'full_name_Sean Longstaff', 'full_name_Serge Aurier', 'full_name_Sergio Agüero', 'full_name_Sergio Reguilón', 'full_name_Solomon March', 'full_name_Steven Alzate', 'full_name_Steven Bergwijn', 'full_name_Stuart Armstrong', 'full_name_Stuart Dallas', 'full_name_Sébastien Haller', 'full_name_Tammy Abraham', 'full_name_Tanguy Ndombele', 'full_name_Tariq Lamptey', 'full_name_Theo Walcott', 'full_name_Thiago Alcántara do Nascimento', 'full_name_Thiago Thiago', 'full_name_Thomas Partey', 'full_name_Tim Ream', 'full_name_Timo Werner', 'full_name_Timothy Castagne', 'full_name_Timothy Fosu-Mensah', 'full_name_Toby Alderweireld', 'full_name_Tom Cairney', 'full_name_Tom Davies', 'full_name_Tomas Soucek', 'full_name_Tosin Adarabioyo', 'full_name_Trent Alexander-Arnold', 'full_name_Tyrick Mitchell', 'full_name_Tyrone Mings', 'full_name_Vicente Guaita', 'full_name_Victor Lindelöf', 'full_name_Virgil van Dijk', 'full_name_Vladimir Coufal', 'full_name_Wesley Fofana', 'full_name_Wilfred Ndidi', 'full_name_Wilfried Zaha', 'full_name_William Smallbone', 'full_name_Willian Borges Da Silva', 'full_name_Willy Boly', 'full_name_Willy Caballero', 'full_name_Yerry Mina', 'full_name_Youri Tielemans', 'full_name_Yves Bissouma', 'full_name_Çaglar Söyüncü', 'opponent_team_ARS', 'opponent_team_AVL', 'opponent_team_BHA', 'opponent_team_BUR', 'opponent_team_CHE', 'opponent_team_CRY', 'opponent_team_EVE', 'opponent_team_FUL', 'opponent_team_LEE', 'opponent_team_LEI', 'opponent_team_LIV', 'opponent_team_MCI', 'opponent_team_MUN', 'opponent_team_NEW', 'opponent_team_SHU', 'opponent_team_SOU', 'opponent_team_TOT', 'opponent_team_WBA', 'opponent_team_WHU', 'opponent_team_WOL']\n"
     ]
    }
   ],
   "source": [
    "# Replace categorical data with one-hot encoded data\n",
    "features_data = pd.get_dummies(\n",
    "    data, \n",
    "    columns=[\n",
    "        'corners_and_indirect_freekicks_order' , \n",
    "        'direct_freekicks_order' , \n",
    "        'penalties_order' , \n",
    "        'team_short_name' , \n",
    "        'position_name_short',\n",
    "        #'team_strength',\n",
    "        'full_name',\n",
    "        'opponent_team'\n",
    "        #,'opponent_team_strength'\n",
    "        ]\n",
    ")\n",
    "#features_df = pd.get_dummies(df)\n",
    "\n",
    "features_data = features_data.drop('ekstra_points', axis=1)\n",
    "\n",
    "list_features = list(features_data.columns.values)\n",
    "print(list_features)"
   ]
  },
  {
   "cell_type": "code",
   "execution_count": 66,
   "metadata": {
    "tags": []
   },
   "outputs": [
    {
     "output_type": "stream",
     "name": "stdout",
     "text": [
      "ekstra_points 5 <class 'numpy.int64'>\nhome_game False <class 'numpy.bool_'>\nminutes_played 90 <class 'numpy.int64'>\ncorners_and_indirect_freekicks_order 0.0 <class 'numpy.float64'>\ndirect_freekicks_order 0.0 <class 'numpy.float64'>\npenalties_order 1.0 <class 'numpy.float64'>\nteam_short_name ARS <class 'str'>\nposition_name_short MID <class 'str'>\nteam_strength 4 <class 'numpy.int64'>\nfull_name Pierre-Emerick Aubameyang <class 'str'>\nopponent_team FUL <class 'str'>\nopponent_team_strength 2 <class 'numpy.int64'>\n"
     ]
    }
   ],
   "source": [
    "for i in list(data):\n",
    "    print(i, data[i].values[0],type(data[i].values[0]))\n",
    "\n",
    "# Create the X and y arrays\n",
    "X = features_data.values\n",
    "y = data['ekstra_points'].values\n",
    "\n",
    "# Split the data set in a training set (70%) and a test set (30%)\n",
    "X_train, X_test, y_train, y_test = train_test_split(X, y, test_size=0.3, random_state=0)\n"
   ]
  },
  {
   "cell_type": "code",
   "execution_count": 67,
   "metadata": {},
   "outputs": [],
   "source": [
    "# Create the model\n",
    "model = ensemble.GradientBoostingRegressor()"
   ]
  },
  {
   "cell_type": "code",
   "execution_count": 68,
   "metadata": {},
   "outputs": [],
   "source": [
    "#Parameters we want to try\n",
    "param_grid = {\n",
    "    'n_estimators': [500, 1000, 3000],\n",
    "    'max_depth': [4, 6],\n",
    "    'min_samples_leaf': [3, 5, 9, 17],\n",
    "    'learning_rate': [0.1, 0.05, 0.02, 0.01],\n",
    "    'max_features': [1.0, 0.3, 0.1],\n",
    "    'loss': ['ls', 'lad', 'huber']\n",
    "    }"
   ]
  },
  {
   "cell_type": "markdown",
   "metadata": {},
   "source": [
    "## THIS MODULE TAKES A LONG TIME TO RUN"
   ]
  },
  {
   "cell_type": "code",
   "execution_count": 69,
   "metadata": {},
   "outputs": [],
   "source": [
    "#Define the grid search we want to run. Run it with four cpus in parallel.\n",
    "#gs_cv = GridSearchCV(model, param_grid, n_jobs=4)\n",
    "\n",
    "#Run the grid search - on only the training data!\n",
    "#gs_cv.fit(X_train, y_train)\n",
    "\n",
    "#Print the parameters that gave us the best result!\n",
    "#print(gs_cv.best_params_)\n",
    "\n",
    "# After running a .....long..... time, the output will be something like\n",
    "# {'loss': 'huber', 'learning_rate': 0.1, 'min_samples_leaf': 9, 'n_estimators': 3000, 'max_features': 0.1, 'max_depth': 6}\n",
    "# That is the combination that worked best."
   ]
  },
  {
   "cell_type": "markdown",
   "metadata": {},
   "source": [
    "### Fit regression model\n"
   ]
  },
  {
   "cell_type": "code",
   "execution_count": 70,
   "metadata": {},
   "outputs": [
    {
     "output_type": "execute_result",
     "data": {
      "text/plain": [
       "GradientBoostingRegressor(loss='huber', max_depth=4, max_features=1.0,\n",
       "                          min_samples_leaf=3, n_estimators=3000,\n",
       "                          random_state=0)"
      ]
     },
     "metadata": {},
     "execution_count": 70
    }
   ],
   "source": [
    "model = ensemble.GradientBoostingRegressor(\n",
    "    n_estimators=3000,\n",
    "    learning_rate=0.1,\n",
    "    max_depth=4,\n",
    "    min_samples_leaf=3,\n",
    "    max_features=1.0,\n",
    "    loss='huber',\n",
    "    random_state=0\n",
    ")\n",
    "\n",
    "model.fit(X_train, y_train)"
   ]
  },
  {
   "cell_type": "markdown",
   "metadata": {},
   "source": [
    "### Save the trained model to a file so we can use it in other programs\n"
   ]
  },
  {
   "cell_type": "code",
   "execution_count": 71,
   "metadata": {},
   "outputs": [
    {
     "output_type": "execute_result",
     "data": {
      "text/plain": [
       "['Trained_PlayerAnalysis.pkl']"
      ]
     },
     "metadata": {},
     "execution_count": 71
    }
   ],
   "source": [
    "joblib.dump(model, 'Trained_PlayerAnalysis.pkl')"
   ]
  },
  {
   "cell_type": "markdown",
   "metadata": {},
   "source": [
    "### Find the error rate on the training set\n"
   ]
  },
  {
   "cell_type": "code",
   "execution_count": 72,
   "metadata": {
    "tags": []
   },
   "outputs": [
    {
     "output_type": "stream",
     "name": "stdout",
     "text": [
      "Training Set Mean Absolute Error: 1.6432\n"
     ]
    }
   ],
   "source": [
    "mse = mean_absolute_error(y_train, model.predict(X_train))\n",
    "print(\"Training Set Mean Absolute Error: %.4f\" % mse)"
   ]
  },
  {
   "cell_type": "markdown",
   "metadata": {},
   "source": [
    "### Find the error rate on the test set\n"
   ]
  },
  {
   "cell_type": "code",
   "execution_count": 73,
   "metadata": {
    "tags": []
   },
   "outputs": [
    {
     "output_type": "stream",
     "name": "stdout",
     "text": [
      "Test Set Mean Absolute Error: 2.1971\n"
     ]
    }
   ],
   "source": [
    "mse = mean_absolute_error(y_test, model.predict(X_test))\n",
    "print(\"Test Set Mean Absolute Error: %.4f\" % mse)"
   ]
  },
  {
   "cell_type": "code",
   "execution_count": 74,
   "metadata": {},
   "outputs": [],
   "source": [
    "# Load the trained model created with train_model.py\n",
    "model = joblib.load('Trained_PlayerAnalysis.pkl')\n",
    "\n",
    "# Create a numpy array based on the model's feature importances\n",
    "importance = model.feature_importances_\n",
    "\n",
    "# Sort the feature labels based on the feature importance rankings from the model\n",
    "feature_indexes_by_importance = importance.argsort()\n"
   ]
  },
  {
   "cell_type": "code",
   "execution_count": 75,
   "metadata": {},
   "outputs": [],
   "source": [
    "### Print each feature label, from most important to least important (reverse order)\n"
   ]
  },
  {
   "cell_type": "code",
   "execution_count": 76,
   "metadata": {
    "tags": []
   },
   "outputs": [
    {
     "output_type": "stream",
     "name": "stdout",
     "text": [
      "full_name_John Fleck - 0.00%\nfull_name_Marc Albrighton - 0.00%\nfull_name_Mamadou Sakho - 0.00%\nfull_name_Luke Thomas - 0.00%\nfull_name_Lukasz Fabianski - 0.00%\nfull_name_Luka Milivojevic - 0.00%\nfull_name_Lucas Digne - 0.00%\nfull_name_Liam Cooper - 0.00%\nfull_name_Leandro Trossard - 0.00%\nfull_name_Leander Dendoncker - 0.00%\nfull_name_Kyle Walker-Peters - 0.00%\nfull_name_Kyle Walker - 0.00%\nfull_name_Kyle Bartley - 0.00%\nfull_name_Kieran Tierney - 0.00%\nfull_name_Kieran Gibbs - 0.00%\nfull_name_Kevin Long - 0.00%\nfull_name_Marcos Alonso - 0.00%\nfull_name_Marek Rodák - 0.00%\nfull_name_Mario Lemina - 0.00%\nfull_name_Mark Noble - 0.00%\nfull_name_Mohamed Naser El Sayed Elneny - 0.00%\nfull_name_Miguel Almirón - 0.00%\nfull_name_Michy Batshuayi - 0.00%\nfull_name_Michael Hector - 0.00%\nfull_name_Maxime Le Marchand - 0.00%\nfull_name_Max Lowe - 0.00%\nfull_name_Matthew Lowton - 0.00%\nfull_name_Kepa Arrizabalaga - 0.00%\nfull_name_Matthew Cash - 0.00%\nfull_name_Matt Ritchie - 0.00%\nfull_name_Matt Doherty - 0.00%\nfull_name_Mateo Kovacic - 0.00%\nfull_name_Matej Vydra - 0.00%\nfull_name_Mason Mount - 0.00%\nfull_name_Mason Holgate - 0.00%\nfull_name_Mason Greenwood - 0.00%\nfull_name_Matt Targett - 0.00%\nfull_name_Kenny Tete - 0.00%\nfull_name_Kelechi Iheanacho - 0.00%\nfull_name_Karlan Grant - 0.00%\nfull_name_Jay Rodriguez - 0.00%\nfull_name_Javier Manquillo - 0.00%\nfull_name_Jarrod Bowen - 0.00%\nfull_name_Jan Bednarek - 0.00%\nfull_name_Jamie Shackleton - 0.00%\nfull_name_James Ward-Prowse - 0.00%\nfull_name_James McCarthy - 0.00%\nfull_name_Yves Bissouma - 0.00%\nfull_name_James Maddison - 0.00%\nfull_name_Jack Stephens - 0.00%\nfull_name_Jack Robinson - 0.00%\nfull_name_Jack O'Connell - 0.00%\nfull_name_Issa Diop - 0.00%\nfull_name_Illan Meslier - 0.00%\nfull_name_Ilkay Gündogan - 0.00%\nfull_name_Hugo Lloris - 0.00%\nfull_name_Jamaal Lascelles - 0.00%\nfull_name_Moussa Djenepo - 0.00%\nfull_name_Jimmy Dunne - 0.00%\nfull_name_Joe Bryan - 0.00%\nfull_name_Kalvin Phillips - 0.00%\nfull_name_Kai Havertz - 0.00%\nfull_name_Juan Mata - 0.00%\nfull_name_Joël Veltman - 0.00%\nfull_name_Josh Onomah - 0.00%\nfull_name_Josh Brownhill - 0.00%\nfull_name_Jorge Luiz Frello Filho - 0.00%\nfull_name_Joachim Andersen - 0.00%\nfull_name_Jordan Pickford - 0.00%\nfull_name_Jonny Evans - 0.00%\nfull_name_Jonjoe Kenny - 0.00%\nfull_name_John Stones - 0.00%\nfull_name_John Lundstram - 0.00%\nfull_name_Johann Berg Gudmundsson - 0.00%\nfull_name_Joelinton Cássio Apolinário de Lira - 0.00%\nfull_name_Joel Matip - 0.00%\nfull_name_Jordan Henderson - 0.00%\nfull_name_Naby Keita - 0.00%\nfull_name_Nampalys Mendy - 0.00%\nfull_name_Nathan Aké - 0.00%\nfull_name_Theo Walcott - 0.00%\nfull_name_Tanguy Ndombele - 0.00%\nfull_name_Sébastien Haller - 0.00%\nfull_name_Stuart Armstrong - 0.00%\nfull_name_Steven Bergwijn - 0.00%\nfull_name_Steven Alzate - 0.00%\nfull_name_Solomon March - 0.00%\nfull_name_Thiago Alcántara do Nascimento - 0.00%\nfull_name_Sergio Reguilón - 0.00%\nfull_name_Serge Aurier - 0.00%\nfull_name_Sean Longstaff - 0.00%\nfull_name_Sead Kolasinac - 0.00%\nfull_name_Scott McTominay - 0.00%\nfull_name_Scott Dann - 0.00%\nfull_name_Sander Berge - 0.00%\nfull_name_Sam Johnstone - 0.00%\nfull_name_Sergio Agüero - 0.00%\nfull_name_Rúben Santos Gato Alves Dias - 0.00%\nfull_name_Thiago Thiago - 0.00%\nfull_name_Tim Ream - 0.00%\nfull_name_Willy Caballero - 0.00%\nfull_name_Willy Boly - 0.00%\nfull_name_Willian Borges Da Silva - 0.00%\nfull_name_William Smallbone - 0.00%\nfull_name_Wilfried Zaha - 0.00%\nfull_name_Wilfred Ndidi - 0.00%\nfull_name_Vladimir Coufal - 0.00%\nfull_name_Thomas Partey - 0.00%\nfull_name_Victor Lindelöf - 0.00%\nfull_name_Tosin Adarabioyo - 0.00%\nfull_name_Tomas Soucek - 0.00%\nfull_name_Tom Davies - 0.00%\nfull_name_Tom Cairney - 0.00%\nfull_name_Toby Alderweireld - 0.00%\nfull_name_Timothy Fosu-Mensah - 0.00%\nfull_name_Timo Werner - 0.00%\nfull_name_Trent Alexander-Arnold - 0.00%\nfull_name_Harry Winks - 0.00%\nfull_name_Rúben Gonçalo Silva Nascimento Vinagre - 0.00%\nfull_name_Ryan Fraser - 0.00%\nfull_name_Pascal Groß - 0.00%\nfull_name_Pablo Hernández Domínguez - 0.00%\nfull_name_Ollie Watkins - 0.00%\nfull_name_Oliver Norwood - 0.00%\nfull_name_Oliver McBurnie - 0.00%\nfull_name_Oliver Burke - 0.00%\nfull_name_Ola Aina - 0.00%\nfull_name_Pascal Struijk - 0.00%\nfull_name_Nélson Cabral Semedo - 0.00%\nfull_name_Nicolas Pépé - 0.00%\nfull_name_Nemanja Matic - 0.00%\nfull_name_Neeskens Kebano - 0.00%\nfull_name_Neal Maupay - 0.00%\nfull_name_Nathaniel Phillips - 0.00%\nfull_name_Nathaniel Clyne - 0.00%\nfull_name_Nathan Redmond - 0.00%\nfull_name_Niels Nkounkou - 0.00%\nfull_name_Ryan Fredericks - 0.00%\nfull_name_Patrick van Aanholt - 0.00%\nfull_name_Phil Bardsley - 0.00%\nfull_name_Ruben Loftus-Cheek - 0.00%\nfull_name_Ross Barkley - 0.00%\nfull_name_Romaine Sawyers - 0.00%\nfull_name_Rodrigo Moreno - 0.00%\nfull_name_Robin Olsen - 0.00%\nfull_name_Roberto Firmino - 0.00%\nfull_name_Robert Sánchez - 0.00%\nfull_name_Paul Pogba - 0.00%\nfull_name_Robbie Brady - 0.00%\nfull_name_Riyad Mahrez - 0.00%\nfull_name_Rhian Brewster - 0.00%\nfull_name_Reece James - 0.00%\nfull_name_Rayan Ait Nouri - 0.00%\nfull_name_Pierre-Emile Højbjerg - 0.00%\nfull_name_Pierre-Emerick Aubameyang - 0.00%\nfull_name_Phil Foden - 0.00%\nfull_name_Rob Holding - 0.00%\nfull_name_Harrison Reed - 0.00%\nfull_name_Jeff Hendrick - 0.00%\nfull_name_Gylfi Sigurdsson - 0.00%\nfull_name_Billy Sharp - 0.00%\nfull_name_Bobby Decordova-Reid - 0.00%\nfull_name_Hakim Ziyech - 0.00%\nfull_name_Bukayo Saka - 0.00%\nfull_name_Callum Hudson-Odoi - 0.00%\nfull_name_Charlie Taylor - 0.00%\nfull_name_Cheikhou Kouyaté - 0.00%\nfull_name_Chris Basham - 0.00%\nfull_name_Chris Wood - 0.00%\nfull_name_Christian Fuchs - 0.00%\nfull_name_Christian Pulisic - 0.00%\nfull_name_Conor Gallagher - 0.00%\nfull_name_Conor Hourihane - 0.00%\nfull_name_Conor Townsend - 0.00%\nfull_name_Curtis Jones - 0.00%\nfull_name_César Azpilicueta - 0.00%\nfull_name_Dale Stephens - 0.00%\nfull_name_Dan Burn - 0.00%\nfull_name_Daniel Amartey - 0.00%\nfull_name_Daniel Castelo Podence - 0.00%\nfull_name_Daniel James - 0.00%\nfull_name_Danny Welbeck - 0.00%\nfull_name_Darnell Furlong - 0.00%\nfull_name_David Luiz Moreira Marinho - 0.00%\nfull_name_David McGoldrick - 0.00%\nfull_name_David de Gea - 0.00%\nfull_name_Davinson Sánchez - 0.00%\nfull_name_Bernd Leno - 0.00%\nfull_name_Dwight McNeil - 0.00%\nfull_name_Bernardo Mota Veiga de Carvalho e Silva - 0.00%\nfull_name_Ben Osborn - 0.00%\nfull_name_Aaron Connolly - 0.00%\nfull_name_Aaron Wan-Bissaka - 0.00%\nfull_name_Abdoulaye Doucouré - 0.00%\nfull_name_Aboubakar Kamara - 0.00%\nfull_name_Adam Lallana - 0.00%\nfull_name_Adam Webster - 0.00%\nfull_name_Adama Traoré - 0.00%\nfull_name_Ademola Lookman - 0.00%\nfull_name_Adrián San Miguel del Castillo - 0.00%\nfull_name_Ahmed El-Sayed Hegazy - 0.00%\nfull_name_Ainsley Maitland-Niles - 0.00%\nfull_name_Alex Iwobi - 0.00%\nfull_name_Alex McCarthy - 0.00%\nfull_name_Alphonse Areola - 0.00%\nfull_name_Andreas Christensen - 0.00%\nfull_name_Andros Townsend - 0.00%\nfull_name_André Filipe Tavares Gomes - 0.00%\nfull_name_André-Frank Zambo Anguissa - 0.00%\nfull_name_Andy Carroll - 0.00%\nfull_name_Angelo Ogbonna - 0.00%\nfull_name_Antonee Robinson - 0.00%\nfull_name_Arthur Masuaku - 0.00%\nfull_name_Aymeric Laporte - 0.00%\nfull_name_Ayoze Pérez - 0.00%\nfull_name_Ben Davies - 0.00%\nfull_name_Ben Godfrey - 0.00%\nfull_name_Ben Mee - 0.00%\nfull_name_Bernard Anício Caldeira Duarte - 0.00%\nfull_name_Eberechi Eze - 0.00%\nfull_name_Branislav Ivanovic - 0.00%\nfull_name_Gabriel Magalhães - 0.00%\nfull_name_Erik Pieters - 0.00%\nfull_name_Fernando Marçal - 0.00%\nfull_name_Fernando Luiz Rosa - 0.00%\nfull_name_Eric Garcia - 0.00%\nfull_name_Filip Krovinovic - 0.00%\nfull_name_Ethan Ampadu - 0.00%\nfull_name_Eric Dier - 0.00%\nfull_name_Ezgjan Alioski - 0.00%\nfull_name_Fabio Henrique Tavares - 0.00%\nfull_name_Gabriel Fernando de Jesus - 0.00%\nfull_name_Eric Bailly - 0.00%\nfull_name_Gareth Bale - 0.00%\nfull_name_Gary Cahill - 0.00%\nfull_name_Ferran Torres - 0.00%\nfull_name_Ezri Konsa Ngoyo - 0.00%\nfull_name_Giovani Lo Celso - 0.00%\nfull_name_Fabian Schär - 0.00%\nfull_name_Fabian Delph - 0.00%\nfull_name_Grady Diangana - 0.00%\nfull_name_Georginio Wijnaldum - 0.00%\nfull_name_Erik Lamela - 0.00%\nfull_name_Edouard Mendy - 0.00%\nfull_name_Emil Krafth - 0.00%\nfull_name_George Baldock - 0.00%\nfull_name_Seamus Coleman - 0.00%\nfull_name_Yerry Mina - 0.00%\nfull_name_Richarlison de Andrade - 0.00%\nfull_name_Luke Ayling - 0.00%\nfull_name_Aaron Ramsdale - 0.01%\nfull_name_Ivan Ricardo Neves Abreu Cavaleiro - 0.01%\nfull_name_Jacob Murphy - 0.01%\nfull_name_Allan Saint-Maximin - 0.01%\nfull_name_Kevin De Bruyne - 0.01%\nfull_name_Mathew Ryan - 0.01%\nfull_name_Pedro Lomba Neto - 0.01%\nfull_name_James McArthur - 0.01%\nfull_name_Stuart Dallas - 0.01%\nfull_name_Jeffrey Schlupp - 0.01%\nfull_name_Callum Robinson - 0.01%\nfull_name_James Tarkowski - 0.01%\nfull_name_Moussa Sissoko - 0.01%\nfull_name_Joseph Gomez - 0.01%\nfull_name_Ashley Westwood - 0.01%\nfull_name_Frederico Rodrigues de Paula Santos - 0.02%\nfull_name_Ben White - 0.02%\nfull_name_João Filipe Iria Santos Moutinho - 0.02%\nfull_name_Kasper Schmeichel - 0.02%\nfull_name_Diogo Jota - 0.02%\nfull_name_Jake Livermore - 0.02%\nfull_name_Oriol Romeu Vidal - 0.02%\nfull_name_Daniel Ceballos Fernández - 0.02%\nfull_name_Raúl Jiménez - 0.02%\nfull_name_Jordan Ayew - 0.02%\nfull_name_Alisson Ramses Becker - 0.03%\nopponent_team_LIV - 0.03%\nfull_name_Youri Tielemans - 0.03%\nfull_name_Harry Maguire - 0.03%\nfull_name_Andrew Robertson - 0.03%\nfull_name_Rui Pedro dos Santos Patrício - 0.03%\nfull_name_Marcus Rashford - 0.03%\nfull_name_Dara O'Shea - 0.04%\nfull_name_Harvey Barnes - 0.04%\nfull_name_Vicente Guaita - 0.04%\nfull_name_Robin Koch - 0.04%\nfull_name_Jairo Riedewald - 0.04%\nopponent_team_AVL - 0.04%\nteam_short_name_LEI - 0.04%\nfull_name_Jamal Lewis - 0.04%\nfull_name_Federico Fernández - 0.04%\nopponent_team_CHE - 0.04%\nteam_short_name_BUR - 0.04%\nfull_name_Enda Stevens - 0.04%\nfull_name_Granit Xhaka - 0.04%\nfull_name_James Rodríguez - 0.04%\nfull_name_Rúben Diogo da Silva Neves - 0.05%\nfull_name_Jonjo Shelvey - 0.05%\nfull_name_Oluwasemilogo Adesewo Ibidapo Ajayi - 0.05%\nfull_name_Ederson Santana de Moraes - 0.05%\nfull_name_Jack Grealish - 0.05%\nfull_name_Danny Ings - 0.05%\nopponent_team_MCI - 0.05%\nfull_name_Lucas Rodrigues Moura da Silva - 0.05%\nfull_name_N'Golo Kanté - 0.05%\nfull_name_Rodrigo Hernandez - 0.05%\nfull_name_Mateusz Klich - 0.05%\nfull_name_Mahmoud Ahmed Ibrahim Hassan - 0.05%\nfull_name_Aaron Cresswell - 0.06%\nfull_name_Tammy Abraham - 0.06%\nfull_name_Callum Wilson - 0.06%\nfull_name_Anthony Martial - 0.07%\nfull_name_Tyrick Mitchell - 0.07%\nfull_name_Michael Keane - 0.07%\nfull_name_Aleksandar Mitrović - 0.07%\nfull_name_Allan Marques Loureiro - 0.07%\nfull_name_Declan Rice - 0.08%\nfull_name_Ryan Bertrand - 0.08%\nfull_name_Joel Ward - 0.08%\nopponent_team_ARS - 0.08%\nfull_name_Douglas Luiz Soares de Paulo - 0.08%\nfull_name_Isaac Hayden - 0.09%\nfull_name_Ashley Barnes - 0.09%\nposition_name_short_GKP - 0.09%\nfull_name_Matheus Pereira - 0.09%\nfull_name_Denis Odoi - 0.10%\nfull_name_Che Adams - 0.10%\nfull_name_Michail Antonio - 0.10%\nfull_name_Tariq Lamptey - 0.10%\nfull_name_John Egan - 0.10%\nfull_name_Hélder Wander Sousa de Azevedo e Costa - 0.10%\ndirect_freekicks_order_1.0 - 0.11%\nfull_name_Lewis Dunk - 0.11%\nfull_name_Wesley Fofana - 0.11%\ndirect_freekicks_order_0.0 - 0.11%\nfull_name_Conor Coady - 0.11%\nopponent_team_FUL - 0.12%\nfull_name_Harry Kane - 0.13%\nfull_name_Benjamin Mendy - 0.13%\ncorners_and_indirect_freekicks_order_1.0 - 0.14%\ncorners_and_indirect_freekicks_order_0.0 - 0.14%\npenalties_order_1.0 - 0.14%\npenalties_order_2.0 - 0.14%\nopponent_team_NEW - 0.14%\nfull_name_John McGinn - 0.15%\ncorners_and_indirect_freekicks_order_2.0 - 0.15%\nteam_short_name_MUN - 0.16%\nfull_name_Çaglar Söyüncü - 0.16%\nfull_name_James Justin - 0.17%\nfull_name_Pablo Fornals - 0.17%\nfull_name_Max Kilman - 0.18%\nteam_short_name_LEE - 0.18%\nfull_name_Karl Darlow - 0.18%\nfull_name_Luke Shaw - 0.18%\nfull_name_Fabián Balbuena - 0.19%\nteam_short_name_EVE - 0.19%\nfull_name_Jack Harrison - 0.19%\nopponent_team_WHU - 0.19%\nteam_short_name_LIV - 0.19%\nfull_name_Dennis Praet - 0.20%\nopponent_team_BUR - 0.20%\nfull_name_Timothy Castagne - 0.20%\nteam_short_name_MCI - 0.20%\nfull_name_Tyrone Mings - 0.20%\nopponent_team_WBA - 0.22%\nteam_short_name_TOT - 0.24%\nopponent_team_MUN - 0.24%\nopponent_team_BHA - 0.24%\nfull_name_Jannik Vestergaard - 0.26%\nfull_name_Nick Pope - 0.26%\nfull_name_Dominic Calvert-Lewin - 0.26%\nteam_short_name_WHU - 0.27%\nteam_short_name_WBA - 0.28%\nteam_short_name_ARS - 0.29%\nfull_name_Emiliano Martínez - 0.29%\nteam_short_name_BHA - 0.29%\nteam_short_name_FUL - 0.29%\ndirect_freekicks_order_2.0 - 0.30%\nfull_name_Benjamin Chilwell - 0.32%\nopponent_team_TOT - 0.33%\nteam_short_name_CHE - 0.42%\nfull_name_João Pedro Cavaco Cancelo - 0.44%\nopponent_team_SOU - 0.46%\nopponent_team_CRY - 0.47%\nteam_short_name_CRY - 0.47%\nfull_name_Heung-Min Son - 0.48%\nfull_name_Romain Saïss - 0.53%\nteam_short_name_WOL - 0.54%\nopponent_team_LEE - 0.59%\nfull_name_Sadio Mané - 0.65%\nopponent_team_LEI - 0.72%\nfull_name_Mohamed Salah - 0.72%\nteam_short_name_SOU - 0.77%\nfull_name_Patrick Bamford - 0.77%\nfull_name_Jamie Vardy - 0.78%\nopponent_team_WOL - 0.82%\nteam_short_name_AVL - 0.86%\nfull_name_Bruno Miguel Borges Fernandes - 0.87%\nfull_name_Kurt Zouma - 0.96%\nteam_short_name_NEW - 0.98%\nteam_short_name_SHU - 1.04%\nposition_name_short_DEF - 1.04%\nposition_name_short_MID - 1.09%\nposition_name_short_FWD - 1.12%\nopponent_team_EVE - 1.21%\nteam_strength - 1.26%\nhome_game - 1.32%\nopponent_team_SHU - 1.52%\nminutes_played - 1.67%\npenalties_order_0.0 - 1.73%\nopponent_team_strength - 4.43%\nfull_name_Raheem Sterling - 8.99%\nfull_name_Virgil van Dijk - 10.83%\nfull_name_Alexandre Lacazette - 16.69%\nfull_name_Héctor Bellerín - 19.51%\n"
     ]
    }
   ],
   "source": [
    "for index in feature_indexes_by_importance:\n",
    "    print(\"{} - {:.2f}%\".format(list_features[index], (importance[index] * 100.0)))"
   ]
  },
  {
   "cell_type": "code",
   "execution_count": null,
   "metadata": {},
   "outputs": [],
   "source": []
  }
 ]
}