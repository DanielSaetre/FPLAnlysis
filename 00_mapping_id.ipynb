{
 "cells": [
  {
   "cell_type": "code",
   "execution_count": 18,
   "metadata": {},
   "outputs": [],
   "source": [
    "import pandas as pd\n",
    "import requests\n",
    "import os\n",
    "\n",
    "url = \"https://raw.githubusercontent.com/theFPLkiwi/theFPLkiwi/7ce79ee2c7ed8b96863ccbd1e9bbe36f80120232/2021_IDs.csv\"\n",
    "res = requests.get(url, allow_redirects=True)\n",
    "\n",
    "save_path = os.getcwd() + \"/data\"\n",
    "file_name = 'mapping_id'\n",
    "completeName = os.path.join(save_path , file_name + \".csv\")\n",
    "\n",
    "with open(completeName,'wb') as file:\n",
    "    file.write(res.content)"
   ]
  }
 ],
 "metadata": {
  "interpreter": {
   "hash": "f24c24516229560a22d5008025681416e5b1b912798da3bcc54702e1f7f02247"
  },
  "kernelspec": {
   "display_name": "Python 3.8.12 ('myenvFPL')",
   "language": "python",
   "name": "python3"
  },
  "language_info": {
   "codemirror_mode": {
    "name": "ipython",
    "version": 3
   },
   "file_extension": ".py",
   "mimetype": "text/x-python",
   "name": "python",
   "nbconvert_exporter": "python",
   "pygments_lexer": "ipython3",
   "version": "3.8.12"
  },
  "orig_nbformat": 4
 },
 "nbformat": 4,
 "nbformat_minor": 2
}
