{
 "metadata": {
  "language_info": {
   "codemirror_mode": {
    "name": "ipython",
    "version": 3
   },
   "file_extension": ".py",
   "mimetype": "text/x-python",
   "name": "python",
   "nbconvert_exporter": "python",
   "pygments_lexer": "ipython3",
   "version": "3.8.3-final"
  },
  "orig_nbformat": 2,
  "kernelspec": {
   "name": "python_defaultSpec_1600880283268",
   "display_name": "Python 3.7.4 64-bit ('base': conda)"
  }
 },
 "nbformat": 4,
 "nbformat_minor": 2,
 "cells": [
  {
   "cell_type": "markdown",
   "metadata": {},
   "source": [
    "# This is my FPL analysis workbook"
   ]
  },
  {
   "cell_type": "code",
   "execution_count": 17,
   "metadata": {},
   "outputs": [],
   "source": [
    "#!/usr/bin/env python\n",
    "# coding: utf-8\n",
    "import os\n",
    "import numpy as np\n",
    "import pandas as pd\n",
    "import requests\n",
    "from datetime import datetime\n",
    "import json\n",
    "from tqdm import tqdm"
   ]
  },
  {
   "cell_type": "markdown",
   "metadata": {},
   "source": [
    "## Set display options"
   ]
  },
  {
   "cell_type": "code",
   "execution_count": 18,
   "metadata": {},
   "outputs": [],
   "source": [
    "pd.set_option('display.max_rows', 50)\n",
    "pd.set_option('display.max_columns', 50)"
   ]
  },
  {
   "cell_type": "code",
   "execution_count": 19,
   "metadata": {},
   "outputs": [],
   "source": [
    "#### Connect to FPL API\n",
    "def get(url):\n",
    "    response = requests.get(url)\n",
    "    return json.loads(response.content)\n",
    "\n",
    "#### Getting player summary data\n",
    "def get_player_summary(player_id):\n",
    "    url = 'https://fantasy.premierleague.com/api/element-summary/' + str(player_id) + '/' \n",
    "    response = get(url)\n",
    "    fixtures = response['fixtures']\n",
    "    history = response['history']\n",
    "    history_past = response['history_past']\n",
    "    return [fixtures, history, history_past]"
   ]
  },
  {
   "cell_type": "markdown",
   "metadata": {},
   "source": [
    "## Dimension data from FPL"
   ]
  },
  {
   "cell_type": "code",
   "execution_count": 20,
   "metadata": {},
   "outputs": [],
   "source": [
    "link = 'https://fantasy.premierleague.com/api/bootstrap-static/'\n",
    "data = get(link)"
   ]
  },
  {
   "cell_type": "code",
   "execution_count": 21,
   "metadata": {
    "tags": []
   },
   "outputs": [
    {
     "output_type": "stream",
     "name": "stdout",
     "text": "dict_keys(['events', 'game_settings', 'phases', 'teams', 'total_players', 'elements', 'element_stats', 'element_types'])\n"
    }
   ],
   "source": [
    "print(data.keys())"
   ]
  },
  {
   "cell_type": "code",
   "execution_count": 22,
   "metadata": {},
   "outputs": [],
   "source": [
    "# All player stats (total)\n",
    "all_players = pd.DataFrame(data['elements'])\n",
    "\n",
    "# All tema stats (total)\n",
    "all_teams = pd.DataFrame(data['teams'])\n",
    "\n",
    "# All gameweek stats\n",
    "all_events = pd.DataFrame(data['events'])\n",
    "\n",
    "# Player types\n",
    "player_types = pd.DataFrame(data['element_types'])\n",
    "\n",
    "# Game setting\n",
    "game_phases = pd.DataFrame(data['phases'])\n",
    "\n"
   ]
  },
  {
   "cell_type": "markdown",
   "metadata": {},
   "source": [
    "## Fact data from FPL"
   ]
  },
  {
   "cell_type": "code",
   "execution_count": 23,
   "metadata": {
    "tags": []
   },
   "outputs": [
    {
     "output_type": "stream",
     "name": "stderr",
     "text": "100%|██████████| 545/545 [00:48<00:00, 11.33it/s]\n"
    }
   ],
   "source": [
    "player_season_history_list= []\n",
    "player_gameweek_history_list = []\n",
    "player_future_fixture_list = []\n",
    "\n",
    "for i in tqdm(range(len(all_players))):\n",
    "    try:\n",
    "        fixtures, history, history_past = get_player_summary(i)\n",
    "        for j in range(len(fixtures)):\n",
    "            fixtures[j]['player_id'] = i\n",
    "        player_gameweek_history_list.append(history)\n",
    "        player_season_history_list.append(history_past)\n",
    "        player_future_fixture_list.append(fixtures)\n",
    "    except KeyError:\n",
    "        continue\n"
   ]
  },
  {
   "cell_type": "code",
   "execution_count": 24,
   "metadata": {},
   "outputs": [],
   "source": [
    "player_season_history = [item for sublist in player_season_history_list for item in sublist]\n",
    "player_season_history = pd.DataFrame(player_season_history)\n",
    "\n",
    "player_gameweek_history = [item for sublist in player_gameweek_history_list for item in sublist]\n",
    "player_gameweek_history = pd.DataFrame(player_gameweek_history)\n",
    "\n",
    "player_future_fixture = [item for sublist in player_future_fixture_list for item in sublist]\n",
    "player_future_fixture = pd.DataFrame(player_future_fixture)\n"
   ]
  },
  {
   "cell_type": "markdown",
   "metadata": {},
   "source": [
    "## Save Raw data files"
   ]
  },
  {
   "cell_type": "code",
   "execution_count": 25,
   "metadata": {},
   "outputs": [],
   "source": [
    "all_players.to_csv (r'./data/2020-21/Raw_data/all_players.csv', index = False, header=True)\n",
    "all_teams.to_csv (r'./data/2020-21/Raw_data/all_teams.csv', index = False, header = True)\n",
    "all_events.to_csv (r'./data/2020-21/Raw_data/all_events.csv', index = False, header = True)\n",
    "player_types.to_csv(r'./data/2020-21/Raw_data/player_types.csv', index = False, header = True)\n",
    "game_phases.to_csv(r'./data/2020-21/Raw_data/game_phases.csv', index = False, header = True)\n",
    "\n",
    "player_season_history.to_csv (r'./data/2020-21/Raw_data/player_season_history.csv', index = False, header=True)\n",
    "player_gameweek_history.to_csv (r'./data/2020-21/Raw_data/player_gameweek_history.csv', index = False, header=True)\n",
    "player_future_fixture.to_csv (r'./data/2020-21/Raw_data/player_future_fixture.csv', index = False, header=True)"
   ]
  },
  {
   "cell_type": "markdown",
   "metadata": {},
   "source": [
    "## Clean Data"
   ]
  },
  {
   "cell_type": "markdown",
   "metadata": {},
   "source": [
    "### Events"
   ]
  },
  {
   "cell_type": "code",
   "execution_count": 26,
   "metadata": {},
   "outputs": [
    {
     "output_type": "execute_result",
     "data": {
      "text/plain": "   gameweek_id gameweek_name       deadline_time  average_entry_score  \\\n0            1    Gameweek 1 2020-09-12 10:00:00                   50   \n1            2    Gameweek 2 2020-09-19 10:00:00                   59   \n2            3    Gameweek 3 2020-09-26 10:00:00                    0   \n3            4    Gameweek 4 2020-10-03 10:00:00                    0   \n4            5    Gameweek 5 2020-10-17 12:30:00                    0   \n\n   finished  data_checked  highest_score  is_previous  is_current  is_next  \\\n0      True          True          142.0         True       False    False   \n1      True          True          165.0        False        True    False   \n2     False         False            NaN        False       False     True   \n3     False         False            NaN        False       False    False   \n4     False         False            NaN        False       False    False   \n\n                                          chip_plays  most_selected  \\\n0  [{'chip_name': 'bboost', 'num_played': 112843}...          259.0   \n1  [{'chip_name': 'bboost', 'num_played': 94615},...          259.0   \n2                                                 []            NaN   \n3                                                 []            NaN   \n4                                                 []            NaN   \n\n   most_transferred_in  top_element           top_element_info  \\\n0                  1.0        254.0  {'id': 254, 'points': 20}   \n1                302.0        390.0  {'id': 390, 'points': 24}   \n2                  NaN          NaN                       None   \n3                  NaN          NaN                       None   \n4                  NaN          NaN                       None   \n\n   most_captained  most_vice_captained  \n0             4.0                  4.0  \n1             4.0                254.0  \n2             NaN                  NaN  \n3             NaN                  NaN  \n4             NaN                  NaN  ",
      "text/html": "<div>\n<style scoped>\n    .dataframe tbody tr th:only-of-type {\n        vertical-align: middle;\n    }\n\n    .dataframe tbody tr th {\n        vertical-align: top;\n    }\n\n    .dataframe thead th {\n        text-align: right;\n    }\n</style>\n<table border=\"1\" class=\"dataframe\">\n  <thead>\n    <tr style=\"text-align: right;\">\n      <th></th>\n      <th>gameweek_id</th>\n      <th>gameweek_name</th>\n      <th>deadline_time</th>\n      <th>average_entry_score</th>\n      <th>finished</th>\n      <th>data_checked</th>\n      <th>highest_score</th>\n      <th>is_previous</th>\n      <th>is_current</th>\n      <th>is_next</th>\n      <th>chip_plays</th>\n      <th>most_selected</th>\n      <th>most_transferred_in</th>\n      <th>top_element</th>\n      <th>top_element_info</th>\n      <th>most_captained</th>\n      <th>most_vice_captained</th>\n    </tr>\n  </thead>\n  <tbody>\n    <tr>\n      <th>0</th>\n      <td>1</td>\n      <td>Gameweek 1</td>\n      <td>2020-09-12 10:00:00</td>\n      <td>50</td>\n      <td>True</td>\n      <td>True</td>\n      <td>142.0</td>\n      <td>True</td>\n      <td>False</td>\n      <td>False</td>\n      <td>[{'chip_name': 'bboost', 'num_played': 112843}...</td>\n      <td>259.0</td>\n      <td>1.0</td>\n      <td>254.0</td>\n      <td>{'id': 254, 'points': 20}</td>\n      <td>4.0</td>\n      <td>4.0</td>\n    </tr>\n    <tr>\n      <th>1</th>\n      <td>2</td>\n      <td>Gameweek 2</td>\n      <td>2020-09-19 10:00:00</td>\n      <td>59</td>\n      <td>True</td>\n      <td>True</td>\n      <td>165.0</td>\n      <td>False</td>\n      <td>True</td>\n      <td>False</td>\n      <td>[{'chip_name': 'bboost', 'num_played': 94615},...</td>\n      <td>259.0</td>\n      <td>302.0</td>\n      <td>390.0</td>\n      <td>{'id': 390, 'points': 24}</td>\n      <td>4.0</td>\n      <td>254.0</td>\n    </tr>\n    <tr>\n      <th>2</th>\n      <td>3</td>\n      <td>Gameweek 3</td>\n      <td>2020-09-26 10:00:00</td>\n      <td>0</td>\n      <td>False</td>\n      <td>False</td>\n      <td>NaN</td>\n      <td>False</td>\n      <td>False</td>\n      <td>True</td>\n      <td>[]</td>\n      <td>NaN</td>\n      <td>NaN</td>\n      <td>NaN</td>\n      <td>None</td>\n      <td>NaN</td>\n      <td>NaN</td>\n    </tr>\n    <tr>\n      <th>3</th>\n      <td>4</td>\n      <td>Gameweek 4</td>\n      <td>2020-10-03 10:00:00</td>\n      <td>0</td>\n      <td>False</td>\n      <td>False</td>\n      <td>NaN</td>\n      <td>False</td>\n      <td>False</td>\n      <td>False</td>\n      <td>[]</td>\n      <td>NaN</td>\n      <td>NaN</td>\n      <td>NaN</td>\n      <td>None</td>\n      <td>NaN</td>\n      <td>NaN</td>\n    </tr>\n    <tr>\n      <th>4</th>\n      <td>5</td>\n      <td>Gameweek 5</td>\n      <td>2020-10-17 12:30:00</td>\n      <td>0</td>\n      <td>False</td>\n      <td>False</td>\n      <td>NaN</td>\n      <td>False</td>\n      <td>False</td>\n      <td>False</td>\n      <td>[]</td>\n      <td>NaN</td>\n      <td>NaN</td>\n      <td>NaN</td>\n      <td>None</td>\n      <td>NaN</td>\n      <td>NaN</td>\n    </tr>\n  </tbody>\n</table>\n</div>"
     },
     "metadata": {},
     "execution_count": 26
    }
   ],
   "source": [
    "all_events['deadline_time'] = pd.to_datetime(all_events['deadline_time'])\n",
    "all_events['deadline_time'] = all_events['deadline_time'].dt.tz_localize(None)\n",
    "all_events.drop([\"highest_scoring_entry\", \"deadline_time_epoch\", \"transfers_made\", \"deadline_time_game_offset\"],axis = 1, inplace = True)\n",
    "all_events.rename(columns={\"id\" : \"gameweek_id\", \"name\" : \"gameweek_name\"}, inplace=True)\n",
    "all_events.head()\n"
   ]
  },
  {
   "cell_type": "markdown",
   "metadata": {},
   "source": [
    "### Teams"
   ]
  },
  {
   "cell_type": "code",
   "execution_count": 27,
   "metadata": {},
   "outputs": [],
   "source": [
    "all_teams.drop([\"draw\", \"form\", \"loss\", \"played\", \"points\", \"position\", \"team_division\", \"unavailable\", \"win\", \"pulse_id\"], axis = 1, inplace = True)\n"
   ]
  },
  {
   "cell_type": "code",
   "execution_count": 28,
   "metadata": {},
   "outputs": [],
   "source": [
    "all_teams.rename(columns={\"code\" : \"team_code_id\", \"id\" : \"team_id\"}, inplace = True)"
   ]
  },
  {
   "cell_type": "code",
   "execution_count": 29,
   "metadata": {},
   "outputs": [
    {
     "output_type": "execute_result",
     "data": {
      "text/plain": "    team_code_id  team_id            name short_name  strength  \\\n0              3        1         Arsenal        ARS         4   \n1              7        2     Aston Villa        AVL         2   \n2             36        3        Brighton        BHA         2   \n3             90        4         Burnley        BUR         3   \n4              8        5         Chelsea        CHE         4   \n5             31        6  Crystal Palace        CRY         3   \n6             11        7         Everton        EVE         3   \n7             54        8          Fulham        FUL         2   \n8             13        9       Leicester        LEI         4   \n9              2       10           Leeds        LEE         2   \n10            14       11       Liverpool        LIV         5   \n11            43       12        Man City        MCI         5   \n12             1       13         Man Utd        MUN         4   \n13             4       14       Newcastle        NEW         3   \n14            49       15   Sheffield Utd        SHU         3   \n15            20       16     Southampton        SOU         3   \n16             6       17           Spurs        TOT         4   \n17            35       18       West Brom        WBA         2   \n18            21       19        West Ham        WHU         3   \n19            39       20          Wolves        WOL         3   \n\n    strength_overall_home  strength_overall_away  strength_attack_home  \\\n0                    1190                   1270                  1190   \n1                    1050                   1080                  1010   \n2                    1070                   1070                  1100   \n3                    1140                   1150                  1130   \n4                    1200                   1260                  1140   \n5                    1080                   1070                  1080   \n6                    1100                   1180                  1090   \n7                    1000                   1030                  1010   \n8                    1180                   1230                  1180   \n9                    1030                   1040                  1040   \n10                   1320                   1350                  1280   \n11                   1310                   1350                  1250   \n12                   1250                   1250                  1250   \n13                   1090                   1120                  1040   \n14                   1170                   1220                  1160   \n15                   1150                   1060                  1140   \n16                   1200                   1260                  1100   \n17                   1020                   1030                  1030   \n18                   1070                   1100                  1090   \n19                   1200                   1190                  1230   \n\n    strength_attack_away  strength_defence_home  strength_defence_away  \n0                   1200                   1160                   1270  \n1                   1080                   1000                   1110  \n2                   1130                   1060                   1060  \n3                   1240                   1050                   1170  \n4                   1270                   1240                   1250  \n5                   1190                   1010                   1040  \n6                   1190                   1150                   1180  \n7                   1030                   1000                   1050  \n8                   1260                   1220                   1250  \n9                   1070                    990                    990  \n10                  1320                   1300                   1340  \n11                  1340                   1340                   1350  \n12                  1260                   1200                   1290  \n13                  1170                   1020                   1070  \n14                  1280                   1010                   1150  \n15                  1060                   1190                   1090  \n16                  1240                   1200                   1260  \n17                  1030                   1020                   1150  \n18                  1090                   1040                   1210  \n19                  1250                   1170                   1200  ",
      "text/html": "<div>\n<style scoped>\n    .dataframe tbody tr th:only-of-type {\n        vertical-align: middle;\n    }\n\n    .dataframe tbody tr th {\n        vertical-align: top;\n    }\n\n    .dataframe thead th {\n        text-align: right;\n    }\n</style>\n<table border=\"1\" class=\"dataframe\">\n  <thead>\n    <tr style=\"text-align: right;\">\n      <th></th>\n      <th>team_code_id</th>\n      <th>team_id</th>\n      <th>name</th>\n      <th>short_name</th>\n      <th>strength</th>\n      <th>strength_overall_home</th>\n      <th>strength_overall_away</th>\n      <th>strength_attack_home</th>\n      <th>strength_attack_away</th>\n      <th>strength_defence_home</th>\n      <th>strength_defence_away</th>\n    </tr>\n  </thead>\n  <tbody>\n    <tr>\n      <th>0</th>\n      <td>3</td>\n      <td>1</td>\n      <td>Arsenal</td>\n      <td>ARS</td>\n      <td>4</td>\n      <td>1190</td>\n      <td>1270</td>\n      <td>1190</td>\n      <td>1200</td>\n      <td>1160</td>\n      <td>1270</td>\n    </tr>\n    <tr>\n      <th>1</th>\n      <td>7</td>\n      <td>2</td>\n      <td>Aston Villa</td>\n      <td>AVL</td>\n      <td>2</td>\n      <td>1050</td>\n      <td>1080</td>\n      <td>1010</td>\n      <td>1080</td>\n      <td>1000</td>\n      <td>1110</td>\n    </tr>\n    <tr>\n      <th>2</th>\n      <td>36</td>\n      <td>3</td>\n      <td>Brighton</td>\n      <td>BHA</td>\n      <td>2</td>\n      <td>1070</td>\n      <td>1070</td>\n      <td>1100</td>\n      <td>1130</td>\n      <td>1060</td>\n      <td>1060</td>\n    </tr>\n    <tr>\n      <th>3</th>\n      <td>90</td>\n      <td>4</td>\n      <td>Burnley</td>\n      <td>BUR</td>\n      <td>3</td>\n      <td>1140</td>\n      <td>1150</td>\n      <td>1130</td>\n      <td>1240</td>\n      <td>1050</td>\n      <td>1170</td>\n    </tr>\n    <tr>\n      <th>4</th>\n      <td>8</td>\n      <td>5</td>\n      <td>Chelsea</td>\n      <td>CHE</td>\n      <td>4</td>\n      <td>1200</td>\n      <td>1260</td>\n      <td>1140</td>\n      <td>1270</td>\n      <td>1240</td>\n      <td>1250</td>\n    </tr>\n    <tr>\n      <th>5</th>\n      <td>31</td>\n      <td>6</td>\n      <td>Crystal Palace</td>\n      <td>CRY</td>\n      <td>3</td>\n      <td>1080</td>\n      <td>1070</td>\n      <td>1080</td>\n      <td>1190</td>\n      <td>1010</td>\n      <td>1040</td>\n    </tr>\n    <tr>\n      <th>6</th>\n      <td>11</td>\n      <td>7</td>\n      <td>Everton</td>\n      <td>EVE</td>\n      <td>3</td>\n      <td>1100</td>\n      <td>1180</td>\n      <td>1090</td>\n      <td>1190</td>\n      <td>1150</td>\n      <td>1180</td>\n    </tr>\n    <tr>\n      <th>7</th>\n      <td>54</td>\n      <td>8</td>\n      <td>Fulham</td>\n      <td>FUL</td>\n      <td>2</td>\n      <td>1000</td>\n      <td>1030</td>\n      <td>1010</td>\n      <td>1030</td>\n      <td>1000</td>\n      <td>1050</td>\n    </tr>\n    <tr>\n      <th>8</th>\n      <td>13</td>\n      <td>9</td>\n      <td>Leicester</td>\n      <td>LEI</td>\n      <td>4</td>\n      <td>1180</td>\n      <td>1230</td>\n      <td>1180</td>\n      <td>1260</td>\n      <td>1220</td>\n      <td>1250</td>\n    </tr>\n    <tr>\n      <th>9</th>\n      <td>2</td>\n      <td>10</td>\n      <td>Leeds</td>\n      <td>LEE</td>\n      <td>2</td>\n      <td>1030</td>\n      <td>1040</td>\n      <td>1040</td>\n      <td>1070</td>\n      <td>990</td>\n      <td>990</td>\n    </tr>\n    <tr>\n      <th>10</th>\n      <td>14</td>\n      <td>11</td>\n      <td>Liverpool</td>\n      <td>LIV</td>\n      <td>5</td>\n      <td>1320</td>\n      <td>1350</td>\n      <td>1280</td>\n      <td>1320</td>\n      <td>1300</td>\n      <td>1340</td>\n    </tr>\n    <tr>\n      <th>11</th>\n      <td>43</td>\n      <td>12</td>\n      <td>Man City</td>\n      <td>MCI</td>\n      <td>5</td>\n      <td>1310</td>\n      <td>1350</td>\n      <td>1250</td>\n      <td>1340</td>\n      <td>1340</td>\n      <td>1350</td>\n    </tr>\n    <tr>\n      <th>12</th>\n      <td>1</td>\n      <td>13</td>\n      <td>Man Utd</td>\n      <td>MUN</td>\n      <td>4</td>\n      <td>1250</td>\n      <td>1250</td>\n      <td>1250</td>\n      <td>1260</td>\n      <td>1200</td>\n      <td>1290</td>\n    </tr>\n    <tr>\n      <th>13</th>\n      <td>4</td>\n      <td>14</td>\n      <td>Newcastle</td>\n      <td>NEW</td>\n      <td>3</td>\n      <td>1090</td>\n      <td>1120</td>\n      <td>1040</td>\n      <td>1170</td>\n      <td>1020</td>\n      <td>1070</td>\n    </tr>\n    <tr>\n      <th>14</th>\n      <td>49</td>\n      <td>15</td>\n      <td>Sheffield Utd</td>\n      <td>SHU</td>\n      <td>3</td>\n      <td>1170</td>\n      <td>1220</td>\n      <td>1160</td>\n      <td>1280</td>\n      <td>1010</td>\n      <td>1150</td>\n    </tr>\n    <tr>\n      <th>15</th>\n      <td>20</td>\n      <td>16</td>\n      <td>Southampton</td>\n      <td>SOU</td>\n      <td>3</td>\n      <td>1150</td>\n      <td>1060</td>\n      <td>1140</td>\n      <td>1060</td>\n      <td>1190</td>\n      <td>1090</td>\n    </tr>\n    <tr>\n      <th>16</th>\n      <td>6</td>\n      <td>17</td>\n      <td>Spurs</td>\n      <td>TOT</td>\n      <td>4</td>\n      <td>1200</td>\n      <td>1260</td>\n      <td>1100</td>\n      <td>1240</td>\n      <td>1200</td>\n      <td>1260</td>\n    </tr>\n    <tr>\n      <th>17</th>\n      <td>35</td>\n      <td>18</td>\n      <td>West Brom</td>\n      <td>WBA</td>\n      <td>2</td>\n      <td>1020</td>\n      <td>1030</td>\n      <td>1030</td>\n      <td>1030</td>\n      <td>1020</td>\n      <td>1150</td>\n    </tr>\n    <tr>\n      <th>18</th>\n      <td>21</td>\n      <td>19</td>\n      <td>West Ham</td>\n      <td>WHU</td>\n      <td>3</td>\n      <td>1070</td>\n      <td>1100</td>\n      <td>1090</td>\n      <td>1090</td>\n      <td>1040</td>\n      <td>1210</td>\n    </tr>\n    <tr>\n      <th>19</th>\n      <td>39</td>\n      <td>20</td>\n      <td>Wolves</td>\n      <td>WOL</td>\n      <td>3</td>\n      <td>1200</td>\n      <td>1190</td>\n      <td>1230</td>\n      <td>1250</td>\n      <td>1170</td>\n      <td>1200</td>\n    </tr>\n  </tbody>\n</table>\n</div>"
     },
     "metadata": {},
     "execution_count": 29
    }
   ],
   "source": [
    "all_teams.head(20)"
   ]
  },
  {
   "cell_type": "markdown",
   "metadata": {},
   "source": [
    "### Players"
   ]
  },
  {
   "cell_type": "code",
   "execution_count": null,
   "metadata": {},
   "outputs": [],
   "source": []
  }
 ]
}