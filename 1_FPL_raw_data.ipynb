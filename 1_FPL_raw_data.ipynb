{
 "metadata": {
  "language_info": {
   "codemirror_mode": {
    "name": "ipython",
    "version": 3
   },
   "file_extension": ".py",
   "mimetype": "text/x-python",
   "name": "python",
   "nbconvert_exporter": "python",
   "pygments_lexer": "ipython3",
   "version": "3.7.4-final"
  },
  "orig_nbformat": 2,
  "kernelspec": {
   "name": "python_defaultSpec_1598095572330",
   "display_name": "Python 3.7.4 64-bit ('base': conda)"
  }
 },
 "nbformat": 4,
 "nbformat_minor": 2,
 "cells": [
  {
   "cell_type": "markdown",
   "metadata": {},
   "source": [
    "# This is my FPL analysis workbook"
   ]
  },
  {
   "cell_type": "code",
   "execution_count": 11,
   "metadata": {},
   "outputs": [],
   "source": [
    "#!/usr/bin/env python\n",
    "# coding: utf-8\n",
    "import os\n",
    "import numpy as np\n",
    "import pandas as pd\n",
    "import requests\n",
    "from datetime import datetime\n",
    "import json\n",
    "from tqdm import tqdm"
   ]
  },
  {
   "cell_type": "markdown",
   "metadata": {},
   "source": [
    "## Set display options"
   ]
  },
  {
   "cell_type": "code",
   "execution_count": 12,
   "metadata": {},
   "outputs": [],
   "source": [
    "pd.set_option('display.max_rows', 50)\n",
    "pd.set_option('display.max_columns', 50)"
   ]
  },
  {
   "cell_type": "code",
   "execution_count": 13,
   "metadata": {},
   "outputs": [],
   "source": [
    "#### Connect to FPL API\n",
    "def get(url):\n",
    "    response = requests.get(url)\n",
    "    return json.loads(response.content)\n",
    "\n",
    "#### Getting player summary data\n",
    "def get_player_summary(player_id):\n",
    "    url = 'https://fantasy.premierleague.com/api/element-summary/' + str(player_id) + '/' \n",
    "    response = get(url)\n",
    "    fixtures = response['fixtures']\n",
    "    history = response['history']\n",
    "    history_past = response['history_past']\n",
    "    return [fixtures, history, history_past]"
   ]
  },
  {
   "cell_type": "markdown",
   "metadata": {},
   "source": [
    "## Dimension data from FPL"
   ]
  },
  {
   "cell_type": "code",
   "execution_count": 14,
   "metadata": {},
   "outputs": [],
   "source": [
    "link = 'https://fantasy.premierleague.com/api/bootstrap-static/'\n",
    "data = get(link)"
   ]
  },
  {
   "cell_type": "code",
   "execution_count": 15,
   "metadata": {
    "tags": []
   },
   "outputs": [
    {
     "output_type": "stream",
     "name": "stdout",
     "text": "dict_keys(['events', 'game_settings', 'phases', 'teams', 'total_players', 'elements', 'element_stats', 'element_types'])\n"
    }
   ],
   "source": [
    "print(data.keys())"
   ]
  },
  {
   "cell_type": "code",
   "execution_count": 16,
   "metadata": {},
   "outputs": [],
   "source": [
    "# All player stats (total)\n",
    "all_players = pd.DataFrame(data['elements'])\n",
    "\n",
    "# All tema stats (total)\n",
    "all_teams = pd.DataFrame(data['teams'])\n",
    "\n",
    "# All gameweek stats\n",
    "all_events = pd.DataFrame(data['events'])\n",
    "\n",
    "# Player types\n",
    "player_types = pd.DataFrame(data['element_types'])\n",
    "\n",
    "# Game setting\n",
    "game_phases = pd.DataFrame(data['phases'])\n",
    "\n"
   ]
  },
  {
   "cell_type": "markdown",
   "metadata": {},
   "source": [
    "## Fact data from FPL"
   ]
  },
  {
   "cell_type": "code",
   "execution_count": 17,
   "metadata": {
    "tags": []
   },
   "outputs": [
    {
     "output_type": "stream",
     "name": "stderr",
     "text": "100%|██████████| 483/483 [00:22<00:00, 21.37it/s]\n"
    }
   ],
   "source": [
    "player_season_history_list= []\n",
    "player_gameweek_history_list = []\n",
    "player_future_fixture_list = []\n",
    "\n",
    "for i in tqdm(range(len(all_players))):\n",
    "    try:\n",
    "        fixtures, history, history_past = get_player_summary(i)\n",
    "        for j in range(len(fixtures)):\n",
    "            fixtures[j]['player_id'] = i\n",
    "        player_gameweek_history_list.append(history)\n",
    "        player_season_history_list.append(history_past)\n",
    "        player_future_fixture_list.append(fixtures)\n",
    "    except KeyError:\n",
    "        continue\n"
   ]
  },
  {
   "cell_type": "code",
   "execution_count": 18,
   "metadata": {},
   "outputs": [],
   "source": [
    "player_season_history = [item for sublist in player_season_history_list for item in sublist]\n",
    "player_season_history = pd.DataFrame(player_season_history)\n",
    "\n",
    "player_gameweek_history = [item for sublist in player_gameweek_history_list for item in sublist]\n",
    "player_gameweek_history = pd.DataFrame(player_gameweek_history)\n",
    "\n",
    "player_future_fixture = [item for sublist in player_future_fixture_list for item in sublist]\n",
    "player_future_fixture = pd.DataFrame(player_future_fixture)\n"
   ]
  },
  {
   "cell_type": "markdown",
   "metadata": {},
   "source": [
    "## Save Raw data files"
   ]
  },
  {
   "cell_type": "code",
   "execution_count": 19,
   "metadata": {},
   "outputs": [],
   "source": [
    "all_players.to_csv (r'./data/2020-21/Raw_data/all_players.csv', index = False, header=True)\n",
    "all_teams.to_csv (r'./data/2020-21/Raw_data/all_teams.csv', index = False, header = True)\n",
    "all_events.to_csv (r'./data/2020-21/Raw_data/all_events.csv', index = False, header = True)\n",
    "player_types.to_csv(r'./data/2020-21/Raw_data/player_types.csv', index = False, header = True)\n",
    "game_phases.to_csv(r'./data/2020-21/Raw_data/game_phases.csv', index = False, header = True)\n",
    "\n",
    "player_season_history.to_csv (r'./data/2020-21/Raw_data/player_season_history.csv', index = False, header=True)\n",
    "player_gameweek_history.to_csv (r'./data/2020-21/Raw_data/player_gameweek_history.csv', index = False, header=True)\n",
    "player_future_fixture.to_csv (r'./data/2020-21/Raw_data/player_future_fixture.csv', index = False, header=True)"
   ]
  },
  {
   "cell_type": "markdown",
   "metadata": {},
   "source": [
    "## Clean Data"
   ]
  },
  {
   "cell_type": "markdown",
   "metadata": {},
   "source": [
    "### Events"
   ]
  },
  {
   "cell_type": "code",
   "execution_count": 7,
   "metadata": {},
   "outputs": [
    {
     "output_type": "execute_result",
     "data": {
      "text/plain": "   gameweek_id gameweek_name       deadline_time  average_entry_score  \\\n0            1    Gameweek 1 2019-08-09 18:00:00                   65   \n1            2    Gameweek 2 2019-08-17 10:30:00                   41   \n2            3    Gameweek 3 2019-08-23 18:00:00                   44   \n3            4    Gameweek 4 2019-08-31 10:30:00                   57   \n4            5    Gameweek 5 2019-09-14 10:30:00                   52   \n\n   finished  data_checked  highest_score  is_previous  is_current  is_next  \\\n0      True         False            142        False       False    False   \n1      True         False            119        False       False    False   \n2      True         False            107        False       False    False   \n3      True         False            136        False       False    False   \n4      True         False            128        False       False    False   \n\n                                          chip_plays  most_selected  \\\n0  [{'chip_name': 'bboost', 'num_played': 128770}...            183   \n1  [{'chip_name': 'bboost', 'num_played': 114585}...            183   \n2  [{'chip_name': 'bboost', 'num_played': 79958},...            183   \n3  [{'chip_name': 'bboost', 'num_played': 72741},...            183   \n4  [{'chip_name': 'bboost', 'num_played': 58835},...            183   \n\n   most_transferred_in  top_element           top_element_info  \\\n0                    1          214  {'id': 214, 'points': 20}   \n1                  235          278  {'id': 278, 'points': 17}   \n2                  278          191  {'id': 191, 'points': 15}   \n3                  278          166  {'id': 166, 'points': 16}   \n4                  243          342  {'id': 342, 'points': 16}   \n\n   most_captained  most_vice_captained  \n0             191                  189  \n1             191                  214  \n2             214                  191  \n3             214                  191  \n4             191                  214  ",
      "text/html": "<div>\n<style scoped>\n    .dataframe tbody tr th:only-of-type {\n        vertical-align: middle;\n    }\n\n    .dataframe tbody tr th {\n        vertical-align: top;\n    }\n\n    .dataframe thead th {\n        text-align: right;\n    }\n</style>\n<table border=\"1\" class=\"dataframe\">\n  <thead>\n    <tr style=\"text-align: right;\">\n      <th></th>\n      <th>gameweek_id</th>\n      <th>gameweek_name</th>\n      <th>deadline_time</th>\n      <th>average_entry_score</th>\n      <th>finished</th>\n      <th>data_checked</th>\n      <th>highest_score</th>\n      <th>is_previous</th>\n      <th>is_current</th>\n      <th>is_next</th>\n      <th>chip_plays</th>\n      <th>most_selected</th>\n      <th>most_transferred_in</th>\n      <th>top_element</th>\n      <th>top_element_info</th>\n      <th>most_captained</th>\n      <th>most_vice_captained</th>\n    </tr>\n  </thead>\n  <tbody>\n    <tr>\n      <td>0</td>\n      <td>1</td>\n      <td>Gameweek 1</td>\n      <td>2019-08-09 18:00:00</td>\n      <td>65</td>\n      <td>True</td>\n      <td>False</td>\n      <td>142</td>\n      <td>False</td>\n      <td>False</td>\n      <td>False</td>\n      <td>[{'chip_name': 'bboost', 'num_played': 128770}...</td>\n      <td>183</td>\n      <td>1</td>\n      <td>214</td>\n      <td>{'id': 214, 'points': 20}</td>\n      <td>191</td>\n      <td>189</td>\n    </tr>\n    <tr>\n      <td>1</td>\n      <td>2</td>\n      <td>Gameweek 2</td>\n      <td>2019-08-17 10:30:00</td>\n      <td>41</td>\n      <td>True</td>\n      <td>False</td>\n      <td>119</td>\n      <td>False</td>\n      <td>False</td>\n      <td>False</td>\n      <td>[{'chip_name': 'bboost', 'num_played': 114585}...</td>\n      <td>183</td>\n      <td>235</td>\n      <td>278</td>\n      <td>{'id': 278, 'points': 17}</td>\n      <td>191</td>\n      <td>214</td>\n    </tr>\n    <tr>\n      <td>2</td>\n      <td>3</td>\n      <td>Gameweek 3</td>\n      <td>2019-08-23 18:00:00</td>\n      <td>44</td>\n      <td>True</td>\n      <td>False</td>\n      <td>107</td>\n      <td>False</td>\n      <td>False</td>\n      <td>False</td>\n      <td>[{'chip_name': 'bboost', 'num_played': 79958},...</td>\n      <td>183</td>\n      <td>278</td>\n      <td>191</td>\n      <td>{'id': 191, 'points': 15}</td>\n      <td>214</td>\n      <td>191</td>\n    </tr>\n    <tr>\n      <td>3</td>\n      <td>4</td>\n      <td>Gameweek 4</td>\n      <td>2019-08-31 10:30:00</td>\n      <td>57</td>\n      <td>True</td>\n      <td>False</td>\n      <td>136</td>\n      <td>False</td>\n      <td>False</td>\n      <td>False</td>\n      <td>[{'chip_name': 'bboost', 'num_played': 72741},...</td>\n      <td>183</td>\n      <td>278</td>\n      <td>166</td>\n      <td>{'id': 166, 'points': 16}</td>\n      <td>214</td>\n      <td>191</td>\n    </tr>\n    <tr>\n      <td>4</td>\n      <td>5</td>\n      <td>Gameweek 5</td>\n      <td>2019-09-14 10:30:00</td>\n      <td>52</td>\n      <td>True</td>\n      <td>False</td>\n      <td>128</td>\n      <td>False</td>\n      <td>False</td>\n      <td>False</td>\n      <td>[{'chip_name': 'bboost', 'num_played': 58835},...</td>\n      <td>183</td>\n      <td>243</td>\n      <td>342</td>\n      <td>{'id': 342, 'points': 16}</td>\n      <td>191</td>\n      <td>214</td>\n    </tr>\n  </tbody>\n</table>\n</div>"
     },
     "metadata": {},
     "execution_count": 7
    }
   ],
   "source": [
    "all_events['deadline_time'] = pd.to_datetime(all_events['deadline_time'])\n",
    "all_events['deadline_time'] = all_events['deadline_time'].dt.tz_localize(None)\n",
    "all_events.drop([\"highest_scoring_entry\", \"deadline_time_epoch\", \"transfers_made\", \"deadline_time_game_offset\"],axis = 1, inplace = True)\n",
    "all_events.rename(columns={\"id\" : \"gameweek_id\", \"name\" : \"gameweek_name\"}, inplace=True)\n",
    "all_events.head()\n"
   ]
  },
  {
   "cell_type": "markdown",
   "metadata": {},
   "source": [
    "### Teams"
   ]
  },
  {
   "cell_type": "code",
   "execution_count": 8,
   "metadata": {},
   "outputs": [],
   "source": [
    "all_teams.drop([\"draw\", \"form\", \"loss\", \"played\", \"points\", \"position\", \"team_division\", \"unavailable\", \"win\", \"pulse_id\"], axis = 1, inplace = True)\n"
   ]
  },
  {
   "cell_type": "code",
   "execution_count": 9,
   "metadata": {},
   "outputs": [],
   "source": [
    "all_teams.rename(columns={\"code\" : \"team_code_id\", \"id\" : \"team_id\"}, inplace = True)"
   ]
  },
  {
   "cell_type": "code",
   "execution_count": 10,
   "metadata": {},
   "outputs": [
    {
     "output_type": "execute_result",
     "data": {
      "text/plain": "    team_code_id  team_id            name short_name  strength  \\\n0              3        1         Arsenal        ARS         4   \n1              7        2     Aston Villa        AVL         2   \n2             91        3     Bournemouth        BOU         2   \n3             36        4        Brighton        BHA         2   \n4             90        5         Burnley        BUR         3   \n5              8        6         Chelsea        CHE         4   \n6             31        7  Crystal Palace        CRY         3   \n7             11        8         Everton        EVE         3   \n8             13        9       Leicester        LEI         3   \n9             14       10       Liverpool        LIV         5   \n10            43       11        Man City        MCI         5   \n11             1       12         Man Utd        MUN         4   \n12             4       13       Newcastle        NEW         3   \n13            45       14         Norwich        NOR         2   \n14            49       15   Sheffield Utd        SHU         3   \n15            20       16     Southampton        SOU         3   \n16             6       17           Spurs        TOT         4   \n17            57       18         Watford        WAT         3   \n18            21       19        West Ham        WHU         2   \n19            39       20          Wolves        WOL         4   \n\n    strength_overall_home  strength_overall_away  strength_attack_home  \\\n0                    1180                   1240                  1170   \n1                    1020                   1050                   970   \n2                    1020                   1020                   990   \n3                    1050                   1010                  1100   \n4                    1110                   1180                  1130   \n5                    1220                   1230                  1240   \n6                    1130                   1120                  1080   \n7                    1100                   1240                  1100   \n8                    1210                   1160                  1150   \n9                    1340                   1350                  1310   \n10                   1330                   1340                  1260   \n11                   1220                   1300                  1260   \n12                   1090                   1100                  1030   \n13                    980                   1020                  1030   \n14                   1180                   1200                  1170   \n15                   1150                   1040                  1080   \n16                   1180                   1240                  1100   \n17                   1030                   1140                  1120   \n18                   1040                   1030                  1000   \n19                   1230                   1190                  1180   \n\n    strength_attack_away  strength_defence_home  strength_defence_away  \n0                   1170                   1150                   1200  \n1                    980                   1000                   1040  \n2                   1030                   1000                   1050  \n3                   1100                   1040                   1030  \n4                   1070                    970                   1110  \n5                   1240                   1220                   1250  \n6                   1180                   1040                   1040  \n7                   1210                   1170                   1180  \n8                   1080                   1210                   1100  \n9                   1320                   1310                   1330  \n10                  1270                   1320                   1320  \n11                  1330                   1180                   1260  \n12                  1040                    980                    990  \n13                  1040                    990                    990  \n14                  1180                   1050                   1110  \n15                  1050                   1110                   1080  \n16                  1130                   1200                   1140  \n17                  1120                   1020                   1150  \n18                  1030                   1030                   1150  \n19                  1230                   1200                   1200  ",
      "text/html": "<div>\n<style scoped>\n    .dataframe tbody tr th:only-of-type {\n        vertical-align: middle;\n    }\n\n    .dataframe tbody tr th {\n        vertical-align: top;\n    }\n\n    .dataframe thead th {\n        text-align: right;\n    }\n</style>\n<table border=\"1\" class=\"dataframe\">\n  <thead>\n    <tr style=\"text-align: right;\">\n      <th></th>\n      <th>team_code_id</th>\n      <th>team_id</th>\n      <th>name</th>\n      <th>short_name</th>\n      <th>strength</th>\n      <th>strength_overall_home</th>\n      <th>strength_overall_away</th>\n      <th>strength_attack_home</th>\n      <th>strength_attack_away</th>\n      <th>strength_defence_home</th>\n      <th>strength_defence_away</th>\n    </tr>\n  </thead>\n  <tbody>\n    <tr>\n      <td>0</td>\n      <td>3</td>\n      <td>1</td>\n      <td>Arsenal</td>\n      <td>ARS</td>\n      <td>4</td>\n      <td>1180</td>\n      <td>1240</td>\n      <td>1170</td>\n      <td>1170</td>\n      <td>1150</td>\n      <td>1200</td>\n    </tr>\n    <tr>\n      <td>1</td>\n      <td>7</td>\n      <td>2</td>\n      <td>Aston Villa</td>\n      <td>AVL</td>\n      <td>2</td>\n      <td>1020</td>\n      <td>1050</td>\n      <td>970</td>\n      <td>980</td>\n      <td>1000</td>\n      <td>1040</td>\n    </tr>\n    <tr>\n      <td>2</td>\n      <td>91</td>\n      <td>3</td>\n      <td>Bournemouth</td>\n      <td>BOU</td>\n      <td>2</td>\n      <td>1020</td>\n      <td>1020</td>\n      <td>990</td>\n      <td>1030</td>\n      <td>1000</td>\n      <td>1050</td>\n    </tr>\n    <tr>\n      <td>3</td>\n      <td>36</td>\n      <td>4</td>\n      <td>Brighton</td>\n      <td>BHA</td>\n      <td>2</td>\n      <td>1050</td>\n      <td>1010</td>\n      <td>1100</td>\n      <td>1100</td>\n      <td>1040</td>\n      <td>1030</td>\n    </tr>\n    <tr>\n      <td>4</td>\n      <td>90</td>\n      <td>5</td>\n      <td>Burnley</td>\n      <td>BUR</td>\n      <td>3</td>\n      <td>1110</td>\n      <td>1180</td>\n      <td>1130</td>\n      <td>1070</td>\n      <td>970</td>\n      <td>1110</td>\n    </tr>\n    <tr>\n      <td>5</td>\n      <td>8</td>\n      <td>6</td>\n      <td>Chelsea</td>\n      <td>CHE</td>\n      <td>4</td>\n      <td>1220</td>\n      <td>1230</td>\n      <td>1240</td>\n      <td>1240</td>\n      <td>1220</td>\n      <td>1250</td>\n    </tr>\n    <tr>\n      <td>6</td>\n      <td>31</td>\n      <td>7</td>\n      <td>Crystal Palace</td>\n      <td>CRY</td>\n      <td>3</td>\n      <td>1130</td>\n      <td>1120</td>\n      <td>1080</td>\n      <td>1180</td>\n      <td>1040</td>\n      <td>1040</td>\n    </tr>\n    <tr>\n      <td>7</td>\n      <td>11</td>\n      <td>8</td>\n      <td>Everton</td>\n      <td>EVE</td>\n      <td>3</td>\n      <td>1100</td>\n      <td>1240</td>\n      <td>1100</td>\n      <td>1210</td>\n      <td>1170</td>\n      <td>1180</td>\n    </tr>\n    <tr>\n      <td>8</td>\n      <td>13</td>\n      <td>9</td>\n      <td>Leicester</td>\n      <td>LEI</td>\n      <td>3</td>\n      <td>1210</td>\n      <td>1160</td>\n      <td>1150</td>\n      <td>1080</td>\n      <td>1210</td>\n      <td>1100</td>\n    </tr>\n    <tr>\n      <td>9</td>\n      <td>14</td>\n      <td>10</td>\n      <td>Liverpool</td>\n      <td>LIV</td>\n      <td>5</td>\n      <td>1340</td>\n      <td>1350</td>\n      <td>1310</td>\n      <td>1320</td>\n      <td>1310</td>\n      <td>1330</td>\n    </tr>\n    <tr>\n      <td>10</td>\n      <td>43</td>\n      <td>11</td>\n      <td>Man City</td>\n      <td>MCI</td>\n      <td>5</td>\n      <td>1330</td>\n      <td>1340</td>\n      <td>1260</td>\n      <td>1270</td>\n      <td>1320</td>\n      <td>1320</td>\n    </tr>\n    <tr>\n      <td>11</td>\n      <td>1</td>\n      <td>12</td>\n      <td>Man Utd</td>\n      <td>MUN</td>\n      <td>4</td>\n      <td>1220</td>\n      <td>1300</td>\n      <td>1260</td>\n      <td>1330</td>\n      <td>1180</td>\n      <td>1260</td>\n    </tr>\n    <tr>\n      <td>12</td>\n      <td>4</td>\n      <td>13</td>\n      <td>Newcastle</td>\n      <td>NEW</td>\n      <td>3</td>\n      <td>1090</td>\n      <td>1100</td>\n      <td>1030</td>\n      <td>1040</td>\n      <td>980</td>\n      <td>990</td>\n    </tr>\n    <tr>\n      <td>13</td>\n      <td>45</td>\n      <td>14</td>\n      <td>Norwich</td>\n      <td>NOR</td>\n      <td>2</td>\n      <td>980</td>\n      <td>1020</td>\n      <td>1030</td>\n      <td>1040</td>\n      <td>990</td>\n      <td>990</td>\n    </tr>\n    <tr>\n      <td>14</td>\n      <td>49</td>\n      <td>15</td>\n      <td>Sheffield Utd</td>\n      <td>SHU</td>\n      <td>3</td>\n      <td>1180</td>\n      <td>1200</td>\n      <td>1170</td>\n      <td>1180</td>\n      <td>1050</td>\n      <td>1110</td>\n    </tr>\n    <tr>\n      <td>15</td>\n      <td>20</td>\n      <td>16</td>\n      <td>Southampton</td>\n      <td>SOU</td>\n      <td>3</td>\n      <td>1150</td>\n      <td>1040</td>\n      <td>1080</td>\n      <td>1050</td>\n      <td>1110</td>\n      <td>1080</td>\n    </tr>\n    <tr>\n      <td>16</td>\n      <td>6</td>\n      <td>17</td>\n      <td>Spurs</td>\n      <td>TOT</td>\n      <td>4</td>\n      <td>1180</td>\n      <td>1240</td>\n      <td>1100</td>\n      <td>1130</td>\n      <td>1200</td>\n      <td>1140</td>\n    </tr>\n    <tr>\n      <td>17</td>\n      <td>57</td>\n      <td>18</td>\n      <td>Watford</td>\n      <td>WAT</td>\n      <td>3</td>\n      <td>1030</td>\n      <td>1140</td>\n      <td>1120</td>\n      <td>1120</td>\n      <td>1020</td>\n      <td>1150</td>\n    </tr>\n    <tr>\n      <td>18</td>\n      <td>21</td>\n      <td>19</td>\n      <td>West Ham</td>\n      <td>WHU</td>\n      <td>2</td>\n      <td>1040</td>\n      <td>1030</td>\n      <td>1000</td>\n      <td>1030</td>\n      <td>1030</td>\n      <td>1150</td>\n    </tr>\n    <tr>\n      <td>19</td>\n      <td>39</td>\n      <td>20</td>\n      <td>Wolves</td>\n      <td>WOL</td>\n      <td>4</td>\n      <td>1230</td>\n      <td>1190</td>\n      <td>1180</td>\n      <td>1230</td>\n      <td>1200</td>\n      <td>1200</td>\n    </tr>\n  </tbody>\n</table>\n</div>"
     },
     "metadata": {},
     "execution_count": 10
    }
   ],
   "source": [
    "all_teams.head(20)"
   ]
  },
  {
   "cell_type": "markdown",
   "metadata": {},
   "source": [
    "### Players"
   ]
  },
  {
   "cell_type": "code",
   "execution_count": 11,
   "metadata": {},
   "outputs": [],
   "source": [
    "all_players['news_added'] = pd.to_datetime(all_players['news_added'])\n",
    "all_players['news_added'] = all_players['news_added'].dt.tz_localize(None)\n",
    "all_players.drop([\"cost_change_event\", \"cost_change_event_fall\", \"cost_change_start_fall\", \"form\", \"in_dreamteam\", \"points_per_game\", \"special\", \"squad_number\" , \"dreamteam_count\"], axis = 1, inplace = True)\n",
    "\n",
    "all_players.rename(columns={\"code\" : \"player_code\" , \"element_type\" : \"position_id\" , \"id\" : \"player_id\", \"news\" : \"player_news\" , \"now_cost\" : \"player_price\" , \"status\" : \"player_status\" , \"team\" : \"team_id\" , \"team_code\" : \"team_code_id\" }, inplace = True)\n",
    "\n",
    "all_players.player_price = all_players.player_price / 10\n"
   ]
  },
  {
   "cell_type": "code",
   "execution_count": 12,
   "metadata": {},
   "outputs": [
    {
     "output_type": "execute_result",
     "data": {
      "text/plain": "   chance_of_playing_next_round  chance_of_playing_this_round  player_code  \\\n0                           0.0                           0.0        69140   \n1                         100.0                         100.0        98745   \n2                         100.0                         100.0       111457   \n3                         100.0                         100.0       154043   \n4                         100.0                         100.0        39476   \n\n   cost_change_start  position_id ep_next ep_this  event_points first_name  \\\n0                 -4            2     0.0     0.0             0   Shkodran   \n1                 -3            2     2.3     2.1             0     Héctor   \n2                 -3            2     3.3     3.1             1       Sead   \n3                 -5            2     0.8     0.9             1    Ainsley   \n4                 -2            2     0.5     0.5             0   Sokratis   \n\n   player_id                             player_news  \\\n0          1  Hamstring injury - Unknown return date   \n1          2                                           \n2          3                                           \n3          4                                           \n4          5                                           \n\n                  news_added  player_price       photo       second_name  \\\n0 2020-07-18 22:30:20.553834           5.1   69140.jpg           Mustafi   \n1 2019-12-09 20:00:21.228098           5.2   98745.jpg          Bellerín   \n2 2020-02-23 18:30:13.672943           5.2  111457.jpg         Kolasinac   \n3 2019-09-22 18:00:10.824841           4.5  154043.jpg    Maitland-Niles   \n4 2020-06-18 18:00:15.974146           4.8   39476.jpg  Papastathopoulos   \n\n  selected_by_percent player_status  team_id  team_code_id  total_points  \\\n0                 0.4             i        1             3            43   \n1                 1.0             a        1             3            44   \n2                 0.5             a        1             3            55   \n3                 2.2             a        1             3            41   \n4                 1.3             a        1             3            57   \n\n   transfers_in  transfers_in_event  transfers_out  transfers_out_event  \\\n0         25007                   0          47630                    0   \n1        206616                   0         159819                    0   \n2         65194                   0         134275                    0   \n3        610816                   0         653555                    0   \n4        182201                   0         231413                    0   \n\n  value_form  ... minutes goals_scored  assists  clean_sheets  goals_conceded  \\\n0        0.3  ...    1205            0        2             4              17   \n1        0.3  ...    1156            1        0             4              18   \n2        0.5  ...    1694            0        2             4              26   \n3        0.1  ...    1382            0        2             3              22   \n4        0.0  ...    1696            2        0             4              25   \n\n   own_goals  penalties_saved  penalties_missed  yellow_cards  red_cards  \\\n0          0                0                 0             2          0   \n1          0                0                 0             2          0   \n2          0                0                 0             4          0   \n3          0                0                 0             4          1   \n4          0                0                 0             6          0   \n\n   saves  bonus  bps  influence  creativity threat ict_index influence_rank  \\\n0      0      2  242      277.2        45.5  155.0      47.9            257   \n1      0      4  204      187.8        76.9  103.0      37.0            322   \n2      0      1  331      269.6       182.5   81.0      53.0            264   \n3      0      3  244      301.8       182.0   58.0      53.6            241   \n4      0      5  305      436.2        36.8  110.0      58.5            166   \n\n  influence_rank_type  creativity_rank  creativity_rank_type  threat_rank  \\\n0                 100              352                   122          234   \n1                 124              301                    95          275   \n2                 104              215                    52          305   \n3                  94              216                    53          337   \n4                  62              365                   130          266   \n\n   threat_rank_type  ict_index_rank  ict_index_rank_type  \n0                58             313                  106  \n1                81             339                  122  \n2                98             293                   96  \n3               119             287                   94  \n4                76             275                   88  \n\n[5 rows x 52 columns]",
      "text/html": "<div>\n<style scoped>\n    .dataframe tbody tr th:only-of-type {\n        vertical-align: middle;\n    }\n\n    .dataframe tbody tr th {\n        vertical-align: top;\n    }\n\n    .dataframe thead th {\n        text-align: right;\n    }\n</style>\n<table border=\"1\" class=\"dataframe\">\n  <thead>\n    <tr style=\"text-align: right;\">\n      <th></th>\n      <th>chance_of_playing_next_round</th>\n      <th>chance_of_playing_this_round</th>\n      <th>player_code</th>\n      <th>cost_change_start</th>\n      <th>position_id</th>\n      <th>ep_next</th>\n      <th>ep_this</th>\n      <th>event_points</th>\n      <th>first_name</th>\n      <th>player_id</th>\n      <th>player_news</th>\n      <th>news_added</th>\n      <th>player_price</th>\n      <th>photo</th>\n      <th>second_name</th>\n      <th>selected_by_percent</th>\n      <th>player_status</th>\n      <th>team_id</th>\n      <th>team_code_id</th>\n      <th>total_points</th>\n      <th>transfers_in</th>\n      <th>transfers_in_event</th>\n      <th>transfers_out</th>\n      <th>transfers_out_event</th>\n      <th>value_form</th>\n      <th>...</th>\n      <th>minutes</th>\n      <th>goals_scored</th>\n      <th>assists</th>\n      <th>clean_sheets</th>\n      <th>goals_conceded</th>\n      <th>own_goals</th>\n      <th>penalties_saved</th>\n      <th>penalties_missed</th>\n      <th>yellow_cards</th>\n      <th>red_cards</th>\n      <th>saves</th>\n      <th>bonus</th>\n      <th>bps</th>\n      <th>influence</th>\n      <th>creativity</th>\n      <th>threat</th>\n      <th>ict_index</th>\n      <th>influence_rank</th>\n      <th>influence_rank_type</th>\n      <th>creativity_rank</th>\n      <th>creativity_rank_type</th>\n      <th>threat_rank</th>\n      <th>threat_rank_type</th>\n      <th>ict_index_rank</th>\n      <th>ict_index_rank_type</th>\n    </tr>\n  </thead>\n  <tbody>\n    <tr>\n      <td>0</td>\n      <td>0.0</td>\n      <td>0.0</td>\n      <td>69140</td>\n      <td>-4</td>\n      <td>2</td>\n      <td>0.0</td>\n      <td>0.0</td>\n      <td>0</td>\n      <td>Shkodran</td>\n      <td>1</td>\n      <td>Hamstring injury - Unknown return date</td>\n      <td>2020-07-18 22:30:20.553834</td>\n      <td>5.1</td>\n      <td>69140.jpg</td>\n      <td>Mustafi</td>\n      <td>0.4</td>\n      <td>i</td>\n      <td>1</td>\n      <td>3</td>\n      <td>43</td>\n      <td>25007</td>\n      <td>0</td>\n      <td>47630</td>\n      <td>0</td>\n      <td>0.3</td>\n      <td>...</td>\n      <td>1205</td>\n      <td>0</td>\n      <td>2</td>\n      <td>4</td>\n      <td>17</td>\n      <td>0</td>\n      <td>0</td>\n      <td>0</td>\n      <td>2</td>\n      <td>0</td>\n      <td>0</td>\n      <td>2</td>\n      <td>242</td>\n      <td>277.2</td>\n      <td>45.5</td>\n      <td>155.0</td>\n      <td>47.9</td>\n      <td>257</td>\n      <td>100</td>\n      <td>352</td>\n      <td>122</td>\n      <td>234</td>\n      <td>58</td>\n      <td>313</td>\n      <td>106</td>\n    </tr>\n    <tr>\n      <td>1</td>\n      <td>100.0</td>\n      <td>100.0</td>\n      <td>98745</td>\n      <td>-3</td>\n      <td>2</td>\n      <td>2.3</td>\n      <td>2.1</td>\n      <td>0</td>\n      <td>Héctor</td>\n      <td>2</td>\n      <td></td>\n      <td>2019-12-09 20:00:21.228098</td>\n      <td>5.2</td>\n      <td>98745.jpg</td>\n      <td>Bellerín</td>\n      <td>1.0</td>\n      <td>a</td>\n      <td>1</td>\n      <td>3</td>\n      <td>44</td>\n      <td>206616</td>\n      <td>0</td>\n      <td>159819</td>\n      <td>0</td>\n      <td>0.3</td>\n      <td>...</td>\n      <td>1156</td>\n      <td>1</td>\n      <td>0</td>\n      <td>4</td>\n      <td>18</td>\n      <td>0</td>\n      <td>0</td>\n      <td>0</td>\n      <td>2</td>\n      <td>0</td>\n      <td>0</td>\n      <td>4</td>\n      <td>204</td>\n      <td>187.8</td>\n      <td>76.9</td>\n      <td>103.0</td>\n      <td>37.0</td>\n      <td>322</td>\n      <td>124</td>\n      <td>301</td>\n      <td>95</td>\n      <td>275</td>\n      <td>81</td>\n      <td>339</td>\n      <td>122</td>\n    </tr>\n    <tr>\n      <td>2</td>\n      <td>100.0</td>\n      <td>100.0</td>\n      <td>111457</td>\n      <td>-3</td>\n      <td>2</td>\n      <td>3.3</td>\n      <td>3.1</td>\n      <td>1</td>\n      <td>Sead</td>\n      <td>3</td>\n      <td></td>\n      <td>2020-02-23 18:30:13.672943</td>\n      <td>5.2</td>\n      <td>111457.jpg</td>\n      <td>Kolasinac</td>\n      <td>0.5</td>\n      <td>a</td>\n      <td>1</td>\n      <td>3</td>\n      <td>55</td>\n      <td>65194</td>\n      <td>0</td>\n      <td>134275</td>\n      <td>0</td>\n      <td>0.5</td>\n      <td>...</td>\n      <td>1694</td>\n      <td>0</td>\n      <td>2</td>\n      <td>4</td>\n      <td>26</td>\n      <td>0</td>\n      <td>0</td>\n      <td>0</td>\n      <td>4</td>\n      <td>0</td>\n      <td>0</td>\n      <td>1</td>\n      <td>331</td>\n      <td>269.6</td>\n      <td>182.5</td>\n      <td>81.0</td>\n      <td>53.0</td>\n      <td>264</td>\n      <td>104</td>\n      <td>215</td>\n      <td>52</td>\n      <td>305</td>\n      <td>98</td>\n      <td>293</td>\n      <td>96</td>\n    </tr>\n    <tr>\n      <td>3</td>\n      <td>100.0</td>\n      <td>100.0</td>\n      <td>154043</td>\n      <td>-5</td>\n      <td>2</td>\n      <td>0.8</td>\n      <td>0.9</td>\n      <td>1</td>\n      <td>Ainsley</td>\n      <td>4</td>\n      <td></td>\n      <td>2019-09-22 18:00:10.824841</td>\n      <td>4.5</td>\n      <td>154043.jpg</td>\n      <td>Maitland-Niles</td>\n      <td>2.2</td>\n      <td>a</td>\n      <td>1</td>\n      <td>3</td>\n      <td>41</td>\n      <td>610816</td>\n      <td>0</td>\n      <td>653555</td>\n      <td>0</td>\n      <td>0.1</td>\n      <td>...</td>\n      <td>1382</td>\n      <td>0</td>\n      <td>2</td>\n      <td>3</td>\n      <td>22</td>\n      <td>0</td>\n      <td>0</td>\n      <td>0</td>\n      <td>4</td>\n      <td>1</td>\n      <td>0</td>\n      <td>3</td>\n      <td>244</td>\n      <td>301.8</td>\n      <td>182.0</td>\n      <td>58.0</td>\n      <td>53.6</td>\n      <td>241</td>\n      <td>94</td>\n      <td>216</td>\n      <td>53</td>\n      <td>337</td>\n      <td>119</td>\n      <td>287</td>\n      <td>94</td>\n    </tr>\n    <tr>\n      <td>4</td>\n      <td>100.0</td>\n      <td>100.0</td>\n      <td>39476</td>\n      <td>-2</td>\n      <td>2</td>\n      <td>0.5</td>\n      <td>0.5</td>\n      <td>0</td>\n      <td>Sokratis</td>\n      <td>5</td>\n      <td></td>\n      <td>2020-06-18 18:00:15.974146</td>\n      <td>4.8</td>\n      <td>39476.jpg</td>\n      <td>Papastathopoulos</td>\n      <td>1.3</td>\n      <td>a</td>\n      <td>1</td>\n      <td>3</td>\n      <td>57</td>\n      <td>182201</td>\n      <td>0</td>\n      <td>231413</td>\n      <td>0</td>\n      <td>0.0</td>\n      <td>...</td>\n      <td>1696</td>\n      <td>2</td>\n      <td>0</td>\n      <td>4</td>\n      <td>25</td>\n      <td>0</td>\n      <td>0</td>\n      <td>0</td>\n      <td>6</td>\n      <td>0</td>\n      <td>0</td>\n      <td>5</td>\n      <td>305</td>\n      <td>436.2</td>\n      <td>36.8</td>\n      <td>110.0</td>\n      <td>58.5</td>\n      <td>166</td>\n      <td>62</td>\n      <td>365</td>\n      <td>130</td>\n      <td>266</td>\n      <td>76</td>\n      <td>275</td>\n      <td>88</td>\n    </tr>\n  </tbody>\n</table>\n<p>5 rows × 52 columns</p>\n</div>"
     },
     "metadata": {},
     "execution_count": 12
    }
   ],
   "source": [
    "all_players.head()"
   ]
  },
  {
   "cell_type": "markdown",
   "metadata": {},
   "source": [
    "## Save to files"
   ]
  },
  {
   "cell_type": "code",
   "execution_count": 13,
   "metadata": {},
   "outputs": [],
   "source": [
    "all_players.to_csv (r'./data/all_players.csv', index = False, header=True)\n",
    "all_teams.to_csv (r'./data/all_teams.csv', index = False, header = True)\n",
    "all_events.to_csv (r'./data/all_events.csv', index = False, header = True)\n"
   ]
  },
  {
   "cell_type": "code",
   "execution_count": null,
   "metadata": {},
   "outputs": [],
   "source": []
  }
 ]
}