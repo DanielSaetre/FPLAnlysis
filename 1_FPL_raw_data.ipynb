{
 "metadata": {
  "language_info": {
   "codemirror_mode": {
    "name": "ipython",
    "version": 3
   },
   "file_extension": ".py",
   "mimetype": "text/x-python",
   "name": "python",
   "nbconvert_exporter": "python",
   "pygments_lexer": "ipython3",
   "version": "3.7.7-final"
  },
  "orig_nbformat": 2,
  "kernelspec": {
   "name": "Python 3.7.7 64-bit ('myenv': conda)",
   "display_name": "Python 3.7.7 64-bit ('myenv': conda)",
   "metadata": {
    "interpreter": {
     "hash": "fdf57215a5f56010e9ede23b27ef6ea5e8b579dfd3e59153b8254afa0cbecfac"
    }
   }
  }
 },
 "nbformat": 4,
 "nbformat_minor": 2,
 "cells": [
  {
   "cell_type": "markdown",
   "metadata": {},
   "source": [
    "# This is my FPL analysis workbook"
   ]
  },
  {
   "cell_type": "code",
   "execution_count": 1,
   "metadata": {},
   "outputs": [],
   "source": [
    "#!/usr/bin/env python\n",
    "# coding: utf-8\n",
    "import os\n",
    "import numpy as np\n",
    "import pandas as pd\n",
    "import requests\n",
    "from datetime import datetime\n",
    "import json\n",
    "#from tqdm import tqdm"
   ]
  },
  {
   "cell_type": "code",
   "execution_count": 2,
   "metadata": {},
   "outputs": [],
   "source": [
    "# Variables\n",
    "season = \"2020-21\""
   ]
  },
  {
   "cell_type": "markdown",
   "metadata": {},
   "source": [
    "## Set display options"
   ]
  },
  {
   "cell_type": "code",
   "execution_count": 3,
   "metadata": {},
   "outputs": [],
   "source": [
    "pd.set_option('display.max_rows', 50)\n",
    "pd.set_option('display.max_columns', 50)"
   ]
  },
  {
   "cell_type": "code",
   "execution_count": 4,
   "metadata": {},
   "outputs": [],
   "source": [
    "#### Connect to FPL API\n",
    "def get(url):\n",
    "    response = requests.get(url)\n",
    "    return json.loads(response.content)\n",
    "\n",
    "#### Getting player summary data\n",
    "def get_player_summary(player_id):\n",
    "    url = 'https://fantasy.premierleague.com/api/element-summary/' + str(player_id) + '/' \n",
    "    response = get(url)\n",
    "    fixtures = response['fixtures']\n",
    "    history = response['history']\n",
    "    history_past = response['history_past']\n",
    "    return [fixtures, history, history_past]"
   ]
  },
  {
   "cell_type": "markdown",
   "metadata": {},
   "source": [
    "## Dimension data from FPL"
   ]
  },
  {
   "cell_type": "code",
   "execution_count": 5,
   "metadata": {},
   "outputs": [],
   "source": [
    "link = 'https://fantasy.premierleague.com/api/bootstrap-static/'\n",
    "data = get(link)"
   ]
  },
  {
   "cell_type": "code",
   "execution_count": 6,
   "metadata": {
    "tags": []
   },
   "outputs": [
    {
     "output_type": "stream",
     "name": "stdout",
     "text": [
      "dict_keys(['events', 'game_settings', 'phases', 'teams', 'total_players', 'elements', 'element_stats', 'element_types'])\n"
     ]
    }
   ],
   "source": [
    "print(data.keys())"
   ]
  },
  {
   "cell_type": "code",
   "execution_count": 7,
   "metadata": {},
   "outputs": [],
   "source": [
    "# All player stats (total)\n",
    "all_players = pd.DataFrame(data['elements'])\n",
    "\n",
    "# All tema stats (total)\n",
    "all_teams = pd.DataFrame(data['teams'])\n",
    "\n",
    "# All gameweek stats\n",
    "all_events = pd.DataFrame(data['events'])\n",
    "\n",
    "# Player types\n",
    "player_types = pd.DataFrame(data['element_types'])\n",
    "\n",
    "# Game setting\n",
    "game_phases = pd.DataFrame(data['phases'])\n",
    "\n"
   ]
  },
  {
   "cell_type": "markdown",
   "metadata": {},
   "source": [
    "## Fact data from FPL"
   ]
  },
  {
   "cell_type": "code",
   "execution_count": 8,
   "metadata": {
    "tags": []
   },
   "outputs": [],
   "source": [
    "player_season_history_list= []\n",
    "player_gameweek_history_list = []\n",
    "player_future_fixture_list = []\n",
    "\n",
    "#for i in tqdm(range(len(all_players))):\n",
    "for i in range(len(all_players)):\n",
    "    try:\n",
    "        fixtures, history, history_past = get_player_summary(i)\n",
    "        for j in range(len(fixtures)):\n",
    "            fixtures[j]['player_id'] = i\n",
    "        player_gameweek_history_list.append(history)\n",
    "        player_season_history_list.append(history_past)\n",
    "        player_future_fixture_list.append(fixtures)\n",
    "    except KeyError:\n",
    "        continue\n"
   ]
  },
  {
   "cell_type": "code",
   "execution_count": 9,
   "metadata": {},
   "outputs": [],
   "source": [
    "player_season_history = [item for sublist in player_season_history_list for item in sublist]\n",
    "player_season_history = pd.DataFrame(player_season_history)\n",
    "\n",
    "player_gameweek_history = [item for sublist in player_gameweek_history_list for item in sublist]\n",
    "player_gameweek_history = pd.DataFrame(player_gameweek_history)\n",
    "\n",
    "player_future_fixture = [item for sublist in player_future_fixture_list for item in sublist]\n",
    "player_future_fixture = pd.DataFrame(player_future_fixture)\n"
   ]
  },
  {
   "cell_type": "markdown",
   "metadata": {},
   "source": [
    "## Save Raw data files"
   ]
  },
  {
   "cell_type": "code",
   "execution_count": 10,
   "metadata": {},
   "outputs": [],
   "source": [
    "all_players.to_csv (r'./data/' + season + '/Raw_data/all_players.csv', index = False, header=True)\n",
    "all_teams.to_csv (r'./data/' + season + '/Raw_data/all_teams.csv', index = False, header = True)\n",
    "all_events.to_csv (r'./data/' + season + '/Raw_data/all_events.csv', index = False, header = True)\n",
    "player_types.to_csv(r'./data/' + season + '/Raw_data/player_types.csv', index = False, header = True)\n",
    "game_phases.to_csv(r'./data/' + season + '/Raw_data/game_phases.csv', index = False, header = True)\n",
    "\n",
    "player_season_history.to_csv (r'./data/' + season + '/Raw_data/player_season_history.csv', index = False, header=True)\n",
    "player_gameweek_history.to_csv (r'./data/' + season + '/Raw_data/player_gameweek_history.csv', index = False, header=True)\n",
    "player_future_fixture.to_csv (r'./data/' + season + '/Raw_data/player_future_fixture.csv', index = False, header=True)"
   ]
  },
  {
   "cell_type": "code",
   "execution_count": null,
   "metadata": {},
   "outputs": [],
   "source": []
  }
 ]
}