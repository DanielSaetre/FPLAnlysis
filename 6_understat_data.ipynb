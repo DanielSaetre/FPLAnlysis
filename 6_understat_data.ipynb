{
 "cells": [
  {
   "cell_type": "code",
   "execution_count": 2,
   "metadata": {},
   "outputs": [],
   "source": [
    "import requests\n",
    "import json\n",
    "from bs4 import BeautifulSoup\n",
    "import re\n",
    "import codecs\n",
    "import pandas as pd\n",
    "import os"
   ]
  },
  {
   "cell_type": "code",
   "execution_count": 3,
   "metadata": {},
   "outputs": [],
   "source": [
    "#Variable\n",
    "season = '2021-22'\n",
    "season_understat = '2021'"
   ]
  },
  {
   "cell_type": "code",
   "execution_count": 4,
   "metadata": {},
   "outputs": [
    {
     "name": "stdout",
     "output_type": "stream",
     "text": [
      "var THEME\n",
      "var groupsData\n",
      "var minMaxPlayerStats\n",
      "var shotsData\n",
      "var matchesData\n",
      "WebFont.load({\n",
      "\t\t\tgoogle: {\n",
      "\t\t\t\tfamilies: ['Barlow:500', 'Anton']\n",
      "\t\t\t},\n",
      "\t\t\tactive: function(){\n",
      "\t\t\t\tflagFontsLoading\n",
      "(function(i,s,o,g,r,a,m){i['GoogleAnalyticsObject']\n"
     ]
    }
   ],
   "source": [
    "def get_data(url):\n",
    "    response = requests.get(url)\n",
    "    if response.status_code != 200:\n",
    "        raise Exception(\"Response was code \" + str(response.status_code))\n",
    "    html = response.text\n",
    "    parsed_html = BeautifulSoup(html, 'html.parser')\n",
    "    scripts = parsed_html.findAll('script')\n",
    "    filtered_scripts = []\n",
    "    for script in scripts:\n",
    "        if len(script.contents) > 0:\n",
    "            filtered_scripts += [script]\n",
    "    return scripts\n",
    "\n",
    "def get_epl_data():\n",
    "    scripts = get_data('https://understat.com/league/EPL/' + season_understat)\n",
    "    teamData = {}\n",
    "    playerData = {}\n",
    "    for script in scripts:\n",
    "        for c in script.contents:\n",
    "            split_data = c.split('=')\n",
    "            data = split_data[0].strip()\n",
    "            if data == 'var teamsData':\n",
    "                content = re.findall(r'JSON\\.parse\\(\\'(.*)\\'\\)',split_data[1])\n",
    "                decoded_content = codecs.escape_decode(content[0], \"hex\")[0].decode('utf-8')\n",
    "                teamData = json.loads(decoded_content)\n",
    "            elif data == 'var playersData':\n",
    "                content = re.findall(r'JSON\\.parse\\(\\'(.*)\\'\\)',split_data[1])\n",
    "                decoded_content = codecs.escape_decode(content[0], \"hex\")[0].decode('utf-8')\n",
    "                playerData = json.loads(decoded_content)\n",
    "    return teamData, playerData\n",
    "\n",
    "def get_player_data(id):\n",
    "    scripts = get_data(\"https://understat.com/player/\" + str(id))\n",
    "    groupsData = {}\n",
    "    matchesData = {}\n",
    "    shotsData = {}\n",
    "    for script in scripts:\n",
    "        for c in script.contents:\n",
    "            split_data = c.split('=')\n",
    "            data = split_data[0].strip()\n",
    "            print(data)\n",
    "\n",
    "def parse_epl_data(outfile_base):\n",
    "    teamData,playerData = get_epl_data()\n",
    "    new_team_data = []\n",
    "    for t,v in teamData.items():\n",
    "        new_team_data += [v]\n",
    "    for data in new_team_data:\n",
    "        team_frame = pd.DataFrame.from_records(data[\"history\"])\n",
    "        team = data[\"title\"].replace(' ', '_')\n",
    "        team_frame.to_csv(os.path.join(outfile_base, 'teams/understat_' + team + '.csv'), index=False)\n",
    "    player_frame = pd.DataFrame.from_records(playerData)\n",
    "    player_frame.to_csv(os.path.join(outfile_base, 'players/understat_player.csv'), index=False)\n",
    "\n",
    "def main():\n",
    "    parse_epl_data('data/' + season + '/Raw_data/understat')\n",
    "    get_player_data(318)\n",
    "\n",
    "if __name__ == '__main__':\n",
    "    main()"
   ]
  },
  {
   "cell_type": "code",
   "execution_count": 5,
   "metadata": {},
   "outputs": [
    {
     "name": "stdout",
     "output_type": "stream",
     "text": [
      "var THEME\n",
      "var groupsData\n",
      "var minMaxPlayerStats\n",
      "var shotsData\n",
      "var matchesData\n",
      "WebFont.load({\n",
      "\t\t\tgoogle: {\n",
      "\t\t\t\tfamilies: ['Barlow:500', 'Anton']\n",
      "\t\t\t},\n",
      "\t\t\tactive: function(){\n",
      "\t\t\t\tflagFontsLoading\n",
      "(function(i,s,o,g,r,a,m){i['GoogleAnalyticsObject']\n"
     ]
    }
   ],
   "source": [
    "test = get_player_data(100)\n",
    "test"
   ]
  },
  {
   "cell_type": "code",
   "execution_count": null,
   "metadata": {},
   "outputs": [],
   "source": []
  }
 ],
 "metadata": {
  "interpreter": {
   "hash": "a3729eca01f33b6116a226cba4392155fbf439f55734fbaac56c98addfcaff46"
  },
  "kernelspec": {
   "display_name": "Python 3.8.3 64-bit ('base': conda)",
   "name": "python3"
  },
  "language_info": {
   "codemirror_mode": {
    "name": "ipython",
    "version": 3
   },
   "file_extension": ".py",
   "mimetype": "text/x-python",
   "name": "python",
   "nbconvert_exporter": "python",
   "pygments_lexer": "ipython3",
   "version": "3.8.12"
  },
  "orig_nbformat": 2
 },
 "nbformat": 4,
 "nbformat_minor": 2
}
