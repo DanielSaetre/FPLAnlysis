{
 "metadata": {
  "language_info": {
   "codemirror_mode": {
    "name": "ipython",
    "version": 3
   },
   "file_extension": ".py",
   "mimetype": "text/x-python",
   "name": "python",
   "nbconvert_exporter": "python",
   "pygments_lexer": "ipython3",
   "version": "3.8.3-final"
  },
  "orig_nbformat": 2,
  "kernelspec": {
   "name": "Python 3.8.3 64-bit (conda)",
   "display_name": "Python 3.8.3 64-bit (conda)",
   "metadata": {
    "interpreter": {
     "hash": "fb698bdeab99cfbf9e31cab566d99a06e057f2dec3dcc8097ebabb329e860e16"
    }
   }
  }
 },
 "nbformat": 4,
 "nbformat_minor": 2,
 "cells": [
  {
   "cell_type": "code",
   "execution_count": 1,
   "metadata": {},
   "outputs": [],
   "source": [
    "import numpy as np\n",
    "import pandas as pd\n",
    "import requests\n",
    "from datetime import datetime\n",
    "import json\n",
    "\n",
    "#Set Display options\n",
    "pd.set_option('display.max_rows', 50)\n",
    "pd.set_option('display.max_columns', 50)\n",
    "pd.set_option('display.width' , 1000)"
   ]
  },
  {
   "cell_type": "code",
   "execution_count": 2,
   "metadata": {},
   "outputs": [],
   "source": [
    "# Variables\n",
    "season = \"2020-21\""
   ]
  },
  {
   "cell_type": "code",
   "execution_count": 3,
   "metadata": {},
   "outputs": [],
   "source": [
    "all_players = pd.read_csv (r'./data/' + season + '/Raw_data/all_players.csv', parse_dates= [\"news_added\"])\n",
    "all_teams = pd.read_csv (r'./data/' + season + '/Raw_data/all_teams.csv')\n",
    "all_events = pd.read_csv (r'./data/' + season + '/Raw_data/all_events.csv', parse_dates= [\"deadline_time\"])\n",
    "player_types = pd.read_csv(r'./data/' + season + '/Raw_data/player_types.csv')\n",
    "game_phases = pd.read_csv(r'./data/' + season + '/Raw_data/game_phases.csv')\n",
    "\n",
    "understat_player = pd.read_csv(r'./data/' + season + '/Raw_data/understat/understat_player.csv')\n",
    "\n",
    "player_season_history = pd.read_csv(r'./data/' + season + '/Raw_data/player_season_history.csv')\n",
    "player_gameweek_history = pd.read_csv(r'./data/' + season + '/Raw_data/player_gameweek_history.csv')\n",
    "#player_gameweek_history = pd.read_csv(r'./data/2019-20/player_past_history/player_gameweek_history_raw.csv')\n",
    "player_future_fixture = pd.read_csv(r'./data/' + season + '/Raw_data/player_future_fixture.csv', parse_dates = [\"kickoff_time\"])\n",
    "\n"
   ]
  },
  {
   "cell_type": "code",
   "execution_count": 4,
   "metadata": {},
   "outputs": [
    {
     "output_type": "execute_result",
     "data": {
      "text/plain": [
       "     id            player_name  games  time  goals        xG  assists        xA  shots  key_passes  yellow_cards  red_cards position        team_title  npg      npxG   xGChain  xGBuildup\n",
       "0   453          Son Heung-Min      4   305      6  1.908542        1  1.566852     10          12             0          0      F M         Tottenham    6  1.908542  3.667317   1.263623\n",
       "1  5555  Dominic Calvert-Lewin      4   343      6  4.412360        0  0.106039     15           1             0          0        F           Everton    6  4.412360  4.070678   1.158628\n",
       "2   755            Jamie Vardy      4   355      5  3.879281        0  0.162430      7           2             0          0        F         Leicester    1  0.834606  1.213707   0.216671\n",
       "3  1250          Mohamed Salah      4   360      5  2.968508        0  1.511990     19          14             0          0        F         Liverpool    3  1.446170  3.628054   1.227359\n",
       "4   468          Callum Wilson      4   356      4  3.759825        1  0.282659      9           4             0          0        F  Newcastle United    2  2.237487  2.755809   0.257033"
      ],
      "text/html": "<div>\n<style scoped>\n    .dataframe tbody tr th:only-of-type {\n        vertical-align: middle;\n    }\n\n    .dataframe tbody tr th {\n        vertical-align: top;\n    }\n\n    .dataframe thead th {\n        text-align: right;\n    }\n</style>\n<table border=\"1\" class=\"dataframe\">\n  <thead>\n    <tr style=\"text-align: right;\">\n      <th></th>\n      <th>id</th>\n      <th>player_name</th>\n      <th>games</th>\n      <th>time</th>\n      <th>goals</th>\n      <th>xG</th>\n      <th>assists</th>\n      <th>xA</th>\n      <th>shots</th>\n      <th>key_passes</th>\n      <th>yellow_cards</th>\n      <th>red_cards</th>\n      <th>position</th>\n      <th>team_title</th>\n      <th>npg</th>\n      <th>npxG</th>\n      <th>xGChain</th>\n      <th>xGBuildup</th>\n    </tr>\n  </thead>\n  <tbody>\n    <tr>\n      <th>0</th>\n      <td>453</td>\n      <td>Son Heung-Min</td>\n      <td>4</td>\n      <td>305</td>\n      <td>6</td>\n      <td>1.908542</td>\n      <td>1</td>\n      <td>1.566852</td>\n      <td>10</td>\n      <td>12</td>\n      <td>0</td>\n      <td>0</td>\n      <td>F M</td>\n      <td>Tottenham</td>\n      <td>6</td>\n      <td>1.908542</td>\n      <td>3.667317</td>\n      <td>1.263623</td>\n    </tr>\n    <tr>\n      <th>1</th>\n      <td>5555</td>\n      <td>Dominic Calvert-Lewin</td>\n      <td>4</td>\n      <td>343</td>\n      <td>6</td>\n      <td>4.412360</td>\n      <td>0</td>\n      <td>0.106039</td>\n      <td>15</td>\n      <td>1</td>\n      <td>0</td>\n      <td>0</td>\n      <td>F</td>\n      <td>Everton</td>\n      <td>6</td>\n      <td>4.412360</td>\n      <td>4.070678</td>\n      <td>1.158628</td>\n    </tr>\n    <tr>\n      <th>2</th>\n      <td>755</td>\n      <td>Jamie Vardy</td>\n      <td>4</td>\n      <td>355</td>\n      <td>5</td>\n      <td>3.879281</td>\n      <td>0</td>\n      <td>0.162430</td>\n      <td>7</td>\n      <td>2</td>\n      <td>0</td>\n      <td>0</td>\n      <td>F</td>\n      <td>Leicester</td>\n      <td>1</td>\n      <td>0.834606</td>\n      <td>1.213707</td>\n      <td>0.216671</td>\n    </tr>\n    <tr>\n      <th>3</th>\n      <td>1250</td>\n      <td>Mohamed Salah</td>\n      <td>4</td>\n      <td>360</td>\n      <td>5</td>\n      <td>2.968508</td>\n      <td>0</td>\n      <td>1.511990</td>\n      <td>19</td>\n      <td>14</td>\n      <td>0</td>\n      <td>0</td>\n      <td>F</td>\n      <td>Liverpool</td>\n      <td>3</td>\n      <td>1.446170</td>\n      <td>3.628054</td>\n      <td>1.227359</td>\n    </tr>\n    <tr>\n      <th>4</th>\n      <td>468</td>\n      <td>Callum Wilson</td>\n      <td>4</td>\n      <td>356</td>\n      <td>4</td>\n      <td>3.759825</td>\n      <td>1</td>\n      <td>0.282659</td>\n      <td>9</td>\n      <td>4</td>\n      <td>0</td>\n      <td>0</td>\n      <td>F</td>\n      <td>Newcastle United</td>\n      <td>2</td>\n      <td>2.237487</td>\n      <td>2.755809</td>\n      <td>0.257033</td>\n    </tr>\n  </tbody>\n</table>\n</div>"
     },
     "metadata": {},
     "execution_count": 4
    }
   ],
   "source": [
    "understat_player.head()"
   ]
  },
  {
   "cell_type": "markdown",
   "metadata": {},
   "source": [
    "## Rename columns"
   ]
  },
  {
   "cell_type": "code",
   "execution_count": 5,
   "metadata": {},
   "outputs": [
    {
     "output_type": "execute_result",
     "data": {
      "text/plain": [
       "   element  fixture  opponent_team  total_points  was_home          kickoff_time  team_h_score  team_a_score  round  minutes  goals_scored  assists  clean_sheets  goals_conceded  own_goals  penalties_saved  penalties_missed  yellow_cards  red_cards  saves  bonus  bps  influence  creativity  threat  ict_index  value  transfers_balance  selected  transfers_in  transfers_out\n",
       "0        1        2              8             0     False  2020-09-12T11:30:00Z           0.0           3.0      1        0             0        0             0               0          0                0                 0             0          0      0      0    0        0.0         0.0     0.0        0.0     70                  0     76656             0              0\n",
       "1        1        9             19             0      True  2020-09-19T19:00:00Z           2.0           1.0      2        0             0        0             0               0          0                0                 0             0          0      0      0    0        0.0         0.0     0.0        0.0     69             -16828     68335           995          17823\n",
       "2        1       23             11             0     False  2020-09-28T19:00:00Z           3.0           1.0      3        0             0        0             0               0          0                0                 0             0          0      0      0    0        0.0         0.0     0.0        0.0     69             -11451     59793           675          12126\n",
       "3        1       29             15             0      True  2020-10-04T13:00:00Z           2.0           1.0      4        0             0        0             0               0          0                0                 0             0          0      0      0    0        0.0         0.0     0.0        0.0     68              -5324     56403           647           5971\n",
       "4        1       44             12             0     False  2020-10-17T16:30:00Z           1.0           0.0      5        0             0        0             0               0          0                0                 0             0          0      0      0    0        0.0         0.0     0.0        0.0     68              -4224     53689           616           4840"
      ],
      "text/html": "<div>\n<style scoped>\n    .dataframe tbody tr th:only-of-type {\n        vertical-align: middle;\n    }\n\n    .dataframe tbody tr th {\n        vertical-align: top;\n    }\n\n    .dataframe thead th {\n        text-align: right;\n    }\n</style>\n<table border=\"1\" class=\"dataframe\">\n  <thead>\n    <tr style=\"text-align: right;\">\n      <th></th>\n      <th>element</th>\n      <th>fixture</th>\n      <th>opponent_team</th>\n      <th>total_points</th>\n      <th>was_home</th>\n      <th>kickoff_time</th>\n      <th>team_h_score</th>\n      <th>team_a_score</th>\n      <th>round</th>\n      <th>minutes</th>\n      <th>goals_scored</th>\n      <th>assists</th>\n      <th>clean_sheets</th>\n      <th>goals_conceded</th>\n      <th>own_goals</th>\n      <th>penalties_saved</th>\n      <th>penalties_missed</th>\n      <th>yellow_cards</th>\n      <th>red_cards</th>\n      <th>saves</th>\n      <th>bonus</th>\n      <th>bps</th>\n      <th>influence</th>\n      <th>creativity</th>\n      <th>threat</th>\n      <th>ict_index</th>\n      <th>value</th>\n      <th>transfers_balance</th>\n      <th>selected</th>\n      <th>transfers_in</th>\n      <th>transfers_out</th>\n    </tr>\n  </thead>\n  <tbody>\n    <tr>\n      <th>0</th>\n      <td>1</td>\n      <td>2</td>\n      <td>8</td>\n      <td>0</td>\n      <td>False</td>\n      <td>2020-09-12T11:30:00Z</td>\n      <td>0.0</td>\n      <td>3.0</td>\n      <td>1</td>\n      <td>0</td>\n      <td>0</td>\n      <td>0</td>\n      <td>0</td>\n      <td>0</td>\n      <td>0</td>\n      <td>0</td>\n      <td>0</td>\n      <td>0</td>\n      <td>0</td>\n      <td>0</td>\n      <td>0</td>\n      <td>0</td>\n      <td>0.0</td>\n      <td>0.0</td>\n      <td>0.0</td>\n      <td>0.0</td>\n      <td>70</td>\n      <td>0</td>\n      <td>76656</td>\n      <td>0</td>\n      <td>0</td>\n    </tr>\n    <tr>\n      <th>1</th>\n      <td>1</td>\n      <td>9</td>\n      <td>19</td>\n      <td>0</td>\n      <td>True</td>\n      <td>2020-09-19T19:00:00Z</td>\n      <td>2.0</td>\n      <td>1.0</td>\n      <td>2</td>\n      <td>0</td>\n      <td>0</td>\n      <td>0</td>\n      <td>0</td>\n      <td>0</td>\n      <td>0</td>\n      <td>0</td>\n      <td>0</td>\n      <td>0</td>\n      <td>0</td>\n      <td>0</td>\n      <td>0</td>\n      <td>0</td>\n      <td>0.0</td>\n      <td>0.0</td>\n      <td>0.0</td>\n      <td>0.0</td>\n      <td>69</td>\n      <td>-16828</td>\n      <td>68335</td>\n      <td>995</td>\n      <td>17823</td>\n    </tr>\n    <tr>\n      <th>2</th>\n      <td>1</td>\n      <td>23</td>\n      <td>11</td>\n      <td>0</td>\n      <td>False</td>\n      <td>2020-09-28T19:00:00Z</td>\n      <td>3.0</td>\n      <td>1.0</td>\n      <td>3</td>\n      <td>0</td>\n      <td>0</td>\n      <td>0</td>\n      <td>0</td>\n      <td>0</td>\n      <td>0</td>\n      <td>0</td>\n      <td>0</td>\n      <td>0</td>\n      <td>0</td>\n      <td>0</td>\n      <td>0</td>\n      <td>0</td>\n      <td>0.0</td>\n      <td>0.0</td>\n      <td>0.0</td>\n      <td>0.0</td>\n      <td>69</td>\n      <td>-11451</td>\n      <td>59793</td>\n      <td>675</td>\n      <td>12126</td>\n    </tr>\n    <tr>\n      <th>3</th>\n      <td>1</td>\n      <td>29</td>\n      <td>15</td>\n      <td>0</td>\n      <td>True</td>\n      <td>2020-10-04T13:00:00Z</td>\n      <td>2.0</td>\n      <td>1.0</td>\n      <td>4</td>\n      <td>0</td>\n      <td>0</td>\n      <td>0</td>\n      <td>0</td>\n      <td>0</td>\n      <td>0</td>\n      <td>0</td>\n      <td>0</td>\n      <td>0</td>\n      <td>0</td>\n      <td>0</td>\n      <td>0</td>\n      <td>0</td>\n      <td>0.0</td>\n      <td>0.0</td>\n      <td>0.0</td>\n      <td>0.0</td>\n      <td>68</td>\n      <td>-5324</td>\n      <td>56403</td>\n      <td>647</td>\n      <td>5971</td>\n    </tr>\n    <tr>\n      <th>4</th>\n      <td>1</td>\n      <td>44</td>\n      <td>12</td>\n      <td>0</td>\n      <td>False</td>\n      <td>2020-10-17T16:30:00Z</td>\n      <td>1.0</td>\n      <td>0.0</td>\n      <td>5</td>\n      <td>0</td>\n      <td>0</td>\n      <td>0</td>\n      <td>0</td>\n      <td>0</td>\n      <td>0</td>\n      <td>0</td>\n      <td>0</td>\n      <td>0</td>\n      <td>0</td>\n      <td>0</td>\n      <td>0</td>\n      <td>0</td>\n      <td>0.0</td>\n      <td>0.0</td>\n      <td>0.0</td>\n      <td>0.0</td>\n      <td>68</td>\n      <td>-4224</td>\n      <td>53689</td>\n      <td>616</td>\n      <td>4840</td>\n    </tr>\n  </tbody>\n</table>\n</div>"
     },
     "metadata": {},
     "execution_count": 5
    }
   ],
   "source": [
    "player_gameweek_history.head()"
   ]
  },
  {
   "cell_type": "code",
   "execution_count": 6,
   "metadata": {},
   "outputs": [],
   "source": [
    "player_gameweek_history.rename(columns = {\"element\" : \"player_id\" , \"opponent_team\" : \"opponent_team_id\" , \"fixture\" : \"fixture_id\" } , inplace = True)\n",
    "all_players.rename(columns = {\"code\" : \"player_code\", \"element_type\" : \"player_type_id\" , \"minutes\" : \"total_minutes\" , \"id\" : \"player_id\" , \"team\" : \"team_id\" , \"points_per_game\" : \"PPG\"} , inplace=True)\n",
    "all_teams.rename(columns = {\"id\" : \"team_id\" , \"code\" : \"team_code\" , \"name\" : \"team_name\" , \"short_name\" : \"team_short_name\" , \"strength\" : \"team_strength\" , \"form\" : \"team_form\"} , inplace = True)\n",
    "all_events.rename(columns = {\"id\" : \"gameweek_id\"} , inplace = True)\n",
    "player_types.rename(columns = {\"id\" : \"player_type_id\" , \"singular_name\" : \"position_name\" , \"singular_name_short\" : \"position_name_short\"} , inplace = True)\n",
    "game_phases.rename(columns = {\"id\" : \"phase_id\"} , inplace = True)\n",
    "player_season_history.rename(columns = {\"element_code\" : \"player_code\"} , inplace = True)\n",
    "player_future_fixture.rename(columns = {\"id\" : \"fixture_id\" , \"team_h\" : \"home_team_id\" , \"team_a\" : \"away_team_id\" , \"events\" : \"gameweek_id\" , \"code\" : \"fixture_code\"} , inplace = True)\n",
    "#player_gameweek_history.rename(columns = {} , inplace = True)\n"
   ]
  },
  {
   "cell_type": "markdown",
   "metadata": {},
   "source": [
    "## Drop columns"
   ]
  },
  {
   "cell_type": "code",
   "execution_count": 7,
   "metadata": {},
   "outputs": [
    {
     "output_type": "execute_result",
     "data": {
      "text/plain": [
       "   gameweek_id        name             deadline_time  average_entry_score  finished  data_checked  highest_scoring_entry  deadline_time_epoch  deadline_time_game_offset  highest_score  is_previous  is_current  is_next                                         chip_plays  most_selected  most_transferred_in  top_element           top_element_info  transfers_made  most_captained  most_vice_captained\n",
       "0            1  Gameweek 1 2020-09-12 10:00:00+00:00                   50      True          True              4761681.0           1599904800                          0          142.0        False       False    False  [{'chip_name': 'bboost', 'num_played': 112843}...          259.0                 12.0        254.0  {'id': 254, 'points': 20}               0             4.0                  4.0\n",
       "1            2  Gameweek 2 2020-09-19 10:00:00+00:00                   59      True          True              6234344.0           1600509600                          0          165.0        False       False    False  [{'chip_name': 'bboost', 'num_played': 94615},...          259.0                302.0        390.0  {'id': 390, 'points': 24}        14637421             4.0                254.0\n",
       "2            3  Gameweek 3 2020-09-26 10:00:00+00:00                   43      True          True              6223553.0           1601114400                          0          119.0        False       False    False  [{'chip_name': 'bboost', 'num_played': 86797},...          259.0                164.0        224.0  {'id': 224, 'points': 17}        20387878           272.0                254.0\n",
       "3            4  Gameweek 4 2020-10-03 10:00:00+00:00                   48      True          True              6563000.0           1601719200                          0          160.0        False       False    False  [{'chip_name': 'bboost', 'num_played': 82267},...          272.0                164.0         37.0   {'id': 37, 'points': 24}        14570655           254.0                272.0\n",
       "4            5  Gameweek 5 2020-10-17 10:00:00+00:00                   60      True          True              7124486.0           1602928800                          0          136.0         True       False    False  [{'chip_name': 'bboost', 'num_played': 80554},...          164.0                390.0        117.0  {'id': 117, 'points': 16}        18391649           390.0                254.0"
      ],
      "text/html": "<div>\n<style scoped>\n    .dataframe tbody tr th:only-of-type {\n        vertical-align: middle;\n    }\n\n    .dataframe tbody tr th {\n        vertical-align: top;\n    }\n\n    .dataframe thead th {\n        text-align: right;\n    }\n</style>\n<table border=\"1\" class=\"dataframe\">\n  <thead>\n    <tr style=\"text-align: right;\">\n      <th></th>\n      <th>gameweek_id</th>\n      <th>name</th>\n      <th>deadline_time</th>\n      <th>average_entry_score</th>\n      <th>finished</th>\n      <th>data_checked</th>\n      <th>highest_scoring_entry</th>\n      <th>deadline_time_epoch</th>\n      <th>deadline_time_game_offset</th>\n      <th>highest_score</th>\n      <th>is_previous</th>\n      <th>is_current</th>\n      <th>is_next</th>\n      <th>chip_plays</th>\n      <th>most_selected</th>\n      <th>most_transferred_in</th>\n      <th>top_element</th>\n      <th>top_element_info</th>\n      <th>transfers_made</th>\n      <th>most_captained</th>\n      <th>most_vice_captained</th>\n    </tr>\n  </thead>\n  <tbody>\n    <tr>\n      <th>0</th>\n      <td>1</td>\n      <td>Gameweek 1</td>\n      <td>2020-09-12 10:00:00+00:00</td>\n      <td>50</td>\n      <td>True</td>\n      <td>True</td>\n      <td>4761681.0</td>\n      <td>1599904800</td>\n      <td>0</td>\n      <td>142.0</td>\n      <td>False</td>\n      <td>False</td>\n      <td>False</td>\n      <td>[{'chip_name': 'bboost', 'num_played': 112843}...</td>\n      <td>259.0</td>\n      <td>12.0</td>\n      <td>254.0</td>\n      <td>{'id': 254, 'points': 20}</td>\n      <td>0</td>\n      <td>4.0</td>\n      <td>4.0</td>\n    </tr>\n    <tr>\n      <th>1</th>\n      <td>2</td>\n      <td>Gameweek 2</td>\n      <td>2020-09-19 10:00:00+00:00</td>\n      <td>59</td>\n      <td>True</td>\n      <td>True</td>\n      <td>6234344.0</td>\n      <td>1600509600</td>\n      <td>0</td>\n      <td>165.0</td>\n      <td>False</td>\n      <td>False</td>\n      <td>False</td>\n      <td>[{'chip_name': 'bboost', 'num_played': 94615},...</td>\n      <td>259.0</td>\n      <td>302.0</td>\n      <td>390.0</td>\n      <td>{'id': 390, 'points': 24}</td>\n      <td>14637421</td>\n      <td>4.0</td>\n      <td>254.0</td>\n    </tr>\n    <tr>\n      <th>2</th>\n      <td>3</td>\n      <td>Gameweek 3</td>\n      <td>2020-09-26 10:00:00+00:00</td>\n      <td>43</td>\n      <td>True</td>\n      <td>True</td>\n      <td>6223553.0</td>\n      <td>1601114400</td>\n      <td>0</td>\n      <td>119.0</td>\n      <td>False</td>\n      <td>False</td>\n      <td>False</td>\n      <td>[{'chip_name': 'bboost', 'num_played': 86797},...</td>\n      <td>259.0</td>\n      <td>164.0</td>\n      <td>224.0</td>\n      <td>{'id': 224, 'points': 17}</td>\n      <td>20387878</td>\n      <td>272.0</td>\n      <td>254.0</td>\n    </tr>\n    <tr>\n      <th>3</th>\n      <td>4</td>\n      <td>Gameweek 4</td>\n      <td>2020-10-03 10:00:00+00:00</td>\n      <td>48</td>\n      <td>True</td>\n      <td>True</td>\n      <td>6563000.0</td>\n      <td>1601719200</td>\n      <td>0</td>\n      <td>160.0</td>\n      <td>False</td>\n      <td>False</td>\n      <td>False</td>\n      <td>[{'chip_name': 'bboost', 'num_played': 82267},...</td>\n      <td>272.0</td>\n      <td>164.0</td>\n      <td>37.0</td>\n      <td>{'id': 37, 'points': 24}</td>\n      <td>14570655</td>\n      <td>254.0</td>\n      <td>272.0</td>\n    </tr>\n    <tr>\n      <th>4</th>\n      <td>5</td>\n      <td>Gameweek 5</td>\n      <td>2020-10-17 10:00:00+00:00</td>\n      <td>60</td>\n      <td>True</td>\n      <td>True</td>\n      <td>7124486.0</td>\n      <td>1602928800</td>\n      <td>0</td>\n      <td>136.0</td>\n      <td>True</td>\n      <td>False</td>\n      <td>False</td>\n      <td>[{'chip_name': 'bboost', 'num_played': 80554},...</td>\n      <td>164.0</td>\n      <td>390.0</td>\n      <td>117.0</td>\n      <td>{'id': 117, 'points': 16}</td>\n      <td>18391649</td>\n      <td>390.0</td>\n      <td>254.0</td>\n    </tr>\n  </tbody>\n</table>\n</div>"
     },
     "metadata": {},
     "execution_count": 7
    }
   ],
   "source": [
    "all_events.head(5)"
   ]
  },
  {
   "cell_type": "code",
   "execution_count": 8,
   "metadata": {},
   "outputs": [],
   "source": [
    "all_events.drop(columns = [\"deadline_time_epoch\"] , inplace = True)\n",
    "player_types.drop(columns = [\"plural_name\" , \"plural_name_short\"] , inplace = True)\n",
    "all_players.drop(columns = [\"squad_number\" , \"special\" , \"transfers_in\" , \"transfers_out\" , \"first_name\" , \"second_name\"] , inplace = True)"
   ]
  },
  {
   "cell_type": "markdown",
   "metadata": {},
   "source": [
    "## Change date columns"
   ]
  },
  {
   "cell_type": "code",
   "execution_count": 9,
   "metadata": {},
   "outputs": [],
   "source": [
    "all_players['news_added'] = all_players['news_added'].dt.tz_localize(None)\n",
    "all_events['deadline_time'] = all_events['deadline_time'].dt.tz_localize(None)\n",
    "player_future_fixture['kickoff_time'] = player_future_fixture['kickoff_time'].dt.tz_localize(None)\n",
    "\n",
    "player_gameweek_history['kickoff_time'] = pd.to_datetime(player_gameweek_history['kickoff_time'])\n",
    "player_gameweek_history['kickoff_time'] = player_gameweek_history['kickoff_time'].dt.tz_localize(None)"
   ]
  },
  {
   "cell_type": "markdown",
   "metadata": {},
   "source": [
    "\n",
    "## Add Columns"
   ]
  },
  {
   "cell_type": "code",
   "execution_count": 10,
   "metadata": {},
   "outputs": [
    {
     "output_type": "execute_result",
     "data": {
      "text/plain": [
       "   fixture_id  fixture_code  home_team_id  team_h_score  away_team_id  team_a_score  event  finished  minutes  provisional_start_time        kickoff_time   event_name  is_home  difficulty  player_id\n",
       "0          64       2128351            13           NaN             1           NaN    7.0     False        0                   False 2020-11-01 16:30:00   Gameweek 7    False           4          1\n",
       "1          69       2128356             1           NaN             2           NaN    8.0     False        0                   False 2020-11-07 15:00:00   Gameweek 8     True           3          1\n",
       "2          82       2128369            10           NaN             1           NaN    9.0     False        0                   False 2020-11-22 16:30:00   Gameweek 9    False           3          1\n",
       "3          89       2128376             1           NaN            20           NaN   10.0     False        0                   False 2020-11-28 15:00:00  Gameweek 10     True           3          1\n",
       "4         106       2128393            17           NaN             1           NaN   11.0     False        0                   False 2020-12-05 15:00:00  Gameweek 11    False           4          1"
      ],
      "text/html": "<div>\n<style scoped>\n    .dataframe tbody tr th:only-of-type {\n        vertical-align: middle;\n    }\n\n    .dataframe tbody tr th {\n        vertical-align: top;\n    }\n\n    .dataframe thead th {\n        text-align: right;\n    }\n</style>\n<table border=\"1\" class=\"dataframe\">\n  <thead>\n    <tr style=\"text-align: right;\">\n      <th></th>\n      <th>fixture_id</th>\n      <th>fixture_code</th>\n      <th>home_team_id</th>\n      <th>team_h_score</th>\n      <th>away_team_id</th>\n      <th>team_a_score</th>\n      <th>event</th>\n      <th>finished</th>\n      <th>minutes</th>\n      <th>provisional_start_time</th>\n      <th>kickoff_time</th>\n      <th>event_name</th>\n      <th>is_home</th>\n      <th>difficulty</th>\n      <th>player_id</th>\n    </tr>\n  </thead>\n  <tbody>\n    <tr>\n      <th>0</th>\n      <td>64</td>\n      <td>2128351</td>\n      <td>13</td>\n      <td>NaN</td>\n      <td>1</td>\n      <td>NaN</td>\n      <td>7.0</td>\n      <td>False</td>\n      <td>0</td>\n      <td>False</td>\n      <td>2020-11-01 16:30:00</td>\n      <td>Gameweek 7</td>\n      <td>False</td>\n      <td>4</td>\n      <td>1</td>\n    </tr>\n    <tr>\n      <th>1</th>\n      <td>69</td>\n      <td>2128356</td>\n      <td>1</td>\n      <td>NaN</td>\n      <td>2</td>\n      <td>NaN</td>\n      <td>8.0</td>\n      <td>False</td>\n      <td>0</td>\n      <td>False</td>\n      <td>2020-11-07 15:00:00</td>\n      <td>Gameweek 8</td>\n      <td>True</td>\n      <td>3</td>\n      <td>1</td>\n    </tr>\n    <tr>\n      <th>2</th>\n      <td>82</td>\n      <td>2128369</td>\n      <td>10</td>\n      <td>NaN</td>\n      <td>1</td>\n      <td>NaN</td>\n      <td>9.0</td>\n      <td>False</td>\n      <td>0</td>\n      <td>False</td>\n      <td>2020-11-22 16:30:00</td>\n      <td>Gameweek 9</td>\n      <td>False</td>\n      <td>3</td>\n      <td>1</td>\n    </tr>\n    <tr>\n      <th>3</th>\n      <td>89</td>\n      <td>2128376</td>\n      <td>1</td>\n      <td>NaN</td>\n      <td>20</td>\n      <td>NaN</td>\n      <td>10.0</td>\n      <td>False</td>\n      <td>0</td>\n      <td>False</td>\n      <td>2020-11-28 15:00:00</td>\n      <td>Gameweek 10</td>\n      <td>True</td>\n      <td>3</td>\n      <td>1</td>\n    </tr>\n    <tr>\n      <th>4</th>\n      <td>106</td>\n      <td>2128393</td>\n      <td>17</td>\n      <td>NaN</td>\n      <td>1</td>\n      <td>NaN</td>\n      <td>11.0</td>\n      <td>False</td>\n      <td>0</td>\n      <td>False</td>\n      <td>2020-12-05 15:00:00</td>\n      <td>Gameweek 11</td>\n      <td>False</td>\n      <td>4</td>\n      <td>1</td>\n    </tr>\n  </tbody>\n</table>\n</div>"
     },
     "metadata": {},
     "execution_count": 10
    }
   ],
   "source": [
    "player_future_fixture.head()"
   ]
  },
  {
   "cell_type": "code",
   "execution_count": 11,
   "metadata": {},
   "outputs": [],
   "source": [
    "def opponent_team(row):\n",
    "    if row['is_home'] == True:\n",
    "        val = row['away_team_id']\n",
    "    elif row['is_home'] == False:\n",
    "        val = row['home_team_id']\n",
    "    return val\n",
    "\n",
    "def team(row):\n",
    "    if row['is_home'] == False:\n",
    "        val = row['away_team_id']\n",
    "    elif row['is_home'] == True:\n",
    "        val = row['home_team_id']\n",
    "    return val\n",
    "\n",
    "\n",
    "player_future_fixture['opponent_team_id'] = player_future_fixture.apply(opponent_team,axis=1)\n",
    "player_future_fixture['team_id'] = player_future_fixture.apply(team,axis=1)\n"
   ]
  },
  {
   "cell_type": "markdown",
   "metadata": {},
   "source": [
    "## Calculate New Columns"
   ]
  },
  {
   "cell_type": "code",
   "execution_count": 12,
   "metadata": {},
   "outputs": [
    {
     "output_type": "execute_result",
     "data": {
      "text/plain": [
       "Index(['chance_of_playing_next_round', 'chance_of_playing_this_round', 'player_code', 'cost_change_event', 'cost_change_event_fall', 'cost_change_start', 'cost_change_start_fall', 'dreamteam_count', 'player_type_id', 'ep_next', 'ep_this', 'event_points', 'form', 'player_id', 'in_dreamteam', 'news', 'news_added', 'now_cost', 'photo', 'PPG', 'selected_by_percent', 'status', 'team_id', 'team_code', 'total_points', 'transfers_in_event', 'transfers_out_event', 'value_form', 'value_season', 'web_name', 'total_minutes', 'goals_scored', 'assists', 'clean_sheets', 'goals_conceded', 'own_goals', 'penalties_saved', 'penalties_missed', 'yellow_cards', 'red_cards', 'saves', 'bonus', 'bps', 'influence', 'creativity', 'threat', 'ict_index', 'influence_rank', 'influence_rank_type', 'creativity_rank', 'creativity_rank_type', 'threat_rank', 'threat_rank_type', 'ict_index_rank', 'ict_index_rank_type', 'corners_and_indirect_freekicks_order', 'corners_and_indirect_freekicks_text',\n",
       "       'direct_freekicks_order', 'direct_freekicks_text', 'penalties_order', 'penalties_text'],\n",
       "      dtype='object')"
      ]
     },
     "metadata": {},
     "execution_count": 12
    }
   ],
   "source": [
    "all_players.columns"
   ]
  },
  {
   "cell_type": "code",
   "execution_count": 13,
   "metadata": {},
   "outputs": [
    {
     "output_type": "execute_result",
     "data": {
      "text/plain": [
       "   chance_of_playing_next_round  chance_of_playing_this_round  player_code  cost_change_event  cost_change_event_fall  cost_change_start  cost_change_start_fall  dreamteam_count  player_type_id  ep_next  ep_this  event_points  form  player_id  in_dreamteam                                               news                 news_added  now_cost      photo  PPG  selected_by_percent status  team_id  team_code  total_points  ...  penalties_saved  penalties_missed  yellow_cards  red_cards saves  bonus  bps  influence  creativity  threat  ict_index  influence_rank  influence_rank_type  creativity_rank  creativity_rank_type  threat_rank  threat_rank_type  ict_index_rank  ict_index_rank_type  corners_and_indirect_freekicks_order  corners_and_indirect_freekicks_text  direct_freekicks_order  direct_freekicks_text  penalties_order  penalties_text\n",
       "0                           0.0                           0.0        37605                  0                       0                 -2                       2                0               3      0.0      0.0             0   0.0          1         False  Not included in Arsenal's 25-man Premier Leagu... 2020-10-20 22:30:18.118477        68  37605.jpg  0.0                  0.7      n        1          3             0  ...                0                 0             0          0     0      0    0        0.0         0.0     0.0        0.0             588                  237              587                   236          588               236             589                  237                                   NaN                                  NaN                     NaN                    NaN              NaN             NaN\n",
       "1                           0.0                           0.0        39476                  0                       0                 -1                       1                0               2      0.0      0.0             0   0.0          2         False  Not included in Arsenal's 25-man Premier Leagu... 2020-10-21 10:30:18.546407        49  39476.jpg  0.0                  0.1      n        1          3             0  ...                0                 0             0          0     0      0    0        0.0         0.0     0.0        0.0             528                  202              518                   202          504               193             532                  202                                   NaN                                  NaN                     NaN                    NaN              NaN             NaN\n",
       "2                          75.0                         100.0        41270                  0                       0                  0                       0                0               2      1.1      1.5             1   1.5          3         False               Thigh injury - 75% chance of playing 2020-10-25 21:30:13.186040        55  41270.jpg  1.4                  1.1      d        1          3             7  ...                0                 0             0          0     0      0   51       66.6         9.8    21.0        9.7             154                   59              278                    87          205                59             219                   75                                   NaN                                  NaN                     4.0                    NaN              NaN             NaN\n",
       "3                         100.0                         100.0        54694                 -1                       1                 -3                       3                0               3      2.0      2.0             2   2.0          4         False                                                NaN 2020-10-08 09:00:12.305506       117  54694.jpg  3.3                 15.8      a        1          3            20  ...                0                 0             1          0     0      0   73       93.4       102.9   117.0       31.3              97                   36               40                    30           41                22              49                   26                                   NaN                                  NaN                     6.0                    NaN              1.0             NaN\n",
       "4                         100.0                         100.0        58822                  0                       0                 -2                       2                0               2      0.0      0.0             0   0.0          5         False                                                NaN 2020-09-23 09:00:14.881983        48  58822.jpg  0.0                  0.2      a        1          3             0  ...                0                 0             0          0     0      0    0        0.0         0.0     0.0        0.0             513                  197              501                   197          480               186             517                  197                                   NaN                                  NaN                     NaN                    NaN              NaN             NaN\n",
       "\n",
       "[5 rows x 61 columns]"
      ],
      "text/html": "<div>\n<style scoped>\n    .dataframe tbody tr th:only-of-type {\n        vertical-align: middle;\n    }\n\n    .dataframe tbody tr th {\n        vertical-align: top;\n    }\n\n    .dataframe thead th {\n        text-align: right;\n    }\n</style>\n<table border=\"1\" class=\"dataframe\">\n  <thead>\n    <tr style=\"text-align: right;\">\n      <th></th>\n      <th>chance_of_playing_next_round</th>\n      <th>chance_of_playing_this_round</th>\n      <th>player_code</th>\n      <th>cost_change_event</th>\n      <th>cost_change_event_fall</th>\n      <th>cost_change_start</th>\n      <th>cost_change_start_fall</th>\n      <th>dreamteam_count</th>\n      <th>player_type_id</th>\n      <th>ep_next</th>\n      <th>ep_this</th>\n      <th>event_points</th>\n      <th>form</th>\n      <th>player_id</th>\n      <th>in_dreamteam</th>\n      <th>news</th>\n      <th>news_added</th>\n      <th>now_cost</th>\n      <th>photo</th>\n      <th>PPG</th>\n      <th>selected_by_percent</th>\n      <th>status</th>\n      <th>team_id</th>\n      <th>team_code</th>\n      <th>total_points</th>\n      <th>...</th>\n      <th>penalties_saved</th>\n      <th>penalties_missed</th>\n      <th>yellow_cards</th>\n      <th>red_cards</th>\n      <th>saves</th>\n      <th>bonus</th>\n      <th>bps</th>\n      <th>influence</th>\n      <th>creativity</th>\n      <th>threat</th>\n      <th>ict_index</th>\n      <th>influence_rank</th>\n      <th>influence_rank_type</th>\n      <th>creativity_rank</th>\n      <th>creativity_rank_type</th>\n      <th>threat_rank</th>\n      <th>threat_rank_type</th>\n      <th>ict_index_rank</th>\n      <th>ict_index_rank_type</th>\n      <th>corners_and_indirect_freekicks_order</th>\n      <th>corners_and_indirect_freekicks_text</th>\n      <th>direct_freekicks_order</th>\n      <th>direct_freekicks_text</th>\n      <th>penalties_order</th>\n      <th>penalties_text</th>\n    </tr>\n  </thead>\n  <tbody>\n    <tr>\n      <th>0</th>\n      <td>0.0</td>\n      <td>0.0</td>\n      <td>37605</td>\n      <td>0</td>\n      <td>0</td>\n      <td>-2</td>\n      <td>2</td>\n      <td>0</td>\n      <td>3</td>\n      <td>0.0</td>\n      <td>0.0</td>\n      <td>0</td>\n      <td>0.0</td>\n      <td>1</td>\n      <td>False</td>\n      <td>Not included in Arsenal's 25-man Premier Leagu...</td>\n      <td>2020-10-20 22:30:18.118477</td>\n      <td>68</td>\n      <td>37605.jpg</td>\n      <td>0.0</td>\n      <td>0.7</td>\n      <td>n</td>\n      <td>1</td>\n      <td>3</td>\n      <td>0</td>\n      <td>...</td>\n      <td>0</td>\n      <td>0</td>\n      <td>0</td>\n      <td>0</td>\n      <td>0</td>\n      <td>0</td>\n      <td>0</td>\n      <td>0.0</td>\n      <td>0.0</td>\n      <td>0.0</td>\n      <td>0.0</td>\n      <td>588</td>\n      <td>237</td>\n      <td>587</td>\n      <td>236</td>\n      <td>588</td>\n      <td>236</td>\n      <td>589</td>\n      <td>237</td>\n      <td>NaN</td>\n      <td>NaN</td>\n      <td>NaN</td>\n      <td>NaN</td>\n      <td>NaN</td>\n      <td>NaN</td>\n    </tr>\n    <tr>\n      <th>1</th>\n      <td>0.0</td>\n      <td>0.0</td>\n      <td>39476</td>\n      <td>0</td>\n      <td>0</td>\n      <td>-1</td>\n      <td>1</td>\n      <td>0</td>\n      <td>2</td>\n      <td>0.0</td>\n      <td>0.0</td>\n      <td>0</td>\n      <td>0.0</td>\n      <td>2</td>\n      <td>False</td>\n      <td>Not included in Arsenal's 25-man Premier Leagu...</td>\n      <td>2020-10-21 10:30:18.546407</td>\n      <td>49</td>\n      <td>39476.jpg</td>\n      <td>0.0</td>\n      <td>0.1</td>\n      <td>n</td>\n      <td>1</td>\n      <td>3</td>\n      <td>0</td>\n      <td>...</td>\n      <td>0</td>\n      <td>0</td>\n      <td>0</td>\n      <td>0</td>\n      <td>0</td>\n      <td>0</td>\n      <td>0</td>\n      <td>0.0</td>\n      <td>0.0</td>\n      <td>0.0</td>\n      <td>0.0</td>\n      <td>528</td>\n      <td>202</td>\n      <td>518</td>\n      <td>202</td>\n      <td>504</td>\n      <td>193</td>\n      <td>532</td>\n      <td>202</td>\n      <td>NaN</td>\n      <td>NaN</td>\n      <td>NaN</td>\n      <td>NaN</td>\n      <td>NaN</td>\n      <td>NaN</td>\n    </tr>\n    <tr>\n      <th>2</th>\n      <td>75.0</td>\n      <td>100.0</td>\n      <td>41270</td>\n      <td>0</td>\n      <td>0</td>\n      <td>0</td>\n      <td>0</td>\n      <td>0</td>\n      <td>2</td>\n      <td>1.1</td>\n      <td>1.5</td>\n      <td>1</td>\n      <td>1.5</td>\n      <td>3</td>\n      <td>False</td>\n      <td>Thigh injury - 75% chance of playing</td>\n      <td>2020-10-25 21:30:13.186040</td>\n      <td>55</td>\n      <td>41270.jpg</td>\n      <td>1.4</td>\n      <td>1.1</td>\n      <td>d</td>\n      <td>1</td>\n      <td>3</td>\n      <td>7</td>\n      <td>...</td>\n      <td>0</td>\n      <td>0</td>\n      <td>0</td>\n      <td>0</td>\n      <td>0</td>\n      <td>0</td>\n      <td>51</td>\n      <td>66.6</td>\n      <td>9.8</td>\n      <td>21.0</td>\n      <td>9.7</td>\n      <td>154</td>\n      <td>59</td>\n      <td>278</td>\n      <td>87</td>\n      <td>205</td>\n      <td>59</td>\n      <td>219</td>\n      <td>75</td>\n      <td>NaN</td>\n      <td>NaN</td>\n      <td>4.0</td>\n      <td>NaN</td>\n      <td>NaN</td>\n      <td>NaN</td>\n    </tr>\n    <tr>\n      <th>3</th>\n      <td>100.0</td>\n      <td>100.0</td>\n      <td>54694</td>\n      <td>-1</td>\n      <td>1</td>\n      <td>-3</td>\n      <td>3</td>\n      <td>0</td>\n      <td>3</td>\n      <td>2.0</td>\n      <td>2.0</td>\n      <td>2</td>\n      <td>2.0</td>\n      <td>4</td>\n      <td>False</td>\n      <td>NaN</td>\n      <td>2020-10-08 09:00:12.305506</td>\n      <td>117</td>\n      <td>54694.jpg</td>\n      <td>3.3</td>\n      <td>15.8</td>\n      <td>a</td>\n      <td>1</td>\n      <td>3</td>\n      <td>20</td>\n      <td>...</td>\n      <td>0</td>\n      <td>0</td>\n      <td>1</td>\n      <td>0</td>\n      <td>0</td>\n      <td>0</td>\n      <td>73</td>\n      <td>93.4</td>\n      <td>102.9</td>\n      <td>117.0</td>\n      <td>31.3</td>\n      <td>97</td>\n      <td>36</td>\n      <td>40</td>\n      <td>30</td>\n      <td>41</td>\n      <td>22</td>\n      <td>49</td>\n      <td>26</td>\n      <td>NaN</td>\n      <td>NaN</td>\n      <td>6.0</td>\n      <td>NaN</td>\n      <td>1.0</td>\n      <td>NaN</td>\n    </tr>\n    <tr>\n      <th>4</th>\n      <td>100.0</td>\n      <td>100.0</td>\n      <td>58822</td>\n      <td>0</td>\n      <td>0</td>\n      <td>-2</td>\n      <td>2</td>\n      <td>0</td>\n      <td>2</td>\n      <td>0.0</td>\n      <td>0.0</td>\n      <td>0</td>\n      <td>0.0</td>\n      <td>5</td>\n      <td>False</td>\n      <td>NaN</td>\n      <td>2020-09-23 09:00:14.881983</td>\n      <td>48</td>\n      <td>58822.jpg</td>\n      <td>0.0</td>\n      <td>0.2</td>\n      <td>a</td>\n      <td>1</td>\n      <td>3</td>\n      <td>0</td>\n      <td>...</td>\n      <td>0</td>\n      <td>0</td>\n      <td>0</td>\n      <td>0</td>\n      <td>0</td>\n      <td>0</td>\n      <td>0</td>\n      <td>0.0</td>\n      <td>0.0</td>\n      <td>0.0</td>\n      <td>0.0</td>\n      <td>513</td>\n      <td>197</td>\n      <td>501</td>\n      <td>197</td>\n      <td>480</td>\n      <td>186</td>\n      <td>517</td>\n      <td>197</td>\n      <td>NaN</td>\n      <td>NaN</td>\n      <td>NaN</td>\n      <td>NaN</td>\n      <td>NaN</td>\n      <td>NaN</td>\n    </tr>\n  </tbody>\n</table>\n<p>5 rows × 61 columns</p>\n</div>"
     },
     "metadata": {},
     "execution_count": 13
    }
   ],
   "source": [
    "all_players.head()"
   ]
  },
  {
   "cell_type": "code",
   "execution_count": 15,
   "metadata": {},
   "outputs": [],
   "source": [
    "all_players['PP90'] = np.divide(all_players['total_points'] , all_players['total_minutes'])*90 "
   ]
  },
  {
   "cell_type": "code",
   "execution_count": 16,
   "metadata": {},
   "outputs": [],
   "source": [
    "all_players['PPMM'] = np.divide(all_players['PPG'] , all_players['now_cost']/10)"
   ]
  },
  {
   "cell_type": "code",
   "execution_count": 17,
   "metadata": {},
   "outputs": [],
   "source": [
    "all_players['VAPM'] = np.divide(all_players['PPG']-2 , all_players['now_cost']/10)"
   ]
  },
  {
   "cell_type": "code",
   "execution_count": 19,
   "metadata": {},
   "outputs": [
    {
     "output_type": "execute_result",
     "data": {
      "text/plain": [
       "      web_name  player_type_id  total_points  total_minutes       PP90  PPG      PPMM      VAPM\n",
       "575     Kilman               2            23            270   7.666667  7.7  1.878049  1.390244\n",
       "143   Chilwell               2            27            270   9.000000  9.0  1.551724  1.206897\n",
       "39   Hourihane               3            17            137  11.167883  8.5  1.416667  1.083333\n",
       "278    Bamford               4            49            490   9.000000  8.2  1.389831  1.050847\n",
       "33    Martínez               1            34            450   6.800000  6.8  1.416667  1.000000"
      ],
      "text/html": "<div>\n<style scoped>\n    .dataframe tbody tr th:only-of-type {\n        vertical-align: middle;\n    }\n\n    .dataframe tbody tr th {\n        vertical-align: top;\n    }\n\n    .dataframe thead th {\n        text-align: right;\n    }\n</style>\n<table border=\"1\" class=\"dataframe\">\n  <thead>\n    <tr style=\"text-align: right;\">\n      <th></th>\n      <th>web_name</th>\n      <th>player_type_id</th>\n      <th>total_points</th>\n      <th>total_minutes</th>\n      <th>PP90</th>\n      <th>PPG</th>\n      <th>PPMM</th>\n      <th>VAPM</th>\n    </tr>\n  </thead>\n  <tbody>\n    <tr>\n      <th>575</th>\n      <td>Kilman</td>\n      <td>2</td>\n      <td>23</td>\n      <td>270</td>\n      <td>7.666667</td>\n      <td>7.7</td>\n      <td>1.878049</td>\n      <td>1.390244</td>\n    </tr>\n    <tr>\n      <th>143</th>\n      <td>Chilwell</td>\n      <td>2</td>\n      <td>27</td>\n      <td>270</td>\n      <td>9.000000</td>\n      <td>9.0</td>\n      <td>1.551724</td>\n      <td>1.206897</td>\n    </tr>\n    <tr>\n      <th>39</th>\n      <td>Hourihane</td>\n      <td>3</td>\n      <td>17</td>\n      <td>137</td>\n      <td>11.167883</td>\n      <td>8.5</td>\n      <td>1.416667</td>\n      <td>1.083333</td>\n    </tr>\n    <tr>\n      <th>278</th>\n      <td>Bamford</td>\n      <td>4</td>\n      <td>49</td>\n      <td>490</td>\n      <td>9.000000</td>\n      <td>8.2</td>\n      <td>1.389831</td>\n      <td>1.050847</td>\n    </tr>\n    <tr>\n      <th>33</th>\n      <td>Martínez</td>\n      <td>1</td>\n      <td>34</td>\n      <td>450</td>\n      <td>6.800000</td>\n      <td>6.8</td>\n      <td>1.416667</td>\n      <td>1.000000</td>\n    </tr>\n  </tbody>\n</table>\n</div>"
     },
     "metadata": {},
     "execution_count": 19
    }
   ],
   "source": [
    "all_players[['web_name' , 'player_type_id', 'total_points' , 'total_minutes' , 'PP90' , 'PPG' , 'PPMM' , 'VAPM']][all_players['total_minutes']>100].sort_values(by='VAPM' , ascending = False).head()"
   ]
  },
  {
   "cell_type": "markdown",
   "metadata": {},
   "source": [
    "## Save cleaned data"
   ]
  },
  {
   "cell_type": "code",
   "execution_count": 20,
   "metadata": {},
   "outputs": [],
   "source": [
    "all_players.to_csv (r'./data/' + season + '/Cleaned_data/all_players.csv', index = False, header=True)\n",
    "all_teams.to_csv (r'./data/' + season + '/Cleaned_data/all_teams.csv', index = False, header = True)\n",
    "all_events.to_csv (r'./data/' + season + '/Cleaned_data/all_events.csv', index = False, header = True)\n",
    "player_types.to_csv(r'./data/' + season + '/Cleaned_data/player_types.csv', index = False, header = True)\n",
    "game_phases.to_csv(r'./data/' + season + '/Cleaned_data/game_phases.csv', index = False, header = True)\n",
    "\n",
    "player_season_history.to_csv (r'./data/' + season + '/Cleaned_data/player_season_history.csv', index = False, header=True)\n",
    "player_gameweek_history.to_csv (r'./data/' + season + '/Cleaned_data/player_gameweek_history.csv', index = False, header=True)\n",
    "player_future_fixture.to_csv (r'./data/' + season + '/Cleaned_data/player_future_fixture.csv', index = False, header=True)"
   ]
  },
  {
   "cell_type": "code",
   "execution_count": null,
   "metadata": {},
   "outputs": [],
   "source": []
  }
 ]
}