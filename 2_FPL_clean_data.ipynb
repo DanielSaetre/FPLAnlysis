{
 "metadata": {
  "language_info": {
   "codemirror_mode": {
    "name": "ipython",
    "version": 3
   },
   "file_extension": ".py",
   "mimetype": "text/x-python",
   "name": "python",
   "nbconvert_exporter": "python",
   "pygments_lexer": "ipython3",
   "version": "3.8.3-final"
  },
  "orig_nbformat": 2,
  "kernelspec": {
   "name": "Python 3.8.3 64-bit (conda)",
   "display_name": "Python 3.8.3 64-bit (conda)",
   "metadata": {
    "interpreter": {
     "hash": "fb698bdeab99cfbf9e31cab566d99a06e057f2dec3dcc8097ebabb329e860e16"
    }
   }
  }
 },
 "nbformat": 4,
 "nbformat_minor": 2,
 "cells": [
  {
   "cell_type": "code",
   "execution_count": 57,
   "metadata": {},
   "outputs": [],
   "source": [
    "import numpy as np\n",
    "import pandas as pd\n",
    "import requests\n",
    "from datetime import datetime\n",
    "import json\n",
    "\n",
    "#Set Display options\n",
    "pd.set_option('display.max_rows', 50)\n",
    "pd.set_option('display.max_columns', 50)\n",
    "pd.set_option('display.width' , 1000)"
   ]
  },
  {
   "cell_type": "code",
   "execution_count": 58,
   "metadata": {},
   "outputs": [],
   "source": [
    "# Variables\n",
    "season = \"2020-21\""
   ]
  },
  {
   "cell_type": "code",
   "execution_count": 59,
   "metadata": {},
   "outputs": [],
   "source": [
    "all_players = pd.read_csv (r'./data/' + season + '/Raw_data/all_players.csv', parse_dates= [\"news_added\"])\n",
    "all_teams = pd.read_csv (r'./data/' + season + '/Raw_data/all_teams.csv')\n",
    "all_events = pd.read_csv (r'./data/' + season + '/Raw_data/all_events.csv', parse_dates= [\"deadline_time\"])\n",
    "player_types = pd.read_csv(r'./data/' + season + '/Raw_data/player_types.csv')\n",
    "game_phases = pd.read_csv(r'./data/' + season + '/Raw_data/game_phases.csv')\n",
    "\n",
    "understat_player = pd.read_csv(r'./data/' + season + '/Raw_data/understat/understat_player.csv')\n",
    "\n",
    "player_season_history = pd.read_csv(r'./data/' + season + '/Raw_data/player_season_history.csv')\n",
    "player_gameweek_history = pd.read_csv(r'./data/' + season + '/Raw_data/player_gameweek_history.csv')\n",
    "#player_gameweek_history = pd.read_csv(r'./data/2019-20/player_past_history/player_gameweek_history_raw.csv')\n",
    "player_future_fixture = pd.read_csv(r'./data/' + season + '/Raw_data/player_future_fixture.csv', parse_dates = [\"kickoff_time\"])\n",
    "\n"
   ]
  },
  {
   "cell_type": "code",
   "execution_count": 60,
   "metadata": {},
   "outputs": [
    {
     "output_type": "execute_result",
     "data": {
      "text/plain": [
       "     id            player_name  games  time  goals        xG  assists        xA  shots  key_passes  yellow_cards  red_cards position        team_title  npg      npxG   xGChain  xGBuildup\n",
       "0   453          Son Heung-Min      7   566      8  3.090915        2  1.790165     15          16             0          0      F M         Tottenham    8  3.090915  5.330408   1.964930\n",
       "1  5555  Dominic Calvert-Lewin      7   613      8  5.774488        0  0.352826     25           4             1          0        F           Everton    8  5.774488  5.682936   1.278623\n",
       "2   755            Jamie Vardy      6   469      7  5.711000        1  0.650218     13           4             0          0      F S         Leicester    3  2.666325  3.584117   0.267574\n",
       "3  1250          Mohamed Salah      7   630      7  5.147192        0  1.946147     32          18             0          0        F         Liverpool    4  2.863685  6.762861   2.758956\n",
       "4   468          Callum Wilson      7   624      6  6.265985        1  0.920003     16           7             1          0        F  Newcastle United    3  3.982479  5.186433   0.305321"
      ],
      "text/html": "<div>\n<style scoped>\n    .dataframe tbody tr th:only-of-type {\n        vertical-align: middle;\n    }\n\n    .dataframe tbody tr th {\n        vertical-align: top;\n    }\n\n    .dataframe thead th {\n        text-align: right;\n    }\n</style>\n<table border=\"1\" class=\"dataframe\">\n  <thead>\n    <tr style=\"text-align: right;\">\n      <th></th>\n      <th>id</th>\n      <th>player_name</th>\n      <th>games</th>\n      <th>time</th>\n      <th>goals</th>\n      <th>xG</th>\n      <th>assists</th>\n      <th>xA</th>\n      <th>shots</th>\n      <th>key_passes</th>\n      <th>yellow_cards</th>\n      <th>red_cards</th>\n      <th>position</th>\n      <th>team_title</th>\n      <th>npg</th>\n      <th>npxG</th>\n      <th>xGChain</th>\n      <th>xGBuildup</th>\n    </tr>\n  </thead>\n  <tbody>\n    <tr>\n      <th>0</th>\n      <td>453</td>\n      <td>Son Heung-Min</td>\n      <td>7</td>\n      <td>566</td>\n      <td>8</td>\n      <td>3.090915</td>\n      <td>2</td>\n      <td>1.790165</td>\n      <td>15</td>\n      <td>16</td>\n      <td>0</td>\n      <td>0</td>\n      <td>F M</td>\n      <td>Tottenham</td>\n      <td>8</td>\n      <td>3.090915</td>\n      <td>5.330408</td>\n      <td>1.964930</td>\n    </tr>\n    <tr>\n      <th>1</th>\n      <td>5555</td>\n      <td>Dominic Calvert-Lewin</td>\n      <td>7</td>\n      <td>613</td>\n      <td>8</td>\n      <td>5.774488</td>\n      <td>0</td>\n      <td>0.352826</td>\n      <td>25</td>\n      <td>4</td>\n      <td>1</td>\n      <td>0</td>\n      <td>F</td>\n      <td>Everton</td>\n      <td>8</td>\n      <td>5.774488</td>\n      <td>5.682936</td>\n      <td>1.278623</td>\n    </tr>\n    <tr>\n      <th>2</th>\n      <td>755</td>\n      <td>Jamie Vardy</td>\n      <td>6</td>\n      <td>469</td>\n      <td>7</td>\n      <td>5.711000</td>\n      <td>1</td>\n      <td>0.650218</td>\n      <td>13</td>\n      <td>4</td>\n      <td>0</td>\n      <td>0</td>\n      <td>F S</td>\n      <td>Leicester</td>\n      <td>3</td>\n      <td>2.666325</td>\n      <td>3.584117</td>\n      <td>0.267574</td>\n    </tr>\n    <tr>\n      <th>3</th>\n      <td>1250</td>\n      <td>Mohamed Salah</td>\n      <td>7</td>\n      <td>630</td>\n      <td>7</td>\n      <td>5.147192</td>\n      <td>0</td>\n      <td>1.946147</td>\n      <td>32</td>\n      <td>18</td>\n      <td>0</td>\n      <td>0</td>\n      <td>F</td>\n      <td>Liverpool</td>\n      <td>4</td>\n      <td>2.863685</td>\n      <td>6.762861</td>\n      <td>2.758956</td>\n    </tr>\n    <tr>\n      <th>4</th>\n      <td>468</td>\n      <td>Callum Wilson</td>\n      <td>7</td>\n      <td>624</td>\n      <td>6</td>\n      <td>6.265985</td>\n      <td>1</td>\n      <td>0.920003</td>\n      <td>16</td>\n      <td>7</td>\n      <td>1</td>\n      <td>0</td>\n      <td>F</td>\n      <td>Newcastle United</td>\n      <td>3</td>\n      <td>3.982479</td>\n      <td>5.186433</td>\n      <td>0.305321</td>\n    </tr>\n  </tbody>\n</table>\n</div>"
     },
     "metadata": {},
     "execution_count": 60
    }
   ],
   "source": [
    "understat_player.head()"
   ]
  },
  {
   "cell_type": "markdown",
   "metadata": {},
   "source": [
    "## Rename columns"
   ]
  },
  {
   "cell_type": "code",
   "execution_count": 61,
   "metadata": {},
   "outputs": [
    {
     "output_type": "execute_result",
     "data": {
      "text/plain": [
       "   element  fixture  opponent_team  total_points  was_home          kickoff_time  team_h_score  team_a_score  round  minutes  goals_scored  assists  clean_sheets  goals_conceded  own_goals  penalties_saved  penalties_missed  yellow_cards  red_cards  saves  bonus  bps  influence  creativity  threat  ict_index  value  transfers_balance  selected  transfers_in  transfers_out\n",
       "0        1        2              8             0     False  2020-09-12T11:30:00Z             0             3      1        0             0        0             0               0          0                0                 0             0          0      0      0    0        0.0         0.0     0.0        0.0     70                  0     76656             0              0\n",
       "1        1        9             19             0      True  2020-09-19T19:00:00Z             2             1      2        0             0        0             0               0          0                0                 0             0          0      0      0    0        0.0         0.0     0.0        0.0     69             -16828     68335           995          17823\n",
       "2        1       23             11             0     False  2020-09-28T19:00:00Z             3             1      3        0             0        0             0               0          0                0                 0             0          0      0      0    0        0.0         0.0     0.0        0.0     69             -11451     59793           675          12126\n",
       "3        1       29             15             0      True  2020-10-04T13:00:00Z             2             1      4        0             0        0             0               0          0                0                 0             0          0      0      0    0        0.0         0.0     0.0        0.0     68              -5324     56403           647           5971\n",
       "4        1       44             12             0     False  2020-10-17T16:30:00Z             1             0      5        0             0        0             0               0          0                0                 0             0          0      0      0    0        0.0         0.0     0.0        0.0     68              -4224     53689           616           4840"
      ],
      "text/html": "<div>\n<style scoped>\n    .dataframe tbody tr th:only-of-type {\n        vertical-align: middle;\n    }\n\n    .dataframe tbody tr th {\n        vertical-align: top;\n    }\n\n    .dataframe thead th {\n        text-align: right;\n    }\n</style>\n<table border=\"1\" class=\"dataframe\">\n  <thead>\n    <tr style=\"text-align: right;\">\n      <th></th>\n      <th>element</th>\n      <th>fixture</th>\n      <th>opponent_team</th>\n      <th>total_points</th>\n      <th>was_home</th>\n      <th>kickoff_time</th>\n      <th>team_h_score</th>\n      <th>team_a_score</th>\n      <th>round</th>\n      <th>minutes</th>\n      <th>goals_scored</th>\n      <th>assists</th>\n      <th>clean_sheets</th>\n      <th>goals_conceded</th>\n      <th>own_goals</th>\n      <th>penalties_saved</th>\n      <th>penalties_missed</th>\n      <th>yellow_cards</th>\n      <th>red_cards</th>\n      <th>saves</th>\n      <th>bonus</th>\n      <th>bps</th>\n      <th>influence</th>\n      <th>creativity</th>\n      <th>threat</th>\n      <th>ict_index</th>\n      <th>value</th>\n      <th>transfers_balance</th>\n      <th>selected</th>\n      <th>transfers_in</th>\n      <th>transfers_out</th>\n    </tr>\n  </thead>\n  <tbody>\n    <tr>\n      <th>0</th>\n      <td>1</td>\n      <td>2</td>\n      <td>8</td>\n      <td>0</td>\n      <td>False</td>\n      <td>2020-09-12T11:30:00Z</td>\n      <td>0</td>\n      <td>3</td>\n      <td>1</td>\n      <td>0</td>\n      <td>0</td>\n      <td>0</td>\n      <td>0</td>\n      <td>0</td>\n      <td>0</td>\n      <td>0</td>\n      <td>0</td>\n      <td>0</td>\n      <td>0</td>\n      <td>0</td>\n      <td>0</td>\n      <td>0</td>\n      <td>0.0</td>\n      <td>0.0</td>\n      <td>0.0</td>\n      <td>0.0</td>\n      <td>70</td>\n      <td>0</td>\n      <td>76656</td>\n      <td>0</td>\n      <td>0</td>\n    </tr>\n    <tr>\n      <th>1</th>\n      <td>1</td>\n      <td>9</td>\n      <td>19</td>\n      <td>0</td>\n      <td>True</td>\n      <td>2020-09-19T19:00:00Z</td>\n      <td>2</td>\n      <td>1</td>\n      <td>2</td>\n      <td>0</td>\n      <td>0</td>\n      <td>0</td>\n      <td>0</td>\n      <td>0</td>\n      <td>0</td>\n      <td>0</td>\n      <td>0</td>\n      <td>0</td>\n      <td>0</td>\n      <td>0</td>\n      <td>0</td>\n      <td>0</td>\n      <td>0.0</td>\n      <td>0.0</td>\n      <td>0.0</td>\n      <td>0.0</td>\n      <td>69</td>\n      <td>-16828</td>\n      <td>68335</td>\n      <td>995</td>\n      <td>17823</td>\n    </tr>\n    <tr>\n      <th>2</th>\n      <td>1</td>\n      <td>23</td>\n      <td>11</td>\n      <td>0</td>\n      <td>False</td>\n      <td>2020-09-28T19:00:00Z</td>\n      <td>3</td>\n      <td>1</td>\n      <td>3</td>\n      <td>0</td>\n      <td>0</td>\n      <td>0</td>\n      <td>0</td>\n      <td>0</td>\n      <td>0</td>\n      <td>0</td>\n      <td>0</td>\n      <td>0</td>\n      <td>0</td>\n      <td>0</td>\n      <td>0</td>\n      <td>0</td>\n      <td>0.0</td>\n      <td>0.0</td>\n      <td>0.0</td>\n      <td>0.0</td>\n      <td>69</td>\n      <td>-11451</td>\n      <td>59793</td>\n      <td>675</td>\n      <td>12126</td>\n    </tr>\n    <tr>\n      <th>3</th>\n      <td>1</td>\n      <td>29</td>\n      <td>15</td>\n      <td>0</td>\n      <td>True</td>\n      <td>2020-10-04T13:00:00Z</td>\n      <td>2</td>\n      <td>1</td>\n      <td>4</td>\n      <td>0</td>\n      <td>0</td>\n      <td>0</td>\n      <td>0</td>\n      <td>0</td>\n      <td>0</td>\n      <td>0</td>\n      <td>0</td>\n      <td>0</td>\n      <td>0</td>\n      <td>0</td>\n      <td>0</td>\n      <td>0</td>\n      <td>0.0</td>\n      <td>0.0</td>\n      <td>0.0</td>\n      <td>0.0</td>\n      <td>68</td>\n      <td>-5324</td>\n      <td>56403</td>\n      <td>647</td>\n      <td>5971</td>\n    </tr>\n    <tr>\n      <th>4</th>\n      <td>1</td>\n      <td>44</td>\n      <td>12</td>\n      <td>0</td>\n      <td>False</td>\n      <td>2020-10-17T16:30:00Z</td>\n      <td>1</td>\n      <td>0</td>\n      <td>5</td>\n      <td>0</td>\n      <td>0</td>\n      <td>0</td>\n      <td>0</td>\n      <td>0</td>\n      <td>0</td>\n      <td>0</td>\n      <td>0</td>\n      <td>0</td>\n      <td>0</td>\n      <td>0</td>\n      <td>0</td>\n      <td>0</td>\n      <td>0.0</td>\n      <td>0.0</td>\n      <td>0.0</td>\n      <td>0.0</td>\n      <td>68</td>\n      <td>-4224</td>\n      <td>53689</td>\n      <td>616</td>\n      <td>4840</td>\n    </tr>\n  </tbody>\n</table>\n</div>"
     },
     "metadata": {},
     "execution_count": 61
    }
   ],
   "source": [
    "player_gameweek_history.head()"
   ]
  },
  {
   "cell_type": "code",
   "execution_count": 62,
   "metadata": {},
   "outputs": [],
   "source": [
    "player_gameweek_history.rename(columns = {\"element\" : \"player_id\" , \"opponent_team\" : \"opponent_team_id\" , \"fixture\" : \"fixture_id\" } , inplace = True)\n",
    "all_players.rename(columns = {\"code\" : \"player_code\", \"element_type\" : \"player_type_id\" , \"minutes\" : \"total_minutes\" , \"id\" : \"player_id\" , \"team\" : \"team_id\" , \"points_per_game\" : \"PPG\"} , inplace=True)\n",
    "all_teams.rename(columns = {\"id\" : \"team_id\" , \"code\" : \"team_code\" , \"name\" : \"team_name\" , \"short_name\" : \"team_short_name\" , \"strength\" : \"team_strength\" , \"form\" : \"team_form\"} , inplace = True)\n",
    "all_events.rename(columns = {\"id\" : \"gameweek_id\"} , inplace = True)\n",
    "player_types.rename(columns = {\"id\" : \"player_type_id\" , \"singular_name\" : \"position_name\" , \"singular_name_short\" : \"position_name_short\"} , inplace = True)\n",
    "game_phases.rename(columns = {\"id\" : \"phase_id\"} , inplace = True)\n",
    "player_season_history.rename(columns = {\"element_code\" : \"player_code\"} , inplace = True)\n",
    "player_future_fixture.rename(columns = {\"id\" : \"fixture_id\" , \"team_h\" : \"home_team_id\" , \"team_a\" : \"away_team_id\" , \"events\" : \"gameweek_id\" , \"code\" : \"fixture_code\"} , inplace = True)\n",
    "#player_gameweek_history.rename(columns = {} , inplace = True)\n"
   ]
  },
  {
   "cell_type": "markdown",
   "metadata": {},
   "source": [
    "## Drop columns"
   ]
  },
  {
   "cell_type": "code",
   "execution_count": 63,
   "metadata": {},
   "outputs": [
    {
     "output_type": "execute_result",
     "data": {
      "text/plain": [
       "   gameweek_id        name             deadline_time  average_entry_score  finished  data_checked  highest_scoring_entry  deadline_time_epoch  deadline_time_game_offset  highest_score  is_previous  is_current  is_next                                         chip_plays  most_selected  most_transferred_in  top_element           top_element_info  transfers_made  most_captained  most_vice_captained\n",
       "0            1  Gameweek 1 2020-09-12 10:00:00+00:00                   50      True          True              4761681.0           1599904800                          0          142.0        False       False    False  [{'chip_name': 'bboost', 'num_played': 112843}...          259.0                 12.0        254.0  {'id': 254, 'points': 20}               0             4.0                  4.0\n",
       "1            2  Gameweek 2 2020-09-19 10:00:00+00:00                   59      True          True              6234344.0           1600509600                          0          165.0        False       False    False  [{'chip_name': 'bboost', 'num_played': 94615},...          259.0                302.0        390.0  {'id': 390, 'points': 24}        14637421             4.0                254.0\n",
       "2            3  Gameweek 3 2020-09-26 10:00:00+00:00                   43      True          True              6223553.0           1601114400                          0          119.0        False       False    False  [{'chip_name': 'bboost', 'num_played': 86797},...          259.0                164.0        224.0  {'id': 224, 'points': 17}        20387878           272.0                254.0\n",
       "3            4  Gameweek 4 2020-10-03 10:00:00+00:00                   48      True          True              6563000.0           1601719200                          0          160.0        False       False    False  [{'chip_name': 'bboost', 'num_played': 82267},...          272.0                164.0         37.0   {'id': 37, 'points': 24}        14570655           254.0                272.0\n",
       "4            5  Gameweek 5 2020-10-17 10:00:00+00:00                   60      True          True              7124486.0           1602928800                          0          136.0        False       False    False  [{'chip_name': 'bboost', 'num_played': 80554},...          164.0                390.0        117.0  {'id': 117, 'points': 16}        18391649           390.0                254.0"
      ],
      "text/html": "<div>\n<style scoped>\n    .dataframe tbody tr th:only-of-type {\n        vertical-align: middle;\n    }\n\n    .dataframe tbody tr th {\n        vertical-align: top;\n    }\n\n    .dataframe thead th {\n        text-align: right;\n    }\n</style>\n<table border=\"1\" class=\"dataframe\">\n  <thead>\n    <tr style=\"text-align: right;\">\n      <th></th>\n      <th>gameweek_id</th>\n      <th>name</th>\n      <th>deadline_time</th>\n      <th>average_entry_score</th>\n      <th>finished</th>\n      <th>data_checked</th>\n      <th>highest_scoring_entry</th>\n      <th>deadline_time_epoch</th>\n      <th>deadline_time_game_offset</th>\n      <th>highest_score</th>\n      <th>is_previous</th>\n      <th>is_current</th>\n      <th>is_next</th>\n      <th>chip_plays</th>\n      <th>most_selected</th>\n      <th>most_transferred_in</th>\n      <th>top_element</th>\n      <th>top_element_info</th>\n      <th>transfers_made</th>\n      <th>most_captained</th>\n      <th>most_vice_captained</th>\n    </tr>\n  </thead>\n  <tbody>\n    <tr>\n      <th>0</th>\n      <td>1</td>\n      <td>Gameweek 1</td>\n      <td>2020-09-12 10:00:00+00:00</td>\n      <td>50</td>\n      <td>True</td>\n      <td>True</td>\n      <td>4761681.0</td>\n      <td>1599904800</td>\n      <td>0</td>\n      <td>142.0</td>\n      <td>False</td>\n      <td>False</td>\n      <td>False</td>\n      <td>[{'chip_name': 'bboost', 'num_played': 112843}...</td>\n      <td>259.0</td>\n      <td>12.0</td>\n      <td>254.0</td>\n      <td>{'id': 254, 'points': 20}</td>\n      <td>0</td>\n      <td>4.0</td>\n      <td>4.0</td>\n    </tr>\n    <tr>\n      <th>1</th>\n      <td>2</td>\n      <td>Gameweek 2</td>\n      <td>2020-09-19 10:00:00+00:00</td>\n      <td>59</td>\n      <td>True</td>\n      <td>True</td>\n      <td>6234344.0</td>\n      <td>1600509600</td>\n      <td>0</td>\n      <td>165.0</td>\n      <td>False</td>\n      <td>False</td>\n      <td>False</td>\n      <td>[{'chip_name': 'bboost', 'num_played': 94615},...</td>\n      <td>259.0</td>\n      <td>302.0</td>\n      <td>390.0</td>\n      <td>{'id': 390, 'points': 24}</td>\n      <td>14637421</td>\n      <td>4.0</td>\n      <td>254.0</td>\n    </tr>\n    <tr>\n      <th>2</th>\n      <td>3</td>\n      <td>Gameweek 3</td>\n      <td>2020-09-26 10:00:00+00:00</td>\n      <td>43</td>\n      <td>True</td>\n      <td>True</td>\n      <td>6223553.0</td>\n      <td>1601114400</td>\n      <td>0</td>\n      <td>119.0</td>\n      <td>False</td>\n      <td>False</td>\n      <td>False</td>\n      <td>[{'chip_name': 'bboost', 'num_played': 86797},...</td>\n      <td>259.0</td>\n      <td>164.0</td>\n      <td>224.0</td>\n      <td>{'id': 224, 'points': 17}</td>\n      <td>20387878</td>\n      <td>272.0</td>\n      <td>254.0</td>\n    </tr>\n    <tr>\n      <th>3</th>\n      <td>4</td>\n      <td>Gameweek 4</td>\n      <td>2020-10-03 10:00:00+00:00</td>\n      <td>48</td>\n      <td>True</td>\n      <td>True</td>\n      <td>6563000.0</td>\n      <td>1601719200</td>\n      <td>0</td>\n      <td>160.0</td>\n      <td>False</td>\n      <td>False</td>\n      <td>False</td>\n      <td>[{'chip_name': 'bboost', 'num_played': 82267},...</td>\n      <td>272.0</td>\n      <td>164.0</td>\n      <td>37.0</td>\n      <td>{'id': 37, 'points': 24}</td>\n      <td>14570655</td>\n      <td>254.0</td>\n      <td>272.0</td>\n    </tr>\n    <tr>\n      <th>4</th>\n      <td>5</td>\n      <td>Gameweek 5</td>\n      <td>2020-10-17 10:00:00+00:00</td>\n      <td>60</td>\n      <td>True</td>\n      <td>True</td>\n      <td>7124486.0</td>\n      <td>1602928800</td>\n      <td>0</td>\n      <td>136.0</td>\n      <td>False</td>\n      <td>False</td>\n      <td>False</td>\n      <td>[{'chip_name': 'bboost', 'num_played': 80554},...</td>\n      <td>164.0</td>\n      <td>390.0</td>\n      <td>117.0</td>\n      <td>{'id': 117, 'points': 16}</td>\n      <td>18391649</td>\n      <td>390.0</td>\n      <td>254.0</td>\n    </tr>\n  </tbody>\n</table>\n</div>"
     },
     "metadata": {},
     "execution_count": 63
    }
   ],
   "source": [
    "all_events.head(5)"
   ]
  },
  {
   "cell_type": "code",
   "execution_count": 64,
   "metadata": {},
   "outputs": [],
   "source": [
    "all_events.drop(columns = [\"deadline_time_epoch\"] , inplace = True)\n",
    "player_types.drop(columns = [\"plural_name\" , \"plural_name_short\"] , inplace = True)\n",
    "all_players.drop(columns = [\n",
    "    \"squad_number\" , \n",
    "    \"special\" , \n",
    "    #\"transfers_in\" , \n",
    "    #\"transfers_out\" , \n",
    "    #\"first_name\" , \n",
    "    #\"second_name\"\n",
    "    ] , inplace = True)"
   ]
  },
  {
   "cell_type": "markdown",
   "metadata": {},
   "source": [
    "## Change date columns"
   ]
  },
  {
   "cell_type": "code",
   "execution_count": 65,
   "metadata": {},
   "outputs": [],
   "source": [
    "all_players['news_added'] = all_players['news_added'].dt.tz_localize(None)\n",
    "all_events['deadline_time'] = all_events['deadline_time'].dt.tz_localize(None)\n",
    "player_future_fixture['kickoff_time'] = player_future_fixture['kickoff_time'].dt.tz_localize(None)\n",
    "\n",
    "player_gameweek_history['kickoff_time'] = pd.to_datetime(player_gameweek_history['kickoff_time'])\n",
    "player_gameweek_history['kickoff_time'] = player_gameweek_history['kickoff_time'].dt.tz_localize(None)"
   ]
  },
  {
   "cell_type": "markdown",
   "metadata": {},
   "source": [
    "\n",
    "## Add Columns"
   ]
  },
  {
   "cell_type": "code",
   "execution_count": 66,
   "metadata": {},
   "outputs": [
    {
     "output_type": "execute_result",
     "data": {
      "text/plain": [
       "   fixture_id  fixture_code  home_team_id  team_h_score  away_team_id  team_a_score  event  finished  minutes  provisional_start_time        kickoff_time   event_name  is_home  difficulty  player_id\n",
       "0          69       2128356             1           NaN             2           NaN    8.0     False        0                   False 2020-11-08 19:15:00   Gameweek 8     True           3          1\n",
       "1          82       2128369            10           NaN             1           NaN    9.0     False        0                   False 2020-11-22 16:30:00   Gameweek 9    False           3          1\n",
       "2          89       2128376             1           NaN            20           NaN   10.0     False        0                   False 2020-11-28 15:00:00  Gameweek 10     True           3          1\n",
       "3         106       2128393            17           NaN             1           NaN   11.0     False        0                   False 2020-12-05 15:00:00  Gameweek 11    False           4          1\n",
       "4         109       2128396             1           NaN             4           NaN   12.0     False        0                   False 2020-12-13 15:00:00  Gameweek 12     True           2          1"
      ],
      "text/html": "<div>\n<style scoped>\n    .dataframe tbody tr th:only-of-type {\n        vertical-align: middle;\n    }\n\n    .dataframe tbody tr th {\n        vertical-align: top;\n    }\n\n    .dataframe thead th {\n        text-align: right;\n    }\n</style>\n<table border=\"1\" class=\"dataframe\">\n  <thead>\n    <tr style=\"text-align: right;\">\n      <th></th>\n      <th>fixture_id</th>\n      <th>fixture_code</th>\n      <th>home_team_id</th>\n      <th>team_h_score</th>\n      <th>away_team_id</th>\n      <th>team_a_score</th>\n      <th>event</th>\n      <th>finished</th>\n      <th>minutes</th>\n      <th>provisional_start_time</th>\n      <th>kickoff_time</th>\n      <th>event_name</th>\n      <th>is_home</th>\n      <th>difficulty</th>\n      <th>player_id</th>\n    </tr>\n  </thead>\n  <tbody>\n    <tr>\n      <th>0</th>\n      <td>69</td>\n      <td>2128356</td>\n      <td>1</td>\n      <td>NaN</td>\n      <td>2</td>\n      <td>NaN</td>\n      <td>8.0</td>\n      <td>False</td>\n      <td>0</td>\n      <td>False</td>\n      <td>2020-11-08 19:15:00</td>\n      <td>Gameweek 8</td>\n      <td>True</td>\n      <td>3</td>\n      <td>1</td>\n    </tr>\n    <tr>\n      <th>1</th>\n      <td>82</td>\n      <td>2128369</td>\n      <td>10</td>\n      <td>NaN</td>\n      <td>1</td>\n      <td>NaN</td>\n      <td>9.0</td>\n      <td>False</td>\n      <td>0</td>\n      <td>False</td>\n      <td>2020-11-22 16:30:00</td>\n      <td>Gameweek 9</td>\n      <td>False</td>\n      <td>3</td>\n      <td>1</td>\n    </tr>\n    <tr>\n      <th>2</th>\n      <td>89</td>\n      <td>2128376</td>\n      <td>1</td>\n      <td>NaN</td>\n      <td>20</td>\n      <td>NaN</td>\n      <td>10.0</td>\n      <td>False</td>\n      <td>0</td>\n      <td>False</td>\n      <td>2020-11-28 15:00:00</td>\n      <td>Gameweek 10</td>\n      <td>True</td>\n      <td>3</td>\n      <td>1</td>\n    </tr>\n    <tr>\n      <th>3</th>\n      <td>106</td>\n      <td>2128393</td>\n      <td>17</td>\n      <td>NaN</td>\n      <td>1</td>\n      <td>NaN</td>\n      <td>11.0</td>\n      <td>False</td>\n      <td>0</td>\n      <td>False</td>\n      <td>2020-12-05 15:00:00</td>\n      <td>Gameweek 11</td>\n      <td>False</td>\n      <td>4</td>\n      <td>1</td>\n    </tr>\n    <tr>\n      <th>4</th>\n      <td>109</td>\n      <td>2128396</td>\n      <td>1</td>\n      <td>NaN</td>\n      <td>4</td>\n      <td>NaN</td>\n      <td>12.0</td>\n      <td>False</td>\n      <td>0</td>\n      <td>False</td>\n      <td>2020-12-13 15:00:00</td>\n      <td>Gameweek 12</td>\n      <td>True</td>\n      <td>2</td>\n      <td>1</td>\n    </tr>\n  </tbody>\n</table>\n</div>"
     },
     "metadata": {},
     "execution_count": 66
    }
   ],
   "source": [
    "player_future_fixture.head()"
   ]
  },
  {
   "cell_type": "code",
   "execution_count": 67,
   "metadata": {},
   "outputs": [],
   "source": [
    "def opponent_team(row):\n",
    "    if row['is_home'] == True:\n",
    "        val = row['away_team_id']\n",
    "    elif row['is_home'] == False:\n",
    "        val = row['home_team_id']\n",
    "    return val\n",
    "\n",
    "def team(row):\n",
    "    if row['is_home'] == False:\n",
    "        val = row['away_team_id']\n",
    "    elif row['is_home'] == True:\n",
    "        val = row['home_team_id']\n",
    "    return val\n",
    "\n",
    "\n",
    "player_future_fixture['opponent_team_id'] = player_future_fixture.apply(opponent_team,axis=1)\n",
    "player_future_fixture['team_id'] = player_future_fixture.apply(team,axis=1)\n"
   ]
  },
  {
   "cell_type": "markdown",
   "metadata": {},
   "source": [
    "## Calculate New Columns"
   ]
  },
  {
   "cell_type": "code",
   "execution_count": 68,
   "metadata": {},
   "outputs": [
    {
     "output_type": "execute_result",
     "data": {
      "text/plain": [
       "Index(['chance_of_playing_next_round', 'chance_of_playing_this_round', 'player_code', 'cost_change_event', 'cost_change_event_fall', 'cost_change_start', 'cost_change_start_fall', 'dreamteam_count', 'player_type_id', 'ep_next', 'ep_this', 'event_points', 'first_name', 'form', 'player_id', 'in_dreamteam', 'news', 'news_added', 'now_cost', 'photo', 'PPG', 'second_name', 'selected_by_percent', 'status', 'team_id', 'team_code', 'total_points', 'transfers_in', 'transfers_in_event', 'transfers_out', 'transfers_out_event', 'value_form', 'value_season', 'web_name', 'total_minutes', 'goals_scored', 'assists', 'clean_sheets', 'goals_conceded', 'own_goals', 'penalties_saved', 'penalties_missed', 'yellow_cards', 'red_cards', 'saves', 'bonus', 'bps', 'influence', 'creativity', 'threat', 'ict_index', 'influence_rank', 'influence_rank_type', 'creativity_rank', 'creativity_rank_type', 'threat_rank', 'threat_rank_type', 'ict_index_rank', 'ict_index_rank_type', 'corners_and_indirect_freekicks_order',\n",
       "       'corners_and_indirect_freekicks_text', 'direct_freekicks_order', 'direct_freekicks_text', 'penalties_order', 'penalties_text'],\n",
       "      dtype='object')"
      ]
     },
     "metadata": {},
     "execution_count": 68
    }
   ],
   "source": [
    "all_players.columns"
   ]
  },
  {
   "cell_type": "code",
   "execution_count": 69,
   "metadata": {},
   "outputs": [
    {
     "output_type": "execute_result",
     "data": {
      "text/plain": [
       "   chance_of_playing_next_round  chance_of_playing_this_round  player_code  cost_change_event  cost_change_event_fall  cost_change_start  cost_change_start_fall  dreamteam_count  player_type_id  ep_next  ep_this  event_points      first_name  form  player_id  in_dreamteam                                               news                 news_added  now_cost      photo  PPG           second_name  selected_by_percent status  team_id  ...  penalties_saved  penalties_missed  yellow_cards  red_cards  saves  bonus  bps  influence creativity  threat  ict_index  influence_rank  influence_rank_type  creativity_rank  creativity_rank_type  threat_rank  threat_rank_type  ict_index_rank  ict_index_rank_type  corners_and_indirect_freekicks_order  corners_and_indirect_freekicks_text  direct_freekicks_order  direct_freekicks_text  penalties_order  penalties_text\n",
       "0                           0.0                           0.0        37605                  0                       0                 -2                       2                0               3      0.0      0.0             0           Mesut   0.0          1         False  Not included in Arsenal's 25-man Premier Leagu... 2020-10-20 22:30:18.118477        68  37605.jpg  0.0                  Özil                  0.6      n        1  ...                0                 0             0          0      0      0    0        0.0        0.0     0.0        0.0             595                  237              596                   237          596               237             596                  237                                   NaN                                  NaN                     NaN                    NaN              NaN             NaN\n",
       "1                           0.0                           0.0        39476                  0                       0                 -1                       1                0               2      0.0      0.0             0        Sokratis   0.0          2         False  Not included in Arsenal's 25-man Premier Leagu... 2020-10-21 10:30:18.546407        49  39476.jpg  0.0      Papastathopoulos                  0.1      n        1  ...                0                 0             0          0      0      0    0        0.0        0.0     0.0        0.0             542                  205              535                   205          521               197             547                  205                                   NaN                                  NaN                     NaN                    NaN              NaN             NaN\n",
       "2                          50.0                          50.0        41270                  0                       0                  0                       0                0               2      0.8      0.5             0           David   1.0          3         False               Thigh injury - 50% chance of playing 2020-10-25 21:30:13.186040        55  41270.jpg  1.4  Luiz Moreira Marinho                  0.9      d        1  ...                0                 0             0          0      0      0   51       66.6        9.8    21.0        9.7             187                   79              295                    93          222                64             246                   82                                   NaN                                  NaN                     4.0                    NaN              NaN             NaN\n",
       "3                         100.0                         100.0        54694                  0                       0                 -3                       3                0               3      4.5      4.0             8  Pierre-Emerick   4.0          4         False                                                NaN 2020-10-08 09:00:12.305506       117  54694.jpg  4.0            Aubameyang                 13.7      a        1  ...                0                 0             2          0      0      1  104      127.4      119.5   143.0       39.0              71                   26               39                    30           41                22              39                   22                                   NaN                                  NaN                     6.0                    NaN              1.0             NaN\n",
       "4                         100.0                         100.0        58822                  0                       0                 -3                       3                0               2      0.5      0.0             0          Cédric   0.0          5         False                                                NaN 2020-09-23 09:00:14.881983        47  58822.jpg  0.0                Soares                  0.2      a        1  ...                0                 0             0          0      0      0    0        0.0        0.0     0.0        0.0             520                  198              510                   198          488               188             525                  198                                   NaN                                  NaN                     NaN                    NaN              NaN             NaN\n",
       "\n",
       "[5 rows x 65 columns]"
      ],
      "text/html": "<div>\n<style scoped>\n    .dataframe tbody tr th:only-of-type {\n        vertical-align: middle;\n    }\n\n    .dataframe tbody tr th {\n        vertical-align: top;\n    }\n\n    .dataframe thead th {\n        text-align: right;\n    }\n</style>\n<table border=\"1\" class=\"dataframe\">\n  <thead>\n    <tr style=\"text-align: right;\">\n      <th></th>\n      <th>chance_of_playing_next_round</th>\n      <th>chance_of_playing_this_round</th>\n      <th>player_code</th>\n      <th>cost_change_event</th>\n      <th>cost_change_event_fall</th>\n      <th>cost_change_start</th>\n      <th>cost_change_start_fall</th>\n      <th>dreamteam_count</th>\n      <th>player_type_id</th>\n      <th>ep_next</th>\n      <th>ep_this</th>\n      <th>event_points</th>\n      <th>first_name</th>\n      <th>form</th>\n      <th>player_id</th>\n      <th>in_dreamteam</th>\n      <th>news</th>\n      <th>news_added</th>\n      <th>now_cost</th>\n      <th>photo</th>\n      <th>PPG</th>\n      <th>second_name</th>\n      <th>selected_by_percent</th>\n      <th>status</th>\n      <th>team_id</th>\n      <th>...</th>\n      <th>penalties_saved</th>\n      <th>penalties_missed</th>\n      <th>yellow_cards</th>\n      <th>red_cards</th>\n      <th>saves</th>\n      <th>bonus</th>\n      <th>bps</th>\n      <th>influence</th>\n      <th>creativity</th>\n      <th>threat</th>\n      <th>ict_index</th>\n      <th>influence_rank</th>\n      <th>influence_rank_type</th>\n      <th>creativity_rank</th>\n      <th>creativity_rank_type</th>\n      <th>threat_rank</th>\n      <th>threat_rank_type</th>\n      <th>ict_index_rank</th>\n      <th>ict_index_rank_type</th>\n      <th>corners_and_indirect_freekicks_order</th>\n      <th>corners_and_indirect_freekicks_text</th>\n      <th>direct_freekicks_order</th>\n      <th>direct_freekicks_text</th>\n      <th>penalties_order</th>\n      <th>penalties_text</th>\n    </tr>\n  </thead>\n  <tbody>\n    <tr>\n      <th>0</th>\n      <td>0.0</td>\n      <td>0.0</td>\n      <td>37605</td>\n      <td>0</td>\n      <td>0</td>\n      <td>-2</td>\n      <td>2</td>\n      <td>0</td>\n      <td>3</td>\n      <td>0.0</td>\n      <td>0.0</td>\n      <td>0</td>\n      <td>Mesut</td>\n      <td>0.0</td>\n      <td>1</td>\n      <td>False</td>\n      <td>Not included in Arsenal's 25-man Premier Leagu...</td>\n      <td>2020-10-20 22:30:18.118477</td>\n      <td>68</td>\n      <td>37605.jpg</td>\n      <td>0.0</td>\n      <td>Özil</td>\n      <td>0.6</td>\n      <td>n</td>\n      <td>1</td>\n      <td>...</td>\n      <td>0</td>\n      <td>0</td>\n      <td>0</td>\n      <td>0</td>\n      <td>0</td>\n      <td>0</td>\n      <td>0</td>\n      <td>0.0</td>\n      <td>0.0</td>\n      <td>0.0</td>\n      <td>0.0</td>\n      <td>595</td>\n      <td>237</td>\n      <td>596</td>\n      <td>237</td>\n      <td>596</td>\n      <td>237</td>\n      <td>596</td>\n      <td>237</td>\n      <td>NaN</td>\n      <td>NaN</td>\n      <td>NaN</td>\n      <td>NaN</td>\n      <td>NaN</td>\n      <td>NaN</td>\n    </tr>\n    <tr>\n      <th>1</th>\n      <td>0.0</td>\n      <td>0.0</td>\n      <td>39476</td>\n      <td>0</td>\n      <td>0</td>\n      <td>-1</td>\n      <td>1</td>\n      <td>0</td>\n      <td>2</td>\n      <td>0.0</td>\n      <td>0.0</td>\n      <td>0</td>\n      <td>Sokratis</td>\n      <td>0.0</td>\n      <td>2</td>\n      <td>False</td>\n      <td>Not included in Arsenal's 25-man Premier Leagu...</td>\n      <td>2020-10-21 10:30:18.546407</td>\n      <td>49</td>\n      <td>39476.jpg</td>\n      <td>0.0</td>\n      <td>Papastathopoulos</td>\n      <td>0.1</td>\n      <td>n</td>\n      <td>1</td>\n      <td>...</td>\n      <td>0</td>\n      <td>0</td>\n      <td>0</td>\n      <td>0</td>\n      <td>0</td>\n      <td>0</td>\n      <td>0</td>\n      <td>0.0</td>\n      <td>0.0</td>\n      <td>0.0</td>\n      <td>0.0</td>\n      <td>542</td>\n      <td>205</td>\n      <td>535</td>\n      <td>205</td>\n      <td>521</td>\n      <td>197</td>\n      <td>547</td>\n      <td>205</td>\n      <td>NaN</td>\n      <td>NaN</td>\n      <td>NaN</td>\n      <td>NaN</td>\n      <td>NaN</td>\n      <td>NaN</td>\n    </tr>\n    <tr>\n      <th>2</th>\n      <td>50.0</td>\n      <td>50.0</td>\n      <td>41270</td>\n      <td>0</td>\n      <td>0</td>\n      <td>0</td>\n      <td>0</td>\n      <td>0</td>\n      <td>2</td>\n      <td>0.8</td>\n      <td>0.5</td>\n      <td>0</td>\n      <td>David</td>\n      <td>1.0</td>\n      <td>3</td>\n      <td>False</td>\n      <td>Thigh injury - 50% chance of playing</td>\n      <td>2020-10-25 21:30:13.186040</td>\n      <td>55</td>\n      <td>41270.jpg</td>\n      <td>1.4</td>\n      <td>Luiz Moreira Marinho</td>\n      <td>0.9</td>\n      <td>d</td>\n      <td>1</td>\n      <td>...</td>\n      <td>0</td>\n      <td>0</td>\n      <td>0</td>\n      <td>0</td>\n      <td>0</td>\n      <td>0</td>\n      <td>51</td>\n      <td>66.6</td>\n      <td>9.8</td>\n      <td>21.0</td>\n      <td>9.7</td>\n      <td>187</td>\n      <td>79</td>\n      <td>295</td>\n      <td>93</td>\n      <td>222</td>\n      <td>64</td>\n      <td>246</td>\n      <td>82</td>\n      <td>NaN</td>\n      <td>NaN</td>\n      <td>4.0</td>\n      <td>NaN</td>\n      <td>NaN</td>\n      <td>NaN</td>\n    </tr>\n    <tr>\n      <th>3</th>\n      <td>100.0</td>\n      <td>100.0</td>\n      <td>54694</td>\n      <td>0</td>\n      <td>0</td>\n      <td>-3</td>\n      <td>3</td>\n      <td>0</td>\n      <td>3</td>\n      <td>4.5</td>\n      <td>4.0</td>\n      <td>8</td>\n      <td>Pierre-Emerick</td>\n      <td>4.0</td>\n      <td>4</td>\n      <td>False</td>\n      <td>NaN</td>\n      <td>2020-10-08 09:00:12.305506</td>\n      <td>117</td>\n      <td>54694.jpg</td>\n      <td>4.0</td>\n      <td>Aubameyang</td>\n      <td>13.7</td>\n      <td>a</td>\n      <td>1</td>\n      <td>...</td>\n      <td>0</td>\n      <td>0</td>\n      <td>2</td>\n      <td>0</td>\n      <td>0</td>\n      <td>1</td>\n      <td>104</td>\n      <td>127.4</td>\n      <td>119.5</td>\n      <td>143.0</td>\n      <td>39.0</td>\n      <td>71</td>\n      <td>26</td>\n      <td>39</td>\n      <td>30</td>\n      <td>41</td>\n      <td>22</td>\n      <td>39</td>\n      <td>22</td>\n      <td>NaN</td>\n      <td>NaN</td>\n      <td>6.0</td>\n      <td>NaN</td>\n      <td>1.0</td>\n      <td>NaN</td>\n    </tr>\n    <tr>\n      <th>4</th>\n      <td>100.0</td>\n      <td>100.0</td>\n      <td>58822</td>\n      <td>0</td>\n      <td>0</td>\n      <td>-3</td>\n      <td>3</td>\n      <td>0</td>\n      <td>2</td>\n      <td>0.5</td>\n      <td>0.0</td>\n      <td>0</td>\n      <td>Cédric</td>\n      <td>0.0</td>\n      <td>5</td>\n      <td>False</td>\n      <td>NaN</td>\n      <td>2020-09-23 09:00:14.881983</td>\n      <td>47</td>\n      <td>58822.jpg</td>\n      <td>0.0</td>\n      <td>Soares</td>\n      <td>0.2</td>\n      <td>a</td>\n      <td>1</td>\n      <td>...</td>\n      <td>0</td>\n      <td>0</td>\n      <td>0</td>\n      <td>0</td>\n      <td>0</td>\n      <td>0</td>\n      <td>0</td>\n      <td>0.0</td>\n      <td>0.0</td>\n      <td>0.0</td>\n      <td>0.0</td>\n      <td>520</td>\n      <td>198</td>\n      <td>510</td>\n      <td>198</td>\n      <td>488</td>\n      <td>188</td>\n      <td>525</td>\n      <td>198</td>\n      <td>NaN</td>\n      <td>NaN</td>\n      <td>NaN</td>\n      <td>NaN</td>\n      <td>NaN</td>\n      <td>NaN</td>\n    </tr>\n  </tbody>\n</table>\n<p>5 rows × 65 columns</p>\n</div>"
     },
     "metadata": {},
     "execution_count": 69
    }
   ],
   "source": [
    "all_players.head()"
   ]
  },
  {
   "cell_type": "code",
   "execution_count": 70,
   "metadata": {},
   "outputs": [],
   "source": [
    "all_players['PP90'] = np.divide(all_players['total_points'] , all_players['total_minutes'])*90 "
   ]
  },
  {
   "cell_type": "code",
   "execution_count": 71,
   "metadata": {},
   "outputs": [],
   "source": [
    "all_players['PPMM'] = np.divide(all_players['PPG'] , all_players['now_cost']/10)"
   ]
  },
  {
   "cell_type": "code",
   "execution_count": 72,
   "metadata": {},
   "outputs": [],
   "source": [
    "all_players['VAPM'] = np.divide(all_players['PPG']-2 , all_players['now_cost']/10)"
   ]
  },
  {
   "cell_type": "code",
   "execution_count": 74,
   "metadata": {},
   "outputs": [
    {
     "output_type": "execute_result",
     "data": {
      "text/plain": [
       "          web_name  now_cost  player_type_id  total_points  total_minutes       PP90   PPG      PPMM      VAPM\n",
       "582         Kilman        43               2            29            360   7.250000   7.2  1.674419  1.209302\n",
       "132          Zouma        52               2            46            540   7.666667   7.7  1.480769  1.096154\n",
       "39       Hourihane        60               3            17            137  11.167883   8.5  1.416667  1.083333\n",
       "146       Chilwell        59               2            33            360   8.250000   8.2  1.389831  1.050847\n",
       "43        Grealish        73               3            54            540   9.000000   9.0  1.232877  0.958904\n",
       "343        Cancelo        54               2            21            270   7.000000   7.0  1.296296  0.925926\n",
       "283        Bamford        60               4            51            580   7.913793   7.3  1.216667  0.883333\n",
       "486         Aurier        52               2            13            180   6.500000   6.5  1.250000  0.865385\n",
       "424         Wilson        65               4            53            620   7.693548   7.6  1.169231  0.861538\n",
       "487            Son        96               3            71            550  11.618182  10.1  1.052083  0.843750\n",
       "149          Mendy        51               1            19            270   6.333333   6.3  1.235294  0.843137\n",
       "574          Saïss        53               2            38            517   6.615087   6.3  1.188679  0.811321\n",
       "462    Vestergaard        46               2            34            495   6.181818   5.7  1.239130  0.804348\n",
       "33        Martínez        48               1            34            540   5.666667   5.7  1.187500  0.770833\n",
       "47           Mings        52               2            36            540   6.000000   6.0  1.153846  0.769231\n",
       "129       Jorginho        53               3            36            436   7.431193   6.0  1.132075  0.754717\n",
       "485           Kane       109               4            71            623  10.256822  10.1  0.926606  0.743119\n",
       "253          Vardy       100               4            55            468  10.576923   9.2  0.920000  0.720000\n",
       "197  Calvert-Lewin        77               4            52            608   7.697368   7.4  0.961039  0.701299\n",
       "168           Zaha        74               3            49            630   7.000000   7.0  0.945946  0.675676"
      ],
      "text/html": "<div>\n<style scoped>\n    .dataframe tbody tr th:only-of-type {\n        vertical-align: middle;\n    }\n\n    .dataframe tbody tr th {\n        vertical-align: top;\n    }\n\n    .dataframe thead th {\n        text-align: right;\n    }\n</style>\n<table border=\"1\" class=\"dataframe\">\n  <thead>\n    <tr style=\"text-align: right;\">\n      <th></th>\n      <th>web_name</th>\n      <th>now_cost</th>\n      <th>player_type_id</th>\n      <th>total_points</th>\n      <th>total_minutes</th>\n      <th>PP90</th>\n      <th>PPG</th>\n      <th>PPMM</th>\n      <th>VAPM</th>\n    </tr>\n  </thead>\n  <tbody>\n    <tr>\n      <th>582</th>\n      <td>Kilman</td>\n      <td>43</td>\n      <td>2</td>\n      <td>29</td>\n      <td>360</td>\n      <td>7.250000</td>\n      <td>7.2</td>\n      <td>1.674419</td>\n      <td>1.209302</td>\n    </tr>\n    <tr>\n      <th>132</th>\n      <td>Zouma</td>\n      <td>52</td>\n      <td>2</td>\n      <td>46</td>\n      <td>540</td>\n      <td>7.666667</td>\n      <td>7.7</td>\n      <td>1.480769</td>\n      <td>1.096154</td>\n    </tr>\n    <tr>\n      <th>39</th>\n      <td>Hourihane</td>\n      <td>60</td>\n      <td>3</td>\n      <td>17</td>\n      <td>137</td>\n      <td>11.167883</td>\n      <td>8.5</td>\n      <td>1.416667</td>\n      <td>1.083333</td>\n    </tr>\n    <tr>\n      <th>146</th>\n      <td>Chilwell</td>\n      <td>59</td>\n      <td>2</td>\n      <td>33</td>\n      <td>360</td>\n      <td>8.250000</td>\n      <td>8.2</td>\n      <td>1.389831</td>\n      <td>1.050847</td>\n    </tr>\n    <tr>\n      <th>43</th>\n      <td>Grealish</td>\n      <td>73</td>\n      <td>3</td>\n      <td>54</td>\n      <td>540</td>\n      <td>9.000000</td>\n      <td>9.0</td>\n      <td>1.232877</td>\n      <td>0.958904</td>\n    </tr>\n    <tr>\n      <th>343</th>\n      <td>Cancelo</td>\n      <td>54</td>\n      <td>2</td>\n      <td>21</td>\n      <td>270</td>\n      <td>7.000000</td>\n      <td>7.0</td>\n      <td>1.296296</td>\n      <td>0.925926</td>\n    </tr>\n    <tr>\n      <th>283</th>\n      <td>Bamford</td>\n      <td>60</td>\n      <td>4</td>\n      <td>51</td>\n      <td>580</td>\n      <td>7.913793</td>\n      <td>7.3</td>\n      <td>1.216667</td>\n      <td>0.883333</td>\n    </tr>\n    <tr>\n      <th>486</th>\n      <td>Aurier</td>\n      <td>52</td>\n      <td>2</td>\n      <td>13</td>\n      <td>180</td>\n      <td>6.500000</td>\n      <td>6.5</td>\n      <td>1.250000</td>\n      <td>0.865385</td>\n    </tr>\n    <tr>\n      <th>424</th>\n      <td>Wilson</td>\n      <td>65</td>\n      <td>4</td>\n      <td>53</td>\n      <td>620</td>\n      <td>7.693548</td>\n      <td>7.6</td>\n      <td>1.169231</td>\n      <td>0.861538</td>\n    </tr>\n    <tr>\n      <th>487</th>\n      <td>Son</td>\n      <td>96</td>\n      <td>3</td>\n      <td>71</td>\n      <td>550</td>\n      <td>11.618182</td>\n      <td>10.1</td>\n      <td>1.052083</td>\n      <td>0.843750</td>\n    </tr>\n    <tr>\n      <th>149</th>\n      <td>Mendy</td>\n      <td>51</td>\n      <td>1</td>\n      <td>19</td>\n      <td>270</td>\n      <td>6.333333</td>\n      <td>6.3</td>\n      <td>1.235294</td>\n      <td>0.843137</td>\n    </tr>\n    <tr>\n      <th>574</th>\n      <td>Saïss</td>\n      <td>53</td>\n      <td>2</td>\n      <td>38</td>\n      <td>517</td>\n      <td>6.615087</td>\n      <td>6.3</td>\n      <td>1.188679</td>\n      <td>0.811321</td>\n    </tr>\n    <tr>\n      <th>462</th>\n      <td>Vestergaard</td>\n      <td>46</td>\n      <td>2</td>\n      <td>34</td>\n      <td>495</td>\n      <td>6.181818</td>\n      <td>5.7</td>\n      <td>1.239130</td>\n      <td>0.804348</td>\n    </tr>\n    <tr>\n      <th>33</th>\n      <td>Martínez</td>\n      <td>48</td>\n      <td>1</td>\n      <td>34</td>\n      <td>540</td>\n      <td>5.666667</td>\n      <td>5.7</td>\n      <td>1.187500</td>\n      <td>0.770833</td>\n    </tr>\n    <tr>\n      <th>47</th>\n      <td>Mings</td>\n      <td>52</td>\n      <td>2</td>\n      <td>36</td>\n      <td>540</td>\n      <td>6.000000</td>\n      <td>6.0</td>\n      <td>1.153846</td>\n      <td>0.769231</td>\n    </tr>\n    <tr>\n      <th>129</th>\n      <td>Jorginho</td>\n      <td>53</td>\n      <td>3</td>\n      <td>36</td>\n      <td>436</td>\n      <td>7.431193</td>\n      <td>6.0</td>\n      <td>1.132075</td>\n      <td>0.754717</td>\n    </tr>\n    <tr>\n      <th>485</th>\n      <td>Kane</td>\n      <td>109</td>\n      <td>4</td>\n      <td>71</td>\n      <td>623</td>\n      <td>10.256822</td>\n      <td>10.1</td>\n      <td>0.926606</td>\n      <td>0.743119</td>\n    </tr>\n    <tr>\n      <th>253</th>\n      <td>Vardy</td>\n      <td>100</td>\n      <td>4</td>\n      <td>55</td>\n      <td>468</td>\n      <td>10.576923</td>\n      <td>9.2</td>\n      <td>0.920000</td>\n      <td>0.720000</td>\n    </tr>\n    <tr>\n      <th>197</th>\n      <td>Calvert-Lewin</td>\n      <td>77</td>\n      <td>4</td>\n      <td>52</td>\n      <td>608</td>\n      <td>7.697368</td>\n      <td>7.4</td>\n      <td>0.961039</td>\n      <td>0.701299</td>\n    </tr>\n    <tr>\n      <th>168</th>\n      <td>Zaha</td>\n      <td>74</td>\n      <td>3</td>\n      <td>49</td>\n      <td>630</td>\n      <td>7.000000</td>\n      <td>7.0</td>\n      <td>0.945946</td>\n      <td>0.675676</td>\n    </tr>\n  </tbody>\n</table>\n</div>"
     },
     "metadata": {},
     "execution_count": 74
    }
   ],
   "source": [
    "all_players[['web_name' , 'now_cost' , 'player_type_id', 'total_points' , 'total_minutes' , 'PP90' , 'PPG' , 'PPMM' , 'VAPM']][all_players['total_minutes']>100].sort_values(by='VAPM' , ascending = False).head(20)"
   ]
  },
  {
   "cell_type": "markdown",
   "metadata": {},
   "source": [
    "## Save cleaned data"
   ]
  },
  {
   "cell_type": "code",
   "execution_count": 37,
   "metadata": {},
   "outputs": [],
   "source": [
    "all_players.to_csv (r'./data/' + season + '/Cleaned_data/all_players.csv', index = False, header=True)\n",
    "all_teams.to_csv (r'./data/' + season + '/Cleaned_data/all_teams.csv', index = False, header = True)\n",
    "all_events.to_csv (r'./data/' + season + '/Cleaned_data/all_events.csv', index = False, header = True)\n",
    "player_types.to_csv(r'./data/' + season + '/Cleaned_data/player_types.csv', index = False, header = True)\n",
    "game_phases.to_csv(r'./data/' + season + '/Cleaned_data/game_phases.csv', index = False, header = True)\n",
    "\n",
    "player_season_history.to_csv (r'./data/' + season + '/Cleaned_data/player_season_history.csv', index = False, header=True)\n",
    "player_gameweek_history.to_csv (r'./data/' + season + '/Cleaned_data/player_gameweek_history.csv', index = False, header=True)\n",
    "player_future_fixture.to_csv (r'./data/' + season + '/Cleaned_data/player_future_fixture.csv', index = False, header=True)"
   ]
  },
  {
   "cell_type": "code",
   "execution_count": null,
   "metadata": {},
   "outputs": [],
   "source": []
  }
 ]
}