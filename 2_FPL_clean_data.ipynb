{
 "metadata": {
  "language_info": {
   "codemirror_mode": {
    "name": "ipython",
    "version": 3
   },
   "file_extension": ".py",
   "mimetype": "text/x-python",
   "name": "python",
   "nbconvert_exporter": "python",
   "pygments_lexer": "ipython3",
   "version": "3.8.3-final"
  },
  "orig_nbformat": 2,
  "kernelspec": {
   "name": "Python 3.8.3 64-bit (conda)",
   "display_name": "Python 3.8.3 64-bit (conda)",
   "metadata": {
    "interpreter": {
     "hash": "fb698bdeab99cfbf9e31cab566d99a06e057f2dec3dcc8097ebabb329e860e16"
    }
   }
  }
 },
 "nbformat": 4,
 "nbformat_minor": 2,
 "cells": [
  {
   "cell_type": "code",
   "execution_count": 35,
   "metadata": {},
   "outputs": [],
   "source": [
    "import numpy as np\n",
    "import pandas as pd\n",
    "import requests\n",
    "from datetime import datetime\n",
    "import json\n",
    "\n",
    "#Set Display options\n",
    "pd.set_option('display.max_rows', 50)\n",
    "pd.set_option('display.max_columns', 50)\n",
    "pd.set_option('display.width' , 1000)"
   ]
  },
  {
   "cell_type": "code",
   "execution_count": 36,
   "metadata": {},
   "outputs": [],
   "source": [
    "# Variables\n",
    "season = \"2020-21\""
   ]
  },
  {
   "cell_type": "code",
   "execution_count": 37,
   "metadata": {},
   "outputs": [],
   "source": [
    "all_players = pd.read_csv (r'./data/' + season + '/Raw_data/all_players.csv', parse_dates= [\"news_added\"])\n",
    "all_teams = pd.read_csv (r'./data/' + season + '/Raw_data/all_teams.csv')\n",
    "all_events = pd.read_csv (r'./data/' + season + '/Raw_data/all_events.csv', parse_dates= [\"deadline_time\"])\n",
    "player_types = pd.read_csv(r'./data/' + season + '/Raw_data/player_types.csv')\n",
    "game_phases = pd.read_csv(r'./data/' + season + '/Raw_data/game_phases.csv')\n",
    "\n",
    "understat_player = pd.read_csv(r'./data/' + season + '/Raw_data/understat/understat_player.csv')\n",
    "\n",
    "player_season_history = pd.read_csv(r'./data/' + season + '/Raw_data/player_season_history.csv')\n",
    "player_gameweek_history = pd.read_csv(r'./data/' + season + '/Raw_data/player_gameweek_history.csv')\n",
    "#player_gameweek_history = pd.read_csv(r'./data/2019-20/player_past_history/player_gameweek_history_raw.csv')\n",
    "player_future_fixture = pd.read_csv(r'./data/' + season + '/Raw_data/player_future_fixture.csv', parse_dates = [\"kickoff_time\"])\n",
    "\n"
   ]
  },
  {
   "cell_type": "code",
   "execution_count": 38,
   "metadata": {},
   "outputs": [
    {
     "output_type": "execute_result",
     "data": {
      "text/plain": [
       "     id            player_name  games  time  goals        xG  assists        xA  shots  key_passes  yellow_cards  red_cards position team_title  npg      npxG   xGChain  xGBuildup\n",
       "0   453          Son Heung-Min      5   387      7  2.568213        2  1.725785     12          15             0          0      F M  Tottenham    7  2.568213  5.000036   1.834072\n",
       "1  5555  Dominic Calvert-Lewin      6   523      7  5.044698        0  0.106039     20           1             1          0        F    Everton    7  5.044698  4.703016   1.158628\n",
       "2   755            Jamie Vardy      5   383      6  4.540889        0  0.162430      9           2             0          0      F S  Leicester    2  1.496214  1.875315   0.216671\n",
       "3   822        Patrick Bamford      6   496      6  2.577310        1  0.354126     23           4             1          0        F      Leeds    6  2.577310  3.628449   1.042374\n",
       "4  1250          Mohamed Salah      6   540      6  4.242469        0  1.922533     29          17             0          0        F  Liverpool    4  2.720132  6.302794   2.369689"
      ],
      "text/html": "<div>\n<style scoped>\n    .dataframe tbody tr th:only-of-type {\n        vertical-align: middle;\n    }\n\n    .dataframe tbody tr th {\n        vertical-align: top;\n    }\n\n    .dataframe thead th {\n        text-align: right;\n    }\n</style>\n<table border=\"1\" class=\"dataframe\">\n  <thead>\n    <tr style=\"text-align: right;\">\n      <th></th>\n      <th>id</th>\n      <th>player_name</th>\n      <th>games</th>\n      <th>time</th>\n      <th>goals</th>\n      <th>xG</th>\n      <th>assists</th>\n      <th>xA</th>\n      <th>shots</th>\n      <th>key_passes</th>\n      <th>yellow_cards</th>\n      <th>red_cards</th>\n      <th>position</th>\n      <th>team_title</th>\n      <th>npg</th>\n      <th>npxG</th>\n      <th>xGChain</th>\n      <th>xGBuildup</th>\n    </tr>\n  </thead>\n  <tbody>\n    <tr>\n      <th>0</th>\n      <td>453</td>\n      <td>Son Heung-Min</td>\n      <td>5</td>\n      <td>387</td>\n      <td>7</td>\n      <td>2.568213</td>\n      <td>2</td>\n      <td>1.725785</td>\n      <td>12</td>\n      <td>15</td>\n      <td>0</td>\n      <td>0</td>\n      <td>F M</td>\n      <td>Tottenham</td>\n      <td>7</td>\n      <td>2.568213</td>\n      <td>5.000036</td>\n      <td>1.834072</td>\n    </tr>\n    <tr>\n      <th>1</th>\n      <td>5555</td>\n      <td>Dominic Calvert-Lewin</td>\n      <td>6</td>\n      <td>523</td>\n      <td>7</td>\n      <td>5.044698</td>\n      <td>0</td>\n      <td>0.106039</td>\n      <td>20</td>\n      <td>1</td>\n      <td>1</td>\n      <td>0</td>\n      <td>F</td>\n      <td>Everton</td>\n      <td>7</td>\n      <td>5.044698</td>\n      <td>4.703016</td>\n      <td>1.158628</td>\n    </tr>\n    <tr>\n      <th>2</th>\n      <td>755</td>\n      <td>Jamie Vardy</td>\n      <td>5</td>\n      <td>383</td>\n      <td>6</td>\n      <td>4.540889</td>\n      <td>0</td>\n      <td>0.162430</td>\n      <td>9</td>\n      <td>2</td>\n      <td>0</td>\n      <td>0</td>\n      <td>F S</td>\n      <td>Leicester</td>\n      <td>2</td>\n      <td>1.496214</td>\n      <td>1.875315</td>\n      <td>0.216671</td>\n    </tr>\n    <tr>\n      <th>3</th>\n      <td>822</td>\n      <td>Patrick Bamford</td>\n      <td>6</td>\n      <td>496</td>\n      <td>6</td>\n      <td>2.577310</td>\n      <td>1</td>\n      <td>0.354126</td>\n      <td>23</td>\n      <td>4</td>\n      <td>1</td>\n      <td>0</td>\n      <td>F</td>\n      <td>Leeds</td>\n      <td>6</td>\n      <td>2.577310</td>\n      <td>3.628449</td>\n      <td>1.042374</td>\n    </tr>\n    <tr>\n      <th>4</th>\n      <td>1250</td>\n      <td>Mohamed Salah</td>\n      <td>6</td>\n      <td>540</td>\n      <td>6</td>\n      <td>4.242469</td>\n      <td>0</td>\n      <td>1.922533</td>\n      <td>29</td>\n      <td>17</td>\n      <td>0</td>\n      <td>0</td>\n      <td>F</td>\n      <td>Liverpool</td>\n      <td>4</td>\n      <td>2.720132</td>\n      <td>6.302794</td>\n      <td>2.369689</td>\n    </tr>\n  </tbody>\n</table>\n</div>"
     },
     "metadata": {},
     "execution_count": 38
    }
   ],
   "source": [
    "understat_player.head()"
   ]
  },
  {
   "cell_type": "markdown",
   "metadata": {},
   "source": [
    "## Rename columns"
   ]
  },
  {
   "cell_type": "code",
   "execution_count": 39,
   "metadata": {},
   "outputs": [
    {
     "output_type": "execute_result",
     "data": {
      "text/plain": [
       "   element  fixture  opponent_team  total_points  was_home          kickoff_time  team_h_score  team_a_score  round  minutes  goals_scored  assists  clean_sheets  goals_conceded  own_goals  penalties_saved  penalties_missed  yellow_cards  red_cards  saves  bonus  bps  influence  creativity  threat  ict_index  value  transfers_balance  selected  transfers_in  transfers_out\n",
       "0        1        2              8             0     False  2020-09-12T11:30:00Z           0.0           3.0      1        0             0        0             0               0          0                0                 0             0          0      0      0    0        0.0         0.0     0.0        0.0     70                  0     76656             0              0\n",
       "1        1        9             19             0      True  2020-09-19T19:00:00Z           2.0           1.0      2        0             0        0             0               0          0                0                 0             0          0      0      0    0        0.0         0.0     0.0        0.0     69             -16828     68335           995          17823\n",
       "2        1       23             11             0     False  2020-09-28T19:00:00Z           3.0           1.0      3        0             0        0             0               0          0                0                 0             0          0      0      0    0        0.0         0.0     0.0        0.0     69             -11451     59793           675          12126\n",
       "3        1       29             15             0      True  2020-10-04T13:00:00Z           2.0           1.0      4        0             0        0             0               0          0                0                 0             0          0      0      0    0        0.0         0.0     0.0        0.0     68              -5324     56403           647           5971\n",
       "4        1       44             12             0     False  2020-10-17T16:30:00Z           1.0           0.0      5        0             0        0             0               0          0                0                 0             0          0      0      0    0        0.0         0.0     0.0        0.0     68              -4224     53689           616           4840"
      ],
      "text/html": "<div>\n<style scoped>\n    .dataframe tbody tr th:only-of-type {\n        vertical-align: middle;\n    }\n\n    .dataframe tbody tr th {\n        vertical-align: top;\n    }\n\n    .dataframe thead th {\n        text-align: right;\n    }\n</style>\n<table border=\"1\" class=\"dataframe\">\n  <thead>\n    <tr style=\"text-align: right;\">\n      <th></th>\n      <th>element</th>\n      <th>fixture</th>\n      <th>opponent_team</th>\n      <th>total_points</th>\n      <th>was_home</th>\n      <th>kickoff_time</th>\n      <th>team_h_score</th>\n      <th>team_a_score</th>\n      <th>round</th>\n      <th>minutes</th>\n      <th>goals_scored</th>\n      <th>assists</th>\n      <th>clean_sheets</th>\n      <th>goals_conceded</th>\n      <th>own_goals</th>\n      <th>penalties_saved</th>\n      <th>penalties_missed</th>\n      <th>yellow_cards</th>\n      <th>red_cards</th>\n      <th>saves</th>\n      <th>bonus</th>\n      <th>bps</th>\n      <th>influence</th>\n      <th>creativity</th>\n      <th>threat</th>\n      <th>ict_index</th>\n      <th>value</th>\n      <th>transfers_balance</th>\n      <th>selected</th>\n      <th>transfers_in</th>\n      <th>transfers_out</th>\n    </tr>\n  </thead>\n  <tbody>\n    <tr>\n      <th>0</th>\n      <td>1</td>\n      <td>2</td>\n      <td>8</td>\n      <td>0</td>\n      <td>False</td>\n      <td>2020-09-12T11:30:00Z</td>\n      <td>0.0</td>\n      <td>3.0</td>\n      <td>1</td>\n      <td>0</td>\n      <td>0</td>\n      <td>0</td>\n      <td>0</td>\n      <td>0</td>\n      <td>0</td>\n      <td>0</td>\n      <td>0</td>\n      <td>0</td>\n      <td>0</td>\n      <td>0</td>\n      <td>0</td>\n      <td>0</td>\n      <td>0.0</td>\n      <td>0.0</td>\n      <td>0.0</td>\n      <td>0.0</td>\n      <td>70</td>\n      <td>0</td>\n      <td>76656</td>\n      <td>0</td>\n      <td>0</td>\n    </tr>\n    <tr>\n      <th>1</th>\n      <td>1</td>\n      <td>9</td>\n      <td>19</td>\n      <td>0</td>\n      <td>True</td>\n      <td>2020-09-19T19:00:00Z</td>\n      <td>2.0</td>\n      <td>1.0</td>\n      <td>2</td>\n      <td>0</td>\n      <td>0</td>\n      <td>0</td>\n      <td>0</td>\n      <td>0</td>\n      <td>0</td>\n      <td>0</td>\n      <td>0</td>\n      <td>0</td>\n      <td>0</td>\n      <td>0</td>\n      <td>0</td>\n      <td>0</td>\n      <td>0.0</td>\n      <td>0.0</td>\n      <td>0.0</td>\n      <td>0.0</td>\n      <td>69</td>\n      <td>-16828</td>\n      <td>68335</td>\n      <td>995</td>\n      <td>17823</td>\n    </tr>\n    <tr>\n      <th>2</th>\n      <td>1</td>\n      <td>23</td>\n      <td>11</td>\n      <td>0</td>\n      <td>False</td>\n      <td>2020-09-28T19:00:00Z</td>\n      <td>3.0</td>\n      <td>1.0</td>\n      <td>3</td>\n      <td>0</td>\n      <td>0</td>\n      <td>0</td>\n      <td>0</td>\n      <td>0</td>\n      <td>0</td>\n      <td>0</td>\n      <td>0</td>\n      <td>0</td>\n      <td>0</td>\n      <td>0</td>\n      <td>0</td>\n      <td>0</td>\n      <td>0.0</td>\n      <td>0.0</td>\n      <td>0.0</td>\n      <td>0.0</td>\n      <td>69</td>\n      <td>-11451</td>\n      <td>59793</td>\n      <td>675</td>\n      <td>12126</td>\n    </tr>\n    <tr>\n      <th>3</th>\n      <td>1</td>\n      <td>29</td>\n      <td>15</td>\n      <td>0</td>\n      <td>True</td>\n      <td>2020-10-04T13:00:00Z</td>\n      <td>2.0</td>\n      <td>1.0</td>\n      <td>4</td>\n      <td>0</td>\n      <td>0</td>\n      <td>0</td>\n      <td>0</td>\n      <td>0</td>\n      <td>0</td>\n      <td>0</td>\n      <td>0</td>\n      <td>0</td>\n      <td>0</td>\n      <td>0</td>\n      <td>0</td>\n      <td>0</td>\n      <td>0.0</td>\n      <td>0.0</td>\n      <td>0.0</td>\n      <td>0.0</td>\n      <td>68</td>\n      <td>-5324</td>\n      <td>56403</td>\n      <td>647</td>\n      <td>5971</td>\n    </tr>\n    <tr>\n      <th>4</th>\n      <td>1</td>\n      <td>44</td>\n      <td>12</td>\n      <td>0</td>\n      <td>False</td>\n      <td>2020-10-17T16:30:00Z</td>\n      <td>1.0</td>\n      <td>0.0</td>\n      <td>5</td>\n      <td>0</td>\n      <td>0</td>\n      <td>0</td>\n      <td>0</td>\n      <td>0</td>\n      <td>0</td>\n      <td>0</td>\n      <td>0</td>\n      <td>0</td>\n      <td>0</td>\n      <td>0</td>\n      <td>0</td>\n      <td>0</td>\n      <td>0.0</td>\n      <td>0.0</td>\n      <td>0.0</td>\n      <td>0.0</td>\n      <td>68</td>\n      <td>-4224</td>\n      <td>53689</td>\n      <td>616</td>\n      <td>4840</td>\n    </tr>\n  </tbody>\n</table>\n</div>"
     },
     "metadata": {},
     "execution_count": 39
    }
   ],
   "source": [
    "player_gameweek_history.head()"
   ]
  },
  {
   "cell_type": "code",
   "execution_count": 40,
   "metadata": {},
   "outputs": [],
   "source": [
    "player_gameweek_history.rename(columns = {\"element\" : \"player_id\" , \"opponent_team\" : \"opponent_team_id\" , \"fixture\" : \"fixture_id\" } , inplace = True)\n",
    "all_players.rename(columns = {\"code\" : \"player_code\", \"element_type\" : \"player_type_id\" , \"minutes\" : \"total_minutes\" , \"id\" : \"player_id\" , \"team\" : \"team_id\" , \"points_per_game\" : \"PPG\"} , inplace=True)\n",
    "all_teams.rename(columns = {\"id\" : \"team_id\" , \"code\" : \"team_code\" , \"name\" : \"team_name\" , \"short_name\" : \"team_short_name\" , \"strength\" : \"team_strength\" , \"form\" : \"team_form\"} , inplace = True)\n",
    "all_events.rename(columns = {\"id\" : \"gameweek_id\"} , inplace = True)\n",
    "player_types.rename(columns = {\"id\" : \"player_type_id\" , \"singular_name\" : \"position_name\" , \"singular_name_short\" : \"position_name_short\"} , inplace = True)\n",
    "game_phases.rename(columns = {\"id\" : \"phase_id\"} , inplace = True)\n",
    "player_season_history.rename(columns = {\"element_code\" : \"player_code\"} , inplace = True)\n",
    "player_future_fixture.rename(columns = {\"id\" : \"fixture_id\" , \"team_h\" : \"home_team_id\" , \"team_a\" : \"away_team_id\" , \"events\" : \"gameweek_id\" , \"code\" : \"fixture_code\"} , inplace = True)\n",
    "#player_gameweek_history.rename(columns = {} , inplace = True)\n"
   ]
  },
  {
   "cell_type": "markdown",
   "metadata": {},
   "source": [
    "## Drop columns"
   ]
  },
  {
   "cell_type": "code",
   "execution_count": 41,
   "metadata": {},
   "outputs": [
    {
     "output_type": "execute_result",
     "data": {
      "text/plain": [
       "   gameweek_id        name             deadline_time  average_entry_score  finished  data_checked  highest_scoring_entry  deadline_time_epoch  deadline_time_game_offset  highest_score  is_previous  is_current  is_next                                         chip_plays  most_selected  most_transferred_in  top_element           top_element_info  transfers_made  most_captained  most_vice_captained\n",
       "0            1  Gameweek 1 2020-09-12 10:00:00+00:00                   50      True          True              4761681.0           1599904800                          0          142.0        False       False    False  [{'chip_name': 'bboost', 'num_played': 112843}...          259.0                 12.0        254.0  {'id': 254, 'points': 20}               0             4.0                  4.0\n",
       "1            2  Gameweek 2 2020-09-19 10:00:00+00:00                   59      True          True              6234344.0           1600509600                          0          165.0        False       False    False  [{'chip_name': 'bboost', 'num_played': 94615},...          259.0                302.0        390.0  {'id': 390, 'points': 24}        14637421             4.0                254.0\n",
       "2            3  Gameweek 3 2020-09-26 10:00:00+00:00                   43      True          True              6223553.0           1601114400                          0          119.0        False       False    False  [{'chip_name': 'bboost', 'num_played': 86797},...          259.0                164.0        224.0  {'id': 224, 'points': 17}        20387878           272.0                254.0\n",
       "3            4  Gameweek 4 2020-10-03 10:00:00+00:00                   48      True          True              6563000.0           1601719200                          0          160.0        False       False    False  [{'chip_name': 'bboost', 'num_played': 82267},...          272.0                164.0         37.0   {'id': 37, 'points': 24}        14570655           254.0                272.0\n",
       "4            5  Gameweek 5 2020-10-17 10:00:00+00:00                   60      True          True              7124486.0           1602928800                          0          136.0        False       False    False  [{'chip_name': 'bboost', 'num_played': 80554},...          164.0                390.0        117.0  {'id': 117, 'points': 16}        18391649           390.0                254.0"
      ],
      "text/html": "<div>\n<style scoped>\n    .dataframe tbody tr th:only-of-type {\n        vertical-align: middle;\n    }\n\n    .dataframe tbody tr th {\n        vertical-align: top;\n    }\n\n    .dataframe thead th {\n        text-align: right;\n    }\n</style>\n<table border=\"1\" class=\"dataframe\">\n  <thead>\n    <tr style=\"text-align: right;\">\n      <th></th>\n      <th>gameweek_id</th>\n      <th>name</th>\n      <th>deadline_time</th>\n      <th>average_entry_score</th>\n      <th>finished</th>\n      <th>data_checked</th>\n      <th>highest_scoring_entry</th>\n      <th>deadline_time_epoch</th>\n      <th>deadline_time_game_offset</th>\n      <th>highest_score</th>\n      <th>is_previous</th>\n      <th>is_current</th>\n      <th>is_next</th>\n      <th>chip_plays</th>\n      <th>most_selected</th>\n      <th>most_transferred_in</th>\n      <th>top_element</th>\n      <th>top_element_info</th>\n      <th>transfers_made</th>\n      <th>most_captained</th>\n      <th>most_vice_captained</th>\n    </tr>\n  </thead>\n  <tbody>\n    <tr>\n      <th>0</th>\n      <td>1</td>\n      <td>Gameweek 1</td>\n      <td>2020-09-12 10:00:00+00:00</td>\n      <td>50</td>\n      <td>True</td>\n      <td>True</td>\n      <td>4761681.0</td>\n      <td>1599904800</td>\n      <td>0</td>\n      <td>142.0</td>\n      <td>False</td>\n      <td>False</td>\n      <td>False</td>\n      <td>[{'chip_name': 'bboost', 'num_played': 112843}...</td>\n      <td>259.0</td>\n      <td>12.0</td>\n      <td>254.0</td>\n      <td>{'id': 254, 'points': 20}</td>\n      <td>0</td>\n      <td>4.0</td>\n      <td>4.0</td>\n    </tr>\n    <tr>\n      <th>1</th>\n      <td>2</td>\n      <td>Gameweek 2</td>\n      <td>2020-09-19 10:00:00+00:00</td>\n      <td>59</td>\n      <td>True</td>\n      <td>True</td>\n      <td>6234344.0</td>\n      <td>1600509600</td>\n      <td>0</td>\n      <td>165.0</td>\n      <td>False</td>\n      <td>False</td>\n      <td>False</td>\n      <td>[{'chip_name': 'bboost', 'num_played': 94615},...</td>\n      <td>259.0</td>\n      <td>302.0</td>\n      <td>390.0</td>\n      <td>{'id': 390, 'points': 24}</td>\n      <td>14637421</td>\n      <td>4.0</td>\n      <td>254.0</td>\n    </tr>\n    <tr>\n      <th>2</th>\n      <td>3</td>\n      <td>Gameweek 3</td>\n      <td>2020-09-26 10:00:00+00:00</td>\n      <td>43</td>\n      <td>True</td>\n      <td>True</td>\n      <td>6223553.0</td>\n      <td>1601114400</td>\n      <td>0</td>\n      <td>119.0</td>\n      <td>False</td>\n      <td>False</td>\n      <td>False</td>\n      <td>[{'chip_name': 'bboost', 'num_played': 86797},...</td>\n      <td>259.0</td>\n      <td>164.0</td>\n      <td>224.0</td>\n      <td>{'id': 224, 'points': 17}</td>\n      <td>20387878</td>\n      <td>272.0</td>\n      <td>254.0</td>\n    </tr>\n    <tr>\n      <th>3</th>\n      <td>4</td>\n      <td>Gameweek 4</td>\n      <td>2020-10-03 10:00:00+00:00</td>\n      <td>48</td>\n      <td>True</td>\n      <td>True</td>\n      <td>6563000.0</td>\n      <td>1601719200</td>\n      <td>0</td>\n      <td>160.0</td>\n      <td>False</td>\n      <td>False</td>\n      <td>False</td>\n      <td>[{'chip_name': 'bboost', 'num_played': 82267},...</td>\n      <td>272.0</td>\n      <td>164.0</td>\n      <td>37.0</td>\n      <td>{'id': 37, 'points': 24}</td>\n      <td>14570655</td>\n      <td>254.0</td>\n      <td>272.0</td>\n    </tr>\n    <tr>\n      <th>4</th>\n      <td>5</td>\n      <td>Gameweek 5</td>\n      <td>2020-10-17 10:00:00+00:00</td>\n      <td>60</td>\n      <td>True</td>\n      <td>True</td>\n      <td>7124486.0</td>\n      <td>1602928800</td>\n      <td>0</td>\n      <td>136.0</td>\n      <td>False</td>\n      <td>False</td>\n      <td>False</td>\n      <td>[{'chip_name': 'bboost', 'num_played': 80554},...</td>\n      <td>164.0</td>\n      <td>390.0</td>\n      <td>117.0</td>\n      <td>{'id': 117, 'points': 16}</td>\n      <td>18391649</td>\n      <td>390.0</td>\n      <td>254.0</td>\n    </tr>\n  </tbody>\n</table>\n</div>"
     },
     "metadata": {},
     "execution_count": 41
    }
   ],
   "source": [
    "all_events.head(5)"
   ]
  },
  {
   "cell_type": "code",
   "execution_count": 42,
   "metadata": {},
   "outputs": [],
   "source": [
    "all_events.drop(columns = [\"deadline_time_epoch\"] , inplace = True)\n",
    "player_types.drop(columns = [\"plural_name\" , \"plural_name_short\"] , inplace = True)\n",
    "all_players.drop(columns = [\n",
    "    \"squad_number\" , \n",
    "    \"special\" , \n",
    "    #\"transfers_in\" , \n",
    "    #\"transfers_out\" , \n",
    "    #\"first_name\" , \n",
    "    #\"second_name\"\n",
    "    ] , inplace = True)"
   ]
  },
  {
   "cell_type": "markdown",
   "metadata": {},
   "source": [
    "## Change date columns"
   ]
  },
  {
   "cell_type": "code",
   "execution_count": 43,
   "metadata": {},
   "outputs": [],
   "source": [
    "all_players['news_added'] = all_players['news_added'].dt.tz_localize(None)\n",
    "all_events['deadline_time'] = all_events['deadline_time'].dt.tz_localize(None)\n",
    "player_future_fixture['kickoff_time'] = player_future_fixture['kickoff_time'].dt.tz_localize(None)\n",
    "\n",
    "player_gameweek_history['kickoff_time'] = pd.to_datetime(player_gameweek_history['kickoff_time'])\n",
    "player_gameweek_history['kickoff_time'] = player_gameweek_history['kickoff_time'].dt.tz_localize(None)"
   ]
  },
  {
   "cell_type": "markdown",
   "metadata": {},
   "source": [
    "\n",
    "## Add Columns"
   ]
  },
  {
   "cell_type": "code",
   "execution_count": 44,
   "metadata": {},
   "outputs": [
    {
     "output_type": "execute_result",
     "data": {
      "text/plain": [
       "   fixture_id  fixture_code  home_team_id  team_h_score  away_team_id  team_a_score  event  finished  minutes  provisional_start_time        kickoff_time   event_name  is_home  difficulty  player_id\n",
       "0          64       2128351            13           NaN             1           NaN    7.0     False        0                   False 2020-11-01 16:30:00   Gameweek 7    False           4          1\n",
       "1          69       2128356             1           NaN             2           NaN    8.0     False        0                   False 2020-11-08 19:15:00   Gameweek 8     True           3          1\n",
       "2          82       2128369            10           NaN             1           NaN    9.0     False        0                   False 2020-11-22 16:30:00   Gameweek 9    False           3          1\n",
       "3          89       2128376             1           NaN            20           NaN   10.0     False        0                   False 2020-11-28 15:00:00  Gameweek 10     True           3          1\n",
       "4         106       2128393            17           NaN             1           NaN   11.0     False        0                   False 2020-12-05 15:00:00  Gameweek 11    False           4          1"
      ],
      "text/html": "<div>\n<style scoped>\n    .dataframe tbody tr th:only-of-type {\n        vertical-align: middle;\n    }\n\n    .dataframe tbody tr th {\n        vertical-align: top;\n    }\n\n    .dataframe thead th {\n        text-align: right;\n    }\n</style>\n<table border=\"1\" class=\"dataframe\">\n  <thead>\n    <tr style=\"text-align: right;\">\n      <th></th>\n      <th>fixture_id</th>\n      <th>fixture_code</th>\n      <th>home_team_id</th>\n      <th>team_h_score</th>\n      <th>away_team_id</th>\n      <th>team_a_score</th>\n      <th>event</th>\n      <th>finished</th>\n      <th>minutes</th>\n      <th>provisional_start_time</th>\n      <th>kickoff_time</th>\n      <th>event_name</th>\n      <th>is_home</th>\n      <th>difficulty</th>\n      <th>player_id</th>\n    </tr>\n  </thead>\n  <tbody>\n    <tr>\n      <th>0</th>\n      <td>64</td>\n      <td>2128351</td>\n      <td>13</td>\n      <td>NaN</td>\n      <td>1</td>\n      <td>NaN</td>\n      <td>7.0</td>\n      <td>False</td>\n      <td>0</td>\n      <td>False</td>\n      <td>2020-11-01 16:30:00</td>\n      <td>Gameweek 7</td>\n      <td>False</td>\n      <td>4</td>\n      <td>1</td>\n    </tr>\n    <tr>\n      <th>1</th>\n      <td>69</td>\n      <td>2128356</td>\n      <td>1</td>\n      <td>NaN</td>\n      <td>2</td>\n      <td>NaN</td>\n      <td>8.0</td>\n      <td>False</td>\n      <td>0</td>\n      <td>False</td>\n      <td>2020-11-08 19:15:00</td>\n      <td>Gameweek 8</td>\n      <td>True</td>\n      <td>3</td>\n      <td>1</td>\n    </tr>\n    <tr>\n      <th>2</th>\n      <td>82</td>\n      <td>2128369</td>\n      <td>10</td>\n      <td>NaN</td>\n      <td>1</td>\n      <td>NaN</td>\n      <td>9.0</td>\n      <td>False</td>\n      <td>0</td>\n      <td>False</td>\n      <td>2020-11-22 16:30:00</td>\n      <td>Gameweek 9</td>\n      <td>False</td>\n      <td>3</td>\n      <td>1</td>\n    </tr>\n    <tr>\n      <th>3</th>\n      <td>89</td>\n      <td>2128376</td>\n      <td>1</td>\n      <td>NaN</td>\n      <td>20</td>\n      <td>NaN</td>\n      <td>10.0</td>\n      <td>False</td>\n      <td>0</td>\n      <td>False</td>\n      <td>2020-11-28 15:00:00</td>\n      <td>Gameweek 10</td>\n      <td>True</td>\n      <td>3</td>\n      <td>1</td>\n    </tr>\n    <tr>\n      <th>4</th>\n      <td>106</td>\n      <td>2128393</td>\n      <td>17</td>\n      <td>NaN</td>\n      <td>1</td>\n      <td>NaN</td>\n      <td>11.0</td>\n      <td>False</td>\n      <td>0</td>\n      <td>False</td>\n      <td>2020-12-05 15:00:00</td>\n      <td>Gameweek 11</td>\n      <td>False</td>\n      <td>4</td>\n      <td>1</td>\n    </tr>\n  </tbody>\n</table>\n</div>"
     },
     "metadata": {},
     "execution_count": 44
    }
   ],
   "source": [
    "player_future_fixture.head()"
   ]
  },
  {
   "cell_type": "code",
   "execution_count": 45,
   "metadata": {},
   "outputs": [],
   "source": [
    "def opponent_team(row):\n",
    "    if row['is_home'] == True:\n",
    "        val = row['away_team_id']\n",
    "    elif row['is_home'] == False:\n",
    "        val = row['home_team_id']\n",
    "    return val\n",
    "\n",
    "def team(row):\n",
    "    if row['is_home'] == False:\n",
    "        val = row['away_team_id']\n",
    "    elif row['is_home'] == True:\n",
    "        val = row['home_team_id']\n",
    "    return val\n",
    "\n",
    "\n",
    "player_future_fixture['opponent_team_id'] = player_future_fixture.apply(opponent_team,axis=1)\n",
    "player_future_fixture['team_id'] = player_future_fixture.apply(team,axis=1)\n"
   ]
  },
  {
   "cell_type": "markdown",
   "metadata": {},
   "source": [
    "## Calculate New Columns"
   ]
  },
  {
   "cell_type": "code",
   "execution_count": 46,
   "metadata": {},
   "outputs": [
    {
     "output_type": "execute_result",
     "data": {
      "text/plain": [
       "Index(['chance_of_playing_next_round', 'chance_of_playing_this_round', 'player_code', 'cost_change_event', 'cost_change_event_fall', 'cost_change_start', 'cost_change_start_fall', 'dreamteam_count', 'player_type_id', 'ep_next', 'ep_this', 'event_points', 'first_name', 'form', 'player_id', 'in_dreamteam', 'news', 'news_added', 'now_cost', 'photo', 'PPG', 'second_name', 'selected_by_percent', 'status', 'team_id', 'team_code', 'total_points', 'transfers_in', 'transfers_in_event', 'transfers_out', 'transfers_out_event', 'value_form', 'value_season', 'web_name', 'total_minutes', 'goals_scored', 'assists', 'clean_sheets', 'goals_conceded', 'own_goals', 'penalties_saved', 'penalties_missed', 'yellow_cards', 'red_cards', 'saves', 'bonus', 'bps', 'influence', 'creativity', 'threat', 'ict_index', 'influence_rank', 'influence_rank_type', 'creativity_rank', 'creativity_rank_type', 'threat_rank', 'threat_rank_type', 'ict_index_rank', 'ict_index_rank_type', 'corners_and_indirect_freekicks_order',\n",
       "       'corners_and_indirect_freekicks_text', 'direct_freekicks_order', 'direct_freekicks_text', 'penalties_order', 'penalties_text'],\n",
       "      dtype='object')"
      ]
     },
     "metadata": {},
     "execution_count": 46
    }
   ],
   "source": [
    "all_players.columns"
   ]
  },
  {
   "cell_type": "code",
   "execution_count": 47,
   "metadata": {},
   "outputs": [
    {
     "output_type": "execute_result",
     "data": {
      "text/plain": [
       "   chance_of_playing_next_round  chance_of_playing_this_round  player_code  cost_change_event  cost_change_event_fall  cost_change_start  cost_change_start_fall  dreamteam_count  player_type_id  ep_next  ep_this  event_points      first_name  form  player_id  in_dreamteam                                               news                 news_added  now_cost      photo  PPG           second_name  selected_by_percent status  team_id  ...  penalties_saved  penalties_missed  yellow_cards  red_cards  saves  bonus  bps  influence creativity  threat  ict_index  influence_rank  influence_rank_type  creativity_rank  creativity_rank_type  threat_rank  threat_rank_type  ict_index_rank  ict_index_rank_type  corners_and_indirect_freekicks_order  corners_and_indirect_freekicks_text  direct_freekicks_order  direct_freekicks_text  penalties_order  penalties_text\n",
       "0                           0.0                           0.0        37605                  0                       0                 -2                       2                0               3      0.0      0.0             0           Mesut   0.0          1         False  Not included in Arsenal's 25-man Premier Leagu... 2020-10-20 22:30:18.118477        68  37605.jpg  0.0                  Özil                  0.7      n        1  ...                0                 0             0          0      0      0    0        0.0        0.0     0.0        0.0             588                  237              587                   236          588               236             589                  237                                   NaN                                  NaN                     NaN                    NaN              NaN             NaN\n",
       "1                           0.0                           0.0        39476                  0                       0                 -1                       1                0               2      0.0      0.0             0        Sokratis   0.0          2         False  Not included in Arsenal's 25-man Premier Leagu... 2020-10-21 10:30:18.546407        49  39476.jpg  0.0      Papastathopoulos                  0.1      n        1  ...                0                 0             0          0      0      0    0        0.0        0.0     0.0        0.0             532                  204              523                   204          508               195             536                  204                                   NaN                                  NaN                     NaN                    NaN              NaN             NaN\n",
       "2                          50.0                          50.0        41270                  0                       0                  0                       0                0               2      0.8      0.6             0           David   1.2          3         False               Thigh injury - 50% chance of playing 2020-10-25 21:30:13.186040        55  41270.jpg  1.4  Luiz Moreira Marinho                  1.0      d        1  ...                0                 0             0          0      0      0   51       66.6        9.8    21.0        9.7             166                   65              283                    89          211                61             228                   77                                   NaN                                  NaN                     4.0                    NaN              NaN             NaN\n",
       "3                         100.0                         100.0        54694                  0                       0                 -3                       3                0               3      2.0      1.5             0  Pierre-Emerick   1.5          4         False                                                NaN 2020-10-08 09:00:12.305506       117  54694.jpg  3.3            Aubameyang                 13.8      a        1  ...                0                 0             1          0      0      0   73       93.4      103.1   117.0       31.4             103                   38               41                    31           41                22              51                   28                                   NaN                                  NaN                     6.0                    NaN              1.0             NaN\n",
       "4                         100.0                         100.0        58822                  0                       0                 -3                       3                0               2      0.5      0.0             0          Cédric   0.0          5         False                                                NaN 2020-09-23 09:00:14.881983        47  58822.jpg  0.0                Soares                  0.2      a        1  ...                0                 0             0          0      0      0    0        0.0        0.0     0.0        0.0             509                  197              497                   197          474               186             513                  197                                   NaN                                  NaN                     NaN                    NaN              NaN             NaN\n",
       "\n",
       "[5 rows x 65 columns]"
      ],
      "text/html": "<div>\n<style scoped>\n    .dataframe tbody tr th:only-of-type {\n        vertical-align: middle;\n    }\n\n    .dataframe tbody tr th {\n        vertical-align: top;\n    }\n\n    .dataframe thead th {\n        text-align: right;\n    }\n</style>\n<table border=\"1\" class=\"dataframe\">\n  <thead>\n    <tr style=\"text-align: right;\">\n      <th></th>\n      <th>chance_of_playing_next_round</th>\n      <th>chance_of_playing_this_round</th>\n      <th>player_code</th>\n      <th>cost_change_event</th>\n      <th>cost_change_event_fall</th>\n      <th>cost_change_start</th>\n      <th>cost_change_start_fall</th>\n      <th>dreamteam_count</th>\n      <th>player_type_id</th>\n      <th>ep_next</th>\n      <th>ep_this</th>\n      <th>event_points</th>\n      <th>first_name</th>\n      <th>form</th>\n      <th>player_id</th>\n      <th>in_dreamteam</th>\n      <th>news</th>\n      <th>news_added</th>\n      <th>now_cost</th>\n      <th>photo</th>\n      <th>PPG</th>\n      <th>second_name</th>\n      <th>selected_by_percent</th>\n      <th>status</th>\n      <th>team_id</th>\n      <th>...</th>\n      <th>penalties_saved</th>\n      <th>penalties_missed</th>\n      <th>yellow_cards</th>\n      <th>red_cards</th>\n      <th>saves</th>\n      <th>bonus</th>\n      <th>bps</th>\n      <th>influence</th>\n      <th>creativity</th>\n      <th>threat</th>\n      <th>ict_index</th>\n      <th>influence_rank</th>\n      <th>influence_rank_type</th>\n      <th>creativity_rank</th>\n      <th>creativity_rank_type</th>\n      <th>threat_rank</th>\n      <th>threat_rank_type</th>\n      <th>ict_index_rank</th>\n      <th>ict_index_rank_type</th>\n      <th>corners_and_indirect_freekicks_order</th>\n      <th>corners_and_indirect_freekicks_text</th>\n      <th>direct_freekicks_order</th>\n      <th>direct_freekicks_text</th>\n      <th>penalties_order</th>\n      <th>penalties_text</th>\n    </tr>\n  </thead>\n  <tbody>\n    <tr>\n      <th>0</th>\n      <td>0.0</td>\n      <td>0.0</td>\n      <td>37605</td>\n      <td>0</td>\n      <td>0</td>\n      <td>-2</td>\n      <td>2</td>\n      <td>0</td>\n      <td>3</td>\n      <td>0.0</td>\n      <td>0.0</td>\n      <td>0</td>\n      <td>Mesut</td>\n      <td>0.0</td>\n      <td>1</td>\n      <td>False</td>\n      <td>Not included in Arsenal's 25-man Premier Leagu...</td>\n      <td>2020-10-20 22:30:18.118477</td>\n      <td>68</td>\n      <td>37605.jpg</td>\n      <td>0.0</td>\n      <td>Özil</td>\n      <td>0.7</td>\n      <td>n</td>\n      <td>1</td>\n      <td>...</td>\n      <td>0</td>\n      <td>0</td>\n      <td>0</td>\n      <td>0</td>\n      <td>0</td>\n      <td>0</td>\n      <td>0</td>\n      <td>0.0</td>\n      <td>0.0</td>\n      <td>0.0</td>\n      <td>0.0</td>\n      <td>588</td>\n      <td>237</td>\n      <td>587</td>\n      <td>236</td>\n      <td>588</td>\n      <td>236</td>\n      <td>589</td>\n      <td>237</td>\n      <td>NaN</td>\n      <td>NaN</td>\n      <td>NaN</td>\n      <td>NaN</td>\n      <td>NaN</td>\n      <td>NaN</td>\n    </tr>\n    <tr>\n      <th>1</th>\n      <td>0.0</td>\n      <td>0.0</td>\n      <td>39476</td>\n      <td>0</td>\n      <td>0</td>\n      <td>-1</td>\n      <td>1</td>\n      <td>0</td>\n      <td>2</td>\n      <td>0.0</td>\n      <td>0.0</td>\n      <td>0</td>\n      <td>Sokratis</td>\n      <td>0.0</td>\n      <td>2</td>\n      <td>False</td>\n      <td>Not included in Arsenal's 25-man Premier Leagu...</td>\n      <td>2020-10-21 10:30:18.546407</td>\n      <td>49</td>\n      <td>39476.jpg</td>\n      <td>0.0</td>\n      <td>Papastathopoulos</td>\n      <td>0.1</td>\n      <td>n</td>\n      <td>1</td>\n      <td>...</td>\n      <td>0</td>\n      <td>0</td>\n      <td>0</td>\n      <td>0</td>\n      <td>0</td>\n      <td>0</td>\n      <td>0</td>\n      <td>0.0</td>\n      <td>0.0</td>\n      <td>0.0</td>\n      <td>0.0</td>\n      <td>532</td>\n      <td>204</td>\n      <td>523</td>\n      <td>204</td>\n      <td>508</td>\n      <td>195</td>\n      <td>536</td>\n      <td>204</td>\n      <td>NaN</td>\n      <td>NaN</td>\n      <td>NaN</td>\n      <td>NaN</td>\n      <td>NaN</td>\n      <td>NaN</td>\n    </tr>\n    <tr>\n      <th>2</th>\n      <td>50.0</td>\n      <td>50.0</td>\n      <td>41270</td>\n      <td>0</td>\n      <td>0</td>\n      <td>0</td>\n      <td>0</td>\n      <td>0</td>\n      <td>2</td>\n      <td>0.8</td>\n      <td>0.6</td>\n      <td>0</td>\n      <td>David</td>\n      <td>1.2</td>\n      <td>3</td>\n      <td>False</td>\n      <td>Thigh injury - 50% chance of playing</td>\n      <td>2020-10-25 21:30:13.186040</td>\n      <td>55</td>\n      <td>41270.jpg</td>\n      <td>1.4</td>\n      <td>Luiz Moreira Marinho</td>\n      <td>1.0</td>\n      <td>d</td>\n      <td>1</td>\n      <td>...</td>\n      <td>0</td>\n      <td>0</td>\n      <td>0</td>\n      <td>0</td>\n      <td>0</td>\n      <td>0</td>\n      <td>51</td>\n      <td>66.6</td>\n      <td>9.8</td>\n      <td>21.0</td>\n      <td>9.7</td>\n      <td>166</td>\n      <td>65</td>\n      <td>283</td>\n      <td>89</td>\n      <td>211</td>\n      <td>61</td>\n      <td>228</td>\n      <td>77</td>\n      <td>NaN</td>\n      <td>NaN</td>\n      <td>4.0</td>\n      <td>NaN</td>\n      <td>NaN</td>\n      <td>NaN</td>\n    </tr>\n    <tr>\n      <th>3</th>\n      <td>100.0</td>\n      <td>100.0</td>\n      <td>54694</td>\n      <td>0</td>\n      <td>0</td>\n      <td>-3</td>\n      <td>3</td>\n      <td>0</td>\n      <td>3</td>\n      <td>2.0</td>\n      <td>1.5</td>\n      <td>0</td>\n      <td>Pierre-Emerick</td>\n      <td>1.5</td>\n      <td>4</td>\n      <td>False</td>\n      <td>NaN</td>\n      <td>2020-10-08 09:00:12.305506</td>\n      <td>117</td>\n      <td>54694.jpg</td>\n      <td>3.3</td>\n      <td>Aubameyang</td>\n      <td>13.8</td>\n      <td>a</td>\n      <td>1</td>\n      <td>...</td>\n      <td>0</td>\n      <td>0</td>\n      <td>1</td>\n      <td>0</td>\n      <td>0</td>\n      <td>0</td>\n      <td>73</td>\n      <td>93.4</td>\n      <td>103.1</td>\n      <td>117.0</td>\n      <td>31.4</td>\n      <td>103</td>\n      <td>38</td>\n      <td>41</td>\n      <td>31</td>\n      <td>41</td>\n      <td>22</td>\n      <td>51</td>\n      <td>28</td>\n      <td>NaN</td>\n      <td>NaN</td>\n      <td>6.0</td>\n      <td>NaN</td>\n      <td>1.0</td>\n      <td>NaN</td>\n    </tr>\n    <tr>\n      <th>4</th>\n      <td>100.0</td>\n      <td>100.0</td>\n      <td>58822</td>\n      <td>0</td>\n      <td>0</td>\n      <td>-3</td>\n      <td>3</td>\n      <td>0</td>\n      <td>2</td>\n      <td>0.5</td>\n      <td>0.0</td>\n      <td>0</td>\n      <td>Cédric</td>\n      <td>0.0</td>\n      <td>5</td>\n      <td>False</td>\n      <td>NaN</td>\n      <td>2020-09-23 09:00:14.881983</td>\n      <td>47</td>\n      <td>58822.jpg</td>\n      <td>0.0</td>\n      <td>Soares</td>\n      <td>0.2</td>\n      <td>a</td>\n      <td>1</td>\n      <td>...</td>\n      <td>0</td>\n      <td>0</td>\n      <td>0</td>\n      <td>0</td>\n      <td>0</td>\n      <td>0</td>\n      <td>0</td>\n      <td>0.0</td>\n      <td>0.0</td>\n      <td>0.0</td>\n      <td>0.0</td>\n      <td>509</td>\n      <td>197</td>\n      <td>497</td>\n      <td>197</td>\n      <td>474</td>\n      <td>186</td>\n      <td>513</td>\n      <td>197</td>\n      <td>NaN</td>\n      <td>NaN</td>\n      <td>NaN</td>\n      <td>NaN</td>\n      <td>NaN</td>\n      <td>NaN</td>\n    </tr>\n  </tbody>\n</table>\n<p>5 rows × 65 columns</p>\n</div>"
     },
     "metadata": {},
     "execution_count": 47
    }
   ],
   "source": [
    "all_players.head()"
   ]
  },
  {
   "cell_type": "code",
   "execution_count": 48,
   "metadata": {},
   "outputs": [],
   "source": [
    "all_players['PP90'] = np.divide(all_players['total_points'] , all_players['total_minutes'])*90 "
   ]
  },
  {
   "cell_type": "code",
   "execution_count": 49,
   "metadata": {},
   "outputs": [],
   "source": [
    "all_players['PPMM'] = np.divide(all_players['PPG'] , all_players['now_cost']/10)"
   ]
  },
  {
   "cell_type": "code",
   "execution_count": 50,
   "metadata": {},
   "outputs": [],
   "source": [
    "all_players['VAPM'] = np.divide(all_players['PPG']-2 , all_players['now_cost']/10)"
   ]
  },
  {
   "cell_type": "code",
   "execution_count": 51,
   "metadata": {},
   "outputs": [
    {
     "output_type": "execute_result",
     "data": {
      "text/plain": [
       "      web_name  player_type_id  total_points  total_minutes       PP90   PPG      PPMM      VAPM\n",
       "575     Kilman               2            29            360   7.250000   7.2  1.714286  1.238095\n",
       "143   Chilwell               2            27            270   9.000000   9.0  1.525424  1.186441\n",
       "39   Hourihane               3            17            137  11.167883   8.5  1.416667  1.083333\n",
       "278    Bamford               4            49            490   9.000000   8.2  1.389831  1.050847\n",
       "480        Son               3            69            466  13.326180  11.5  1.210526  1.000000"
      ],
      "text/html": "<div>\n<style scoped>\n    .dataframe tbody tr th:only-of-type {\n        vertical-align: middle;\n    }\n\n    .dataframe tbody tr th {\n        vertical-align: top;\n    }\n\n    .dataframe thead th {\n        text-align: right;\n    }\n</style>\n<table border=\"1\" class=\"dataframe\">\n  <thead>\n    <tr style=\"text-align: right;\">\n      <th></th>\n      <th>web_name</th>\n      <th>player_type_id</th>\n      <th>total_points</th>\n      <th>total_minutes</th>\n      <th>PP90</th>\n      <th>PPG</th>\n      <th>PPMM</th>\n      <th>VAPM</th>\n    </tr>\n  </thead>\n  <tbody>\n    <tr>\n      <th>575</th>\n      <td>Kilman</td>\n      <td>2</td>\n      <td>29</td>\n      <td>360</td>\n      <td>7.250000</td>\n      <td>7.2</td>\n      <td>1.714286</td>\n      <td>1.238095</td>\n    </tr>\n    <tr>\n      <th>143</th>\n      <td>Chilwell</td>\n      <td>2</td>\n      <td>27</td>\n      <td>270</td>\n      <td>9.000000</td>\n      <td>9.0</td>\n      <td>1.525424</td>\n      <td>1.186441</td>\n    </tr>\n    <tr>\n      <th>39</th>\n      <td>Hourihane</td>\n      <td>3</td>\n      <td>17</td>\n      <td>137</td>\n      <td>11.167883</td>\n      <td>8.5</td>\n      <td>1.416667</td>\n      <td>1.083333</td>\n    </tr>\n    <tr>\n      <th>278</th>\n      <td>Bamford</td>\n      <td>4</td>\n      <td>49</td>\n      <td>490</td>\n      <td>9.000000</td>\n      <td>8.2</td>\n      <td>1.389831</td>\n      <td>1.050847</td>\n    </tr>\n    <tr>\n      <th>480</th>\n      <td>Son</td>\n      <td>3</td>\n      <td>69</td>\n      <td>466</td>\n      <td>13.326180</td>\n      <td>11.5</td>\n      <td>1.210526</td>\n      <td>1.000000</td>\n    </tr>\n  </tbody>\n</table>\n</div>"
     },
     "metadata": {},
     "execution_count": 51
    }
   ],
   "source": [
    "all_players[['web_name' , 'player_type_id', 'total_points' , 'total_minutes' , 'PP90' , 'PPG' , 'PPMM' , 'VAPM']][all_players['total_minutes']>100].sort_values(by='VAPM' , ascending = False).head()"
   ]
  },
  {
   "cell_type": "markdown",
   "metadata": {},
   "source": [
    "## Save cleaned data"
   ]
  },
  {
   "cell_type": "code",
   "execution_count": 52,
   "metadata": {},
   "outputs": [],
   "source": [
    "all_players.to_csv (r'./data/' + season + '/Cleaned_data/all_players.csv', index = False, header=True)\n",
    "all_teams.to_csv (r'./data/' + season + '/Cleaned_data/all_teams.csv', index = False, header = True)\n",
    "all_events.to_csv (r'./data/' + season + '/Cleaned_data/all_events.csv', index = False, header = True)\n",
    "player_types.to_csv(r'./data/' + season + '/Cleaned_data/player_types.csv', index = False, header = True)\n",
    "game_phases.to_csv(r'./data/' + season + '/Cleaned_data/game_phases.csv', index = False, header = True)\n",
    "\n",
    "player_season_history.to_csv (r'./data/' + season + '/Cleaned_data/player_season_history.csv', index = False, header=True)\n",
    "player_gameweek_history.to_csv (r'./data/' + season + '/Cleaned_data/player_gameweek_history.csv', index = False, header=True)\n",
    "player_future_fixture.to_csv (r'./data/' + season + '/Cleaned_data/player_future_fixture.csv', index = False, header=True)"
   ]
  },
  {
   "cell_type": "code",
   "execution_count": null,
   "metadata": {},
   "outputs": [],
   "source": []
  }
 ]
}