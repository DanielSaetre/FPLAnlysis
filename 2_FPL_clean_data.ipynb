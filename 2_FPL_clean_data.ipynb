{
 "metadata": {
  "language_info": {
   "codemirror_mode": {
    "name": "ipython",
    "version": 3
   },
   "file_extension": ".py",
   "mimetype": "text/x-python",
   "name": "python",
   "nbconvert_exporter": "python",
   "pygments_lexer": "ipython3",
   "version": "3.8.3-final"
  },
  "orig_nbformat": 2,
  "kernelspec": {
   "name": "Python 3.8.3 64-bit (conda)",
   "display_name": "Python 3.8.3 64-bit (conda)",
   "metadata": {
    "interpreter": {
     "hash": "fb698bdeab99cfbf9e31cab566d99a06e057f2dec3dcc8097ebabb329e860e16"
    }
   }
  }
 },
 "nbformat": 4,
 "nbformat_minor": 2,
 "cells": [
  {
   "cell_type": "code",
   "execution_count": 18,
   "metadata": {},
   "outputs": [],
   "source": [
    "import numpy as np\n",
    "import pandas as pd\n",
    "import requests\n",
    "from datetime import datetime\n",
    "import json\n",
    "\n",
    "#Set Display options\n",
    "pd.set_option('display.max_rows', 50)\n",
    "pd.set_option('display.max_columns', 50)\n",
    "pd.set_option('display.width' , 1000)"
   ]
  },
  {
   "cell_type": "code",
   "execution_count": 19,
   "metadata": {},
   "outputs": [],
   "source": [
    "# Variables\n",
    "season = \"2020-21\""
   ]
  },
  {
   "cell_type": "code",
   "execution_count": 20,
   "metadata": {},
   "outputs": [],
   "source": [
    "all_players = pd.read_csv (r'./data/' + season + '/Raw_data/all_players.csv', parse_dates= [\"news_added\"])\n",
    "all_teams = pd.read_csv (r'./data/' + season + '/Raw_data/all_teams.csv')\n",
    "all_events = pd.read_csv (r'./data/' + season + '/Raw_data/all_events.csv', parse_dates= [\"deadline_time\"])\n",
    "player_types = pd.read_csv(r'./data/' + season + '/Raw_data/player_types.csv')\n",
    "game_phases = pd.read_csv(r'./data/' + season + '/Raw_data/game_phases.csv')\n",
    "\n",
    "understat_player = pd.read_csv(r'./data/' + season + '/Raw_data/understat/understat_player.csv')\n",
    "\n",
    "player_season_history = pd.read_csv(r'./data/' + season + '/Raw_data/player_season_history.csv')\n",
    "player_gameweek_history = pd.read_csv(r'./data/' + season + '/Raw_data/player_gameweek_history.csv')\n",
    "#player_gameweek_history = pd.read_csv(r'./data/2019-20/player_past_history/player_gameweek_history_raw.csv')\n",
    "player_future_fixture = pd.read_csv(r'./data/' + season + '/Raw_data/player_future_fixture.csv', parse_dates = [\"kickoff_time\"])\n",
    "\n"
   ]
  },
  {
   "cell_type": "code",
   "execution_count": 28,
   "metadata": {},
   "outputs": [
    {
     "output_type": "execute_result",
     "data": {
      "text/plain": "     id            player_name  games  time  goals        xG  assists        xA  shots  key_passes  yellow_cards  red_cards position        team_title  npg      npxG   xGChain  xGBuildup\n0   453          Son Heung-Min      4   305      6  1.908542        1  1.566852     10          12             0          0      F M         Tottenham    6  1.908542  3.667317   1.263623\n1  5555  Dominic Calvert-Lewin      4   343      6  4.412360        0  0.106039     15           1             0          0        F           Everton    6  4.412360  4.070678   1.158628\n2   755            Jamie Vardy      4   355      5  3.879281        0  0.162430      7           2             0          0        F         Leicester    1  0.834606  1.213707   0.216671\n3  1250          Mohamed Salah      4   360      5  2.968508        0  1.511990     19          14             0          0        F         Liverpool    3  1.446170  3.628054   1.227359\n4   468          Callum Wilson      4   356      4  3.759825        1  0.282659      9           4             0          0        F  Newcastle United    2  2.237487  2.755809   0.257033",
      "text/html": "<div>\n<style scoped>\n    .dataframe tbody tr th:only-of-type {\n        vertical-align: middle;\n    }\n\n    .dataframe tbody tr th {\n        vertical-align: top;\n    }\n\n    .dataframe thead th {\n        text-align: right;\n    }\n</style>\n<table border=\"1\" class=\"dataframe\">\n  <thead>\n    <tr style=\"text-align: right;\">\n      <th></th>\n      <th>id</th>\n      <th>player_name</th>\n      <th>games</th>\n      <th>time</th>\n      <th>goals</th>\n      <th>xG</th>\n      <th>assists</th>\n      <th>xA</th>\n      <th>shots</th>\n      <th>key_passes</th>\n      <th>yellow_cards</th>\n      <th>red_cards</th>\n      <th>position</th>\n      <th>team_title</th>\n      <th>npg</th>\n      <th>npxG</th>\n      <th>xGChain</th>\n      <th>xGBuildup</th>\n    </tr>\n  </thead>\n  <tbody>\n    <tr>\n      <th>0</th>\n      <td>453</td>\n      <td>Son Heung-Min</td>\n      <td>4</td>\n      <td>305</td>\n      <td>6</td>\n      <td>1.908542</td>\n      <td>1</td>\n      <td>1.566852</td>\n      <td>10</td>\n      <td>12</td>\n      <td>0</td>\n      <td>0</td>\n      <td>F M</td>\n      <td>Tottenham</td>\n      <td>6</td>\n      <td>1.908542</td>\n      <td>3.667317</td>\n      <td>1.263623</td>\n    </tr>\n    <tr>\n      <th>1</th>\n      <td>5555</td>\n      <td>Dominic Calvert-Lewin</td>\n      <td>4</td>\n      <td>343</td>\n      <td>6</td>\n      <td>4.412360</td>\n      <td>0</td>\n      <td>0.106039</td>\n      <td>15</td>\n      <td>1</td>\n      <td>0</td>\n      <td>0</td>\n      <td>F</td>\n      <td>Everton</td>\n      <td>6</td>\n      <td>4.412360</td>\n      <td>4.070678</td>\n      <td>1.158628</td>\n    </tr>\n    <tr>\n      <th>2</th>\n      <td>755</td>\n      <td>Jamie Vardy</td>\n      <td>4</td>\n      <td>355</td>\n      <td>5</td>\n      <td>3.879281</td>\n      <td>0</td>\n      <td>0.162430</td>\n      <td>7</td>\n      <td>2</td>\n      <td>0</td>\n      <td>0</td>\n      <td>F</td>\n      <td>Leicester</td>\n      <td>1</td>\n      <td>0.834606</td>\n      <td>1.213707</td>\n      <td>0.216671</td>\n    </tr>\n    <tr>\n      <th>3</th>\n      <td>1250</td>\n      <td>Mohamed Salah</td>\n      <td>4</td>\n      <td>360</td>\n      <td>5</td>\n      <td>2.968508</td>\n      <td>0</td>\n      <td>1.511990</td>\n      <td>19</td>\n      <td>14</td>\n      <td>0</td>\n      <td>0</td>\n      <td>F</td>\n      <td>Liverpool</td>\n      <td>3</td>\n      <td>1.446170</td>\n      <td>3.628054</td>\n      <td>1.227359</td>\n    </tr>\n    <tr>\n      <th>4</th>\n      <td>468</td>\n      <td>Callum Wilson</td>\n      <td>4</td>\n      <td>356</td>\n      <td>4</td>\n      <td>3.759825</td>\n      <td>1</td>\n      <td>0.282659</td>\n      <td>9</td>\n      <td>4</td>\n      <td>0</td>\n      <td>0</td>\n      <td>F</td>\n      <td>Newcastle United</td>\n      <td>2</td>\n      <td>2.237487</td>\n      <td>2.755809</td>\n      <td>0.257033</td>\n    </tr>\n  </tbody>\n</table>\n</div>"
     },
     "metadata": {},
     "execution_count": 28
    }
   ],
   "source": [
    "understat_player.head()"
   ]
  },
  {
   "cell_type": "markdown",
   "metadata": {},
   "source": [
    "## Rename columns"
   ]
  },
  {
   "cell_type": "code",
   "execution_count": 21,
   "metadata": {},
   "outputs": [
    {
     "output_type": "execute_result",
     "data": {
      "text/plain": "   element  fixture  opponent_team  total_points  was_home          kickoff_time  team_h_score  team_a_score  round  minutes  goals_scored  assists  clean_sheets  goals_conceded  own_goals  penalties_saved  penalties_missed  yellow_cards  red_cards  saves  bonus  bps  influence  creativity  threat  ict_index  value  transfers_balance  selected  transfers_in  transfers_out\n0        1        2              8             0     False  2020-09-12T11:30:00Z             0             3      1        0             0        0             0               0          0                0                 0             0          0      0      0    0        0.0         0.0     0.0        0.0     70                  0     76656             0              0\n1        1        9             19             0      True  2020-09-19T19:00:00Z             2             1      2        0             0        0             0               0          0                0                 0             0          0      0      0    0        0.0         0.0     0.0        0.0     69             -16828     68335           995          17823\n2        1       23             11             0     False  2020-09-28T19:00:00Z             3             1      3        0             0        0             0               0          0                0                 0             0          0      0      0    0        0.0         0.0     0.0        0.0     69             -11451     59793           675          12126\n3        1       29             15             0      True  2020-10-04T13:00:00Z             2             1      4        0             0        0             0               0          0                0                 0             0          0      0      0    0        0.0         0.0     0.0        0.0     68              -5324     56403           647           5971\n4        2        2              8             0     False  2020-09-12T11:30:00Z             0             3      1        0             0        0             0               0          0                0                 0             0          0      0      0    0        0.0         0.0     0.0        0.0     50                  0     12184             0              0",
      "text/html": "<div>\n<style scoped>\n    .dataframe tbody tr th:only-of-type {\n        vertical-align: middle;\n    }\n\n    .dataframe tbody tr th {\n        vertical-align: top;\n    }\n\n    .dataframe thead th {\n        text-align: right;\n    }\n</style>\n<table border=\"1\" class=\"dataframe\">\n  <thead>\n    <tr style=\"text-align: right;\">\n      <th></th>\n      <th>element</th>\n      <th>fixture</th>\n      <th>opponent_team</th>\n      <th>total_points</th>\n      <th>was_home</th>\n      <th>kickoff_time</th>\n      <th>team_h_score</th>\n      <th>team_a_score</th>\n      <th>round</th>\n      <th>minutes</th>\n      <th>goals_scored</th>\n      <th>assists</th>\n      <th>clean_sheets</th>\n      <th>goals_conceded</th>\n      <th>own_goals</th>\n      <th>penalties_saved</th>\n      <th>penalties_missed</th>\n      <th>yellow_cards</th>\n      <th>red_cards</th>\n      <th>saves</th>\n      <th>bonus</th>\n      <th>bps</th>\n      <th>influence</th>\n      <th>creativity</th>\n      <th>threat</th>\n      <th>ict_index</th>\n      <th>value</th>\n      <th>transfers_balance</th>\n      <th>selected</th>\n      <th>transfers_in</th>\n      <th>transfers_out</th>\n    </tr>\n  </thead>\n  <tbody>\n    <tr>\n      <th>0</th>\n      <td>1</td>\n      <td>2</td>\n      <td>8</td>\n      <td>0</td>\n      <td>False</td>\n      <td>2020-09-12T11:30:00Z</td>\n      <td>0</td>\n      <td>3</td>\n      <td>1</td>\n      <td>0</td>\n      <td>0</td>\n      <td>0</td>\n      <td>0</td>\n      <td>0</td>\n      <td>0</td>\n      <td>0</td>\n      <td>0</td>\n      <td>0</td>\n      <td>0</td>\n      <td>0</td>\n      <td>0</td>\n      <td>0</td>\n      <td>0.0</td>\n      <td>0.0</td>\n      <td>0.0</td>\n      <td>0.0</td>\n      <td>70</td>\n      <td>0</td>\n      <td>76656</td>\n      <td>0</td>\n      <td>0</td>\n    </tr>\n    <tr>\n      <th>1</th>\n      <td>1</td>\n      <td>9</td>\n      <td>19</td>\n      <td>0</td>\n      <td>True</td>\n      <td>2020-09-19T19:00:00Z</td>\n      <td>2</td>\n      <td>1</td>\n      <td>2</td>\n      <td>0</td>\n      <td>0</td>\n      <td>0</td>\n      <td>0</td>\n      <td>0</td>\n      <td>0</td>\n      <td>0</td>\n      <td>0</td>\n      <td>0</td>\n      <td>0</td>\n      <td>0</td>\n      <td>0</td>\n      <td>0</td>\n      <td>0.0</td>\n      <td>0.0</td>\n      <td>0.0</td>\n      <td>0.0</td>\n      <td>69</td>\n      <td>-16828</td>\n      <td>68335</td>\n      <td>995</td>\n      <td>17823</td>\n    </tr>\n    <tr>\n      <th>2</th>\n      <td>1</td>\n      <td>23</td>\n      <td>11</td>\n      <td>0</td>\n      <td>False</td>\n      <td>2020-09-28T19:00:00Z</td>\n      <td>3</td>\n      <td>1</td>\n      <td>3</td>\n      <td>0</td>\n      <td>0</td>\n      <td>0</td>\n      <td>0</td>\n      <td>0</td>\n      <td>0</td>\n      <td>0</td>\n      <td>0</td>\n      <td>0</td>\n      <td>0</td>\n      <td>0</td>\n      <td>0</td>\n      <td>0</td>\n      <td>0.0</td>\n      <td>0.0</td>\n      <td>0.0</td>\n      <td>0.0</td>\n      <td>69</td>\n      <td>-11451</td>\n      <td>59793</td>\n      <td>675</td>\n      <td>12126</td>\n    </tr>\n    <tr>\n      <th>3</th>\n      <td>1</td>\n      <td>29</td>\n      <td>15</td>\n      <td>0</td>\n      <td>True</td>\n      <td>2020-10-04T13:00:00Z</td>\n      <td>2</td>\n      <td>1</td>\n      <td>4</td>\n      <td>0</td>\n      <td>0</td>\n      <td>0</td>\n      <td>0</td>\n      <td>0</td>\n      <td>0</td>\n      <td>0</td>\n      <td>0</td>\n      <td>0</td>\n      <td>0</td>\n      <td>0</td>\n      <td>0</td>\n      <td>0</td>\n      <td>0.0</td>\n      <td>0.0</td>\n      <td>0.0</td>\n      <td>0.0</td>\n      <td>68</td>\n      <td>-5324</td>\n      <td>56403</td>\n      <td>647</td>\n      <td>5971</td>\n    </tr>\n    <tr>\n      <th>4</th>\n      <td>2</td>\n      <td>2</td>\n      <td>8</td>\n      <td>0</td>\n      <td>False</td>\n      <td>2020-09-12T11:30:00Z</td>\n      <td>0</td>\n      <td>3</td>\n      <td>1</td>\n      <td>0</td>\n      <td>0</td>\n      <td>0</td>\n      <td>0</td>\n      <td>0</td>\n      <td>0</td>\n      <td>0</td>\n      <td>0</td>\n      <td>0</td>\n      <td>0</td>\n      <td>0</td>\n      <td>0</td>\n      <td>0</td>\n      <td>0.0</td>\n      <td>0.0</td>\n      <td>0.0</td>\n      <td>0.0</td>\n      <td>50</td>\n      <td>0</td>\n      <td>12184</td>\n      <td>0</td>\n      <td>0</td>\n    </tr>\n  </tbody>\n</table>\n</div>"
     },
     "metadata": {},
     "execution_count": 21
    }
   ],
   "source": [
    "player_gameweek_history.head()"
   ]
  },
  {
   "cell_type": "code",
   "execution_count": 22,
   "metadata": {},
   "outputs": [],
   "source": [
    "player_gameweek_history.rename(columns = {\"element\" : \"player_id\" , \"opponent_team\" : \"opponent_team_id\" , \"fixture\" : \"fixture_id\" } , inplace = True)\n",
    "all_players.rename(columns = {\"code\" : \"player_code\", \"element_type\" : \"player_type_id\" , \"minutes\" : \"total_minutes\" , \"id\" : \"player_id\" , \"team\" : \"team_id\" , \"points_per_game\" : \"PPG\"} , inplace=True)\n",
    "all_teams.rename(columns = {\"id\" : \"team_id\" , \"code\" : \"team_code\" , \"name\" : \"team_name\" , \"short_name\" : \"team_short_name\" , \"strength\" : \"team_strength\" , \"form\" : \"team_form\"} , inplace = True)\n",
    "all_events.rename(columns = {\"id\" : \"gameweek_id\"} , inplace = True)\n",
    "player_types.rename(columns = {\"id\" : \"player_type_id\" , \"singular_name\" : \"position_name\" , \"singular_name_short\" : \"position_name_short\"} , inplace = True)\n",
    "game_phases.rename(columns = {\"id\" : \"phase_id\"} , inplace = True)\n",
    "player_season_history.rename(columns = {\"element_code\" : \"player_code\"} , inplace = True)\n",
    "player_future_fixture.rename(columns = {\"id\" : \"fixture_id\" , \"team_h\" : \"home_team_id\" , \"team_a\" : \"away_team_id\" , \"events\" : \"gameweek_id\" , \"code\" : \"fixture_code\"} , inplace = True)\n",
    "#player_gameweek_history.rename(columns = {} , inplace = True)\n"
   ]
  },
  {
   "cell_type": "markdown",
   "metadata": {},
   "source": [
    "## Drop columns"
   ]
  },
  {
   "cell_type": "code",
   "execution_count": 23,
   "metadata": {},
   "outputs": [
    {
     "output_type": "execute_result",
     "data": {
      "text/plain": "   gameweek_id        name             deadline_time  average_entry_score  finished  data_checked  highest_scoring_entry  deadline_time_epoch  deadline_time_game_offset  highest_score  is_previous  is_current  is_next                                         chip_plays  most_selected  most_transferred_in  top_element           top_element_info  transfers_made  most_captained  most_vice_captained\n0            1  Gameweek 1 2020-09-12 10:00:00+00:00                   50      True          True              4761681.0           1599904800                          0          142.0        False       False    False  [{&#39;chip_name&#39;: &#39;bboost&#39;, &#39;num_played&#39;: 112843}...          259.0                 12.0        254.0  {&#39;id&#39;: 254, &#39;points&#39;: 20}               0             4.0                  4.0\n1            2  Gameweek 2 2020-09-19 10:00:00+00:00                   59      True          True              6234344.0           1600509600                          0          165.0        False       False    False  [{&#39;chip_name&#39;: &#39;bboost&#39;, &#39;num_played&#39;: 94615},...          259.0                302.0        390.0  {&#39;id&#39;: 390, &#39;points&#39;: 24}        14637421             4.0                254.0\n2            3  Gameweek 3 2020-09-26 10:00:00+00:00                   43      True          True              6223553.0           1601114400                          0          119.0         True       False    False  [{&#39;chip_name&#39;: &#39;bboost&#39;, &#39;num_played&#39;: 86797},...          259.0                164.0        224.0  {&#39;id&#39;: 224, &#39;points&#39;: 17}        20387878           272.0                254.0\n3            4  Gameweek 4 2020-10-03 10:00:00+00:00                   48      True          True              6563000.0           1601719200                          0          160.0        False        True    False  [{&#39;chip_name&#39;: &#39;bboost&#39;, &#39;num_played&#39;: 82267},...          272.0                164.0         37.0   {&#39;id&#39;: 37, &#39;points&#39;: 24}        14570655           254.0                272.0\n4            5  Gameweek 5 2020-10-17 10:00:00+00:00                    0     False         False                    NaN           1602928800                          0            NaN        False       False     True  [{&#39;chip_name&#39;: &#39;bboost&#39;, &#39;num_played&#39;: 58095},...            NaN                  NaN          NaN                        NaN        11026060             NaN                  NaN",
      "text/html": "<div>\n<style scoped>\n    .dataframe tbody tr th:only-of-type {\n        vertical-align: middle;\n    }\n\n    .dataframe tbody tr th {\n        vertical-align: top;\n    }\n\n    .dataframe thead th {\n        text-align: right;\n    }\n</style>\n<table border=\"1\" class=\"dataframe\">\n  <thead>\n    <tr style=\"text-align: right;\">\n      <th></th>\n      <th>gameweek_id</th>\n      <th>name</th>\n      <th>deadline_time</th>\n      <th>average_entry_score</th>\n      <th>finished</th>\n      <th>data_checked</th>\n      <th>highest_scoring_entry</th>\n      <th>deadline_time_epoch</th>\n      <th>deadline_time_game_offset</th>\n      <th>highest_score</th>\n      <th>is_previous</th>\n      <th>is_current</th>\n      <th>is_next</th>\n      <th>chip_plays</th>\n      <th>most_selected</th>\n      <th>most_transferred_in</th>\n      <th>top_element</th>\n      <th>top_element_info</th>\n      <th>transfers_made</th>\n      <th>most_captained</th>\n      <th>most_vice_captained</th>\n    </tr>\n  </thead>\n  <tbody>\n    <tr>\n      <th>0</th>\n      <td>1</td>\n      <td>Gameweek 1</td>\n      <td>2020-09-12 10:00:00+00:00</td>\n      <td>50</td>\n      <td>True</td>\n      <td>True</td>\n      <td>4761681.0</td>\n      <td>1599904800</td>\n      <td>0</td>\n      <td>142.0</td>\n      <td>False</td>\n      <td>False</td>\n      <td>False</td>\n      <td>[{'chip_name': 'bboost', 'num_played': 112843}...</td>\n      <td>259.0</td>\n      <td>12.0</td>\n      <td>254.0</td>\n      <td>{'id': 254, 'points': 20}</td>\n      <td>0</td>\n      <td>4.0</td>\n      <td>4.0</td>\n    </tr>\n    <tr>\n      <th>1</th>\n      <td>2</td>\n      <td>Gameweek 2</td>\n      <td>2020-09-19 10:00:00+00:00</td>\n      <td>59</td>\n      <td>True</td>\n      <td>True</td>\n      <td>6234344.0</td>\n      <td>1600509600</td>\n      <td>0</td>\n      <td>165.0</td>\n      <td>False</td>\n      <td>False</td>\n      <td>False</td>\n      <td>[{'chip_name': 'bboost', 'num_played': 94615},...</td>\n      <td>259.0</td>\n      <td>302.0</td>\n      <td>390.0</td>\n      <td>{'id': 390, 'points': 24}</td>\n      <td>14637421</td>\n      <td>4.0</td>\n      <td>254.0</td>\n    </tr>\n    <tr>\n      <th>2</th>\n      <td>3</td>\n      <td>Gameweek 3</td>\n      <td>2020-09-26 10:00:00+00:00</td>\n      <td>43</td>\n      <td>True</td>\n      <td>True</td>\n      <td>6223553.0</td>\n      <td>1601114400</td>\n      <td>0</td>\n      <td>119.0</td>\n      <td>True</td>\n      <td>False</td>\n      <td>False</td>\n      <td>[{'chip_name': 'bboost', 'num_played': 86797},...</td>\n      <td>259.0</td>\n      <td>164.0</td>\n      <td>224.0</td>\n      <td>{'id': 224, 'points': 17}</td>\n      <td>20387878</td>\n      <td>272.0</td>\n      <td>254.0</td>\n    </tr>\n    <tr>\n      <th>3</th>\n      <td>4</td>\n      <td>Gameweek 4</td>\n      <td>2020-10-03 10:00:00+00:00</td>\n      <td>48</td>\n      <td>True</td>\n      <td>True</td>\n      <td>6563000.0</td>\n      <td>1601719200</td>\n      <td>0</td>\n      <td>160.0</td>\n      <td>False</td>\n      <td>True</td>\n      <td>False</td>\n      <td>[{'chip_name': 'bboost', 'num_played': 82267},...</td>\n      <td>272.0</td>\n      <td>164.0</td>\n      <td>37.0</td>\n      <td>{'id': 37, 'points': 24}</td>\n      <td>14570655</td>\n      <td>254.0</td>\n      <td>272.0</td>\n    </tr>\n    <tr>\n      <th>4</th>\n      <td>5</td>\n      <td>Gameweek 5</td>\n      <td>2020-10-17 10:00:00+00:00</td>\n      <td>0</td>\n      <td>False</td>\n      <td>False</td>\n      <td>NaN</td>\n      <td>1602928800</td>\n      <td>0</td>\n      <td>NaN</td>\n      <td>False</td>\n      <td>False</td>\n      <td>True</td>\n      <td>[{'chip_name': 'bboost', 'num_played': 58095},...</td>\n      <td>NaN</td>\n      <td>NaN</td>\n      <td>NaN</td>\n      <td>NaN</td>\n      <td>11026060</td>\n      <td>NaN</td>\n      <td>NaN</td>\n    </tr>\n  </tbody>\n</table>\n</div>"
     },
     "metadata": {},
     "execution_count": 23
    }
   ],
   "source": [
    "all_events.head(5)"
   ]
  },
  {
   "cell_type": "code",
   "execution_count": 24,
   "metadata": {},
   "outputs": [],
   "source": [
    "all_events.drop(columns = [\"deadline_time_epoch\"] , inplace = True)\n",
    "player_types.drop(columns = [\"plural_name\" , \"plural_name_short\"] , inplace = True)\n",
    "all_players.drop(columns = [\"squad_number\" , \"special\" , \"transfers_in\" , \"transfers_out\" , \"first_name\" , \"second_name\"] , inplace = True)"
   ]
  },
  {
   "cell_type": "markdown",
   "metadata": {},
   "source": [
    "## Change date columns"
   ]
  },
  {
   "cell_type": "code",
   "execution_count": 25,
   "metadata": {},
   "outputs": [],
   "source": [
    "all_players['news_added'] = all_players['news_added'].dt.tz_localize(None)\n",
    "all_events['deadline_time'] = all_events['deadline_time'].dt.tz_localize(None)\n",
    "player_future_fixture['kickoff_time'] = player_future_fixture['kickoff_time'].dt.tz_localize(None)\n",
    "\n",
    "player_gameweek_history['kickoff_time'] = pd.to_datetime(player_gameweek_history['kickoff_time'])\n",
    "player_gameweek_history['kickoff_time'] = player_gameweek_history['kickoff_time'].dt.tz_localize(None)"
   ]
  },
  {
   "cell_type": "markdown",
   "metadata": {},
   "source": [
    "\n",
    "## Add Columns"
   ]
  },
  {
   "cell_type": "code",
   "execution_count": 26,
   "metadata": {},
   "outputs": [
    {
     "output_type": "execute_result",
     "data": {
      "text/plain": "   fixture_id  fixture_code  home_team_id  team_h_score  away_team_id  team_a_score  event  finished  minutes  provisional_start_time        kickoff_time  event_name  is_home  difficulty  player_id\n0          44       2128331            12           NaN             1           NaN    5.0     False        0                   False 2020-10-17 16:30:00  Gameweek 5    False           5          1\n1          49       2128336             1           NaN             9           NaN    6.0     False        0                   False 2020-10-25 19:15:00  Gameweek 6     True           3          1\n2          64       2128351            13           NaN             1           NaN    7.0     False        0                   False 2020-11-01 16:30:00  Gameweek 7    False           4          1\n3          69       2128356             1           NaN             2           NaN    8.0     False        0                   False 2020-11-07 15:00:00  Gameweek 8     True           3          1\n4          82       2128369            10           NaN             1           NaN    9.0     False        0                   False 2020-11-21 15:00:00  Gameweek 9    False           3          1",
      "text/html": "<div>\n<style scoped>\n    .dataframe tbody tr th:only-of-type {\n        vertical-align: middle;\n    }\n\n    .dataframe tbody tr th {\n        vertical-align: top;\n    }\n\n    .dataframe thead th {\n        text-align: right;\n    }\n</style>\n<table border=\"1\" class=\"dataframe\">\n  <thead>\n    <tr style=\"text-align: right;\">\n      <th></th>\n      <th>fixture_id</th>\n      <th>fixture_code</th>\n      <th>home_team_id</th>\n      <th>team_h_score</th>\n      <th>away_team_id</th>\n      <th>team_a_score</th>\n      <th>event</th>\n      <th>finished</th>\n      <th>minutes</th>\n      <th>provisional_start_time</th>\n      <th>kickoff_time</th>\n      <th>event_name</th>\n      <th>is_home</th>\n      <th>difficulty</th>\n      <th>player_id</th>\n    </tr>\n  </thead>\n  <tbody>\n    <tr>\n      <th>0</th>\n      <td>44</td>\n      <td>2128331</td>\n      <td>12</td>\n      <td>NaN</td>\n      <td>1</td>\n      <td>NaN</td>\n      <td>5.0</td>\n      <td>False</td>\n      <td>0</td>\n      <td>False</td>\n      <td>2020-10-17 16:30:00</td>\n      <td>Gameweek 5</td>\n      <td>False</td>\n      <td>5</td>\n      <td>1</td>\n    </tr>\n    <tr>\n      <th>1</th>\n      <td>49</td>\n      <td>2128336</td>\n      <td>1</td>\n      <td>NaN</td>\n      <td>9</td>\n      <td>NaN</td>\n      <td>6.0</td>\n      <td>False</td>\n      <td>0</td>\n      <td>False</td>\n      <td>2020-10-25 19:15:00</td>\n      <td>Gameweek 6</td>\n      <td>True</td>\n      <td>3</td>\n      <td>1</td>\n    </tr>\n    <tr>\n      <th>2</th>\n      <td>64</td>\n      <td>2128351</td>\n      <td>13</td>\n      <td>NaN</td>\n      <td>1</td>\n      <td>NaN</td>\n      <td>7.0</td>\n      <td>False</td>\n      <td>0</td>\n      <td>False</td>\n      <td>2020-11-01 16:30:00</td>\n      <td>Gameweek 7</td>\n      <td>False</td>\n      <td>4</td>\n      <td>1</td>\n    </tr>\n    <tr>\n      <th>3</th>\n      <td>69</td>\n      <td>2128356</td>\n      <td>1</td>\n      <td>NaN</td>\n      <td>2</td>\n      <td>NaN</td>\n      <td>8.0</td>\n      <td>False</td>\n      <td>0</td>\n      <td>False</td>\n      <td>2020-11-07 15:00:00</td>\n      <td>Gameweek 8</td>\n      <td>True</td>\n      <td>3</td>\n      <td>1</td>\n    </tr>\n    <tr>\n      <th>4</th>\n      <td>82</td>\n      <td>2128369</td>\n      <td>10</td>\n      <td>NaN</td>\n      <td>1</td>\n      <td>NaN</td>\n      <td>9.0</td>\n      <td>False</td>\n      <td>0</td>\n      <td>False</td>\n      <td>2020-11-21 15:00:00</td>\n      <td>Gameweek 9</td>\n      <td>False</td>\n      <td>3</td>\n      <td>1</td>\n    </tr>\n  </tbody>\n</table>\n</div>"
     },
     "metadata": {},
     "execution_count": 26
    }
   ],
   "source": [
    "player_future_fixture.head()"
   ]
  },
  {
   "cell_type": "code",
   "execution_count": 27,
   "metadata": {},
   "outputs": [],
   "source": [
    "def opponent_team(row):\n",
    "    if row['is_home'] == True:\n",
    "        val = row['away_team_id']\n",
    "    elif row['is_home'] == False:\n",
    "        val = row['home_team_id']\n",
    "    return val\n",
    "\n",
    "def team(row):\n",
    "    if row['is_home'] == False:\n",
    "        val = row['away_team_id']\n",
    "    elif row['is_home'] == True:\n",
    "        val = row['home_team_id']\n",
    "    return val\n",
    "\n",
    "\n",
    "player_future_fixture['opponent_team_id'] = player_future_fixture.apply(opponent_team,axis=1)\n",
    "player_future_fixture['team_id'] = player_future_fixture.apply(team,axis=1)\n"
   ]
  },
  {
   "cell_type": "markdown",
   "metadata": {},
   "source": [
    "## Calculate New Columns"
   ]
  },
  {
   "cell_type": "code",
   "execution_count": 11,
   "metadata": {},
   "outputs": [
    {
     "output_type": "execute_result",
     "data": {
      "text/plain": "Index([&#39;chance_of_playing_next_round&#39;, &#39;chance_of_playing_this_round&#39;, &#39;player_code&#39;, &#39;cost_change_event&#39;, &#39;cost_change_event_fall&#39;, &#39;cost_change_start&#39;, &#39;cost_change_start_fall&#39;, &#39;dreamteam_count&#39;, &#39;player_type_id&#39;, &#39;ep_next&#39;, &#39;ep_this&#39;, &#39;event_points&#39;, &#39;form&#39;, &#39;player_id&#39;, &#39;in_dreamteam&#39;, &#39;news&#39;, &#39;news_added&#39;, &#39;now_cost&#39;, &#39;photo&#39;, &#39;PPG&#39;, &#39;selected_by_percent&#39;, &#39;status&#39;, &#39;team_id&#39;, &#39;team_code&#39;, &#39;total_points&#39;, &#39;transfers_in_event&#39;, &#39;transfers_out_event&#39;, &#39;value_form&#39;, &#39;value_season&#39;, &#39;web_name&#39;, &#39;minutes&#39;, &#39;goals_scored&#39;, &#39;assists&#39;, &#39;clean_sheets&#39;, &#39;goals_conceded&#39;, &#39;own_goals&#39;, &#39;penalties_saved&#39;, &#39;penalties_missed&#39;, &#39;yellow_cards&#39;, &#39;red_cards&#39;, &#39;saves&#39;, &#39;bonus&#39;, &#39;bps&#39;, &#39;influence&#39;, &#39;creativity&#39;, &#39;threat&#39;, &#39;ict_index&#39;, &#39;influence_rank&#39;, &#39;influence_rank_type&#39;, &#39;creativity_rank&#39;, &#39;creativity_rank_type&#39;, &#39;threat_rank&#39;, &#39;threat_rank_type&#39;, &#39;ict_index_rank&#39;, &#39;ict_index_rank_type&#39;, &#39;corners_and_indirect_freekicks_order&#39;, &#39;corners_and_indirect_freekicks_text&#39;, &#39;direct_freekicks_order&#39;,\n       &#39;direct_freekicks_text&#39;, &#39;penalties_order&#39;, &#39;penalties_text&#39;],\n      dtype=&#39;object&#39;)"
     },
     "metadata": {},
     "execution_count": 11
    }
   ],
   "source": [
    "all_players.columns"
   ]
  },
  {
   "cell_type": "code",
   "execution_count": 12,
   "metadata": {},
   "outputs": [
    {
     "output_type": "execute_result",
     "data": {
      "text/plain": "   chance_of_playing_next_round  chance_of_playing_this_round  player_code  cost_change_event  cost_change_event_fall  cost_change_start  cost_change_start_fall  dreamteam_count  player_type_id  ep_next  ep_this  event_points  form  player_id  in_dreamteam                                  news                 news_added  now_cost      photo  PPG  selected_by_percent status  team_id  team_code  total_points  ...  penalties_saved  penalties_missed  yellow_cards  red_cards saves  bonus  bps  influence  creativity  threat  ict_index  influence_rank  influence_rank_type  creativity_rank  creativity_rank_type  threat_rank  threat_rank_type  ict_index_rank  ict_index_rank_type  corners_and_indirect_freekicks_order  corners_and_indirect_freekicks_text  direct_freekicks_order  direct_freekicks_text  penalties_order  penalties_text\n0                           NaN                           NaN        37605                  0                       0                 -2                       2                0               3     -0.5      0.5             0   0.0          1         False                                   NaN                        NaT        68  37605.jpg  0.0                  0.8      a        1          3             0  ...                0                 0             0          0     0      0    0        0.0         0.0     0.0        0.0             570                  233              571                   233          570               232             571                  233                                   NaN                                  NaN                     NaN                    NaN              NaN             NaN\n1                         100.0                          75.0        39476                  0                       0                 -1                       1                0               2     -0.5      0.4             0   0.0          2         False                                   NaN 2020-09-11 11:00:08.600094        49  39476.jpg  0.0                  0.1      a        1          3             0  ...                0                 0             0          0     0      0    0        0.0         0.0     0.0        0.0             487                  189              479                   189          452               178             491                  189                                   NaN                                  NaN                     NaN                    NaN              NaN             NaN\n2                         100.0                         100.0        41270                  0                       0                  0                       0                0               2      0.8      1.8             2   1.3          3         False                                   NaN 2020-09-10 14:30:11.632386        55  41270.jpg  1.3                  1.0      a        1          3             4  ...                0                 0             0          0     0      0   27       43.2         4.0     0.0        4.7             164                   64              255                    81          539               208             257                   86                                   NaN                                  NaN                     4.0                    NaN              NaN             NaN\n3                          75.0                           NaN        54694                  0                       0                 -1                       1                0               3      1.9      3.5             2   3.0          4         False  Ankle injury - 75% chance of playing 2020-10-08 09:00:12.305506       119  54694.jpg  4.0                 22.6      d        1          3            16  ...                0                 0             1          0     0      0   54       78.2        57.2   103.0       23.8              69                   26               60                    44           30                13              41                   22                                   NaN                                  NaN                     6.0                    NaN              1.0             NaN\n4                         100.0                         100.0        58822                  0                       0                 -2                       2                0               2     -0.5      0.5             0   0.0          5         False                                   NaN 2020-09-23 09:00:14.881983        48  58822.jpg  0.0                  0.2      a        1          3             0  ...                0                 0             0          0     0      0    0        0.0         0.0     0.0        0.0             480                  187              470                   187          440               175             484                  187                                   NaN                                  NaN                     NaN                    NaN              NaN             NaN\n\n[5 rows x 61 columns]",
      "text/html": "<div>\n<style scoped>\n    .dataframe tbody tr th:only-of-type {\n        vertical-align: middle;\n    }\n\n    .dataframe tbody tr th {\n        vertical-align: top;\n    }\n\n    .dataframe thead th {\n        text-align: right;\n    }\n</style>\n<table border=\"1\" class=\"dataframe\">\n  <thead>\n    <tr style=\"text-align: right;\">\n      <th></th>\n      <th>chance_of_playing_next_round</th>\n      <th>chance_of_playing_this_round</th>\n      <th>player_code</th>\n      <th>cost_change_event</th>\n      <th>cost_change_event_fall</th>\n      <th>cost_change_start</th>\n      <th>cost_change_start_fall</th>\n      <th>dreamteam_count</th>\n      <th>player_type_id</th>\n      <th>ep_next</th>\n      <th>ep_this</th>\n      <th>event_points</th>\n      <th>form</th>\n      <th>player_id</th>\n      <th>in_dreamteam</th>\n      <th>news</th>\n      <th>news_added</th>\n      <th>now_cost</th>\n      <th>photo</th>\n      <th>PPG</th>\n      <th>selected_by_percent</th>\n      <th>status</th>\n      <th>team_id</th>\n      <th>team_code</th>\n      <th>total_points</th>\n      <th>...</th>\n      <th>penalties_saved</th>\n      <th>penalties_missed</th>\n      <th>yellow_cards</th>\n      <th>red_cards</th>\n      <th>saves</th>\n      <th>bonus</th>\n      <th>bps</th>\n      <th>influence</th>\n      <th>creativity</th>\n      <th>threat</th>\n      <th>ict_index</th>\n      <th>influence_rank</th>\n      <th>influence_rank_type</th>\n      <th>creativity_rank</th>\n      <th>creativity_rank_type</th>\n      <th>threat_rank</th>\n      <th>threat_rank_type</th>\n      <th>ict_index_rank</th>\n      <th>ict_index_rank_type</th>\n      <th>corners_and_indirect_freekicks_order</th>\n      <th>corners_and_indirect_freekicks_text</th>\n      <th>direct_freekicks_order</th>\n      <th>direct_freekicks_text</th>\n      <th>penalties_order</th>\n      <th>penalties_text</th>\n    </tr>\n  </thead>\n  <tbody>\n    <tr>\n      <th>0</th>\n      <td>NaN</td>\n      <td>NaN</td>\n      <td>37605</td>\n      <td>0</td>\n      <td>0</td>\n      <td>-2</td>\n      <td>2</td>\n      <td>0</td>\n      <td>3</td>\n      <td>-0.5</td>\n      <td>0.5</td>\n      <td>0</td>\n      <td>0.0</td>\n      <td>1</td>\n      <td>False</td>\n      <td>NaN</td>\n      <td>NaT</td>\n      <td>68</td>\n      <td>37605.jpg</td>\n      <td>0.0</td>\n      <td>0.8</td>\n      <td>a</td>\n      <td>1</td>\n      <td>3</td>\n      <td>0</td>\n      <td>...</td>\n      <td>0</td>\n      <td>0</td>\n      <td>0</td>\n      <td>0</td>\n      <td>0</td>\n      <td>0</td>\n      <td>0</td>\n      <td>0.0</td>\n      <td>0.0</td>\n      <td>0.0</td>\n      <td>0.0</td>\n      <td>570</td>\n      <td>233</td>\n      <td>571</td>\n      <td>233</td>\n      <td>570</td>\n      <td>232</td>\n      <td>571</td>\n      <td>233</td>\n      <td>NaN</td>\n      <td>NaN</td>\n      <td>NaN</td>\n      <td>NaN</td>\n      <td>NaN</td>\n      <td>NaN</td>\n    </tr>\n    <tr>\n      <th>1</th>\n      <td>100.0</td>\n      <td>75.0</td>\n      <td>39476</td>\n      <td>0</td>\n      <td>0</td>\n      <td>-1</td>\n      <td>1</td>\n      <td>0</td>\n      <td>2</td>\n      <td>-0.5</td>\n      <td>0.4</td>\n      <td>0</td>\n      <td>0.0</td>\n      <td>2</td>\n      <td>False</td>\n      <td>NaN</td>\n      <td>2020-09-11 11:00:08.600094</td>\n      <td>49</td>\n      <td>39476.jpg</td>\n      <td>0.0</td>\n      <td>0.1</td>\n      <td>a</td>\n      <td>1</td>\n      <td>3</td>\n      <td>0</td>\n      <td>...</td>\n      <td>0</td>\n      <td>0</td>\n      <td>0</td>\n      <td>0</td>\n      <td>0</td>\n      <td>0</td>\n      <td>0</td>\n      <td>0.0</td>\n      <td>0.0</td>\n      <td>0.0</td>\n      <td>0.0</td>\n      <td>487</td>\n      <td>189</td>\n      <td>479</td>\n      <td>189</td>\n      <td>452</td>\n      <td>178</td>\n      <td>491</td>\n      <td>189</td>\n      <td>NaN</td>\n      <td>NaN</td>\n      <td>NaN</td>\n      <td>NaN</td>\n      <td>NaN</td>\n      <td>NaN</td>\n    </tr>\n    <tr>\n      <th>2</th>\n      <td>100.0</td>\n      <td>100.0</td>\n      <td>41270</td>\n      <td>0</td>\n      <td>0</td>\n      <td>0</td>\n      <td>0</td>\n      <td>0</td>\n      <td>2</td>\n      <td>0.8</td>\n      <td>1.8</td>\n      <td>2</td>\n      <td>1.3</td>\n      <td>3</td>\n      <td>False</td>\n      <td>NaN</td>\n      <td>2020-09-10 14:30:11.632386</td>\n      <td>55</td>\n      <td>41270.jpg</td>\n      <td>1.3</td>\n      <td>1.0</td>\n      <td>a</td>\n      <td>1</td>\n      <td>3</td>\n      <td>4</td>\n      <td>...</td>\n      <td>0</td>\n      <td>0</td>\n      <td>0</td>\n      <td>0</td>\n      <td>0</td>\n      <td>0</td>\n      <td>27</td>\n      <td>43.2</td>\n      <td>4.0</td>\n      <td>0.0</td>\n      <td>4.7</td>\n      <td>164</td>\n      <td>64</td>\n      <td>255</td>\n      <td>81</td>\n      <td>539</td>\n      <td>208</td>\n      <td>257</td>\n      <td>86</td>\n      <td>NaN</td>\n      <td>NaN</td>\n      <td>4.0</td>\n      <td>NaN</td>\n      <td>NaN</td>\n      <td>NaN</td>\n    </tr>\n    <tr>\n      <th>3</th>\n      <td>75.0</td>\n      <td>NaN</td>\n      <td>54694</td>\n      <td>0</td>\n      <td>0</td>\n      <td>-1</td>\n      <td>1</td>\n      <td>0</td>\n      <td>3</td>\n      <td>1.9</td>\n      <td>3.5</td>\n      <td>2</td>\n      <td>3.0</td>\n      <td>4</td>\n      <td>False</td>\n      <td>Ankle injury - 75% chance of playing</td>\n      <td>2020-10-08 09:00:12.305506</td>\n      <td>119</td>\n      <td>54694.jpg</td>\n      <td>4.0</td>\n      <td>22.6</td>\n      <td>d</td>\n      <td>1</td>\n      <td>3</td>\n      <td>16</td>\n      <td>...</td>\n      <td>0</td>\n      <td>0</td>\n      <td>1</td>\n      <td>0</td>\n      <td>0</td>\n      <td>0</td>\n      <td>54</td>\n      <td>78.2</td>\n      <td>57.2</td>\n      <td>103.0</td>\n      <td>23.8</td>\n      <td>69</td>\n      <td>26</td>\n      <td>60</td>\n      <td>44</td>\n      <td>30</td>\n      <td>13</td>\n      <td>41</td>\n      <td>22</td>\n      <td>NaN</td>\n      <td>NaN</td>\n      <td>6.0</td>\n      <td>NaN</td>\n      <td>1.0</td>\n      <td>NaN</td>\n    </tr>\n    <tr>\n      <th>4</th>\n      <td>100.0</td>\n      <td>100.0</td>\n      <td>58822</td>\n      <td>0</td>\n      <td>0</td>\n      <td>-2</td>\n      <td>2</td>\n      <td>0</td>\n      <td>2</td>\n      <td>-0.5</td>\n      <td>0.5</td>\n      <td>0</td>\n      <td>0.0</td>\n      <td>5</td>\n      <td>False</td>\n      <td>NaN</td>\n      <td>2020-09-23 09:00:14.881983</td>\n      <td>48</td>\n      <td>58822.jpg</td>\n      <td>0.0</td>\n      <td>0.2</td>\n      <td>a</td>\n      <td>1</td>\n      <td>3</td>\n      <td>0</td>\n      <td>...</td>\n      <td>0</td>\n      <td>0</td>\n      <td>0</td>\n      <td>0</td>\n      <td>0</td>\n      <td>0</td>\n      <td>0</td>\n      <td>0.0</td>\n      <td>0.0</td>\n      <td>0.0</td>\n      <td>0.0</td>\n      <td>480</td>\n      <td>187</td>\n      <td>470</td>\n      <td>187</td>\n      <td>440</td>\n      <td>175</td>\n      <td>484</td>\n      <td>187</td>\n      <td>NaN</td>\n      <td>NaN</td>\n      <td>NaN</td>\n      <td>NaN</td>\n      <td>NaN</td>\n      <td>NaN</td>\n    </tr>\n  </tbody>\n</table>\n<p>5 rows × 61 columns</p>\n</div>"
     },
     "metadata": {},
     "execution_count": 12
    }
   ],
   "source": [
    "all_players.head()"
   ]
  },
  {
   "cell_type": "code",
   "execution_count": 13,
   "metadata": {},
   "outputs": [],
   "source": [
    "all_players['PP90'] = np.divide(all_players['total_points'] , all_players['minutes'])*90 "
   ]
  },
  {
   "cell_type": "code",
   "execution_count": 14,
   "metadata": {},
   "outputs": [],
   "source": [
    "all_players['PPMM'] = np.divide(all_players['PPG'] , all_players['now_cost']/10)"
   ]
  },
  {
   "cell_type": "code",
   "execution_count": 15,
   "metadata": {},
   "outputs": [],
   "source": [
    "all_players['VAPM'] = np.divide(all_players['PPG']-2 , all_players['now_cost']/10)"
   ]
  },
  {
   "cell_type": "code",
   "execution_count": 16,
   "metadata": {},
   "outputs": [
    {
     "output_type": "execute_result",
     "data": {
      "text/plain": "     web_name  player_type_id  total_points  minutes       PP90   PPG      PPMM      VAPM\n43   Grealish               3            35      270  11.666667  11.7  1.647887  1.366197\n124  Jorginho               3            27      252   9.642857   9.0  1.730769  1.346154\n52      Konsa               2            22      270   7.333333   7.3  1.586957  1.152174\n33   Martínez               1            22      270   7.333333   7.3  1.553191  1.127660\n47      Mings               2            23      270   7.666667   7.7  1.509804  1.117647",
      "text/html": "<div>\n<style scoped>\n    .dataframe tbody tr th:only-of-type {\n        vertical-align: middle;\n    }\n\n    .dataframe tbody tr th {\n        vertical-align: top;\n    }\n\n    .dataframe thead th {\n        text-align: right;\n    }\n</style>\n<table border=\"1\" class=\"dataframe\">\n  <thead>\n    <tr style=\"text-align: right;\">\n      <th></th>\n      <th>web_name</th>\n      <th>player_type_id</th>\n      <th>total_points</th>\n      <th>minutes</th>\n      <th>PP90</th>\n      <th>PPG</th>\n      <th>PPMM</th>\n      <th>VAPM</th>\n    </tr>\n  </thead>\n  <tbody>\n    <tr>\n      <th>43</th>\n      <td>Grealish</td>\n      <td>3</td>\n      <td>35</td>\n      <td>270</td>\n      <td>11.666667</td>\n      <td>11.7</td>\n      <td>1.647887</td>\n      <td>1.366197</td>\n    </tr>\n    <tr>\n      <th>124</th>\n      <td>Jorginho</td>\n      <td>3</td>\n      <td>27</td>\n      <td>252</td>\n      <td>9.642857</td>\n      <td>9.0</td>\n      <td>1.730769</td>\n      <td>1.346154</td>\n    </tr>\n    <tr>\n      <th>52</th>\n      <td>Konsa</td>\n      <td>2</td>\n      <td>22</td>\n      <td>270</td>\n      <td>7.333333</td>\n      <td>7.3</td>\n      <td>1.586957</td>\n      <td>1.152174</td>\n    </tr>\n    <tr>\n      <th>33</th>\n      <td>Martínez</td>\n      <td>1</td>\n      <td>22</td>\n      <td>270</td>\n      <td>7.333333</td>\n      <td>7.3</td>\n      <td>1.553191</td>\n      <td>1.127660</td>\n    </tr>\n    <tr>\n      <th>47</th>\n      <td>Mings</td>\n      <td>2</td>\n      <td>23</td>\n      <td>270</td>\n      <td>7.666667</td>\n      <td>7.7</td>\n      <td>1.509804</td>\n      <td>1.117647</td>\n    </tr>\n  </tbody>\n</table>\n</div>"
     },
     "metadata": {},
     "execution_count": 16
    }
   ],
   "source": [
    "all_players[['web_name' , 'player_type_id', 'total_points' , 'minutes' , 'PP90' , 'PPG' , 'PPMM' , 'VAPM']][all_players['minutes']>100].sort_values(by='VAPM' , ascending = False).head()"
   ]
  },
  {
   "cell_type": "markdown",
   "metadata": {},
   "source": [
    "## Save cleaned data"
   ]
  },
  {
   "cell_type": "code",
   "execution_count": 17,
   "metadata": {},
   "outputs": [],
   "source": [
    "all_players.to_csv (r'./data/' + season + '/Cleaned_data/all_players.csv', index = False, header=True)\n",
    "all_teams.to_csv (r'./data/' + season + '/Cleaned_data/all_teams.csv', index = False, header = True)\n",
    "all_events.to_csv (r'./data/' + season + '/Cleaned_data/all_events.csv', index = False, header = True)\n",
    "player_types.to_csv(r'./data/' + season + '/Cleaned_data/player_types.csv', index = False, header = True)\n",
    "game_phases.to_csv(r'./data/' + season + '/Cleaned_data/game_phases.csv', index = False, header = True)\n",
    "\n",
    "player_season_history.to_csv (r'./data/' + season + '/Cleaned_data/player_season_history.csv', index = False, header=True)\n",
    "player_gameweek_history.to_csv (r'./data/' + season + '/Cleaned_data/player_gameweek_history.csv', index = False, header=True)\n",
    "player_future_fixture.to_csv (r'./data/' + season + '/Cleaned_data/player_future_fixture.csv', index = False, header=True)"
   ]
  },
  {
   "cell_type": "code",
   "execution_count": null,
   "metadata": {},
   "outputs": [],
   "source": []
  }
 ]
}