{
 "metadata": {
  "language_info": {
   "codemirror_mode": {
    "name": "ipython",
    "version": 3
   },
   "file_extension": ".py",
   "mimetype": "text/x-python",
   "name": "python",
   "nbconvert_exporter": "python",
   "pygments_lexer": "ipython3",
   "version": "3.7.4-final"
  },
  "orig_nbformat": 2,
  "kernelspec": {
   "name": "python_defaultSpec_1598208860751",
   "display_name": "Python 3.7.4 64-bit ('base': conda)"
  }
 },
 "nbformat": 4,
 "nbformat_minor": 2,
 "cells": [
  {
   "cell_type": "code",
   "execution_count": 2,
   "metadata": {},
   "outputs": [],
   "source": [
    "import numpy as np\n",
    "import pandas as pd\n",
    "import requests\n",
    "from datetime import datetime\n",
    "import json\n",
    "\n",
    "#Set Display options\n",
    "pd.set_option('display.max_rows', 50)\n",
    "pd.set_option('display.max_columns', 50)\n",
    "pd.set_option('display.width' , 1000)"
   ]
  },
  {
   "cell_type": "code",
   "execution_count": 3,
   "metadata": {},
   "outputs": [],
   "source": [
    "# Variables\n",
    "season = \"2020-21\""
   ]
  },
  {
   "cell_type": "code",
   "execution_count": 4,
   "metadata": {},
   "outputs": [],
   "source": [
    "all_players = pd.read_csv (r'./data/' + season + '/Raw_data/all_players.csv', parse_dates= [\"news_added\"])\n",
    "all_teams = pd.read_csv (r'./data/' + season + '/Raw_data/all_teams.csv')\n",
    "all_events = pd.read_csv (r'./data/' + season + '/Raw_data/all_events.csv', parse_dates= [\"deadline_time\"])\n",
    "player_types = pd.read_csv(r'./data/' + season + '/Raw_data/player_types.csv')\n",
    "game_phases = pd.read_csv(r'./data/' + season + '/Raw_data/game_phases.csv')\n",
    "\n",
    "player_season_history = pd.read_csv(r'./data/' + season + '/Raw_data/player_season_history.csv')\n",
    "#player_gameweek_history = pd.read_csv(r'./data/' + season + '/player_past_history/player_gameweek_history_raw.csv')\n",
    "player_gameweek_history = pd.read_csv(r'./data/2019-20/player_past_history/player_gameweek_history_raw.csv')\n",
    "player_future_fixture = pd.read_csv(r'./data/' + season + '/Raw_data/player_future_fixture.csv', parse_dates = [\"kickoff_time\"])\n",
    "\n"
   ]
  },
  {
   "cell_type": "markdown",
   "metadata": {},
   "source": [
    "## Rename columns"
   ]
  },
  {
   "cell_type": "code",
   "execution_count": 5,
   "metadata": {},
   "outputs": [
    {
     "output_type": "execute_result",
     "data": {
      "text/plain": "   element  fixture  opponent_team  total_points  was_home          kickoff_time  team_h_score  team_a_score  round  minutes  goals_scored  assists  clean_sheets  goals_conceded  own_goals  penalties_saved  penalties_missed  yellow_cards  red_cards  saves  bonus  bps  influence  creativity  threat  ict_index  value  transfers_balance  selected  transfers_in  transfers_out\n0        1       10             13             0     False  2019-08-11T13:00:00Z             0             1      1        0             0        0             0               0          0                0                 0             0          0      0      0    0        0.0         0.0     0.0        0.0     55                  0     33117             0              0\n1        1       11              5             0      True  2019-08-17T11:30:00Z             2             1      2        0             0        0             0               0          0                0                 0             0          0      0      0    0        0.0         0.0     0.0        0.0     55              -5280     36709          2868           8148\n2        1       24             10             0     False  2019-08-24T16:30:00Z             3             1      3        0             0        0             0               0          0                0                 0             0          0      0      0    0        0.0         0.0     0.0        0.0     54              -6882     30975           534           7416\n3        1       31             17             0      True  2019-09-01T15:30:00Z             2             2      4        0             0        0             0               0          0                0                 0             0          0      0      0    0        0.0         0.0     0.0        0.0     54              -3872     28096           346           4218\n4        1       49             18             0     False  2019-09-15T15:30:00Z             2             2      5        0             0        0             0               0          0                0                 0             0          0      0      0    0        0.0         0.0     0.0        0.0     53              -2073     26902           581           2654",
      "text/html": "<div>\n<style scoped>\n    .dataframe tbody tr th:only-of-type {\n        vertical-align: middle;\n    }\n\n    .dataframe tbody tr th {\n        vertical-align: top;\n    }\n\n    .dataframe thead th {\n        text-align: right;\n    }\n</style>\n<table border=\"1\" class=\"dataframe\">\n  <thead>\n    <tr style=\"text-align: right;\">\n      <th></th>\n      <th>element</th>\n      <th>fixture</th>\n      <th>opponent_team</th>\n      <th>total_points</th>\n      <th>was_home</th>\n      <th>kickoff_time</th>\n      <th>team_h_score</th>\n      <th>team_a_score</th>\n      <th>round</th>\n      <th>minutes</th>\n      <th>goals_scored</th>\n      <th>assists</th>\n      <th>clean_sheets</th>\n      <th>goals_conceded</th>\n      <th>own_goals</th>\n      <th>penalties_saved</th>\n      <th>penalties_missed</th>\n      <th>yellow_cards</th>\n      <th>red_cards</th>\n      <th>saves</th>\n      <th>bonus</th>\n      <th>bps</th>\n      <th>influence</th>\n      <th>creativity</th>\n      <th>threat</th>\n      <th>ict_index</th>\n      <th>value</th>\n      <th>transfers_balance</th>\n      <th>selected</th>\n      <th>transfers_in</th>\n      <th>transfers_out</th>\n    </tr>\n  </thead>\n  <tbody>\n    <tr>\n      <td>0</td>\n      <td>1</td>\n      <td>10</td>\n      <td>13</td>\n      <td>0</td>\n      <td>False</td>\n      <td>2019-08-11T13:00:00Z</td>\n      <td>0</td>\n      <td>1</td>\n      <td>1</td>\n      <td>0</td>\n      <td>0</td>\n      <td>0</td>\n      <td>0</td>\n      <td>0</td>\n      <td>0</td>\n      <td>0</td>\n      <td>0</td>\n      <td>0</td>\n      <td>0</td>\n      <td>0</td>\n      <td>0</td>\n      <td>0</td>\n      <td>0.0</td>\n      <td>0.0</td>\n      <td>0.0</td>\n      <td>0.0</td>\n      <td>55</td>\n      <td>0</td>\n      <td>33117</td>\n      <td>0</td>\n      <td>0</td>\n    </tr>\n    <tr>\n      <td>1</td>\n      <td>1</td>\n      <td>11</td>\n      <td>5</td>\n      <td>0</td>\n      <td>True</td>\n      <td>2019-08-17T11:30:00Z</td>\n      <td>2</td>\n      <td>1</td>\n      <td>2</td>\n      <td>0</td>\n      <td>0</td>\n      <td>0</td>\n      <td>0</td>\n      <td>0</td>\n      <td>0</td>\n      <td>0</td>\n      <td>0</td>\n      <td>0</td>\n      <td>0</td>\n      <td>0</td>\n      <td>0</td>\n      <td>0</td>\n      <td>0.0</td>\n      <td>0.0</td>\n      <td>0.0</td>\n      <td>0.0</td>\n      <td>55</td>\n      <td>-5280</td>\n      <td>36709</td>\n      <td>2868</td>\n      <td>8148</td>\n    </tr>\n    <tr>\n      <td>2</td>\n      <td>1</td>\n      <td>24</td>\n      <td>10</td>\n      <td>0</td>\n      <td>False</td>\n      <td>2019-08-24T16:30:00Z</td>\n      <td>3</td>\n      <td>1</td>\n      <td>3</td>\n      <td>0</td>\n      <td>0</td>\n      <td>0</td>\n      <td>0</td>\n      <td>0</td>\n      <td>0</td>\n      <td>0</td>\n      <td>0</td>\n      <td>0</td>\n      <td>0</td>\n      <td>0</td>\n      <td>0</td>\n      <td>0</td>\n      <td>0.0</td>\n      <td>0.0</td>\n      <td>0.0</td>\n      <td>0.0</td>\n      <td>54</td>\n      <td>-6882</td>\n      <td>30975</td>\n      <td>534</td>\n      <td>7416</td>\n    </tr>\n    <tr>\n      <td>3</td>\n      <td>1</td>\n      <td>31</td>\n      <td>17</td>\n      <td>0</td>\n      <td>True</td>\n      <td>2019-09-01T15:30:00Z</td>\n      <td>2</td>\n      <td>2</td>\n      <td>4</td>\n      <td>0</td>\n      <td>0</td>\n      <td>0</td>\n      <td>0</td>\n      <td>0</td>\n      <td>0</td>\n      <td>0</td>\n      <td>0</td>\n      <td>0</td>\n      <td>0</td>\n      <td>0</td>\n      <td>0</td>\n      <td>0</td>\n      <td>0.0</td>\n      <td>0.0</td>\n      <td>0.0</td>\n      <td>0.0</td>\n      <td>54</td>\n      <td>-3872</td>\n      <td>28096</td>\n      <td>346</td>\n      <td>4218</td>\n    </tr>\n    <tr>\n      <td>4</td>\n      <td>1</td>\n      <td>49</td>\n      <td>18</td>\n      <td>0</td>\n      <td>False</td>\n      <td>2019-09-15T15:30:00Z</td>\n      <td>2</td>\n      <td>2</td>\n      <td>5</td>\n      <td>0</td>\n      <td>0</td>\n      <td>0</td>\n      <td>0</td>\n      <td>0</td>\n      <td>0</td>\n      <td>0</td>\n      <td>0</td>\n      <td>0</td>\n      <td>0</td>\n      <td>0</td>\n      <td>0</td>\n      <td>0</td>\n      <td>0.0</td>\n      <td>0.0</td>\n      <td>0.0</td>\n      <td>0.0</td>\n      <td>53</td>\n      <td>-2073</td>\n      <td>26902</td>\n      <td>581</td>\n      <td>2654</td>\n    </tr>\n  </tbody>\n</table>\n</div>"
     },
     "metadata": {},
     "execution_count": 5
    }
   ],
   "source": [
    "player_gameweek_history.head()"
   ]
  },
  {
   "cell_type": "code",
   "execution_count": 6,
   "metadata": {},
   "outputs": [],
   "source": [
    "player_gameweek_history.rename(columns = {\"element\" : \"player_id\" , \"opponent_team\" : \"opponent_team_id\" , \"fixture\" : \"fixture_id\" } , inplace = True)\n",
    "all_players.rename(columns = {\"code\" : \"player_code\", \"element_type\" : \"player_type_id\" , \"id\" : \"player_id\" , \"team\" : \"team_id\" , \"points_per_game\" : \"PPG\"} , inplace=True)\n",
    "all_teams.rename(columns = {\"id\" : \"team_id\" , \"code\" : \"team_code\" , \"name\" : \"team_name\" , \"short_name\" : \"team_short_name\"} , inplace = True)\n",
    "all_events.rename(columns = {\"id\" : \"gameweek_id\"} , inplace = True)\n",
    "player_types.rename(columns = {\"id\" : \"player_type_id\" , \"singular_name\" : \"position_name\" , \"singular_name_short\" : \"position_name_short\"} , inplace = True)\n",
    "game_phases.rename(columns = {\"id\" : \"phase_id\"} , inplace = True)\n",
    "player_season_history.rename(columns = {\"element_code\" : \"player_code\"} , inplace = True)\n",
    "player_future_fixture.rename(columns = {\"id\" : \"fixture_id\" , \"team_h\" : \"home_team_id\" , \"team_a\" : \"away_team_id\" , \"events\" : \"gameweek_id\" , \"code\" : \"fixture_code\"} , inplace = True)\n",
    "#player_gameweek_history.rename(columns = {} , inplace = True)\n"
   ]
  },
  {
   "cell_type": "markdown",
   "metadata": {},
   "source": [
    "## Drop columns"
   ]
  },
  {
   "cell_type": "code",
   "execution_count": 7,
   "metadata": {},
   "outputs": [
    {
     "output_type": "execute_result",
     "data": {
      "text/plain": "   gameweek_id        name             deadline_time  average_entry_score  finished  data_checked  highest_scoring_entry  deadline_time_epoch  deadline_time_game_offset  highest_score  is_previous  is_current  is_next chip_plays  most_selected  most_transferred_in  top_element  top_element_info  transfers_made  most_captained  most_vice_captained\n0            1  Gameweek 1 2020-09-12 12:30:00+00:00                    0     False         False                    NaN           1599913800                          0            NaN        False       False     True         []            NaN                  NaN          NaN               NaN               0             NaN                  NaN\n1            2  Gameweek 2 2020-09-19 12:30:00+00:00                    0     False         False                    NaN           1600518600                          0            NaN        False       False    False         []            NaN                  NaN          NaN               NaN               0             NaN                  NaN\n2            3  Gameweek 3 2020-09-26 12:30:00+00:00                    0     False         False                    NaN           1601123400                          0            NaN        False       False    False         []            NaN                  NaN          NaN               NaN               0             NaN                  NaN\n3            4  Gameweek 4 2020-10-03 12:30:00+00:00                    0     False         False                    NaN           1601728200                          0            NaN        False       False    False         []            NaN                  NaN          NaN               NaN               0             NaN                  NaN\n4            5  Gameweek 5 2020-10-17 12:30:00+00:00                    0     False         False                    NaN           1602937800                          0            NaN        False       False    False         []            NaN                  NaN          NaN               NaN               0             NaN                  NaN",
      "text/html": "<div>\n<style scoped>\n    .dataframe tbody tr th:only-of-type {\n        vertical-align: middle;\n    }\n\n    .dataframe tbody tr th {\n        vertical-align: top;\n    }\n\n    .dataframe thead th {\n        text-align: right;\n    }\n</style>\n<table border=\"1\" class=\"dataframe\">\n  <thead>\n    <tr style=\"text-align: right;\">\n      <th></th>\n      <th>gameweek_id</th>\n      <th>name</th>\n      <th>deadline_time</th>\n      <th>average_entry_score</th>\n      <th>finished</th>\n      <th>data_checked</th>\n      <th>highest_scoring_entry</th>\n      <th>deadline_time_epoch</th>\n      <th>deadline_time_game_offset</th>\n      <th>highest_score</th>\n      <th>is_previous</th>\n      <th>is_current</th>\n      <th>is_next</th>\n      <th>chip_plays</th>\n      <th>most_selected</th>\n      <th>most_transferred_in</th>\n      <th>top_element</th>\n      <th>top_element_info</th>\n      <th>transfers_made</th>\n      <th>most_captained</th>\n      <th>most_vice_captained</th>\n    </tr>\n  </thead>\n  <tbody>\n    <tr>\n      <td>0</td>\n      <td>1</td>\n      <td>Gameweek 1</td>\n      <td>2020-09-12 12:30:00+00:00</td>\n      <td>0</td>\n      <td>False</td>\n      <td>False</td>\n      <td>NaN</td>\n      <td>1599913800</td>\n      <td>0</td>\n      <td>NaN</td>\n      <td>False</td>\n      <td>False</td>\n      <td>True</td>\n      <td>[]</td>\n      <td>NaN</td>\n      <td>NaN</td>\n      <td>NaN</td>\n      <td>NaN</td>\n      <td>0</td>\n      <td>NaN</td>\n      <td>NaN</td>\n    </tr>\n    <tr>\n      <td>1</td>\n      <td>2</td>\n      <td>Gameweek 2</td>\n      <td>2020-09-19 12:30:00+00:00</td>\n      <td>0</td>\n      <td>False</td>\n      <td>False</td>\n      <td>NaN</td>\n      <td>1600518600</td>\n      <td>0</td>\n      <td>NaN</td>\n      <td>False</td>\n      <td>False</td>\n      <td>False</td>\n      <td>[]</td>\n      <td>NaN</td>\n      <td>NaN</td>\n      <td>NaN</td>\n      <td>NaN</td>\n      <td>0</td>\n      <td>NaN</td>\n      <td>NaN</td>\n    </tr>\n    <tr>\n      <td>2</td>\n      <td>3</td>\n      <td>Gameweek 3</td>\n      <td>2020-09-26 12:30:00+00:00</td>\n      <td>0</td>\n      <td>False</td>\n      <td>False</td>\n      <td>NaN</td>\n      <td>1601123400</td>\n      <td>0</td>\n      <td>NaN</td>\n      <td>False</td>\n      <td>False</td>\n      <td>False</td>\n      <td>[]</td>\n      <td>NaN</td>\n      <td>NaN</td>\n      <td>NaN</td>\n      <td>NaN</td>\n      <td>0</td>\n      <td>NaN</td>\n      <td>NaN</td>\n    </tr>\n    <tr>\n      <td>3</td>\n      <td>4</td>\n      <td>Gameweek 4</td>\n      <td>2020-10-03 12:30:00+00:00</td>\n      <td>0</td>\n      <td>False</td>\n      <td>False</td>\n      <td>NaN</td>\n      <td>1601728200</td>\n      <td>0</td>\n      <td>NaN</td>\n      <td>False</td>\n      <td>False</td>\n      <td>False</td>\n      <td>[]</td>\n      <td>NaN</td>\n      <td>NaN</td>\n      <td>NaN</td>\n      <td>NaN</td>\n      <td>0</td>\n      <td>NaN</td>\n      <td>NaN</td>\n    </tr>\n    <tr>\n      <td>4</td>\n      <td>5</td>\n      <td>Gameweek 5</td>\n      <td>2020-10-17 12:30:00+00:00</td>\n      <td>0</td>\n      <td>False</td>\n      <td>False</td>\n      <td>NaN</td>\n      <td>1602937800</td>\n      <td>0</td>\n      <td>NaN</td>\n      <td>False</td>\n      <td>False</td>\n      <td>False</td>\n      <td>[]</td>\n      <td>NaN</td>\n      <td>NaN</td>\n      <td>NaN</td>\n      <td>NaN</td>\n      <td>0</td>\n      <td>NaN</td>\n      <td>NaN</td>\n    </tr>\n  </tbody>\n</table>\n</div>"
     },
     "metadata": {},
     "execution_count": 7
    }
   ],
   "source": [
    "all_events.head(5)"
   ]
  },
  {
   "cell_type": "code",
   "execution_count": 8,
   "metadata": {},
   "outputs": [],
   "source": [
    "all_events.drop(columns = [\"deadline_time_epoch\"] , inplace = True)\n",
    "player_types.drop(columns = [\"plural_name\" , \"plural_name_short\"] , inplace = True)\n",
    "all_players.drop(columns = [\"squad_number\" , \"special\" , \"transfers_in\" , \"transfers_out\" , \"first_name\" , \"second_name\"] , inplace = True)"
   ]
  },
  {
   "cell_type": "markdown",
   "metadata": {},
   "source": [
    "## Change date columns"
   ]
  },
  {
   "cell_type": "code",
   "execution_count": 9,
   "metadata": {},
   "outputs": [],
   "source": [
    "all_players['news_added'] = all_players['news_added'].dt.tz_localize(None)\n",
    "all_events['deadline_time'] = all_events['deadline_time'].dt.tz_localize(None)\n",
    "player_future_fixture['kickoff_time'] = player_future_fixture['kickoff_time'].dt.tz_localize(None)\n",
    "\n",
    "player_gameweek_history['kickoff_time'] = pd.to_datetime(player_gameweek_history['kickoff_time'])\n",
    "player_gameweek_history['kickoff_time'] = player_gameweek_history['kickoff_time'].dt.tz_localize(None)"
   ]
  },
  {
   "cell_type": "markdown",
   "metadata": {},
   "source": [
    "\n",
    "## Add Columns"
   ]
  },
  {
   "cell_type": "code",
   "execution_count": 10,
   "metadata": {},
   "outputs": [
    {
     "output_type": "execute_result",
     "data": {
      "text/plain": "   fixture_id  fixture_code  home_team_id  team_h_score  away_team_id  team_a_score  event  finished  minutes  provisional_start_time        kickoff_time  event_name  is_home  difficulty  player_id\n0           2       2128288             8           NaN             1           NaN    1.0     False        0                   False 2020-09-12 14:00:00  Gameweek 1    False           2          1\n1           9       2128296             1           NaN            19           NaN    2.0     False        0                   False 2020-09-19 14:00:00  Gameweek 2     True           2          1\n2          23       2128310            11           NaN             1           NaN    3.0     False        0                   False 2020-09-26 14:00:00  Gameweek 3    False           5          1\n3          29       2128316             1           NaN            15           NaN    4.0     False        0                   False 2020-10-03 14:00:00  Gameweek 4     True           3          1\n4          44       2128331            12           NaN             1           NaN    5.0     False        0                   False 2020-10-17 14:00:00  Gameweek 5    False           5          1",
      "text/html": "<div>\n<style scoped>\n    .dataframe tbody tr th:only-of-type {\n        vertical-align: middle;\n    }\n\n    .dataframe tbody tr th {\n        vertical-align: top;\n    }\n\n    .dataframe thead th {\n        text-align: right;\n    }\n</style>\n<table border=\"1\" class=\"dataframe\">\n  <thead>\n    <tr style=\"text-align: right;\">\n      <th></th>\n      <th>fixture_id</th>\n      <th>fixture_code</th>\n      <th>home_team_id</th>\n      <th>team_h_score</th>\n      <th>away_team_id</th>\n      <th>team_a_score</th>\n      <th>event</th>\n      <th>finished</th>\n      <th>minutes</th>\n      <th>provisional_start_time</th>\n      <th>kickoff_time</th>\n      <th>event_name</th>\n      <th>is_home</th>\n      <th>difficulty</th>\n      <th>player_id</th>\n    </tr>\n  </thead>\n  <tbody>\n    <tr>\n      <td>0</td>\n      <td>2</td>\n      <td>2128288</td>\n      <td>8</td>\n      <td>NaN</td>\n      <td>1</td>\n      <td>NaN</td>\n      <td>1.0</td>\n      <td>False</td>\n      <td>0</td>\n      <td>False</td>\n      <td>2020-09-12 14:00:00</td>\n      <td>Gameweek 1</td>\n      <td>False</td>\n      <td>2</td>\n      <td>1</td>\n    </tr>\n    <tr>\n      <td>1</td>\n      <td>9</td>\n      <td>2128296</td>\n      <td>1</td>\n      <td>NaN</td>\n      <td>19</td>\n      <td>NaN</td>\n      <td>2.0</td>\n      <td>False</td>\n      <td>0</td>\n      <td>False</td>\n      <td>2020-09-19 14:00:00</td>\n      <td>Gameweek 2</td>\n      <td>True</td>\n      <td>2</td>\n      <td>1</td>\n    </tr>\n    <tr>\n      <td>2</td>\n      <td>23</td>\n      <td>2128310</td>\n      <td>11</td>\n      <td>NaN</td>\n      <td>1</td>\n      <td>NaN</td>\n      <td>3.0</td>\n      <td>False</td>\n      <td>0</td>\n      <td>False</td>\n      <td>2020-09-26 14:00:00</td>\n      <td>Gameweek 3</td>\n      <td>False</td>\n      <td>5</td>\n      <td>1</td>\n    </tr>\n    <tr>\n      <td>3</td>\n      <td>29</td>\n      <td>2128316</td>\n      <td>1</td>\n      <td>NaN</td>\n      <td>15</td>\n      <td>NaN</td>\n      <td>4.0</td>\n      <td>False</td>\n      <td>0</td>\n      <td>False</td>\n      <td>2020-10-03 14:00:00</td>\n      <td>Gameweek 4</td>\n      <td>True</td>\n      <td>3</td>\n      <td>1</td>\n    </tr>\n    <tr>\n      <td>4</td>\n      <td>44</td>\n      <td>2128331</td>\n      <td>12</td>\n      <td>NaN</td>\n      <td>1</td>\n      <td>NaN</td>\n      <td>5.0</td>\n      <td>False</td>\n      <td>0</td>\n      <td>False</td>\n      <td>2020-10-17 14:00:00</td>\n      <td>Gameweek 5</td>\n      <td>False</td>\n      <td>5</td>\n      <td>1</td>\n    </tr>\n  </tbody>\n</table>\n</div>"
     },
     "metadata": {},
     "execution_count": 10
    }
   ],
   "source": [
    "player_future_fixture.head()"
   ]
  },
  {
   "cell_type": "code",
   "execution_count": 11,
   "metadata": {},
   "outputs": [],
   "source": [
    "def opponent_team(row):\n",
    "    if row['is_home'] == True:\n",
    "        val = row['away_team_id']\n",
    "    elif row['is_home'] == False:\n",
    "        val = row['home_team_id']\n",
    "    return val\n",
    "\n",
    "def team(row):\n",
    "    if row['is_home'] == False:\n",
    "        val = row['away_team_id']\n",
    "    elif row['is_home'] == True:\n",
    "        val = row['home_team_id']\n",
    "    return val\n",
    "\n",
    "\n",
    "player_future_fixture['opponent_team_id'] = player_future_fixture.apply(opponent_team,axis=1)\n",
    "player_future_fixture['team_id'] = player_future_fixture.apply(team,axis=1)\n"
   ]
  },
  {
   "cell_type": "markdown",
   "metadata": {},
   "source": [
    "## Calculate New Columns"
   ]
  },
  {
   "cell_type": "code",
   "execution_count": 12,
   "metadata": {},
   "outputs": [
    {
     "output_type": "execute_result",
     "data": {
      "text/plain": "Index(['chance_of_playing_next_round', 'chance_of_playing_this_round', 'player_code', 'cost_change_event', 'cost_change_event_fall', 'cost_change_start', 'cost_change_start_fall', 'dreamteam_count', 'player_type_id', 'ep_next', 'ep_this', 'event_points', 'form', 'player_id', 'in_dreamteam', 'news', 'news_added', 'now_cost', 'photo', 'PPG', 'selected_by_percent', 'status', 'team_id', 'team_code', 'total_points', 'transfers_in_event', 'transfers_out_event', 'value_form', 'value_season', 'web_name', 'minutes', 'goals_scored', 'assists', 'clean_sheets', 'goals_conceded', 'own_goals', 'penalties_saved', 'penalties_missed', 'yellow_cards', 'red_cards', 'saves', 'bonus', 'bps', 'influence', 'creativity', 'threat', 'ict_index', 'influence_rank', 'influence_rank_type', 'creativity_rank', 'creativity_rank_type', 'threat_rank', 'threat_rank_type', 'ict_index_rank', 'ict_index_rank_type'], dtype='object')"
     },
     "metadata": {},
     "execution_count": 12
    }
   ],
   "source": [
    "all_players.columns"
   ]
  },
  {
   "cell_type": "code",
   "execution_count": 13,
   "metadata": {},
   "outputs": [
    {
     "output_type": "execute_result",
     "data": {
      "text/plain": "   chance_of_playing_next_round  chance_of_playing_this_round  player_code  cost_change_event  cost_change_event_fall  cost_change_start  cost_change_start_fall  dreamteam_count  player_type_id  ep_next  ep_this  event_points  form  player_id  in_dreamteam news news_added  now_cost      photo  PPG  selected_by_percent status  team_id  team_code  total_points  ...  minutes  goals_scored  assists  clean_sheets goals_conceded  own_goals  penalties_saved  penalties_missed  yellow_cards  red_cards  saves  bonus  bps  influence  creativity  threat  ict_index  influence_rank  influence_rank_type  creativity_rank  creativity_rank_type  threat_rank  threat_rank_type  ict_index_rank  ict_index_rank_type\n0                           NaN                           NaN        37605                  0                       0                  0                       0                0               3      3.4      NaN             0   0.0          1         False  NaN        NaT        70  37605.jpg  2.9                  2.1      a        1          3            53  ...     1439             1        3             5             20          0                0                 0             1          0      0      1  256      223.6       582.9   190.0       99.8             253                  109               35                    29          174                95             135                   72\n1                           NaN                           NaN        39476                  0                       0                  0                       0                0               2      3.1      NaN             0   0.0          2         False  NaN        NaT        50  39476.jpg  3.0                  0.6      a        1          3            57  ...     1696             2        0             4             25          0                0                 0             6          0      0      5  305      436.2        36.8   110.0       58.5             144                   53              293                   105          222                64             233                   74\n2                           NaN                           NaN        41270                  0                       0                  0                       0                0               2      3.5      NaN             0   0.0          3         False  NaN        NaT        55  41270.jpg  2.8                  1.7      a        1          3            94  ...     2809             2        1             8             42          0                0                 0             5          2      0     10  494      701.6       106.7   211.0      102.1              50                   18              221                    61          160                32             130                   35\n3                           NaN                           NaN        54694                  0                       0                  0                       0                0               3      5.0      NaN             0   0.0          4         False  NaN        NaT       120  54694.jpg  5.7                 32.9      a        1          3           205  ...     3136            22        5            10             44          0                0                 0             3          1      0     37  807     1006.0       479.6  1369.0      285.2               8                    4               54                    42            9                 3              11                    7\n4                           NaN                           NaN        58822                  0                       0                  0                       0                0               2      3.1      NaN             0   0.0          5         False  NaN        NaT        50  58822.jpg  2.9                  0.4      a        1          3            61  ...     1553             1        1             4             20          0                0                 0             1          0      0      3  286      349.0       218.9   118.0       68.7             182                   68              158                    34          221                63             201                   59\n\n[5 rows x 55 columns]",
      "text/html": "<div>\n<style scoped>\n    .dataframe tbody tr th:only-of-type {\n        vertical-align: middle;\n    }\n\n    .dataframe tbody tr th {\n        vertical-align: top;\n    }\n\n    .dataframe thead th {\n        text-align: right;\n    }\n</style>\n<table border=\"1\" class=\"dataframe\">\n  <thead>\n    <tr style=\"text-align: right;\">\n      <th></th>\n      <th>chance_of_playing_next_round</th>\n      <th>chance_of_playing_this_round</th>\n      <th>player_code</th>\n      <th>cost_change_event</th>\n      <th>cost_change_event_fall</th>\n      <th>cost_change_start</th>\n      <th>cost_change_start_fall</th>\n      <th>dreamteam_count</th>\n      <th>player_type_id</th>\n      <th>ep_next</th>\n      <th>ep_this</th>\n      <th>event_points</th>\n      <th>form</th>\n      <th>player_id</th>\n      <th>in_dreamteam</th>\n      <th>news</th>\n      <th>news_added</th>\n      <th>now_cost</th>\n      <th>photo</th>\n      <th>PPG</th>\n      <th>selected_by_percent</th>\n      <th>status</th>\n      <th>team_id</th>\n      <th>team_code</th>\n      <th>total_points</th>\n      <th>...</th>\n      <th>minutes</th>\n      <th>goals_scored</th>\n      <th>assists</th>\n      <th>clean_sheets</th>\n      <th>goals_conceded</th>\n      <th>own_goals</th>\n      <th>penalties_saved</th>\n      <th>penalties_missed</th>\n      <th>yellow_cards</th>\n      <th>red_cards</th>\n      <th>saves</th>\n      <th>bonus</th>\n      <th>bps</th>\n      <th>influence</th>\n      <th>creativity</th>\n      <th>threat</th>\n      <th>ict_index</th>\n      <th>influence_rank</th>\n      <th>influence_rank_type</th>\n      <th>creativity_rank</th>\n      <th>creativity_rank_type</th>\n      <th>threat_rank</th>\n      <th>threat_rank_type</th>\n      <th>ict_index_rank</th>\n      <th>ict_index_rank_type</th>\n    </tr>\n  </thead>\n  <tbody>\n    <tr>\n      <td>0</td>\n      <td>NaN</td>\n      <td>NaN</td>\n      <td>37605</td>\n      <td>0</td>\n      <td>0</td>\n      <td>0</td>\n      <td>0</td>\n      <td>0</td>\n      <td>3</td>\n      <td>3.4</td>\n      <td>NaN</td>\n      <td>0</td>\n      <td>0.0</td>\n      <td>1</td>\n      <td>False</td>\n      <td>NaN</td>\n      <td>NaT</td>\n      <td>70</td>\n      <td>37605.jpg</td>\n      <td>2.9</td>\n      <td>2.1</td>\n      <td>a</td>\n      <td>1</td>\n      <td>3</td>\n      <td>53</td>\n      <td>...</td>\n      <td>1439</td>\n      <td>1</td>\n      <td>3</td>\n      <td>5</td>\n      <td>20</td>\n      <td>0</td>\n      <td>0</td>\n      <td>0</td>\n      <td>1</td>\n      <td>0</td>\n      <td>0</td>\n      <td>1</td>\n      <td>256</td>\n      <td>223.6</td>\n      <td>582.9</td>\n      <td>190.0</td>\n      <td>99.8</td>\n      <td>253</td>\n      <td>109</td>\n      <td>35</td>\n      <td>29</td>\n      <td>174</td>\n      <td>95</td>\n      <td>135</td>\n      <td>72</td>\n    </tr>\n    <tr>\n      <td>1</td>\n      <td>NaN</td>\n      <td>NaN</td>\n      <td>39476</td>\n      <td>0</td>\n      <td>0</td>\n      <td>0</td>\n      <td>0</td>\n      <td>0</td>\n      <td>2</td>\n      <td>3.1</td>\n      <td>NaN</td>\n      <td>0</td>\n      <td>0.0</td>\n      <td>2</td>\n      <td>False</td>\n      <td>NaN</td>\n      <td>NaT</td>\n      <td>50</td>\n      <td>39476.jpg</td>\n      <td>3.0</td>\n      <td>0.6</td>\n      <td>a</td>\n      <td>1</td>\n      <td>3</td>\n      <td>57</td>\n      <td>...</td>\n      <td>1696</td>\n      <td>2</td>\n      <td>0</td>\n      <td>4</td>\n      <td>25</td>\n      <td>0</td>\n      <td>0</td>\n      <td>0</td>\n      <td>6</td>\n      <td>0</td>\n      <td>0</td>\n      <td>5</td>\n      <td>305</td>\n      <td>436.2</td>\n      <td>36.8</td>\n      <td>110.0</td>\n      <td>58.5</td>\n      <td>144</td>\n      <td>53</td>\n      <td>293</td>\n      <td>105</td>\n      <td>222</td>\n      <td>64</td>\n      <td>233</td>\n      <td>74</td>\n    </tr>\n    <tr>\n      <td>2</td>\n      <td>NaN</td>\n      <td>NaN</td>\n      <td>41270</td>\n      <td>0</td>\n      <td>0</td>\n      <td>0</td>\n      <td>0</td>\n      <td>0</td>\n      <td>2</td>\n      <td>3.5</td>\n      <td>NaN</td>\n      <td>0</td>\n      <td>0.0</td>\n      <td>3</td>\n      <td>False</td>\n      <td>NaN</td>\n      <td>NaT</td>\n      <td>55</td>\n      <td>41270.jpg</td>\n      <td>2.8</td>\n      <td>1.7</td>\n      <td>a</td>\n      <td>1</td>\n      <td>3</td>\n      <td>94</td>\n      <td>...</td>\n      <td>2809</td>\n      <td>2</td>\n      <td>1</td>\n      <td>8</td>\n      <td>42</td>\n      <td>0</td>\n      <td>0</td>\n      <td>0</td>\n      <td>5</td>\n      <td>2</td>\n      <td>0</td>\n      <td>10</td>\n      <td>494</td>\n      <td>701.6</td>\n      <td>106.7</td>\n      <td>211.0</td>\n      <td>102.1</td>\n      <td>50</td>\n      <td>18</td>\n      <td>221</td>\n      <td>61</td>\n      <td>160</td>\n      <td>32</td>\n      <td>130</td>\n      <td>35</td>\n    </tr>\n    <tr>\n      <td>3</td>\n      <td>NaN</td>\n      <td>NaN</td>\n      <td>54694</td>\n      <td>0</td>\n      <td>0</td>\n      <td>0</td>\n      <td>0</td>\n      <td>0</td>\n      <td>3</td>\n      <td>5.0</td>\n      <td>NaN</td>\n      <td>0</td>\n      <td>0.0</td>\n      <td>4</td>\n      <td>False</td>\n      <td>NaN</td>\n      <td>NaT</td>\n      <td>120</td>\n      <td>54694.jpg</td>\n      <td>5.7</td>\n      <td>32.9</td>\n      <td>a</td>\n      <td>1</td>\n      <td>3</td>\n      <td>205</td>\n      <td>...</td>\n      <td>3136</td>\n      <td>22</td>\n      <td>5</td>\n      <td>10</td>\n      <td>44</td>\n      <td>0</td>\n      <td>0</td>\n      <td>0</td>\n      <td>3</td>\n      <td>1</td>\n      <td>0</td>\n      <td>37</td>\n      <td>807</td>\n      <td>1006.0</td>\n      <td>479.6</td>\n      <td>1369.0</td>\n      <td>285.2</td>\n      <td>8</td>\n      <td>4</td>\n      <td>54</td>\n      <td>42</td>\n      <td>9</td>\n      <td>3</td>\n      <td>11</td>\n      <td>7</td>\n    </tr>\n    <tr>\n      <td>4</td>\n      <td>NaN</td>\n      <td>NaN</td>\n      <td>58822</td>\n      <td>0</td>\n      <td>0</td>\n      <td>0</td>\n      <td>0</td>\n      <td>0</td>\n      <td>2</td>\n      <td>3.1</td>\n      <td>NaN</td>\n      <td>0</td>\n      <td>0.0</td>\n      <td>5</td>\n      <td>False</td>\n      <td>NaN</td>\n      <td>NaT</td>\n      <td>50</td>\n      <td>58822.jpg</td>\n      <td>2.9</td>\n      <td>0.4</td>\n      <td>a</td>\n      <td>1</td>\n      <td>3</td>\n      <td>61</td>\n      <td>...</td>\n      <td>1553</td>\n      <td>1</td>\n      <td>1</td>\n      <td>4</td>\n      <td>20</td>\n      <td>0</td>\n      <td>0</td>\n      <td>0</td>\n      <td>1</td>\n      <td>0</td>\n      <td>0</td>\n      <td>3</td>\n      <td>286</td>\n      <td>349.0</td>\n      <td>218.9</td>\n      <td>118.0</td>\n      <td>68.7</td>\n      <td>182</td>\n      <td>68</td>\n      <td>158</td>\n      <td>34</td>\n      <td>221</td>\n      <td>63</td>\n      <td>201</td>\n      <td>59</td>\n    </tr>\n  </tbody>\n</table>\n<p>5 rows × 55 columns</p>\n</div>"
     },
     "metadata": {},
     "execution_count": 13
    }
   ],
   "source": [
    "all_players.head()"
   ]
  },
  {
   "cell_type": "code",
   "execution_count": 14,
   "metadata": {},
   "outputs": [],
   "source": [
    "all_players['PP90'] = np.divide(all_players['total_points'] , all_players['minutes'])*90 "
   ]
  },
  {
   "cell_type": "code",
   "execution_count": 15,
   "metadata": {},
   "outputs": [],
   "source": [
    "all_players['PPMM'] = np.divide(all_players['PPG'] , all_players['now_cost']/10)"
   ]
  },
  {
   "cell_type": "code",
   "execution_count": 16,
   "metadata": {},
   "outputs": [],
   "source": [
    "all_players['VAPM'] = np.divide(all_players['PPG']-2 , all_players['now_cost']/10)"
   ]
  },
  {
   "cell_type": "code",
   "execution_count": 17,
   "metadata": {},
   "outputs": [
    {
     "output_type": "execute_result",
     "data": {
      "text/plain": "             web_name  player_type_id  total_points  minutes      PP90  PPG      PPMM      VAPM\n302         Fernandes               3           117     1187  8.871104  8.4  0.800000  0.609524\n104            Alonso               2           100     1429  6.298111  5.6  0.933333  0.600000\n387            Lloris               1            98     1808  4.878319  4.7  0.854545  0.490909\n259  Alexander-Arnold               2           210     3173  5.956508  5.5  0.733333  0.466667\n303           Martial               4           200     2625  6.857143  6.2  0.688889  0.466667",
      "text/html": "<div>\n<style scoped>\n    .dataframe tbody tr th:only-of-type {\n        vertical-align: middle;\n    }\n\n    .dataframe tbody tr th {\n        vertical-align: top;\n    }\n\n    .dataframe thead th {\n        text-align: right;\n    }\n</style>\n<table border=\"1\" class=\"dataframe\">\n  <thead>\n    <tr style=\"text-align: right;\">\n      <th></th>\n      <th>web_name</th>\n      <th>player_type_id</th>\n      <th>total_points</th>\n      <th>minutes</th>\n      <th>PP90</th>\n      <th>PPG</th>\n      <th>PPMM</th>\n      <th>VAPM</th>\n    </tr>\n  </thead>\n  <tbody>\n    <tr>\n      <td>302</td>\n      <td>Fernandes</td>\n      <td>3</td>\n      <td>117</td>\n      <td>1187</td>\n      <td>8.871104</td>\n      <td>8.4</td>\n      <td>0.800000</td>\n      <td>0.609524</td>\n    </tr>\n    <tr>\n      <td>104</td>\n      <td>Alonso</td>\n      <td>2</td>\n      <td>100</td>\n      <td>1429</td>\n      <td>6.298111</td>\n      <td>5.6</td>\n      <td>0.933333</td>\n      <td>0.600000</td>\n    </tr>\n    <tr>\n      <td>387</td>\n      <td>Lloris</td>\n      <td>1</td>\n      <td>98</td>\n      <td>1808</td>\n      <td>4.878319</td>\n      <td>4.7</td>\n      <td>0.854545</td>\n      <td>0.490909</td>\n    </tr>\n    <tr>\n      <td>259</td>\n      <td>Alexander-Arnold</td>\n      <td>2</td>\n      <td>210</td>\n      <td>3173</td>\n      <td>5.956508</td>\n      <td>5.5</td>\n      <td>0.733333</td>\n      <td>0.466667</td>\n    </tr>\n    <tr>\n      <td>303</td>\n      <td>Martial</td>\n      <td>4</td>\n      <td>200</td>\n      <td>2625</td>\n      <td>6.857143</td>\n      <td>6.2</td>\n      <td>0.688889</td>\n      <td>0.466667</td>\n    </tr>\n  </tbody>\n</table>\n</div>"
     },
     "metadata": {},
     "execution_count": 17
    }
   ],
   "source": [
    "all_players[['web_name' , 'player_type_id', 'total_points' , 'minutes' , 'PP90' , 'PPG' , 'PPMM' , 'VAPM']][all_players['minutes']>1000].sort_values(by='VAPM' , ascending = False).head()"
   ]
  },
  {
   "cell_type": "markdown",
   "metadata": {},
   "source": [
    "## Save cleaned data"
   ]
  },
  {
   "cell_type": "code",
   "execution_count": 18,
   "metadata": {},
   "outputs": [],
   "source": [
    "all_players.to_csv (r'./data/' + season + '/Cleaned_data/all_players.csv', index = False, header=True)\n",
    "all_teams.to_csv (r'./data/' + season + '/Cleaned_data/all_teams.csv', index = False, header = True)\n",
    "all_events.to_csv (r'./data/' + season + '/Cleaned_data/all_events.csv', index = False, header = True)\n",
    "player_types.to_csv(r'./data/' + season + '/Cleaned_data/player_types.csv', index = False, header = True)\n",
    "game_phases.to_csv(r'./data/' + season + '/Cleaned_data/game_phases.csv', index = False, header = True)\n",
    "\n",
    "player_season_history.to_csv (r'./data/' + season + '/Cleaned_data/player_season_history.csv', index = False, header=True)\n",
    "player_gameweek_history.to_csv (r'./data/' + season + '/Cleaned_data/player_gameweek_history.csv', index = False, header=True)\n",
    "player_future_fixture.to_csv (r'./data/' + season + '/Cleaned_data/player_future_fixture.csv', index = False, header=True)"
   ]
  },
  {
   "cell_type": "code",
   "execution_count": null,
   "metadata": {},
   "outputs": [],
   "source": []
  },
  {
   "cell_type": "code",
   "execution_count": null,
   "metadata": {},
   "outputs": [],
   "source": []
  }
 ]
}