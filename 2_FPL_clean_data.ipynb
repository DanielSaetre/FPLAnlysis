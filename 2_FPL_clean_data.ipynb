{
 "metadata": {
  "language_info": {
   "codemirror_mode": {
    "name": "ipython",
    "version": 3
   },
   "file_extension": ".py",
   "mimetype": "text/x-python",
   "name": "python",
   "nbconvert_exporter": "python",
   "pygments_lexer": "ipython3",
   "version": "3.8.3-final"
  },
  "orig_nbformat": 2,
  "kernelspec": {
   "name": "python_defaultSpec_1600880269829",
   "display_name": "Python 3.7.4 64-bit ('base': conda)"
  }
 },
 "nbformat": 4,
 "nbformat_minor": 2,
 "cells": [
  {
   "cell_type": "code",
   "execution_count": 52,
   "metadata": {},
   "outputs": [],
   "source": [
    "import numpy as np\n",
    "import pandas as pd\n",
    "import requests\n",
    "from datetime import datetime\n",
    "import json\n",
    "\n",
    "#Set Display options\n",
    "pd.set_option('display.max_rows', 50)\n",
    "pd.set_option('display.max_columns', 50)\n",
    "pd.set_option('display.width' , 1000)"
   ]
  },
  {
   "cell_type": "code",
   "execution_count": 53,
   "metadata": {},
   "outputs": [],
   "source": [
    "# Variables\n",
    "season = \"2020-21\""
   ]
  },
  {
   "cell_type": "code",
   "execution_count": 54,
   "metadata": {},
   "outputs": [],
   "source": [
    "all_players = pd.read_csv (r'./data/' + season + '/Raw_data/all_players.csv', parse_dates= [\"news_added\"])\n",
    "all_teams = pd.read_csv (r'./data/' + season + '/Raw_data/all_teams.csv')\n",
    "all_events = pd.read_csv (r'./data/' + season + '/Raw_data/all_events.csv', parse_dates= [\"deadline_time\"])\n",
    "player_types = pd.read_csv(r'./data/' + season + '/Raw_data/player_types.csv')\n",
    "game_phases = pd.read_csv(r'./data/' + season + '/Raw_data/game_phases.csv')\n",
    "\n",
    "player_season_history = pd.read_csv(r'./data/' + season + '/Raw_data/player_season_history.csv')\n",
    "player_gameweek_history = pd.read_csv(r'./data/' + season + '/Raw_data/player_gameweek_history.csv')\n",
    "#player_gameweek_history = pd.read_csv(r'./data/2019-20/player_past_history/player_gameweek_history_raw.csv')\n",
    "player_future_fixture = pd.read_csv(r'./data/' + season + '/Raw_data/player_future_fixture.csv', parse_dates = [\"kickoff_time\"])\n",
    "\n"
   ]
  },
  {
   "cell_type": "markdown",
   "metadata": {},
   "source": [
    "## Rename columns"
   ]
  },
  {
   "cell_type": "code",
   "execution_count": 56,
   "metadata": {},
   "outputs": [
    {
     "output_type": "execute_result",
     "data": {
      "text/plain": "   element  fixture  opponent_team  total_points  was_home          kickoff_time  team_h_score  team_a_score  round  minutes  goals_scored  assists  clean_sheets  goals_conceded  own_goals  penalties_saved  penalties_missed  yellow_cards  red_cards  saves  bonus  bps  influence  creativity  threat  ict_index  value  transfers_balance  selected  transfers_in  transfers_out\n0        1        2              8             0     False  2020-09-12T11:30:00Z             0             3      1        0             0        0             0               0          0                0                 0             0          0      0      0    0        0.0         0.0     0.0        0.0     70                  0     76656             0              0\n1        1        9             19             0      True  2020-09-19T19:00:00Z             2             1      2        0             0        0             0               0          0                0                 0             0          0      0      0    0        0.0         0.0     0.0        0.0     69             -16828     68335           995          17823\n2        2        2              8             0     False  2020-09-12T11:30:00Z             0             3      1        0             0        0             0               0          0                0                 0             0          0      0      0    0        0.0         0.0     0.0        0.0     50                  0     12184             0              0\n3        2        9             19             0      True  2020-09-19T19:00:00Z             2             1      2        0             0        0             0               0          0                0                 0             0          0      0      0    0        0.0         0.0     0.0        0.0     50              -4015      8234            51           4066\n4        3        2              8             0     False  2020-09-12T11:30:00Z             0             3      1        0             0        0             0               0          0                0                 0             0          0      0      0    0        0.0         0.0     0.0        0.0     55                  0     69564             0              0",
      "text/html": "<div>\n<style scoped>\n    .dataframe tbody tr th:only-of-type {\n        vertical-align: middle;\n    }\n\n    .dataframe tbody tr th {\n        vertical-align: top;\n    }\n\n    .dataframe thead th {\n        text-align: right;\n    }\n</style>\n<table border=\"1\" class=\"dataframe\">\n  <thead>\n    <tr style=\"text-align: right;\">\n      <th></th>\n      <th>element</th>\n      <th>fixture</th>\n      <th>opponent_team</th>\n      <th>total_points</th>\n      <th>was_home</th>\n      <th>kickoff_time</th>\n      <th>team_h_score</th>\n      <th>team_a_score</th>\n      <th>round</th>\n      <th>minutes</th>\n      <th>goals_scored</th>\n      <th>assists</th>\n      <th>clean_sheets</th>\n      <th>goals_conceded</th>\n      <th>own_goals</th>\n      <th>penalties_saved</th>\n      <th>penalties_missed</th>\n      <th>yellow_cards</th>\n      <th>red_cards</th>\n      <th>saves</th>\n      <th>bonus</th>\n      <th>bps</th>\n      <th>influence</th>\n      <th>creativity</th>\n      <th>threat</th>\n      <th>ict_index</th>\n      <th>value</th>\n      <th>transfers_balance</th>\n      <th>selected</th>\n      <th>transfers_in</th>\n      <th>transfers_out</th>\n    </tr>\n  </thead>\n  <tbody>\n    <tr>\n      <th>0</th>\n      <td>1</td>\n      <td>2</td>\n      <td>8</td>\n      <td>0</td>\n      <td>False</td>\n      <td>2020-09-12T11:30:00Z</td>\n      <td>0</td>\n      <td>3</td>\n      <td>1</td>\n      <td>0</td>\n      <td>0</td>\n      <td>0</td>\n      <td>0</td>\n      <td>0</td>\n      <td>0</td>\n      <td>0</td>\n      <td>0</td>\n      <td>0</td>\n      <td>0</td>\n      <td>0</td>\n      <td>0</td>\n      <td>0</td>\n      <td>0.0</td>\n      <td>0.0</td>\n      <td>0.0</td>\n      <td>0.0</td>\n      <td>70</td>\n      <td>0</td>\n      <td>76656</td>\n      <td>0</td>\n      <td>0</td>\n    </tr>\n    <tr>\n      <th>1</th>\n      <td>1</td>\n      <td>9</td>\n      <td>19</td>\n      <td>0</td>\n      <td>True</td>\n      <td>2020-09-19T19:00:00Z</td>\n      <td>2</td>\n      <td>1</td>\n      <td>2</td>\n      <td>0</td>\n      <td>0</td>\n      <td>0</td>\n      <td>0</td>\n      <td>0</td>\n      <td>0</td>\n      <td>0</td>\n      <td>0</td>\n      <td>0</td>\n      <td>0</td>\n      <td>0</td>\n      <td>0</td>\n      <td>0</td>\n      <td>0.0</td>\n      <td>0.0</td>\n      <td>0.0</td>\n      <td>0.0</td>\n      <td>69</td>\n      <td>-16828</td>\n      <td>68335</td>\n      <td>995</td>\n      <td>17823</td>\n    </tr>\n    <tr>\n      <th>2</th>\n      <td>2</td>\n      <td>2</td>\n      <td>8</td>\n      <td>0</td>\n      <td>False</td>\n      <td>2020-09-12T11:30:00Z</td>\n      <td>0</td>\n      <td>3</td>\n      <td>1</td>\n      <td>0</td>\n      <td>0</td>\n      <td>0</td>\n      <td>0</td>\n      <td>0</td>\n      <td>0</td>\n      <td>0</td>\n      <td>0</td>\n      <td>0</td>\n      <td>0</td>\n      <td>0</td>\n      <td>0</td>\n      <td>0</td>\n      <td>0.0</td>\n      <td>0.0</td>\n      <td>0.0</td>\n      <td>0.0</td>\n      <td>50</td>\n      <td>0</td>\n      <td>12184</td>\n      <td>0</td>\n      <td>0</td>\n    </tr>\n    <tr>\n      <th>3</th>\n      <td>2</td>\n      <td>9</td>\n      <td>19</td>\n      <td>0</td>\n      <td>True</td>\n      <td>2020-09-19T19:00:00Z</td>\n      <td>2</td>\n      <td>1</td>\n      <td>2</td>\n      <td>0</td>\n      <td>0</td>\n      <td>0</td>\n      <td>0</td>\n      <td>0</td>\n      <td>0</td>\n      <td>0</td>\n      <td>0</td>\n      <td>0</td>\n      <td>0</td>\n      <td>0</td>\n      <td>0</td>\n      <td>0</td>\n      <td>0.0</td>\n      <td>0.0</td>\n      <td>0.0</td>\n      <td>0.0</td>\n      <td>50</td>\n      <td>-4015</td>\n      <td>8234</td>\n      <td>51</td>\n      <td>4066</td>\n    </tr>\n    <tr>\n      <th>4</th>\n      <td>3</td>\n      <td>2</td>\n      <td>8</td>\n      <td>0</td>\n      <td>False</td>\n      <td>2020-09-12T11:30:00Z</td>\n      <td>0</td>\n      <td>3</td>\n      <td>1</td>\n      <td>0</td>\n      <td>0</td>\n      <td>0</td>\n      <td>0</td>\n      <td>0</td>\n      <td>0</td>\n      <td>0</td>\n      <td>0</td>\n      <td>0</td>\n      <td>0</td>\n      <td>0</td>\n      <td>0</td>\n      <td>0</td>\n      <td>0.0</td>\n      <td>0.0</td>\n      <td>0.0</td>\n      <td>0.0</td>\n      <td>55</td>\n      <td>0</td>\n      <td>69564</td>\n      <td>0</td>\n      <td>0</td>\n    </tr>\n  </tbody>\n</table>\n</div>"
     },
     "metadata": {},
     "execution_count": 56
    }
   ],
   "source": [
    "player_gameweek_history.head()"
   ]
  },
  {
   "cell_type": "code",
   "execution_count": 57,
   "metadata": {},
   "outputs": [],
   "source": [
    "player_gameweek_history.rename(columns = {\"element\" : \"player_id\" , \"opponent_team\" : \"opponent_team_id\" , \"fixture\" : \"fixture_id\" } , inplace = True)\n",
    "all_players.rename(columns = {\"code\" : \"player_code\", \"element_type\" : \"player_type_id\" , \"id\" : \"player_id\" , \"team\" : \"team_id\" , \"points_per_game\" : \"PPG\"} , inplace=True)\n",
    "all_teams.rename(columns = {\"id\" : \"team_id\" , \"code\" : \"team_code\" , \"name\" : \"team_name\" , \"short_name\" : \"team_short_name\"} , inplace = True)\n",
    "all_events.rename(columns = {\"id\" : \"gameweek_id\"} , inplace = True)\n",
    "player_types.rename(columns = {\"id\" : \"player_type_id\" , \"singular_name\" : \"position_name\" , \"singular_name_short\" : \"position_name_short\"} , inplace = True)\n",
    "game_phases.rename(columns = {\"id\" : \"phase_id\"} , inplace = True)\n",
    "player_season_history.rename(columns = {\"element_code\" : \"player_code\"} , inplace = True)\n",
    "player_future_fixture.rename(columns = {\"id\" : \"fixture_id\" , \"team_h\" : \"home_team_id\" , \"team_a\" : \"away_team_id\" , \"events\" : \"gameweek_id\" , \"code\" : \"fixture_code\"} , inplace = True)\n",
    "#player_gameweek_history.rename(columns = {} , inplace = True)\n"
   ]
  },
  {
   "cell_type": "markdown",
   "metadata": {},
   "source": [
    "## Drop columns"
   ]
  },
  {
   "cell_type": "code",
   "execution_count": 58,
   "metadata": {},
   "outputs": [
    {
     "output_type": "execute_result",
     "data": {
      "text/plain": "   gameweek_id        name             deadline_time  average_entry_score  finished  data_checked  highest_scoring_entry  deadline_time_epoch  deadline_time_game_offset  highest_score  is_previous  is_current  is_next                                         chip_plays  most_selected  most_transferred_in  top_element           top_element_info  transfers_made  most_captained  most_vice_captained\n0            1  Gameweek 1 2020-09-12 10:00:00+00:00                   50      True          True              4761681.0           1599904800                          0          142.0         True       False    False  [{'chip_name': 'bboost', 'num_played': 112843}...          259.0                  1.0        254.0  {'id': 254, 'points': 20}               0             4.0                  4.0\n1            2  Gameweek 2 2020-09-19 10:00:00+00:00                   59      True          True              6234344.0           1600509600                          0          165.0        False        True    False  [{'chip_name': 'bboost', 'num_played': 94615},...          259.0                302.0        390.0  {'id': 390, 'points': 24}        14637421             4.0                254.0\n2            3  Gameweek 3 2020-09-26 10:00:00+00:00                    0     False         False                    NaN           1601114400                          0            NaN        False       False     True                                                 []            NaN                  NaN          NaN                        NaN               0             NaN                  NaN\n3            4  Gameweek 4 2020-10-03 10:00:00+00:00                    0     False         False                    NaN           1601719200                          0            NaN        False       False    False                                                 []            NaN                  NaN          NaN                        NaN               0             NaN                  NaN\n4            5  Gameweek 5 2020-10-17 12:30:00+00:00                    0     False         False                    NaN           1602937800                          0            NaN        False       False    False                                                 []            NaN                  NaN          NaN                        NaN               0             NaN                  NaN",
      "text/html": "<div>\n<style scoped>\n    .dataframe tbody tr th:only-of-type {\n        vertical-align: middle;\n    }\n\n    .dataframe tbody tr th {\n        vertical-align: top;\n    }\n\n    .dataframe thead th {\n        text-align: right;\n    }\n</style>\n<table border=\"1\" class=\"dataframe\">\n  <thead>\n    <tr style=\"text-align: right;\">\n      <th></th>\n      <th>gameweek_id</th>\n      <th>name</th>\n      <th>deadline_time</th>\n      <th>average_entry_score</th>\n      <th>finished</th>\n      <th>data_checked</th>\n      <th>highest_scoring_entry</th>\n      <th>deadline_time_epoch</th>\n      <th>deadline_time_game_offset</th>\n      <th>highest_score</th>\n      <th>is_previous</th>\n      <th>is_current</th>\n      <th>is_next</th>\n      <th>chip_plays</th>\n      <th>most_selected</th>\n      <th>most_transferred_in</th>\n      <th>top_element</th>\n      <th>top_element_info</th>\n      <th>transfers_made</th>\n      <th>most_captained</th>\n      <th>most_vice_captained</th>\n    </tr>\n  </thead>\n  <tbody>\n    <tr>\n      <th>0</th>\n      <td>1</td>\n      <td>Gameweek 1</td>\n      <td>2020-09-12 10:00:00+00:00</td>\n      <td>50</td>\n      <td>True</td>\n      <td>True</td>\n      <td>4761681.0</td>\n      <td>1599904800</td>\n      <td>0</td>\n      <td>142.0</td>\n      <td>True</td>\n      <td>False</td>\n      <td>False</td>\n      <td>[{'chip_name': 'bboost', 'num_played': 112843}...</td>\n      <td>259.0</td>\n      <td>1.0</td>\n      <td>254.0</td>\n      <td>{'id': 254, 'points': 20}</td>\n      <td>0</td>\n      <td>4.0</td>\n      <td>4.0</td>\n    </tr>\n    <tr>\n      <th>1</th>\n      <td>2</td>\n      <td>Gameweek 2</td>\n      <td>2020-09-19 10:00:00+00:00</td>\n      <td>59</td>\n      <td>True</td>\n      <td>True</td>\n      <td>6234344.0</td>\n      <td>1600509600</td>\n      <td>0</td>\n      <td>165.0</td>\n      <td>False</td>\n      <td>True</td>\n      <td>False</td>\n      <td>[{'chip_name': 'bboost', 'num_played': 94615},...</td>\n      <td>259.0</td>\n      <td>302.0</td>\n      <td>390.0</td>\n      <td>{'id': 390, 'points': 24}</td>\n      <td>14637421</td>\n      <td>4.0</td>\n      <td>254.0</td>\n    </tr>\n    <tr>\n      <th>2</th>\n      <td>3</td>\n      <td>Gameweek 3</td>\n      <td>2020-09-26 10:00:00+00:00</td>\n      <td>0</td>\n      <td>False</td>\n      <td>False</td>\n      <td>NaN</td>\n      <td>1601114400</td>\n      <td>0</td>\n      <td>NaN</td>\n      <td>False</td>\n      <td>False</td>\n      <td>True</td>\n      <td>[]</td>\n      <td>NaN</td>\n      <td>NaN</td>\n      <td>NaN</td>\n      <td>NaN</td>\n      <td>0</td>\n      <td>NaN</td>\n      <td>NaN</td>\n    </tr>\n    <tr>\n      <th>3</th>\n      <td>4</td>\n      <td>Gameweek 4</td>\n      <td>2020-10-03 10:00:00+00:00</td>\n      <td>0</td>\n      <td>False</td>\n      <td>False</td>\n      <td>NaN</td>\n      <td>1601719200</td>\n      <td>0</td>\n      <td>NaN</td>\n      <td>False</td>\n      <td>False</td>\n      <td>False</td>\n      <td>[]</td>\n      <td>NaN</td>\n      <td>NaN</td>\n      <td>NaN</td>\n      <td>NaN</td>\n      <td>0</td>\n      <td>NaN</td>\n      <td>NaN</td>\n    </tr>\n    <tr>\n      <th>4</th>\n      <td>5</td>\n      <td>Gameweek 5</td>\n      <td>2020-10-17 12:30:00+00:00</td>\n      <td>0</td>\n      <td>False</td>\n      <td>False</td>\n      <td>NaN</td>\n      <td>1602937800</td>\n      <td>0</td>\n      <td>NaN</td>\n      <td>False</td>\n      <td>False</td>\n      <td>False</td>\n      <td>[]</td>\n      <td>NaN</td>\n      <td>NaN</td>\n      <td>NaN</td>\n      <td>NaN</td>\n      <td>0</td>\n      <td>NaN</td>\n      <td>NaN</td>\n    </tr>\n  </tbody>\n</table>\n</div>"
     },
     "metadata": {},
     "execution_count": 58
    }
   ],
   "source": [
    "all_events.head(5)"
   ]
  },
  {
   "cell_type": "code",
   "execution_count": 59,
   "metadata": {},
   "outputs": [],
   "source": [
    "all_events.drop(columns = [\"deadline_time_epoch\"] , inplace = True)\n",
    "player_types.drop(columns = [\"plural_name\" , \"plural_name_short\"] , inplace = True)\n",
    "all_players.drop(columns = [\"squad_number\" , \"special\" , \"transfers_in\" , \"transfers_out\" , \"first_name\" , \"second_name\"] , inplace = True)"
   ]
  },
  {
   "cell_type": "markdown",
   "metadata": {},
   "source": [
    "## Change date columns"
   ]
  },
  {
   "cell_type": "code",
   "execution_count": 60,
   "metadata": {},
   "outputs": [],
   "source": [
    "all_players['news_added'] = all_players['news_added'].dt.tz_localize(None)\n",
    "all_events['deadline_time'] = all_events['deadline_time'].dt.tz_localize(None)\n",
    "player_future_fixture['kickoff_time'] = player_future_fixture['kickoff_time'].dt.tz_localize(None)\n",
    "\n",
    "player_gameweek_history['kickoff_time'] = pd.to_datetime(player_gameweek_history['kickoff_time'])\n",
    "player_gameweek_history['kickoff_time'] = player_gameweek_history['kickoff_time'].dt.tz_localize(None)"
   ]
  },
  {
   "cell_type": "markdown",
   "metadata": {},
   "source": [
    "\n",
    "## Add Columns"
   ]
  },
  {
   "cell_type": "code",
   "execution_count": 61,
   "metadata": {},
   "outputs": [
    {
     "output_type": "execute_result",
     "data": {
      "text/plain": "   fixture_id  fixture_code  home_team_id  team_h_score  away_team_id  team_a_score  event  finished  minutes  provisional_start_time        kickoff_time  event_name  is_home  difficulty  player_id\n0          23       2128310            11           NaN             1           NaN    3.0     False        0                   False 2020-09-28 19:00:00  Gameweek 3    False           5          1\n1          29       2128316             1           NaN            15           NaN    4.0     False        0                   False 2020-10-04 13:00:00  Gameweek 4     True           3          1\n2          44       2128331            12           NaN             1           NaN    5.0     False        0                   False 2020-10-17 14:00:00  Gameweek 5    False           5          1\n3          49       2128336             1           NaN             9           NaN    6.0     False        0                   False 2020-10-24 14:00:00  Gameweek 6     True           3          1\n4          64       2128351            13           NaN             1           NaN    7.0     False        0                   False 2020-10-31 15:00:00  Gameweek 7    False           4          1",
      "text/html": "<div>\n<style scoped>\n    .dataframe tbody tr th:only-of-type {\n        vertical-align: middle;\n    }\n\n    .dataframe tbody tr th {\n        vertical-align: top;\n    }\n\n    .dataframe thead th {\n        text-align: right;\n    }\n</style>\n<table border=\"1\" class=\"dataframe\">\n  <thead>\n    <tr style=\"text-align: right;\">\n      <th></th>\n      <th>fixture_id</th>\n      <th>fixture_code</th>\n      <th>home_team_id</th>\n      <th>team_h_score</th>\n      <th>away_team_id</th>\n      <th>team_a_score</th>\n      <th>event</th>\n      <th>finished</th>\n      <th>minutes</th>\n      <th>provisional_start_time</th>\n      <th>kickoff_time</th>\n      <th>event_name</th>\n      <th>is_home</th>\n      <th>difficulty</th>\n      <th>player_id</th>\n    </tr>\n  </thead>\n  <tbody>\n    <tr>\n      <th>0</th>\n      <td>23</td>\n      <td>2128310</td>\n      <td>11</td>\n      <td>NaN</td>\n      <td>1</td>\n      <td>NaN</td>\n      <td>3.0</td>\n      <td>False</td>\n      <td>0</td>\n      <td>False</td>\n      <td>2020-09-28 19:00:00</td>\n      <td>Gameweek 3</td>\n      <td>False</td>\n      <td>5</td>\n      <td>1</td>\n    </tr>\n    <tr>\n      <th>1</th>\n      <td>29</td>\n      <td>2128316</td>\n      <td>1</td>\n      <td>NaN</td>\n      <td>15</td>\n      <td>NaN</td>\n      <td>4.0</td>\n      <td>False</td>\n      <td>0</td>\n      <td>False</td>\n      <td>2020-10-04 13:00:00</td>\n      <td>Gameweek 4</td>\n      <td>True</td>\n      <td>3</td>\n      <td>1</td>\n    </tr>\n    <tr>\n      <th>2</th>\n      <td>44</td>\n      <td>2128331</td>\n      <td>12</td>\n      <td>NaN</td>\n      <td>1</td>\n      <td>NaN</td>\n      <td>5.0</td>\n      <td>False</td>\n      <td>0</td>\n      <td>False</td>\n      <td>2020-10-17 14:00:00</td>\n      <td>Gameweek 5</td>\n      <td>False</td>\n      <td>5</td>\n      <td>1</td>\n    </tr>\n    <tr>\n      <th>3</th>\n      <td>49</td>\n      <td>2128336</td>\n      <td>1</td>\n      <td>NaN</td>\n      <td>9</td>\n      <td>NaN</td>\n      <td>6.0</td>\n      <td>False</td>\n      <td>0</td>\n      <td>False</td>\n      <td>2020-10-24 14:00:00</td>\n      <td>Gameweek 6</td>\n      <td>True</td>\n      <td>3</td>\n      <td>1</td>\n    </tr>\n    <tr>\n      <th>4</th>\n      <td>64</td>\n      <td>2128351</td>\n      <td>13</td>\n      <td>NaN</td>\n      <td>1</td>\n      <td>NaN</td>\n      <td>7.0</td>\n      <td>False</td>\n      <td>0</td>\n      <td>False</td>\n      <td>2020-10-31 15:00:00</td>\n      <td>Gameweek 7</td>\n      <td>False</td>\n      <td>4</td>\n      <td>1</td>\n    </tr>\n  </tbody>\n</table>\n</div>"
     },
     "metadata": {},
     "execution_count": 61
    }
   ],
   "source": [
    "player_future_fixture.head()"
   ]
  },
  {
   "cell_type": "code",
   "execution_count": 62,
   "metadata": {},
   "outputs": [],
   "source": [
    "def opponent_team(row):\n",
    "    if row['is_home'] == True:\n",
    "        val = row['away_team_id']\n",
    "    elif row['is_home'] == False:\n",
    "        val = row['home_team_id']\n",
    "    return val\n",
    "\n",
    "def team(row):\n",
    "    if row['is_home'] == False:\n",
    "        val = row['away_team_id']\n",
    "    elif row['is_home'] == True:\n",
    "        val = row['home_team_id']\n",
    "    return val\n",
    "\n",
    "\n",
    "player_future_fixture['opponent_team_id'] = player_future_fixture.apply(opponent_team,axis=1)\n",
    "player_future_fixture['team_id'] = player_future_fixture.apply(team,axis=1)\n"
   ]
  },
  {
   "cell_type": "markdown",
   "metadata": {},
   "source": [
    "## Calculate New Columns"
   ]
  },
  {
   "cell_type": "code",
   "execution_count": 64,
   "metadata": {},
   "outputs": [
    {
     "output_type": "execute_result",
     "data": {
      "text/plain": "Index(['chance_of_playing_next_round', 'chance_of_playing_this_round', 'player_code', 'cost_change_event', 'cost_change_event_fall', 'cost_change_start', 'cost_change_start_fall', 'dreamteam_count', 'player_type_id', 'ep_next', 'ep_this', 'event_points', 'form', 'player_id', 'in_dreamteam', 'news', 'news_added', 'now_cost', 'photo', 'PPG', 'selected_by_percent', 'status', 'team_id', 'team_code', 'total_points', 'transfers_in_event', 'transfers_out_event', 'value_form', 'value_season', 'web_name', 'minutes', 'goals_scored', 'assists', 'clean_sheets', 'goals_conceded', 'own_goals', 'penalties_saved', 'penalties_missed', 'yellow_cards', 'red_cards', 'saves', 'bonus', 'bps', 'influence', 'creativity', 'threat', 'ict_index', 'influence_rank', 'influence_rank_type', 'creativity_rank', 'creativity_rank_type', 'threat_rank', 'threat_rank_type', 'ict_index_rank', 'ict_index_rank_type', 'corners_and_indirect_freekicks_order', 'corners_and_indirect_freekicks_text', 'direct_freekicks_order',\n       'direct_freekicks_text', 'penalties_order', 'penalties_text'],\n      dtype='object')"
     },
     "metadata": {},
     "execution_count": 64
    }
   ],
   "source": [
    "all_players.columns"
   ]
  },
  {
   "cell_type": "code",
   "execution_count": 65,
   "metadata": {},
   "outputs": [
    {
     "output_type": "execute_result",
     "data": {
      "text/plain": "   chance_of_playing_next_round  chance_of_playing_this_round  player_code  cost_change_event  cost_change_event_fall  cost_change_start  cost_change_start_fall  dreamteam_count  player_type_id  ep_next  ep_this  event_points  form  player_id  in_dreamteam                                 news                 news_added  now_cost      photo  PPG  selected_by_percent status  team_id  team_code  total_points  ...  penalties_saved  penalties_missed  yellow_cards  red_cards saves  bonus  bps  influence  creativity  threat  ict_index  influence_rank  influence_rank_type  creativity_rank  creativity_rank_type  threat_rank  threat_rank_type  ict_index_rank  ict_index_rank_type  corners_and_indirect_freekicks_order  corners_and_indirect_freekicks_text  direct_freekicks_order  direct_freekicks_text  penalties_order  penalties_text\n0                           NaN                           NaN        37605                  0                       0                 -1                       1                0               3     -0.5      0.5             0   0.0          1         False                                  NaN                        NaT        69  37605.jpg  0.0                  0.9      a        1          3             0  ...                0                 0             0          0     0      0    0        0.0         0.0     0.0        0.0             536                  217              537                   219          534               215             537                  218                                   4.0                                  NaN                     NaN                    NaN              NaN             NaN\n1                          75.0                           0.0        39476                 -1                       1                 -1                       1                0               2     -0.4      0.0             0   0.0          2         False  Calf injury - 75% chance of playing 2020-09-11 11:00:08.600094        49  39476.jpg  0.0                  0.1      d        1          3             0  ...                0                 0             0          0     0      0    0        0.0         0.0     0.0        0.0             419                  165              411                   165          375               154             426                  165                                   NaN                                  NaN                     NaN                    NaN              NaN             NaN\n2                         100.0                         100.0        41270                  0                       0                  0                       0                0               2      0.0      1.0             1   0.5          3         False                                  NaN 2020-09-10 14:30:11.632386        55  41270.jpg  1.0                  0.9      a        1          3             1  ...                0                 0             0          0     0      0    3        0.0         0.0     0.0        0.0             487                  187              490                   187          475               184             494                  187                                   NaN                                  NaN                     4.0                    NaN              NaN             NaN\n3                           NaN                           NaN        54694                  0                       0                  0                       0                0               3      5.5      6.5             5   6.0          4         False                                  NaN                        NaT       120  54694.jpg  6.0                 36.6      a        1          3            12  ...                0                 0             1          0     0      0   39       64.6        51.7    69.0       18.5              31                   15               19                    15           16                 6              13                    9                                   NaN                                  NaN                     6.0                    NaN              1.0             NaN\n4                          75.0                           NaN        58822                  0                       0                 -1                       1                0               2     -0.4      0.5             0   0.0          5         False  Calf injury - 75% chance of playing 2020-09-23 09:00:14.881983        49  58822.jpg  0.0                  0.4      d        1          3             0  ...                0                 0             0          0     0      0    0        0.0         0.0     0.0        0.0             423                  166              415                   166          380               155             430                  166                                   NaN                                  NaN                     NaN                    NaN              NaN             NaN\n\n[5 rows x 61 columns]",
      "text/html": "<div>\n<style scoped>\n    .dataframe tbody tr th:only-of-type {\n        vertical-align: middle;\n    }\n\n    .dataframe tbody tr th {\n        vertical-align: top;\n    }\n\n    .dataframe thead th {\n        text-align: right;\n    }\n</style>\n<table border=\"1\" class=\"dataframe\">\n  <thead>\n    <tr style=\"text-align: right;\">\n      <th></th>\n      <th>chance_of_playing_next_round</th>\n      <th>chance_of_playing_this_round</th>\n      <th>player_code</th>\n      <th>cost_change_event</th>\n      <th>cost_change_event_fall</th>\n      <th>cost_change_start</th>\n      <th>cost_change_start_fall</th>\n      <th>dreamteam_count</th>\n      <th>player_type_id</th>\n      <th>ep_next</th>\n      <th>ep_this</th>\n      <th>event_points</th>\n      <th>form</th>\n      <th>player_id</th>\n      <th>in_dreamteam</th>\n      <th>news</th>\n      <th>news_added</th>\n      <th>now_cost</th>\n      <th>photo</th>\n      <th>PPG</th>\n      <th>selected_by_percent</th>\n      <th>status</th>\n      <th>team_id</th>\n      <th>team_code</th>\n      <th>total_points</th>\n      <th>...</th>\n      <th>penalties_saved</th>\n      <th>penalties_missed</th>\n      <th>yellow_cards</th>\n      <th>red_cards</th>\n      <th>saves</th>\n      <th>bonus</th>\n      <th>bps</th>\n      <th>influence</th>\n      <th>creativity</th>\n      <th>threat</th>\n      <th>ict_index</th>\n      <th>influence_rank</th>\n      <th>influence_rank_type</th>\n      <th>creativity_rank</th>\n      <th>creativity_rank_type</th>\n      <th>threat_rank</th>\n      <th>threat_rank_type</th>\n      <th>ict_index_rank</th>\n      <th>ict_index_rank_type</th>\n      <th>corners_and_indirect_freekicks_order</th>\n      <th>corners_and_indirect_freekicks_text</th>\n      <th>direct_freekicks_order</th>\n      <th>direct_freekicks_text</th>\n      <th>penalties_order</th>\n      <th>penalties_text</th>\n    </tr>\n  </thead>\n  <tbody>\n    <tr>\n      <th>0</th>\n      <td>NaN</td>\n      <td>NaN</td>\n      <td>37605</td>\n      <td>0</td>\n      <td>0</td>\n      <td>-1</td>\n      <td>1</td>\n      <td>0</td>\n      <td>3</td>\n      <td>-0.5</td>\n      <td>0.5</td>\n      <td>0</td>\n      <td>0.0</td>\n      <td>1</td>\n      <td>False</td>\n      <td>NaN</td>\n      <td>NaT</td>\n      <td>69</td>\n      <td>37605.jpg</td>\n      <td>0.0</td>\n      <td>0.9</td>\n      <td>a</td>\n      <td>1</td>\n      <td>3</td>\n      <td>0</td>\n      <td>...</td>\n      <td>0</td>\n      <td>0</td>\n      <td>0</td>\n      <td>0</td>\n      <td>0</td>\n      <td>0</td>\n      <td>0</td>\n      <td>0.0</td>\n      <td>0.0</td>\n      <td>0.0</td>\n      <td>0.0</td>\n      <td>536</td>\n      <td>217</td>\n      <td>537</td>\n      <td>219</td>\n      <td>534</td>\n      <td>215</td>\n      <td>537</td>\n      <td>218</td>\n      <td>4.0</td>\n      <td>NaN</td>\n      <td>NaN</td>\n      <td>NaN</td>\n      <td>NaN</td>\n      <td>NaN</td>\n    </tr>\n    <tr>\n      <th>1</th>\n      <td>75.0</td>\n      <td>0.0</td>\n      <td>39476</td>\n      <td>-1</td>\n      <td>1</td>\n      <td>-1</td>\n      <td>1</td>\n      <td>0</td>\n      <td>2</td>\n      <td>-0.4</td>\n      <td>0.0</td>\n      <td>0</td>\n      <td>0.0</td>\n      <td>2</td>\n      <td>False</td>\n      <td>Calf injury - 75% chance of playing</td>\n      <td>2020-09-11 11:00:08.600094</td>\n      <td>49</td>\n      <td>39476.jpg</td>\n      <td>0.0</td>\n      <td>0.1</td>\n      <td>d</td>\n      <td>1</td>\n      <td>3</td>\n      <td>0</td>\n      <td>...</td>\n      <td>0</td>\n      <td>0</td>\n      <td>0</td>\n      <td>0</td>\n      <td>0</td>\n      <td>0</td>\n      <td>0</td>\n      <td>0.0</td>\n      <td>0.0</td>\n      <td>0.0</td>\n      <td>0.0</td>\n      <td>419</td>\n      <td>165</td>\n      <td>411</td>\n      <td>165</td>\n      <td>375</td>\n      <td>154</td>\n      <td>426</td>\n      <td>165</td>\n      <td>NaN</td>\n      <td>NaN</td>\n      <td>NaN</td>\n      <td>NaN</td>\n      <td>NaN</td>\n      <td>NaN</td>\n    </tr>\n    <tr>\n      <th>2</th>\n      <td>100.0</td>\n      <td>100.0</td>\n      <td>41270</td>\n      <td>0</td>\n      <td>0</td>\n      <td>0</td>\n      <td>0</td>\n      <td>0</td>\n      <td>2</td>\n      <td>0.0</td>\n      <td>1.0</td>\n      <td>1</td>\n      <td>0.5</td>\n      <td>3</td>\n      <td>False</td>\n      <td>NaN</td>\n      <td>2020-09-10 14:30:11.632386</td>\n      <td>55</td>\n      <td>41270.jpg</td>\n      <td>1.0</td>\n      <td>0.9</td>\n      <td>a</td>\n      <td>1</td>\n      <td>3</td>\n      <td>1</td>\n      <td>...</td>\n      <td>0</td>\n      <td>0</td>\n      <td>0</td>\n      <td>0</td>\n      <td>0</td>\n      <td>0</td>\n      <td>3</td>\n      <td>0.0</td>\n      <td>0.0</td>\n      <td>0.0</td>\n      <td>0.0</td>\n      <td>487</td>\n      <td>187</td>\n      <td>490</td>\n      <td>187</td>\n      <td>475</td>\n      <td>184</td>\n      <td>494</td>\n      <td>187</td>\n      <td>NaN</td>\n      <td>NaN</td>\n      <td>4.0</td>\n      <td>NaN</td>\n      <td>NaN</td>\n      <td>NaN</td>\n    </tr>\n    <tr>\n      <th>3</th>\n      <td>NaN</td>\n      <td>NaN</td>\n      <td>54694</td>\n      <td>0</td>\n      <td>0</td>\n      <td>0</td>\n      <td>0</td>\n      <td>0</td>\n      <td>3</td>\n      <td>5.5</td>\n      <td>6.5</td>\n      <td>5</td>\n      <td>6.0</td>\n      <td>4</td>\n      <td>False</td>\n      <td>NaN</td>\n      <td>NaT</td>\n      <td>120</td>\n      <td>54694.jpg</td>\n      <td>6.0</td>\n      <td>36.6</td>\n      <td>a</td>\n      <td>1</td>\n      <td>3</td>\n      <td>12</td>\n      <td>...</td>\n      <td>0</td>\n      <td>0</td>\n      <td>1</td>\n      <td>0</td>\n      <td>0</td>\n      <td>0</td>\n      <td>39</td>\n      <td>64.6</td>\n      <td>51.7</td>\n      <td>69.0</td>\n      <td>18.5</td>\n      <td>31</td>\n      <td>15</td>\n      <td>19</td>\n      <td>15</td>\n      <td>16</td>\n      <td>6</td>\n      <td>13</td>\n      <td>9</td>\n      <td>NaN</td>\n      <td>NaN</td>\n      <td>6.0</td>\n      <td>NaN</td>\n      <td>1.0</td>\n      <td>NaN</td>\n    </tr>\n    <tr>\n      <th>4</th>\n      <td>75.0</td>\n      <td>NaN</td>\n      <td>58822</td>\n      <td>0</td>\n      <td>0</td>\n      <td>-1</td>\n      <td>1</td>\n      <td>0</td>\n      <td>2</td>\n      <td>-0.4</td>\n      <td>0.5</td>\n      <td>0</td>\n      <td>0.0</td>\n      <td>5</td>\n      <td>False</td>\n      <td>Calf injury - 75% chance of playing</td>\n      <td>2020-09-23 09:00:14.881983</td>\n      <td>49</td>\n      <td>58822.jpg</td>\n      <td>0.0</td>\n      <td>0.4</td>\n      <td>d</td>\n      <td>1</td>\n      <td>3</td>\n      <td>0</td>\n      <td>...</td>\n      <td>0</td>\n      <td>0</td>\n      <td>0</td>\n      <td>0</td>\n      <td>0</td>\n      <td>0</td>\n      <td>0</td>\n      <td>0.0</td>\n      <td>0.0</td>\n      <td>0.0</td>\n      <td>0.0</td>\n      <td>423</td>\n      <td>166</td>\n      <td>415</td>\n      <td>166</td>\n      <td>380</td>\n      <td>155</td>\n      <td>430</td>\n      <td>166</td>\n      <td>NaN</td>\n      <td>NaN</td>\n      <td>NaN</td>\n      <td>NaN</td>\n      <td>NaN</td>\n      <td>NaN</td>\n    </tr>\n  </tbody>\n</table>\n<p>5 rows × 61 columns</p>\n</div>"
     },
     "metadata": {},
     "execution_count": 65
    }
   ],
   "source": [
    "all_players.head()"
   ]
  },
  {
   "cell_type": "code",
   "execution_count": 66,
   "metadata": {},
   "outputs": [],
   "source": [
    "all_players['PP90'] = np.divide(all_players['total_points'] , all_players['minutes'])*90 "
   ]
  },
  {
   "cell_type": "code",
   "execution_count": 67,
   "metadata": {},
   "outputs": [],
   "source": [
    "all_players['PPMM'] = np.divide(all_players['PPG'] , all_players['now_cost']/10)"
   ]
  },
  {
   "cell_type": "code",
   "execution_count": 68,
   "metadata": {},
   "outputs": [],
   "source": [
    "all_players['VAPM'] = np.divide(all_players['PPG']-2 , all_players['now_cost']/10)"
   ]
  },
  {
   "cell_type": "code",
   "execution_count": 75,
   "metadata": {},
   "outputs": [
    {
     "output_type": "execute_result",
     "data": {
      "text/plain": "          web_name  player_type_id  total_points  minutes       PP90   PPG      PPMM      VAPM\n245       Castagne               2            23      180  11.500000  11.5  2.053571  1.696429\n257        Bamford               4            21      130  14.538462  10.5  1.842105  1.491228\n183  Calvert-Lewin               4            25      158  14.240506  12.5  1.736111  1.458333\n260          Costa               3            19      180   9.500000   9.5  1.696429  1.339286\n156           Zaha               3            23      180  11.500000  11.5  1.619718  1.338028",
      "text/html": "<div>\n<style scoped>\n    .dataframe tbody tr th:only-of-type {\n        vertical-align: middle;\n    }\n\n    .dataframe tbody tr th {\n        vertical-align: top;\n    }\n\n    .dataframe thead th {\n        text-align: right;\n    }\n</style>\n<table border=\"1\" class=\"dataframe\">\n  <thead>\n    <tr style=\"text-align: right;\">\n      <th></th>\n      <th>web_name</th>\n      <th>player_type_id</th>\n      <th>total_points</th>\n      <th>minutes</th>\n      <th>PP90</th>\n      <th>PPG</th>\n      <th>PPMM</th>\n      <th>VAPM</th>\n    </tr>\n  </thead>\n  <tbody>\n    <tr>\n      <th>245</th>\n      <td>Castagne</td>\n      <td>2</td>\n      <td>23</td>\n      <td>180</td>\n      <td>11.500000</td>\n      <td>11.5</td>\n      <td>2.053571</td>\n      <td>1.696429</td>\n    </tr>\n    <tr>\n      <th>257</th>\n      <td>Bamford</td>\n      <td>4</td>\n      <td>21</td>\n      <td>130</td>\n      <td>14.538462</td>\n      <td>10.5</td>\n      <td>1.842105</td>\n      <td>1.491228</td>\n    </tr>\n    <tr>\n      <th>183</th>\n      <td>Calvert-Lewin</td>\n      <td>4</td>\n      <td>25</td>\n      <td>158</td>\n      <td>14.240506</td>\n      <td>12.5</td>\n      <td>1.736111</td>\n      <td>1.458333</td>\n    </tr>\n    <tr>\n      <th>260</th>\n      <td>Costa</td>\n      <td>3</td>\n      <td>19</td>\n      <td>180</td>\n      <td>9.500000</td>\n      <td>9.5</td>\n      <td>1.696429</td>\n      <td>1.339286</td>\n    </tr>\n    <tr>\n      <th>156</th>\n      <td>Zaha</td>\n      <td>3</td>\n      <td>23</td>\n      <td>180</td>\n      <td>11.500000</td>\n      <td>11.5</td>\n      <td>1.619718</td>\n      <td>1.338028</td>\n    </tr>\n  </tbody>\n</table>\n</div>"
     },
     "metadata": {},
     "execution_count": 75
    }
   ],
   "source": [
    "all_players[['web_name' , 'player_type_id', 'total_points' , 'minutes' , 'PP90' , 'PPG' , 'PPMM' , 'VAPM']][all_players['minutes']>100].sort_values(by='VAPM' , ascending = False).head()"
   ]
  },
  {
   "cell_type": "markdown",
   "metadata": {},
   "source": [
    "## Save cleaned data"
   ]
  },
  {
   "cell_type": "code",
   "execution_count": 71,
   "metadata": {},
   "outputs": [],
   "source": [
    "all_players.to_csv (r'./data/' + season + '/Cleaned_data/all_players.csv', index = False, header=True)\n",
    "all_teams.to_csv (r'./data/' + season + '/Cleaned_data/all_teams.csv', index = False, header = True)\n",
    "all_events.to_csv (r'./data/' + season + '/Cleaned_data/all_events.csv', index = False, header = True)\n",
    "player_types.to_csv(r'./data/' + season + '/Cleaned_data/player_types.csv', index = False, header = True)\n",
    "game_phases.to_csv(r'./data/' + season + '/Cleaned_data/game_phases.csv', index = False, header = True)\n",
    "\n",
    "player_season_history.to_csv (r'./data/' + season + '/Cleaned_data/player_season_history.csv', index = False, header=True)\n",
    "player_gameweek_history.to_csv (r'./data/' + season + '/Cleaned_data/player_gameweek_history.csv', index = False, header=True)\n",
    "player_future_fixture.to_csv (r'./data/' + season + '/Cleaned_data/player_future_fixture.csv', index = False, header=True)"
   ]
  },
  {
   "cell_type": "code",
   "execution_count": null,
   "metadata": {},
   "outputs": [],
   "source": []
  }
 ]
}